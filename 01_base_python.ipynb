{
 "cells": [
  {
   "cell_type": "markdown",
   "metadata": {
    "deletable": false,
    "editable": false,
    "id": "E0vqbgi9ay0H"
   },
   "source": [
    "# Яндекс.Музыка"
   ]
  },
  {
   "cell_type": "markdown",
   "metadata": {
    "deletable": false,
    "editable": false,
    "id": "VUC88oWjTJw2"
   },
   "source": [
    "Сравнение Москвы и Петербурга окружено мифами. Например:\n",
    " * Москва — мегаполис, подчинённый жёсткому ритму рабочей недели;\n",
    " * Петербург — культурная столица, со своими вкусами.\n",
    "\n",
    "На данных Яндекс Музыки вы сравните поведение пользователей двух столиц.\n",
    "\n",
    "**Цель исследования** — проверьте три гипотезы:\n",
    "1. Активность пользователей зависит от дня недели. Причём в Москве и Петербурге это проявляется по-разному.\n",
    "2. В понедельник утром в Москве преобладают одни жанры, а в Петербурге — другие. Так же и вечером пятницы преобладают разные жанры — в зависимости от города. \n",
    "3. Москва и Петербург предпочитают разные жанры музыки. В Москве чаще слушают поп-музыку, в Петербурге — русский рэп.\n",
    "\n",
    "**Ход исследования**\n",
    "\n",
    "Данные о поведении пользователей вы получите из файла `yandex_music_project.csv`. О качестве данных ничего не известно. Поэтому перед проверкой гипотез понадобится обзор данных. \n",
    "\n",
    "Вы проверите данные на ошибки и оцените их влияние на исследование. Затем, на этапе предобработки вы поищете возможность исправить самые критичные ошибки данных.\n",
    " \n",
    "Таким образом, исследование пройдёт в три этапа:\n",
    " 1. Обзор данных.\n",
    " 2. Предобработка данных.\n",
    " 3. Проверка гипотез.\n",
    "\n"
   ]
  },
  {
   "cell_type": "markdown",
   "metadata": {
    "deletable": false,
    "editable": false,
    "id": "Ml1hmfXC_Zcs"
   },
   "source": [
    "## Обзор данных\n",
    "\n",
    "Составьте первое представление о данных Яндекс Музыки.\n",
    "\n",
    "\n"
   ]
  },
  {
   "cell_type": "markdown",
   "metadata": {
    "deletable": false,
    "editable": false,
    "id": "57eAOGIz_Zcs",
    "tags": [
     "start_task"
    ]
   },
   "source": [
    "**Задание 1**\n",
    "\n",
    "Основной инструмент аналитика — `pandas`. Импортируйте эту библиотеку."
   ]
  },
  {
   "cell_type": "code",
   "execution_count": 1,
   "metadata": {
    "deletable": false,
    "id": "AXN7PHPN_Zcs",
    "ExecuteTime": {
     "end_time": "2024-02-20T17:29:52.905743742Z",
     "start_time": "2024-02-20T17:29:52.247589631Z"
    }
   },
   "outputs": [],
   "source": [
    "# импорт библиотеки pandas\n",
    "import pandas as pd"
   ]
  },
  {
   "cell_type": "markdown",
   "metadata": {
    "deletable": false,
    "editable": false,
    "id": "SG23P8tt_Zcs",
    "tags": [
     "start_task"
    ]
   },
   "source": [
    "**Задание 2**\n",
    "\n",
    "Прочитайте файл `yandex_music_project.csv` из папки `/datasets` и сохраните его в переменной `df`:"
   ]
  },
  {
   "cell_type": "code",
   "execution_count": 2,
   "metadata": {
    "deletable": false,
    "id": "fFVu7vqh_Zct",
    "ExecuteTime": {
     "end_time": "2024-02-20T17:29:53.201681621Z",
     "start_time": "2024-02-20T17:29:52.872095289Z"
    }
   },
   "outputs": [],
   "source": [
    "# чтение файла с данными и сохранение в df\n",
    "try:\n",
    "    df = pd.read_csv('./yandex_music_project.csv')\n",
    "except FileNotFoundError:\n",
    "    print(\"ФАЙЛ НЕ УДАЛОСЬ НАЙТИ ЛОКАЛЬНО, СКАЧИВАЮ ИЗ ОБЛАКА\")\n",
    "    df = pd.read_csv(\"####\")"
   ]
  },
  {
   "cell_type": "markdown",
   "metadata": {
    "deletable": false,
    "editable": false,
    "id": "rDoOMd3uTqnZ",
    "tags": [
     "start_task"
    ]
   },
   "source": [
    "**Задание 3**\n",
    "\n",
    "\n",
    "Выведите на экран первые десять строк таблицы:"
   ]
  },
  {
   "cell_type": "code",
   "execution_count": 3,
   "metadata": {
    "deletable": false,
    "id": "oWTVX3gW_Zct",
    "ExecuteTime": {
     "end_time": "2024-02-20T17:29:53.319572229Z",
     "start_time": "2024-02-20T17:29:53.157234354Z"
    }
   },
   "outputs": [
    {
     "data": {
      "text/plain": "     userID                        Track            artist   genre  \\\n0  FFB692EC            Kamigata To Boots  The Mass Missile    rock   \n1  55204538  Delayed Because of Accident  Andreas Rönnberg    rock   \n2    20EC38            Funiculì funiculà       Mario Lanza     pop   \n3  A3DD03C9        Dragons in the Sunset        Fire + Ice    folk   \n4  E2DC1FAE                  Soul People        Space Echo   dance   \n5  842029A1                    Преданная         IMPERVTOR  rusrap   \n6  4CB90AA5                         True      Roman Messer   dance   \n7  F03E1C1F             Feeling This Way   Polina Griffith   dance   \n8  8FA1D3BE     И вновь продолжается бой               NaN  ruspop   \n9  E772D5C0                    Pessimist               NaN   dance   \n\n             City        time        Day  \n0  Saint-Petersburg  20:28:33  Wednesday  \n1            Moscow  14:07:09     Friday  \n2  Saint-Petersburg  20:58:07  Wednesday  \n3  Saint-Petersburg  08:37:09     Monday  \n4            Moscow  08:34:34     Monday  \n5  Saint-Petersburg  13:09:41     Friday  \n6            Moscow  13:00:07  Wednesday  \n7            Moscow  20:47:49  Wednesday  \n8            Moscow  09:17:40     Friday  \n9  Saint-Petersburg  21:20:49  Wednesday  ",
      "text/html": "<div>\n<style scoped>\n    .dataframe tbody tr th:only-of-type {\n        vertical-align: middle;\n    }\n\n    .dataframe tbody tr th {\n        vertical-align: top;\n    }\n\n    .dataframe thead th {\n        text-align: right;\n    }\n</style>\n<table border=\"1\" class=\"dataframe\">\n  <thead>\n    <tr style=\"text-align: right;\">\n      <th></th>\n      <th>userID</th>\n      <th>Track</th>\n      <th>artist</th>\n      <th>genre</th>\n      <th>City</th>\n      <th>time</th>\n      <th>Day</th>\n    </tr>\n  </thead>\n  <tbody>\n    <tr>\n      <th>0</th>\n      <td>FFB692EC</td>\n      <td>Kamigata To Boots</td>\n      <td>The Mass Missile</td>\n      <td>rock</td>\n      <td>Saint-Petersburg</td>\n      <td>20:28:33</td>\n      <td>Wednesday</td>\n    </tr>\n    <tr>\n      <th>1</th>\n      <td>55204538</td>\n      <td>Delayed Because of Accident</td>\n      <td>Andreas Rönnberg</td>\n      <td>rock</td>\n      <td>Moscow</td>\n      <td>14:07:09</td>\n      <td>Friday</td>\n    </tr>\n    <tr>\n      <th>2</th>\n      <td>20EC38</td>\n      <td>Funiculì funiculà</td>\n      <td>Mario Lanza</td>\n      <td>pop</td>\n      <td>Saint-Petersburg</td>\n      <td>20:58:07</td>\n      <td>Wednesday</td>\n    </tr>\n    <tr>\n      <th>3</th>\n      <td>A3DD03C9</td>\n      <td>Dragons in the Sunset</td>\n      <td>Fire + Ice</td>\n      <td>folk</td>\n      <td>Saint-Petersburg</td>\n      <td>08:37:09</td>\n      <td>Monday</td>\n    </tr>\n    <tr>\n      <th>4</th>\n      <td>E2DC1FAE</td>\n      <td>Soul People</td>\n      <td>Space Echo</td>\n      <td>dance</td>\n      <td>Moscow</td>\n      <td>08:34:34</td>\n      <td>Monday</td>\n    </tr>\n    <tr>\n      <th>5</th>\n      <td>842029A1</td>\n      <td>Преданная</td>\n      <td>IMPERVTOR</td>\n      <td>rusrap</td>\n      <td>Saint-Petersburg</td>\n      <td>13:09:41</td>\n      <td>Friday</td>\n    </tr>\n    <tr>\n      <th>6</th>\n      <td>4CB90AA5</td>\n      <td>True</td>\n      <td>Roman Messer</td>\n      <td>dance</td>\n      <td>Moscow</td>\n      <td>13:00:07</td>\n      <td>Wednesday</td>\n    </tr>\n    <tr>\n      <th>7</th>\n      <td>F03E1C1F</td>\n      <td>Feeling This Way</td>\n      <td>Polina Griffith</td>\n      <td>dance</td>\n      <td>Moscow</td>\n      <td>20:47:49</td>\n      <td>Wednesday</td>\n    </tr>\n    <tr>\n      <th>8</th>\n      <td>8FA1D3BE</td>\n      <td>И вновь продолжается бой</td>\n      <td>NaN</td>\n      <td>ruspop</td>\n      <td>Moscow</td>\n      <td>09:17:40</td>\n      <td>Friday</td>\n    </tr>\n    <tr>\n      <th>9</th>\n      <td>E772D5C0</td>\n      <td>Pessimist</td>\n      <td>NaN</td>\n      <td>dance</td>\n      <td>Saint-Petersburg</td>\n      <td>21:20:49</td>\n      <td>Wednesday</td>\n    </tr>\n  </tbody>\n</table>\n</div>"
     },
     "execution_count": 3,
     "metadata": {},
     "output_type": "execute_result"
    }
   ],
   "source": [
    "# получение первых 10 строк таблицы df\n",
    "df.head(10)"
   ]
  },
  {
   "cell_type": "markdown",
   "metadata": {
    "deletable": false,
    "editable": false,
    "id": "EO73Kwic_Zct",
    "tags": [
     "start_task"
    ]
   },
   "source": [
    "**Задание 4**\n",
    "\n",
    "\n",
    "Одной командой получить общую информацию о таблице c помощью метода `info()`:"
   ]
  },
  {
   "cell_type": "code",
   "execution_count": 4,
   "metadata": {
    "deletable": false,
    "id": "DSf2kIb-_Zct",
    "ExecuteTime": {
     "end_time": "2024-02-20T17:29:53.414056345Z",
     "start_time": "2024-02-20T17:29:53.213315332Z"
    }
   },
   "outputs": [
    {
     "name": "stdout",
     "output_type": "stream",
     "text": [
      "<class 'pandas.core.frame.DataFrame'>\n",
      "RangeIndex: 65079 entries, 0 to 65078\n",
      "Data columns (total 7 columns):\n",
      " #   Column    Non-Null Count  Dtype \n",
      "---  ------    --------------  ----- \n",
      " 0     userID  65079 non-null  object\n",
      " 1   Track     63848 non-null  object\n",
      " 2   artist    57876 non-null  object\n",
      " 3   genre     63881 non-null  object\n",
      " 4     City    65079 non-null  object\n",
      " 5   time      65079 non-null  object\n",
      " 6   Day       65079 non-null  object\n",
      "dtypes: object(7)\n",
      "memory usage: 3.5+ MB\n"
     ]
    }
   ],
   "source": [
    "# получение общей информации о данных в таблице df\n",
    "df.info()"
   ]
  },
  {
   "cell_type": "markdown",
   "metadata": {
    "deletable": false,
    "editable": false,
    "id": "TaQ2Iwbr_Zct"
   },
   "source": [
    "Итак, в таблице семь столбцов. Тип данных во всех столбцах — `object`.\n",
    "\n",
    "Согласно документации к данным:\n",
    "* `userID` — идентификатор пользователя;\n",
    "* `Track` — название трека;  \n",
    "* `artist` — имя исполнителя;\n",
    "* `genre` — название жанра;\n",
    "* `City` — город пользователя;\n",
    "* `time` — время начала прослушивания;\n",
    "* `Day` — день недели.\n",
    "\n",
    "Количество значений в столбцах различается. Значит, в данных есть пропущенные значения."
   ]
  },
  {
   "cell_type": "markdown",
   "metadata": {
    "deletable": false,
    "editable": false,
    "id": "4P0UCWzswgEm",
    "tags": [
     "start_task"
    ]
   },
   "source": [
    "**Задание 5**\n",
    "\n",
    "**Вопрос со свободной формой ответа**\n",
    "\n",
    "В названиях колонок видны три нарушения стиля:\n",
    "1. Строчные буквы сочетаются с прописными.\n",
    "2. Встречаются пробелы."
   ]
  },
  {
   "cell_type": "code",
   "execution_count": 5,
   "metadata": {
    "id": "c137-ZstwgEm",
    "ExecuteTime": {
     "end_time": "2024-02-20T17:29:53.417364212Z",
     "start_time": "2024-02-20T17:29:53.254703651Z"
    }
   },
   "outputs": [],
   "source": [
    "# Неоднозначные названия колонок. Например, из названия не понятно что содержится в колонке time. Время \n",
    "# проигрывания, время входа в систему, общее время прослушивания и.т.д. Хорошо что есть описание столбцов."
   ]
  },
  {
   "cell_type": "markdown",
   "metadata": {
    "deletable": false,
    "editable": false,
    "id": "MCB6-dXG_Zct"
   },
   "source": [
    "**Выводы**\n",
    "\n",
    "В каждой строке таблицы — данные о прослушанном треке. Часть колонок описывает саму композицию: название, исполнителя и жанр. Остальные данные рассказывают о пользователе: из какого он города, когда он слушал музыку. \n",
    "\n",
    "Предварительно можно утверждать, что, данных достаточно для проверки гипотез. Но встречаются пропуски в данных, а в названиях колонок — расхождения с хорошим стилем.\n",
    "\n",
    "Чтобы двигаться дальше, нужно устранить проблемы в данных."
   ]
  },
  {
   "cell_type": "markdown",
   "metadata": {
    "deletable": false,
    "editable": false,
    "id": "SjYF6Ub9_Zct"
   },
   "source": [
    "## Предобработка данных\n",
    "Исправьте стиль в заголовках столбцов, исключите пропуски. Затем проверьте данные на дубликаты."
   ]
  },
  {
   "cell_type": "markdown",
   "metadata": {
    "deletable": false,
    "editable": false,
    "id": "dIaKXr29_Zct",
    "tags": [
     "start_task"
    ]
   },
   "source": [
    "### Стиль заголовков\n",
    "\n",
    "**Задание 6**\n",
    "\n",
    "Выведите на экран названия столбцов:"
   ]
  },
  {
   "cell_type": "code",
   "execution_count": 6,
   "metadata": {
    "deletable": false,
    "id": "oKOTdF_Q_Zct",
    "ExecuteTime": {
     "end_time": "2024-02-20T17:29:53.421193067Z",
     "start_time": "2024-02-20T17:29:53.255400255Z"
    }
   },
   "outputs": [
    {
     "data": {
      "text/plain": "Index(['  userID', 'Track', 'artist', 'genre', '  City  ', 'time', 'Day'], dtype='object')"
     },
     "execution_count": 6,
     "metadata": {},
     "output_type": "execute_result"
    }
   ],
   "source": [
    "# перечень названий столбцов таблицы df\n",
    "df.columns"
   ]
  },
  {
   "cell_type": "markdown",
   "metadata": {
    "deletable": false,
    "editable": false,
    "id": "zj5534cv_Zct",
    "tags": [
     "start_task"
    ]
   },
   "source": [
    "**Задание 7**\n",
    "\n",
    "\n",
    "Приведите названия в соответствие с хорошим стилем:\n",
    "* несколько слов в названии запишите в «змеином_регистре»,\n",
    "* все символы сделайте строчными,\n",
    "* устраните пробелы.\n",
    "\n",
    "Для этого переименуйте колонки так:\n",
    "* `'  userID'` → `'user_id'`;\n",
    "* `'Track'` → `'track'`;\n",
    "* `'  City  '` → `'city'`;\n",
    "* `'Day'` → `'day'`."
   ]
  },
  {
   "cell_type": "code",
   "execution_count": 7,
   "metadata": {
    "deletable": false,
    "id": "ISlFqs5y_Zct",
    "ExecuteTime": {
     "end_time": "2024-02-20T17:29:53.433726281Z",
     "start_time": "2024-02-20T17:29:53.256344966Z"
    }
   },
   "outputs": [],
   "source": [
    "# переименование столбцов\n",
    "df.rename(\n",
    "    columns = {\n",
    "       '  userID':  'user_id',\n",
    "        'Track': 'track',\n",
    "        '  City  ': 'city',\n",
    "        'Day': 'day'\n",
    "    },\n",
    "    inplace=True\n",
    ")"
   ]
  },
  {
   "cell_type": "markdown",
   "metadata": {
    "deletable": false,
    "editable": false,
    "id": "1dqbh00J_Zct",
    "tags": [
     "start_task"
    ]
   },
   "source": [
    "**Задание 8**\n",
    "\n",
    "\n",
    "Проверьте результат. Для этого ещё раз выведите на экран названия столбцов:"
   ]
  },
  {
   "cell_type": "code",
   "execution_count": 8,
   "metadata": {
    "deletable": false,
    "id": "d4NOAmTW_Zct",
    "ExecuteTime": {
     "end_time": "2024-02-20T17:29:53.693685286Z",
     "start_time": "2024-02-20T17:29:53.398068776Z"
    }
   },
   "outputs": [
    {
     "data": {
      "text/plain": "Index(['user_id', 'track', 'artist', 'genre', 'city', 'time', 'day'], dtype='object')"
     },
     "execution_count": 8,
     "metadata": {},
     "output_type": "execute_result"
    }
   ],
   "source": [
    "# проверка результатов - перечень названий столбцов\n",
    "df.columns"
   ]
  },
  {
   "cell_type": "markdown",
   "metadata": {
    "deletable": false,
    "editable": false,
    "id": "5ISfbcfY_Zct",
    "tags": [
     "start_task"
    ]
   },
   "source": [
    "### Пропуски значений\n",
    "\n",
    "**Задание 9**\n",
    "\n",
    "Сначала посчитайте, сколько в таблице пропущенных значений. Для этого достаточно двух методов `pandas`:"
   ]
  },
  {
   "cell_type": "code",
   "execution_count": 9,
   "metadata": {
    "deletable": false,
    "id": "RskX29qr_Zct",
    "ExecuteTime": {
     "end_time": "2024-02-20T17:29:54.043798597Z",
     "start_time": "2024-02-20T17:29:53.715520330Z"
    }
   },
   "outputs": [
    {
     "data": {
      "text/plain": "user_id       0\ntrack      1231\nartist     7203\ngenre      1198\ncity          0\ntime          0\nday           0\ndtype: int64"
     },
     "execution_count": 9,
     "metadata": {},
     "output_type": "execute_result"
    }
   ],
   "source": [
    "# подсчёт пропусков\n",
    "df.isna().sum()"
   ]
  },
  {
   "cell_type": "markdown",
   "metadata": {
    "deletable": false,
    "editable": false,
    "id": "qubhgnlO_Zct"
   },
   "source": [
    "Не все пропущенные значения влияют на исследование. Так в `track` и `artist` пропуски не важны для вашей работы. Достаточно заменить их явными обозначениями.\n",
    "\n",
    "Но пропуски в `genre` могут помешать сравнению музыкальных вкусов в Москве и Санкт-Петербурге. На практике было бы правильно установить причину пропусков и восстановить данные. Такой возможности нет в учебном проекте. Придётся:\n",
    "* заполнить и эти пропуски явными обозначениями,\n",
    "* оценить, насколько они повредят расчётам. "
   ]
  },
  {
   "cell_type": "markdown",
   "metadata": {
    "deletable": false,
    "editable": false,
    "id": "fSv2laPA_Zct",
    "tags": [
     "start_task"
    ]
   },
   "source": [
    "**Задание 10**\n",
    "\n",
    "Замените пропущенные значения в столбцах `track`, `artist` и `genre` на строку `'unknown'`. Для этого создайте список `columns_to_replace`, переберите его элементы циклом `for` и для каждого столбца выполните замену пропущенных значений:"
   ]
  },
  {
   "cell_type": "code",
   "execution_count": 10,
   "metadata": {
    "deletable": false,
    "id": "KplB5qWs_Zct",
    "ExecuteTime": {
     "end_time": "2024-02-20T17:29:54.189510783Z",
     "start_time": "2024-02-20T17:29:53.940898771Z"
    }
   },
   "outputs": [],
   "source": [
    "# перебор названий столбцов в цикле и замена пропущенных значений на 'unknown'\n",
    "for col in ['track', 'artist', 'genre']:\n",
    "    df[col] = df[col].fillna('unknown')"
   ]
  },
  {
   "cell_type": "markdown",
   "metadata": {
    "deletable": false,
    "editable": false,
    "id": "Ilsm-MZo_Zct",
    "tags": [
     "start_task"
    ]
   },
   "source": [
    "**Задание 11**\n",
    "\n",
    "Убедитесь, что в таблице не осталось пропусков. Для этого ещё раз посчитайте пропущенные значения."
   ]
  },
  {
   "cell_type": "code",
   "execution_count": 11,
   "metadata": {
    "deletable": false,
    "id": "Tq4nYRX4_Zct",
    "ExecuteTime": {
     "end_time": "2024-02-20T17:29:54.282196008Z",
     "start_time": "2024-02-20T17:29:54.100165501Z"
    }
   },
   "outputs": [
    {
     "data": {
      "text/plain": "user_id    0\ntrack      0\nartist     0\ngenre      0\ncity       0\ntime       0\nday        0\ndtype: int64"
     },
     "execution_count": 11,
     "metadata": {},
     "output_type": "execute_result"
    }
   ],
   "source": [
    "# подсчёт пропусков\n",
    "df.isna().sum()"
   ]
  },
  {
   "cell_type": "markdown",
   "metadata": {
    "deletable": false,
    "editable": false,
    "id": "BWKRtBJ3_Zct",
    "tags": [
     "start_task"
    ]
   },
   "source": [
    "### Дубликаты\n",
    "\n",
    "**Задание 12**\n",
    "\n",
    "Посчитайте явные дубликаты в таблице одной командой:"
   ]
  },
  {
   "cell_type": "code",
   "execution_count": 12,
   "metadata": {
    "deletable": false,
    "id": "36eES_S0_Zct",
    "ExecuteTime": {
     "end_time": "2024-02-20T17:29:54.464380658Z",
     "start_time": "2024-02-20T17:29:54.268664986Z"
    }
   },
   "outputs": [
    {
     "data": {
      "text/plain": "3826"
     },
     "execution_count": 12,
     "metadata": {},
     "output_type": "execute_result"
    }
   ],
   "source": [
    "# подсчёт явных дубликатов\n",
    "df.duplicated().sum()"
   ]
  },
  {
   "cell_type": "markdown",
   "metadata": {
    "deletable": false,
    "editable": false,
    "id": "Ot25h6XR_Zct",
    "tags": [
     "start_task"
    ]
   },
   "source": [
    "**Задание 13**\n",
    "\n",
    "Вызовите специальный метод `pandas`, чтобы удалить явные дубликаты:"
   ]
  },
  {
   "cell_type": "code",
   "execution_count": 13,
   "metadata": {
    "deletable": false,
    "id": "exFHq6tt_Zct",
    "ExecuteTime": {
     "end_time": "2024-02-20T17:29:54.658598970Z",
     "start_time": "2024-02-20T17:29:54.453443529Z"
    }
   },
   "outputs": [],
   "source": [
    "# удаление явных дубликатов (с удалением старых индексов и формированием новых)\n",
    "df.drop_duplicates(inplace=True)"
   ]
  },
  {
   "cell_type": "markdown",
   "metadata": {
    "deletable": false,
    "editable": false,
    "id": "Im2YwBEG_Zct",
    "tags": [
     "start_task"
    ]
   },
   "source": [
    "**Задание 14**\n",
    "\n",
    "Ещё раз посчитайте явные дубликаты в таблице — убедитесь, что полностью от них избавились:"
   ]
  },
  {
   "cell_type": "code",
   "execution_count": 14,
   "metadata": {
    "deletable": false,
    "id": "-8PuNWQ0_Zct",
    "ExecuteTime": {
     "end_time": "2024-02-20T17:29:54.769321092Z",
     "start_time": "2024-02-20T17:29:54.575628161Z"
    }
   },
   "outputs": [
    {
     "data": {
      "text/plain": "0"
     },
     "execution_count": 14,
     "metadata": {},
     "output_type": "execute_result"
    }
   ],
   "source": [
    "# проверка на отсутствие дубликатов\n",
    "df.duplicated().sum()"
   ]
  },
  {
   "cell_type": "markdown",
   "metadata": {
    "deletable": false,
    "editable": false,
    "id": "QlFBsxAr_Zct"
   },
   "source": [
    "Теперь избавьтесь от неявных дубликатов в колонке `genre`. Например, название одного и того же жанра может быть записано немного по-разному. Такие ошибки тоже повлияют на результат исследования."
   ]
  },
  {
   "cell_type": "markdown",
   "metadata": {
    "deletable": false,
    "editable": false,
    "id": "eSjWwsOh_Zct",
    "tags": [
     "start_task"
    ]
   },
   "source": [
    "**Задание 15**\n",
    "\n",
    "Выведите на экран список уникальных названий жанров, отсортированный в алфавитном порядке. Для этого:\n",
    "* извлеките нужный столбец датафрейма, \n",
    "* примените к нему метод сортировки,\n",
    "* для отсортированного столбца вызовите метод, который вернёт уникальные значения из столбца."
   ]
  },
  {
   "cell_type": "code",
   "execution_count": 15,
   "metadata": {
    "deletable": false,
    "id": "JIUcqzZN_Zct",
    "ExecuteTime": {
     "end_time": "2024-02-20T17:29:54.904869221Z",
     "start_time": "2024-02-20T17:29:54.683184473Z"
    }
   },
   "outputs": [
    {
     "data": {
      "text/plain": "array(['acid', 'acoustic', 'action', 'adult', 'africa', 'afrikaans',\n       'alternative', 'alternativepunk', 'ambient', 'americana',\n       'animated', 'anime', 'arabesk', 'arabic', 'arena',\n       'argentinetango', 'art', 'audiobook', 'author', 'avantgarde',\n       'axé', 'baile', 'balkan', 'beats', 'bigroom', 'black', 'bluegrass',\n       'blues', 'bollywood', 'bossa', 'brazilian', 'breakbeat', 'breaks',\n       'broadway', 'cantautori', 'cantopop', 'canzone', 'caribbean',\n       'caucasian', 'celtic', 'chamber', 'chanson', 'children', 'chill',\n       'chinese', 'choral', 'christian', 'christmas', 'classical',\n       'classicmetal', 'club', 'colombian', 'comedy', 'conjazz',\n       'contemporary', 'country', 'cuban', 'dance', 'dancehall',\n       'dancepop', 'dark', 'death', 'deep', 'deutschrock', 'deutschspr',\n       'dirty', 'disco', 'dnb', 'documentary', 'downbeat', 'downtempo',\n       'drum', 'dub', 'dubstep', 'eastern', 'easy', 'electronic',\n       'electropop', 'emo', 'entehno', 'epicmetal', 'estrada', 'ethnic',\n       'eurofolk', 'european', 'experimental', 'extrememetal', 'fado',\n       'fairytail', 'film', 'fitness', 'flamenco', 'folk', 'folklore',\n       'folkmetal', 'folkrock', 'folktronica', 'forró', 'frankreich',\n       'französisch', 'french', 'funk', 'future', 'gangsta', 'garage',\n       'german', 'ghazal', 'gitarre', 'glitch', 'gospel', 'gothic',\n       'grime', 'grunge', 'gypsy', 'handsup', \"hard'n'heavy\", 'hardcore',\n       'hardstyle', 'hardtechno', 'hip', 'hip-hop', 'hiphop',\n       'historisch', 'holiday', 'hop', 'horror', 'house', 'hymn', 'idm',\n       'independent', 'indian', 'indie', 'indipop', 'industrial',\n       'inspirational', 'instrumental', 'international', 'irish', 'jam',\n       'japanese', 'jazz', 'jewish', 'jpop', 'jungle', 'k-pop',\n       'karadeniz', 'karaoke', 'kayokyoku', 'korean', 'laiko', 'latin',\n       'latino', 'leftfield', 'local', 'lounge', 'loungeelectronic',\n       'lovers', 'malaysian', 'mandopop', 'marschmusik', 'meditative',\n       'mediterranean', 'melodic', 'metal', 'metalcore', 'mexican',\n       'middle', 'minimal', 'miscellaneous', 'modern', 'mood', 'mpb',\n       'muslim', 'native', 'neoklassik', 'neue', 'new', 'newage',\n       'newwave', 'nu', 'nujazz', 'numetal', 'oceania', 'old', 'opera',\n       'orchestral', 'other', 'piano', 'podcasts', 'pop', 'popdance',\n       'popelectronic', 'popeurodance', 'poprussian', 'post',\n       'posthardcore', 'postrock', 'power', 'progmetal', 'progressive',\n       'psychedelic', 'punjabi', 'punk', 'quebecois', 'ragga', 'ram',\n       'rancheras', 'rap', 'rave', 'reggae', 'reggaeton', 'regional',\n       'relax', 'religious', 'retro', 'rhythm', 'rnb', 'rnr', 'rock',\n       'rockabilly', 'rockalternative', 'rockindie', 'rockother',\n       'romance', 'roots', 'ruspop', 'rusrap', 'rusrock', 'russian',\n       'salsa', 'samba', 'scenic', 'schlager', 'self', 'sertanejo',\n       'shanson', 'shoegazing', 'showtunes', 'singer', 'ska', 'skarock',\n       'slow', 'smooth', 'soft', 'soul', 'soulful', 'sound', 'soundtrack',\n       'southern', 'specialty', 'speech', 'spiritual', 'sport',\n       'stonerrock', 'surf', 'swing', 'synthpop', 'synthrock',\n       'sängerportrait', 'tango', 'tanzorchester', 'taraftar', 'tatar',\n       'tech', 'techno', 'teen', 'thrash', 'top', 'traditional',\n       'tradjazz', 'trance', 'tribal', 'trip', 'triphop', 'tropical',\n       'türk', 'türkçe', 'ukrrock', 'unknown', 'urban', 'uzbek',\n       'variété', 'vi', 'videogame', 'vocal', 'western', 'world',\n       'worldbeat', 'ïîï', 'электроника'], dtype=object)"
     },
     "execution_count": 15,
     "metadata": {},
     "output_type": "execute_result"
    }
   ],
   "source": [
    "# Просмотр уникальных названий жанров\n",
    "df.genre.sort_values().unique()"
   ]
  },
  {
   "cell_type": "markdown",
   "metadata": {
    "deletable": false,
    "editable": false,
    "id": "qej-Qmuo_Zct",
    "tags": [
     "start_task"
    ]
   },
   "source": [
    "**Задание 16**\n",
    "\n",
    "Просмотрите список и найдите неявные дубликаты названия `hiphop`. Это могут быть названия с ошибками или альтернативные названия того же жанра.\n",
    "\n",
    "Вы увидите следующие неявные дубликаты:\n",
    "* *hip*,\n",
    "* *hop*,\n",
    "* *hip-hop*.\n",
    "\n",
    "Чтобы очистить от них таблицу используйте метод `replace()` с двумя аргументами: списком строк-дубликатов (включащий *hip*, *hop* и *hip-hop*) и строкой с правильным значением. Вам нужно исправить колонку `genre` в таблице `df`: заменить каждое значение из списка дубликатов на верное. Вместо `hip`, `hop` и `hip-hop` в таблице должно быть значение `hiphop`:"
   ]
  },
  {
   "cell_type": "code",
   "execution_count": 16,
   "metadata": {
    "deletable": false,
    "id": "ErNDkmns_Zct",
    "ExecuteTime": {
     "end_time": "2024-02-20T17:29:55.110704147Z",
     "start_time": "2024-02-20T17:29:54.745769030Z"
    }
   },
   "outputs": [],
   "source": [
    "# Устранение неявных дубликатов\n",
    "df.replace(\n",
    "['hip', 'hop', 'hip-hop'],\n",
    "    'hiphop',\n",
    "    inplace=True\n",
    ")\n"
   ]
  },
  {
   "cell_type": "markdown",
   "metadata": {
    "deletable": false,
    "editable": false,
    "id": "zQKF16_RG15m",
    "tags": [
     "start_task"
    ]
   },
   "source": [
    "**Задание 17**\n",
    "\n",
    "Проверьте, что заменили неправильные названия:\n",
    "\n",
    "*   hip\n",
    "*   hop\n",
    "*   hip-hop\n",
    "\n",
    "Выведите отсортированный список уникальных значений столбца `genre`:"
   ]
  },
  {
   "cell_type": "code",
   "execution_count": 17,
   "metadata": {
    "deletable": false,
    "id": "wvixALnFG15m",
    "ExecuteTime": {
     "end_time": "2024-02-20T17:29:55.157275963Z",
     "start_time": "2024-02-20T17:29:54.973615882Z"
    }
   },
   "outputs": [
    {
     "data": {
      "text/plain": "array(['acid', 'acoustic', 'action', 'adult', 'africa', 'afrikaans',\n       'alternative', 'alternativepunk', 'ambient', 'americana',\n       'animated', 'anime', 'arabesk', 'arabic', 'arena',\n       'argentinetango', 'art', 'audiobook', 'author', 'avantgarde',\n       'axé', 'baile', 'balkan', 'beats', 'bigroom', 'black', 'bluegrass',\n       'blues', 'bollywood', 'bossa', 'brazilian', 'breakbeat', 'breaks',\n       'broadway', 'cantautori', 'cantopop', 'canzone', 'caribbean',\n       'caucasian', 'celtic', 'chamber', 'chanson', 'children', 'chill',\n       'chinese', 'choral', 'christian', 'christmas', 'classical',\n       'classicmetal', 'club', 'colombian', 'comedy', 'conjazz',\n       'contemporary', 'country', 'cuban', 'dance', 'dancehall',\n       'dancepop', 'dark', 'death', 'deep', 'deutschrock', 'deutschspr',\n       'dirty', 'disco', 'dnb', 'documentary', 'downbeat', 'downtempo',\n       'drum', 'dub', 'dubstep', 'eastern', 'easy', 'electronic',\n       'electropop', 'emo', 'entehno', 'epicmetal', 'estrada', 'ethnic',\n       'eurofolk', 'european', 'experimental', 'extrememetal', 'fado',\n       'fairytail', 'film', 'fitness', 'flamenco', 'folk', 'folklore',\n       'folkmetal', 'folkrock', 'folktronica', 'forró', 'frankreich',\n       'französisch', 'french', 'funk', 'future', 'gangsta', 'garage',\n       'german', 'ghazal', 'gitarre', 'glitch', 'gospel', 'gothic',\n       'grime', 'grunge', 'gypsy', 'handsup', \"hard'n'heavy\", 'hardcore',\n       'hardstyle', 'hardtechno', 'hiphop', 'historisch', 'holiday',\n       'horror', 'house', 'hymn', 'idm', 'independent', 'indian', 'indie',\n       'indipop', 'industrial', 'inspirational', 'instrumental',\n       'international', 'irish', 'jam', 'japanese', 'jazz', 'jewish',\n       'jpop', 'jungle', 'k-pop', 'karadeniz', 'karaoke', 'kayokyoku',\n       'korean', 'laiko', 'latin', 'latino', 'leftfield', 'local',\n       'lounge', 'loungeelectronic', 'lovers', 'malaysian', 'mandopop',\n       'marschmusik', 'meditative', 'mediterranean', 'melodic', 'metal',\n       'metalcore', 'mexican', 'middle', 'minimal', 'miscellaneous',\n       'modern', 'mood', 'mpb', 'muslim', 'native', 'neoklassik', 'neue',\n       'new', 'newage', 'newwave', 'nu', 'nujazz', 'numetal', 'oceania',\n       'old', 'opera', 'orchestral', 'other', 'piano', 'podcasts', 'pop',\n       'popdance', 'popelectronic', 'popeurodance', 'poprussian', 'post',\n       'posthardcore', 'postrock', 'power', 'progmetal', 'progressive',\n       'psychedelic', 'punjabi', 'punk', 'quebecois', 'ragga', 'ram',\n       'rancheras', 'rap', 'rave', 'reggae', 'reggaeton', 'regional',\n       'relax', 'religious', 'retro', 'rhythm', 'rnb', 'rnr', 'rock',\n       'rockabilly', 'rockalternative', 'rockindie', 'rockother',\n       'romance', 'roots', 'ruspop', 'rusrap', 'rusrock', 'russian',\n       'salsa', 'samba', 'scenic', 'schlager', 'self', 'sertanejo',\n       'shanson', 'shoegazing', 'showtunes', 'singer', 'ska', 'skarock',\n       'slow', 'smooth', 'soft', 'soul', 'soulful', 'sound', 'soundtrack',\n       'southern', 'specialty', 'speech', 'spiritual', 'sport',\n       'stonerrock', 'surf', 'swing', 'synthpop', 'synthrock',\n       'sängerportrait', 'tango', 'tanzorchester', 'taraftar', 'tatar',\n       'tech', 'techno', 'teen', 'thrash', 'top', 'traditional',\n       'tradjazz', 'trance', 'tribal', 'trip', 'triphop', 'tropical',\n       'türk', 'türkçe', 'ukrrock', 'unknown', 'urban', 'uzbek',\n       'variété', 'vi', 'videogame', 'vocal', 'western', 'world',\n       'worldbeat', 'ïîï', 'электроника'], dtype=object)"
     },
     "execution_count": 17,
     "metadata": {},
     "output_type": "execute_result"
    }
   ],
   "source": [
    "# Проверка на неявные дубликаты\n",
    "df.genre.sort_values().unique()"
   ]
  },
  {
   "cell_type": "markdown",
   "metadata": {
    "deletable": false,
    "editable": false,
    "id": "jz6a9-7HQUDd"
   },
   "source": [
    "**Выводы**\n",
    "\n",
    "Предобработка обнаружила три проблемы в данных:\n",
    "\n",
    "- нарушения в стиле заголовков,\n",
    "- пропущенные значения,\n",
    "- дубликаты — явные и неявные.\n",
    "\n",
    "Вы исправили заголовки, чтобы упростить работу с таблицей. Без дубликатов исследование станет более точным.\n",
    "\n",
    "Пропущенные значения вы заменили на `'unknown'`. Ещё предстоит увидеть, не повредят ли исследованию пропуски в колонке `genre`.\n",
    "\n",
    "Теперь можно перейти к проверке гипотез. "
   ]
  },
  {
   "cell_type": "markdown",
   "metadata": {
    "deletable": false,
    "editable": false,
    "id": "WttZHXH0SqKk"
   },
   "source": [
    "## Проверка гипотез"
   ]
  },
  {
   "cell_type": "markdown",
   "metadata": {
    "deletable": false,
    "editable": false,
    "id": "Im936VVi_Zcu"
   },
   "source": [
    "### Сравнение поведения пользователей двух столиц"
   ]
  },
  {
   "cell_type": "markdown",
   "metadata": {
    "deletable": false,
    "editable": false,
    "id": "nwt_MuaL_Zcu"
   },
   "source": [
    "Первая гипотеза утверждает, что пользователи по-разному слушают музыку в Москве и Санкт-Петербурге. Проверьте это предположение по данным о трёх днях недели — понедельнике, среде и пятнице. Для этого:\n",
    "\n",
    "* Разделите пользователей Москвы и Санкт-Петербурга\n",
    "* Сравните, сколько треков послушала каждая группа пользователей в понедельник, среду и пятницу.\n"
   ]
  },
  {
   "cell_type": "markdown",
   "metadata": {
    "deletable": false,
    "editable": false,
    "id": "8Dw_YMmT_Zcu",
    "tags": [
     "start_task"
    ]
   },
   "source": [
    "**Задание 18**\n",
    "\n",
    "Для тренировки сначала выполните каждый из расчётов по отдельности. \n",
    "\n",
    "Оцените активность пользователей в каждом городе. Сгруппируйте данные по городу и посчитайте прослушивания в каждой группе.\n",
    "\n"
   ]
  },
  {
   "cell_type": "code",
   "execution_count": 18,
   "metadata": {
    "deletable": false,
    "id": "0_Qs96oh_Zcu",
    "ExecuteTime": {
     "end_time": "2024-02-20T17:29:55.159880283Z",
     "start_time": "2024-02-20T17:29:55.049582059Z"
    }
   },
   "outputs": [
    {
     "data": {
      "text/plain": "city\nMoscow              42741\nSaint-Petersburg    18512\nName: genre, dtype: int64"
     },
     "execution_count": 18,
     "metadata": {},
     "output_type": "execute_result"
    }
   ],
   "source": [
    "# Подсчёт прослушиваний в каждом городе\n",
    "df.groupby('city')['genre'].count()"
   ]
  },
  {
   "cell_type": "markdown",
   "metadata": {
    "deletable": false,
    "editable": false,
    "id": "dzli3w8o_Zcu",
    "tags": [
     "start_task"
    ]
   },
   "source": [
    "В Москве прослушиваний больше, чем в Петербурге. Из этого не следует, что московские пользователи чаще слушают музыку. Просто самих пользователей в Москве больше.\n",
    "\n",
    "**Задание 19**\n",
    "\n",
    "Теперь сгруппируйте данные по дню недели и подсчитайте прослушивания в понедельник, среду и пятницу. Учтите, что в данных есть информация только о прослушиваниях только за эти дни.\n"
   ]
  },
  {
   "cell_type": "code",
   "execution_count": 19,
   "metadata": {
    "deletable": false,
    "id": "uZMKjiJz_Zcu",
    "ExecuteTime": {
     "end_time": "2024-02-20T17:29:55.290673382Z",
     "start_time": "2024-02-20T17:29:55.122957262Z"
    }
   },
   "outputs": [
    {
     "data": {
      "text/plain": "day\nFriday       21840\nMonday       21354\nWednesday    18059\nName: genre, dtype: int64"
     },
     "execution_count": 19,
     "metadata": {},
     "output_type": "execute_result"
    }
   ],
   "source": [
    "# Подсчёт прослушиваний в каждый из трёх дней\n",
    "df.groupby('day').genre.count()"
   ]
  },
  {
   "cell_type": "markdown",
   "metadata": {
    "deletable": false,
    "editable": false,
    "id": "cC2tNrlL_Zcu"
   },
   "source": [
    "В среднем пользователи из двух городов менее активны по средам. Но картина может измениться, если рассмотреть каждый город в отдельности."
   ]
  },
  {
   "cell_type": "markdown",
   "metadata": {
    "deletable": false,
    "editable": false,
    "id": "POzs8bGa_Zcu",
    "tags": [
     "start_task"
    ]
   },
   "source": [
    "**Задание 20**\n",
    "\n",
    "\n",
    "Вы видели, как работает группировка по городу и по дням недели. Теперь напишите функцию, которая объединит два эти расчёта.\n",
    "\n",
    "Создайте функцию `number_tracks()`, которая посчитает прослушивания для заданного дня и города. Ей понадобятся два параметра:\n",
    "* день недели,\n",
    "* название города.\n",
    "\n",
    "В функции сохраните в переменную строки исходной таблицы, у которых значение:\n",
    "  * в колонке `day` равно параметру `day`,\n",
    "  * в колонке `city` равно параметру `city`.\n",
    "\n",
    "Для этого примените последовательную фильтрацию с логической индексацией (или сложные логические выражения в одну строку, если вы уже знакомы с ними).\n",
    "\n",
    "Затем посчитайте значения в столбце `user_id` получившейся таблицы. Результат сохраните в новую переменную. Верните эту переменную из функции."
   ]
  },
  {
   "cell_type": "code",
   "execution_count": 20,
   "metadata": {
    "deletable": false,
    "id": "Nz3GdQB1_Zcu",
    "ExecuteTime": {
     "end_time": "2024-02-20T17:29:55.330078486Z",
     "start_time": "2024-02-20T17:29:55.216429691Z"
    }
   },
   "outputs": [],
   "source": [
    "# <создание функции number_tracks()>\n",
    "# Объявляется функция с двумя параметрами: day, city.\n",
    "# В переменной track_list сохраняются те строки таблицы df, для которых \n",
    "# значение в столбце 'day' равно параметру day и одновременно значение\n",
    "# в столбце 'city' равно параметру city (используйте последовательную фильтрацию\n",
    "# с помощью логической индексации или сложные логические выражения в одну строку, если вы уже знакомы с ними).\n",
    "# В переменной track_list_count сохраняется число значений столбца 'user_id',\n",
    "# рассчитанное методом count() для таблицы track_list.\n",
    "# Функция возвращает число - значение track_list_count.\n",
    "\n",
    "# Функция для подсчёта прослушиваний для конкретного города и дня.\n",
    "# С помощью последовательной фильтрации с логической индексацией она \n",
    "# сначала получит из исходной таблицы строки с нужным днём,\n",
    "# затем из результата отфильтрует строки с нужным городом,\n",
    "# методом count() посчитает количество значений в колонке user_id. \n",
    "# Это количество функция вернёт в качестве результата\n",
    "\n",
    "def number_tracks(day, city):\n",
    "    city_day = df[(df.day == day) & (df.city == city)]\n",
    "    return city_day.user_id.count()"
   ]
  },
  {
   "cell_type": "markdown",
   "metadata": {
    "deletable": false,
    "editable": false,
    "id": "ytf7xFrFJQ2r",
    "tags": [
     "start_task"
    ]
   },
   "source": [
    "**Задание 21**\n",
    "\n",
    "Вызовите `number_tracks()` шесть раз, меняя значение параметров — так, чтобы получить данные для каждого города в каждый из трёх дней."
   ]
  },
  {
   "cell_type": "code",
   "execution_count": 21,
   "metadata": {
    "deletable": false,
    "id": "rJcRATNQ_Zcu",
    "ExecuteTime": {
     "end_time": "2024-02-20T17:29:55.475792436Z",
     "start_time": "2024-02-20T17:29:55.340529540Z"
    }
   },
   "outputs": [
    {
     "data": {
      "text/plain": "15740"
     },
     "execution_count": 21,
     "metadata": {},
     "output_type": "execute_result"
    }
   ],
   "source": [
    "# количество прослушиваний в Москве по понедельникам\n",
    "number_tracks('Monday', 'Moscow')"
   ]
  },
  {
   "cell_type": "code",
   "execution_count": 22,
   "metadata": {
    "deletable": false,
    "id": "hq_ncZ5T_Zcu",
    "ExecuteTime": {
     "end_time": "2024-02-20T17:29:55.496964280Z",
     "start_time": "2024-02-20T17:29:55.434441261Z"
    }
   },
   "outputs": [
    {
     "data": {
      "text/plain": "5614"
     },
     "execution_count": 22,
     "metadata": {},
     "output_type": "execute_result"
    }
   ],
   "source": [
    "# количество прослушиваний в Санкт-Петербурге по понедельникам\n",
    "number_tracks('Monday', 'Saint-Petersburg')"
   ]
  },
  {
   "cell_type": "code",
   "execution_count": 23,
   "metadata": {
    "deletable": false,
    "id": "_NTy2VPU_Zcu",
    "ExecuteTime": {
     "end_time": "2024-02-20T17:29:55.668137428Z",
     "start_time": "2024-02-20T17:29:55.520682884Z"
    }
   },
   "outputs": [
    {
     "data": {
      "text/plain": "11056"
     },
     "execution_count": 23,
     "metadata": {},
     "output_type": "execute_result"
    }
   ],
   "source": [
    "# количество прослушиваний в Москве по средам\n",
    "number_tracks('Wednesday', 'Moscow')"
   ]
  },
  {
   "cell_type": "code",
   "execution_count": 24,
   "metadata": {
    "deletable": false,
    "id": "j2y3TAwo_Zcu",
    "ExecuteTime": {
     "end_time": "2024-02-20T17:29:55.686732236Z",
     "start_time": "2024-02-20T17:29:55.598372316Z"
    }
   },
   "outputs": [
    {
     "data": {
      "text/plain": "7003"
     },
     "execution_count": 24,
     "metadata": {},
     "output_type": "execute_result"
    }
   ],
   "source": [
    "# количество прослушиваний в Санкт-Петербурге по средам\n",
    "number_tracks('Wednesday', 'Saint-Petersburg')"
   ]
  },
  {
   "cell_type": "code",
   "execution_count": 25,
   "metadata": {
    "deletable": false,
    "id": "vYDw5u_K_Zcu",
    "ExecuteTime": {
     "end_time": "2024-02-20T17:29:55.850649388Z",
     "start_time": "2024-02-20T17:29:55.692753852Z"
    }
   },
   "outputs": [
    {
     "data": {
      "text/plain": "15945"
     },
     "execution_count": 25,
     "metadata": {},
     "output_type": "execute_result"
    }
   ],
   "source": [
    "# количество прослушиваний в Москве по пятницам\n",
    "number_tracks('Friday', 'Moscow')"
   ]
  },
  {
   "cell_type": "code",
   "execution_count": 26,
   "metadata": {
    "deletable": false,
    "id": "8_yzFtW3_Zcu",
    "ExecuteTime": {
     "end_time": "2024-02-20T17:29:55.900458550Z",
     "start_time": "2024-02-20T17:29:55.777319805Z"
    }
   },
   "outputs": [
    {
     "data": {
      "text/plain": "5895"
     },
     "execution_count": 26,
     "metadata": {},
     "output_type": "execute_result"
    }
   ],
   "source": [
    "# количество прослушиваний в Санкт-Петербурге по пятницам\n",
    "number_tracks('Friday', 'Saint-Petersburg')"
   ]
  },
  {
   "cell_type": "markdown",
   "metadata": {
    "deletable": false,
    "editable": false,
    "id": "7QXffbO-_Zcu",
    "tags": [
     "start_task"
    ]
   },
   "source": [
    "**Задание 22**\n",
    "\n",
    "Создайте c помощью конструктора `pd.DataFrame` таблицу, где\n",
    "* названия колонок — `['city', 'monday', 'wednesday', 'friday']`;\n",
    "* данные — результаты, которые вы получили с помощью `number_tracks`."
   ]
  },
  {
   "cell_type": "code",
   "execution_count": 27,
   "metadata": {
    "deletable": false,
    "id": "APAcLpOr_Zcu",
    "ExecuteTime": {
     "end_time": "2024-02-20T17:29:56.070983242Z",
     "start_time": "2024-02-20T17:29:55.885589897Z"
    }
   },
   "outputs": [
    {
     "data": {
      "text/plain": "               city  monday  wednesday  friday\n0            Moscow   15740      11056   15945\n1  Saint-Petersburg    5614       7003    5895",
      "text/html": "<div>\n<style scoped>\n    .dataframe tbody tr th:only-of-type {\n        vertical-align: middle;\n    }\n\n    .dataframe tbody tr th {\n        vertical-align: top;\n    }\n\n    .dataframe thead th {\n        text-align: right;\n    }\n</style>\n<table border=\"1\" class=\"dataframe\">\n  <thead>\n    <tr style=\"text-align: right;\">\n      <th></th>\n      <th>city</th>\n      <th>monday</th>\n      <th>wednesday</th>\n      <th>friday</th>\n    </tr>\n  </thead>\n  <tbody>\n    <tr>\n      <th>0</th>\n      <td>Moscow</td>\n      <td>15740</td>\n      <td>11056</td>\n      <td>15945</td>\n    </tr>\n    <tr>\n      <th>1</th>\n      <td>Saint-Petersburg</td>\n      <td>5614</td>\n      <td>7003</td>\n      <td>5895</td>\n    </tr>\n  </tbody>\n</table>\n</div>"
     },
     "execution_count": 27,
     "metadata": {},
     "output_type": "execute_result"
    }
   ],
   "source": [
    "# Таблица с результатами\n",
    "pd.DataFrame(data = [['Moscow', 15740, 11056, 15945], \n",
    "              ['Saint-Petersburg', 5614, 7003, 5895]],\n",
    "            columns = ['city', 'monday', 'wednesday', 'friday'])"
   ]
  },
  {
   "cell_type": "markdown",
   "metadata": {
    "deletable": false,
    "editable": false,
    "id": "-EgPIHYu_Zcu"
   },
   "source": [
    "**Выводы**\n",
    "\n",
    "Данные показывают разницу поведения пользователей:\n",
    "\n",
    "- В Москве пик прослушиваний приходится на понедельник и пятницу, а в среду заметен спад.\n",
    "- В Петербурге, наоборот, больше слушают музыку по средам. Активность в понедельник и пятницу здесь почти в равной мере уступает среде.\n",
    "\n",
    "Значит, данные говорят в пользу первой гипотезы."
   ]
  },
  {
   "cell_type": "markdown",
   "metadata": {
    "deletable": false,
    "editable": false,
    "id": "atZAxtq4_Zcu"
   },
   "source": [
    "### Музыка в начале и в конце недели"
   ]
  },
  {
   "cell_type": "markdown",
   "metadata": {
    "deletable": false,
    "editable": false,
    "id": "eXrQqXFH_Zcu"
   },
   "source": [
    "Согласно второй гипотезе, утром в понедельник в Москве преобладают одни жанры, а в Петербурге — другие. Так же и вечером пятницы преобладают разные жанры — в зависимости от города."
   ]
  },
  {
   "cell_type": "markdown",
   "metadata": {
    "deletable": false,
    "editable": false,
    "id": "S8UcW6Hw_Zcu",
    "tags": [
     "start_task"
    ]
   },
   "source": [
    "**Задание 23**\n",
    "\n",
    "Сохраните таблицы с данными в две переменные:\n",
    "* по Москве — в `moscow_general`;\n",
    "* по Санкт-Петербургу — в `spb_general`."
   ]
  },
  {
   "cell_type": "code",
   "execution_count": 28,
   "metadata": {
    "deletable": false,
    "id": "qeaFfM_P_Zcu",
    "ExecuteTime": {
     "end_time": "2024-02-20T17:29:56.138993682Z",
     "start_time": "2024-02-20T17:29:56.046414396Z"
    }
   },
   "outputs": [],
   "source": [
    "# получение таблицы moscow_general из тех строк таблицы df, \n",
    "# для которых значение в столбце 'city' равно 'Moscow'\n",
    "moscow_general = df[df.city == 'Moscow']"
   ]
  },
  {
   "cell_type": "code",
   "execution_count": 29,
   "metadata": {
    "deletable": false,
    "id": "ORaVRKto_Zcu",
    "ExecuteTime": {
     "end_time": "2024-02-20T17:29:56.208524310Z",
     "start_time": "2024-02-20T17:29:56.103407086Z"
    }
   },
   "outputs": [],
   "source": [
    "# получение таблицы spb_general из тех строк таблицы df,\n",
    "# для которых значение в столбце 'city' равно 'Saint-Petersburg'\n",
    "spb_general = df[df.city == 'Saint-Petersburg']"
   ]
  },
  {
   "cell_type": "markdown",
   "metadata": {
    "deletable": false,
    "id": "MEJV-CX2_Zcu",
    "tags": [
     "start_task"
    ]
   },
   "source": [
    "**Задание 24**\n",
    "\n",
    "Создайте функцию `genre_weekday()` с четырьмя параметрами:\n",
    "* таблица (датафрейм) с данными,\n",
    "* день недели,\n",
    "* начальная временная метка в формате 'hh:mm', \n",
    "* последняя временная метка в формате 'hh:mm'.\n",
    "\n",
    "Функция должна вернуть информацию о топ-10 жанров тех треков, которые прослушивали в указанный день, в промежутке между двумя отметками времени."
   ]
  },
  {
   "cell_type": "code",
   "execution_count": 30,
   "metadata": {
    "deletable": false,
    "id": "laJT9BYl_Zcu",
    "ExecuteTime": {
     "end_time": "2024-02-20T17:29:56.434795114Z",
     "start_time": "2024-02-20T17:29:56.169310737Z"
    }
   },
   "outputs": [
    {
     "data": {
      "text/plain": "genre\npop            1000\ndance           777\nelectronic      673\nrock            665\nhiphop          386\nclassical       257\nruspop          252\nalternative     227\nworld           220\nrusrap          203\nName: genre, dtype: int64"
     },
     "execution_count": 30,
     "metadata": {},
     "output_type": "execute_result"
    }
   ],
   "source": [
    "# Объявление функции genre_weekday() с параметрами table, day, time1, time2,\n",
    "# которая возвращает информацию о самых популярных жанрах в указанный день в\n",
    "# заданное время:\n",
    "# 1) в переменную genre_df сохраняются те строки переданного датафрейма table, для\n",
    "#    которых одновременно:\n",
    "#    - значение в столбце day равно значению аргумента day\n",
    "#    - значение в столбце time больше значения аргумента time1\n",
    "#    - значение в столбце time меньше значения аргумента time2\n",
    "#    Используйте последовательную фильтрацию с помощью логической индексации.\n",
    "# 2) сгруппировать датафрейм genre_df по столбцу genre, взять один из его\n",
    "#    столбцов и посчитать методом count() количество записей для каждого из\n",
    "#    присутствующих жанров, получившийся Series записать в переменную\n",
    "#    genre_df_grouped\n",
    "# 3) отсортировать genre_df_grouped по убыванию встречаемости и сохранить\n",
    "#    в переменную genre_df_sorted\n",
    "# 4) вернуть Series из 10 первых значений genre_df_sorted, это будут топ-10\n",
    "#    популярных жанров (в указанный день, в заданное время)\n",
    "\n",
    "def genre_weekday(df, day, time1, time2):\n",
    "    # последовательная фильтрация\n",
    "    # оставляем в genre_df только те строки df, у которых день равен day\n",
    "    genre_df = df[df['day'] == day]\n",
    "    # оставляем в genre_df только те строки genre_df, у которых время меньше time2\n",
    "    genre_df =  genre_df.loc[df['time'] < time2]\n",
    "    # оставляем в genre_df только те строки genre_df, у которых время больше time1\n",
    "    genre_df = genre_df.loc[df['time'] > time1]\n",
    "    # сгруппируем отфильтрованный датафрейм по столбцу с названиями жанров, возьмём столбец genre и посчитаем кол-во строк для каждого жанра методом count()\n",
    "    genre_df_grouped = genre_df.groupby(['genre'])['genre'].count()\n",
    "    # отсортируем результат по убыванию (чтобы в начале Series оказались самые популярные жанры)\n",
    "    genre_df_sorted = genre_df_grouped.sort_values(ascending=False)\n",
    "    # вернём Series с 10 самыми популярными жанрами в указанный отрезок времени заданного дня\n",
    "    return genre_df_sorted[:10]\n",
    "\n",
    "genre_weekday(df, 'Friday', '07:00', '11:00')"
   ]
  },
  {
   "cell_type": "markdown",
   "metadata": {
    "deletable": false,
    "editable": false,
    "id": "la2s2_PF_Zcu",
    "tags": [
     "start_task"
    ]
   },
   "source": [
    "**Задание 25**\n",
    "\n",
    "\n",
    "Cравните результаты функции `genre_weekday()` для Москвы и Санкт-Петербурга в понедельник утром (с 7:00 до 11:00) и в пятницу вечером (с 17:00 до 23:00):"
   ]
  },
  {
   "cell_type": "code",
   "execution_count": 31,
   "metadata": {
    "deletable": false,
    "id": "yz7itPUQ_Zcu",
    "ExecuteTime": {
     "end_time": "2024-02-20T17:29:56.542595940Z",
     "start_time": "2024-02-20T17:29:56.322321001Z"
    }
   },
   "outputs": [
    {
     "data": {
      "text/plain": "genre\npop            781\ndance          549\nelectronic     480\nrock           474\nhiphop         286\nruspop         186\nworld          181\nrusrap         175\nalternative    164\nunknown        161\nName: genre, dtype: int64"
     },
     "execution_count": 31,
     "metadata": {},
     "output_type": "execute_result"
    }
   ],
   "source": [
    "# вызов функции для утра понедельника в Москве (вместо df — таблица moscow_general)\n",
    "# объекты, хранящие время, являются строками и сравниваются как строки\n",
    "# пример вызова: genre_weekday(moscow_general, 'Monday', '07:00', '11:00')\n",
    "genre_weekday(moscow_general, 'Monday', '07:00', '11:00')"
   ]
  },
  {
   "cell_type": "code",
   "execution_count": 32,
   "metadata": {
    "deletable": false,
    "id": "kwUcHPdy_Zcu",
    "ExecuteTime": {
     "end_time": "2024-02-20T17:29:56.682840762Z",
     "start_time": "2024-02-20T17:29:56.483115810Z"
    }
   },
   "outputs": [
    {
     "data": {
      "text/plain": "genre\npop            218\ndance          182\nrock           162\nelectronic     147\nhiphop          80\nruspop          64\nalternative     58\nrusrap          55\njazz            44\nclassical       40\nName: genre, dtype: int64"
     },
     "execution_count": 32,
     "metadata": {},
     "output_type": "execute_result"
    }
   ],
   "source": [
    "# вызов функции для утра понедельника в Петербурге (вместо df — таблица spb_general)\n",
    "genre_weekday(spb_general, 'Monday', '07:00', '11:00')"
   ]
  },
  {
   "cell_type": "code",
   "execution_count": 33,
   "metadata": {
    "deletable": false,
    "id": "EzXVRE1o_Zcu",
    "ExecuteTime": {
     "end_time": "2024-02-20T17:29:56.797843095Z",
     "start_time": "2024-02-20T17:29:56.656484996Z"
    }
   },
   "outputs": [
    {
     "data": {
      "text/plain": "genre\npop            713\nrock           517\ndance          495\nelectronic     482\nhiphop         273\nworld          208\nruspop         170\nalternative    163\nclassical      163\nrusrap         142\nName: genre, dtype: int64"
     },
     "execution_count": 33,
     "metadata": {},
     "output_type": "execute_result"
    }
   ],
   "source": [
    "# вызов функции для вечера пятницы в Москве\n",
    "genre_weekday(moscow_general, 'Friday', '17:00', '23:00')"
   ]
  },
  {
   "cell_type": "code",
   "execution_count": 34,
   "metadata": {
    "deletable": false,
    "id": "JZaEKu5v_Zcu",
    "ExecuteTime": {
     "end_time": "2024-02-20T17:29:56.843399350Z",
     "start_time": "2024-02-20T17:29:56.740908458Z"
    }
   },
   "outputs": [
    {
     "data": {
      "text/plain": "genre\npop            256\nelectronic     216\nrock           216\ndance          210\nhiphop          97\nalternative     63\njazz            61\nclassical       60\nrusrap          59\nworld           54\nName: genre, dtype: int64"
     },
     "execution_count": 34,
     "metadata": {},
     "output_type": "execute_result"
    }
   ],
   "source": [
    "# вызов функции для вечера пятницы в Петербурге\n",
    "genre_weekday(spb_general, 'Friday', '17:00', '23:00')"
   ]
  },
  {
   "cell_type": "markdown",
   "metadata": {
    "deletable": false,
    "editable": false,
    "id": "wrCe4MNX_Zcu"
   },
   "source": [
    "**Выводы**\n",
    "\n",
    "Если сравнить топ-10 жанров в понедельник утром, можно сделать такие выводы:\n",
    "\n",
    "1. В Москве и Петербурге слушают похожую музыку. Единственное отличие — в московский рейтинг вошёл жанр “world”, а в петербургский — джаз и классика.\n",
    "\n",
    "2. В Москве пропущенных значений оказалось так много, что значение `'unknown'` заняло десятое место среди самых популярных жанров. Значит, пропущенные значения занимают существенную долю в данных и угрожают достоверности исследования.\n",
    "\n",
    "Вечер пятницы не меняет эту картину. Некоторые жанры поднимаются немного выше, другие спускаются, но в целом топ-10 остаётся тем же самым.\n",
    "\n",
    "Таким образом, вторая гипотеза подтвердилась лишь частично:\n",
    "* Пользователи слушают похожую музыку в начале недели и в конце.\n",
    "* Разница между Москвой и Петербургом не слишком выражена. В Москве чаще слушают русскую популярную музыку, в Петербурге — джаз.\n",
    "\n",
    "Однако пропуски в данных ставят под сомнение этот результат. В Москве их так много, что рейтинг топ-10 мог бы выглядеть иначе, если бы не утерянные  данные о жанрах."
   ]
  },
  {
   "cell_type": "markdown",
   "metadata": {
    "deletable": false,
    "editable": false,
    "id": "JolODAqr_Zcu"
   },
   "source": [
    "### Жанровые предпочтения в Москве и Петербурге\n",
    "\n",
    "Гипотеза: Петербург — столица рэпа, музыку этого жанра там слушают чаще, чем в Москве.  А Москва — город контрастов, в котором, тем не менее, преобладает поп-музыка."
   ]
  },
  {
   "cell_type": "markdown",
   "metadata": {
    "deletable": false,
    "editable": false,
    "id": "DlegSvaT_Zcu",
    "tags": [
     "start_task"
    ]
   },
   "source": [
    "**Задание 26**\n",
    "\n",
    "Сгруппируйте таблицу `moscow_general` по жанру и посчитайте прослушивания треков каждого жанра методом `count()`. Затем отсортируйте результат в порядке убывания и сохраните его в таблице `moscow_genres`."
   ]
  },
  {
   "cell_type": "code",
   "execution_count": 35,
   "metadata": {
    "deletable": false,
    "id": "r19lIPke_Zcu",
    "ExecuteTime": {
     "end_time": "2024-02-20T17:29:56.955508332Z",
     "start_time": "2024-02-20T17:29:56.835941876Z"
    }
   },
   "outputs": [],
   "source": [
    "# одной строкой: группировка таблицы moscow_general по столбцу 'genre', \n",
    "# подсчёт числа значений 'genre' в этой группировке методом count(), \n",
    "# сортировка получившегося Series в порядке убывания и сохранение в moscow_genres\n",
    "moscow_genres = moscow_general.groupby('genre')['genre'].count().sort_values(ascending=False)"
   ]
  },
  {
   "cell_type": "markdown",
   "metadata": {
    "deletable": false,
    "editable": false,
    "id": "6kMuomxTiIr8",
    "tags": [
     "start_task"
    ]
   },
   "source": [
    "**Задание 27**\n",
    "\n",
    "Выведите на экран первые десять строк `moscow_genres`:"
   ]
  },
  {
   "cell_type": "code",
   "execution_count": 36,
   "metadata": {
    "deletable": false,
    "id": "WhCSooF8_Zcv",
    "ExecuteTime": {
     "end_time": "2024-02-20T17:29:56.991645103Z",
     "start_time": "2024-02-20T17:29:56.926042792Z"
    }
   },
   "outputs": [
    {
     "data": {
      "text/plain": "genre\npop            5892\ndance          4435\nrock           3965\nelectronic     3786\nhiphop         2096\nclassical      1616\nworld          1432\nalternative    1379\nruspop         1372\nrusrap         1161\nName: genre, dtype: int64"
     },
     "execution_count": 36,
     "metadata": {},
     "output_type": "execute_result"
    }
   ],
   "source": [
    "# просмотр первых 10 строк moscow_genres\n",
    "moscow_genres.head(10)"
   ]
  },
  {
   "cell_type": "markdown",
   "metadata": {
    "deletable": false,
    "editable": false,
    "id": "cnPG2vnN_Zcv",
    "tags": [
     "start_task"
    ]
   },
   "source": [
    "**Задание 28**\n",
    "\n",
    "\n",
    "Теперь повторите то же и для Петербурга.\n",
    "\n",
    "Сгруппируйте таблицу `spb_general` по жанру. Посчитайте прослушивания треков каждого жанра. Результат отсортируйте в порядке убывания и сохраните в таблице `spb_genres`:\n"
   ]
  },
  {
   "cell_type": "code",
   "execution_count": 37,
   "metadata": {
    "deletable": false,
    "id": "gluLIpE7_Zcv",
    "ExecuteTime": {
     "end_time": "2024-02-20T17:29:57.123206759Z",
     "start_time": "2024-02-20T17:29:56.984412717Z"
    }
   },
   "outputs": [],
   "source": [
    "# одной строкой: группировка таблицы spb_general по столбцу 'genre', \n",
    "# подсчёт числа значений 'genre' в этой группировке методом count(), \n",
    "# сортировка получившегося Series в порядке убывания и сохранение в spb_genres\n",
    "spb_genres = spb_general.groupby('genre')['genre'].count().sort_values(ascending=False)"
   ]
  },
  {
   "cell_type": "markdown",
   "metadata": {
    "deletable": false,
    "editable": false,
    "id": "5Doha_ODgyQ8",
    "tags": [
     "start_task"
    ]
   },
   "source": [
    "**Задание 29**\n",
    "\n",
    "Выведите на экран первые десять строк `spb_genres`:"
   ]
  },
  {
   "cell_type": "code",
   "execution_count": 38,
   "metadata": {
    "deletable": false,
    "id": "uaGJHjVU_Zcv",
    "ExecuteTime": {
     "end_time": "2024-02-20T17:29:57.187724148Z",
     "start_time": "2024-02-20T17:29:57.110206733Z"
    }
   },
   "outputs": [
    {
     "data": {
      "text/plain": "genre\npop            2431\ndance          1932\nrock           1879\nelectronic     1736\nhiphop          960\nalternative     649\nclassical       646\nrusrap          564\nruspop          538\nworld           515\nName: genre, dtype: int64"
     },
     "execution_count": 38,
     "metadata": {},
     "output_type": "execute_result"
    }
   ],
   "source": [
    "# просмотр первых 10 строк spb_genres\n",
    "spb_genres.head(10)"
   ]
  },
  {
   "cell_type": "markdown",
   "metadata": {
    "deletable": false,
    "editable": false,
    "id": "RY51YJYu_Zcv"
   },
   "source": [
    "**Выводы**"
   ]
  },
  {
   "cell_type": "markdown",
   "metadata": {
    "deletable": false,
    "editable": false,
    "id": "nVhnJEm__Zcv"
   },
   "source": [
    "Гипотеза частично подтвердилась:\n",
    "* Поп-музыка — самый популярный жанр в Москве, как и предполагала гипотеза. Более того, в топ-10 жанров встречается близкий жанр — русская популярная музыка.\n",
    "* Вопреки ожиданиям, рэп одинаково популярен в Москве и Петербурге. \n"
   ]
  },
  {
   "cell_type": "markdown",
   "metadata": {
    "deletable": false,
    "editable": false,
    "id": "ykKQ0N65_Zcv"
   },
   "source": [
    "## Итоги исследования"
   ]
  },
  {
   "cell_type": "markdown",
   "metadata": {
    "deletable": false,
    "editable": false,
    "id": "tjUwbHb3_Zcv"
   },
   "source": [
    "Вы проверили три гипотезы и установили:\n",
    "\n",
    "1. День недели по-разному влияет на активность пользователей в Москве и Петербурге. \n",
    "\n",
    "Первая гипотеза полностью подтвердилась.\n",
    "\n",
    "2. Музыкальные предпочтения не сильно меняются в течение недели — будь то Москва или Петербург. Небольшие различия заметны в начале недели, по понедельникам:\n",
    "* в Москве слушают музыку жанра “world”,\n",
    "* в Петербурге — джаз и классику.\n",
    "\n",
    "Таким образом, вторая гипотеза подтвердилась лишь отчасти. Этот результат мог оказаться иным, если бы не пропуски в данных.\n",
    "\n",
    "3. Во вкусах пользователей Москвы и Петербурга больше общего чем различий. Вопреки ожиданиям, предпочтения жанров в Петербурге напоминают московские.\n",
    "\n",
    "Третья гипотеза не подтвердилась. Если различия в предпочтениях и существуют, на основной массе пользователей они незаметны.\n",
    "\n",
    "**На практике исследования содержат проверки статистических гипотез.**\n",
    "Из данных одного сервиса не всегда можно сделать вывод о всех жителях города.\n",
    "Проверки статистических гипотез покажут, насколько они достоверны, исходя из имеющихся данных. \n",
    "С методами проверок гипотез вы ещё познакомитесь в следующих темах."
   ]
  }
 ],
 "metadata": {
  "ExecuteTimeLog": [
   {
    "duration": 52,
    "start_time": "2023-01-30T22:21:03.593Z"
   },
   {
    "duration": 430,
    "start_time": "2023-01-30T22:21:07.458Z"
   },
   {
    "duration": 182,
    "start_time": "2023-01-30T22:21:12.075Z"
   },
   {
    "duration": 18,
    "start_time": "2023-01-30T22:21:21.263Z"
   },
   {
    "duration": 34,
    "start_time": "2023-01-30T22:21:35.217Z"
   },
   {
    "duration": 44,
    "start_time": "2023-01-31T20:16:07.483Z"
   },
   {
    "duration": 419,
    "start_time": "2023-01-31T20:16:20.187Z"
   },
   {
    "duration": 470,
    "start_time": "2023-01-31T20:16:20.608Z"
   },
   {
    "duration": 18,
    "start_time": "2023-01-31T20:16:21.079Z"
   },
   {
    "duration": 32,
    "start_time": "2023-01-31T20:16:21.099Z"
   },
   {
    "duration": 2,
    "start_time": "2023-01-31T20:16:21.133Z"
   },
   {
    "duration": 7,
    "start_time": "2023-01-31T20:16:21.137Z"
   },
   {
    "duration": 7,
    "start_time": "2023-01-31T20:16:21.146Z"
   },
   {
    "duration": 10,
    "start_time": "2023-01-31T20:16:21.155Z"
   },
   {
    "duration": 34,
    "start_time": "2023-01-31T20:16:21.167Z"
   },
   {
    "duration": 37,
    "start_time": "2023-01-31T20:16:21.203Z"
   },
   {
    "duration": 27,
    "start_time": "2023-01-31T20:16:21.241Z"
   },
   {
    "duration": 86,
    "start_time": "2023-01-31T20:16:21.269Z"
   },
   {
    "duration": 76,
    "start_time": "2023-01-31T20:16:21.356Z"
   },
   {
    "duration": 64,
    "start_time": "2023-01-31T20:16:21.433Z"
   },
   {
    "duration": 57,
    "start_time": "2023-01-31T20:16:21.499Z"
   },
   {
    "duration": 90,
    "start_time": "2023-01-31T20:16:21.557Z"
   },
   {
    "duration": 72,
    "start_time": "2023-01-31T20:16:27.451Z"
   },
   {
    "duration": 28,
    "start_time": "2023-01-31T21:03:00.531Z"
   },
   {
    "duration": 69,
    "start_time": "2023-01-31T21:03:11.285Z"
   },
   {
    "duration": 41,
    "start_time": "2023-01-31T21:03:13.193Z"
   },
   {
    "duration": 14,
    "start_time": "2023-01-31T21:03:17.641Z"
   },
   {
    "duration": 11,
    "start_time": "2023-01-31T21:03:20.008Z"
   },
   {
    "duration": 4,
    "start_time": "2023-01-31T21:03:37.519Z"
   },
   {
    "duration": 16,
    "start_time": "2023-01-31T21:03:39.828Z"
   },
   {
    "duration": 14,
    "start_time": "2023-01-31T21:03:41.589Z"
   },
   {
    "duration": 22,
    "start_time": "2023-01-31T21:03:42.896Z"
   },
   {
    "duration": 16,
    "start_time": "2023-01-31T21:03:45.231Z"
   },
   {
    "duration": 17,
    "start_time": "2023-01-31T21:03:46.973Z"
   },
   {
    "duration": 14,
    "start_time": "2023-01-31T21:03:49.556Z"
   },
   {
    "duration": 15,
    "start_time": "2023-01-31T21:09:10.450Z"
   },
   {
    "duration": 8,
    "start_time": "2023-01-31T21:09:57.760Z"
   },
   {
    "duration": 82,
    "start_time": "2023-01-31T21:11:33.748Z"
   },
   {
    "duration": 72,
    "start_time": "2023-01-31T21:11:39.978Z"
   },
   {
    "duration": 13,
    "start_time": "2023-01-31T21:11:42.918Z"
   },
   {
    "duration": 21,
    "start_time": "2023-01-31T21:11:52.898Z"
   },
   {
    "duration": 19,
    "start_time": "2023-01-31T21:12:12.546Z"
   },
   {
    "duration": 10,
    "start_time": "2023-01-31T21:12:38.554Z"
   },
   {
    "duration": 4,
    "start_time": "2023-01-31T21:28:23.918Z"
   },
   {
    "duration": 4,
    "start_time": "2023-01-31T21:28:32.110Z"
   },
   {
    "duration": 5,
    "start_time": "2023-01-31T21:38:01.689Z"
   },
   {
    "duration": 4,
    "start_time": "2023-01-31T21:38:07.569Z"
   },
   {
    "duration": 5,
    "start_time": "2023-01-31T21:38:08.275Z"
   },
   {
    "duration": 4,
    "start_time": "2023-01-31T21:38:08.988Z"
   },
   {
    "duration": 11,
    "start_time": "2023-01-31T21:38:53.602Z"
   },
   {
    "duration": 25,
    "start_time": "2023-01-31T21:39:02.097Z"
   },
   {
    "duration": 3,
    "start_time": "2023-01-31T21:39:25.240Z"
   },
   {
    "duration": 183,
    "start_time": "2023-01-31T21:39:25.245Z"
   },
   {
    "duration": 11,
    "start_time": "2023-01-31T21:39:25.430Z"
   },
   {
    "duration": 31,
    "start_time": "2023-01-31T21:39:25.443Z"
   },
   {
    "duration": 2,
    "start_time": "2023-01-31T21:39:25.476Z"
   },
   {
    "duration": 6,
    "start_time": "2023-01-31T21:39:25.480Z"
   },
   {
    "duration": 9,
    "start_time": "2023-01-31T21:39:25.488Z"
   },
   {
    "duration": 23,
    "start_time": "2023-01-31T21:39:25.499Z"
   },
   {
    "duration": 33,
    "start_time": "2023-01-31T21:39:25.523Z"
   },
   {
    "duration": 18,
    "start_time": "2023-01-31T21:39:25.558Z"
   },
   {
    "duration": 42,
    "start_time": "2023-01-31T21:39:25.579Z"
   },
   {
    "duration": 64,
    "start_time": "2023-01-31T21:39:25.622Z"
   },
   {
    "duration": 78,
    "start_time": "2023-01-31T21:39:25.688Z"
   },
   {
    "duration": 61,
    "start_time": "2023-01-31T21:39:25.768Z"
   },
   {
    "duration": 38,
    "start_time": "2023-01-31T21:39:25.830Z"
   },
   {
    "duration": 95,
    "start_time": "2023-01-31T21:39:25.870Z"
   },
   {
    "duration": 37,
    "start_time": "2023-01-31T21:39:25.967Z"
   },
   {
    "duration": 21,
    "start_time": "2023-01-31T21:39:26.006Z"
   },
   {
    "duration": 10,
    "start_time": "2023-01-31T21:39:26.029Z"
   },
   {
    "duration": 4,
    "start_time": "2023-01-31T21:39:26.041Z"
   },
   {
    "duration": 26,
    "start_time": "2023-01-31T21:39:26.047Z"
   },
   {
    "duration": 16,
    "start_time": "2023-01-31T21:39:26.075Z"
   },
   {
    "duration": 55,
    "start_time": "2023-01-31T21:39:26.092Z"
   },
   {
    "duration": 16,
    "start_time": "2023-01-31T21:39:26.149Z"
   },
   {
    "duration": 18,
    "start_time": "2023-01-31T21:39:26.167Z"
   },
   {
    "duration": 39,
    "start_time": "2023-01-31T21:39:26.187Z"
   },
   {
    "duration": 10,
    "start_time": "2023-01-31T21:39:26.228Z"
   },
   {
    "duration": 17,
    "start_time": "2023-01-31T21:39:26.240Z"
   },
   {
    "duration": 11,
    "start_time": "2023-01-31T21:39:26.261Z"
   },
   {
    "duration": 22,
    "start_time": "2023-01-31T21:39:36.181Z"
   },
   {
    "duration": 21,
    "start_time": "2023-01-31T21:39:56.037Z"
   },
   {
    "duration": 55,
    "start_time": "2023-01-31T21:40:24.335Z"
   },
   {
    "duration": 35,
    "start_time": "2023-01-31T21:40:45.558Z"
   },
   {
    "duration": 25,
    "start_time": "2023-01-31T21:41:05.528Z"
   },
   {
    "duration": 3,
    "start_time": "2023-01-31T21:49:15.994Z"
   },
   {
    "duration": 205,
    "start_time": "2023-01-31T21:49:15.999Z"
   },
   {
    "duration": 16,
    "start_time": "2023-01-31T21:49:16.207Z"
   },
   {
    "duration": 53,
    "start_time": "2023-01-31T21:49:16.225Z"
   },
   {
    "duration": 2,
    "start_time": "2023-01-31T21:49:16.281Z"
   },
   {
    "duration": 10,
    "start_time": "2023-01-31T21:49:16.285Z"
   },
   {
    "duration": 27,
    "start_time": "2023-01-31T21:49:16.297Z"
   },
   {
    "duration": 19,
    "start_time": "2023-01-31T21:49:16.326Z"
   },
   {
    "duration": 42,
    "start_time": "2023-01-31T21:49:16.347Z"
   },
   {
    "duration": 19,
    "start_time": "2023-01-31T21:49:16.392Z"
   },
   {
    "duration": 29,
    "start_time": "2023-01-31T21:49:16.415Z"
   },
   {
    "duration": 88,
    "start_time": "2023-01-31T21:49:16.446Z"
   },
   {
    "duration": 124,
    "start_time": "2023-01-31T21:49:16.536Z"
   },
   {
    "duration": 66,
    "start_time": "2023-01-31T21:49:16.662Z"
   },
   {
    "duration": 42,
    "start_time": "2023-01-31T21:49:16.730Z"
   },
   {
    "duration": 100,
    "start_time": "2023-01-31T21:49:16.774Z"
   },
   {
    "duration": 47,
    "start_time": "2023-01-31T21:49:16.876Z"
   },
   {
    "duration": 12,
    "start_time": "2023-01-31T21:49:16.925Z"
   },
   {
    "duration": 12,
    "start_time": "2023-01-31T21:49:16.938Z"
   },
   {
    "duration": 4,
    "start_time": "2023-01-31T21:49:16.951Z"
   },
   {
    "duration": 24,
    "start_time": "2023-01-31T21:49:16.957Z"
   },
   {
    "duration": 44,
    "start_time": "2023-01-31T21:49:16.983Z"
   },
   {
    "duration": 16,
    "start_time": "2023-01-31T21:49:17.028Z"
   },
   {
    "duration": 14,
    "start_time": "2023-01-31T21:49:17.045Z"
   },
   {
    "duration": 15,
    "start_time": "2023-01-31T21:49:17.061Z"
   },
   {
    "duration": 45,
    "start_time": "2023-01-31T21:49:17.078Z"
   },
   {
    "duration": 11,
    "start_time": "2023-01-31T21:49:17.125Z"
   },
   {
    "duration": 17,
    "start_time": "2023-01-31T21:49:17.138Z"
   },
   {
    "duration": 10,
    "start_time": "2023-01-31T21:49:17.158Z"
   },
   {
    "duration": 5,
    "start_time": "2023-01-31T21:56:14.406Z"
   },
   {
    "duration": 6,
    "start_time": "2023-01-31T21:56:21.367Z"
   },
   {
    "duration": 468,
    "start_time": "2023-01-31T21:56:41.521Z"
   },
   {
    "duration": 181,
    "start_time": "2023-01-31T21:56:41.991Z"
   },
   {
    "duration": 17,
    "start_time": "2023-01-31T21:56:42.174Z"
   },
   {
    "duration": 42,
    "start_time": "2023-01-31T21:56:42.193Z"
   },
   {
    "duration": 2,
    "start_time": "2023-01-31T21:56:42.237Z"
   },
   {
    "duration": 15,
    "start_time": "2023-01-31T21:56:42.240Z"
   },
   {
    "duration": 28,
    "start_time": "2023-01-31T21:56:42.256Z"
   },
   {
    "duration": 24,
    "start_time": "2023-01-31T21:56:42.286Z"
   },
   {
    "duration": 51,
    "start_time": "2023-01-31T21:56:42.313Z"
   },
   {
    "duration": 34,
    "start_time": "2023-01-31T21:56:42.367Z"
   },
   {
    "duration": 26,
    "start_time": "2023-01-31T21:56:42.403Z"
   },
   {
    "duration": 131,
    "start_time": "2023-01-31T21:56:42.431Z"
   },
   {
    "duration": 82,
    "start_time": "2023-01-31T21:56:42.564Z"
   },
   {
    "duration": 83,
    "start_time": "2023-01-31T21:56:42.648Z"
   },
   {
    "duration": 45,
    "start_time": "2023-01-31T21:56:42.733Z"
   },
   {
    "duration": 105,
    "start_time": "2023-01-31T21:56:42.780Z"
   },
   {
    "duration": 52,
    "start_time": "2023-01-31T21:56:42.887Z"
   },
   {
    "duration": 16,
    "start_time": "2023-01-31T21:56:42.940Z"
   },
   {
    "duration": 12,
    "start_time": "2023-01-31T21:56:42.958Z"
   },
   {
    "duration": 4,
    "start_time": "2023-01-31T21:56:42.972Z"
   },
   {
    "duration": 45,
    "start_time": "2023-01-31T21:56:42.977Z"
   },
   {
    "duration": 19,
    "start_time": "2023-01-31T21:56:43.024Z"
   },
   {
    "duration": 27,
    "start_time": "2023-01-31T21:56:43.046Z"
   },
   {
    "duration": 15,
    "start_time": "2023-01-31T21:56:43.075Z"
   },
   {
    "duration": 44,
    "start_time": "2023-01-31T21:56:43.092Z"
   },
   {
    "duration": 25,
    "start_time": "2023-01-31T21:56:43.139Z"
   },
   {
    "duration": 12,
    "start_time": "2023-01-31T21:56:43.167Z"
   },
   {
    "duration": 42,
    "start_time": "2023-01-31T21:56:43.182Z"
   },
   {
    "duration": 10,
    "start_time": "2023-01-31T21:56:43.226Z"
   },
   {
    "duration": 5,
    "start_time": "2023-01-31T21:56:54.436Z"
   },
   {
    "duration": 13,
    "start_time": "2023-01-31T22:01:38.360Z"
   },
   {
    "duration": 6,
    "start_time": "2023-01-31T22:04:28.539Z"
   },
   {
    "duration": 7,
    "start_time": "2023-01-31T22:05:10.565Z"
   },
   {
    "duration": 44,
    "start_time": "2023-01-31T22:15:10.851Z"
   },
   {
    "duration": 41,
    "start_time": "2023-01-31T22:16:00.348Z"
   },
   {
    "duration": 41,
    "start_time": "2023-01-31T22:16:09.336Z"
   },
   {
    "duration": 54,
    "start_time": "2023-01-31T22:17:01.112Z"
   },
   {
    "duration": 50,
    "start_time": "2023-01-31T22:17:47.005Z"
   },
   {
    "duration": 49,
    "start_time": "2023-01-31T22:18:23.752Z"
   },
   {
    "duration": 40,
    "start_time": "2023-01-31T22:23:00.409Z"
   },
   {
    "duration": 29,
    "start_time": "2023-01-31T22:23:39.681Z"
   },
   {
    "duration": 111,
    "start_time": "2023-01-31T22:24:00.822Z"
   },
   {
    "duration": 39,
    "start_time": "2023-01-31T22:24:13.660Z"
   },
   {
    "duration": 37,
    "start_time": "2023-01-31T22:27:43.119Z"
   },
   {
    "duration": 34,
    "start_time": "2023-01-31T22:27:52.405Z"
   },
   {
    "duration": 28,
    "start_time": "2023-01-31T22:34:01.863Z"
   },
   {
    "duration": 17,
    "start_time": "2023-01-31T22:34:03.936Z"
   },
   {
    "duration": 30,
    "start_time": "2023-01-31T22:34:06.510Z"
   },
   {
    "duration": 19,
    "start_time": "2023-01-31T22:34:08.195Z"
   },
   {
    "duration": 13,
    "start_time": "2023-01-31T22:36:26.930Z"
   },
   {
    "duration": 13,
    "start_time": "2023-01-31T22:37:09.633Z"
   },
   {
    "duration": 6,
    "start_time": "2023-01-31T22:37:11.490Z"
   },
   {
    "duration": 13,
    "start_time": "2023-01-31T22:37:32.845Z"
   },
   {
    "duration": 6,
    "start_time": "2023-01-31T22:38:09.490Z"
   },
   {
    "duration": 5,
    "start_time": "2023-01-31T22:38:13.247Z"
   }
  ],
  "colab": {
   "collapsed_sections": [
    "E0vqbgi9ay0H",
    "VUC88oWjTJw2"
   ],
   "provenance": []
  },
  "kernelspec": {
   "display_name": "Python 3 (ipykernel)",
   "language": "python",
   "name": "python3"
  },
  "language_info": {
   "codemirror_mode": {
    "name": "ipython",
    "version": 3
   },
   "file_extension": ".py",
   "mimetype": "text/x-python",
   "name": "python",
   "nbconvert_exporter": "python",
   "pygments_lexer": "ipython3",
   "version": "3.9.5"
  },
  "toc": {
   "base_numbering": 1,
   "nav_menu": {
    "height": "215px",
    "width": "403px"
   },
   "number_sections": true,
   "sideBar": true,
   "skip_h1_title": true,
   "title_cell": "Table of Contents",
   "title_sidebar": "Contents",
   "toc_cell": false,
   "toc_position": {
    "height": "calc(100% - 180px)",
    "left": "10px",
    "top": "150px",
    "width": "285.825px"
   },
   "toc_section_display": true,
   "toc_window_display": false
  }
 },
 "nbformat": 4,
 "nbformat_minor": 1
}
