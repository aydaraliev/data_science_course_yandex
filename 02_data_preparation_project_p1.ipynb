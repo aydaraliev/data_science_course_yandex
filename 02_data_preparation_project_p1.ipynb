{
 "cells": [
  {
   "cell_type": "markdown",
   "id": "4f11de00",
   "metadata": {
    "deletable": false,
    "editable": false,
    "id": "4f11de00"
   },
   "source": [
    "# Исследование надежности заемщиков"
   ]
  },
  {
   "cell_type": "markdown",
   "id": "f09d6878",
   "metadata": {
    "deletable": false,
    "editable": false,
    "id": "f09d6878"
   },
   "source": [
    "Это первая часть проекта, она будет проверена автоматически. Вторую часть проверит ревьюер. "
   ]
  },
  {
   "cell_type": "markdown",
   "id": "516620ee",
   "metadata": {
    "deletable": false,
    "editable": false,
    "id": "516620ee"
   },
   "source": [
    "## Откройте таблицу и изучите общую информацию о данных"
   ]
  },
  {
   "cell_type": "markdown",
   "id": "76a8a9ce",
   "metadata": {
    "deletable": false,
    "editable": false,
    "id": "76a8a9ce",
    "tags": [
     "start_task"
    ]
   },
   "source": [
    "**Задание 1. Импортируйте библиотеку pandas. Считайте данные из csv-файла в датафрейм и сохраните в переменную `data`. Путь к файлу:**\n",
    "\n",
    "`/datasets/data.csv`"
   ]
  },
  {
   "cell_type": "code",
   "execution_count": 1,
   "id": "fab207d0",
   "metadata": {
    "id": "fab207d0",
    "ExecuteTime": {
     "end_time": "2024-02-20T17:32:09.223082602Z",
     "start_time": "2024-02-20T17:32:08.563707521Z"
    }
   },
   "outputs": [],
   "source": [
    "import pandas as pd"
   ]
  },
  {
   "cell_type": "code",
   "execution_count": 2,
   "id": "6c82b607",
   "metadata": {
    "id": "6c82b607",
    "ExecuteTime": {
     "end_time": "2024-02-20T17:32:09.369290491Z",
     "start_time": "2024-02-20T17:32:09.213292264Z"
    }
   },
   "outputs": [],
   "source": [
    "try:\n",
    "    data = pd.read_csv('data.csv')\n",
    "except FileNotFoundError:\n",
    "    print(\"ФАЙЛ НЕ УДАЛОСЬ НАЙТИ ЛОКАЛЬНО, СКАЧИВАЮ ИЗ ОБЛАКА\")\n",
    "    data = pd.read_csv(\"####\")"
   ]
  },
  {
   "cell_type": "markdown",
   "id": "08bbb5b3",
   "metadata": {
    "deletable": false,
    "editable": false,
    "id": "08bbb5b3",
    "tags": [
     "start_task"
    ]
   },
   "source": [
    "**Задание 2. Выведите первые 20 строчек датафрейма `data` на экран.**"
   ]
  },
  {
   "cell_type": "code",
   "execution_count": 3,
   "id": "4ff33b36",
   "metadata": {
    "id": "4ff33b36",
    "ExecuteTime": {
     "end_time": "2024-02-20T17:32:09.372191481Z",
     "start_time": "2024-02-20T17:32:09.354502187Z"
    }
   },
   "outputs": [
    {
     "data": {
      "text/plain": "    children  days_employed  dob_years            education  education_id  \\\n0          1   -8437.673028         42               высшее             0   \n1          1   -4024.803754         36              среднее             1   \n2          0   -5623.422610         33              Среднее             1   \n3          3   -4124.747207         32              среднее             1   \n4          0  340266.072047         53              среднее             1   \n5          0    -926.185831         27               высшее             0   \n6          0   -2879.202052         43               высшее             0   \n7          0    -152.779569         50              СРЕДНЕЕ             1   \n8          2   -6929.865299         35               ВЫСШЕЕ             0   \n9          0   -2188.756445         41              среднее             1   \n10         2   -4171.483647         36               высшее             0   \n11         0    -792.701887         40              среднее             1   \n12         0            NaN         65              среднее             1   \n13         0   -1846.641941         54  неоконченное высшее             2   \n14         0   -1844.956182         56               высшее             0   \n15         1    -972.364419         26              среднее             1   \n16         0   -1719.934226         35              среднее             1   \n17         0   -2369.999720         33               высшее             0   \n18         0  400281.136913         53              среднее             1   \n19         0  -10038.818549         48              СРЕДНЕЕ             1   \n\n       family_status  family_status_id gender income_type  debt  \\\n0    женат / замужем                 0      F   сотрудник     0   \n1    женат / замужем                 0      F   сотрудник     0   \n2    женат / замужем                 0      M   сотрудник     0   \n3    женат / замужем                 0      M   сотрудник     0   \n4   гражданский брак                 1      F   пенсионер     0   \n5   гражданский брак                 1      M   компаньон     0   \n6    женат / замужем                 0      F   компаньон     0   \n7    женат / замужем                 0      M   сотрудник     0   \n8   гражданский брак                 1      F   сотрудник     0   \n9    женат / замужем                 0      M   сотрудник     0   \n10   женат / замужем                 0      M   компаньон     0   \n11   женат / замужем                 0      F   сотрудник     0   \n12  гражданский брак                 1      M   пенсионер     0   \n13   женат / замужем                 0      F   сотрудник     0   \n14  гражданский брак                 1      F   компаньон     1   \n15   женат / замужем                 0      F   сотрудник     0   \n16   женат / замужем                 0      F   сотрудник     0   \n17  гражданский брак                 1      M   сотрудник     0   \n18    вдовец / вдова                 2      F   пенсионер     0   \n19         в разводе                 3      F   сотрудник     0   \n\n     total_income                                 purpose  \n0   253875.639453                           покупка жилья  \n1   112080.014102                 приобретение автомобиля  \n2   145885.952297                           покупка жилья  \n3   267628.550329              дополнительное образование  \n4   158616.077870                         сыграть свадьбу  \n5   255763.565419                           покупка жилья  \n6   240525.971920                       операции с жильем  \n7   135823.934197                             образование  \n8    95856.832424                   на проведение свадьбы  \n9   144425.938277                 покупка жилья для семьи  \n10  113943.491460                    покупка недвижимости  \n11   77069.234271       покупка коммерческой недвижимости  \n12            NaN                         сыграть свадьбу  \n13  130458.228857                 приобретение автомобиля  \n14  165127.911772              покупка жилой недвижимости  \n15  116820.904450  строительство собственной недвижимости  \n16  289202.704229                            недвижимость  \n17   90410.586745              строительство недвижимости  \n18   56823.777243      на покупку подержанного автомобиля  \n19  242831.107982            на покупку своего автомобиля  ",
      "text/html": "<div>\n<style scoped>\n    .dataframe tbody tr th:only-of-type {\n        vertical-align: middle;\n    }\n\n    .dataframe tbody tr th {\n        vertical-align: top;\n    }\n\n    .dataframe thead th {\n        text-align: right;\n    }\n</style>\n<table border=\"1\" class=\"dataframe\">\n  <thead>\n    <tr style=\"text-align: right;\">\n      <th></th>\n      <th>children</th>\n      <th>days_employed</th>\n      <th>dob_years</th>\n      <th>education</th>\n      <th>education_id</th>\n      <th>family_status</th>\n      <th>family_status_id</th>\n      <th>gender</th>\n      <th>income_type</th>\n      <th>debt</th>\n      <th>total_income</th>\n      <th>purpose</th>\n    </tr>\n  </thead>\n  <tbody>\n    <tr>\n      <th>0</th>\n      <td>1</td>\n      <td>-8437.673028</td>\n      <td>42</td>\n      <td>высшее</td>\n      <td>0</td>\n      <td>женат / замужем</td>\n      <td>0</td>\n      <td>F</td>\n      <td>сотрудник</td>\n      <td>0</td>\n      <td>253875.639453</td>\n      <td>покупка жилья</td>\n    </tr>\n    <tr>\n      <th>1</th>\n      <td>1</td>\n      <td>-4024.803754</td>\n      <td>36</td>\n      <td>среднее</td>\n      <td>1</td>\n      <td>женат / замужем</td>\n      <td>0</td>\n      <td>F</td>\n      <td>сотрудник</td>\n      <td>0</td>\n      <td>112080.014102</td>\n      <td>приобретение автомобиля</td>\n    </tr>\n    <tr>\n      <th>2</th>\n      <td>0</td>\n      <td>-5623.422610</td>\n      <td>33</td>\n      <td>Среднее</td>\n      <td>1</td>\n      <td>женат / замужем</td>\n      <td>0</td>\n      <td>M</td>\n      <td>сотрудник</td>\n      <td>0</td>\n      <td>145885.952297</td>\n      <td>покупка жилья</td>\n    </tr>\n    <tr>\n      <th>3</th>\n      <td>3</td>\n      <td>-4124.747207</td>\n      <td>32</td>\n      <td>среднее</td>\n      <td>1</td>\n      <td>женат / замужем</td>\n      <td>0</td>\n      <td>M</td>\n      <td>сотрудник</td>\n      <td>0</td>\n      <td>267628.550329</td>\n      <td>дополнительное образование</td>\n    </tr>\n    <tr>\n      <th>4</th>\n      <td>0</td>\n      <td>340266.072047</td>\n      <td>53</td>\n      <td>среднее</td>\n      <td>1</td>\n      <td>гражданский брак</td>\n      <td>1</td>\n      <td>F</td>\n      <td>пенсионер</td>\n      <td>0</td>\n      <td>158616.077870</td>\n      <td>сыграть свадьбу</td>\n    </tr>\n    <tr>\n      <th>5</th>\n      <td>0</td>\n      <td>-926.185831</td>\n      <td>27</td>\n      <td>высшее</td>\n      <td>0</td>\n      <td>гражданский брак</td>\n      <td>1</td>\n      <td>M</td>\n      <td>компаньон</td>\n      <td>0</td>\n      <td>255763.565419</td>\n      <td>покупка жилья</td>\n    </tr>\n    <tr>\n      <th>6</th>\n      <td>0</td>\n      <td>-2879.202052</td>\n      <td>43</td>\n      <td>высшее</td>\n      <td>0</td>\n      <td>женат / замужем</td>\n      <td>0</td>\n      <td>F</td>\n      <td>компаньон</td>\n      <td>0</td>\n      <td>240525.971920</td>\n      <td>операции с жильем</td>\n    </tr>\n    <tr>\n      <th>7</th>\n      <td>0</td>\n      <td>-152.779569</td>\n      <td>50</td>\n      <td>СРЕДНЕЕ</td>\n      <td>1</td>\n      <td>женат / замужем</td>\n      <td>0</td>\n      <td>M</td>\n      <td>сотрудник</td>\n      <td>0</td>\n      <td>135823.934197</td>\n      <td>образование</td>\n    </tr>\n    <tr>\n      <th>8</th>\n      <td>2</td>\n      <td>-6929.865299</td>\n      <td>35</td>\n      <td>ВЫСШЕЕ</td>\n      <td>0</td>\n      <td>гражданский брак</td>\n      <td>1</td>\n      <td>F</td>\n      <td>сотрудник</td>\n      <td>0</td>\n      <td>95856.832424</td>\n      <td>на проведение свадьбы</td>\n    </tr>\n    <tr>\n      <th>9</th>\n      <td>0</td>\n      <td>-2188.756445</td>\n      <td>41</td>\n      <td>среднее</td>\n      <td>1</td>\n      <td>женат / замужем</td>\n      <td>0</td>\n      <td>M</td>\n      <td>сотрудник</td>\n      <td>0</td>\n      <td>144425.938277</td>\n      <td>покупка жилья для семьи</td>\n    </tr>\n    <tr>\n      <th>10</th>\n      <td>2</td>\n      <td>-4171.483647</td>\n      <td>36</td>\n      <td>высшее</td>\n      <td>0</td>\n      <td>женат / замужем</td>\n      <td>0</td>\n      <td>M</td>\n      <td>компаньон</td>\n      <td>0</td>\n      <td>113943.491460</td>\n      <td>покупка недвижимости</td>\n    </tr>\n    <tr>\n      <th>11</th>\n      <td>0</td>\n      <td>-792.701887</td>\n      <td>40</td>\n      <td>среднее</td>\n      <td>1</td>\n      <td>женат / замужем</td>\n      <td>0</td>\n      <td>F</td>\n      <td>сотрудник</td>\n      <td>0</td>\n      <td>77069.234271</td>\n      <td>покупка коммерческой недвижимости</td>\n    </tr>\n    <tr>\n      <th>12</th>\n      <td>0</td>\n      <td>NaN</td>\n      <td>65</td>\n      <td>среднее</td>\n      <td>1</td>\n      <td>гражданский брак</td>\n      <td>1</td>\n      <td>M</td>\n      <td>пенсионер</td>\n      <td>0</td>\n      <td>NaN</td>\n      <td>сыграть свадьбу</td>\n    </tr>\n    <tr>\n      <th>13</th>\n      <td>0</td>\n      <td>-1846.641941</td>\n      <td>54</td>\n      <td>неоконченное высшее</td>\n      <td>2</td>\n      <td>женат / замужем</td>\n      <td>0</td>\n      <td>F</td>\n      <td>сотрудник</td>\n      <td>0</td>\n      <td>130458.228857</td>\n      <td>приобретение автомобиля</td>\n    </tr>\n    <tr>\n      <th>14</th>\n      <td>0</td>\n      <td>-1844.956182</td>\n      <td>56</td>\n      <td>высшее</td>\n      <td>0</td>\n      <td>гражданский брак</td>\n      <td>1</td>\n      <td>F</td>\n      <td>компаньон</td>\n      <td>1</td>\n      <td>165127.911772</td>\n      <td>покупка жилой недвижимости</td>\n    </tr>\n    <tr>\n      <th>15</th>\n      <td>1</td>\n      <td>-972.364419</td>\n      <td>26</td>\n      <td>среднее</td>\n      <td>1</td>\n      <td>женат / замужем</td>\n      <td>0</td>\n      <td>F</td>\n      <td>сотрудник</td>\n      <td>0</td>\n      <td>116820.904450</td>\n      <td>строительство собственной недвижимости</td>\n    </tr>\n    <tr>\n      <th>16</th>\n      <td>0</td>\n      <td>-1719.934226</td>\n      <td>35</td>\n      <td>среднее</td>\n      <td>1</td>\n      <td>женат / замужем</td>\n      <td>0</td>\n      <td>F</td>\n      <td>сотрудник</td>\n      <td>0</td>\n      <td>289202.704229</td>\n      <td>недвижимость</td>\n    </tr>\n    <tr>\n      <th>17</th>\n      <td>0</td>\n      <td>-2369.999720</td>\n      <td>33</td>\n      <td>высшее</td>\n      <td>0</td>\n      <td>гражданский брак</td>\n      <td>1</td>\n      <td>M</td>\n      <td>сотрудник</td>\n      <td>0</td>\n      <td>90410.586745</td>\n      <td>строительство недвижимости</td>\n    </tr>\n    <tr>\n      <th>18</th>\n      <td>0</td>\n      <td>400281.136913</td>\n      <td>53</td>\n      <td>среднее</td>\n      <td>1</td>\n      <td>вдовец / вдова</td>\n      <td>2</td>\n      <td>F</td>\n      <td>пенсионер</td>\n      <td>0</td>\n      <td>56823.777243</td>\n      <td>на покупку подержанного автомобиля</td>\n    </tr>\n    <tr>\n      <th>19</th>\n      <td>0</td>\n      <td>-10038.818549</td>\n      <td>48</td>\n      <td>СРЕДНЕЕ</td>\n      <td>1</td>\n      <td>в разводе</td>\n      <td>3</td>\n      <td>F</td>\n      <td>сотрудник</td>\n      <td>0</td>\n      <td>242831.107982</td>\n      <td>на покупку своего автомобиля</td>\n    </tr>\n  </tbody>\n</table>\n</div>"
     },
     "execution_count": 3,
     "metadata": {},
     "output_type": "execute_result"
    }
   ],
   "source": [
    "data.head(20)"
   ]
  },
  {
   "cell_type": "markdown",
   "id": "c8f382ae",
   "metadata": {
    "deletable": false,
    "editable": false,
    "id": "c8f382ae",
    "tags": [
     "start_task"
    ]
   },
   "source": [
    "**Задание 3. Выведите основную информацию о датафрейме с помощью метода `info()`.**"
   ]
  },
  {
   "cell_type": "code",
   "execution_count": 4,
   "id": "e1ed9908",
   "metadata": {
    "id": "e1ed9908",
    "ExecuteTime": {
     "end_time": "2024-02-20T17:32:09.517804244Z",
     "start_time": "2024-02-20T17:32:09.362832444Z"
    }
   },
   "outputs": [
    {
     "name": "stdout",
     "output_type": "stream",
     "text": [
      "<class 'pandas.core.frame.DataFrame'>\n",
      "RangeIndex: 21525 entries, 0 to 21524\n",
      "Data columns (total 12 columns):\n",
      " #   Column            Non-Null Count  Dtype  \n",
      "---  ------            --------------  -----  \n",
      " 0   children          21525 non-null  int64  \n",
      " 1   days_employed     19351 non-null  float64\n",
      " 2   dob_years         21525 non-null  int64  \n",
      " 3   education         21525 non-null  object \n",
      " 4   education_id      21525 non-null  int64  \n",
      " 5   family_status     21525 non-null  object \n",
      " 6   family_status_id  21525 non-null  int64  \n",
      " 7   gender            21525 non-null  object \n",
      " 8   income_type       21525 non-null  object \n",
      " 9   debt              21525 non-null  int64  \n",
      " 10  total_income      19351 non-null  float64\n",
      " 11  purpose           21525 non-null  object \n",
      "dtypes: float64(2), int64(5), object(5)\n",
      "memory usage: 2.0+ MB\n"
     ]
    }
   ],
   "source": [
    "data.info()"
   ]
  },
  {
   "cell_type": "markdown",
   "id": "f969a1cd",
   "metadata": {
    "deletable": false,
    "editable": false,
    "id": "f969a1cd"
   },
   "source": [
    "## Предобработка данных"
   ]
  },
  {
   "cell_type": "markdown",
   "id": "7283e864",
   "metadata": {
    "deletable": false,
    "editable": false,
    "id": "7283e864"
   },
   "source": [
    "### Удаление пропусков"
   ]
  },
  {
   "cell_type": "markdown",
   "id": "c9a0745e",
   "metadata": {
    "deletable": false,
    "editable": false,
    "id": "c9a0745e",
    "tags": [
     "start_task"
    ]
   },
   "source": [
    "**Задание 4. Выведите количество пропущенных значений для каждого столбца. Используйте комбинацию двух методов.**"
   ]
  },
  {
   "cell_type": "code",
   "execution_count": 5,
   "id": "b7a096e1",
   "metadata": {
    "id": "b7a096e1",
    "ExecuteTime": {
     "end_time": "2024-02-20T17:32:09.519673728Z",
     "start_time": "2024-02-20T17:32:09.382422176Z"
    }
   },
   "outputs": [
    {
     "data": {
      "text/plain": "children               0\ndays_employed       2174\ndob_years              0\neducation              0\neducation_id           0\nfamily_status          0\nfamily_status_id       0\ngender                 0\nincome_type            0\ndebt                   0\ntotal_income        2174\npurpose                0\ndtype: int64"
     },
     "execution_count": 5,
     "metadata": {},
     "output_type": "execute_result"
    }
   ],
   "source": [
    "# ваш код здесь\n",
    "data.isna().sum()"
   ]
  },
  {
   "cell_type": "markdown",
   "id": "c2578616",
   "metadata": {
    "deletable": false,
    "editable": false,
    "id": "c2578616",
    "tags": [
     "start_task"
    ]
   },
   "source": [
    "**Задание 5. В двух столбцах есть пропущенные значения. Один из них — `days_employed`. Пропуски в этом столбце вы обработаете на следующем этапе. Другой столбец с пропущенными значениями — `total_income` — хранит данные о доходах. На сумму дохода сильнее всего влияет тип занятости, поэтому заполнить пропуски в этом столбце нужно медианным значением по каждому типу из столбца `income_type`. Например, у человека с типом занятости `сотрудник` пропуск в столбце `total_income` должен быть заполнен медианным доходом среди всех записей с тем же типом.**"
   ]
  },
  {
   "cell_type": "code",
   "execution_count": 6,
   "id": "e8afc4bc",
   "metadata": {
    "id": "e8afc4bc",
    "ExecuteTime": {
     "end_time": "2024-02-20T17:32:09.585483440Z",
     "start_time": "2024-02-20T17:32:09.409006850Z"
    }
   },
   "outputs": [],
   "source": [
    "# ваш код здесь\n",
    "total_income_grouped = data.groupby('income_type').agg({'total_income':'median'})\n",
    "total_income = total_income_grouped.to_dict()['total_income']\n",
    "data['total_income'] = data['total_income'].fillna(data['income_type'].map(total_income))"
   ]
  },
  {
   "cell_type": "markdown",
   "id": "ae986d46",
   "metadata": {
    "deletable": false,
    "editable": false,
    "id": "ae986d46"
   },
   "source": [
    "### Обработка аномальных значений"
   ]
  },
  {
   "cell_type": "markdown",
   "id": "b049cbae",
   "metadata": {
    "deletable": false,
    "editable": false,
    "id": "b049cbae",
    "tags": [
     "start_task"
    ]
   },
   "source": [
    "**Задание 6. В данных могут встречаться артефакты (аномалии) — значения, которые не отражают действительность и появились по какой-то ошибке. Таким артефактом будет отрицательное количество дней трудового стажа в столбце `days_employed`. Для реальных данных это нормально. Обработайте значения в этом столбце: замените все отрицательные значения положительными с помощью метода `abs()`.**"
   ]
  },
  {
   "cell_type": "code",
   "execution_count": 7,
   "id": "187779b0",
   "metadata": {
    "id": "187779b0",
    "ExecuteTime": {
     "end_time": "2024-02-20T17:32:09.587393913Z",
     "start_time": "2024-02-20T17:32:09.450472294Z"
    }
   },
   "outputs": [],
   "source": [
    "data.days_employed = abs(data.days_employed)"
   ]
  },
  {
   "cell_type": "markdown",
   "id": "a13054c2",
   "metadata": {
    "deletable": false,
    "editable": false,
    "id": "a13054c2",
    "tags": [
     "start_task"
    ]
   },
   "source": [
    "**Задание 7. Для каждого типа занятости выведите медианное значение трудового стажа `days_employed` в днях.**"
   ]
  },
  {
   "cell_type": "code",
   "execution_count": 8,
   "id": "f3f5810c",
   "metadata": {
    "id": "f3f5810c",
    "ExecuteTime": {
     "end_time": "2024-02-20T17:32:09.589880651Z",
     "start_time": "2024-02-20T17:32:09.450784833Z"
    }
   },
   "outputs": [
    {
     "data": {
      "text/plain": "                 days_employed\nincome_type                   \nбезработный      366413.652744\nв декрете          3296.759962\nгосслужащий        2689.368353\nкомпаньон          1547.382223\nпенсионер        365213.306266\nпредприниматель     520.848083\nсотрудник          1574.202821\nстудент             578.751554",
      "text/html": "<div>\n<style scoped>\n    .dataframe tbody tr th:only-of-type {\n        vertical-align: middle;\n    }\n\n    .dataframe tbody tr th {\n        vertical-align: top;\n    }\n\n    .dataframe thead th {\n        text-align: right;\n    }\n</style>\n<table border=\"1\" class=\"dataframe\">\n  <thead>\n    <tr style=\"text-align: right;\">\n      <th></th>\n      <th>days_employed</th>\n    </tr>\n    <tr>\n      <th>income_type</th>\n      <th></th>\n    </tr>\n  </thead>\n  <tbody>\n    <tr>\n      <th>безработный</th>\n      <td>366413.652744</td>\n    </tr>\n    <tr>\n      <th>в декрете</th>\n      <td>3296.759962</td>\n    </tr>\n    <tr>\n      <th>госслужащий</th>\n      <td>2689.368353</td>\n    </tr>\n    <tr>\n      <th>компаньон</th>\n      <td>1547.382223</td>\n    </tr>\n    <tr>\n      <th>пенсионер</th>\n      <td>365213.306266</td>\n    </tr>\n    <tr>\n      <th>предприниматель</th>\n      <td>520.848083</td>\n    </tr>\n    <tr>\n      <th>сотрудник</th>\n      <td>1574.202821</td>\n    </tr>\n    <tr>\n      <th>студент</th>\n      <td>578.751554</td>\n    </tr>\n  </tbody>\n</table>\n</div>"
     },
     "execution_count": 8,
     "metadata": {},
     "output_type": "execute_result"
    }
   ],
   "source": [
    "data.groupby('income_type').agg({'days_employed':'median'})"
   ]
  },
  {
   "cell_type": "markdown",
   "id": "dbc3168c",
   "metadata": {
    "deletable": false,
    "editable": false,
    "id": "dbc3168c"
   },
   "source": [
    "У двух типов (безработные и пенсионеры) получатся аномально большие значения. Исправить такие значения сложно, поэтому оставьте их как есть."
   ]
  },
  {
   "cell_type": "markdown",
   "id": "ff4378c2",
   "metadata": {
    "deletable": false,
    "editable": false,
    "id": "ff4378c2",
    "tags": [
     "start_task"
    ]
   },
   "source": [
    "**Задание 8. Выведите перечень уникальных значений столбца `children`.**"
   ]
  },
  {
   "cell_type": "code",
   "execution_count": 9,
   "id": "9bd0c232",
   "metadata": {
    "id": "9bd0c232",
    "ExecuteTime": {
     "end_time": "2024-02-20T17:32:09.767257622Z",
     "start_time": "2024-02-20T17:32:09.462557219Z"
    }
   },
   "outputs": [
    {
     "data": {
      "text/plain": "array([ 1,  0,  3,  2, -1,  4, 20,  5])"
     },
     "execution_count": 9,
     "metadata": {},
     "output_type": "execute_result"
    }
   ],
   "source": [
    "# ваш код здесь\n",
    "data.children.unique()"
   ]
  },
  {
   "cell_type": "markdown",
   "id": "8e911990",
   "metadata": {
    "deletable": false,
    "editable": false,
    "id": "8e911990",
    "tags": [
     "start_task"
    ]
   },
   "source": [
    "**Задание 9. В столбце `children` есть два аномальных значения. Удалите строки, в которых встречаются такие аномальные значения из датафрейма `data`.**"
   ]
  },
  {
   "cell_type": "code",
   "execution_count": 10,
   "id": "6d5ba289",
   "metadata": {
    "id": "6d5ba289",
    "ExecuteTime": {
     "end_time": "2024-02-20T17:32:09.768939540Z",
     "start_time": "2024-02-20T17:32:09.506574154Z"
    }
   },
   "outputs": [],
   "source": [
    "# ваш код здесь\n",
    "data = data.loc[(data['children'] != -1) & (data.children != 20)]"
   ]
  },
  {
   "cell_type": "markdown",
   "id": "18d77455",
   "metadata": {
    "deletable": false,
    "editable": false,
    "id": "18d77455",
    "tags": [
     "start_task"
    ]
   },
   "source": [
    "**Задание 10. Ещё раз выведите перечень уникальных значений столбца `children`, чтобы убедиться, что артефакты удалены.**"
   ]
  },
  {
   "cell_type": "code",
   "execution_count": 11,
   "id": "2c5fa92c",
   "metadata": {
    "id": "2c5fa92c",
    "ExecuteTime": {
     "end_time": "2024-02-20T17:32:09.770662204Z",
     "start_time": "2024-02-20T17:32:09.506925673Z"
    }
   },
   "outputs": [
    {
     "data": {
      "text/plain": "array([1, 0, 3, 2, 4, 5])"
     },
     "execution_count": 11,
     "metadata": {},
     "output_type": "execute_result"
    }
   ],
   "source": [
    "data.children.unique()\n",
    "# ваш код здесь"
   ]
  },
  {
   "cell_type": "markdown",
   "id": "0ec07dee",
   "metadata": {
    "deletable": false,
    "editable": false,
    "id": "0ec07dee"
   },
   "source": [
    "### Удаление пропусков (продолжение)"
   ]
  },
  {
   "cell_type": "markdown",
   "id": "0fc3ae3f",
   "metadata": {
    "deletable": false,
    "editable": false,
    "id": "0fc3ae3f",
    "tags": [
     "start_task"
    ]
   },
   "source": [
    "**Задание 11. Заполните пропуски в столбце `days_employed` медианными значениями по каждому типу занятости `income_type`.**"
   ]
  },
  {
   "cell_type": "code",
   "execution_count": 12,
   "id": "e2aea7ac",
   "metadata": {
    "id": "e2aea7ac",
    "ExecuteTime": {
     "end_time": "2024-02-20T17:32:09.793447203Z",
     "start_time": "2024-02-20T17:32:09.507128056Z"
    }
   },
   "outputs": [],
   "source": [
    "d = data.groupby('income_type').agg({'days_employed':'median'}).to_dict()['days_employed']\n",
    "data.days_employed = data.days_employed.fillna(data.income_type.map(d))"
   ]
  },
  {
   "cell_type": "markdown",
   "id": "97b0b795",
   "metadata": {
    "deletable": false,
    "editable": false,
    "id": "97b0b795",
    "tags": [
     "start_task"
    ]
   },
   "source": [
    "**Задание 12. Убедитесь, что все пропуски заполнены. Проверьте себя и ещё раз выведите количество пропущенных значений для каждого столбца с помощью двух методов.**"
   ]
  },
  {
   "cell_type": "code",
   "execution_count": 13,
   "id": "79632a21",
   "metadata": {
    "id": "79632a21",
    "ExecuteTime": {
     "end_time": "2024-02-20T17:32:09.843741827Z",
     "start_time": "2024-02-20T17:32:09.525307197Z"
    }
   },
   "outputs": [
    {
     "name": "stdout",
     "output_type": "stream",
     "text": [
      "<class 'pandas.core.frame.DataFrame'>\n",
      "Index: 21402 entries, 0 to 21524\n",
      "Data columns (total 12 columns):\n",
      " #   Column            Non-Null Count  Dtype  \n",
      "---  ------            --------------  -----  \n",
      " 0   children          21402 non-null  int64  \n",
      " 1   days_employed     21402 non-null  float64\n",
      " 2   dob_years         21402 non-null  int64  \n",
      " 3   education         21402 non-null  object \n",
      " 4   education_id      21402 non-null  int64  \n",
      " 5   family_status     21402 non-null  object \n",
      " 6   family_status_id  21402 non-null  int64  \n",
      " 7   gender            21402 non-null  object \n",
      " 8   income_type       21402 non-null  object \n",
      " 9   debt              21402 non-null  int64  \n",
      " 10  total_income      21402 non-null  float64\n",
      " 11  purpose           21402 non-null  object \n",
      "dtypes: float64(2), int64(5), object(5)\n",
      "memory usage: 2.1+ MB\n"
     ]
    },
    {
     "data": {
      "text/plain": "       children  days_employed  dob_years  education  education_id  \\\n0         False          False      False      False         False   \n1         False          False      False      False         False   \n2         False          False      False      False         False   \n3         False          False      False      False         False   \n4         False          False      False      False         False   \n...         ...            ...        ...        ...           ...   \n21520     False          False      False      False         False   \n21521     False          False      False      False         False   \n21522     False          False      False      False         False   \n21523     False          False      False      False         False   \n21524     False          False      False      False         False   \n\n       family_status  family_status_id  gender  income_type   debt  \\\n0              False             False   False        False  False   \n1              False             False   False        False  False   \n2              False             False   False        False  False   \n3              False             False   False        False  False   \n4              False             False   False        False  False   \n...              ...               ...     ...          ...    ...   \n21520          False             False   False        False  False   \n21521          False             False   False        False  False   \n21522          False             False   False        False  False   \n21523          False             False   False        False  False   \n21524          False             False   False        False  False   \n\n       total_income  purpose  \n0             False    False  \n1             False    False  \n2             False    False  \n3             False    False  \n4             False    False  \n...             ...      ...  \n21520         False    False  \n21521         False    False  \n21522         False    False  \n21523         False    False  \n21524         False    False  \n\n[21402 rows x 12 columns]",
      "text/html": "<div>\n<style scoped>\n    .dataframe tbody tr th:only-of-type {\n        vertical-align: middle;\n    }\n\n    .dataframe tbody tr th {\n        vertical-align: top;\n    }\n\n    .dataframe thead th {\n        text-align: right;\n    }\n</style>\n<table border=\"1\" class=\"dataframe\">\n  <thead>\n    <tr style=\"text-align: right;\">\n      <th></th>\n      <th>children</th>\n      <th>days_employed</th>\n      <th>dob_years</th>\n      <th>education</th>\n      <th>education_id</th>\n      <th>family_status</th>\n      <th>family_status_id</th>\n      <th>gender</th>\n      <th>income_type</th>\n      <th>debt</th>\n      <th>total_income</th>\n      <th>purpose</th>\n    </tr>\n  </thead>\n  <tbody>\n    <tr>\n      <th>0</th>\n      <td>False</td>\n      <td>False</td>\n      <td>False</td>\n      <td>False</td>\n      <td>False</td>\n      <td>False</td>\n      <td>False</td>\n      <td>False</td>\n      <td>False</td>\n      <td>False</td>\n      <td>False</td>\n      <td>False</td>\n    </tr>\n    <tr>\n      <th>1</th>\n      <td>False</td>\n      <td>False</td>\n      <td>False</td>\n      <td>False</td>\n      <td>False</td>\n      <td>False</td>\n      <td>False</td>\n      <td>False</td>\n      <td>False</td>\n      <td>False</td>\n      <td>False</td>\n      <td>False</td>\n    </tr>\n    <tr>\n      <th>2</th>\n      <td>False</td>\n      <td>False</td>\n      <td>False</td>\n      <td>False</td>\n      <td>False</td>\n      <td>False</td>\n      <td>False</td>\n      <td>False</td>\n      <td>False</td>\n      <td>False</td>\n      <td>False</td>\n      <td>False</td>\n    </tr>\n    <tr>\n      <th>3</th>\n      <td>False</td>\n      <td>False</td>\n      <td>False</td>\n      <td>False</td>\n      <td>False</td>\n      <td>False</td>\n      <td>False</td>\n      <td>False</td>\n      <td>False</td>\n      <td>False</td>\n      <td>False</td>\n      <td>False</td>\n    </tr>\n    <tr>\n      <th>4</th>\n      <td>False</td>\n      <td>False</td>\n      <td>False</td>\n      <td>False</td>\n      <td>False</td>\n      <td>False</td>\n      <td>False</td>\n      <td>False</td>\n      <td>False</td>\n      <td>False</td>\n      <td>False</td>\n      <td>False</td>\n    </tr>\n    <tr>\n      <th>...</th>\n      <td>...</td>\n      <td>...</td>\n      <td>...</td>\n      <td>...</td>\n      <td>...</td>\n      <td>...</td>\n      <td>...</td>\n      <td>...</td>\n      <td>...</td>\n      <td>...</td>\n      <td>...</td>\n      <td>...</td>\n    </tr>\n    <tr>\n      <th>21520</th>\n      <td>False</td>\n      <td>False</td>\n      <td>False</td>\n      <td>False</td>\n      <td>False</td>\n      <td>False</td>\n      <td>False</td>\n      <td>False</td>\n      <td>False</td>\n      <td>False</td>\n      <td>False</td>\n      <td>False</td>\n    </tr>\n    <tr>\n      <th>21521</th>\n      <td>False</td>\n      <td>False</td>\n      <td>False</td>\n      <td>False</td>\n      <td>False</td>\n      <td>False</td>\n      <td>False</td>\n      <td>False</td>\n      <td>False</td>\n      <td>False</td>\n      <td>False</td>\n      <td>False</td>\n    </tr>\n    <tr>\n      <th>21522</th>\n      <td>False</td>\n      <td>False</td>\n      <td>False</td>\n      <td>False</td>\n      <td>False</td>\n      <td>False</td>\n      <td>False</td>\n      <td>False</td>\n      <td>False</td>\n      <td>False</td>\n      <td>False</td>\n      <td>False</td>\n    </tr>\n    <tr>\n      <th>21523</th>\n      <td>False</td>\n      <td>False</td>\n      <td>False</td>\n      <td>False</td>\n      <td>False</td>\n      <td>False</td>\n      <td>False</td>\n      <td>False</td>\n      <td>False</td>\n      <td>False</td>\n      <td>False</td>\n      <td>False</td>\n    </tr>\n    <tr>\n      <th>21524</th>\n      <td>False</td>\n      <td>False</td>\n      <td>False</td>\n      <td>False</td>\n      <td>False</td>\n      <td>False</td>\n      <td>False</td>\n      <td>False</td>\n      <td>False</td>\n      <td>False</td>\n      <td>False</td>\n      <td>False</td>\n    </tr>\n  </tbody>\n</table>\n<p>21402 rows × 12 columns</p>\n</div>"
     },
     "execution_count": 13,
     "metadata": {},
     "output_type": "execute_result"
    }
   ],
   "source": [
    "data.info()\n",
    "data.isna()"
   ]
  },
  {
   "cell_type": "markdown",
   "id": "bd4aeb20",
   "metadata": {
    "deletable": false,
    "editable": false,
    "id": "bd4aeb20"
   },
   "source": [
    "### Изменение типов данных"
   ]
  },
  {
   "cell_type": "markdown",
   "id": "963bfa58",
   "metadata": {
    "deletable": false,
    "editable": false,
    "id": "963bfa58",
    "tags": [
     "start_task"
    ]
   },
   "source": [
    "**Задание 13. Замените вещественный тип данных в столбце `total_income` на целочисленный с помощью метода `astype()`.**"
   ]
  },
  {
   "cell_type": "code",
   "execution_count": 14,
   "id": "73da6ea0",
   "metadata": {
    "id": "73da6ea0",
    "ExecuteTime": {
     "end_time": "2024-02-20T17:32:09.885468392Z",
     "start_time": "2024-02-20T17:32:09.581207573Z"
    }
   },
   "outputs": [],
   "source": [
    "data.total_income = data.total_income.astype(int)"
   ]
  },
  {
   "cell_type": "markdown",
   "id": "d290239e",
   "metadata": {
    "deletable": false,
    "editable": false,
    "id": "d290239e"
   },
   "source": [
    "### Обработка дубликатов"
   ]
  },
  {
   "cell_type": "markdown",
   "id": "1b5844fd",
   "metadata": {
    "deletable": false,
    "editable": false,
    "id": "1b5844fd",
    "tags": [
     "start_task"
    ]
   },
   "source": [
    "**Задание 14. Обработайте неявные дубликаты в столбце `education`. В этом столбце есть одни и те же значения, но записанные по-разному: с использованием заглавных и строчных букв. Приведите их к нижнему регистру.**"
   ]
  },
  {
   "cell_type": "code",
   "execution_count": 15,
   "id": "3f2504b3",
   "metadata": {
    "id": "3f2504b3",
    "ExecuteTime": {
     "end_time": "2024-02-20T17:32:09.887572352Z",
     "start_time": "2024-02-20T17:32:09.622556452Z"
    }
   },
   "outputs": [],
   "source": [
    "data.education = data.education.str.lower()"
   ]
  },
  {
   "cell_type": "markdown",
   "id": "4c22acbc",
   "metadata": {
    "deletable": false,
    "editable": false,
    "id": "4c22acbc",
    "tags": [
     "start_task"
    ]
   },
   "source": [
    "**Задание 15. Выведите на экран количество строк-дубликатов в данных. Если такие строки присутствуют, удалите их.**"
   ]
  },
  {
   "cell_type": "code",
   "execution_count": 16,
   "id": "d34a4325",
   "metadata": {
    "id": "d34a4325",
    "ExecuteTime": {
     "end_time": "2024-02-20T17:32:09.936159592Z",
     "start_time": "2024-02-20T17:32:09.622879720Z"
    }
   },
   "outputs": [
    {
     "data": {
      "text/plain": "       children  days_employed  dob_years education  education_id  \\\n2849          0    1572.328285         41   среднее             1   \n3290          0  365286.622650         58   среднее             1   \n4182          1    1572.328285         34    высшее             0   \n4851          0  365286.622650         60   среднее             1   \n5557          0  365286.622650         58   среднее             1   \n...         ...            ...        ...       ...           ...   \n20702         0  365286.622650         64   среднее             1   \n21032         0  365286.622650         60   среднее             1   \n21132         0    1572.328285         47   среднее             1   \n21281         1    1572.328285         30    высшее             0   \n21415         0  365286.622650         54   среднее             1   \n\n          family_status  family_status_id gender income_type  debt  \\\n2849    женат / замужем                 0      F   сотрудник     0   \n3290   гражданский брак                 1      F   пенсионер     0   \n4182   гражданский брак                 1      F   сотрудник     0   \n4851   гражданский брак                 1      F   пенсионер     0   \n5557   гражданский брак                 1      F   пенсионер     0   \n...                 ...               ...    ...         ...   ...   \n20702   женат / замужем                 0      F   пенсионер     0   \n21032   женат / замужем                 0      F   пенсионер     0   \n21132   женат / замужем                 0      F   сотрудник     0   \n21281   женат / замужем                 0      F   сотрудник     0   \n21415   женат / замужем                 0      F   пенсионер     0   \n\n       total_income                            purpose  \n2849         142594            покупка жилья для семьи  \n3290         118514                    сыграть свадьбу  \n4182         142594                            свадьба  \n4851         118514                            свадьба  \n5557         118514                    сыграть свадьбу  \n...             ...                                ...  \n20702        118514         дополнительное образование  \n21032        118514              заняться образованием  \n21132        142594                       ремонт жилью  \n21281        142594  покупка коммерческой недвижимости  \n21415        118514                  операции с жильем  \n\n[71 rows x 12 columns]",
      "text/html": "<div>\n<style scoped>\n    .dataframe tbody tr th:only-of-type {\n        vertical-align: middle;\n    }\n\n    .dataframe tbody tr th {\n        vertical-align: top;\n    }\n\n    .dataframe thead th {\n        text-align: right;\n    }\n</style>\n<table border=\"1\" class=\"dataframe\">\n  <thead>\n    <tr style=\"text-align: right;\">\n      <th></th>\n      <th>children</th>\n      <th>days_employed</th>\n      <th>dob_years</th>\n      <th>education</th>\n      <th>education_id</th>\n      <th>family_status</th>\n      <th>family_status_id</th>\n      <th>gender</th>\n      <th>income_type</th>\n      <th>debt</th>\n      <th>total_income</th>\n      <th>purpose</th>\n    </tr>\n  </thead>\n  <tbody>\n    <tr>\n      <th>2849</th>\n      <td>0</td>\n      <td>1572.328285</td>\n      <td>41</td>\n      <td>среднее</td>\n      <td>1</td>\n      <td>женат / замужем</td>\n      <td>0</td>\n      <td>F</td>\n      <td>сотрудник</td>\n      <td>0</td>\n      <td>142594</td>\n      <td>покупка жилья для семьи</td>\n    </tr>\n    <tr>\n      <th>3290</th>\n      <td>0</td>\n      <td>365286.622650</td>\n      <td>58</td>\n      <td>среднее</td>\n      <td>1</td>\n      <td>гражданский брак</td>\n      <td>1</td>\n      <td>F</td>\n      <td>пенсионер</td>\n      <td>0</td>\n      <td>118514</td>\n      <td>сыграть свадьбу</td>\n    </tr>\n    <tr>\n      <th>4182</th>\n      <td>1</td>\n      <td>1572.328285</td>\n      <td>34</td>\n      <td>высшее</td>\n      <td>0</td>\n      <td>гражданский брак</td>\n      <td>1</td>\n      <td>F</td>\n      <td>сотрудник</td>\n      <td>0</td>\n      <td>142594</td>\n      <td>свадьба</td>\n    </tr>\n    <tr>\n      <th>4851</th>\n      <td>0</td>\n      <td>365286.622650</td>\n      <td>60</td>\n      <td>среднее</td>\n      <td>1</td>\n      <td>гражданский брак</td>\n      <td>1</td>\n      <td>F</td>\n      <td>пенсионер</td>\n      <td>0</td>\n      <td>118514</td>\n      <td>свадьба</td>\n    </tr>\n    <tr>\n      <th>5557</th>\n      <td>0</td>\n      <td>365286.622650</td>\n      <td>58</td>\n      <td>среднее</td>\n      <td>1</td>\n      <td>гражданский брак</td>\n      <td>1</td>\n      <td>F</td>\n      <td>пенсионер</td>\n      <td>0</td>\n      <td>118514</td>\n      <td>сыграть свадьбу</td>\n    </tr>\n    <tr>\n      <th>...</th>\n      <td>...</td>\n      <td>...</td>\n      <td>...</td>\n      <td>...</td>\n      <td>...</td>\n      <td>...</td>\n      <td>...</td>\n      <td>...</td>\n      <td>...</td>\n      <td>...</td>\n      <td>...</td>\n      <td>...</td>\n    </tr>\n    <tr>\n      <th>20702</th>\n      <td>0</td>\n      <td>365286.622650</td>\n      <td>64</td>\n      <td>среднее</td>\n      <td>1</td>\n      <td>женат / замужем</td>\n      <td>0</td>\n      <td>F</td>\n      <td>пенсионер</td>\n      <td>0</td>\n      <td>118514</td>\n      <td>дополнительное образование</td>\n    </tr>\n    <tr>\n      <th>21032</th>\n      <td>0</td>\n      <td>365286.622650</td>\n      <td>60</td>\n      <td>среднее</td>\n      <td>1</td>\n      <td>женат / замужем</td>\n      <td>0</td>\n      <td>F</td>\n      <td>пенсионер</td>\n      <td>0</td>\n      <td>118514</td>\n      <td>заняться образованием</td>\n    </tr>\n    <tr>\n      <th>21132</th>\n      <td>0</td>\n      <td>1572.328285</td>\n      <td>47</td>\n      <td>среднее</td>\n      <td>1</td>\n      <td>женат / замужем</td>\n      <td>0</td>\n      <td>F</td>\n      <td>сотрудник</td>\n      <td>0</td>\n      <td>142594</td>\n      <td>ремонт жилью</td>\n    </tr>\n    <tr>\n      <th>21281</th>\n      <td>1</td>\n      <td>1572.328285</td>\n      <td>30</td>\n      <td>высшее</td>\n      <td>0</td>\n      <td>женат / замужем</td>\n      <td>0</td>\n      <td>F</td>\n      <td>сотрудник</td>\n      <td>0</td>\n      <td>142594</td>\n      <td>покупка коммерческой недвижимости</td>\n    </tr>\n    <tr>\n      <th>21415</th>\n      <td>0</td>\n      <td>365286.622650</td>\n      <td>54</td>\n      <td>среднее</td>\n      <td>1</td>\n      <td>женат / замужем</td>\n      <td>0</td>\n      <td>F</td>\n      <td>пенсионер</td>\n      <td>0</td>\n      <td>118514</td>\n      <td>операции с жильем</td>\n    </tr>\n  </tbody>\n</table>\n<p>71 rows × 12 columns</p>\n</div>"
     },
     "execution_count": 16,
     "metadata": {},
     "output_type": "execute_result"
    }
   ],
   "source": [
    "data[data.duplicated()]"
   ]
  },
  {
   "cell_type": "code",
   "execution_count": 17,
   "id": "6e1a6499",
   "metadata": {
    "id": "6e1a6499",
    "ExecuteTime": {
     "end_time": "2024-02-20T17:32:10.092742562Z",
     "start_time": "2024-02-20T17:32:09.660157967Z"
    }
   },
   "outputs": [],
   "source": [
    "data.drop_duplicates(inplace=True)"
   ]
  },
  {
   "cell_type": "markdown",
   "id": "e5686ccc",
   "metadata": {
    "deletable": false,
    "editable": false,
    "id": "e5686ccc"
   },
   "source": [
    "### Категоризация данных"
   ]
  },
  {
   "cell_type": "markdown",
   "id": "636e9acd",
   "metadata": {
    "deletable": false,
    "editable": false,
    "id": "636e9acd",
    "tags": [
     "start_task"
    ]
   },
   "source": [
    "**Задание 16. На основании диапазонов, указанных ниже, создайте в датафрейме `data` столбец `total_income_category` с категориями:**\n",
    "\n",
    "- 0–30000 — `'E'`;\n",
    "- 30001–50000 — `'D'`;\n",
    "- 50001–200000 — `'C'`;\n",
    "- 200001–1000000 — `'B'`;\n",
    "- 1000001 и выше — `'A'`.\n",
    "\n",
    "\n",
    "**Например, кредитополучателю с доходом 25000 нужно назначить категорию `'E'`, а клиенту, получающему 235000, — `'B'`. Используйте собственную функцию с именем `categorize_income()` и метод `apply()`.**"
   ]
  },
  {
   "cell_type": "code",
   "execution_count": 18,
   "id": "880a77e5",
   "metadata": {
    "id": "880a77e5",
    "ExecuteTime": {
     "end_time": "2024-02-20T17:32:10.094990805Z",
     "start_time": "2024-02-20T17:32:09.702495973Z"
    }
   },
   "outputs": [],
   "source": [
    "def categorize_income(val):\n",
    "    if val <= 30000:\n",
    "        return 'E'\n",
    "    elif 30001 <= val <= 50000:\n",
    "        return 'D'\n",
    "    elif 50001 <= val <= 200000:\n",
    "        return 'C'\n",
    "    elif 200001 <= val <= 1000000:\n",
    "        return 'B'\n",
    "    elif val >= 1000001:\n",
    "        return 'A'\n",
    "    else:\n",
    "        return float('nan')"
   ]
  },
  {
   "cell_type": "code",
   "execution_count": 19,
   "id": "6f25f161",
   "metadata": {
    "id": "6f25f161",
    "ExecuteTime": {
     "end_time": "2024-02-20T17:32:10.097984677Z",
     "start_time": "2024-02-20T17:32:09.702830565Z"
    }
   },
   "outputs": [],
   "source": [
    "data['total_income_category'] = data.total_income.apply(categorize_income)"
   ]
  },
  {
   "cell_type": "markdown",
   "id": "3363b685",
   "metadata": {
    "deletable": false,
    "editable": false,
    "id": "3363b685",
    "tags": [
     "start_task"
    ]
   },
   "source": [
    "**Задание 17. Выведите на экран перечень уникальных целей взятия кредита из столбца `purpose`.**"
   ]
  },
  {
   "cell_type": "code",
   "execution_count": 20,
   "id": "e59f2c15",
   "metadata": {
    "id": "e59f2c15",
    "ExecuteTime": {
     "end_time": "2024-02-20T17:32:10.144114071Z",
     "start_time": "2024-02-20T17:32:09.716059249Z"
    }
   },
   "outputs": [
    {
     "data": {
      "text/plain": "array(['покупка жилья', 'приобретение автомобиля',\n       'дополнительное образование', 'сыграть свадьбу',\n       'операции с жильем', 'образование', 'на проведение свадьбы',\n       'покупка жилья для семьи', 'покупка недвижимости',\n       'покупка коммерческой недвижимости', 'покупка жилой недвижимости',\n       'строительство собственной недвижимости', 'недвижимость',\n       'строительство недвижимости', 'на покупку подержанного автомобиля',\n       'на покупку своего автомобиля',\n       'операции с коммерческой недвижимостью',\n       'строительство жилой недвижимости', 'жилье',\n       'операции со своей недвижимостью', 'автомобили',\n       'заняться образованием', 'сделка с подержанным автомобилем',\n       'получение образования', 'автомобиль', 'свадьба',\n       'получение дополнительного образования', 'покупка своего жилья',\n       'операции с недвижимостью', 'получение высшего образования',\n       'свой автомобиль', 'сделка с автомобилем',\n       'профильное образование', 'высшее образование',\n       'покупка жилья для сдачи', 'на покупку автомобиля', 'ремонт жилью',\n       'заняться высшим образованием'], dtype=object)"
     },
     "execution_count": 20,
     "metadata": {},
     "output_type": "execute_result"
    }
   ],
   "source": [
    "data.purpose.unique()"
   ]
  },
  {
   "cell_type": "markdown",
   "id": "bb33e847",
   "metadata": {
    "deletable": false,
    "editable": false,
    "id": "bb33e847",
    "tags": [
     "start_task"
    ]
   },
   "source": [
    "**Задание 18. Создайте функцию, которая на основании данных из столбца `purpose` сформирует новый столбец `purpose_category`, в который войдут следующие категории:**\n",
    "\n",
    "- `'операции с автомобилем'`,\n",
    "- `'операции с недвижимостью'`,\n",
    "- `'проведение свадьбы'`,\n",
    "- `'получение образования'`.\n",
    "\n",
    "**Например, если в столбце `purpose` находится подстрока `'на покупку автомобиля'`, то в столбце `purpose_category` должна появиться строка `'операции с автомобилем'`.**\n",
    "\n",
    "**Используйте собственную функцию с именем `categorize_purpose()` и метод `apply()`. Изучите данные в столбце `purpose` и определите, какие подстроки помогут вам правильно определить категорию.**"
   ]
  },
  {
   "cell_type": "code",
   "execution_count": 21,
   "id": "63909b83",
   "metadata": {
    "id": "63909b83",
    "ExecuteTime": {
     "end_time": "2024-02-20T17:32:10.146898422Z",
     "start_time": "2024-02-20T17:32:09.733900558Z"
    }
   },
   "outputs": [],
   "source": [
    "def categorize_purpose(val):\n",
    "    if val.find('недвиж') != -1 or val.find('жиль') != -1:\n",
    "        return 'операции с недвижимостью'\n",
    "    elif val.find('авто') != -1:\n",
    "        return 'операции с автомобилем'\n",
    "    elif val.find('свадь') != -1:\n",
    "        return 'проведение свадьбы'\n",
    "    elif val.find('образ') != -1:\n",
    "        return 'получение образования'\n",
    "    else:\n",
    "        return 'другое'"
   ]
  },
  {
   "cell_type": "code",
   "execution_count": 22,
   "id": "7cb4a81d",
   "metadata": {
    "id": "7cb4a81d",
    "ExecuteTime": {
     "end_time": "2024-02-20T17:32:10.193901732Z",
     "start_time": "2024-02-20T17:32:09.744797316Z"
    }
   },
   "outputs": [
    {
     "data": {
      "text/plain": "array(['операции с недвижимостью', 'операции с автомобилем',\n       'получение образования', 'проведение свадьбы'], dtype=object)"
     },
     "execution_count": 22,
     "metadata": {},
     "output_type": "execute_result"
    }
   ],
   "source": [
    "data['purpose_category'] = data.purpose.apply(categorize_purpose)\n",
    "data.purpose_category.unique()"
   ]
  }
 ],
 "metadata": {
  "ExecuteTimeLog": [
   {
    "duration": 420,
    "start_time": "2023-02-19T17:45:04.166Z"
   },
   {
    "duration": 803,
    "start_time": "2023-02-19T17:45:06.157Z"
   },
   {
    "duration": 24,
    "start_time": "2023-02-19T17:45:31.873Z"
   },
   {
    "duration": 22,
    "start_time": "2023-02-19T17:46:23.501Z"
   },
   {
    "duration": 10,
    "start_time": "2023-02-19T18:33:19.903Z"
   },
   {
    "duration": 12,
    "start_time": "2023-02-19T18:55:30.812Z"
   },
   {
    "duration": 10,
    "start_time": "2023-02-19T18:56:39.712Z"
   },
   {
    "duration": 72,
    "start_time": "2023-02-19T19:03:16.355Z"
   },
   {
    "duration": 137,
    "start_time": "2023-02-19T19:10:25.008Z"
   },
   {
    "duration": 74,
    "start_time": "2023-02-19T19:10:37.077Z"
   },
   {
    "duration": 71,
    "start_time": "2023-02-19T19:18:28.335Z"
   },
   {
    "duration": 75,
    "start_time": "2023-02-19T19:18:50.138Z"
   },
   {
    "duration": 89,
    "start_time": "2023-02-19T19:20:13.998Z"
   },
   {
    "duration": 75,
    "start_time": "2023-02-19T19:20:15.325Z"
   },
   {
    "duration": 10,
    "start_time": "2023-02-19T19:23:33.863Z"
   },
   {
    "duration": 9,
    "start_time": "2023-02-19T19:23:48.835Z"
   },
   {
    "duration": 7,
    "start_time": "2023-02-19T19:23:57.960Z"
   },
   {
    "duration": 14,
    "start_time": "2023-02-19T19:26:15.540Z"
   },
   {
    "duration": 2,
    "start_time": "2023-02-19T19:29:50.863Z"
   },
   {
    "duration": 78,
    "start_time": "2023-02-19T19:29:53.194Z"
   },
   {
    "duration": 15,
    "start_time": "2023-02-19T19:30:01.225Z"
   },
   {
    "duration": 10,
    "start_time": "2023-02-19T19:30:04.505Z"
   },
   {
    "duration": 11,
    "start_time": "2023-02-19T19:30:07.799Z"
   },
   {
    "duration": 79,
    "start_time": "2023-02-19T19:30:15.089Z"
   },
   {
    "duration": 72,
    "start_time": "2023-02-19T19:30:24.269Z"
   },
   {
    "duration": 13,
    "start_time": "2023-02-19T19:30:33.266Z"
   },
   {
    "duration": 8,
    "start_time": "2023-02-19T19:30:54.412Z"
   },
   {
    "duration": 3,
    "start_time": "2023-02-19T19:37:35.562Z"
   },
   {
    "duration": 12,
    "start_time": "2023-02-19T19:37:38.449Z"
   },
   {
    "duration": 61,
    "start_time": "2023-02-20T16:38:29.409Z"
   },
   {
    "duration": 449,
    "start_time": "2023-02-20T16:38:41.320Z"
   },
   {
    "duration": 990,
    "start_time": "2023-02-20T16:38:41.772Z"
   },
   {
    "duration": 22,
    "start_time": "2023-02-20T16:38:42.764Z"
   },
   {
    "duration": 15,
    "start_time": "2023-02-20T16:38:42.788Z"
   },
   {
    "duration": 10,
    "start_time": "2023-02-20T16:38:42.805Z"
   },
   {
    "duration": 24,
    "start_time": "2023-02-20T16:38:42.817Z"
   },
   {
    "duration": 19,
    "start_time": "2023-02-20T16:38:42.851Z"
   },
   {
    "duration": 15,
    "start_time": "2023-02-20T16:38:42.872Z"
   },
   {
    "duration": 4,
    "start_time": "2023-02-20T16:38:47.399Z"
   },
   {
    "duration": 33,
    "start_time": "2023-02-20T17:24:20.377Z"
   },
   {
    "duration": 7,
    "start_time": "2023-02-20T17:24:41.581Z"
   },
   {
    "duration": 8,
    "start_time": "2023-02-20T17:25:07.941Z"
   },
   {
    "duration": 463,
    "start_time": "2023-03-04T16:31:35.581Z"
   },
   {
    "duration": 327,
    "start_time": "2023-03-04T16:31:36.046Z"
   },
   {
    "duration": 25,
    "start_time": "2023-03-04T16:31:36.375Z"
   },
   {
    "duration": 20,
    "start_time": "2023-03-04T16:31:36.402Z"
   },
   {
    "duration": 12,
    "start_time": "2023-03-04T16:31:36.435Z"
   },
   {
    "duration": 12,
    "start_time": "2023-03-04T16:31:36.449Z"
   },
   {
    "duration": 4,
    "start_time": "2023-03-04T16:31:36.464Z"
   },
   {
    "duration": 21,
    "start_time": "2023-03-04T16:31:36.469Z"
   },
   {
    "duration": 5,
    "start_time": "2023-03-04T16:31:36.492Z"
   },
   {
    "duration": 45,
    "start_time": "2023-03-04T16:31:36.498Z"
   },
   {
    "duration": 6,
    "start_time": "2023-03-04T16:31:54.578Z"
   },
   {
    "duration": 13,
    "start_time": "2023-03-04T18:52:24.189Z"
   },
   {
    "duration": 94,
    "start_time": "2023-03-04T19:32:08.675Z"
   },
   {
    "duration": 27,
    "start_time": "2023-03-04T19:34:43.049Z"
   },
   {
    "duration": 12,
    "start_time": "2023-03-04T19:34:49.868Z"
   },
   {
    "duration": 9,
    "start_time": "2023-03-04T19:35:08.056Z"
   },
   {
    "duration": 8,
    "start_time": "2023-03-04T19:37:06.104Z"
   },
   {
    "duration": 14,
    "start_time": "2023-03-04T19:53:21.872Z"
   },
   {
    "duration": 56,
    "start_time": "2023-03-04T20:36:20.615Z"
   },
   {
    "duration": 46,
    "start_time": "2023-03-04T20:37:39.752Z"
   },
   {
    "duration": 15,
    "start_time": "2023-03-04T20:38:14.472Z"
   },
   {
    "duration": 32,
    "start_time": "2023-03-04T20:40:06.016Z"
   },
   {
    "duration": 70,
    "start_time": "2023-03-04T20:40:22.545Z"
   },
   {
    "duration": 18,
    "start_time": "2023-03-04T20:43:26.484Z"
   },
   {
    "duration": 10,
    "start_time": "2023-03-04T20:44:03.495Z"
   },
   {
    "duration": 20,
    "start_time": "2023-03-04T20:48:00.604Z"
   },
   {
    "duration": 55,
    "start_time": "2023-03-04T20:48:04.995Z"
   },
   {
    "duration": 29,
    "start_time": "2023-03-04T20:48:17.158Z"
   },
   {
    "duration": 35,
    "start_time": "2023-03-04T20:48:38.247Z"
   },
   {
    "duration": 36,
    "start_time": "2023-03-04T20:48:48.854Z"
   },
   {
    "duration": 57,
    "start_time": "2023-03-04T20:48:54.958Z"
   },
   {
    "duration": 21,
    "start_time": "2023-03-04T20:51:50.291Z"
   },
   {
    "duration": 5,
    "start_time": "2023-03-04T21:00:47.898Z"
   },
   {
    "duration": 13,
    "start_time": "2023-03-04T21:01:45.348Z"
   },
   {
    "duration": 7,
    "start_time": "2023-03-04T21:01:49.542Z"
   },
   {
    "duration": 18,
    "start_time": "2023-03-04T21:01:51.111Z"
   },
   {
    "duration": 9,
    "start_time": "2023-03-04T21:02:31.909Z"
   },
   {
    "duration": 16,
    "start_time": "2023-03-04T21:02:48.539Z"
   },
   {
    "duration": 5,
    "start_time": "2023-03-04T21:03:33.818Z"
   },
   {
    "duration": 12,
    "start_time": "2023-03-04T21:03:35.808Z"
   },
   {
    "duration": 8,
    "start_time": "2023-03-04T21:04:13.056Z"
   },
   {
    "duration": 5,
    "start_time": "2023-03-04T21:08:10.790Z"
   },
   {
    "duration": 11,
    "start_time": "2023-03-04T21:08:35.794Z"
   },
   {
    "duration": 394,
    "start_time": "2023-03-04T21:08:53.805Z"
   },
   {
    "duration": 6,
    "start_time": "2023-03-04T21:10:09.229Z"
   },
   {
    "duration": 27,
    "start_time": "2023-03-04T21:10:10.834Z"
   },
   {
    "duration": 13,
    "start_time": "2023-03-04T21:10:29.140Z"
   },
   {
    "duration": 12,
    "start_time": "2023-03-04T21:11:20.793Z"
   },
   {
    "duration": 3,
    "start_time": "2023-03-04T21:15:17.749Z"
   },
   {
    "duration": 11,
    "start_time": "2023-03-04T21:15:19.693Z"
   },
   {
    "duration": 4,
    "start_time": "2023-03-04T21:15:42.904Z"
   },
   {
    "duration": 12,
    "start_time": "2023-03-04T21:15:44.679Z"
   },
   {
    "duration": 5,
    "start_time": "2023-03-04T21:16:50.590Z"
   },
   {
    "duration": 9,
    "start_time": "2023-03-04T21:17:38.089Z"
   },
   {
    "duration": 8,
    "start_time": "2023-03-04T21:17:40.818Z"
   },
   {
    "duration": 17,
    "start_time": "2023-03-04T21:17:42.256Z"
   },
   {
    "duration": 4,
    "start_time": "2023-03-04T21:18:28.408Z"
   },
   {
    "duration": 24,
    "start_time": "2023-03-04T21:18:30.040Z"
   },
   {
    "duration": 5,
    "start_time": "2023-03-04T21:20:18.300Z"
   },
   {
    "duration": 22,
    "start_time": "2023-03-04T21:20:51.305Z"
   },
   {
    "duration": 7,
    "start_time": "2023-03-04T21:20:53.315Z"
   },
   {
    "duration": 33,
    "start_time": "2023-03-04T21:20:54.922Z"
   },
   {
    "duration": 32,
    "start_time": "2023-03-04T21:22:15.002Z"
   },
   {
    "duration": 4,
    "start_time": "2023-03-04T21:22:26.473Z"
   },
   {
    "duration": 35,
    "start_time": "2023-03-04T21:22:29.806Z"
   },
   {
    "duration": 27,
    "start_time": "2023-03-04T21:23:08.246Z"
   },
   {
    "duration": 4,
    "start_time": "2023-03-04T21:23:42.614Z"
   },
   {
    "duration": 25,
    "start_time": "2023-03-04T21:23:44.315Z"
   }
  ],
  "colab": {
   "provenance": []
  },
  "kernelspec": {
   "display_name": "Python 3 (ipykernel)",
   "language": "python",
   "name": "python3"
  },
  "language_info": {
   "codemirror_mode": {
    "name": "ipython",
    "version": 3
   },
   "file_extension": ".py",
   "mimetype": "text/x-python",
   "name": "python",
   "nbconvert_exporter": "python",
   "pygments_lexer": "ipython3",
   "version": "3.9.5"
  },
  "toc": {
   "base_numbering": 1,
   "nav_menu": {},
   "number_sections": true,
   "sideBar": true,
   "skip_h1_title": true,
   "title_cell": "Table of Contents",
   "title_sidebar": "Contents",
   "toc_cell": false,
   "toc_position": {},
   "toc_section_display": true,
   "toc_window_display": false
  }
 },
 "nbformat": 4,
 "nbformat_minor": 5
}
