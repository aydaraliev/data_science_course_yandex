{
 "cells": [
  {
   "cell_type": "markdown",
   "id": "3f54962e",
   "metadata": {
    "deletable": false,
    "editable": false,
    "id": "c81daeeb"
   },
   "source": [
    "# Исследование надежности заемщиков\n"
   ]
  },
  {
   "cell_type": "markdown",
   "id": "21052245",
   "metadata": {
    "deletable": false,
    "editable": false,
    "id": "827c20bf"
   },
   "source": [
    "Во второй части проекта вы выполните шаги 3 и 4. Их вручную проверит ревьюер.\n",
    "Чтобы вам не пришлось писать код заново для шагов 1 и 2, мы добавили авторские решения в ячейки с кодом. \n",
    "\n"
   ]
  },
  {
   "cell_type": "markdown",
   "id": "e5ace5bb",
   "metadata": {
    "deletable": false,
    "editable": false,
    "id": "744d7639"
   },
   "source": [
    "## Откройте таблицу и изучите общую информацию о данных"
   ]
  },
  {
   "cell_type": "markdown",
   "id": "92431e46",
   "metadata": {
    "deletable": false,
    "editable": false,
    "id": "e7a14c31"
   },
   "source": [
    "**Задание 1. Импортируйте библиотеку pandas. Считайте данные из csv-файла в датафрейм и сохраните в переменную `data`. Путь к файлу:**\n",
    "\n",
    "`/datasets/data.csv`"
   ]
  },
  {
   "cell_type": "code",
   "execution_count": 1,
   "id": "0076810a",
   "metadata": {
    "deletable": false,
    "id": "7bcf75c9",
    "ExecuteTime": {
     "end_time": "2024-02-20T17:33:42.888481839Z",
     "start_time": "2024-02-20T17:33:42.078394373Z"
    }
   },
   "outputs": [],
   "source": [
    "import pandas as pd\n",
    "\n",
    "try:\n",
    "    data = pd.read_csv('data.csv')\n",
    "except FileNotFoundError:\n",
    "    print(\"ФАЙЛ НЕ УДАЛОСЬ НАЙТИ ЛОКАЛЬНО, СКАЧИВАЮ ИЗ ОБЛАКА\")\n",
    "    data = pd.read_csv('####')"
   ]
  },
  {
   "cell_type": "markdown",
   "id": "731c3aac",
   "metadata": {
    "deletable": false,
    "editable": false,
    "id": "b8038fe3"
   },
   "source": [
    "**Задание 2. Выведите первые 20 строчек датафрейма `data` на экран.**"
   ]
  },
  {
   "cell_type": "code",
   "execution_count": 2,
   "id": "07b941f6",
   "metadata": {
    "deletable": false,
    "id": "2a7cab99",
    "outputId": "1a8f3ef2-d323-4ec2-ddf7-89670b5944c4",
    "ExecuteTime": {
     "end_time": "2024-02-20T17:33:43.058120689Z",
     "start_time": "2024-02-20T17:33:42.825052785Z"
    }
   },
   "outputs": [
    {
     "data": {
      "text/plain": "    children  days_employed  dob_years            education  education_id  \\\n0          1   -8437.673028         42               высшее             0   \n1          1   -4024.803754         36              среднее             1   \n2          0   -5623.422610         33              Среднее             1   \n3          3   -4124.747207         32              среднее             1   \n4          0  340266.072047         53              среднее             1   \n5          0    -926.185831         27               высшее             0   \n6          0   -2879.202052         43               высшее             0   \n7          0    -152.779569         50              СРЕДНЕЕ             1   \n8          2   -6929.865299         35               ВЫСШЕЕ             0   \n9          0   -2188.756445         41              среднее             1   \n10         2   -4171.483647         36               высшее             0   \n11         0    -792.701887         40              среднее             1   \n12         0            NaN         65              среднее             1   \n13         0   -1846.641941         54  неоконченное высшее             2   \n14         0   -1844.956182         56               высшее             0   \n15         1    -972.364419         26              среднее             1   \n16         0   -1719.934226         35              среднее             1   \n17         0   -2369.999720         33               высшее             0   \n18         0  400281.136913         53              среднее             1   \n19         0  -10038.818549         48              СРЕДНЕЕ             1   \n\n       family_status  family_status_id gender income_type  debt  \\\n0    женат / замужем                 0      F   сотрудник     0   \n1    женат / замужем                 0      F   сотрудник     0   \n2    женат / замужем                 0      M   сотрудник     0   \n3    женат / замужем                 0      M   сотрудник     0   \n4   гражданский брак                 1      F   пенсионер     0   \n5   гражданский брак                 1      M   компаньон     0   \n6    женат / замужем                 0      F   компаньон     0   \n7    женат / замужем                 0      M   сотрудник     0   \n8   гражданский брак                 1      F   сотрудник     0   \n9    женат / замужем                 0      M   сотрудник     0   \n10   женат / замужем                 0      M   компаньон     0   \n11   женат / замужем                 0      F   сотрудник     0   \n12  гражданский брак                 1      M   пенсионер     0   \n13   женат / замужем                 0      F   сотрудник     0   \n14  гражданский брак                 1      F   компаньон     1   \n15   женат / замужем                 0      F   сотрудник     0   \n16   женат / замужем                 0      F   сотрудник     0   \n17  гражданский брак                 1      M   сотрудник     0   \n18    вдовец / вдова                 2      F   пенсионер     0   \n19         в разводе                 3      F   сотрудник     0   \n\n     total_income                                 purpose  \n0   253875.639453                           покупка жилья  \n1   112080.014102                 приобретение автомобиля  \n2   145885.952297                           покупка жилья  \n3   267628.550329              дополнительное образование  \n4   158616.077870                         сыграть свадьбу  \n5   255763.565419                           покупка жилья  \n6   240525.971920                       операции с жильем  \n7   135823.934197                             образование  \n8    95856.832424                   на проведение свадьбы  \n9   144425.938277                 покупка жилья для семьи  \n10  113943.491460                    покупка недвижимости  \n11   77069.234271       покупка коммерческой недвижимости  \n12            NaN                         сыграть свадьбу  \n13  130458.228857                 приобретение автомобиля  \n14  165127.911772              покупка жилой недвижимости  \n15  116820.904450  строительство собственной недвижимости  \n16  289202.704229                            недвижимость  \n17   90410.586745              строительство недвижимости  \n18   56823.777243      на покупку подержанного автомобиля  \n19  242831.107982            на покупку своего автомобиля  ",
      "text/html": "<div>\n<style scoped>\n    .dataframe tbody tr th:only-of-type {\n        vertical-align: middle;\n    }\n\n    .dataframe tbody tr th {\n        vertical-align: top;\n    }\n\n    .dataframe thead th {\n        text-align: right;\n    }\n</style>\n<table border=\"1\" class=\"dataframe\">\n  <thead>\n    <tr style=\"text-align: right;\">\n      <th></th>\n      <th>children</th>\n      <th>days_employed</th>\n      <th>dob_years</th>\n      <th>education</th>\n      <th>education_id</th>\n      <th>family_status</th>\n      <th>family_status_id</th>\n      <th>gender</th>\n      <th>income_type</th>\n      <th>debt</th>\n      <th>total_income</th>\n      <th>purpose</th>\n    </tr>\n  </thead>\n  <tbody>\n    <tr>\n      <th>0</th>\n      <td>1</td>\n      <td>-8437.673028</td>\n      <td>42</td>\n      <td>высшее</td>\n      <td>0</td>\n      <td>женат / замужем</td>\n      <td>0</td>\n      <td>F</td>\n      <td>сотрудник</td>\n      <td>0</td>\n      <td>253875.639453</td>\n      <td>покупка жилья</td>\n    </tr>\n    <tr>\n      <th>1</th>\n      <td>1</td>\n      <td>-4024.803754</td>\n      <td>36</td>\n      <td>среднее</td>\n      <td>1</td>\n      <td>женат / замужем</td>\n      <td>0</td>\n      <td>F</td>\n      <td>сотрудник</td>\n      <td>0</td>\n      <td>112080.014102</td>\n      <td>приобретение автомобиля</td>\n    </tr>\n    <tr>\n      <th>2</th>\n      <td>0</td>\n      <td>-5623.422610</td>\n      <td>33</td>\n      <td>Среднее</td>\n      <td>1</td>\n      <td>женат / замужем</td>\n      <td>0</td>\n      <td>M</td>\n      <td>сотрудник</td>\n      <td>0</td>\n      <td>145885.952297</td>\n      <td>покупка жилья</td>\n    </tr>\n    <tr>\n      <th>3</th>\n      <td>3</td>\n      <td>-4124.747207</td>\n      <td>32</td>\n      <td>среднее</td>\n      <td>1</td>\n      <td>женат / замужем</td>\n      <td>0</td>\n      <td>M</td>\n      <td>сотрудник</td>\n      <td>0</td>\n      <td>267628.550329</td>\n      <td>дополнительное образование</td>\n    </tr>\n    <tr>\n      <th>4</th>\n      <td>0</td>\n      <td>340266.072047</td>\n      <td>53</td>\n      <td>среднее</td>\n      <td>1</td>\n      <td>гражданский брак</td>\n      <td>1</td>\n      <td>F</td>\n      <td>пенсионер</td>\n      <td>0</td>\n      <td>158616.077870</td>\n      <td>сыграть свадьбу</td>\n    </tr>\n    <tr>\n      <th>5</th>\n      <td>0</td>\n      <td>-926.185831</td>\n      <td>27</td>\n      <td>высшее</td>\n      <td>0</td>\n      <td>гражданский брак</td>\n      <td>1</td>\n      <td>M</td>\n      <td>компаньон</td>\n      <td>0</td>\n      <td>255763.565419</td>\n      <td>покупка жилья</td>\n    </tr>\n    <tr>\n      <th>6</th>\n      <td>0</td>\n      <td>-2879.202052</td>\n      <td>43</td>\n      <td>высшее</td>\n      <td>0</td>\n      <td>женат / замужем</td>\n      <td>0</td>\n      <td>F</td>\n      <td>компаньон</td>\n      <td>0</td>\n      <td>240525.971920</td>\n      <td>операции с жильем</td>\n    </tr>\n    <tr>\n      <th>7</th>\n      <td>0</td>\n      <td>-152.779569</td>\n      <td>50</td>\n      <td>СРЕДНЕЕ</td>\n      <td>1</td>\n      <td>женат / замужем</td>\n      <td>0</td>\n      <td>M</td>\n      <td>сотрудник</td>\n      <td>0</td>\n      <td>135823.934197</td>\n      <td>образование</td>\n    </tr>\n    <tr>\n      <th>8</th>\n      <td>2</td>\n      <td>-6929.865299</td>\n      <td>35</td>\n      <td>ВЫСШЕЕ</td>\n      <td>0</td>\n      <td>гражданский брак</td>\n      <td>1</td>\n      <td>F</td>\n      <td>сотрудник</td>\n      <td>0</td>\n      <td>95856.832424</td>\n      <td>на проведение свадьбы</td>\n    </tr>\n    <tr>\n      <th>9</th>\n      <td>0</td>\n      <td>-2188.756445</td>\n      <td>41</td>\n      <td>среднее</td>\n      <td>1</td>\n      <td>женат / замужем</td>\n      <td>0</td>\n      <td>M</td>\n      <td>сотрудник</td>\n      <td>0</td>\n      <td>144425.938277</td>\n      <td>покупка жилья для семьи</td>\n    </tr>\n    <tr>\n      <th>10</th>\n      <td>2</td>\n      <td>-4171.483647</td>\n      <td>36</td>\n      <td>высшее</td>\n      <td>0</td>\n      <td>женат / замужем</td>\n      <td>0</td>\n      <td>M</td>\n      <td>компаньон</td>\n      <td>0</td>\n      <td>113943.491460</td>\n      <td>покупка недвижимости</td>\n    </tr>\n    <tr>\n      <th>11</th>\n      <td>0</td>\n      <td>-792.701887</td>\n      <td>40</td>\n      <td>среднее</td>\n      <td>1</td>\n      <td>женат / замужем</td>\n      <td>0</td>\n      <td>F</td>\n      <td>сотрудник</td>\n      <td>0</td>\n      <td>77069.234271</td>\n      <td>покупка коммерческой недвижимости</td>\n    </tr>\n    <tr>\n      <th>12</th>\n      <td>0</td>\n      <td>NaN</td>\n      <td>65</td>\n      <td>среднее</td>\n      <td>1</td>\n      <td>гражданский брак</td>\n      <td>1</td>\n      <td>M</td>\n      <td>пенсионер</td>\n      <td>0</td>\n      <td>NaN</td>\n      <td>сыграть свадьбу</td>\n    </tr>\n    <tr>\n      <th>13</th>\n      <td>0</td>\n      <td>-1846.641941</td>\n      <td>54</td>\n      <td>неоконченное высшее</td>\n      <td>2</td>\n      <td>женат / замужем</td>\n      <td>0</td>\n      <td>F</td>\n      <td>сотрудник</td>\n      <td>0</td>\n      <td>130458.228857</td>\n      <td>приобретение автомобиля</td>\n    </tr>\n    <tr>\n      <th>14</th>\n      <td>0</td>\n      <td>-1844.956182</td>\n      <td>56</td>\n      <td>высшее</td>\n      <td>0</td>\n      <td>гражданский брак</td>\n      <td>1</td>\n      <td>F</td>\n      <td>компаньон</td>\n      <td>1</td>\n      <td>165127.911772</td>\n      <td>покупка жилой недвижимости</td>\n    </tr>\n    <tr>\n      <th>15</th>\n      <td>1</td>\n      <td>-972.364419</td>\n      <td>26</td>\n      <td>среднее</td>\n      <td>1</td>\n      <td>женат / замужем</td>\n      <td>0</td>\n      <td>F</td>\n      <td>сотрудник</td>\n      <td>0</td>\n      <td>116820.904450</td>\n      <td>строительство собственной недвижимости</td>\n    </tr>\n    <tr>\n      <th>16</th>\n      <td>0</td>\n      <td>-1719.934226</td>\n      <td>35</td>\n      <td>среднее</td>\n      <td>1</td>\n      <td>женат / замужем</td>\n      <td>0</td>\n      <td>F</td>\n      <td>сотрудник</td>\n      <td>0</td>\n      <td>289202.704229</td>\n      <td>недвижимость</td>\n    </tr>\n    <tr>\n      <th>17</th>\n      <td>0</td>\n      <td>-2369.999720</td>\n      <td>33</td>\n      <td>высшее</td>\n      <td>0</td>\n      <td>гражданский брак</td>\n      <td>1</td>\n      <td>M</td>\n      <td>сотрудник</td>\n      <td>0</td>\n      <td>90410.586745</td>\n      <td>строительство недвижимости</td>\n    </tr>\n    <tr>\n      <th>18</th>\n      <td>0</td>\n      <td>400281.136913</td>\n      <td>53</td>\n      <td>среднее</td>\n      <td>1</td>\n      <td>вдовец / вдова</td>\n      <td>2</td>\n      <td>F</td>\n      <td>пенсионер</td>\n      <td>0</td>\n      <td>56823.777243</td>\n      <td>на покупку подержанного автомобиля</td>\n    </tr>\n    <tr>\n      <th>19</th>\n      <td>0</td>\n      <td>-10038.818549</td>\n      <td>48</td>\n      <td>СРЕДНЕЕ</td>\n      <td>1</td>\n      <td>в разводе</td>\n      <td>3</td>\n      <td>F</td>\n      <td>сотрудник</td>\n      <td>0</td>\n      <td>242831.107982</td>\n      <td>на покупку своего автомобиля</td>\n    </tr>\n  </tbody>\n</table>\n</div>"
     },
     "execution_count": 2,
     "metadata": {},
     "output_type": "execute_result"
    }
   ],
   "source": [
    "data.head(20)"
   ]
  },
  {
   "cell_type": "markdown",
   "id": "0a690024",
   "metadata": {
    "deletable": false,
    "editable": false,
    "id": "1c12e233"
   },
   "source": [
    "**Задание 3. Выведите основную информацию о датафрейме с помощью метода `info()`.**"
   ]
  },
  {
   "cell_type": "code",
   "execution_count": 3,
   "id": "82b39ccd",
   "metadata": {
    "deletable": false,
    "id": "2b757bca",
    "outputId": "15376089-8dad-46c9-b520-c05248d43158",
    "ExecuteTime": {
     "end_time": "2024-02-20T17:33:43.060833824Z",
     "start_time": "2024-02-20T17:33:42.855295246Z"
    }
   },
   "outputs": [
    {
     "name": "stdout",
     "output_type": "stream",
     "text": [
      "<class 'pandas.core.frame.DataFrame'>\n",
      "RangeIndex: 21525 entries, 0 to 21524\n",
      "Data columns (total 12 columns):\n",
      " #   Column            Non-Null Count  Dtype  \n",
      "---  ------            --------------  -----  \n",
      " 0   children          21525 non-null  int64  \n",
      " 1   days_employed     19351 non-null  float64\n",
      " 2   dob_years         21525 non-null  int64  \n",
      " 3   education         21525 non-null  object \n",
      " 4   education_id      21525 non-null  int64  \n",
      " 5   family_status     21525 non-null  object \n",
      " 6   family_status_id  21525 non-null  int64  \n",
      " 7   gender            21525 non-null  object \n",
      " 8   income_type       21525 non-null  object \n",
      " 9   debt              21525 non-null  int64  \n",
      " 10  total_income      19351 non-null  float64\n",
      " 11  purpose           21525 non-null  object \n",
      "dtypes: float64(2), int64(5), object(5)\n",
      "memory usage: 2.0+ MB\n"
     ]
    }
   ],
   "source": [
    "data.info()"
   ]
  },
  {
   "cell_type": "markdown",
   "id": "dedf32de",
   "metadata": {
    "deletable": false,
    "editable": false,
    "id": "333ec665"
   },
   "source": [
    "## Предобработка данных"
   ]
  },
  {
   "cell_type": "markdown",
   "id": "aade3e5c",
   "metadata": {
    "deletable": false,
    "editable": false,
    "id": "02d92d53"
   },
   "source": [
    "### Удаление пропусков"
   ]
  },
  {
   "cell_type": "markdown",
   "id": "fe004bb0",
   "metadata": {
    "deletable": false,
    "editable": false,
    "id": "cd84967c"
   },
   "source": [
    "**Задание 4. Выведите количество пропущенных значений для каждого столбца. Используйте комбинацию двух методов.**"
   ]
  },
  {
   "cell_type": "code",
   "execution_count": 4,
   "id": "251a77b1",
   "metadata": {
    "deletable": false,
    "id": "7f9b2309",
    "outputId": "81f4d817-781c-465c-ed15-91ce4446810d",
    "ExecuteTime": {
     "end_time": "2024-02-20T17:33:43.099663120Z",
     "start_time": "2024-02-20T17:33:42.888701698Z"
    }
   },
   "outputs": [
    {
     "data": {
      "text/plain": "children               0\ndays_employed       2174\ndob_years              0\neducation              0\neducation_id           0\nfamily_status          0\nfamily_status_id       0\ngender                 0\nincome_type            0\ndebt                   0\ntotal_income        2174\npurpose                0\ndtype: int64"
     },
     "execution_count": 4,
     "metadata": {},
     "output_type": "execute_result"
    }
   ],
   "source": [
    "data.isna().sum()"
   ]
  },
  {
   "cell_type": "markdown",
   "id": "d2aabe6d",
   "metadata": {
    "deletable": false,
    "editable": false,
    "id": "db86e27b"
   },
   "source": [
    "**Задание 5. В двух столбцах есть пропущенные значения. Один из них — `days_employed`. Пропуски в этом столбце вы обработаете на следующем этапе. Другой столбец с пропущенными значениями — `total_income` — хранит данные о доходах. На сумму дохода сильнее всего влияет тип занятости, поэтому заполнить пропуски в этом столбце нужно медианным значением по каждому типу из столбца `income_type`. Например, у человека с типом занятости `сотрудник` пропуск в столбце `total_income` должен быть заполнен медианным доходом среди всех записей с тем же типом.**"
   ]
  },
  {
   "cell_type": "code",
   "execution_count": 5,
   "id": "8f0f6b1f",
   "metadata": {
    "deletable": false,
    "id": "42006a93",
    "ExecuteTime": {
     "end_time": "2024-02-20T17:33:43.144446356Z",
     "start_time": "2024-02-20T17:33:42.915747693Z"
    }
   },
   "outputs": [],
   "source": [
    "for t in data['income_type'].unique():\n",
    "    data.loc[(data['income_type'] == t) & (data['total_income'].isna()), 'total_income'] = \\\n",
    "    data.loc[(data['income_type'] == t), 'total_income'].median()"
   ]
  },
  {
   "cell_type": "markdown",
   "id": "6f972ee2",
   "metadata": {
    "deletable": false,
    "editable": false,
    "id": "89da5ece"
   },
   "source": [
    "### Обработка аномальных значений"
   ]
  },
  {
   "cell_type": "markdown",
   "id": "95915200",
   "metadata": {
    "deletable": false,
    "editable": false,
    "id": "57964554"
   },
   "source": [
    "**Задание 6. В данных могут встречаться артефакты (аномалии) — значения, которые не отражают действительность и появились по какой-то ошибке. таким артефактом будет отрицательное количество дней трудового стажа в столбце `days_employed`. Для реальных данных это нормально. Обработайте значения в этом столбце: замените все отрицательные значения положительными с помощью метода `abs()`.**"
   ]
  },
  {
   "cell_type": "code",
   "execution_count": 6,
   "id": "29ab755e",
   "metadata": {
    "deletable": false,
    "id": "f6f055bf",
    "ExecuteTime": {
     "end_time": "2024-02-20T17:33:43.304474771Z",
     "start_time": "2024-02-20T17:33:42.992869221Z"
    }
   },
   "outputs": [],
   "source": [
    "data['days_employed'] = data['days_employed'].abs()"
   ]
  },
  {
   "cell_type": "markdown",
   "id": "995c2c25",
   "metadata": {
    "deletable": false,
    "editable": false,
    "id": "6107dd2f"
   },
   "source": [
    "**Задание 7. Для каждого типа занятости выведите медианное значение трудового стажа `days_employed` в днях.**"
   ]
  },
  {
   "cell_type": "code",
   "execution_count": 7,
   "id": "1487e146",
   "metadata": {
    "deletable": false,
    "id": "85a5faf6",
    "outputId": "801ef80e-522b-4668-f34e-565af7432bcf",
    "ExecuteTime": {
     "end_time": "2024-02-20T17:33:43.308226487Z",
     "start_time": "2024-02-20T17:33:43.038499552Z"
    }
   },
   "outputs": [
    {
     "data": {
      "text/plain": "income_type\nбезработный        366413.652744\nв декрете            3296.759962\nгосслужащий          2689.368353\nкомпаньон            1547.382223\nпенсионер          365213.306266\nпредприниматель       520.848083\nсотрудник            1574.202821\nстудент               578.751554\nName: days_employed, dtype: float64"
     },
     "execution_count": 7,
     "metadata": {},
     "output_type": "execute_result"
    }
   ],
   "source": [
    "data.groupby('income_type')['days_employed'].agg('median')"
   ]
  },
  {
   "cell_type": "markdown",
   "id": "c125b58d",
   "metadata": {
    "deletable": false,
    "editable": false,
    "id": "38d1a030"
   },
   "source": [
    "У двух типов (безработные и пенсионеры) получатся аномально большие значения. Исправить такие значения сложно, поэтому оставьте их как есть. Тем более этот столбец не понадобится вам для исследования."
   ]
  },
  {
   "cell_type": "markdown",
   "id": "9f6b7045",
   "metadata": {
    "deletable": false,
    "editable": false,
    "id": "d8a9f147"
   },
   "source": [
    "**Задание 8. Выведите перечень уникальных значений столбца `children`.**"
   ]
  },
  {
   "cell_type": "code",
   "execution_count": 8,
   "id": "8fc94a76",
   "metadata": {
    "deletable": false,
    "id": "ef5056eb",
    "outputId": "6975b15c-7f95-4697-d16d-a0c79b657b03",
    "ExecuteTime": {
     "end_time": "2024-02-20T17:33:43.361215615Z",
     "start_time": "2024-02-20T17:33:43.039034877Z"
    }
   },
   "outputs": [
    {
     "data": {
      "text/plain": "array([ 1,  0,  3,  2, -1,  4, 20,  5])"
     },
     "execution_count": 8,
     "metadata": {},
     "output_type": "execute_result"
    }
   ],
   "source": [
    "data['children'].unique()"
   ]
  },
  {
   "cell_type": "markdown",
   "id": "09e283e6",
   "metadata": {
    "deletable": false,
    "editable": false,
    "id": "40b9ebf2"
   },
   "source": [
    "**Задание 9. В столбце `children` есть два аномальных значения. Удалите строки, в которых встречаются такие аномальные значения из датафрейма `data`.**"
   ]
  },
  {
   "cell_type": "code",
   "execution_count": 9,
   "id": "ebaba9e3",
   "metadata": {
    "deletable": false,
    "id": "3ff9801d",
    "ExecuteTime": {
     "end_time": "2024-02-20T17:33:43.365034757Z",
     "start_time": "2024-02-20T17:33:43.039273858Z"
    }
   },
   "outputs": [],
   "source": [
    "data = data[(data['children'] != -1) & (data['children'] != 20)]"
   ]
  },
  {
   "cell_type": "markdown",
   "id": "527755b2",
   "metadata": {
    "deletable": false,
    "editable": false,
    "id": "bbc4d0ce"
   },
   "source": [
    "**Задание 10. Ещё раз выведите перечень уникальных значений столбца `children`, чтобы убедиться, что артефакты удалены.**"
   ]
  },
  {
   "cell_type": "code",
   "execution_count": 10,
   "id": "1f423506",
   "metadata": {
    "deletable": false,
    "id": "ad4fa8b7",
    "outputId": "b2097101-d49d-44d9-901b-32a65c9463d1",
    "ExecuteTime": {
     "end_time": "2024-02-20T17:33:43.392876117Z",
     "start_time": "2024-02-20T17:33:43.039428189Z"
    }
   },
   "outputs": [
    {
     "data": {
      "text/plain": "array([1, 0, 3, 2, 4, 5])"
     },
     "execution_count": 10,
     "metadata": {},
     "output_type": "execute_result"
    }
   ],
   "source": [
    "data['children'].unique()"
   ]
  },
  {
   "cell_type": "markdown",
   "id": "b477936a",
   "metadata": {
    "deletable": false,
    "editable": false,
    "id": "75440b63"
   },
   "source": [
    "### Удаление пропусков (продолжение)"
   ]
  },
  {
   "cell_type": "markdown",
   "id": "32f6c05e",
   "metadata": {
    "deletable": false,
    "editable": false,
    "id": "f4ea573f"
   },
   "source": [
    "**Задание 11. Заполните пропуски в столбце `days_employed` медианными значениями по каждого типа занятости `income_type`.**"
   ]
  },
  {
   "cell_type": "code",
   "execution_count": 11,
   "id": "332af34d",
   "metadata": {
    "deletable": false,
    "id": "af6b1a7e",
    "ExecuteTime": {
     "end_time": "2024-02-20T17:33:43.582126694Z",
     "start_time": "2024-02-20T17:33:43.165119182Z"
    }
   },
   "outputs": [],
   "source": [
    "for t in data['income_type'].unique():\n",
    "    data.loc[(data['income_type'] == t) & (data['days_employed'].isna()), 'days_employed'] = \\\n",
    "    data.loc[(data['income_type'] == t), 'days_employed'].median()"
   ]
  },
  {
   "cell_type": "markdown",
   "id": "b8e17abe",
   "metadata": {
    "deletable": false,
    "editable": false,
    "id": "2753f40d"
   },
   "source": [
    "**Задание 12. Убедитесь, что все пропуски заполнены. Проверьте себя и ещё раз выведите количество пропущенных значений для каждого столбца с помощью двух методов.**"
   ]
  },
  {
   "cell_type": "code",
   "execution_count": 12,
   "id": "cca35559",
   "metadata": {
    "deletable": false,
    "id": "55f78bc2",
    "outputId": "8da1e4e1-358e-4e87-98c9-f261bce0a7b2",
    "ExecuteTime": {
     "end_time": "2024-02-20T17:33:43.849176097Z",
     "start_time": "2024-02-20T17:33:43.443192258Z"
    }
   },
   "outputs": [
    {
     "data": {
      "text/plain": "children            0\ndays_employed       0\ndob_years           0\neducation           0\neducation_id        0\nfamily_status       0\nfamily_status_id    0\ngender              0\nincome_type         0\ndebt                0\ntotal_income        0\npurpose             0\ndtype: int64"
     },
     "execution_count": 12,
     "metadata": {},
     "output_type": "execute_result"
    }
   ],
   "source": [
    "data.isna().sum()"
   ]
  },
  {
   "cell_type": "markdown",
   "id": "c7c27ffb",
   "metadata": {
    "deletable": false,
    "editable": false,
    "id": "ddc81e43"
   },
   "source": [
    "### Изменение типов данных"
   ]
  },
  {
   "cell_type": "markdown",
   "id": "de5f0f92",
   "metadata": {
    "deletable": false,
    "editable": false,
    "id": "42d19d24"
   },
   "source": [
    "**Задание 13. Замените вещественный тип данных в столбце `total_income` на целочисленный с помощью метода `astype()`.**"
   ]
  },
  {
   "cell_type": "code",
   "execution_count": 13,
   "id": "bc4cb93b",
   "metadata": {
    "deletable": false,
    "id": "920b65ad",
    "ExecuteTime": {
     "end_time": "2024-02-20T17:33:44.157939002Z",
     "start_time": "2024-02-20T17:33:43.757603537Z"
    }
   },
   "outputs": [],
   "source": [
    "data['total_income'] = data['total_income'].astype(int)"
   ]
  },
  {
   "cell_type": "markdown",
   "id": "5f58ba52",
   "metadata": {
    "deletable": false,
    "editable": false,
    "id": "80c420ba"
   },
   "source": [
    "### Обработка дубликатов"
   ]
  },
  {
   "cell_type": "markdown",
   "id": "69fba132",
   "metadata": {
    "deletable": false,
    "editable": false
   },
   "source": [
    "**Задание 14. Обработайте неявные дубликаты в столбце `education`. В этом столбце есть одни и те же значения, но записанные по-разному: с использованием заглавных и строчных букв. Приведите их к нижнему регистру. Проверьте остальные столбцы.**"
   ]
  },
  {
   "cell_type": "code",
   "execution_count": 14,
   "id": "777781f6",
   "metadata": {
    "deletable": false,
    "ExecuteTime": {
     "end_time": "2024-02-20T17:33:44.293781658Z",
     "start_time": "2024-02-20T17:33:44.131039914Z"
    }
   },
   "outputs": [],
   "source": [
    "data['education'] = data['education'].str.lower()"
   ]
  },
  {
   "cell_type": "markdown",
   "id": "cb600e1b",
   "metadata": {
    "deletable": false,
    "editable": false,
    "id": "dc587695"
   },
   "source": [
    "**Задание 15. Выведите на экран количество строк-дубликатов в данных. Если такие строки присутствуют, удалите их.**"
   ]
  },
  {
   "cell_type": "code",
   "execution_count": 15,
   "id": "76f26b9b",
   "metadata": {
    "deletable": false,
    "id": "3ee445e4",
    "outputId": "9684deba-1934-42d1-99e1-cda61740f822",
    "ExecuteTime": {
     "end_time": "2024-02-20T17:33:44.636361803Z",
     "start_time": "2024-02-20T17:33:44.299612715Z"
    }
   },
   "outputs": [
    {
     "data": {
      "text/plain": "71"
     },
     "execution_count": 15,
     "metadata": {},
     "output_type": "execute_result"
    }
   ],
   "source": [
    "data.duplicated().sum()"
   ]
  },
  {
   "cell_type": "code",
   "execution_count": 16,
   "id": "58fbdeba",
   "metadata": {
    "deletable": false,
    "id": "8575fe05",
    "ExecuteTime": {
     "end_time": "2024-02-20T17:33:44.698724758Z",
     "start_time": "2024-02-20T17:33:44.520320541Z"
    }
   },
   "outputs": [],
   "source": [
    "data = data.drop_duplicates()"
   ]
  },
  {
   "cell_type": "markdown",
   "id": "1cd2c7cf",
   "metadata": {
    "deletable": false,
    "editable": false,
    "id": "9904cf55"
   },
   "source": [
    "### Категоризация данных"
   ]
  },
  {
   "cell_type": "markdown",
   "id": "2cd077a1",
   "metadata": {
    "deletable": false,
    "editable": false,
    "id": "72fcc8a2"
   },
   "source": [
    "**Задание 16. На основании диапазонов, указанных ниже, создайте в датафрейме `data` столбец `total_income_category` с категориями:**\n",
    "\n",
    "- 0–30000 — `'E'`;\n",
    "- 30001–50000 — `'D'`;\n",
    "- 50001–200000 — `'C'`;\n",
    "- 200001–1000000 — `'B'`;\n",
    "- 1000001 и выше — `'A'`.\n",
    "\n",
    "\n",
    "**Например, кредитополучателю с доходом 25000 нужно назначить категорию `'E'`, а клиенту, получающему 235000, — `'B'`. Используйте собственную функцию с именем `categorize_income()` и метод `apply()`.**"
   ]
  },
  {
   "cell_type": "code",
   "execution_count": 17,
   "id": "c57a8296",
   "metadata": {
    "deletable": false,
    "id": "e1771346",
    "ExecuteTime": {
     "end_time": "2024-02-20T17:33:44.818974568Z",
     "start_time": "2024-02-20T17:33:44.679282923Z"
    }
   },
   "outputs": [],
   "source": [
    "def categorize_income(income):\n",
    "    try:\n",
    "        if 0 <= income <= 30000:\n",
    "            return 'E'\n",
    "        elif 30001 <= income <= 50000:\n",
    "            return 'D'\n",
    "        elif 50001 <= income <= 200000:\n",
    "            return 'C'\n",
    "        elif 200001 <= income <= 1000000:\n",
    "            return 'B'\n",
    "        elif income >= 1000001:\n",
    "            return 'A'\n",
    "    except:\n",
    "        pass"
   ]
  },
  {
   "cell_type": "code",
   "execution_count": 18,
   "id": "0ba44a96",
   "metadata": {
    "deletable": false,
    "id": "d5f3586d",
    "ExecuteTime": {
     "end_time": "2024-02-20T17:33:44.909814421Z",
     "start_time": "2024-02-20T17:33:44.809748206Z"
    }
   },
   "outputs": [],
   "source": [
    "data['total_income_category'] = data['total_income'].apply(categorize_income)"
   ]
  },
  {
   "cell_type": "markdown",
   "id": "26901b37",
   "metadata": {
    "deletable": false,
    "editable": false,
    "id": "dde49b5c"
   },
   "source": [
    "**Задание 17. Выведите на экран перечень уникальных целей взятия кредита из столбца `purpose`.**"
   ]
  },
  {
   "cell_type": "code",
   "execution_count": 19,
   "id": "e8dbf19d",
   "metadata": {
    "deletable": false,
    "id": "f67ce9b3",
    "outputId": "673c12d9-7d7e-4ae0-9812-c622c89dd244",
    "ExecuteTime": {
     "end_time": "2024-02-20T17:33:44.964680691Z",
     "start_time": "2024-02-20T17:33:44.862483262Z"
    }
   },
   "outputs": [
    {
     "data": {
      "text/plain": "array(['покупка жилья', 'приобретение автомобиля',\n       'дополнительное образование', 'сыграть свадьбу',\n       'операции с жильем', 'образование', 'на проведение свадьбы',\n       'покупка жилья для семьи', 'покупка недвижимости',\n       'покупка коммерческой недвижимости', 'покупка жилой недвижимости',\n       'строительство собственной недвижимости', 'недвижимость',\n       'строительство недвижимости', 'на покупку подержанного автомобиля',\n       'на покупку своего автомобиля',\n       'операции с коммерческой недвижимостью',\n       'строительство жилой недвижимости', 'жилье',\n       'операции со своей недвижимостью', 'автомобили',\n       'заняться образованием', 'сделка с подержанным автомобилем',\n       'получение образования', 'автомобиль', 'свадьба',\n       'получение дополнительного образования', 'покупка своего жилья',\n       'операции с недвижимостью', 'получение высшего образования',\n       'свой автомобиль', 'сделка с автомобилем',\n       'профильное образование', 'высшее образование',\n       'покупка жилья для сдачи', 'на покупку автомобиля', 'ремонт жилью',\n       'заняться высшим образованием'], dtype=object)"
     },
     "execution_count": 19,
     "metadata": {},
     "output_type": "execute_result"
    }
   ],
   "source": [
    "data['purpose'].unique()"
   ]
  },
  {
   "cell_type": "markdown",
   "id": "26054dcc",
   "metadata": {
    "deletable": false,
    "editable": false,
    "id": "85d0aef0"
   },
   "source": [
    "**Задание 18. Создайте функцию, которая на основании данных из столбца `purpose` сформирует новый столбец `purpose_category`, в который войдут следующие категории:**\n",
    "\n",
    "- `'операции с автомобилем'`,\n",
    "- `'операции с недвижимостью'`,\n",
    "- `'проведение свадьбы'`,\n",
    "- `'получение образования'`.\n",
    "\n",
    "**Например, если в столбце `purpose` находится подстрока `'на покупку автомобиля'`, то в столбце `purpose_category` должна появиться строка `'операции с автомобилем'`.**\n",
    "\n",
    "**Используйте собственную функцию с именем `categorize_purpose()` и метод `apply()`. Изучите данные в столбце `purpose` и определите, какие подстроки помогут вам правильно определить категорию.**"
   ]
  },
  {
   "cell_type": "code",
   "execution_count": 20,
   "id": "9d3de670",
   "metadata": {
    "deletable": false,
    "id": "e149fab4",
    "ExecuteTime": {
     "end_time": "2024-02-20T17:33:45.066654778Z",
     "start_time": "2024-02-20T17:33:44.945855779Z"
    }
   },
   "outputs": [],
   "source": [
    "def categorize_purpose(row):\n",
    "    try:\n",
    "        if 'автом' in row:\n",
    "            return 'операции с автомобилем'\n",
    "        elif 'жил' in row or 'недвиж' in row:\n",
    "            return 'операции с недвижимостью'\n",
    "        elif 'свад' in row:\n",
    "            return 'проведение свадьбы'\n",
    "        elif 'образов' in row:\n",
    "            return 'получение образования'\n",
    "    except:\n",
    "        return 'нет категории'"
   ]
  },
  {
   "cell_type": "code",
   "execution_count": 21,
   "id": "82745489",
   "metadata": {
    "deletable": false,
    "id": "bf36e69b",
    "ExecuteTime": {
     "end_time": "2024-02-20T17:33:45.170744394Z",
     "start_time": "2024-02-20T17:33:45.045888261Z"
    }
   },
   "outputs": [],
   "source": [
    "data['purpose_category'] = data['purpose'].apply(categorize_purpose)"
   ]
  },
  {
   "cell_type": "code",
   "execution_count": 22,
   "id": "64252b99",
   "metadata": {
    "ExecuteTime": {
     "end_time": "2024-02-20T17:33:45.231320764Z",
     "start_time": "2024-02-20T17:33:45.129550959Z"
    }
   },
   "outputs": [
    {
     "data": {
      "text/plain": "       children  days_employed  dob_years       education  education_id  \\\n0             1    8437.673028         42          высшее             0   \n1             1    4024.803754         36         среднее             1   \n2             0    5623.422610         33         среднее             1   \n3             3    4124.747207         32         среднее             1   \n4             0  340266.072047         53         среднее             1   \n...         ...            ...        ...             ...           ...   \n21518         0  373995.710838         59         среднее             1   \n21519         1    2351.431934         37  ученая степень             4   \n21520         1    4529.316663         43         среднее             1   \n21521         0  343937.404131         67         среднее             1   \n21524         2    1984.507589         40         среднее             1   \n\n          family_status  family_status_id gender income_type  debt  \\\n0       женат / замужем                 0      F   сотрудник     0   \n1       женат / замужем                 0      F   сотрудник     0   \n2       женат / замужем                 0      M   сотрудник     0   \n3       женат / замужем                 0      M   сотрудник     0   \n4      гражданский брак                 1      F   пенсионер     0   \n...                 ...               ...    ...         ...   ...   \n21518   женат / замужем                 0      F   пенсионер     0   \n21519         в разводе                 3      M   сотрудник     0   \n21520  гражданский брак                 1      F   компаньон     0   \n21521   женат / замужем                 0      F   пенсионер     0   \n21524   женат / замужем                 0      F   сотрудник     0   \n\n       total_income                            purpose total_income_category  \\\n0            253875                      покупка жилья                     B   \n1            112080            приобретение автомобиля                     C   \n2            145885                      покупка жилья                     C   \n3            267628         дополнительное образование                     B   \n4            158616                    сыграть свадьбу                     C   \n...             ...                                ...                   ...   \n21518        153864               сделка с автомобилем                     C   \n21519        115949  покупка коммерческой недвижимости                     C   \n21520        224791                  операции с жильем                     B   \n21521        155999               сделка с автомобилем                     C   \n21524         82047              на покупку автомобиля                     C   \n\n               purpose_category  \n0      операции с недвижимостью  \n1        операции с автомобилем  \n2      операции с недвижимостью  \n3         получение образования  \n4            проведение свадьбы  \n...                         ...  \n21518    операции с автомобилем  \n21519  операции с недвижимостью  \n21520  операции с недвижимостью  \n21521    операции с автомобилем  \n21524    операции с автомобилем  \n\n[19599 rows x 14 columns]",
      "text/html": "<div>\n<style scoped>\n    .dataframe tbody tr th:only-of-type {\n        vertical-align: middle;\n    }\n\n    .dataframe tbody tr th {\n        vertical-align: top;\n    }\n\n    .dataframe thead th {\n        text-align: right;\n    }\n</style>\n<table border=\"1\" class=\"dataframe\">\n  <thead>\n    <tr style=\"text-align: right;\">\n      <th></th>\n      <th>children</th>\n      <th>days_employed</th>\n      <th>dob_years</th>\n      <th>education</th>\n      <th>education_id</th>\n      <th>family_status</th>\n      <th>family_status_id</th>\n      <th>gender</th>\n      <th>income_type</th>\n      <th>debt</th>\n      <th>total_income</th>\n      <th>purpose</th>\n      <th>total_income_category</th>\n      <th>purpose_category</th>\n    </tr>\n  </thead>\n  <tbody>\n    <tr>\n      <th>0</th>\n      <td>1</td>\n      <td>8437.673028</td>\n      <td>42</td>\n      <td>высшее</td>\n      <td>0</td>\n      <td>женат / замужем</td>\n      <td>0</td>\n      <td>F</td>\n      <td>сотрудник</td>\n      <td>0</td>\n      <td>253875</td>\n      <td>покупка жилья</td>\n      <td>B</td>\n      <td>операции с недвижимостью</td>\n    </tr>\n    <tr>\n      <th>1</th>\n      <td>1</td>\n      <td>4024.803754</td>\n      <td>36</td>\n      <td>среднее</td>\n      <td>1</td>\n      <td>женат / замужем</td>\n      <td>0</td>\n      <td>F</td>\n      <td>сотрудник</td>\n      <td>0</td>\n      <td>112080</td>\n      <td>приобретение автомобиля</td>\n      <td>C</td>\n      <td>операции с автомобилем</td>\n    </tr>\n    <tr>\n      <th>2</th>\n      <td>0</td>\n      <td>5623.422610</td>\n      <td>33</td>\n      <td>среднее</td>\n      <td>1</td>\n      <td>женат / замужем</td>\n      <td>0</td>\n      <td>M</td>\n      <td>сотрудник</td>\n      <td>0</td>\n      <td>145885</td>\n      <td>покупка жилья</td>\n      <td>C</td>\n      <td>операции с недвижимостью</td>\n    </tr>\n    <tr>\n      <th>3</th>\n      <td>3</td>\n      <td>4124.747207</td>\n      <td>32</td>\n      <td>среднее</td>\n      <td>1</td>\n      <td>женат / замужем</td>\n      <td>0</td>\n      <td>M</td>\n      <td>сотрудник</td>\n      <td>0</td>\n      <td>267628</td>\n      <td>дополнительное образование</td>\n      <td>B</td>\n      <td>получение образования</td>\n    </tr>\n    <tr>\n      <th>4</th>\n      <td>0</td>\n      <td>340266.072047</td>\n      <td>53</td>\n      <td>среднее</td>\n      <td>1</td>\n      <td>гражданский брак</td>\n      <td>1</td>\n      <td>F</td>\n      <td>пенсионер</td>\n      <td>0</td>\n      <td>158616</td>\n      <td>сыграть свадьбу</td>\n      <td>C</td>\n      <td>проведение свадьбы</td>\n    </tr>\n    <tr>\n      <th>...</th>\n      <td>...</td>\n      <td>...</td>\n      <td>...</td>\n      <td>...</td>\n      <td>...</td>\n      <td>...</td>\n      <td>...</td>\n      <td>...</td>\n      <td>...</td>\n      <td>...</td>\n      <td>...</td>\n      <td>...</td>\n      <td>...</td>\n      <td>...</td>\n    </tr>\n    <tr>\n      <th>21518</th>\n      <td>0</td>\n      <td>373995.710838</td>\n      <td>59</td>\n      <td>среднее</td>\n      <td>1</td>\n      <td>женат / замужем</td>\n      <td>0</td>\n      <td>F</td>\n      <td>пенсионер</td>\n      <td>0</td>\n      <td>153864</td>\n      <td>сделка с автомобилем</td>\n      <td>C</td>\n      <td>операции с автомобилем</td>\n    </tr>\n    <tr>\n      <th>21519</th>\n      <td>1</td>\n      <td>2351.431934</td>\n      <td>37</td>\n      <td>ученая степень</td>\n      <td>4</td>\n      <td>в разводе</td>\n      <td>3</td>\n      <td>M</td>\n      <td>сотрудник</td>\n      <td>0</td>\n      <td>115949</td>\n      <td>покупка коммерческой недвижимости</td>\n      <td>C</td>\n      <td>операции с недвижимостью</td>\n    </tr>\n    <tr>\n      <th>21520</th>\n      <td>1</td>\n      <td>4529.316663</td>\n      <td>43</td>\n      <td>среднее</td>\n      <td>1</td>\n      <td>гражданский брак</td>\n      <td>1</td>\n      <td>F</td>\n      <td>компаньон</td>\n      <td>0</td>\n      <td>224791</td>\n      <td>операции с жильем</td>\n      <td>B</td>\n      <td>операции с недвижимостью</td>\n    </tr>\n    <tr>\n      <th>21521</th>\n      <td>0</td>\n      <td>343937.404131</td>\n      <td>67</td>\n      <td>среднее</td>\n      <td>1</td>\n      <td>женат / замужем</td>\n      <td>0</td>\n      <td>F</td>\n      <td>пенсионер</td>\n      <td>0</td>\n      <td>155999</td>\n      <td>сделка с автомобилем</td>\n      <td>C</td>\n      <td>операции с автомобилем</td>\n    </tr>\n    <tr>\n      <th>21524</th>\n      <td>2</td>\n      <td>1984.507589</td>\n      <td>40</td>\n      <td>среднее</td>\n      <td>1</td>\n      <td>женат / замужем</td>\n      <td>0</td>\n      <td>F</td>\n      <td>сотрудник</td>\n      <td>0</td>\n      <td>82047</td>\n      <td>на покупку автомобиля</td>\n      <td>C</td>\n      <td>операции с автомобилем</td>\n    </tr>\n  </tbody>\n</table>\n<p>19599 rows × 14 columns</p>\n</div>"
     },
     "execution_count": 22,
     "metadata": {},
     "output_type": "execute_result"
    }
   ],
   "source": [
    "data[data.debt == 0]"
   ]
  },
  {
   "cell_type": "markdown",
   "id": "ddebe6e1",
   "metadata": {
    "deletable": false,
    "editable": false,
    "id": "09b242bf"
   },
   "source": [
    "### Шаг 3. Исследуйте данные и ответьте на вопросы"
   ]
  },
  {
   "cell_type": "markdown",
   "id": "a5c28522",
   "metadata": {
    "deletable": false,
    "editable": false,
    "id": "c5d66278"
   },
   "source": [
    "#### 3.1 Есть ли зависимость между количеством детей и возвратом кредита в срок?"
   ]
  },
  {
   "cell_type": "code",
   "execution_count": 23,
   "id": "3dfb0c96",
   "metadata": {
    "ExecuteTime": {
     "end_time": "2024-02-20T17:33:45.400381067Z",
     "start_time": "2024-02-20T17:33:45.222039781Z"
    }
   },
   "outputs": [
    {
     "data": {
      "text/plain": "   children  days_employed  dob_years education  education_id  \\\n0         1    8437.673028         42    высшее             0   \n1         1    4024.803754         36   среднее             1   \n2         0    5623.422610         33   среднее             1   \n3         3    4124.747207         32   среднее             1   \n4         0  340266.072047         53   среднее             1   \n\n      family_status  family_status_id gender income_type  debt  total_income  \\\n0   женат / замужем                 0      F   сотрудник     0        253875   \n1   женат / замужем                 0      F   сотрудник     0        112080   \n2   женат / замужем                 0      M   сотрудник     0        145885   \n3   женат / замужем                 0      M   сотрудник     0        267628   \n4  гражданский брак                 1      F   пенсионер     0        158616   \n\n                      purpose total_income_category          purpose_category  \n0               покупка жилья                     B  операции с недвижимостью  \n1     приобретение автомобиля                     C    операции с автомобилем  \n2               покупка жилья                     C  операции с недвижимостью  \n3  дополнительное образование                     B     получение образования  \n4             сыграть свадьбу                     C        проведение свадьбы  ",
      "text/html": "<div>\n<style scoped>\n    .dataframe tbody tr th:only-of-type {\n        vertical-align: middle;\n    }\n\n    .dataframe tbody tr th {\n        vertical-align: top;\n    }\n\n    .dataframe thead th {\n        text-align: right;\n    }\n</style>\n<table border=\"1\" class=\"dataframe\">\n  <thead>\n    <tr style=\"text-align: right;\">\n      <th></th>\n      <th>children</th>\n      <th>days_employed</th>\n      <th>dob_years</th>\n      <th>education</th>\n      <th>education_id</th>\n      <th>family_status</th>\n      <th>family_status_id</th>\n      <th>gender</th>\n      <th>income_type</th>\n      <th>debt</th>\n      <th>total_income</th>\n      <th>purpose</th>\n      <th>total_income_category</th>\n      <th>purpose_category</th>\n    </tr>\n  </thead>\n  <tbody>\n    <tr>\n      <th>0</th>\n      <td>1</td>\n      <td>8437.673028</td>\n      <td>42</td>\n      <td>высшее</td>\n      <td>0</td>\n      <td>женат / замужем</td>\n      <td>0</td>\n      <td>F</td>\n      <td>сотрудник</td>\n      <td>0</td>\n      <td>253875</td>\n      <td>покупка жилья</td>\n      <td>B</td>\n      <td>операции с недвижимостью</td>\n    </tr>\n    <tr>\n      <th>1</th>\n      <td>1</td>\n      <td>4024.803754</td>\n      <td>36</td>\n      <td>среднее</td>\n      <td>1</td>\n      <td>женат / замужем</td>\n      <td>0</td>\n      <td>F</td>\n      <td>сотрудник</td>\n      <td>0</td>\n      <td>112080</td>\n      <td>приобретение автомобиля</td>\n      <td>C</td>\n      <td>операции с автомобилем</td>\n    </tr>\n    <tr>\n      <th>2</th>\n      <td>0</td>\n      <td>5623.422610</td>\n      <td>33</td>\n      <td>среднее</td>\n      <td>1</td>\n      <td>женат / замужем</td>\n      <td>0</td>\n      <td>M</td>\n      <td>сотрудник</td>\n      <td>0</td>\n      <td>145885</td>\n      <td>покупка жилья</td>\n      <td>C</td>\n      <td>операции с недвижимостью</td>\n    </tr>\n    <tr>\n      <th>3</th>\n      <td>3</td>\n      <td>4124.747207</td>\n      <td>32</td>\n      <td>среднее</td>\n      <td>1</td>\n      <td>женат / замужем</td>\n      <td>0</td>\n      <td>M</td>\n      <td>сотрудник</td>\n      <td>0</td>\n      <td>267628</td>\n      <td>дополнительное образование</td>\n      <td>B</td>\n      <td>получение образования</td>\n    </tr>\n    <tr>\n      <th>4</th>\n      <td>0</td>\n      <td>340266.072047</td>\n      <td>53</td>\n      <td>среднее</td>\n      <td>1</td>\n      <td>гражданский брак</td>\n      <td>1</td>\n      <td>F</td>\n      <td>пенсионер</td>\n      <td>0</td>\n      <td>158616</td>\n      <td>сыграть свадьбу</td>\n      <td>C</td>\n      <td>проведение свадьбы</td>\n    </tr>\n  </tbody>\n</table>\n</div>"
     },
     "execution_count": 23,
     "metadata": {},
     "output_type": "execute_result"
    }
   ],
   "source": [
    "# Взглянем на данные\n",
    "data.head()"
   ]
  },
  {
   "cell_type": "markdown",
   "id": "7e0105e1",
   "metadata": {},
   "source": [
    "В таблице только 3 столбца которые характеризуют кредит - это debt, purpose и purpose_category. Поскольку последние 2 описывают цели взятия кредита, то предположим что в столбце debt 0 это погашенный в срок кредит, а 1 просрочка. Хотя в явном виде описания того что содержится в столбце нигде нет. Посчитаем размер сравниваемых групп(0, 1, 2 итд ребенка) и среднюю долю невозврата кредита по группам."
   ]
  },
  {
   "cell_type": "code",
   "execution_count": 24,
   "id": "889efc7e",
   "metadata": {
    "ExecuteTime": {
     "end_time": "2024-02-20T17:33:45.580073561Z",
     "start_time": "2024-02-20T17:33:45.328407808Z"
    }
   },
   "outputs": [
    {
     "data": {
      "text/plain": "children\n0    14091\n1     4808\n2     2052\n3      330\n4       41\n5        9\nName: children, dtype: int64"
     },
     "execution_count": 24,
     "metadata": {},
     "output_type": "execute_result"
    }
   ],
   "source": [
    "# размер сравниваемых групп\n",
    "data.groupby('children')['children'].count()"
   ]
  },
  {
   "cell_type": "code",
   "execution_count": 25,
   "id": "998bfa28",
   "metadata": {
    "deletable": false,
    "id": "2cacfc4a",
    "ExecuteTime": {
     "end_time": "2024-02-20T17:33:45.663361746Z",
     "start_time": "2024-02-20T17:33:45.457398971Z"
    }
   },
   "outputs": [
    {
     "data": {
      "text/plain": "children\n0    0.075438\n1    0.092346\n2    0.094542\n3    0.081818\n4    0.097561\n5    0.000000\nName: debt, dtype: float64"
     },
     "execution_count": 25,
     "metadata": {},
     "output_type": "execute_result"
    }
   ],
   "source": [
    "# средняя доля невозврата кредита по группам\n",
    "data.groupby('children')['debt'].agg('mean')"
   ]
  },
  {
   "cell_type": "code",
   "execution_count": 26,
   "id": "59a48b5f",
   "metadata": {
    "ExecuteTime": {
     "end_time": "2024-02-20T17:33:45.848205657Z",
     "start_time": "2024-02-20T17:33:45.605348964Z"
    }
   },
   "outputs": [
    {
     "data": {
      "text/plain": "          count      mean\nchildren                 \n0         14091  0.075438\n1          4808  0.092346\n2          2052  0.094542\n3           330  0.081818\n4            41  0.097561\n5             9  0.000000",
      "text/html": "<div>\n<style scoped>\n    .dataframe tbody tr th:only-of-type {\n        vertical-align: middle;\n    }\n\n    .dataframe tbody tr th {\n        vertical-align: top;\n    }\n\n    .dataframe thead th {\n        text-align: right;\n    }\n</style>\n<table border=\"1\" class=\"dataframe\">\n  <thead>\n    <tr style=\"text-align: right;\">\n      <th></th>\n      <th>count</th>\n      <th>mean</th>\n    </tr>\n    <tr>\n      <th>children</th>\n      <th></th>\n      <th></th>\n    </tr>\n  </thead>\n  <tbody>\n    <tr>\n      <th>0</th>\n      <td>14091</td>\n      <td>0.075438</td>\n    </tr>\n    <tr>\n      <th>1</th>\n      <td>4808</td>\n      <td>0.092346</td>\n    </tr>\n    <tr>\n      <th>2</th>\n      <td>2052</td>\n      <td>0.094542</td>\n    </tr>\n    <tr>\n      <th>3</th>\n      <td>330</td>\n      <td>0.081818</td>\n    </tr>\n    <tr>\n      <th>4</th>\n      <td>41</td>\n      <td>0.097561</td>\n    </tr>\n    <tr>\n      <th>5</th>\n      <td>9</td>\n      <td>0.000000</td>\n    </tr>\n  </tbody>\n</table>\n</div>"
     },
     "execution_count": 26,
     "metadata": {},
     "output_type": "execute_result"
    }
   ],
   "source": [
    "# Сводная таблица\n",
    "data.groupby('children')['debt'].agg(['count', 'mean'])"
   ]
  },
  {
   "cell_type": "markdown",
   "id": "7ef57be3",
   "metadata": {
    "deletable": false,
    "id": "3a6b99ec"
   },
   "source": [
    "**Вывод:** Судя по данным, люди без детей возвращают кредиты чаще, а люди с детьми являются худшими заемщиками. Процент просроченых кредитов у людей с детьми в среднем около 9.2, а у людей без детей около 7.5."
   ]
  },
  {
   "cell_type": "markdown",
   "id": "3f5f567a",
   "metadata": {
    "deletable": false,
    "editable": false,
    "id": "97be82ca"
   },
   "source": [
    "#### 3.2 Есть ли зависимость между семейным положением и возвратом кредита в срок?"
   ]
  },
  {
   "cell_type": "code",
   "execution_count": 27,
   "id": "06ade62c",
   "metadata": {
    "deletable": false,
    "id": "dc3f7ee8",
    "ExecuteTime": {
     "end_time": "2024-02-20T17:33:46.082525350Z",
     "start_time": "2024-02-20T17:33:45.825071723Z"
    }
   },
   "outputs": [
    {
     "data": {
      "text/plain": "   children  days_employed  dob_years education  education_id  \\\n0         1    8437.673028         42    высшее             0   \n1         1    4024.803754         36   среднее             1   \n2         0    5623.422610         33   среднее             1   \n3         3    4124.747207         32   среднее             1   \n4         0  340266.072047         53   среднее             1   \n\n      family_status  family_status_id gender income_type  debt  total_income  \\\n0   женат / замужем                 0      F   сотрудник     0        253875   \n1   женат / замужем                 0      F   сотрудник     0        112080   \n2   женат / замужем                 0      M   сотрудник     0        145885   \n3   женат / замужем                 0      M   сотрудник     0        267628   \n4  гражданский брак                 1      F   пенсионер     0        158616   \n\n                      purpose total_income_category          purpose_category  \n0               покупка жилья                     B  операции с недвижимостью  \n1     приобретение автомобиля                     C    операции с автомобилем  \n2               покупка жилья                     C  операции с недвижимостью  \n3  дополнительное образование                     B     получение образования  \n4             сыграть свадьбу                     C        проведение свадьбы  ",
      "text/html": "<div>\n<style scoped>\n    .dataframe tbody tr th:only-of-type {\n        vertical-align: middle;\n    }\n\n    .dataframe tbody tr th {\n        vertical-align: top;\n    }\n\n    .dataframe thead th {\n        text-align: right;\n    }\n</style>\n<table border=\"1\" class=\"dataframe\">\n  <thead>\n    <tr style=\"text-align: right;\">\n      <th></th>\n      <th>children</th>\n      <th>days_employed</th>\n      <th>dob_years</th>\n      <th>education</th>\n      <th>education_id</th>\n      <th>family_status</th>\n      <th>family_status_id</th>\n      <th>gender</th>\n      <th>income_type</th>\n      <th>debt</th>\n      <th>total_income</th>\n      <th>purpose</th>\n      <th>total_income_category</th>\n      <th>purpose_category</th>\n    </tr>\n  </thead>\n  <tbody>\n    <tr>\n      <th>0</th>\n      <td>1</td>\n      <td>8437.673028</td>\n      <td>42</td>\n      <td>высшее</td>\n      <td>0</td>\n      <td>женат / замужем</td>\n      <td>0</td>\n      <td>F</td>\n      <td>сотрудник</td>\n      <td>0</td>\n      <td>253875</td>\n      <td>покупка жилья</td>\n      <td>B</td>\n      <td>операции с недвижимостью</td>\n    </tr>\n    <tr>\n      <th>1</th>\n      <td>1</td>\n      <td>4024.803754</td>\n      <td>36</td>\n      <td>среднее</td>\n      <td>1</td>\n      <td>женат / замужем</td>\n      <td>0</td>\n      <td>F</td>\n      <td>сотрудник</td>\n      <td>0</td>\n      <td>112080</td>\n      <td>приобретение автомобиля</td>\n      <td>C</td>\n      <td>операции с автомобилем</td>\n    </tr>\n    <tr>\n      <th>2</th>\n      <td>0</td>\n      <td>5623.422610</td>\n      <td>33</td>\n      <td>среднее</td>\n      <td>1</td>\n      <td>женат / замужем</td>\n      <td>0</td>\n      <td>M</td>\n      <td>сотрудник</td>\n      <td>0</td>\n      <td>145885</td>\n      <td>покупка жилья</td>\n      <td>C</td>\n      <td>операции с недвижимостью</td>\n    </tr>\n    <tr>\n      <th>3</th>\n      <td>3</td>\n      <td>4124.747207</td>\n      <td>32</td>\n      <td>среднее</td>\n      <td>1</td>\n      <td>женат / замужем</td>\n      <td>0</td>\n      <td>M</td>\n      <td>сотрудник</td>\n      <td>0</td>\n      <td>267628</td>\n      <td>дополнительное образование</td>\n      <td>B</td>\n      <td>получение образования</td>\n    </tr>\n    <tr>\n      <th>4</th>\n      <td>0</td>\n      <td>340266.072047</td>\n      <td>53</td>\n      <td>среднее</td>\n      <td>1</td>\n      <td>гражданский брак</td>\n      <td>1</td>\n      <td>F</td>\n      <td>пенсионер</td>\n      <td>0</td>\n      <td>158616</td>\n      <td>сыграть свадьбу</td>\n      <td>C</td>\n      <td>проведение свадьбы</td>\n    </tr>\n  </tbody>\n</table>\n</div>"
     },
     "execution_count": 27,
     "metadata": {},
     "output_type": "execute_result"
    }
   ],
   "source": [
    "# Взглянем на данные\n",
    "data.head()"
   ]
  },
  {
   "cell_type": "markdown",
   "id": "463b86ab",
   "metadata": {},
   "source": [
    "Судя по всему нужные столбцы это family_status и family_status_id. Для удобства восприятия будем пользоваться family_status так как family_status_id является оцифровкой первого. Начнем с рачета размера сравниваемых групп."
   ]
  },
  {
   "cell_type": "code",
   "execution_count": 28,
   "id": "4dd18591",
   "metadata": {
    "ExecuteTime": {
     "end_time": "2024-02-20T17:33:46.154550578Z",
     "start_time": "2024-02-20T17:33:45.980827135Z"
    }
   },
   "outputs": [
    {
     "data": {
      "text/plain": "family_status\nНе женат / не замужем     2796\nв разводе                 1189\nвдовец / вдова             951\nгражданский брак          4134\nженат / замужем          12261\nName: family_status, dtype: int64"
     },
     "execution_count": 28,
     "metadata": {},
     "output_type": "execute_result"
    }
   ],
   "source": [
    "# размер сравниваемых групп\n",
    "data.groupby('family_status')['family_status'].count()"
   ]
  },
  {
   "cell_type": "code",
   "execution_count": 29,
   "id": "4465d3d8",
   "metadata": {
    "ExecuteTime": {
     "end_time": "2024-02-20T17:33:46.308710322Z",
     "start_time": "2024-02-20T17:33:46.133768555Z"
    }
   },
   "outputs": [
    {
     "name": "stdout",
     "output_type": "stream",
     "text": [
      "средняя доля невозврата кредита в процентах\n",
      " family_status\n",
      "Не женат / не замужем    9.763948\n",
      "в разводе                7.064760\n",
      "вдовец / вдова           6.624606\n",
      "гражданский брак         9.313014\n",
      "женат / замужем          7.560558\n",
      "Name: debt, dtype: float64\n"
     ]
    }
   ],
   "source": [
    "# средняя доля невозврата кредита\n",
    "print('средняя доля невозврата кредита в процентах\\n',\n",
    "      data.groupby('family_status')['debt'].agg('mean')*100)"
   ]
  },
  {
   "cell_type": "code",
   "execution_count": 30,
   "id": "1d9a0d06",
   "metadata": {
    "ExecuteTime": {
     "end_time": "2024-02-20T17:33:46.616864479Z",
     "start_time": "2024-02-20T17:33:46.289031965Z"
    }
   },
   "outputs": [
    {
     "data": {
      "text/plain": "                       count      mean\nfamily_status                         \nНе женат / не замужем   2796  0.097639\nв разводе               1189  0.070648\nвдовец / вдова           951  0.066246\nгражданский брак        4134  0.093130\nженат / замужем        12261  0.075606",
      "text/html": "<div>\n<style scoped>\n    .dataframe tbody tr th:only-of-type {\n        vertical-align: middle;\n    }\n\n    .dataframe tbody tr th {\n        vertical-align: top;\n    }\n\n    .dataframe thead th {\n        text-align: right;\n    }\n</style>\n<table border=\"1\" class=\"dataframe\">\n  <thead>\n    <tr style=\"text-align: right;\">\n      <th></th>\n      <th>count</th>\n      <th>mean</th>\n    </tr>\n    <tr>\n      <th>family_status</th>\n      <th></th>\n      <th></th>\n    </tr>\n  </thead>\n  <tbody>\n    <tr>\n      <th>Не женат / не замужем</th>\n      <td>2796</td>\n      <td>0.097639</td>\n    </tr>\n    <tr>\n      <th>в разводе</th>\n      <td>1189</td>\n      <td>0.070648</td>\n    </tr>\n    <tr>\n      <th>вдовец / вдова</th>\n      <td>951</td>\n      <td>0.066246</td>\n    </tr>\n    <tr>\n      <th>гражданский брак</th>\n      <td>4134</td>\n      <td>0.093130</td>\n    </tr>\n    <tr>\n      <th>женат / замужем</th>\n      <td>12261</td>\n      <td>0.075606</td>\n    </tr>\n  </tbody>\n</table>\n</div>"
     },
     "execution_count": 30,
     "metadata": {},
     "output_type": "execute_result"
    }
   ],
   "source": [
    "# сводная таблица\n",
    "data.groupby('family_status')['debt'].agg(['count', 'mean'])"
   ]
  },
  {
   "cell_type": "markdown",
   "source": [
    "**Вывод:** Результаты представлены в таблице выше. Самая высокая доля невозврата кредита у холостых, а самая низкая у овдовевших. Как видно из сводной таблицы люди никогда не состоявшие в официальном браке имеют больший риск невозврата кредита."
   ],
   "metadata": {
    "collapsed": false
   },
   "id": "3c80b7f7"
  },
  {
   "cell_type": "markdown",
   "id": "1371a4a1",
   "metadata": {
    "deletable": false,
    "editable": false,
    "id": "1e8b2fca"
   },
   "source": [
    "#### 3.3 Есть ли зависимость между уровнем дохода и возвратом кредита в срок?"
   ]
  },
  {
   "cell_type": "code",
   "execution_count": 31,
   "id": "ec5ce2f6",
   "metadata": {
    "deletable": false,
    "id": "cd7e3720",
    "ExecuteTime": {
     "end_time": "2024-02-20T17:33:46.797898738Z",
     "start_time": "2024-02-20T17:33:46.513763079Z"
    }
   },
   "outputs": [
    {
     "data": {
      "text/plain": "   children  days_employed  dob_years education  education_id  \\\n0         1    8437.673028         42    высшее             0   \n1         1    4024.803754         36   среднее             1   \n2         0    5623.422610         33   среднее             1   \n3         3    4124.747207         32   среднее             1   \n4         0  340266.072047         53   среднее             1   \n\n      family_status  family_status_id gender income_type  debt  total_income  \\\n0   женат / замужем                 0      F   сотрудник     0        253875   \n1   женат / замужем                 0      F   сотрудник     0        112080   \n2   женат / замужем                 0      M   сотрудник     0        145885   \n3   женат / замужем                 0      M   сотрудник     0        267628   \n4  гражданский брак                 1      F   пенсионер     0        158616   \n\n                      purpose total_income_category          purpose_category  \n0               покупка жилья                     B  операции с недвижимостью  \n1     приобретение автомобиля                     C    операции с автомобилем  \n2               покупка жилья                     C  операции с недвижимостью  \n3  дополнительное образование                     B     получение образования  \n4             сыграть свадьбу                     C        проведение свадьбы  ",
      "text/html": "<div>\n<style scoped>\n    .dataframe tbody tr th:only-of-type {\n        vertical-align: middle;\n    }\n\n    .dataframe tbody tr th {\n        vertical-align: top;\n    }\n\n    .dataframe thead th {\n        text-align: right;\n    }\n</style>\n<table border=\"1\" class=\"dataframe\">\n  <thead>\n    <tr style=\"text-align: right;\">\n      <th></th>\n      <th>children</th>\n      <th>days_employed</th>\n      <th>dob_years</th>\n      <th>education</th>\n      <th>education_id</th>\n      <th>family_status</th>\n      <th>family_status_id</th>\n      <th>gender</th>\n      <th>income_type</th>\n      <th>debt</th>\n      <th>total_income</th>\n      <th>purpose</th>\n      <th>total_income_category</th>\n      <th>purpose_category</th>\n    </tr>\n  </thead>\n  <tbody>\n    <tr>\n      <th>0</th>\n      <td>1</td>\n      <td>8437.673028</td>\n      <td>42</td>\n      <td>высшее</td>\n      <td>0</td>\n      <td>женат / замужем</td>\n      <td>0</td>\n      <td>F</td>\n      <td>сотрудник</td>\n      <td>0</td>\n      <td>253875</td>\n      <td>покупка жилья</td>\n      <td>B</td>\n      <td>операции с недвижимостью</td>\n    </tr>\n    <tr>\n      <th>1</th>\n      <td>1</td>\n      <td>4024.803754</td>\n      <td>36</td>\n      <td>среднее</td>\n      <td>1</td>\n      <td>женат / замужем</td>\n      <td>0</td>\n      <td>F</td>\n      <td>сотрудник</td>\n      <td>0</td>\n      <td>112080</td>\n      <td>приобретение автомобиля</td>\n      <td>C</td>\n      <td>операции с автомобилем</td>\n    </tr>\n    <tr>\n      <th>2</th>\n      <td>0</td>\n      <td>5623.422610</td>\n      <td>33</td>\n      <td>среднее</td>\n      <td>1</td>\n      <td>женат / замужем</td>\n      <td>0</td>\n      <td>M</td>\n      <td>сотрудник</td>\n      <td>0</td>\n      <td>145885</td>\n      <td>покупка жилья</td>\n      <td>C</td>\n      <td>операции с недвижимостью</td>\n    </tr>\n    <tr>\n      <th>3</th>\n      <td>3</td>\n      <td>4124.747207</td>\n      <td>32</td>\n      <td>среднее</td>\n      <td>1</td>\n      <td>женат / замужем</td>\n      <td>0</td>\n      <td>M</td>\n      <td>сотрудник</td>\n      <td>0</td>\n      <td>267628</td>\n      <td>дополнительное образование</td>\n      <td>B</td>\n      <td>получение образования</td>\n    </tr>\n    <tr>\n      <th>4</th>\n      <td>0</td>\n      <td>340266.072047</td>\n      <td>53</td>\n      <td>среднее</td>\n      <td>1</td>\n      <td>гражданский брак</td>\n      <td>1</td>\n      <td>F</td>\n      <td>пенсионер</td>\n      <td>0</td>\n      <td>158616</td>\n      <td>сыграть свадьбу</td>\n      <td>C</td>\n      <td>проведение свадьбы</td>\n    </tr>\n  </tbody>\n</table>\n</div>"
     },
     "execution_count": 31,
     "metadata": {},
     "output_type": "execute_result"
    }
   ],
   "source": [
    "# Взглянем на данные\n",
    "data.head()"
   ]
  },
  {
   "cell_type": "markdown",
   "id": "39f8632e",
   "metadata": {},
   "source": [
    "Нам необходим предварительно созданный нами столбец total_income_category. Так как он разбивает доход на несколько категорий которые можно сравнивать между собой."
   ]
  },
  {
   "cell_type": "code",
   "execution_count": 32,
   "id": "104f0fed",
   "metadata": {
    "ExecuteTime": {
     "end_time": "2024-02-20T17:33:46.958731598Z",
     "start_time": "2024-02-20T17:33:46.759685876Z"
    }
   },
   "outputs": [
    {
     "data": {
      "text/plain": "total_income_category\nA       25\nB     5014\nC    15921\nD      349\nE       22\nName: total_income_category, dtype: int64"
     },
     "execution_count": 32,
     "metadata": {},
     "output_type": "execute_result"
    }
   ],
   "source": [
    "# оценим размеры групп для сравнения\n",
    "data.groupby('total_income_category')['total_income_category'].count()"
   ]
  },
  {
   "cell_type": "markdown",
   "id": "45e04e81",
   "metadata": {},
   "source": [
    "Как и во всех предыдущих случаях группы очень сильно отличаются по размеру. Ради интереса посмотрим на распределение зарплат построив гистограмму. Будем изменять количество корзин с целью выяснить получится ли разбить данные на равные промежутки."
   ]
  },
  {
   "cell_type": "code",
   "execution_count": 33,
   "id": "c53b8824",
   "metadata": {
    "ExecuteTime": {
     "end_time": "2024-02-20T17:33:48.592495086Z",
     "start_time": "2024-02-20T17:33:46.912036633Z"
    }
   },
   "outputs": [
    {
     "data": {
      "text/plain": "(array([1.9204e+04, 1.9360e+03, 1.4600e+02, 2.2000e+01, 1.2000e+01,\n        4.0000e+00, 5.0000e+00, 0.0000e+00, 2.0000e+00]),\n array([  20667.        ,  270104.44444444,  519541.88888889,\n         768979.33333333, 1018416.77777778, 1267854.22222222,\n        1517291.66666667, 1766729.11111111, 2016166.55555556,\n        2265604.        ]),\n <BarContainer object of 9 artists>)"
     },
     "execution_count": 33,
     "metadata": {},
     "output_type": "execute_result"
    },
    {
     "data": {
      "text/plain": "<Figure size 640x480 with 4 Axes>",
      "image/png": "[encoded data removed]"
     },
     "metadata": {},
     "output_type": "display_data"
    }
   ],
   "source": [
    "# Графики\n",
    "import matplotlib.pyplot as plt\n",
    "\n",
    "plt.subplot(2,2,1)\n",
    "plt.hist(data['total_income'], bins=3)\n",
    "plt.subplot(2,2,2)\n",
    "plt.hist(data['total_income'], bins=5)\n",
    "plt.subplot(2,2,3)\n",
    "plt.hist(data['total_income'], bins=7)\n",
    "plt.subplot(2,2,4)\n",
    "plt.hist(data['total_income'], bins=9)"
   ]
  },
  {
   "cell_type": "markdown",
   "id": "160bfff6",
   "metadata": {},
   "source": [
    "Как мы видим распределение сильно скошено влево с большим количеством выбросов в виде аномально больших зарплат, что в общем то не удивительно. Из-за это подбор интервалов с равным количеством человек является проблематичным, хотя наверное и существуют методы, но они (ещё?) не были освещены в материале курса. Поэтому рассчитаем обычный процент невозврата среди наших групп."
   ]
  },
  {
   "cell_type": "code",
   "execution_count": 34,
   "id": "a0dbccff",
   "metadata": {
    "ExecuteTime": {
     "end_time": "2024-02-20T17:33:48.648105480Z",
     "start_time": "2024-02-20T17:33:48.592147771Z"
    }
   },
   "outputs": [
    {
     "name": "stdout",
     "output_type": "stream",
     "text": [
      "def categorize_income(income):\n",
      "    try:\n",
      "        if 0 <= income <= 30000:\n",
      "            return 'E'\n",
      "        elif 30001 <= income <= 50000:\n",
      "            return 'D'\n",
      "        elif 50001 <= income <= 200000:\n",
      "            return 'C'\n",
      "        elif 200001 <= income <= 1000000:\n",
      "            return 'B'\n",
      "        elif income >= 1000001:\n",
      "            return 'A'\n",
      "    except:\n",
      "        pass\n"
     ]
    }
   ],
   "source": [
    "#напомним себе о цифровых интервалах групп\n",
    "import inspect\n",
    "print(inspect.getsource(categorize_income))"
   ]
  },
  {
   "cell_type": "code",
   "execution_count": 35,
   "id": "2fe41121",
   "metadata": {
    "ExecuteTime": {
     "end_time": "2024-02-20T17:33:48.772253480Z",
     "start_time": "2024-02-20T17:33:48.605588569Z"
    }
   },
   "outputs": [
    {
     "name": "stdout",
     "output_type": "stream",
     "text": [
      "средняя доля невозврата кредита в процентах\n",
      " total_income_category\n",
      "A    8.000000\n",
      "B    7.060231\n",
      "C    8.498210\n",
      "D    6.017192\n",
      "E    9.090909\n",
      "Name: debt, dtype: float64\n"
     ]
    }
   ],
   "source": [
    "# средняя доля невозврата кредита\n",
    "print('средняя доля невозврата кредита в процентах\\n',\n",
    "      data.groupby('total_income_category')['debt'].agg('mean')*100)"
   ]
  },
  {
   "cell_type": "code",
   "execution_count": 36,
   "id": "4723206a",
   "metadata": {
    "ExecuteTime": {
     "end_time": "2024-02-20T17:33:48.775465777Z",
     "start_time": "2024-02-20T17:33:48.646499973Z"
    }
   },
   "outputs": [
    {
     "data": {
      "text/plain": "                       count      mean\ntotal_income_category                 \nA                         25  0.080000\nB                       5014  0.070602\nC                      15921  0.084982\nD                        349  0.060172\nE                         22  0.090909",
      "text/html": "<div>\n<style scoped>\n    .dataframe tbody tr th:only-of-type {\n        vertical-align: middle;\n    }\n\n    .dataframe tbody tr th {\n        vertical-align: top;\n    }\n\n    .dataframe thead th {\n        text-align: right;\n    }\n</style>\n<table border=\"1\" class=\"dataframe\">\n  <thead>\n    <tr style=\"text-align: right;\">\n      <th></th>\n      <th>count</th>\n      <th>mean</th>\n    </tr>\n    <tr>\n      <th>total_income_category</th>\n      <th></th>\n      <th></th>\n    </tr>\n  </thead>\n  <tbody>\n    <tr>\n      <th>A</th>\n      <td>25</td>\n      <td>0.080000</td>\n    </tr>\n    <tr>\n      <th>B</th>\n      <td>5014</td>\n      <td>0.070602</td>\n    </tr>\n    <tr>\n      <th>C</th>\n      <td>15921</td>\n      <td>0.084982</td>\n    </tr>\n    <tr>\n      <th>D</th>\n      <td>349</td>\n      <td>0.060172</td>\n    </tr>\n    <tr>\n      <th>E</th>\n      <td>22</td>\n      <td>0.090909</td>\n    </tr>\n  </tbody>\n</table>\n</div>"
     },
     "execution_count": 36,
     "metadata": {},
     "output_type": "execute_result"
    }
   ],
   "source": [
    "# Сводная таблица\n",
    "data.groupby('total_income_category')['debt'].agg(['count', 'mean'])"
   ]
  },
  {
   "cell_type": "markdown",
   "source": [
    "**Вывод:** По таблице видно, что чаще всего не возвращают кредиты люди с доходом менее 30 000 рублей. В тоже время интересно то что люди с доходом от миллиона не являются лидерами по возвратам. Однако стоит учитывать что краевые группы на несколько сотен порядков отличаются по размеру от группы С (от 50001 до 200000 рублей). Самыми большими группами являются B(от 200000 до 1000000) и C(от 50000 до 200000). В таблице видно что риск невозврата больше у группы С."
   ],
   "metadata": {
    "collapsed": false
   },
   "id": "89eb6b90"
  },
  {
   "cell_type": "markdown",
   "id": "9710eea3",
   "metadata": {
    "deletable": false,
    "editable": false,
    "id": "99ecbd1f"
   },
   "source": [
    "#### 3.4 Как разные цели кредита влияют на его возврат в срок?"
   ]
  },
  {
   "cell_type": "code",
   "execution_count": 37,
   "id": "a8e6dd7d",
   "metadata": {
    "deletable": false,
    "id": "2b687290",
    "ExecuteTime": {
     "end_time": "2024-02-20T17:33:48.841715538Z",
     "start_time": "2024-02-20T17:33:48.651691291Z"
    }
   },
   "outputs": [
    {
     "data": {
      "text/plain": "   children  days_employed  dob_years education  education_id  \\\n0         1    8437.673028         42    высшее             0   \n1         1    4024.803754         36   среднее             1   \n2         0    5623.422610         33   среднее             1   \n3         3    4124.747207         32   среднее             1   \n4         0  340266.072047         53   среднее             1   \n\n      family_status  family_status_id gender income_type  debt  total_income  \\\n0   женат / замужем                 0      F   сотрудник     0        253875   \n1   женат / замужем                 0      F   сотрудник     0        112080   \n2   женат / замужем                 0      M   сотрудник     0        145885   \n3   женат / замужем                 0      M   сотрудник     0        267628   \n4  гражданский брак                 1      F   пенсионер     0        158616   \n\n                      purpose total_income_category          purpose_category  \n0               покупка жилья                     B  операции с недвижимостью  \n1     приобретение автомобиля                     C    операции с автомобилем  \n2               покупка жилья                     C  операции с недвижимостью  \n3  дополнительное образование                     B     получение образования  \n4             сыграть свадьбу                     C        проведение свадьбы  ",
      "text/html": "<div>\n<style scoped>\n    .dataframe tbody tr th:only-of-type {\n        vertical-align: middle;\n    }\n\n    .dataframe tbody tr th {\n        vertical-align: top;\n    }\n\n    .dataframe thead th {\n        text-align: right;\n    }\n</style>\n<table border=\"1\" class=\"dataframe\">\n  <thead>\n    <tr style=\"text-align: right;\">\n      <th></th>\n      <th>children</th>\n      <th>days_employed</th>\n      <th>dob_years</th>\n      <th>education</th>\n      <th>education_id</th>\n      <th>family_status</th>\n      <th>family_status_id</th>\n      <th>gender</th>\n      <th>income_type</th>\n      <th>debt</th>\n      <th>total_income</th>\n      <th>purpose</th>\n      <th>total_income_category</th>\n      <th>purpose_category</th>\n    </tr>\n  </thead>\n  <tbody>\n    <tr>\n      <th>0</th>\n      <td>1</td>\n      <td>8437.673028</td>\n      <td>42</td>\n      <td>высшее</td>\n      <td>0</td>\n      <td>женат / замужем</td>\n      <td>0</td>\n      <td>F</td>\n      <td>сотрудник</td>\n      <td>0</td>\n      <td>253875</td>\n      <td>покупка жилья</td>\n      <td>B</td>\n      <td>операции с недвижимостью</td>\n    </tr>\n    <tr>\n      <th>1</th>\n      <td>1</td>\n      <td>4024.803754</td>\n      <td>36</td>\n      <td>среднее</td>\n      <td>1</td>\n      <td>женат / замужем</td>\n      <td>0</td>\n      <td>F</td>\n      <td>сотрудник</td>\n      <td>0</td>\n      <td>112080</td>\n      <td>приобретение автомобиля</td>\n      <td>C</td>\n      <td>операции с автомобилем</td>\n    </tr>\n    <tr>\n      <th>2</th>\n      <td>0</td>\n      <td>5623.422610</td>\n      <td>33</td>\n      <td>среднее</td>\n      <td>1</td>\n      <td>женат / замужем</td>\n      <td>0</td>\n      <td>M</td>\n      <td>сотрудник</td>\n      <td>0</td>\n      <td>145885</td>\n      <td>покупка жилья</td>\n      <td>C</td>\n      <td>операции с недвижимостью</td>\n    </tr>\n    <tr>\n      <th>3</th>\n      <td>3</td>\n      <td>4124.747207</td>\n      <td>32</td>\n      <td>среднее</td>\n      <td>1</td>\n      <td>женат / замужем</td>\n      <td>0</td>\n      <td>M</td>\n      <td>сотрудник</td>\n      <td>0</td>\n      <td>267628</td>\n      <td>дополнительное образование</td>\n      <td>B</td>\n      <td>получение образования</td>\n    </tr>\n    <tr>\n      <th>4</th>\n      <td>0</td>\n      <td>340266.072047</td>\n      <td>53</td>\n      <td>среднее</td>\n      <td>1</td>\n      <td>гражданский брак</td>\n      <td>1</td>\n      <td>F</td>\n      <td>пенсионер</td>\n      <td>0</td>\n      <td>158616</td>\n      <td>сыграть свадьбу</td>\n      <td>C</td>\n      <td>проведение свадьбы</td>\n    </tr>\n  </tbody>\n</table>\n</div>"
     },
     "execution_count": 37,
     "metadata": {},
     "output_type": "execute_result"
    }
   ],
   "source": [
    "# Взглянем на данные\n",
    "data.head()"
   ]
  },
  {
   "cell_type": "markdown",
   "id": "891dcf1b",
   "metadata": {},
   "source": [
    "Нам необходим предварительно рассчитанный нами столбец purpose_category, так как он объединяет несколько по разному сформулированных, но одинаковых по смыслу целей в одну. Традиционно начнем с ознакомления с размерами групп."
   ]
  },
  {
   "cell_type": "code",
   "execution_count": 38,
   "id": "15a8c323",
   "metadata": {
    "ExecuteTime": {
     "end_time": "2024-02-20T17:33:48.918206297Z",
     "start_time": "2024-02-20T17:33:48.671156041Z"
    }
   },
   "outputs": [
    {
     "data": {
      "text/plain": "purpose_category\nоперации с автомобилем       4279\nоперации с недвижимостью    10751\nполучение образования        3988\nпроведение свадьбы           2313\nName: purpose_category, dtype: int64"
     },
     "execution_count": 38,
     "metadata": {},
     "output_type": "execute_result"
    }
   ],
   "source": [
    "# оценим размеры групп для сравнения\n",
    "data.groupby('purpose_category')['purpose_category'].count()"
   ]
  },
  {
   "cell_type": "markdown",
   "id": "6386dc98",
   "metadata": {},
   "source": [
    "Группы не равны между собой, однако всё не так плохо как в случае с зарплатами. Возможностей для объединения групп нет. Расчитаем долю невозврата кредита."
   ]
  },
  {
   "cell_type": "code",
   "execution_count": 39,
   "id": "f3a2d1bf",
   "metadata": {
    "ExecuteTime": {
     "end_time": "2024-02-20T17:33:48.921048374Z",
     "start_time": "2024-02-20T17:33:48.699626880Z"
    }
   },
   "outputs": [
    {
     "name": "stdout",
     "output_type": "stream",
     "text": [
      "средняя доля невозврата кредита в процентах\n",
      " purpose_category\n",
      "операции с автомобилем      9.347978\n",
      "операции с недвижимостью    7.255139\n",
      "получение образования       9.252758\n",
      "проведение свадьбы          7.911803\n",
      "Name: debt, dtype: float64\n"
     ]
    }
   ],
   "source": [
    "# средняя доля невозврата кредита\n",
    "print('средняя доля невозврата кредита в процентах\\n',\n",
    "      data.groupby('purpose_category')['debt'].agg('mean')*100)"
   ]
  },
  {
   "cell_type": "code",
   "execution_count": 40,
   "id": "4a2b2249",
   "metadata": {
    "ExecuteTime": {
     "end_time": "2024-02-20T17:33:48.962369024Z",
     "start_time": "2024-02-20T17:33:48.742547002Z"
    }
   },
   "outputs": [
    {
     "data": {
      "text/plain": "                          count      mean\npurpose_category                         \nоперации с автомобилем     4279  0.093480\nоперации с недвижимостью  10751  0.072551\nполучение образования      3988  0.092528\nпроведение свадьбы         2313  0.079118",
      "text/html": "<div>\n<style scoped>\n    .dataframe tbody tr th:only-of-type {\n        vertical-align: middle;\n    }\n\n    .dataframe tbody tr th {\n        vertical-align: top;\n    }\n\n    .dataframe thead th {\n        text-align: right;\n    }\n</style>\n<table border=\"1\" class=\"dataframe\">\n  <thead>\n    <tr style=\"text-align: right;\">\n      <th></th>\n      <th>count</th>\n      <th>mean</th>\n    </tr>\n    <tr>\n      <th>purpose_category</th>\n      <th></th>\n      <th></th>\n    </tr>\n  </thead>\n  <tbody>\n    <tr>\n      <th>операции с автомобилем</th>\n      <td>4279</td>\n      <td>0.093480</td>\n    </tr>\n    <tr>\n      <th>операции с недвижимостью</th>\n      <td>10751</td>\n      <td>0.072551</td>\n    </tr>\n    <tr>\n      <th>получение образования</th>\n      <td>3988</td>\n      <td>0.092528</td>\n    </tr>\n    <tr>\n      <th>проведение свадьбы</th>\n      <td>2313</td>\n      <td>0.079118</td>\n    </tr>\n  </tbody>\n</table>\n</div>"
     },
     "execution_count": 40,
     "metadata": {},
     "output_type": "execute_result"
    }
   ],
   "source": [
    "data.groupby('purpose_category')['debt'].agg(['count', 'mean'])"
   ]
  },
  {
   "cell_type": "markdown",
   "id": "6872e7ce",
   "metadata": {
    "deletable": false,
    "id": "b4bb2ce6"
   },
   "source": [
    "**Вывод:** Ответственнее всего люди относятся к операциям с недвижимостью, образование и автокредиты в лидерах по невозвратам."
   ]
  },
  {
   "cell_type": "markdown",
   "id": "8cda042c",
   "metadata": {
    "deletable": false,
    "editable": false,
    "id": "09c3ac4c"
   },
   "source": [
    "#### 3.5 Приведите возможные причины появления пропусков в исходных данных."
   ]
  },
  {
   "cell_type": "markdown",
   "id": "fd9d3263",
   "metadata": {
    "deletable": false,
    "id": "9da2ceda"
   },
   "source": [
    "*Ответ:* Возможно были недостатки при проектировке и создании БД, поля не сделали обязательными для заполнения и это не обнаружил QA инженер из-за невнятного описания бизнес-аналитика. Возможно один банк выкупил другой банк и у них были разные требования изначально и то что мы видим это объединенная таблица из двух банков. Возможно это объединенная таблица из разных систем одного и того же банка, где хранится разная информация."
   ]
  },
  {
   "cell_type": "markdown",
   "id": "21929305",
   "metadata": {
    "deletable": false,
    "editable": false,
    "id": "7b0487d6"
   },
   "source": [
    "#### 3.6 Объясните, почему заполнить пропуски медианным значением — лучшее решение для количественных переменных."
   ]
  },
  {
   "cell_type": "markdown",
   "id": "5d4135d7",
   "metadata": {
    "deletable": false,
    "id": "7ecf2b8e"
   },
   "source": [
    "*Ответ:* Заполнение пропусков является лучшим решением поскольку оно позволяет сохранить как можно больше строк, которые иначе пришлось бы удалить. Они не несут полезной информации по той переменной которая заполняется, но могут быть полезны при использовании других переменных. Выбор медианы обусловлен тем что медиана не чувствительна к выбросам(аномально большие или малые значения)"
   ]
  },
  {
   "cell_type": "markdown",
   "id": "9b968b54",
   "metadata": {
    "deletable": false,
    "editable": false,
    "id": "6db5255a"
   },
   "source": [
    "### Шаг 4: общий вывод."
   ]
  },
  {
   "cell_type": "markdown",
   "id": "00b5f79a",
   "metadata": {},
   "source": [
    "В данном проекте был проанализирован датасет содержащий данные о кредитной просрочке, который позволил нам получить представление о надежности заёмщика. \n",
    "    \n",
    "На первом этапе было получено общее преставление о датасете и проведена предварительная обработка. Предварительная обработка включала в себя импутацию, обработку аномальных значений, обработку дубликатов, изменение типов данных и категоризацию данных. Импутация - процесс заполнения пропущенных значений исходя из имеющихся данных. При получении общей информации о датасете было обнаружено что столбцы \"доход\" и \"трудовой стаж\" содержат пропуски. Пропуски были заполнены медианными значениями, которые были рассчитаны исходя из значений полученных группировкой по столбцу \"тип занятости\". Работа с аномальными значениями представляла собой конвертацию или удаление негативных значений там где их не должно быть логически, например -1 ребенок, 20 детей или отрицательный трудовой стаж. Также для удобства был изменен тип данных столбца содержащего данные о месячной зарплате. Для выброса дубликатов записи были приведены к одному регистру. Наконец была произведена категоризация данных по двум столбцам \"ежемесячный доход\" и \"цель получения кредита\". Столбец с доходом было необходимо категоризовать так как это численная переменная, а нам нужны были \"корзины\" для выявления зависимостей, поскольку расчет вероятности просрочки кредита для каждого дискретного значения з.п. не представляется возможным. Столбец с причиной необходимо было категоризовать так как он содержал много одинаковых по смыслу причин, но сформулированных по разному.\n",
    "    \n",
    "Второй этап был посвящен выявлению зависимостей между различными показателями и риском просрочки кредита. Первой была проанализирована зависимость между количеством детей и риском просрочки. Выяснилось что риск просрочки ниже всего у бездетных людей и равен 7.5%, в то время как риск просрочки у людей с 1 и 2 детьми 9.2 и 9.4 процента соответственно. Однако стоит отметить что проценты невозврата кредита для людей с 3 и более детьми не являются репрезентативными из-за маленькой выборки. Следующей была проанализирована взаимосвязь между семейным положением и риском просрочки кредита. Выяснилось что наибольший риск представляют люди никогда не состоявшие в браке, у них риск просрочки более 9%, в то время как у людей состоявших в официальном браке риск от 6.6% до 7.5%. Далее были рассчитаны риски просрочки по кредиту в зависимости от дохода. Данные оказались сильно перекошенными, из-за очень маленького размера групп. Пригодными для сравнения группами являются B(от 200000 до 1000000) и C(от 50000 до 200000). Риск просрочки больше у группы С и равен 8.4 процента, тогда как у группы B риск просрочки составлят 7 процентов. Затем была рассмотрена зависимость между целью взятия кредита и риском просрочки. Наименьший риск просрочки у кредитов на операции с недвижимостью, он составляет 7.2 процента. Наибольший у автокредита - 9.2 процента.\n",
    "    \n",
    "Исходя из анализа датасета можно составить портрет идеального заемщика - это бездетный овдовевший человек с доходом от 50 до 200 тысяч рублей который хочет взять займ на операции с недвижимостью. Портрет наихудшего заемщика - это человек с 2мя детьми не состоящий в браке с доходом менее 50 тысяч рублей который хочет взять займ на покупку автомобиля."
   ]
  }
 ],
 "metadata": {
  "ExecuteTimeLog": [
   {
    "duration": 577,
    "start_time": "2023-04-05T18:48:45.669Z"
   },
   {
    "duration": 29,
    "start_time": "2023-04-05T18:48:50.421Z"
   },
   {
    "duration": 14,
    "start_time": "2023-04-05T18:49:00.583Z"
   },
   {
    "duration": 14,
    "start_time": "2023-04-05T18:49:09.964Z"
   },
   {
    "duration": 11,
    "start_time": "2023-04-05T18:49:13.014Z"
   },
   {
    "duration": 38,
    "start_time": "2023-04-05T18:51:31.115Z"
   },
   {
    "duration": 6,
    "start_time": "2023-04-05T18:52:34.293Z"
   },
   {
    "duration": 7,
    "start_time": "2023-04-05T18:52:38.887Z"
   },
   {
    "duration": 8,
    "start_time": "2023-04-05T18:52:51.374Z"
   },
   {
    "duration": 7,
    "start_time": "2023-04-05T18:52:55.838Z"
   },
   {
    "duration": 8,
    "start_time": "2023-04-05T18:53:01.312Z"
   },
   {
    "duration": 7,
    "start_time": "2023-04-05T18:53:07.572Z"
   },
   {
    "duration": 6,
    "start_time": "2023-04-05T18:53:25.264Z"
   },
   {
    "duration": 8,
    "start_time": "2023-04-05T18:53:32.941Z"
   },
   {
    "duration": 64,
    "start_time": "2023-04-05T18:54:10.058Z"
   },
   {
    "duration": 16,
    "start_time": "2023-04-05T18:54:10.124Z"
   },
   {
    "duration": 21,
    "start_time": "2023-04-05T18:54:10.142Z"
   },
   {
    "duration": 13,
    "start_time": "2023-04-05T18:54:10.165Z"
   },
   {
    "duration": 7,
    "start_time": "2023-04-05T18:54:14.064Z"
   },
   {
    "duration": 70,
    "start_time": "2023-04-05T18:54:20.113Z"
   },
   {
    "duration": 16,
    "start_time": "2023-04-05T18:54:21.887Z"
   },
   {
    "duration": 17,
    "start_time": "2023-04-05T18:54:26.213Z"
   },
   {
    "duration": 9,
    "start_time": "2023-04-05T18:54:30.590Z"
   },
   {
    "duration": 7,
    "start_time": "2023-04-05T18:56:13.948Z"
   },
   {
    "duration": 3,
    "start_time": "2023-04-05T18:56:28.498Z"
   },
   {
    "duration": 7,
    "start_time": "2023-04-05T18:56:44.655Z"
   },
   {
    "duration": 32,
    "start_time": "2023-04-05T19:01:27.800Z"
   },
   {
    "duration": 3,
    "start_time": "2023-04-05T19:12:39.519Z"
   },
   {
    "duration": 8,
    "start_time": "2023-04-05T19:12:42.530Z"
   },
   {
    "duration": 5,
    "start_time": "2023-04-05T19:12:45.796Z"
   },
   {
    "duration": 16,
    "start_time": "2023-04-05T19:12:47.760Z"
   },
   {
    "duration": 5,
    "start_time": "2023-04-05T19:12:49.807Z"
   },
   {
    "duration": 32,
    "start_time": "2023-04-05T19:12:53.519Z"
   },
   {
    "duration": 10,
    "start_time": "2023-04-05T19:12:55.713Z"
   },
   {
    "duration": 69,
    "start_time": "2023-04-05T19:17:45.777Z"
   },
   {
    "duration": 15,
    "start_time": "2023-04-05T19:17:45.848Z"
   },
   {
    "duration": 16,
    "start_time": "2023-04-05T19:17:45.864Z"
   },
   {
    "duration": 8,
    "start_time": "2023-04-05T19:17:45.882Z"
   },
   {
    "duration": 37,
    "start_time": "2023-04-05T19:17:45.892Z"
   },
   {
    "duration": 3,
    "start_time": "2023-04-05T19:17:45.930Z"
   },
   {
    "duration": 10,
    "start_time": "2023-04-05T19:17:45.935Z"
   },
   {
    "duration": 29,
    "start_time": "2023-04-05T19:17:45.947Z"
   },
   {
    "duration": 6,
    "start_time": "2023-04-05T19:17:45.978Z"
   },
   {
    "duration": 10,
    "start_time": "2023-04-05T19:17:45.986Z"
   },
   {
    "duration": 43,
    "start_time": "2023-04-05T19:17:45.997Z"
   },
   {
    "duration": 10,
    "start_time": "2023-04-05T19:17:46.042Z"
   },
   {
    "duration": 11,
    "start_time": "2023-04-05T19:17:46.053Z"
   },
   {
    "duration": 12,
    "start_time": "2023-04-05T19:17:46.075Z"
   },
   {
    "duration": 30,
    "start_time": "2023-04-05T19:17:46.089Z"
   },
   {
    "duration": 21,
    "start_time": "2023-04-05T19:17:46.121Z"
   },
   {
    "duration": 4,
    "start_time": "2023-04-05T19:17:46.144Z"
   },
   {
    "duration": 28,
    "start_time": "2023-04-05T19:17:46.150Z"
   },
   {
    "duration": 18,
    "start_time": "2023-04-05T19:17:46.180Z"
   },
   {
    "duration": 7,
    "start_time": "2023-04-05T19:17:46.200Z"
   },
   {
    "duration": 13,
    "start_time": "2023-04-05T19:17:46.209Z"
   },
   {
    "duration": 10,
    "start_time": "2023-04-05T19:17:46.224Z"
   },
   {
    "duration": 14,
    "start_time": "2023-04-05T19:17:46.236Z"
   },
   {
    "duration": 11,
    "start_time": "2023-04-05T19:17:46.251Z"
   },
   {
    "duration": 18,
    "start_time": "2023-04-05T19:17:46.264Z"
   },
   {
    "duration": 21,
    "start_time": "2023-04-05T19:17:58.867Z"
   },
   {
    "duration": 13,
    "start_time": "2023-04-05T19:18:17.197Z"
   },
   {
    "duration": 20,
    "start_time": "2023-04-05T19:24:14.788Z"
   },
   {
    "duration": 42,
    "start_time": "2023-04-05T19:27:18.074Z"
   },
   {
    "duration": 45,
    "start_time": "2023-04-05T19:27:22.819Z"
   },
   {
    "duration": 22,
    "start_time": "2023-04-05T19:27:30.072Z"
   },
   {
    "duration": 76,
    "start_time": "2023-04-05T19:28:07.108Z"
   },
   {
    "duration": 22,
    "start_time": "2023-04-05T19:28:12.009Z"
   },
   {
    "duration": 6,
    "start_time": "2023-04-05T19:37:43.162Z"
   },
   {
    "duration": 9,
    "start_time": "2023-04-05T19:38:04.189Z"
   },
   {
    "duration": 7,
    "start_time": "2023-04-05T19:38:12.372Z"
   },
   {
    "duration": 14,
    "start_time": "2023-04-05T19:40:09.440Z"
   },
   {
    "duration": 7,
    "start_time": "2023-04-05T19:40:39.541Z"
   },
   {
    "duration": 656,
    "start_time": "2023-04-09T20:41:11.132Z"
   },
   {
    "duration": 20,
    "start_time": "2023-04-09T20:41:11.789Z"
   },
   {
    "duration": 13,
    "start_time": "2023-04-09T20:41:11.811Z"
   },
   {
    "duration": 7,
    "start_time": "2023-04-09T20:41:11.826Z"
   },
   {
    "duration": 31,
    "start_time": "2023-04-09T20:41:11.835Z"
   },
   {
    "duration": 2,
    "start_time": "2023-04-09T20:41:11.872Z"
   },
   {
    "duration": 8,
    "start_time": "2023-04-09T20:41:11.876Z"
   },
   {
    "duration": 4,
    "start_time": "2023-04-09T20:41:11.886Z"
   },
   {
    "duration": 7,
    "start_time": "2023-04-09T20:41:11.892Z"
   },
   {
    "duration": 5,
    "start_time": "2023-04-09T20:41:11.900Z"
   },
   {
    "duration": 28,
    "start_time": "2023-04-09T20:41:11.906Z"
   },
   {
    "duration": 39,
    "start_time": "2023-04-09T20:41:11.936Z"
   },
   {
    "duration": 4,
    "start_time": "2023-04-09T20:41:11.976Z"
   },
   {
    "duration": 21,
    "start_time": "2023-04-09T20:41:11.982Z"
   },
   {
    "duration": 18,
    "start_time": "2023-04-09T20:41:12.005Z"
   },
   {
    "duration": 14,
    "start_time": "2023-04-09T20:41:12.025Z"
   },
   {
    "duration": 4,
    "start_time": "2023-04-09T20:41:12.041Z"
   },
   {
    "duration": 28,
    "start_time": "2023-04-09T20:41:12.046Z"
   },
   {
    "duration": 9,
    "start_time": "2023-04-09T20:41:12.075Z"
   },
   {
    "duration": 12,
    "start_time": "2023-04-09T20:41:12.086Z"
   },
   {
    "duration": 16,
    "start_time": "2023-04-09T20:41:12.099Z"
   },
   {
    "duration": 22,
    "start_time": "2023-04-09T20:41:12.116Z"
   },
   {
    "duration": 12,
    "start_time": "2023-04-09T20:41:25.999Z"
   },
   {
    "duration": 6,
    "start_time": "2023-04-09T20:42:08.871Z"
   },
   {
    "duration": 18,
    "start_time": "2023-04-09T20:42:39.099Z"
   },
   {
    "duration": 6,
    "start_time": "2023-04-09T20:42:54.714Z"
   },
   {
    "duration": 7,
    "start_time": "2023-04-09T20:43:05.173Z"
   },
   {
    "duration": 5,
    "start_time": "2023-04-09T20:44:39.164Z"
   },
   {
    "duration": 9,
    "start_time": "2023-04-09T21:05:12.971Z"
   },
   {
    "duration": 9,
    "start_time": "2023-04-09T21:06:00.665Z"
   },
   {
    "duration": 6,
    "start_time": "2023-04-09T21:07:03.037Z"
   },
   {
    "duration": 6,
    "start_time": "2023-04-09T21:07:14.705Z"
   },
   {
    "duration": 70,
    "start_time": "2023-04-09T21:07:30.678Z"
   },
   {
    "duration": 20,
    "start_time": "2023-04-09T21:07:50.521Z"
   },
   {
    "duration": 16,
    "start_time": "2023-04-09T21:09:50.518Z"
   },
   {
    "duration": 13,
    "start_time": "2023-04-09T21:12:22.774Z"
   },
   {
    "duration": 24,
    "start_time": "2023-04-09T21:13:14.629Z"
   },
   {
    "duration": 21,
    "start_time": "2023-04-09T21:13:21.387Z"
   },
   {
    "duration": 16,
    "start_time": "2023-04-09T21:13:51.653Z"
   },
   {
    "duration": 21,
    "start_time": "2023-04-09T21:14:16.003Z"
   },
   {
    "duration": 11,
    "start_time": "2023-04-09T21:21:10.699Z"
   },
   {
    "duration": 8,
    "start_time": "2023-04-09T21:21:42.947Z"
   },
   {
    "duration": 11,
    "start_time": "2023-04-09T21:21:50.217Z"
   },
   {
    "duration": 6,
    "start_time": "2023-04-09T21:22:04.956Z"
   },
   {
    "duration": 4,
    "start_time": "2023-04-09T21:22:31.335Z"
   },
   {
    "duration": 6,
    "start_time": "2023-04-09T21:23:36.322Z"
   },
   {
    "duration": 10,
    "start_time": "2023-04-09T21:32:07.022Z"
   },
   {
    "duration": 8,
    "start_time": "2023-04-09T21:32:19.522Z"
   },
   {
    "duration": 8,
    "start_time": "2023-04-09T21:32:51.553Z"
   },
   {
    "duration": 7,
    "start_time": "2023-04-09T21:34:04.096Z"
   },
   {
    "duration": 6,
    "start_time": "2023-04-09T21:34:48.762Z"
   },
   {
    "duration": 17,
    "start_time": "2023-04-09T21:46:41.032Z"
   },
   {
    "duration": 6,
    "start_time": "2023-04-09T21:50:12.365Z"
   },
   {
    "duration": 37,
    "start_time": "2023-04-09T21:50:41.619Z"
   },
   {
    "duration": 104,
    "start_time": "2023-04-09T21:51:18.098Z"
   },
   {
    "duration": 9,
    "start_time": "2023-04-09T21:51:26.067Z"
   },
   {
    "duration": 4,
    "start_time": "2023-04-09T21:52:09.110Z"
   },
   {
    "duration": 4,
    "start_time": "2023-04-09T21:52:16.718Z"
   },
   {
    "duration": 13,
    "start_time": "2023-04-09T21:56:44.100Z"
   },
   {
    "duration": 23,
    "start_time": "2023-04-09T21:56:56.494Z"
   },
   {
    "duration": 12,
    "start_time": "2023-04-09T21:59:33.420Z"
   },
   {
    "duration": 10,
    "start_time": "2023-04-09T22:00:14.376Z"
   },
   {
    "duration": 18,
    "start_time": "2023-04-09T22:00:38.673Z"
   },
   {
    "duration": 4,
    "start_time": "2023-04-09T22:00:56.342Z"
   },
   {
    "duration": 3,
    "start_time": "2023-04-09T22:01:00.548Z"
   },
   {
    "duration": 17,
    "start_time": "2023-04-09T22:01:09.910Z"
   },
   {
    "duration": 13,
    "start_time": "2023-04-09T22:01:26.169Z"
   },
   {
    "duration": 10,
    "start_time": "2023-04-09T22:01:39.725Z"
   },
   {
    "duration": 9,
    "start_time": "2023-04-09T22:04:58.776Z"
   },
   {
    "duration": 13,
    "start_time": "2023-04-09T22:05:07.205Z"
   },
   {
    "duration": 10,
    "start_time": "2023-04-09T22:10:39.415Z"
   },
   {
    "duration": 69,
    "start_time": "2023-04-09T22:18:09.395Z"
   },
   {
    "duration": 468,
    "start_time": "2023-04-09T22:19:02.219Z"
   },
   {
    "duration": 289,
    "start_time": "2023-04-09T22:24:34.696Z"
   },
   {
    "duration": 12254,
    "start_time": "2023-04-09T22:24:54.345Z"
   },
   {
    "duration": 62724,
    "start_time": "2023-04-09T22:25:18.574Z"
   },
   {
    "duration": 112,
    "start_time": "2023-04-09T22:26:44.275Z"
   },
   {
    "duration": 105,
    "start_time": "2023-04-09T22:26:52.291Z"
   },
   {
    "duration": 106,
    "start_time": "2023-04-09T22:27:17.710Z"
   },
   {
    "duration": 257,
    "start_time": "2023-04-09T22:32:23.283Z"
   },
   {
    "duration": 242,
    "start_time": "2023-04-09T22:32:36.207Z"
   },
   {
    "duration": 80,
    "start_time": "2023-04-09T22:34:32.272Z"
   },
   {
    "duration": 321,
    "start_time": "2023-04-09T22:35:05.909Z"
   },
   {
    "duration": 8,
    "start_time": "2023-04-09T22:41:54.801Z"
   },
   {
    "duration": 13,
    "start_time": "2023-04-09T22:42:49.805Z"
   },
   {
    "duration": 7,
    "start_time": "2023-04-09T22:42:55.075Z"
   },
   {
    "duration": 13,
    "start_time": "2023-04-09T22:47:00.534Z"
   },
   {
    "duration": 21,
    "start_time": "2023-04-09T22:50:43.520Z"
   },
   {
    "duration": 7,
    "start_time": "2023-04-09T22:50:51.841Z"
   },
   {
    "duration": 8,
    "start_time": "2023-04-09T22:52:57.616Z"
   },
   {
    "duration": 541,
    "start_time": "2023-04-10T06:33:42.743Z"
   },
   {
    "duration": 23,
    "start_time": "2023-04-10T06:33:43.286Z"
   },
   {
    "duration": 21,
    "start_time": "2023-04-10T06:33:43.311Z"
   },
   {
    "duration": 11,
    "start_time": "2023-04-10T06:33:43.336Z"
   },
   {
    "duration": 35,
    "start_time": "2023-04-10T06:33:43.348Z"
   },
   {
    "duration": 3,
    "start_time": "2023-04-10T06:33:43.385Z"
   },
   {
    "duration": 9,
    "start_time": "2023-04-10T06:33:43.390Z"
   },
   {
    "duration": 39,
    "start_time": "2023-04-10T06:33:43.401Z"
   },
   {
    "duration": 9,
    "start_time": "2023-04-10T06:33:43.442Z"
   },
   {
    "duration": 6,
    "start_time": "2023-04-10T06:33:43.454Z"
   },
   {
    "duration": 34,
    "start_time": "2023-04-10T06:33:43.461Z"
   },
   {
    "duration": 41,
    "start_time": "2023-04-10T06:33:43.497Z"
   },
   {
    "duration": 4,
    "start_time": "2023-04-10T06:33:43.540Z"
   },
   {
    "duration": 14,
    "start_time": "2023-04-10T06:33:43.546Z"
   },
   {
    "duration": 23,
    "start_time": "2023-04-10T06:33:43.562Z"
   },
   {
    "duration": 18,
    "start_time": "2023-04-10T06:33:43.587Z"
   },
   {
    "duration": 27,
    "start_time": "2023-04-10T06:33:43.607Z"
   },
   {
    "duration": 15,
    "start_time": "2023-04-10T06:33:43.643Z"
   },
   {
    "duration": 7,
    "start_time": "2023-04-10T06:33:43.660Z"
   },
   {
    "duration": 4,
    "start_time": "2023-04-10T06:33:43.669Z"
   },
   {
    "duration": 12,
    "start_time": "2023-04-10T06:33:43.674Z"
   },
   {
    "duration": 56,
    "start_time": "2023-04-10T06:33:43.688Z"
   },
   {
    "duration": 14,
    "start_time": "2023-04-10T06:33:43.746Z"
   },
   {
    "duration": 12,
    "start_time": "2023-04-10T06:33:43.763Z"
   },
   {
    "duration": 7,
    "start_time": "2023-04-10T06:33:43.777Z"
   },
   {
    "duration": 52,
    "start_time": "2023-04-10T06:33:43.786Z"
   },
   {
    "duration": 15,
    "start_time": "2023-04-10T06:33:43.839Z"
   },
   {
    "duration": 13,
    "start_time": "2023-04-10T06:33:43.857Z"
   },
   {
    "duration": 7,
    "start_time": "2023-04-10T06:33:43.872Z"
   },
   {
    "duration": 13,
    "start_time": "2023-04-10T06:33:43.881Z"
   },
   {
    "duration": 37,
    "start_time": "2023-04-10T06:33:43.896Z"
   },
   {
    "duration": 819,
    "start_time": "2023-04-10T06:33:43.935Z"
   },
   {
    "duration": 5,
    "start_time": "2023-04-10T06:33:44.756Z"
   },
   {
    "duration": 18,
    "start_time": "2023-04-10T06:33:44.763Z"
   },
   {
    "duration": 33,
    "start_time": "2023-04-10T06:33:44.783Z"
   },
   {
    "duration": 18,
    "start_time": "2023-04-10T06:33:44.818Z"
   },
   {
    "duration": 9,
    "start_time": "2023-04-10T06:33:44.843Z"
   },
   {
    "duration": 821,
    "start_time": "2023-04-10T08:34:18.507Z"
   },
   {
    "duration": 37,
    "start_time": "2023-04-10T08:34:19.332Z"
   },
   {
    "duration": 44,
    "start_time": "2023-04-10T08:34:19.371Z"
   },
   {
    "duration": 37,
    "start_time": "2023-04-10T08:34:19.420Z"
   },
   {
    "duration": 64,
    "start_time": "2023-04-10T08:34:19.461Z"
   },
   {
    "duration": 4,
    "start_time": "2023-04-10T08:34:19.527Z"
   },
   {
    "duration": 44,
    "start_time": "2023-04-10T08:34:19.533Z"
   },
   {
    "duration": 20,
    "start_time": "2023-04-10T08:34:19.579Z"
   },
   {
    "duration": 25,
    "start_time": "2023-04-10T08:34:19.601Z"
   },
   {
    "duration": 22,
    "start_time": "2023-04-10T08:34:19.629Z"
   },
   {
    "duration": 77,
    "start_time": "2023-04-10T08:34:19.653Z"
   },
   {
    "duration": 13,
    "start_time": "2023-04-10T08:34:19.733Z"
   },
   {
    "duration": 13,
    "start_time": "2023-04-10T08:34:19.748Z"
   },
   {
    "duration": 48,
    "start_time": "2023-04-10T08:34:19.763Z"
   },
   {
    "duration": 44,
    "start_time": "2023-04-10T08:34:19.813Z"
   },
   {
    "duration": 40,
    "start_time": "2023-04-10T08:34:19.859Z"
   },
   {
    "duration": 4,
    "start_time": "2023-04-10T08:34:19.902Z"
   },
   {
    "duration": 54,
    "start_time": "2023-04-10T08:34:19.907Z"
   },
   {
    "duration": 42,
    "start_time": "2023-04-10T08:34:19.963Z"
   },
   {
    "duration": 36,
    "start_time": "2023-04-10T08:34:20.007Z"
   },
   {
    "duration": 68,
    "start_time": "2023-04-10T08:34:20.046Z"
   },
   {
    "duration": 73,
    "start_time": "2023-04-10T08:34:20.117Z"
   },
   {
    "duration": 32,
    "start_time": "2023-04-10T08:34:20.191Z"
   },
   {
    "duration": 26,
    "start_time": "2023-04-10T08:34:20.224Z"
   },
   {
    "duration": 35,
    "start_time": "2023-04-10T08:34:20.252Z"
   },
   {
    "duration": 73,
    "start_time": "2023-04-10T08:48:46.249Z"
   },
   {
    "duration": 11,
    "start_time": "2023-04-10T08:52:57.752Z"
   },
   {
    "duration": 14,
    "start_time": "2023-04-10T12:26:18.845Z"
   },
   {
    "duration": 20,
    "start_time": "2023-04-10T12:26:36.622Z"
   },
   {
    "duration": 356,
    "start_time": "2023-04-10T12:27:39.480Z"
   },
   {
    "duration": 52,
    "start_time": "2023-04-10T12:27:57.741Z"
   },
   {
    "duration": 14,
    "start_time": "2023-04-10T12:28:46.704Z"
   },
   {
    "duration": 20,
    "start_time": "2023-04-10T12:29:00.195Z"
   },
   {
    "duration": 19,
    "start_time": "2023-04-10T12:33:35.705Z"
   },
   {
    "duration": 20,
    "start_time": "2023-04-10T12:33:46.678Z"
   },
   {
    "duration": 17,
    "start_time": "2023-04-10T12:33:57.265Z"
   },
   {
    "duration": 25,
    "start_time": "2023-04-10T12:34:09.832Z"
   },
   {
    "duration": 24,
    "start_time": "2023-04-10T12:36:50.517Z"
   },
   {
    "duration": 18,
    "start_time": "2023-04-10T12:38:32.624Z"
   },
   {
    "duration": 34,
    "start_time": "2023-04-10T12:40:06.902Z"
   },
   {
    "duration": 24,
    "start_time": "2023-04-10T12:41:53.032Z"
   },
   {
    "duration": 22,
    "start_time": "2023-04-10T12:42:06.430Z"
   },
   {
    "duration": 21,
    "start_time": "2023-04-10T12:42:11.624Z"
   },
   {
    "duration": 1511,
    "start_time": "2023-04-10T12:42:26.662Z"
   },
   {
    "duration": 20,
    "start_time": "2023-04-10T12:42:38.356Z"
   },
   {
    "duration": 1706,
    "start_time": "2023-04-10T12:42:55.484Z"
   },
   {
    "duration": 1502,
    "start_time": "2023-04-10T12:43:15.935Z"
   },
   {
    "duration": 1361,
    "start_time": "2023-04-10T12:43:21.612Z"
   },
   {
    "duration": 22,
    "start_time": "2023-04-10T12:43:28.645Z"
   },
   {
    "duration": 23,
    "start_time": "2023-04-10T12:43:41.388Z"
   },
   {
    "duration": 17,
    "start_time": "2023-04-10T12:43:48.985Z"
   },
   {
    "duration": 19,
    "start_time": "2023-04-10T12:44:05.262Z"
   },
   {
    "duration": 27,
    "start_time": "2023-04-10T12:44:17.004Z"
   },
   {
    "duration": 8,
    "start_time": "2023-04-10T12:44:54.512Z"
   },
   {
    "duration": 21,
    "start_time": "2023-04-10T12:45:05.511Z"
   },
   {
    "duration": 23,
    "start_time": "2023-04-10T12:46:35.703Z"
   },
   {
    "duration": 19,
    "start_time": "2023-04-10T12:49:56.408Z"
   },
   {
    "duration": 32,
    "start_time": "2023-04-10T12:56:41.528Z"
   },
   {
    "duration": 26,
    "start_time": "2023-04-10T12:56:58.421Z"
   },
   {
    "duration": 20,
    "start_time": "2023-04-10T12:57:12.361Z"
   },
   {
    "duration": 19,
    "start_time": "2023-04-10T12:57:21.542Z"
   },
   {
    "duration": 7,
    "start_time": "2023-04-10T12:57:49.050Z"
   },
   {
    "duration": 22,
    "start_time": "2023-04-10T12:58:00.208Z"
   },
   {
    "duration": 9,
    "start_time": "2023-04-10T12:58:17.288Z"
   },
   {
    "duration": 9,
    "start_time": "2023-04-10T12:58:31.571Z"
   },
   {
    "duration": 9,
    "start_time": "2023-04-10T13:00:55.150Z"
   },
   {
    "duration": 20,
    "start_time": "2023-04-10T13:01:15.101Z"
   },
   {
    "duration": 9,
    "start_time": "2023-04-10T13:01:33.962Z"
   },
   {
    "duration": 16,
    "start_time": "2023-04-10T13:01:48.653Z"
   },
   {
    "duration": 95,
    "start_time": "2023-04-10T13:04:46.917Z"
   },
   {
    "duration": 19,
    "start_time": "2023-04-10T13:04:47.015Z"
   },
   {
    "duration": 30,
    "start_time": "2023-04-10T13:04:47.039Z"
   },
   {
    "duration": 13,
    "start_time": "2023-04-10T13:04:47.072Z"
   },
   {
    "duration": 80,
    "start_time": "2023-04-10T13:04:47.087Z"
   },
   {
    "duration": 4,
    "start_time": "2023-04-10T13:04:47.169Z"
   },
   {
    "duration": 24,
    "start_time": "2023-04-10T13:04:47.175Z"
   },
   {
    "duration": 6,
    "start_time": "2023-04-10T13:04:47.201Z"
   },
   {
    "duration": 13,
    "start_time": "2023-04-10T13:04:47.210Z"
   },
   {
    "duration": 11,
    "start_time": "2023-04-10T13:04:47.225Z"
   },
   {
    "duration": 54,
    "start_time": "2023-04-10T13:04:47.243Z"
   },
   {
    "duration": 19,
    "start_time": "2023-04-10T13:04:47.301Z"
   },
   {
    "duration": 18,
    "start_time": "2023-04-10T13:04:47.323Z"
   },
   {
    "duration": 30,
    "start_time": "2023-04-10T13:04:47.352Z"
   },
   {
    "duration": 52,
    "start_time": "2023-04-10T13:04:47.386Z"
   },
   {
    "duration": 30,
    "start_time": "2023-04-10T13:04:47.443Z"
   },
   {
    "duration": 11,
    "start_time": "2023-04-10T13:04:47.476Z"
   },
   {
    "duration": 28,
    "start_time": "2023-04-10T13:04:47.490Z"
   },
   {
    "duration": 49,
    "start_time": "2023-04-10T13:04:47.521Z"
   },
   {
    "duration": 4,
    "start_time": "2023-04-10T13:04:47.574Z"
   },
   {
    "duration": 26,
    "start_time": "2023-04-10T13:04:47.580Z"
   },
   {
    "duration": 48,
    "start_time": "2023-04-10T13:04:47.608Z"
   },
   {
    "duration": 18,
    "start_time": "2023-04-10T13:04:47.658Z"
   },
   {
    "duration": 34,
    "start_time": "2023-04-10T13:04:47.679Z"
   },
   {
    "duration": 8,
    "start_time": "2023-04-10T13:04:47.715Z"
   },
   {
    "duration": 19,
    "start_time": "2023-04-10T13:04:56.080Z"
   },
   {
    "duration": 25,
    "start_time": "2023-04-10T13:06:40.534Z"
   },
   {
    "duration": 18,
    "start_time": "2023-04-10T13:06:55.294Z"
   },
   {
    "duration": 7,
    "start_time": "2023-04-10T13:07:08.212Z"
   },
   {
    "duration": 4,
    "start_time": "2023-04-10T13:07:22.480Z"
   },
   {
    "duration": 6,
    "start_time": "2023-04-10T13:07:40.906Z"
   },
   {
    "duration": 14,
    "start_time": "2023-04-10T13:08:17.439Z"
   },
   {
    "duration": 7,
    "start_time": "2023-04-10T13:12:02.577Z"
   },
   {
    "duration": 3,
    "start_time": "2023-04-10T13:13:22.190Z"
   },
   {
    "duration": 24,
    "start_time": "2023-04-10T13:13:51.478Z"
   },
   {
    "duration": 50,
    "start_time": "2023-04-10T13:14:00.462Z"
   },
   {
    "duration": 10,
    "start_time": "2023-04-10T13:24:37.600Z"
   },
   {
    "duration": 6,
    "start_time": "2023-04-10T13:24:46.758Z"
   },
   {
    "duration": 9,
    "start_time": "2023-04-10T13:25:02.398Z"
   },
   {
    "duration": 10,
    "start_time": "2023-04-10T13:25:11.449Z"
   },
   {
    "duration": 46,
    "start_time": "2023-04-10T13:25:41.616Z"
   },
   {
    "duration": 546,
    "start_time": "2023-04-10T13:47:00.508Z"
   },
   {
    "duration": 25,
    "start_time": "2023-04-10T13:47:01.056Z"
   },
   {
    "duration": 48,
    "start_time": "2023-04-10T13:47:01.082Z"
   },
   {
    "duration": 49,
    "start_time": "2023-04-10T13:47:01.132Z"
   },
   {
    "duration": 60,
    "start_time": "2023-04-10T13:47:01.183Z"
   },
   {
    "duration": 5,
    "start_time": "2023-04-10T13:47:01.248Z"
   },
   {
    "duration": 35,
    "start_time": "2023-04-10T13:47:01.254Z"
   },
   {
    "duration": 36,
    "start_time": "2023-04-10T13:47:01.291Z"
   },
   {
    "duration": 40,
    "start_time": "2023-04-10T13:47:01.329Z"
   },
   {
    "duration": 21,
    "start_time": "2023-04-10T13:47:01.373Z"
   },
   {
    "duration": 76,
    "start_time": "2023-04-10T13:47:01.395Z"
   },
   {
    "duration": 16,
    "start_time": "2023-04-10T13:47:01.473Z"
   },
   {
    "duration": 31,
    "start_time": "2023-04-10T13:47:01.491Z"
   },
   {
    "duration": 59,
    "start_time": "2023-04-10T13:47:01.523Z"
   },
   {
    "duration": 33,
    "start_time": "2023-04-10T13:47:01.584Z"
   },
   {
    "duration": 24,
    "start_time": "2023-04-10T13:47:01.619Z"
   },
   {
    "duration": 4,
    "start_time": "2023-04-10T13:47:01.645Z"
   },
   {
    "duration": 54,
    "start_time": "2023-04-10T13:47:01.651Z"
   },
   {
    "duration": 40,
    "start_time": "2023-04-10T13:47:01.707Z"
   },
   {
    "duration": 19,
    "start_time": "2023-04-10T13:47:01.749Z"
   },
   {
    "duration": 20,
    "start_time": "2023-04-10T13:47:01.770Z"
   },
   {
    "duration": 42,
    "start_time": "2023-04-10T13:47:01.792Z"
   },
   {
    "duration": 30,
    "start_time": "2023-04-10T13:47:01.836Z"
   },
   {
    "duration": 37,
    "start_time": "2023-04-10T13:47:01.868Z"
   },
   {
    "duration": 35,
    "start_time": "2023-04-10T13:47:01.907Z"
   },
   {
    "duration": 8,
    "start_time": "2023-04-10T13:47:06.758Z"
   },
   {
    "duration": 23,
    "start_time": "2023-04-10T13:47:11.652Z"
   },
   {
    "duration": 1980,
    "start_time": "2023-04-10T13:48:39.440Z"
   },
   {
    "duration": 2700,
    "start_time": "2023-04-10T13:49:02.441Z"
   },
   {
    "duration": 21,
    "start_time": "2023-04-10T13:49:06.322Z"
   },
   {
    "duration": 18,
    "start_time": "2023-04-10T13:49:19.124Z"
   },
   {
    "duration": 18,
    "start_time": "2023-04-10T13:49:41.312Z"
   },
   {
    "duration": 16,
    "start_time": "2023-04-10T13:52:53.258Z"
   },
   {
    "duration": 20,
    "start_time": "2023-04-10T13:57:09.142Z"
   },
   {
    "duration": 15314,
    "start_time": "2023-04-10T13:58:57.759Z"
   },
   {
    "duration": 21,
    "start_time": "2023-04-10T14:00:33.741Z"
   },
   {
    "duration": 21,
    "start_time": "2023-04-10T14:14:23.310Z"
   },
   {
    "duration": 7,
    "start_time": "2023-04-10T15:30:03.613Z"
   },
   {
    "duration": 10,
    "start_time": "2023-04-10T15:30:45.197Z"
   },
   {
    "duration": 53,
    "start_time": "2023-04-10T15:32:53.958Z"
   },
   {
    "duration": 11,
    "start_time": "2023-04-10T15:33:00.051Z"
   },
   {
    "duration": 11,
    "start_time": "2023-04-10T15:33:05.242Z"
   },
   {
    "duration": 11,
    "start_time": "2023-04-10T15:33:13.298Z"
   },
   {
    "duration": 11,
    "start_time": "2023-04-10T15:40:29.178Z"
   },
   {
    "duration": 162,
    "start_time": "2023-04-10T15:45:27.974Z"
   },
   {
    "duration": 148,
    "start_time": "2023-04-10T15:45:36.895Z"
   },
   {
    "duration": 138,
    "start_time": "2023-04-10T15:45:55.873Z"
   },
   {
    "duration": 121,
    "start_time": "2023-04-10T15:46:30.706Z"
   },
   {
    "duration": 13,
    "start_time": "2023-04-10T15:47:05.213Z"
   },
   {
    "duration": 14,
    "start_time": "2023-04-10T15:52:10.957Z"
   },
   {
    "duration": 672,
    "start_time": "2023-04-11T06:57:25.178Z"
   },
   {
    "duration": 21,
    "start_time": "2023-04-11T06:57:25.852Z"
   },
   {
    "duration": 31,
    "start_time": "2023-04-11T06:57:25.874Z"
   },
   {
    "duration": 22,
    "start_time": "2023-04-11T06:57:25.908Z"
   },
   {
    "duration": 47,
    "start_time": "2023-04-11T06:57:25.932Z"
   },
   {
    "duration": 4,
    "start_time": "2023-04-11T06:57:25.981Z"
   },
   {
    "duration": 9,
    "start_time": "2023-04-11T06:57:25.986Z"
   },
   {
    "duration": 35,
    "start_time": "2023-04-11T06:57:25.996Z"
   },
   {
    "duration": 20,
    "start_time": "2023-04-11T06:57:26.034Z"
   },
   {
    "duration": 19,
    "start_time": "2023-04-11T06:57:26.057Z"
   },
   {
    "duration": 57,
    "start_time": "2023-04-11T06:57:26.077Z"
   },
   {
    "duration": 11,
    "start_time": "2023-04-11T06:57:26.136Z"
   },
   {
    "duration": 17,
    "start_time": "2023-04-11T06:57:26.149Z"
   },
   {
    "duration": 31,
    "start_time": "2023-04-11T06:57:26.168Z"
   },
   {
    "duration": 46,
    "start_time": "2023-04-11T06:57:26.201Z"
   },
   {
    "duration": 22,
    "start_time": "2023-04-11T06:57:26.249Z"
   },
   {
    "duration": 4,
    "start_time": "2023-04-11T06:57:26.272Z"
   },
   {
    "duration": 28,
    "start_time": "2023-04-11T06:57:26.277Z"
   },
   {
    "duration": 35,
    "start_time": "2023-04-11T06:57:26.310Z"
   },
   {
    "duration": 11,
    "start_time": "2023-04-11T06:57:26.347Z"
   },
   {
    "duration": 46,
    "start_time": "2023-04-11T06:57:26.360Z"
   },
   {
    "duration": 36,
    "start_time": "2023-04-11T06:57:26.409Z"
   },
   {
    "duration": 10,
    "start_time": "2023-04-11T06:57:26.446Z"
   },
   {
    "duration": 32,
    "start_time": "2023-04-11T06:57:26.458Z"
   },
   {
    "duration": 38,
    "start_time": "2023-04-11T06:57:26.493Z"
   },
   {
    "duration": 28,
    "start_time": "2023-04-11T06:57:26.533Z"
   },
   {
    "duration": 24,
    "start_time": "2023-04-11T06:57:26.563Z"
   },
   {
    "duration": 31,
    "start_time": "2023-04-11T06:57:26.592Z"
   },
   {
    "duration": 29,
    "start_time": "2023-04-11T06:57:26.625Z"
   },
   {
    "duration": 13,
    "start_time": "2023-04-11T06:57:26.656Z"
   },
   {
    "duration": 37,
    "start_time": "2023-04-11T06:57:26.671Z"
   },
   {
    "duration": 17,
    "start_time": "2023-04-11T06:57:26.710Z"
   },
   {
    "duration": 38,
    "start_time": "2023-04-11T06:57:26.728Z"
   },
   {
    "duration": 946,
    "start_time": "2023-04-11T06:57:26.768Z"
   },
   {
    "duration": 5,
    "start_time": "2023-04-11T06:57:27.715Z"
   },
   {
    "duration": 17,
    "start_time": "2023-04-11T06:57:27.721Z"
   },
   {
    "duration": 24,
    "start_time": "2023-04-11T06:57:27.740Z"
   },
   {
    "duration": 40,
    "start_time": "2023-04-11T06:57:27.766Z"
   },
   {
    "duration": 20,
    "start_time": "2023-04-11T06:57:27.809Z"
   },
   {
    "duration": 12,
    "start_time": "2023-04-11T06:57:27.831Z"
   },
   {
    "duration": 17,
    "start_time": "2023-04-11T06:57:27.845Z"
   }
  ],
  "colab": {
   "name": "dpp_template_part2.ipynb",
   "provenance": []
  },
  "kernelspec": {
   "display_name": "Python 3 (ipykernel)",
   "language": "python",
   "name": "python3"
  },
  "language_info": {
   "codemirror_mode": {
    "name": "ipython",
    "version": 3
   },
   "file_extension": ".py",
   "mimetype": "text/x-python",
   "name": "python",
   "nbconvert_exporter": "python",
   "pygments_lexer": "ipython3",
   "version": "3.9.5"
  },
  "toc": {
   "base_numbering": 1,
   "nav_menu": {},
   "number_sections": true,
   "sideBar": true,
   "skip_h1_title": true,
   "title_cell": "Table of Contents",
   "title_sidebar": "Contents",
   "toc_cell": false,
   "toc_position": {},
   "toc_section_display": true,
   "toc_window_display": false
  }
 },
 "nbformat": 4,
 "nbformat_minor": 5
}
