{
 "cells": [
  {
   "cell_type": "markdown",
   "id": "bf83b1cc",
   "metadata": {},
   "source": [
    "<div style=\"border:solid steelblue 3px; padding: 20px; border-radius: 10px\">\n",
    "\n",
    "**Айдар, привет!** 👋\n",
    "\n",
    "Меня зовут Алексей Манелюк, я буду проверять твой проект. В Яндекс Практикуме принято общаться на \"ты\" 😉, но если некомфортно - скажи и перейдем на \"Вы\".\n",
    "\n",
    "Моя цель - не указать на ошибки, а поделиться опытом и помочь в освоении анализа данных.\n",
    "\n",
    "В тетрадке ты увидишь мои комментарии, пожалуйста, не удаляй, не перемещай и не изменяй их. У комментариев могут быть приписки **V2**, **V3**, **V...**, которые соответствуют каждой версии проверки.\n",
    "\n",
    "Я буду использовать цветовую разметку:\n",
    "<p>\n",
    "<div class=\"alert-danger\" style=\"padding: 20px; border-radius: 10px\">\n",
    "<b>Комментарий ревьюера ❌</b>\n",
    "\n",
    "Так выделены критические замечания. Без их отработки я не смогу принять проект. </div>\n",
    "\n",
    "<div class=\"alert-warning\" style=\"padding: 20px; border-radius: 10px\">\n",
    "<b>  Комментарий ревьюера ⚠️</b>\n",
    "\n",
    "Так выделены небольшие замечания или полезные советы. Постарайся учесть их.</div>\n",
    "<p>\n",
    "<div class=\"alert-success\" style=\"padding: 20px; border-radius: 10px\">\n",
    "<b>Комментарий ревьюера ✔️</b>\n",
    "\n",
    "Так выделены правильные решения.</div>\n",
    "\n",
    "Предлагаю работать в диалоге: если что-то дорабатываешь или отвечаешь на мой комментарий - пиши об этом. Мне будет удобней, если ты выделишь свои комментарии:\n",
    "<p>\n",
    "<div class=\"alert-info\" style=\"padding: 20px; border-radius: 10px\">\n",
    "<b>Комментарий студента 💎</b>\n",
    "\n",
    "Здесь исправил.</div>\n",
    "\n",
    "Все это поможет мне быстрее принять твой проект.</div>"
   ]
  },
  {
   "cell_type": "markdown",
   "id": "6a4428ca",
   "metadata": {},
   "source": [
    "<div class=\"alert-info\" style=\"padding: 20px; border-radius: 10px\">\n",
    "<b>Комментарий студента 💎</b>\n",
    "\n",
    "Написать свой комментарий можно, скопировав этот блок в ячейку Markdown.</div>"
   ]
  },
  {
   "cell_type": "markdown",
   "id": "0aa2b347",
   "metadata": {},
   "source": [
    "<div class=\"alert-warning\" style=\"padding: 20px; border-radius: 10px\">\n",
    "<b>Комментарий ревьюера ⚠️</b>\n",
    "\n",
    "<s>Блок импортов библиотек лучше перенести после описания исследования, а проекту дать название.</div>"
   ]
  },
  {
   "cell_type": "markdown",
   "id": "8e57fa9c",
   "metadata": {},
   "source": [
    "<div class=\"alert-info\" style=\"padding: 20px; border-radius: 10px\">\n",
    "<b>Комментарий студента 💎</b>\n",
    "\n",
    "Здесь исправил.</div>"
   ]
  },
  {
   "cell_type": "markdown",
   "id": "a9daaa6e",
   "metadata": {},
   "source": [
    "### проект: Исследование самокатчиков"
   ]
  },
  {
   "cell_type": "markdown",
   "id": "3ca59377",
   "metadata": {},
   "source": [
    "#### Шаг 0. Предмет и задачи исследования\n",
    "В моём распоряжении три таблицы содержащие данные о пользователях сервиса аренды самокатов, поездках пользователей и информацией о стоимости ежемесячной подписки.\n",
    "\n",
    "На первом этапе работы я по возможности заполню пропуски, приведу столбцы к правильному типу данных, проведу исследовательский анализ данных, объединю их в один датафрейм и посчитаю выручку.\n",
    "\n",
    "На втором этапе работы я постараюсь ответить на следующие вопросы бизнеса:\n",
    "- Тратят ли пользователи с подпиской больше времени на поездки?\n",
    "- Можно ли сказать, что расстояние, которое проезжают пользователи с подпиской за одну поездку, не превышает 3130 метров?\n",
    "- Будет ли помесячная выручка от пользователей с подпиской по месяцам выше, чем выручка от пользователей без подписки?\n",
    "- Проверю снизиться ли количество обращений в тех. поддержку после обновления приложения.\n",
    "- Посчитаю какое минимальное количество промокодов надо разослать что-бы как минимум 100 клиентов продлили подписку.\n",
    "- Оценю вероятность того что push-уведомление откроют не более 399.5 тысяч пользователей."
   ]
  },
  {
   "cell_type": "markdown",
   "id": "b19f38c3",
   "metadata": {},
   "source": [
    "<div class=\"alert-info\" style=\"padding: 20px; border-radius: 10px\">\n",
    "<b>Комментарий студента 💎</b>\n",
    "\n",
    "Ячейку ниже необходимо запустить что-бы небыло ошибок из-за старых библиотек. В облаке практикума работает pip работает, проверено.</div>"
   ]
  },
  {
   "cell_type": "code",
   "execution_count": 1,
   "id": "382b6250",
   "metadata": {},
   "outputs": [
    {
     "name": "stdout",
     "output_type": "stream",
     "text": [
      "Requirement already satisfied: matplotlib in /opt/conda/lib/python3.9/site-packages (3.3.4)\n",
      "Collecting matplotlib\n",
      "  Downloading matplotlib-3.7.1-cp39-cp39-manylinux_2_17_x86_64.manylinux2014_x86_64.whl (11.6 MB)\n",
      "\u001b[K     |████████████████████████████████| 11.6 MB 2.1 MB/s eta 0:00:01\n",
      "\u001b[?25hRequirement already satisfied: pyparsing>=2.3.1 in /opt/conda/lib/python3.9/site-packages (from matplotlib) (2.4.7)\n",
      "Requirement already satisfied: kiwisolver>=1.0.1 in /opt/conda/lib/python3.9/site-packages (from matplotlib) (1.4.4)\n",
      "Requirement already satisfied: packaging>=20.0 in /opt/conda/lib/python3.9/site-packages (from matplotlib) (21.3)\n",
      "Requirement already satisfied: numpy>=1.20 in /opt/conda/lib/python3.9/site-packages (from matplotlib) (1.21.1)\n",
      "Requirement already satisfied: python-dateutil>=2.7 in /opt/conda/lib/python3.9/site-packages (from matplotlib) (2.8.1)\n",
      "Collecting fonttools>=4.22.0\n",
      "  Downloading fonttools-4.40.0-cp39-cp39-manylinux_2_17_x86_64.manylinux2014_x86_64.whl (4.4 MB)\n",
      "\u001b[K     |████████████████████████████████| 4.4 MB 68.3 MB/s eta 0:00:01\n",
      "\u001b[?25hCollecting importlib-resources>=3.2.0\n",
      "  Downloading importlib_resources-5.12.0-py3-none-any.whl (36 kB)\n",
      "Collecting contourpy>=1.0.1\n",
      "  Downloading contourpy-1.1.0-cp39-cp39-manylinux_2_17_x86_64.manylinux2014_x86_64.whl (300 kB)\n",
      "\u001b[K     |████████████████████████████████| 300 kB 84.1 MB/s eta 0:00:01\n",
      "\u001b[?25hRequirement already satisfied: cycler>=0.10 in /opt/conda/lib/python3.9/site-packages (from matplotlib) (0.11.0)\n",
      "Requirement already satisfied: pillow>=6.2.0 in /opt/conda/lib/python3.9/site-packages (from matplotlib) (8.4.0)\n",
      "Requirement already satisfied: zipp>=3.1.0 in /opt/conda/lib/python3.9/site-packages (from importlib-resources>=3.2.0->matplotlib) (3.5.0)\n",
      "Requirement already satisfied: six>=1.5 in /opt/conda/lib/python3.9/site-packages (from python-dateutil>=2.7->matplotlib) (1.16.0)\n",
      "Installing collected packages: importlib-resources, fonttools, contourpy, matplotlib\n",
      "  Attempting uninstall: matplotlib\n",
      "    Found existing installation: matplotlib 3.3.4\n",
      "    Uninstalling matplotlib-3.3.4:\n",
      "      Successfully uninstalled matplotlib-3.3.4\n",
      "Successfully installed contourpy-1.1.0 fonttools-4.40.0 importlib-resources-5.12.0 matplotlib-3.7.1\n",
      "Requirement already satisfied: pandas in /opt/conda/lib/python3.9/site-packages (1.2.4)\n",
      "Collecting pandas\n",
      "  Downloading pandas-2.0.2-cp39-cp39-manylinux_2_17_x86_64.manylinux2014_x86_64.whl (12.4 MB)\n",
      "\u001b[K     |████████████████████████████████| 12.4 MB 1.6 MB/s eta 0:00:01\n",
      "\u001b[?25hCollecting tzdata>=2022.1\n",
      "  Downloading tzdata-2023.3-py2.py3-none-any.whl (341 kB)\n",
      "\u001b[K     |████████████████████████████████| 341 kB 56.4 MB/s eta 0:00:01\n",
      "\u001b[?25hRequirement already satisfied: pytz>=2020.1 in /opt/conda/lib/python3.9/site-packages (from pandas) (2021.1)\n",
      "Requirement already satisfied: numpy>=1.20.3 in /opt/conda/lib/python3.9/site-packages (from pandas) (1.21.1)\n",
      "Collecting python-dateutil>=2.8.2\n",
      "  Downloading python_dateutil-2.8.2-py2.py3-none-any.whl (247 kB)\n",
      "\u001b[K     |████████████████████████████████| 247 kB 94.6 MB/s eta 0:00:01\n",
      "\u001b[?25hRequirement already satisfied: six>=1.5 in /opt/conda/lib/python3.9/site-packages (from python-dateutil>=2.8.2->pandas) (1.16.0)\n",
      "Installing collected packages: tzdata, python-dateutil, pandas\n",
      "  Attempting uninstall: python-dateutil\n",
      "    Found existing installation: python-dateutil 2.8.1\n",
      "    Uninstalling python-dateutil-2.8.1:\n",
      "      Successfully uninstalled python-dateutil-2.8.1\n",
      "  Attempting uninstall: pandas\n",
      "    Found existing installation: pandas 1.2.4\n",
      "    Uninstalling pandas-1.2.4:\n",
      "      Successfully uninstalled pandas-1.2.4\n",
      "Successfully installed pandas-2.0.2 python-dateutil-2.8.2 tzdata-2023.3\n"
     ]
    }
   ],
   "source": [
    "# Необходимые обновления\n",
    "!pip install --upgrade matplotlib\n",
    "!pip install --upgrade pandas"
   ]
  },
  {
   "cell_type": "code",
   "execution_count": 2,
   "id": "8ede8663",
   "metadata": {},
   "outputs": [],
   "source": [
    "import pandas as pd\n",
    "import matplotlib.pyplot as plt\n",
    "import numpy as np\n",
    "import scipy.stats as st\n",
    "import math"
   ]
  },
  {
   "cell_type": "markdown",
   "id": "c42cbe00",
   "metadata": {},
   "source": [
    "#### Шаг 1. Загрузка данных"
   ]
  },
  {
   "cell_type": "code",
   "execution_count": 3,
   "id": "eff9f206",
   "metadata": {
    "ExecuteTime": {
     "end_time": "2023-06-24T22:15:49.230550563Z",
     "start_time": "2023-06-24T22:15:49.143984015Z"
    }
   },
   "outputs": [
    {
     "data": {
      "text/html": [
       "<div>\n",
       "<style scoped>\n",
       "    .dataframe tbody tr th:only-of-type {\n",
       "        vertical-align: middle;\n",
       "    }\n",
       "\n",
       "    .dataframe tbody tr th {\n",
       "        vertical-align: top;\n",
       "    }\n",
       "\n",
       "    .dataframe thead th {\n",
       "        text-align: right;\n",
       "    }\n",
       "</style>\n",
       "<table border=\"1\" class=\"dataframe\">\n",
       "  <thead>\n",
       "    <tr style=\"text-align: right;\">\n",
       "      <th></th>\n",
       "      <th>user_id</th>\n",
       "      <th>name</th>\n",
       "      <th>age</th>\n",
       "      <th>city</th>\n",
       "      <th>subscription_type</th>\n",
       "    </tr>\n",
       "  </thead>\n",
       "  <tbody>\n",
       "    <tr>\n",
       "      <th>0</th>\n",
       "      <td>1</td>\n",
       "      <td>Кира</td>\n",
       "      <td>22</td>\n",
       "      <td>Тюмень</td>\n",
       "      <td>ultra</td>\n",
       "    </tr>\n",
       "    <tr>\n",
       "      <th>1</th>\n",
       "      <td>2</td>\n",
       "      <td>Станислав</td>\n",
       "      <td>31</td>\n",
       "      <td>Омск</td>\n",
       "      <td>ultra</td>\n",
       "    </tr>\n",
       "    <tr>\n",
       "      <th>2</th>\n",
       "      <td>3</td>\n",
       "      <td>Алексей</td>\n",
       "      <td>20</td>\n",
       "      <td>Москва</td>\n",
       "      <td>ultra</td>\n",
       "    </tr>\n",
       "    <tr>\n",
       "      <th>3</th>\n",
       "      <td>4</td>\n",
       "      <td>Константин</td>\n",
       "      <td>26</td>\n",
       "      <td>Ростов-на-Дону</td>\n",
       "      <td>ultra</td>\n",
       "    </tr>\n",
       "    <tr>\n",
       "      <th>4</th>\n",
       "      <td>5</td>\n",
       "      <td>Адель</td>\n",
       "      <td>28</td>\n",
       "      <td>Омск</td>\n",
       "      <td>ultra</td>\n",
       "    </tr>\n",
       "  </tbody>\n",
       "</table>\n",
       "</div>"
      ],
      "text/plain": [
       "   user_id        name  age            city subscription_type\n",
       "0        1        Кира   22          Тюмень             ultra\n",
       "1        2   Станислав   31            Омск             ultra\n",
       "2        3     Алексей   20          Москва             ultra\n",
       "3        4  Константин   26  Ростов-на-Дону             ultra\n",
       "4        5       Адель   28            Омск             ultra"
      ]
     },
     "metadata": {},
     "output_type": "display_data"
    },
    {
     "data": {
      "text/html": [
       "<div>\n",
       "<style scoped>\n",
       "    .dataframe tbody tr th:only-of-type {\n",
       "        vertical-align: middle;\n",
       "    }\n",
       "\n",
       "    .dataframe tbody tr th {\n",
       "        vertical-align: top;\n",
       "    }\n",
       "\n",
       "    .dataframe thead th {\n",
       "        text-align: right;\n",
       "    }\n",
       "</style>\n",
       "<table border=\"1\" class=\"dataframe\">\n",
       "  <thead>\n",
       "    <tr style=\"text-align: right;\">\n",
       "      <th></th>\n",
       "      <th>user_id</th>\n",
       "      <th>distance</th>\n",
       "      <th>duration</th>\n",
       "      <th>date</th>\n",
       "    </tr>\n",
       "  </thead>\n",
       "  <tbody>\n",
       "    <tr>\n",
       "      <th>0</th>\n",
       "      <td>1</td>\n",
       "      <td>4409.919140</td>\n",
       "      <td>25.599769</td>\n",
       "      <td>2021-01-01</td>\n",
       "    </tr>\n",
       "    <tr>\n",
       "      <th>1</th>\n",
       "      <td>1</td>\n",
       "      <td>2617.592153</td>\n",
       "      <td>15.816871</td>\n",
       "      <td>2021-01-18</td>\n",
       "    </tr>\n",
       "    <tr>\n",
       "      <th>2</th>\n",
       "      <td>1</td>\n",
       "      <td>754.159807</td>\n",
       "      <td>6.232113</td>\n",
       "      <td>2021-04-20</td>\n",
       "    </tr>\n",
       "    <tr>\n",
       "      <th>3</th>\n",
       "      <td>1</td>\n",
       "      <td>2694.783254</td>\n",
       "      <td>18.511000</td>\n",
       "      <td>2021-08-11</td>\n",
       "    </tr>\n",
       "    <tr>\n",
       "      <th>4</th>\n",
       "      <td>1</td>\n",
       "      <td>4028.687306</td>\n",
       "      <td>26.265803</td>\n",
       "      <td>2021-08-28</td>\n",
       "    </tr>\n",
       "  </tbody>\n",
       "</table>\n",
       "</div>"
      ],
      "text/plain": [
       "   user_id     distance   duration        date\n",
       "0        1  4409.919140  25.599769  2021-01-01\n",
       "1        1  2617.592153  15.816871  2021-01-18\n",
       "2        1   754.159807   6.232113  2021-04-20\n",
       "3        1  2694.783254  18.511000  2021-08-11\n",
       "4        1  4028.687306  26.265803  2021-08-28"
      ]
     },
     "metadata": {},
     "output_type": "display_data"
    },
    {
     "data": {
      "text/html": [
       "<div>\n",
       "<style scoped>\n",
       "    .dataframe tbody tr th:only-of-type {\n",
       "        vertical-align: middle;\n",
       "    }\n",
       "\n",
       "    .dataframe tbody tr th {\n",
       "        vertical-align: top;\n",
       "    }\n",
       "\n",
       "    .dataframe thead th {\n",
       "        text-align: right;\n",
       "    }\n",
       "</style>\n",
       "<table border=\"1\" class=\"dataframe\">\n",
       "  <thead>\n",
       "    <tr style=\"text-align: right;\">\n",
       "      <th></th>\n",
       "      <th>subscription_type</th>\n",
       "      <th>minute_price</th>\n",
       "      <th>start_ride_price</th>\n",
       "      <th>subscription_fee</th>\n",
       "    </tr>\n",
       "  </thead>\n",
       "  <tbody>\n",
       "    <tr>\n",
       "      <th>0</th>\n",
       "      <td>free</td>\n",
       "      <td>8</td>\n",
       "      <td>50</td>\n",
       "      <td>0</td>\n",
       "    </tr>\n",
       "    <tr>\n",
       "      <th>1</th>\n",
       "      <td>ultra</td>\n",
       "      <td>6</td>\n",
       "      <td>0</td>\n",
       "      <td>199</td>\n",
       "    </tr>\n",
       "  </tbody>\n",
       "</table>\n",
       "</div>"
      ],
      "text/plain": [
       "  subscription_type  minute_price  start_ride_price  subscription_fee\n",
       "0              free             8                50                 0\n",
       "1             ultra             6                 0               199"
      ]
     },
     "metadata": {},
     "output_type": "display_data"
    }
   ],
   "source": [
    "# Код ревьюера\n",
    "\n",
    "try:\n",
    "    users = pd.read_csv('./users_go.csv')\n",
    "    rides = pd.read_csv('./rides_go.csv')\n",
    "    subscriptions = pd.read_csv('subscriptions_go.csv')\n",
    "    \n",
    "except:\n",
    "    users = pd.read_csv('https://code.s3.yandex.net/datasets/users_go.csv')\n",
    "    rides = pd.read_csv('https://code.s3.yandex.net/datasets/rides_go.csv')\n",
    "    subscriptions = pd.read_csv('https://code.s3.yandex.net/datasets/subscriptions_go.csv')\n",
    "\n",
    "display(users.head())\n",
    "display(rides.head())\n",
    "display(subscriptions.head())"
   ]
  },
  {
   "attachments": {
    "image.png": {
     "image/png": "[encoded data removed]"
    }
   },
   "cell_type": "markdown",
   "id": "e37b8f9c",
   "metadata": {},
   "source": [
    "<div class=\"alert-warning\" style=\"padding: 20px; border-radius: 10px\">\n",
    "<b>Комментарий ревьюера ⚠️</b>\n",
    "\n",
    "Я исправил пути загрузки файлов с данными. Изначально твой проект падал уже на этом шаге. Нерабочий код - это повод вернуть работу без проверки. Если делаешь проект локально, имеет смысл использовать конструкцию `try - except`.\n",
    "\n",
    "![image.png](attachment:image.png)"
   ]
  },
  {
   "cell_type": "markdown",
   "id": "16b972b8",
   "metadata": {},
   "source": [
    "Таблицы успешно загрузились."
   ]
  },
  {
   "cell_type": "code",
   "execution_count": 4,
   "id": "595a0606",
   "metadata": {
    "ExecuteTime": {
     "end_time": "2023-06-24T22:15:49.245370009Z",
     "start_time": "2023-06-24T22:15:49.215260546Z"
    }
   },
   "outputs": [
    {
     "name": "stdout",
     "output_type": "stream",
     "text": [
      "<class 'pandas.core.frame.DataFrame'>\n",
      "RangeIndex: 1565 entries, 0 to 1564\n",
      "Data columns (total 5 columns):\n",
      " #   Column             Non-Null Count  Dtype \n",
      "---  ------             --------------  ----- \n",
      " 0   user_id            1565 non-null   int64 \n",
      " 1   name               1565 non-null   object\n",
      " 2   age                1565 non-null   int64 \n",
      " 3   city               1565 non-null   object\n",
      " 4   subscription_type  1565 non-null   object\n",
      "dtypes: int64(2), object(3)\n",
      "memory usage: 61.3+ KB\n"
     ]
    },
    {
     "data": {
      "text/plain": [
       "None"
      ]
     },
     "metadata": {},
     "output_type": "display_data"
    },
    {
     "name": "stdout",
     "output_type": "stream",
     "text": [
      "<class 'pandas.core.frame.DataFrame'>\n",
      "RangeIndex: 18068 entries, 0 to 18067\n",
      "Data columns (total 4 columns):\n",
      " #   Column    Non-Null Count  Dtype  \n",
      "---  ------    --------------  -----  \n",
      " 0   user_id   18068 non-null  int64  \n",
      " 1   distance  18068 non-null  float64\n",
      " 2   duration  18068 non-null  float64\n",
      " 3   date      18068 non-null  object \n",
      "dtypes: float64(2), int64(1), object(1)\n",
      "memory usage: 564.8+ KB\n"
     ]
    },
    {
     "data": {
      "text/plain": [
       "None"
      ]
     },
     "metadata": {},
     "output_type": "display_data"
    }
   ],
   "source": [
    "# Посмотрим общую информацию о датафреймах\n",
    "display(users.info())\n",
    "display(rides.info())"
   ]
  },
  {
   "cell_type": "markdown",
   "id": "bf13c895",
   "metadata": {},
   "source": [
    "Судя по общей информации о датафреймах пропущенных значений нет. Но некорректно выбран тип столбца date в таблице с поездками."
   ]
  },
  {
   "cell_type": "markdown",
   "id": "e95ebca7",
   "metadata": {},
   "source": [
    "#### Шаг 2. Предобработка данных"
   ]
  },
  {
   "cell_type": "code",
   "execution_count": 5,
   "id": "af6d202c",
   "metadata": {
    "ExecuteTime": {
     "end_time": "2023-06-24T22:15:49.816101270Z",
     "start_time": "2023-06-24T22:15:49.250198276Z"
    }
   },
   "outputs": [
    {
     "name": "stdout",
     "output_type": "stream",
     "text": [
      "minimal_date - 2021-01-01, maximal date - 2021-12-30, interval - 363 days 00:00:00\n"
     ]
    },
    {
     "data": {
      "text/html": [
       "<style type=\"text/css\">\n",
       "#T_4996c_row0_col0, #T_4996c_row1_col0, #T_4996c_row2_col0, #T_4996c_row3_col0, #T_4996c_row4_col0 {\n",
       "  background-color: #3b4cc0;\n",
       "  color: #f1f1f1;\n",
       "}\n",
       "</style>\n",
       "<table id=\"T_4996c\">\n",
       "  <thead>\n",
       "    <tr>\n",
       "      <th class=\"blank level0\" >&nbsp;</th>\n",
       "      <th id=\"T_4996c_level0_col0\" class=\"col_heading level0 col0\" >0</th>\n",
       "    </tr>\n",
       "  </thead>\n",
       "  <tbody>\n",
       "    <tr>\n",
       "      <th id=\"T_4996c_level0_row0\" class=\"row_heading level0 row0\" >user_id</th>\n",
       "      <td id=\"T_4996c_row0_col0\" class=\"data row0 col0\" >0.000000</td>\n",
       "    </tr>\n",
       "    <tr>\n",
       "      <th id=\"T_4996c_level0_row1\" class=\"row_heading level0 row1\" >name</th>\n",
       "      <td id=\"T_4996c_row1_col0\" class=\"data row1 col0\" >0.000000</td>\n",
       "    </tr>\n",
       "    <tr>\n",
       "      <th id=\"T_4996c_level0_row2\" class=\"row_heading level0 row2\" >age</th>\n",
       "      <td id=\"T_4996c_row2_col0\" class=\"data row2 col0\" >0.000000</td>\n",
       "    </tr>\n",
       "    <tr>\n",
       "      <th id=\"T_4996c_level0_row3\" class=\"row_heading level0 row3\" >city</th>\n",
       "      <td id=\"T_4996c_row3_col0\" class=\"data row3 col0\" >0.000000</td>\n",
       "    </tr>\n",
       "    <tr>\n",
       "      <th id=\"T_4996c_level0_row4\" class=\"row_heading level0 row4\" >subscription_type</th>\n",
       "      <td id=\"T_4996c_row4_col0\" class=\"data row4 col0\" >0.000000</td>\n",
       "    </tr>\n",
       "  </tbody>\n",
       "</table>\n"
      ],
      "text/plain": [
       "<pandas.io.formats.style.Styler at 0x7f76d8fc39a0>"
      ]
     },
     "metadata": {},
     "output_type": "display_data"
    },
    {
     "data": {
      "text/html": [
       "<style type=\"text/css\">\n",
       "#T_a88d1_row0_col0, #T_a88d1_row1_col0, #T_a88d1_row2_col0, #T_a88d1_row3_col0, #T_a88d1_row4_col0 {\n",
       "  background-color: #3b4cc0;\n",
       "  color: #f1f1f1;\n",
       "}\n",
       "</style>\n",
       "<table id=\"T_a88d1\">\n",
       "  <thead>\n",
       "    <tr>\n",
       "      <th class=\"blank level0\" >&nbsp;</th>\n",
       "      <th id=\"T_a88d1_level0_col0\" class=\"col_heading level0 col0\" >0</th>\n",
       "    </tr>\n",
       "  </thead>\n",
       "  <tbody>\n",
       "    <tr>\n",
       "      <th id=\"T_a88d1_level0_row0\" class=\"row_heading level0 row0\" >user_id</th>\n",
       "      <td id=\"T_a88d1_row0_col0\" class=\"data row0 col0\" >0.000000</td>\n",
       "    </tr>\n",
       "    <tr>\n",
       "      <th id=\"T_a88d1_level0_row1\" class=\"row_heading level0 row1\" >distance</th>\n",
       "      <td id=\"T_a88d1_row1_col0\" class=\"data row1 col0\" >0.000000</td>\n",
       "    </tr>\n",
       "    <tr>\n",
       "      <th id=\"T_a88d1_level0_row2\" class=\"row_heading level0 row2\" >duration</th>\n",
       "      <td id=\"T_a88d1_row2_col0\" class=\"data row2 col0\" >0.000000</td>\n",
       "    </tr>\n",
       "    <tr>\n",
       "      <th id=\"T_a88d1_level0_row3\" class=\"row_heading level0 row3\" >date</th>\n",
       "      <td id=\"T_a88d1_row3_col0\" class=\"data row3 col0\" >0.000000</td>\n",
       "    </tr>\n",
       "    <tr>\n",
       "      <th id=\"T_a88d1_level0_row4\" class=\"row_heading level0 row4\" >month</th>\n",
       "      <td id=\"T_a88d1_row4_col0\" class=\"data row4 col0\" >0.000000</td>\n",
       "    </tr>\n",
       "  </tbody>\n",
       "</table>\n"
      ],
      "text/plain": [
       "<pandas.io.formats.style.Styler at 0x7f76d8fc3af0>"
      ]
     },
     "metadata": {},
     "output_type": "display_data"
    },
    {
     "data": {
      "text/html": [
       "<div>\n",
       "<style scoped>\n",
       "    .dataframe tbody tr th:only-of-type {\n",
       "        vertical-align: middle;\n",
       "    }\n",
       "\n",
       "    .dataframe tbody tr th {\n",
       "        vertical-align: top;\n",
       "    }\n",
       "\n",
       "    .dataframe thead th {\n",
       "        text-align: right;\n",
       "    }\n",
       "</style>\n",
       "<table border=\"1\" class=\"dataframe\">\n",
       "  <thead>\n",
       "    <tr style=\"text-align: right;\">\n",
       "      <th></th>\n",
       "      <th>user_id</th>\n",
       "      <th>name</th>\n",
       "      <th>age</th>\n",
       "      <th>city</th>\n",
       "      <th>subscription_type</th>\n",
       "    </tr>\n",
       "  </thead>\n",
       "  <tbody>\n",
       "    <tr>\n",
       "      <th>15</th>\n",
       "      <td>16</td>\n",
       "      <td>Амалия</td>\n",
       "      <td>27</td>\n",
       "      <td>Краснодар</td>\n",
       "      <td>ultra</td>\n",
       "    </tr>\n",
       "    <tr>\n",
       "      <th>1535</th>\n",
       "      <td>16</td>\n",
       "      <td>Амалия</td>\n",
       "      <td>27</td>\n",
       "      <td>Краснодар</td>\n",
       "      <td>ultra</td>\n",
       "    </tr>\n",
       "    <tr>\n",
       "      <th>42</th>\n",
       "      <td>43</td>\n",
       "      <td>Стефания</td>\n",
       "      <td>22</td>\n",
       "      <td>Омск</td>\n",
       "      <td>ultra</td>\n",
       "    </tr>\n",
       "    <tr>\n",
       "      <th>1539</th>\n",
       "      <td>43</td>\n",
       "      <td>Стефания</td>\n",
       "      <td>22</td>\n",
       "      <td>Омск</td>\n",
       "      <td>ultra</td>\n",
       "    </tr>\n",
       "    <tr>\n",
       "      <th>1563</th>\n",
       "      <td>47</td>\n",
       "      <td>Юрий</td>\n",
       "      <td>28</td>\n",
       "      <td>Тюмень</td>\n",
       "      <td>ultra</td>\n",
       "    </tr>\n",
       "    <tr>\n",
       "      <th>...</th>\n",
       "      <td>...</td>\n",
       "      <td>...</td>\n",
       "      <td>...</td>\n",
       "      <td>...</td>\n",
       "      <td>...</td>\n",
       "    </tr>\n",
       "    <tr>\n",
       "      <th>1554</th>\n",
       "      <td>1198</td>\n",
       "      <td>Демид</td>\n",
       "      <td>29</td>\n",
       "      <td>Ростов-на-Дону</td>\n",
       "      <td>free</td>\n",
       "    </tr>\n",
       "    <tr>\n",
       "      <th>1558</th>\n",
       "      <td>1237</td>\n",
       "      <td>Евгения</td>\n",
       "      <td>23</td>\n",
       "      <td>Тюмень</td>\n",
       "      <td>free</td>\n",
       "    </tr>\n",
       "    <tr>\n",
       "      <th>1236</th>\n",
       "      <td>1237</td>\n",
       "      <td>Евгения</td>\n",
       "      <td>23</td>\n",
       "      <td>Тюмень</td>\n",
       "      <td>free</td>\n",
       "    </tr>\n",
       "    <tr>\n",
       "      <th>1544</th>\n",
       "      <td>1245</td>\n",
       "      <td>Регина</td>\n",
       "      <td>27</td>\n",
       "      <td>Пятигорск</td>\n",
       "      <td>free</td>\n",
       "    </tr>\n",
       "    <tr>\n",
       "      <th>1244</th>\n",
       "      <td>1245</td>\n",
       "      <td>Регина</td>\n",
       "      <td>27</td>\n",
       "      <td>Пятигорск</td>\n",
       "      <td>free</td>\n",
       "    </tr>\n",
       "  </tbody>\n",
       "</table>\n",
       "<p>62 rows × 5 columns</p>\n",
       "</div>"
      ],
      "text/plain": [
       "      user_id      name  age            city subscription_type\n",
       "15         16    Амалия   27       Краснодар             ultra\n",
       "1535       16    Амалия   27       Краснодар             ultra\n",
       "42         43  Стефания   22            Омск             ultra\n",
       "1539       43  Стефания   22            Омск             ultra\n",
       "1563       47      Юрий   28          Тюмень             ultra\n",
       "...       ...       ...  ...             ...               ...\n",
       "1554     1198     Демид   29  Ростов-на-Дону              free\n",
       "1558     1237   Евгения   23          Тюмень              free\n",
       "1236     1237   Евгения   23          Тюмень              free\n",
       "1544     1245    Регина   27       Пятигорск              free\n",
       "1244     1245    Регина   27       Пятигорск              free\n",
       "\n",
       "[62 rows x 5 columns]"
      ]
     },
     "metadata": {},
     "output_type": "display_data"
    },
    {
     "data": {
      "text/html": [
       "<div>\n",
       "<style scoped>\n",
       "    .dataframe tbody tr th:only-of-type {\n",
       "        vertical-align: middle;\n",
       "    }\n",
       "\n",
       "    .dataframe tbody tr th {\n",
       "        vertical-align: top;\n",
       "    }\n",
       "\n",
       "    .dataframe thead th {\n",
       "        text-align: right;\n",
       "    }\n",
       "</style>\n",
       "<table border=\"1\" class=\"dataframe\">\n",
       "  <thead>\n",
       "    <tr style=\"text-align: right;\">\n",
       "      <th></th>\n",
       "      <th>user_id</th>\n",
       "      <th>distance</th>\n",
       "      <th>duration</th>\n",
       "      <th>date</th>\n",
       "      <th>month</th>\n",
       "    </tr>\n",
       "  </thead>\n",
       "  <tbody>\n",
       "  </tbody>\n",
       "</table>\n",
       "</div>"
      ],
      "text/plain": [
       "Empty DataFrame\n",
       "Columns: [user_id, distance, duration, date, month]\n",
       "Index: []"
      ]
     },
     "metadata": {},
     "output_type": "display_data"
    }
   ],
   "source": [
    "# Преобразуем тип данных столбца date в таблице rides\n",
    "rides['date'] = rides.date.astype('datetime64[ns]')\n",
    "rides['month'] = rides.date.dt.month\n",
    "print(f'minimal_date - {min(rides.date).strftime(\"%Y-%m-%d\")}, maximal date - {max(rides.date).strftime(\"%Y-%m-%d\")}\\\n",
    ", interval - {max(rides.date) - min(rides.date)}')\n",
    "# Посчитаем % пропущенных значений для наших таблиц\n",
    "display(pd.DataFrame(round(users.isna().mean()*100,)).style.background_gradient('coolwarm'))\n",
    "display(pd.DataFrame(round(rides.isna().mean()*100,)).style.background_gradient('coolwarm'))\n",
    "# Дубликаты\n",
    "display(users[users.duplicated(keep=False)].sort_values(by='user_id'))\n",
    "display(rides[rides.duplicated(keep=False)].sort_values(by='user_id'))\n",
    "users = users[~users.duplicated()]\n",
    "rides = rides[~rides.duplicated()]"
   ]
  },
  {
   "cell_type": "markdown",
   "id": "a479e00e",
   "metadata": {},
   "source": [
    "Столбец date конвертирован, столбец месяц создан, пропущенных значений нет, дубликаты удалены. Дубликаты были только в таблице с пользователями, несколько десятков штук. Данные за 363 дня 2021 года."
   ]
  },
  {
   "cell_type": "markdown",
   "id": "059565fb",
   "metadata": {},
   "source": [
    "<div class=\"alert-warning\" style=\"padding: 20px; border-radius: 10px\">\n",
    "<b>Комментарий ревьюера ⚠️</b>\n",
    "\n",
    "<s>На этом этапе можно проверить за какой период у нас данные.\n",
    "\n",
    "Перед удалением дубликатов стоит вывести их количество, несколько примеров, чтобы убедиться что это действительно дубликаты.</div>"
   ]
  },
  {
   "cell_type": "markdown",
   "id": "4ef3d6b8",
   "metadata": {},
   "source": [
    "<div class=\"alert-info\" style=\"padding: 20px; border-radius: 10px\">\n",
    "<b>Комментарий студента 💎</b>\n",
    "\n",
    "Здесь исправил.</div>"
   ]
  },
  {
   "cell_type": "markdown",
   "id": "d9df8eaf",
   "metadata": {},
   "source": [
    "<div class=\"alert-success\" style=\"padding: 20px; border-radius: 10px\">\n",
    "<b>Комментарий ревьюера ✔️</b>\n",
    "\n",
    "Шаг предобработки выполнен правильно. 👌</div>"
   ]
  },
  {
   "cell_type": "markdown",
   "id": "212593c7",
   "metadata": {},
   "source": [
    "#### Шаг 3. Исследовательский анализ данных"
   ]
  },
  {
   "cell_type": "code",
   "execution_count": 6,
   "id": "e3a4274c",
   "metadata": {
    "ExecuteTime": {
     "end_time": "2023-06-24T22:15:51.654107313Z",
     "start_time": "2023-06-24T22:15:49.394742514Z"
    }
   },
   "outputs": [
    {
     "data": {
      "image/png": "[encoded data removed]",
      "text/plain": [
       "<Figure size 720x504 with 1 Axes>"
      ]
     },
     "metadata": {
      "needs_background": "light"
     },
     "output_type": "display_data"
    }
   ],
   "source": [
    "# построим интересующие нас графики\n",
    "# Частота встречаемости городов\n",
    "ax = users.city.value_counts().plot(kind='bar', rot=15, title=\"Частота встречаемости городов\",\n",
    "                                    ylabel='Количество пользователей', figsize=(10, 7))\n",
    "ax.bar_label(ax.containers[0]);"
   ]
  },
  {
   "cell_type": "markdown",
   "id": "f1f54d88",
   "metadata": {},
   "source": [
    "Распределение по количества пользователей по городам не сильно отличается друг от друга. Больше всего в Пятигорске(219 человек), меньше всего в Москве(168 человек)."
   ]
  },
  {
   "cell_type": "code",
   "execution_count": 7,
   "id": "aab0e283",
   "metadata": {},
   "outputs": [
    {
     "data": {
      "image/png": "[encoded data removed]",
      "text/plain": [
       "<Figure size 432x648 with 1 Axes>"
      ]
     },
     "metadata": {},
     "output_type": "display_data"
    }
   ],
   "source": [
    "# Тип подписки\n",
    "ax = users.subscription_type.value_counts().rename('subscription_type').plot(y='subscription_type',\n",
    "                                                                             kind='pie',\n",
    "                                                                             title=\"Тип подписки\",\n",
    "                                                                             autopct='%1.1f%%',\n",
    "                                                                             figsize=(6, 9))"
   ]
  },
  {
   "cell_type": "markdown",
   "id": "56ca408d",
   "metadata": {},
   "source": [
    "Доля платных пользователей 45.6%, бесплатных 54.4%."
   ]
  },
  {
   "cell_type": "code",
   "execution_count": 8,
   "id": "8cd6f653",
   "metadata": {},
   "outputs": [
    {
     "data": {
      "text/plain": [
       "count    1534.000000\n",
       "mean       24.903520\n",
       "std         4.572367\n",
       "min        12.000000\n",
       "25%        22.000000\n",
       "50%        25.000000\n",
       "75%        28.000000\n",
       "max        43.000000\n",
       "Name: age, dtype: float64"
      ]
     },
     "execution_count": 8,
     "metadata": {},
     "output_type": "execute_result"
    },
    {
     "data": {
      "image/png": "[encoded data removed]",
      "text/plain": [
       "<Figure size 720x576 with 1 Axes>"
      ]
     },
     "metadata": {
      "needs_background": "light"
     },
     "output_type": "display_data"
    }
   ],
   "source": [
    "# Распределение возраста\n",
    "ax = users.age.value_counts().sort_index().plot(kind='bar', title=\"Распределение возраста\", figsize=(10, 8),\n",
    "                                                xlabel='Возраст(лет)', ylabel='Количество человек')\n",
    "users.age.describe()"
   ]
  },
  {
   "cell_type": "markdown",
   "id": "36fbf38a",
   "metadata": {},
   "source": [
    "Так как возраст задан дискретно, то решил построить столбиковую диаграмму, что-бы не подбирать оптимальное количество корзин. Средний возраст 24.9, со стандартным отклонением в 4.6 лет. Минимальный возраст 12, максимальный 43. Возраст 50% выборки находится в промежутке между 22 и 28 годами. Распределение близко к нормальному."
   ]
  },
  {
   "cell_type": "code",
   "execution_count": 9,
   "id": "21158867",
   "metadata": {},
   "outputs": [
    {
     "data": {
      "text/plain": [
       "count    18068.000000\n",
       "mean      3070.659976\n",
       "std       1116.831209\n",
       "min          0.855683\n",
       "25%       2543.226360\n",
       "50%       3133.609994\n",
       "75%       3776.222735\n",
       "max       7211.007745\n",
       "Name: distance, dtype: float64"
      ]
     },
     "metadata": {},
     "output_type": "display_data"
    },
    {
     "data": {
      "image/png": "[encoded data removed]",
      "text/plain": [
       "<Figure size 720x576 with 1 Axes>"
      ]
     },
     "metadata": {
      "needs_background": "light"
     },
     "output_type": "display_data"
    }
   ],
   "source": [
    "# Расстояние поездки\n",
    "ax = rides.distance.plot(kind='hist', bins=300, title=\"Расстояние поездки\", figsize=(10, 8))\n",
    "ax.set_xlabel(xlabel='Расстояние(метры)')\n",
    "display(rides.distance.describe())"
   ]
  },
  {
   "cell_type": "markdown",
   "id": "0167593e",
   "metadata": {},
   "source": [
    "Распределение как будто состоит из двух нормальных. Одна группа использует самокаты что-бы ездить до 1.5 километров, со средним около 800, а другая от 1.5 до 7 км, со средним около 3300. По общей статистике для всей выборки, средняя 3.07 км, стандартное отклонение 1.1 км. Минимальная дистанция 0.8 метра, максимальная 7.211 километров."
   ]
  },
  {
   "cell_type": "code",
   "execution_count": 10,
   "id": "4cf81312",
   "metadata": {},
   "outputs": [
    {
     "data": {
      "text/plain": [
       "count    18068.000000\n",
       "mean        17.805011\n",
       "std          6.091051\n",
       "min          0.500000\n",
       "25%         13.597563\n",
       "50%         17.678395\n",
       "75%         21.724800\n",
       "max         40.823963\n",
       "Name: duration, dtype: float64"
      ]
     },
     "execution_count": 10,
     "metadata": {},
     "output_type": "execute_result"
    },
    {
     "data": {
      "image/png": "[encoded data removed]",
      "text/plain": [
       "<Figure size 720x432 with 1 Axes>"
      ]
     },
     "metadata": {
      "needs_background": "light"
     },
     "output_type": "display_data"
    }
   ],
   "source": [
    "# Длительность поездки\n",
    "ax = rides.duration.plot(kind='hist', bins=400, title=\"Длительность поездки\", figsize=(10, 6));\n",
    "ax.set_xlabel('Время(минуты)')\n",
    "rides.duration.describe()"
   ]
  },
  {
   "cell_type": "markdown",
   "id": "44a59a37",
   "metadata": {},
   "source": [
    "Среднее время поездки 17.8 минут, стандартное отклонение 6 минут. Минимальное время поездки 0.5 минуты, максимальное 40. Есть большое количество выбросов в районе 1й минуты. Возможно это связано с \"малым\" горбом на гистограмме расстояния."
   ]
  },
  {
   "cell_type": "markdown",
   "id": "6f374416",
   "metadata": {},
   "source": [
    "<div class=\"alert-warning\" style=\"padding: 20px; border-radius: 10px\">\n",
    "<b>Комментарий ревьюера ⚠️</b>\n",
    "\n",
    "<s>Было бы удобнее, если бы ты вывел и прокомментировал каждый график отдельно, а в конце сформулировал основные моменты в промежуточном выводе по шагу. </div>"
   ]
  },
  {
   "cell_type": "markdown",
   "id": "05deb588",
   "metadata": {},
   "source": [
    "<div class=\"alert-info\" style=\"padding: 20px; border-radius: 10px\">\n",
    "<b>Комментарий студента 💎</b>\n",
    "\n",
    "Здесь исправил.</div>"
   ]
  },
  {
   "cell_type": "markdown",
   "id": "4fd436fc",
   "metadata": {},
   "source": [
    "Распределение по количества пользователей по городам не сильно отличается друг от друга. Больше всего в Пятигорске(219 человек), меньше всего в Москве(168 человек). Доля платных пользователей 45.6%, бесплатных 54.4%. Средний возраст пользователя 24.9, со стандартным отклонением в 4.6 лет. Минимальный возраст 12, максимальный 43. Возраст 50% выборки находится в промежутке между 22 и 28 годами. Распределение возраста близко к нормальному. Распределение данных по расстоянию поездки как будто состоит из двух нормальных. Одна группа использует самокаты что-бы ездить до 1.5 километров, со средним около 800, а другая от 1.5 до 7 км, со средним около 3300. По общей статистике для всей выборки, средняя 3.07 км, стандартное отклонение 1.1 км. Минимальная дистанция 0.8 метра, максимальная 7.211 километров. Среднее время поездки 17.8 минут, стандартное отклонение 6 минут. Минимальное время поездки 0.5 минуты, максимальное 40. Есть большое количество выбросов в районе 1й минуты. Возможно это связано с \"малым\" горбом на гистограмме расстояния."
   ]
  },
  {
   "cell_type": "markdown",
   "id": "69ec9668",
   "metadata": {},
   "source": [
    "<div class=\"alert-danger\" style=\"padding: 20px; border-radius: 10px\">\n",
    "\n",
    "<b>Комментарий ревьюера ❌</b>\n",
    "    \n",
    "<s>\n",
    "- К графику частотности городов стоит вывести таблицу с числовыми значениями\n",
    "- Не посчитано соотношение категорий пользователей (в долях или процентах от целого)\n",
    "- На гистограммах распределения стоит увеличить количество корзин\n",
    "- Нужно более подробно описать распределение данных (возраст пользователей, длительность и расстояние поездок): характерный диапазон, минимум, максимум, наличие выбросов\n",
    "- на последнем графике ничего не отображается\n",
    "    \n",
    "И проверь пожалуйста, чтобы у всех графиков в проекте было название, подписаны оси.\n",
    "</div>"
   ]
  },
  {
   "cell_type": "markdown",
   "id": "e10b0242",
   "metadata": {},
   "source": [
    "<div class=\"alert-info\" style=\"padding: 20px; border-radius: 10px\">\n",
    "<b>Комментарий студента 💎</b>\n",
    "\n",
    "Здесь исправил.</div>"
   ]
  },
  {
   "cell_type": "markdown",
   "id": "5ed1c2e4",
   "metadata": {},
   "source": [
    "<div class=\"alert-success\" style=\"padding: 20px; border-radius: 10px\">\n",
    "<b>Комментарий ревьюера V2 ✔️</b>\n",
    "\n",
    "Всё отлично: графикb наглядные и прокомментированы правильно. 👍</div>"
   ]
  },
  {
   "cell_type": "markdown",
   "id": "4ef51331",
   "metadata": {},
   "source": [
    "#### Шаг 4. Объединение данных"
   ]
  },
  {
   "cell_type": "markdown",
   "id": "dcc60ef6",
   "metadata": {},
   "source": [
    "<div class=\"alert-danger\" style=\"padding: 20px; border-radius: 10px\">\n",
    "\n",
    "<b>Комментарий ревьюера ❌</b>\n",
    "\n",
    "<s>После объединения таблиц и создания отдельных датафреймов, нужно вывести их несколько строк и проверить размерность.\n",
    "</div>"
   ]
  },
  {
   "cell_type": "markdown",
   "id": "17f93f5f",
   "metadata": {},
   "source": [
    "<div class=\"alert-info\" style=\"padding: 20px; border-radius: 10px\">\n",
    "<b>Комментарий студента 💎</b>\n",
    "\n",
    "Здесь исправил.</div>"
   ]
  },
  {
   "cell_type": "code",
   "execution_count": 11,
   "id": "6bf288b5",
   "metadata": {
    "ExecuteTime": {
     "end_time": "2023-06-24T22:15:53.690252544Z",
     "start_time": "2023-06-24T22:15:51.672657308Z"
    }
   },
   "outputs": [
    {
     "name": "stdout",
     "output_type": "stream",
     "text": [
      "Размерность:\n",
      "users - (1534, 5), rides - (18068, 5), subscriptions - (2, 4)\n",
      "должно получиться 18068 строк(join по user_id между users и rides, должно быть равно большей размерности)\n",
      "и 12 столбцов(два объединения по 'on=', вычитаем 2 столбца из суммы столбцов)\n",
      "по факту получилось 18068 строк и 12 столбцов, выведем первые 5 строк объединённой таблицы\n"
     ]
    },
    {
     "data": {
      "text/html": [
       "<div>\n",
       "<style scoped>\n",
       "    .dataframe tbody tr th:only-of-type {\n",
       "        vertical-align: middle;\n",
       "    }\n",
       "\n",
       "    .dataframe tbody tr th {\n",
       "        vertical-align: top;\n",
       "    }\n",
       "\n",
       "    .dataframe thead th {\n",
       "        text-align: right;\n",
       "    }\n",
       "</style>\n",
       "<table border=\"1\" class=\"dataframe\">\n",
       "  <thead>\n",
       "    <tr style=\"text-align: right;\">\n",
       "      <th></th>\n",
       "      <th>user_id</th>\n",
       "      <th>name</th>\n",
       "      <th>age</th>\n",
       "      <th>city</th>\n",
       "      <th>subscription_type</th>\n",
       "      <th>distance</th>\n",
       "      <th>duration</th>\n",
       "      <th>date</th>\n",
       "      <th>month</th>\n",
       "      <th>minute_price</th>\n",
       "      <th>start_ride_price</th>\n",
       "      <th>subscription_fee</th>\n",
       "    </tr>\n",
       "  </thead>\n",
       "  <tbody>\n",
       "    <tr>\n",
       "      <th>0</th>\n",
       "      <td>1</td>\n",
       "      <td>Кира</td>\n",
       "      <td>22</td>\n",
       "      <td>Тюмень</td>\n",
       "      <td>ultra</td>\n",
       "      <td>4409.919140</td>\n",
       "      <td>25.599769</td>\n",
       "      <td>2021-01-01</td>\n",
       "      <td>1</td>\n",
       "      <td>6</td>\n",
       "      <td>0</td>\n",
       "      <td>199</td>\n",
       "    </tr>\n",
       "    <tr>\n",
       "      <th>1</th>\n",
       "      <td>1</td>\n",
       "      <td>Кира</td>\n",
       "      <td>22</td>\n",
       "      <td>Тюмень</td>\n",
       "      <td>ultra</td>\n",
       "      <td>2617.592153</td>\n",
       "      <td>15.816871</td>\n",
       "      <td>2021-01-18</td>\n",
       "      <td>1</td>\n",
       "      <td>6</td>\n",
       "      <td>0</td>\n",
       "      <td>199</td>\n",
       "    </tr>\n",
       "    <tr>\n",
       "      <th>2</th>\n",
       "      <td>1</td>\n",
       "      <td>Кира</td>\n",
       "      <td>22</td>\n",
       "      <td>Тюмень</td>\n",
       "      <td>ultra</td>\n",
       "      <td>754.159807</td>\n",
       "      <td>6.232113</td>\n",
       "      <td>2021-04-20</td>\n",
       "      <td>4</td>\n",
       "      <td>6</td>\n",
       "      <td>0</td>\n",
       "      <td>199</td>\n",
       "    </tr>\n",
       "    <tr>\n",
       "      <th>3</th>\n",
       "      <td>1</td>\n",
       "      <td>Кира</td>\n",
       "      <td>22</td>\n",
       "      <td>Тюмень</td>\n",
       "      <td>ultra</td>\n",
       "      <td>2694.783254</td>\n",
       "      <td>18.511000</td>\n",
       "      <td>2021-08-11</td>\n",
       "      <td>8</td>\n",
       "      <td>6</td>\n",
       "      <td>0</td>\n",
       "      <td>199</td>\n",
       "    </tr>\n",
       "    <tr>\n",
       "      <th>4</th>\n",
       "      <td>1</td>\n",
       "      <td>Кира</td>\n",
       "      <td>22</td>\n",
       "      <td>Тюмень</td>\n",
       "      <td>ultra</td>\n",
       "      <td>4028.687306</td>\n",
       "      <td>26.265803</td>\n",
       "      <td>2021-08-28</td>\n",
       "      <td>8</td>\n",
       "      <td>6</td>\n",
       "      <td>0</td>\n",
       "      <td>199</td>\n",
       "    </tr>\n",
       "  </tbody>\n",
       "</table>\n",
       "</div>"
      ],
      "text/plain": [
       "   user_id  name  age    city subscription_type     distance   duration  \\\n",
       "0        1  Кира   22  Тюмень             ultra  4409.919140  25.599769   \n",
       "1        1  Кира   22  Тюмень             ultra  2617.592153  15.816871   \n",
       "2        1  Кира   22  Тюмень             ultra   754.159807   6.232113   \n",
       "3        1  Кира   22  Тюмень             ultra  2694.783254  18.511000   \n",
       "4        1  Кира   22  Тюмень             ultra  4028.687306  26.265803   \n",
       "\n",
       "        date  month  minute_price  start_ride_price  subscription_fee  \n",
       "0 2021-01-01      1             6                 0               199  \n",
       "1 2021-01-18      1             6                 0               199  \n",
       "2 2021-04-20      4             6                 0               199  \n",
       "3 2021-08-11      8             6                 0               199  \n",
       "4 2021-08-28      8             6                 0               199  "
      ]
     },
     "metadata": {},
     "output_type": "display_data"
    },
    {
     "data": {
      "text/html": [
       "<style type=\"text/css\">\n",
       "#T_6284f_row0_col0, #T_6284f_row1_col0, #T_6284f_row2_col0, #T_6284f_row3_col0, #T_6284f_row4_col0, #T_6284f_row5_col0, #T_6284f_row6_col0, #T_6284f_row7_col0, #T_6284f_row8_col0, #T_6284f_row9_col0, #T_6284f_row10_col0, #T_6284f_row11_col0 {\n",
       "  background-color: #3b4cc0;\n",
       "  color: #f1f1f1;\n",
       "}\n",
       "</style>\n",
       "<table id=\"T_6284f\">\n",
       "  <thead>\n",
       "    <tr>\n",
       "      <th class=\"blank level0\" >&nbsp;</th>\n",
       "      <th id=\"T_6284f_level0_col0\" class=\"col_heading level0 col0\" >0</th>\n",
       "    </tr>\n",
       "  </thead>\n",
       "  <tbody>\n",
       "    <tr>\n",
       "      <th id=\"T_6284f_level0_row0\" class=\"row_heading level0 row0\" >user_id</th>\n",
       "      <td id=\"T_6284f_row0_col0\" class=\"data row0 col0\" >0.000000</td>\n",
       "    </tr>\n",
       "    <tr>\n",
       "      <th id=\"T_6284f_level0_row1\" class=\"row_heading level0 row1\" >name</th>\n",
       "      <td id=\"T_6284f_row1_col0\" class=\"data row1 col0\" >0.000000</td>\n",
       "    </tr>\n",
       "    <tr>\n",
       "      <th id=\"T_6284f_level0_row2\" class=\"row_heading level0 row2\" >age</th>\n",
       "      <td id=\"T_6284f_row2_col0\" class=\"data row2 col0\" >0.000000</td>\n",
       "    </tr>\n",
       "    <tr>\n",
       "      <th id=\"T_6284f_level0_row3\" class=\"row_heading level0 row3\" >city</th>\n",
       "      <td id=\"T_6284f_row3_col0\" class=\"data row3 col0\" >0.000000</td>\n",
       "    </tr>\n",
       "    <tr>\n",
       "      <th id=\"T_6284f_level0_row4\" class=\"row_heading level0 row4\" >subscription_type</th>\n",
       "      <td id=\"T_6284f_row4_col0\" class=\"data row4 col0\" >0.000000</td>\n",
       "    </tr>\n",
       "    <tr>\n",
       "      <th id=\"T_6284f_level0_row5\" class=\"row_heading level0 row5\" >distance</th>\n",
       "      <td id=\"T_6284f_row5_col0\" class=\"data row5 col0\" >0.000000</td>\n",
       "    </tr>\n",
       "    <tr>\n",
       "      <th id=\"T_6284f_level0_row6\" class=\"row_heading level0 row6\" >duration</th>\n",
       "      <td id=\"T_6284f_row6_col0\" class=\"data row6 col0\" >0.000000</td>\n",
       "    </tr>\n",
       "    <tr>\n",
       "      <th id=\"T_6284f_level0_row7\" class=\"row_heading level0 row7\" >date</th>\n",
       "      <td id=\"T_6284f_row7_col0\" class=\"data row7 col0\" >0.000000</td>\n",
       "    </tr>\n",
       "    <tr>\n",
       "      <th id=\"T_6284f_level0_row8\" class=\"row_heading level0 row8\" >month</th>\n",
       "      <td id=\"T_6284f_row8_col0\" class=\"data row8 col0\" >0.000000</td>\n",
       "    </tr>\n",
       "    <tr>\n",
       "      <th id=\"T_6284f_level0_row9\" class=\"row_heading level0 row9\" >minute_price</th>\n",
       "      <td id=\"T_6284f_row9_col0\" class=\"data row9 col0\" >0.000000</td>\n",
       "    </tr>\n",
       "    <tr>\n",
       "      <th id=\"T_6284f_level0_row10\" class=\"row_heading level0 row10\" >start_ride_price</th>\n",
       "      <td id=\"T_6284f_row10_col0\" class=\"data row10 col0\" >0.000000</td>\n",
       "    </tr>\n",
       "    <tr>\n",
       "      <th id=\"T_6284f_level0_row11\" class=\"row_heading level0 row11\" >subscription_fee</th>\n",
       "      <td id=\"T_6284f_row11_col0\" class=\"data row11 col0\" >0.000000</td>\n",
       "    </tr>\n",
       "  </tbody>\n",
       "</table>\n"
      ],
      "text/plain": [
       "<pandas.io.formats.style.Styler at 0x7f76d8bb06a0>"
      ]
     },
     "metadata": {},
     "output_type": "display_data"
    },
    {
     "data": {
      "text/plain": [
       "'Значения подписки:'"
      ]
     },
     "metadata": {},
     "output_type": "display_data"
    },
    {
     "data": {
      "text/plain": [
       "array(['ultra', 'free'], dtype=object)"
      ]
     },
     "metadata": {},
     "output_type": "display_data"
    },
    {
     "name": "stdout",
     "output_type": "stream",
     "text": [
      "Разбив датасет по признаку подписки(ultra/free) получаем две таблицы размерностью (6500, 12) ultra и (11568, 12) free\n",
      "Первые 5 строк ultra\n"
     ]
    },
    {
     "data": {
      "text/html": [
       "<div>\n",
       "<style scoped>\n",
       "    .dataframe tbody tr th:only-of-type {\n",
       "        vertical-align: middle;\n",
       "    }\n",
       "\n",
       "    .dataframe tbody tr th {\n",
       "        vertical-align: top;\n",
       "    }\n",
       "\n",
       "    .dataframe thead th {\n",
       "        text-align: right;\n",
       "    }\n",
       "</style>\n",
       "<table border=\"1\" class=\"dataframe\">\n",
       "  <thead>\n",
       "    <tr style=\"text-align: right;\">\n",
       "      <th></th>\n",
       "      <th>user_id</th>\n",
       "      <th>name</th>\n",
       "      <th>age</th>\n",
       "      <th>city</th>\n",
       "      <th>subscription_type</th>\n",
       "      <th>distance</th>\n",
       "      <th>duration</th>\n",
       "      <th>date</th>\n",
       "      <th>month</th>\n",
       "      <th>minute_price</th>\n",
       "      <th>start_ride_price</th>\n",
       "      <th>subscription_fee</th>\n",
       "    </tr>\n",
       "  </thead>\n",
       "  <tbody>\n",
       "    <tr>\n",
       "      <th>0</th>\n",
       "      <td>1</td>\n",
       "      <td>Кира</td>\n",
       "      <td>22</td>\n",
       "      <td>Тюмень</td>\n",
       "      <td>ultra</td>\n",
       "      <td>4409.919140</td>\n",
       "      <td>25.599769</td>\n",
       "      <td>2021-01-01</td>\n",
       "      <td>1</td>\n",
       "      <td>6</td>\n",
       "      <td>0</td>\n",
       "      <td>199</td>\n",
       "    </tr>\n",
       "    <tr>\n",
       "      <th>1</th>\n",
       "      <td>1</td>\n",
       "      <td>Кира</td>\n",
       "      <td>22</td>\n",
       "      <td>Тюмень</td>\n",
       "      <td>ultra</td>\n",
       "      <td>2617.592153</td>\n",
       "      <td>15.816871</td>\n",
       "      <td>2021-01-18</td>\n",
       "      <td>1</td>\n",
       "      <td>6</td>\n",
       "      <td>0</td>\n",
       "      <td>199</td>\n",
       "    </tr>\n",
       "    <tr>\n",
       "      <th>2</th>\n",
       "      <td>1</td>\n",
       "      <td>Кира</td>\n",
       "      <td>22</td>\n",
       "      <td>Тюмень</td>\n",
       "      <td>ultra</td>\n",
       "      <td>754.159807</td>\n",
       "      <td>6.232113</td>\n",
       "      <td>2021-04-20</td>\n",
       "      <td>4</td>\n",
       "      <td>6</td>\n",
       "      <td>0</td>\n",
       "      <td>199</td>\n",
       "    </tr>\n",
       "    <tr>\n",
       "      <th>3</th>\n",
       "      <td>1</td>\n",
       "      <td>Кира</td>\n",
       "      <td>22</td>\n",
       "      <td>Тюмень</td>\n",
       "      <td>ultra</td>\n",
       "      <td>2694.783254</td>\n",
       "      <td>18.511000</td>\n",
       "      <td>2021-08-11</td>\n",
       "      <td>8</td>\n",
       "      <td>6</td>\n",
       "      <td>0</td>\n",
       "      <td>199</td>\n",
       "    </tr>\n",
       "    <tr>\n",
       "      <th>4</th>\n",
       "      <td>1</td>\n",
       "      <td>Кира</td>\n",
       "      <td>22</td>\n",
       "      <td>Тюмень</td>\n",
       "      <td>ultra</td>\n",
       "      <td>4028.687306</td>\n",
       "      <td>26.265803</td>\n",
       "      <td>2021-08-28</td>\n",
       "      <td>8</td>\n",
       "      <td>6</td>\n",
       "      <td>0</td>\n",
       "      <td>199</td>\n",
       "    </tr>\n",
       "  </tbody>\n",
       "</table>\n",
       "</div>"
      ],
      "text/plain": [
       "   user_id  name  age    city subscription_type     distance   duration  \\\n",
       "0        1  Кира   22  Тюмень             ultra  4409.919140  25.599769   \n",
       "1        1  Кира   22  Тюмень             ultra  2617.592153  15.816871   \n",
       "2        1  Кира   22  Тюмень             ultra   754.159807   6.232113   \n",
       "3        1  Кира   22  Тюмень             ultra  2694.783254  18.511000   \n",
       "4        1  Кира   22  Тюмень             ultra  4028.687306  26.265803   \n",
       "\n",
       "        date  month  minute_price  start_ride_price  subscription_fee  \n",
       "0 2021-01-01      1             6                 0               199  \n",
       "1 2021-01-18      1             6                 0               199  \n",
       "2 2021-04-20      4             6                 0               199  \n",
       "3 2021-08-11      8             6                 0               199  \n",
       "4 2021-08-28      8             6                 0               199  "
      ]
     },
     "metadata": {},
     "output_type": "display_data"
    },
    {
     "name": "stdout",
     "output_type": "stream",
     "text": [
      "Первые 5 строк free\n"
     ]
    },
    {
     "data": {
      "text/html": [
       "<div>\n",
       "<style scoped>\n",
       "    .dataframe tbody tr th:only-of-type {\n",
       "        vertical-align: middle;\n",
       "    }\n",
       "\n",
       "    .dataframe tbody tr th {\n",
       "        vertical-align: top;\n",
       "    }\n",
       "\n",
       "    .dataframe thead th {\n",
       "        text-align: right;\n",
       "    }\n",
       "</style>\n",
       "<table border=\"1\" class=\"dataframe\">\n",
       "  <thead>\n",
       "    <tr style=\"text-align: right;\">\n",
       "      <th></th>\n",
       "      <th>user_id</th>\n",
       "      <th>name</th>\n",
       "      <th>age</th>\n",
       "      <th>city</th>\n",
       "      <th>subscription_type</th>\n",
       "      <th>distance</th>\n",
       "      <th>duration</th>\n",
       "      <th>date</th>\n",
       "      <th>month</th>\n",
       "      <th>minute_price</th>\n",
       "      <th>start_ride_price</th>\n",
       "      <th>subscription_fee</th>\n",
       "    </tr>\n",
       "  </thead>\n",
       "  <tbody>\n",
       "    <tr>\n",
       "      <th>6500</th>\n",
       "      <td>700</td>\n",
       "      <td>Айдар</td>\n",
       "      <td>22</td>\n",
       "      <td>Омск</td>\n",
       "      <td>free</td>\n",
       "      <td>2515.690719</td>\n",
       "      <td>14.944286</td>\n",
       "      <td>2021-01-02</td>\n",
       "      <td>1</td>\n",
       "      <td>8</td>\n",
       "      <td>50</td>\n",
       "      <td>0</td>\n",
       "    </tr>\n",
       "    <tr>\n",
       "      <th>6501</th>\n",
       "      <td>700</td>\n",
       "      <td>Айдар</td>\n",
       "      <td>22</td>\n",
       "      <td>Омск</td>\n",
       "      <td>free</td>\n",
       "      <td>846.932642</td>\n",
       "      <td>16.234663</td>\n",
       "      <td>2021-02-01</td>\n",
       "      <td>2</td>\n",
       "      <td>8</td>\n",
       "      <td>50</td>\n",
       "      <td>0</td>\n",
       "    </tr>\n",
       "    <tr>\n",
       "      <th>6502</th>\n",
       "      <td>700</td>\n",
       "      <td>Айдар</td>\n",
       "      <td>22</td>\n",
       "      <td>Омск</td>\n",
       "      <td>free</td>\n",
       "      <td>4004.434142</td>\n",
       "      <td>20.016628</td>\n",
       "      <td>2021-02-04</td>\n",
       "      <td>2</td>\n",
       "      <td>8</td>\n",
       "      <td>50</td>\n",
       "      <td>0</td>\n",
       "    </tr>\n",
       "    <tr>\n",
       "      <th>6503</th>\n",
       "      <td>700</td>\n",
       "      <td>Айдар</td>\n",
       "      <td>22</td>\n",
       "      <td>Омск</td>\n",
       "      <td>free</td>\n",
       "      <td>1205.911290</td>\n",
       "      <td>9.782872</td>\n",
       "      <td>2021-02-10</td>\n",
       "      <td>2</td>\n",
       "      <td>8</td>\n",
       "      <td>50</td>\n",
       "      <td>0</td>\n",
       "    </tr>\n",
       "    <tr>\n",
       "      <th>6504</th>\n",
       "      <td>700</td>\n",
       "      <td>Айдар</td>\n",
       "      <td>22</td>\n",
       "      <td>Омск</td>\n",
       "      <td>free</td>\n",
       "      <td>3047.379435</td>\n",
       "      <td>17.427673</td>\n",
       "      <td>2021-02-14</td>\n",
       "      <td>2</td>\n",
       "      <td>8</td>\n",
       "      <td>50</td>\n",
       "      <td>0</td>\n",
       "    </tr>\n",
       "  </tbody>\n",
       "</table>\n",
       "</div>"
      ],
      "text/plain": [
       "      user_id   name  age  city subscription_type     distance   duration  \\\n",
       "6500      700  Айдар   22  Омск              free  2515.690719  14.944286   \n",
       "6501      700  Айдар   22  Омск              free   846.932642  16.234663   \n",
       "6502      700  Айдар   22  Омск              free  4004.434142  20.016628   \n",
       "6503      700  Айдар   22  Омск              free  1205.911290   9.782872   \n",
       "6504      700  Айдар   22  Омск              free  3047.379435  17.427673   \n",
       "\n",
       "           date  month  minute_price  start_ride_price  subscription_fee  \n",
       "6500 2021-01-02      1             8                50                 0  \n",
       "6501 2021-02-01      2             8                50                 0  \n",
       "6502 2021-02-04      2             8                50                 0  \n",
       "6503 2021-02-10      2             8                50                 0  \n",
       "6504 2021-02-14      2             8                50                 0  "
      ]
     },
     "metadata": {},
     "output_type": "display_data"
    }
   ],
   "source": [
    "# Объединение таблиц\n",
    "df = pd.merge(users, rides, how='left', on='user_id').merge(subscriptions, how='left', on='subscription_type')\n",
    "print(f'''Размерность:\n",
    "users - {users.shape}, rides - {rides.shape}, subscriptions - {subscriptions.shape}\n",
    "должно получиться {rides.shape[0]} строк(join по user_id между users и rides, должно быть равно большей размерности)\n",
    "и {users.shape[1] + rides.shape[1] + subscriptions.shape[1] - 2} столбцов(два объединения по 'on=', вычитаем 2 столбца из суммы столбцов)\n",
    "по факту получилось {df.shape[0]} строк и {df.shape[1]} столбцов, выведем первые 5 строк объединённой таблицы''')\n",
    "display(df.head())\n",
    "# Поскольку использовался left join проверим не образовалось ли пустых значений (пользователь зарегистрировался и не поехал)\n",
    "display(pd.DataFrame(round(df.isna().mean()*100)).style.background_gradient('coolwarm'))\n",
    "# Пустых значений нет\n",
    "# Разобъем датасет на 2 по признаку подписки\n",
    "display('Значения подписки:', df.subscription_type.unique())\n",
    "df_ultra = df[df.subscription_type == 'ultra']\n",
    "df_free = df[df.subscription_type == 'free']\n",
    "print(f'Разбив датасет по признаку подписки(ultra/free) получаем две таблицы размерностью {df_ultra.shape}\\\n",
    " ultra и {df_free.shape} free')\n",
    "print('Первые 5 строк ultra')\n",
    "display(df_ultra.head())\n",
    "print('Первые 5 строк free')\n",
    "display(df_free.head())"
   ]
  },
  {
   "cell_type": "markdown",
   "id": "9f18adbb",
   "metadata": {},
   "source": [
    "<div class=\"alert-success\" style=\"padding: 20px; border-radius: 10px\">\n",
    "<b>Комментарий ревьюера V2 ✔️</b>\n",
    "\n",
    "Данные объединены верно и отдельные датафреймы созданы правильно. 👍</div>"
   ]
  },
  {
   "cell_type": "code",
   "execution_count": 12,
   "id": "e46043b0",
   "metadata": {},
   "outputs": [
    {
     "data": {
      "image/png": "[encoded data removed]",
      "text/plain": [
       "<Figure size 720x360 with 2 Axes>"
      ]
     },
     "metadata": {
      "needs_background": "light"
     },
     "output_type": "display_data"
    },
    {
     "data": {
      "image/png": "[encoded data removed]",
      "text/plain": [
       "<Figure size 720x360 with 2 Axes>"
      ]
     },
     "metadata": {
      "needs_background": "light"
     },
     "output_type": "display_data"
    },
    {
     "data": {
      "image/png": "[encoded data removed]",
      "text/plain": [
       "<Figure size 720x360 with 2 Axes>"
      ]
     },
     "metadata": {
      "needs_background": "light"
     },
     "output_type": "display_data"
    }
   ],
   "source": [
    "# Визуализируем информацию о расстоянии и времени поездки для созданных групп.\n",
    "fig, axis = plt.subplots(1, 2 , figsize=(10, 5))\n",
    "fig.suptitle('ultra(платная подписка)')\n",
    "df_ultra.distance.plot(kind='box', title='Расстояние', ax=axis[0])\n",
    "df_ultra.duration.plot(kind='hist', title='Длительность', ax=axis[1]);\n",
    "fig, axis = plt.subplots(1, 2 , figsize=(10, 5))\n",
    "fig.suptitle('free(бесплатная подписка)')\n",
    "df_free.distance.plot(kind='box', title='Расстояние', ax=axis[0])\n",
    "df_free.duration.plot(kind='hist', title='Длительность', ax=axis[1]);\n",
    "fig, axis = plt.subplots(1, 2 , figsize=(10, 5))\n",
    "fig.suptitle('Сравнение подписок на 1 графике')\n",
    "axis[0].hist([df_ultra.distance, df_free.distance], label=['ultra', 'free'])\n",
    "axis[0].legend()\n",
    "axis[0].title.set_text('Расстояние')\n",
    "axis[1].hist([df_ultra.duration, df_free.duration], label=['ultra', 'free'])\n",
    "axis[1].legend()\n",
    "axis[1].title.set_text('Длительность')"
   ]
  },
  {
   "cell_type": "markdown",
   "id": "e91ba1d5",
   "metadata": {},
   "source": [
    "Выданные таблицы были объединены в одну, а затем разбиты по признаку подписки. По графикам видно, что пользователи ultra немного чаще ездят на средние расстояния, зато бесплатные пользователи в лидерах по поездкам на 2500, 4000 метров и до 1000 метров. Также по гистограммам можно видеть что у данных похожая дисперсия."
   ]
  },
  {
   "cell_type": "markdown",
   "id": "bcda19b6",
   "metadata": {},
   "source": [
    "<div class=\"alert-success\" style=\"padding: 20px; border-radius: 10px\">\n",
    "<b>Комментарий ревьюера ✔️</b>\n",
    "\n",
    "Со сравнением в целом согласен, можно отметить, что профили пользования самокатом у обоих категорий похожи.\n",
    "\n",
    "</div>"
   ]
  },
  {
   "cell_type": "markdown",
   "id": "f0a6f320",
   "metadata": {},
   "source": [
    "<div class=\"alert-warning\" style=\"padding: 20px; border-radius: 10px\">\n",
    "<b>Комментарий ревьюера ⚠️</b>\n",
    "    \n",
    "Не совсем согласен с этим утверждением. Далее это мы проверим в разделе проверки гипотез.\n",
    "\n",
    ">Также можно заметить что время поездки у бесплатных пользователей заметно больше чем у пользователей с подпиской."
   ]
  },
  {
   "cell_type": "markdown",
   "id": "0169c830",
   "metadata": {},
   "source": [
    "<div class=\"alert-info\" style=\"padding: 20px; border-radius: 10px\">\n",
    "<b>Комментарий студента 💎</b>\n",
    "\n",
    "Да, разница объяняется тем что бесплатных пользователей больше.</div>"
   ]
  },
  {
   "cell_type": "markdown",
   "id": "402d620f",
   "metadata": {},
   "source": [
    "#### Шаг 5. Подсчёт выручки"
   ]
  },
  {
   "cell_type": "code",
   "execution_count": 13,
   "id": "53049e0a",
   "metadata": {
    "ExecuteTime": {
     "end_time": "2023-06-24T22:15:53.800092817Z",
     "start_time": "2023-06-24T22:15:53.677147064Z"
    }
   },
   "outputs": [
    {
     "name": "stdout",
     "output_type": "stream",
     "text": [
      "Размерность датафрейма (11331, 8)\n"
     ]
    },
    {
     "data": {
      "text/html": [
       "<div>\n",
       "<style scoped>\n",
       "    .dataframe tbody tr th:only-of-type {\n",
       "        vertical-align: middle;\n",
       "    }\n",
       "\n",
       "    .dataframe tbody tr th {\n",
       "        vertical-align: top;\n",
       "    }\n",
       "\n",
       "    .dataframe thead th {\n",
       "        text-align: right;\n",
       "    }\n",
       "</style>\n",
       "<table border=\"1\" class=\"dataframe\">\n",
       "  <thead>\n",
       "    <tr style=\"text-align: right;\">\n",
       "      <th></th>\n",
       "      <th></th>\n",
       "      <th>distance_sum</th>\n",
       "      <th>rides_count</th>\n",
       "      <th>duration_sum</th>\n",
       "      <th>minute_price</th>\n",
       "      <th>start_ride_price</th>\n",
       "      <th>subscription_fee</th>\n",
       "      <th>subscription_type</th>\n",
       "      <th>user_revenue</th>\n",
       "    </tr>\n",
       "    <tr>\n",
       "      <th>month</th>\n",
       "      <th>user_id</th>\n",
       "      <th></th>\n",
       "      <th></th>\n",
       "      <th></th>\n",
       "      <th></th>\n",
       "      <th></th>\n",
       "      <th></th>\n",
       "      <th></th>\n",
       "      <th></th>\n",
       "    </tr>\n",
       "  </thead>\n",
       "  <tbody>\n",
       "    <tr>\n",
       "      <th rowspan=\"5\" valign=\"top\">1</th>\n",
       "      <th>1</th>\n",
       "      <td>7027.511294</td>\n",
       "      <td>2</td>\n",
       "      <td>42.0</td>\n",
       "      <td>6</td>\n",
       "      <td>0</td>\n",
       "      <td>199</td>\n",
       "      <td>ultra</td>\n",
       "      <td>451.0</td>\n",
       "    </tr>\n",
       "    <tr>\n",
       "      <th>3</th>\n",
       "      <td>3061.777147</td>\n",
       "      <td>1</td>\n",
       "      <td>13.0</td>\n",
       "      <td>6</td>\n",
       "      <td>0</td>\n",
       "      <td>199</td>\n",
       "      <td>ultra</td>\n",
       "      <td>277.0</td>\n",
       "    </tr>\n",
       "    <tr>\n",
       "      <th>5</th>\n",
       "      <td>3914.646990</td>\n",
       "      <td>1</td>\n",
       "      <td>13.0</td>\n",
       "      <td>6</td>\n",
       "      <td>0</td>\n",
       "      <td>199</td>\n",
       "      <td>ultra</td>\n",
       "      <td>277.0</td>\n",
       "    </tr>\n",
       "    <tr>\n",
       "      <th>7</th>\n",
       "      <td>6478.080979</td>\n",
       "      <td>2</td>\n",
       "      <td>28.0</td>\n",
       "      <td>6</td>\n",
       "      <td>0</td>\n",
       "      <td>199</td>\n",
       "      <td>ultra</td>\n",
       "      <td>367.0</td>\n",
       "    </tr>\n",
       "    <tr>\n",
       "      <th>12</th>\n",
       "      <td>3577.151148</td>\n",
       "      <td>1</td>\n",
       "      <td>33.0</td>\n",
       "      <td>6</td>\n",
       "      <td>0</td>\n",
       "      <td>199</td>\n",
       "      <td>ultra</td>\n",
       "      <td>397.0</td>\n",
       "    </tr>\n",
       "  </tbody>\n",
       "</table>\n",
       "</div>"
      ],
      "text/plain": [
       "               distance_sum  rides_count  duration_sum  minute_price  \\\n",
       "month user_id                                                          \n",
       "1     1         7027.511294            2          42.0             6   \n",
       "      3         3061.777147            1          13.0             6   \n",
       "      5         3914.646990            1          13.0             6   \n",
       "      7         6478.080979            2          28.0             6   \n",
       "      12        3577.151148            1          33.0             6   \n",
       "\n",
       "               start_ride_price  subscription_fee subscription_type  \\\n",
       "month user_id                                                         \n",
       "1     1                       0               199             ultra   \n",
       "      3                       0               199             ultra   \n",
       "      5                       0               199             ultra   \n",
       "      7                       0               199             ultra   \n",
       "      12                      0               199             ultra   \n",
       "\n",
       "               user_revenue  \n",
       "month user_id                \n",
       "1     1               451.0  \n",
       "      3               277.0  \n",
       "      5               277.0  \n",
       "      7               367.0  \n",
       "      12              397.0  "
      ]
     },
     "metadata": {},
     "output_type": "display_data"
    }
   ],
   "source": [
    "# Рассчитаем показатели необходимые для расчета выручки\n",
    "df['duration'] = np.ceil(df.duration)\n",
    "df_revenue = df.groupby(['month', 'user_id']).agg({'distance': ['sum', 'count'], 'duration': 'sum', 'minute_price': 'first',\n",
    "                                        'start_ride_price': 'first', 'subscription_fee': 'first',\n",
    "                                        'subscription_type': 'first'})\n",
    "df_revenue.columns = ['distance_sum', 'rides_count', 'duration_sum', 'minute_price',\n",
    "                      'start_ride_price', 'subscription_fee', 'subscription_type']\n",
    "# Расчитаем выручку для каждого пользователя\n",
    "df_revenue['user_revenue'] = df_revenue.apply(lambda x: x.start_ride_price * x.rides_count +\n",
    "                                                       x.minute_price * x.duration_sum + x.subscription_fee, axis=1)\n",
    "print('Размерность датафрейма', df_revenue.shape)\n",
    "display(df_revenue.head())"
   ]
  },
  {
   "cell_type": "markdown",
   "id": "2064a5b9",
   "metadata": {},
   "source": [
    "Выручка для каждого пользователя рассчитана."
   ]
  },
  {
   "cell_type": "markdown",
   "id": "415e2d1b",
   "metadata": {},
   "source": [
    "<div class=\"alert-danger\" style=\"padding: 20px; border-radius: 10px\">\n",
    "\n",
    "<b>Комментарий ревьюера ❌</b>\n",
    "\n",
    "<s>Нужно вывести несколько строк агрегированного датафрейма со столбцом выручки.\n",
    "</div>"
   ]
  },
  {
   "cell_type": "markdown",
   "id": "71bcf79e",
   "metadata": {},
   "source": [
    "<div class=\"alert-info\" style=\"padding: 20px; border-radius: 10px\">\n",
    "<b>Комментарий студента 💎</b>\n",
    "\n",
    "Здесь исправил.</div>"
   ]
  },
  {
   "cell_type": "markdown",
   "id": "cdb5731a",
   "metadata": {},
   "source": [
    "<div class=\"alert-success\" style=\"padding: 20px; border-radius: 10px\">\n",
    "<b>Комментарий ревьюера V2 ✔️</b>\n",
    "\n",
    "Выручка рассчитана правильно.</div>"
   ]
  },
  {
   "cell_type": "markdown",
   "id": "41545ac0",
   "metadata": {},
   "source": [
    "#### Шаг 6. Проверка гипотез"
   ]
  },
  {
   "cell_type": "markdown",
   "id": "494f3df5",
   "metadata": {},
   "source": [
    "<div class=\"alert-danger\" style=\"padding: 20px; border-radius: 10px\">\n",
    "\n",
    "<b>Комментарий ревьюера ❌</b>\n",
    "\n",
    "<s>\n",
    "Замечания по всему шагу проверки гипотез:\n",
    "    \n",
    "- разбить код на ячейки для проверки каждой гипотезы отдельно, согласно пунктам задания\n",
    "- перед статистическим тестом сформулировать нулевую и альтернативную гипотезы, определить пороговое значение\n",
    "- в статистические тесты добавить блок с принятием решения (сравнение p-value c порогоым значением) с помощью условия if-else\n",
    "- по итогу статистического теста сформулировать вывод, согласно запросу бизнеса\n",
    "    \n",
    "    \n",
    "    \n",
    "</div>"
   ]
  },
  {
   "cell_type": "markdown",
   "id": "0749e605",
   "metadata": {},
   "source": [
    "<div class=\"alert-info\" style=\"padding: 20px; border-radius: 10px\">\n",
    "<b>Комментарий студента 💎</b>\n",
    "\n",
    "Здесь исправил. Хотелось бы получить объяснения по задачам 6.1 и 6.3. Почему в 6.1 такое маленькое p? Стандартное отклонение равно 6, разница в 1 минуту может давать такое p? По задаче 6.3, данные описательной статистики и ttestа противоречат друг другу, как интерпретировать результат? Это всё объясняется разницей в n групп в 10%? Или это из-за того что количество поездок в группе подписаных почти в 2 раза меньше чем в группе не подписанных? Жду комментариев.</div>"
   ]
  },
  {
   "cell_type": "code",
   "execution_count": 14,
   "id": "8117ab47",
   "metadata": {},
   "outputs": [],
   "source": [
    "# Функция проверки p-value, для всех гипотез выбираю альфа = 0.05\n",
    "def compare_pval_and_alpha(pval):\n",
    "    if pval > 0.05:\n",
    "        print(\"не могу отвергнуть H_0\")\n",
    "    else:\n",
    "        print(\"отвергаем H_0 в пользу H_1\")"
   ]
  },
  {
   "cell_type": "code",
   "execution_count": 15,
   "id": "260e7966",
   "metadata": {},
   "outputs": [
    {
     "name": "stdout",
     "output_type": "stream",
     "text": [
      "P-value = 1.28e-34\n",
      "отвергаем H_0 в пользу H_1\n",
      "\n",
      "Количество поездок: подписчики - 6500, простые пользователи - 11568\n",
      "среднее время поездки подписчики - 18.54\n",
      "среднее время поездки простые пользователи - 17.39\n",
      "\n"
     ]
    }
   ],
   "source": [
    "# Тратят ли пользователи с подпиской больше времени на поездки?\n",
    "duration = st.ttest_ind(df_ultra.duration, df_free.duration, equal_var=True, alternative='greater')\n",
    "print(f'P-value = {duration.pvalue:.2e}')\n",
    "compare_pval_and_alpha(duration.pvalue)\n",
    "print(f\"\"\"\n",
    "Количество поездок: подписчики - {df_ultra.shape[0]}, простые пользователи - {df_free.shape[0]}\n",
    "среднее время поездки подписчики - {df_ultra.duration.mean():.2f}\n",
    "среднее время поездки простые пользователи - {df_free.duration.mean():.2f}\n",
    "\"\"\")\n",
    "# Попробуем уравнять выборки и заново провести ttest\n",
    "df_free_sample = df_free.sample(6500, axis=0)\n",
    "duration = st.ttest_ind(df_ultra.duration, df_free_sample.duration, equal_var=True, alternative='greater')"
   ]
  },
  {
   "cell_type": "markdown",
   "id": "7d2d1791",
   "metadata": {},
   "source": [
    "__Гипотеза 6.1__\n",
    "\n",
    "$H_0$: Пользователи с подпиской и без тратят одинаковое время на дорогу\n",
    "\n",
    "$H_1$: Пользователи с подпиской тратят больше времени на дорогу\n",
    "\n",
    "$\\alpha$: 0.05\n",
    "\n",
    "Тратят ли пользователи с подпиской больше времени на поездки? \n",
    "\n",
    "Да, вероятность получить значение средней равное или больше, которое мы наблюдали при предположении что средние выборок равны, составляет 1.28e-34, при пороговом 0.05.\n",
    "\n",
    "Ради интереса попробовал уравнять выборки, случайной выборкой 6500 значений из группы free, после чего\n",
    "повторить тест. Получил p-value 5.80e-29, альтернативная гипотеза всё равно подтверждается."
   ]
  },
  {
   "cell_type": "markdown",
   "id": "fee07ea4",
   "metadata": {},
   "source": [
    "<div class=\"alert-success\" style=\"padding: 20px; border-radius: 10px\">\n",
    "<b>Комментарий ревьюера V2 ✔️</b>\n",
    "\n",
    "Гипотеза сформулирована и проверена правильно. \n",
    "    \n",
    "P-value — величина, используемая при тестировании статистических гипотез. **Фактически это вероятность ошибки при отклонении нулевой гипотезы (ошибки первого рода)** Если коротко, то чем меньше p-value - тем больше различие между выборками. Совершенно нормально, что в результате теста оно рассчиталось, как бесконечно малая величина.</div>"
   ]
  },
  {
   "cell_type": "code",
   "execution_count": 16,
   "id": "acd88433",
   "metadata": {},
   "outputs": [
    {
     "name": "stdout",
     "output_type": "stream",
     "text": [
      "Среднее расстояние за поездку у подписчиков: 3115.4453880370247\n",
      "P-value средней при H_0 = 0.08\n",
      "не могу отвергнуть H_0\n"
     ]
    }
   ],
   "source": [
    "# Можно ли сказать, что расстояние, которое проезжают пользователи с подпиской за одну поездку, \n",
    "# не превышает 3130 метров?\n",
    "optimal_distance = st.ttest_1samp(df_ultra.distance, 3130, alternative='less')\n",
    "print(f'Среднее расстояние за поездку у подписчиков: {df_ultra.distance.mean()}')\n",
    "print(f'P-value средней при H_0 = {optimal_distance.pvalue:.2}')\n",
    "compare_pval_and_alpha(optimal_distance.pvalue)"
   ]
  },
  {
   "cell_type": "markdown",
   "id": "fc8f5d79",
   "metadata": {},
   "source": [
    "<div class=\"alert-warning\" style=\"padding: 20px; border-radius: 10px\">\n",
    "<b>Комментарий ревьюера V2 ⚠️</b>\n",
    "\n",
    "Здесь стоит установить параметр alternative равным 'greater'. Так как превышение оптимальной дистанции увеличивает износ самоката. </div>"
   ]
  },
  {
   "cell_type": "markdown",
   "id": "753a6fe6",
   "metadata": {},
   "source": [
    "__Гипотеза 6.2__\n",
    "\n",
    "$H_0$: Пользователи с подпиской проезжают в среднем 3130 метров за одну поездку\n",
    "\n",
    "$H_1$: Пользователи с подпиской проезжают в среднем менее 3130 метров за одну поездку\n",
    "\n",
    "$\\alpha$: 0.05\n",
    "\n",
    "Можно ли сказать, что расстояние, которое проезжают пользователи с подпиской за одну поездку, не превышает 3130 метров? \n",
    "\n",
    "Нет, на основании этих данных мы не можем отвергнуть нулевую гипотезу, так как при пороговом значении 0.05 вероятность получить нашу выборочную среднюю равна 0.08, что больше порогового. Следовательно различия могут быть случайными."
   ]
  },
  {
   "cell_type": "code",
   "execution_count": 17,
   "id": "23ea867b",
   "metadata": {
    "ExecuteTime": {
     "end_time": "2023-06-24T22:15:54.729654849Z",
     "start_time": "2023-06-24T22:15:53.775706987Z"
    }
   },
   "outputs": [
    {
     "name": "stdout",
     "output_type": "stream",
     "text": [
      "Результирующая таблица с выручкой за месяц по ultra и free пользователям, минимум подсвечен красным\n"
     ]
    },
    {
     "data": {
      "text/html": [
       "<style type=\"text/css\">\n",
       "#T_8426e_row0_col1, #T_8426e_row1_col1, #T_8426e_row2_col1, #T_8426e_row3_col1, #T_8426e_row4_col1, #T_8426e_row5_col1, #T_8426e_row6_col1, #T_8426e_row7_col1, #T_8426e_row8_col1, #T_8426e_row9_col1, #T_8426e_row10_col1, #T_8426e_row11_col1 {\n",
       "  color: red;\n",
       "}\n",
       "</style>\n",
       "<table id=\"T_8426e\">\n",
       "  <thead>\n",
       "    <tr>\n",
       "      <th class=\"blank level0\" >&nbsp;</th>\n",
       "      <th id=\"T_8426e_level0_col0\" class=\"col_heading level0 col0\" >free_sum</th>\n",
       "      <th id=\"T_8426e_level0_col1\" class=\"col_heading level0 col1\" >ultra_sum</th>\n",
       "    </tr>\n",
       "    <tr>\n",
       "      <th class=\"index_name level0\" >month</th>\n",
       "      <th class=\"blank col0\" >&nbsp;</th>\n",
       "      <th class=\"blank col1\" >&nbsp;</th>\n",
       "    </tr>\n",
       "  </thead>\n",
       "  <tbody>\n",
       "    <tr>\n",
       "      <th id=\"T_8426e_level0_row0\" class=\"row_heading level0 row0\" >1</th>\n",
       "      <td id=\"T_8426e_row0_col0\" class=\"data row0 col0\" >193850</td>\n",
       "      <td id=\"T_8426e_row0_col1\" class=\"data row0 col1\" >144108</td>\n",
       "    </tr>\n",
       "    <tr>\n",
       "      <th id=\"T_8426e_level0_row1\" class=\"row_heading level0 row1\" >2</th>\n",
       "      <td id=\"T_8426e_row1_col0\" class=\"data row1 col0\" >165856</td>\n",
       "      <td id=\"T_8426e_row1_col1\" class=\"data row1 col1\" >124572</td>\n",
       "    </tr>\n",
       "    <tr>\n",
       "      <th id=\"T_8426e_level0_row2\" class=\"row_heading level0 row2\" >3</th>\n",
       "      <td id=\"T_8426e_row2_col0\" class=\"data row2 col0\" >187214</td>\n",
       "      <td id=\"T_8426e_row2_col1\" class=\"data row2 col1\" >142608</td>\n",
       "    </tr>\n",
       "    <tr>\n",
       "      <th id=\"T_8426e_level0_row3\" class=\"row_heading level0 row3\" >4</th>\n",
       "      <td id=\"T_8426e_row3_col0\" class=\"data row3 col0\" >185598</td>\n",
       "      <td id=\"T_8426e_row3_col1\" class=\"data row3 col1\" >137318</td>\n",
       "    </tr>\n",
       "    <tr>\n",
       "      <th id=\"T_8426e_level0_row4\" class=\"row_heading level0 row4\" >5</th>\n",
       "      <td id=\"T_8426e_row4_col0\" class=\"data row4 col0\" >188030</td>\n",
       "      <td id=\"T_8426e_row4_col1\" class=\"data row4 col1\" >149235</td>\n",
       "    </tr>\n",
       "    <tr>\n",
       "      <th id=\"T_8426e_level0_row5\" class=\"row_heading level0 row5\" >6</th>\n",
       "      <td id=\"T_8426e_row5_col0\" class=\"data row5 col0\" >192144</td>\n",
       "      <td id=\"T_8426e_row5_col1\" class=\"data row5 col1\" >143834</td>\n",
       "    </tr>\n",
       "    <tr>\n",
       "      <th id=\"T_8426e_level0_row6\" class=\"row_heading level0 row6\" >7</th>\n",
       "      <td id=\"T_8426e_row6_col0\" class=\"data row6 col0\" >185038</td>\n",
       "      <td id=\"T_8426e_row6_col1\" class=\"data row6 col1\" >143466</td>\n",
       "    </tr>\n",
       "    <tr>\n",
       "      <th id=\"T_8426e_level0_row7\" class=\"row_heading level0 row7\" >8</th>\n",
       "      <td id=\"T_8426e_row7_col0\" class=\"data row7 col0\" >187116</td>\n",
       "      <td id=\"T_8426e_row7_col1\" class=\"data row7 col1\" >138534</td>\n",
       "    </tr>\n",
       "    <tr>\n",
       "      <th id=\"T_8426e_level0_row8\" class=\"row_heading level0 row8\" >9</th>\n",
       "      <td id=\"T_8426e_row8_col0\" class=\"data row8 col0\" >193700</td>\n",
       "      <td id=\"T_8426e_row8_col1\" class=\"data row8 col1\" >129337</td>\n",
       "    </tr>\n",
       "    <tr>\n",
       "      <th id=\"T_8426e_level0_row9\" class=\"row_heading level0 row9\" >10</th>\n",
       "      <td id=\"T_8426e_row9_col0\" class=\"data row9 col0\" >181428</td>\n",
       "      <td id=\"T_8426e_row9_col1\" class=\"data row9 col1\" >133932</td>\n",
       "    </tr>\n",
       "    <tr>\n",
       "      <th id=\"T_8426e_level0_row10\" class=\"row_heading level0 row10\" >11</th>\n",
       "      <td id=\"T_8426e_row10_col0\" class=\"data row10 col0\" >179076</td>\n",
       "      <td id=\"T_8426e_row10_col1\" class=\"data row10 col1\" >126546</td>\n",
       "    </tr>\n",
       "    <tr>\n",
       "      <th id=\"T_8426e_level0_row11\" class=\"row_heading level0 row11\" >12</th>\n",
       "      <td id=\"T_8426e_row11_col0\" class=\"data row11 col0\" >195054</td>\n",
       "      <td id=\"T_8426e_row11_col1\" class=\"data row11 col1\" >131047</td>\n",
       "    </tr>\n",
       "  </tbody>\n",
       "</table>\n"
      ],
      "text/plain": [
       "<pandas.io.formats.style.Styler at 0x7f76cceaf7c0>"
      ]
     },
     "metadata": {},
     "output_type": "display_data"
    },
    {
     "data": {
      "image/png": "[encoded data removed]",
      "text/plain": [
       "<Figure size 432x288 with 1 Axes>"
      ]
     },
     "metadata": {
      "needs_background": "light"
     },
     "output_type": "display_data"
    }
   ],
   "source": [
    "# Будет ли помесячная выручка от пользователей с подпиской по месяцам выше, \n",
    "# чем выручка от пользователей без подписки?\n",
    "# Начнем с рассчета абсолютных значений\n",
    "# Добавляем столбец цена одной поездки\n",
    "df['ride_price'] = df.apply(lambda x: x.start_ride_price + x.minute_price * x.duration, axis=1)\n",
    "\"\"\"\n",
    "Сделаем сводную таблицу, где индексами будут месяцы, а столбцами сумма денег за все поездки free\n",
    "пользователей, сумма денег за все поездки ultra пользователей и 2 столбца количество уникальных пользователей\n",
    "умноженое на стоимость подписки для free и ultra, столбец для free получается как побочный эффект\n",
    "в результате вычислений, я его удалю потом.\n",
    "\"\"\"\n",
    "price_diff = df.pivot_table(index='month', columns='subscription_type', values=['ride_price', 'user_id'],\n",
    "                            aggfunc={'ride_price': 'sum', 'user_id': lambda x: x.nunique()*199})\n",
    "# Переименуем столбцы что-бы не мучаться с мультииндексом\n",
    "price_diff.columns = ['free_sum', 'ultra_sum', 'free_fees', 'ultra_fees']\n",
    "# Сложим столбцы ultra_sum и ultra_fees\n",
    "price_diff['ultra_sum'] = price_diff.ultra_sum + price_diff.ultra_fees\n",
    "# Удалим не нужные теперь столбцы с подпиской помноженной на количество уников\n",
    "price_diff.drop(['free_fees', 'ultra_fees'], axis=1, inplace=True)\n",
    "print(f'Результирующая таблица с выручкой за месяц по ultra и free пользователям, минимум подсвечен красным')\n",
    "display(price_diff.astype(int).style.highlight_min(axis=1, props='color:red;'))\n",
    "# Для наглядности построим столбиковую диаграмму\n",
    "fig, axis = plt.subplots()\n",
    "fig.suptitle('Сумма выручки от пользователей с подпиской и без')\n",
    "bar_index = list(price_diff.index)\n",
    "axis.bar(bar_index, price_diff.free_sum, align = 'edge', width=-0.4, color='green', label='free_sum')\n",
    "axis.bar(bar_index, price_diff.ultra_sum, align = 'edge', width=0.4, color='orange', label='ultra_sum')\n",
    "axis.legend(loc='lower right');"
   ]
  },
  {
   "cell_type": "code",
   "execution_count": 18,
   "id": "95ffecc4",
   "metadata": {},
   "outputs": [
    {
     "name": "stdout",
     "output_type": "stream",
     "text": [
      "Общая статистика за весь период\n"
     ]
    },
    {
     "data": {
      "text/html": [
       "<style type=\"text/css\">\n",
       "#T_11e12_row0_col0, #T_11e12_row0_col1, #T_11e12_row1_col1, #T_11e12_row2_col1, #T_11e12_row3_col1, #T_11e12_row4_col1, #T_11e12_row5_col1, #T_11e12_row6_col1, #T_11e12_row7_col1 {\n",
       "  color: red;\n",
       "}\n",
       "</style>\n",
       "<table id=\"T_11e12\">\n",
       "  <thead>\n",
       "    <tr>\n",
       "      <th class=\"blank level0\" >&nbsp;</th>\n",
       "      <th id=\"T_11e12_level0_col0\" class=\"col_heading level0 col0\" >free_sum</th>\n",
       "      <th id=\"T_11e12_level0_col1\" class=\"col_heading level0 col1\" >ultra_sum</th>\n",
       "    </tr>\n",
       "  </thead>\n",
       "  <tbody>\n",
       "    <tr>\n",
       "      <th id=\"T_11e12_level0_row0\" class=\"row_heading level0 row0\" >count</th>\n",
       "      <td id=\"T_11e12_row0_col0\" class=\"data row0 col0\" >12.000000</td>\n",
       "      <td id=\"T_11e12_row0_col1\" class=\"data row0 col1\" >12.000000</td>\n",
       "    </tr>\n",
       "    <tr>\n",
       "      <th id=\"T_11e12_level0_row1\" class=\"row_heading level0 row1\" >mean</th>\n",
       "      <td id=\"T_11e12_row1_col0\" class=\"data row1 col0\" >186175.333333</td>\n",
       "      <td id=\"T_11e12_row1_col1\" class=\"data row1 col1\" >137044.750000</td>\n",
       "    </tr>\n",
       "    <tr>\n",
       "      <th id=\"T_11e12_level0_row2\" class=\"row_heading level0 row2\" >std</th>\n",
       "      <td id=\"T_11e12_row2_col0\" class=\"data row2 col0\" >8106.227385</td>\n",
       "      <td id=\"T_11e12_row2_col1\" class=\"data row2 col1\" >7919.625888</td>\n",
       "    </tr>\n",
       "    <tr>\n",
       "      <th id=\"T_11e12_level0_row3\" class=\"row_heading level0 row3\" >min</th>\n",
       "      <td id=\"T_11e12_row3_col0\" class=\"data row3 col0\" >165856.000000</td>\n",
       "      <td id=\"T_11e12_row3_col1\" class=\"data row3 col1\" >124572.000000</td>\n",
       "    </tr>\n",
       "    <tr>\n",
       "      <th id=\"T_11e12_level0_row4\" class=\"row_heading level0 row4\" >25%</th>\n",
       "      <td id=\"T_11e12_row4_col0\" class=\"data row4 col0\" >184135.500000</td>\n",
       "      <td id=\"T_11e12_row4_col1\" class=\"data row4 col1\" >130619.500000</td>\n",
       "    </tr>\n",
       "    <tr>\n",
       "      <th id=\"T_11e12_level0_row5\" class=\"row_heading level0 row5\" >50%</th>\n",
       "      <td id=\"T_11e12_row5_col0\" class=\"data row5 col0\" >187165.000000</td>\n",
       "      <td id=\"T_11e12_row5_col1\" class=\"data row5 col1\" >137926.000000</td>\n",
       "    </tr>\n",
       "    <tr>\n",
       "      <th id=\"T_11e12_level0_row6\" class=\"row_heading level0 row6\" >75%</th>\n",
       "      <td id=\"T_11e12_row6_col0\" class=\"data row6 col0\" >192533.000000</td>\n",
       "      <td id=\"T_11e12_row6_col1\" class=\"data row6 col1\" >143558.000000</td>\n",
       "    </tr>\n",
       "    <tr>\n",
       "      <th id=\"T_11e12_level0_row7\" class=\"row_heading level0 row7\" >max</th>\n",
       "      <td id=\"T_11e12_row7_col0\" class=\"data row7 col0\" >195054.000000</td>\n",
       "      <td id=\"T_11e12_row7_col1\" class=\"data row7 col1\" >149235.000000</td>\n",
       "    </tr>\n",
       "  </tbody>\n",
       "</table>\n"
      ],
      "text/plain": [
       "<pandas.io.formats.style.Styler at 0x7f76cce0a5b0>"
      ]
     },
     "metadata": {},
     "output_type": "display_data"
    },
    {
     "name": "stdout",
     "output_type": "stream",
     "text": [
      "% выручки\n"
     ]
    },
    {
     "data": {
      "image/png": "[encoded data removed]",
      "text/plain": [
       "<Figure size 432x720 with 1 Axes>"
      ]
     },
     "metadata": {},
     "output_type": "display_data"
    }
   ],
   "source": [
    "# Выручка по ultra/free за весь период\n",
    "print('Общая статистика за весь период')\n",
    "display(price_diff.describe().style.highlight_min(axis=1, props='color:red;'))\n",
    "# Сумма за весь период\n",
    "print('% выручки')\n",
    "price_diff.sum().rename('sum_over_period').plot(y='sum_over_period', kind='pie', title=\"% выручки\",\n",
    "                                                autopct='%1.1f%%', figsize=(6, 10), legend=True, \n",
    "                                                table=True);"
   ]
  },
  {
   "cell_type": "code",
   "execution_count": 19,
   "id": "30ce206e",
   "metadata": {},
   "outputs": [
    {
     "name": "stdout",
     "output_type": "stream",
     "text": [
      "Проверка нулевой гипотезы, сравниваем выборки по месяцам\n",
      "p-value = 1.885e-31\n",
      "отвергаем H_0 в пользу H_1\n",
      "Для интереса, сравним выборки для каждого месяца\n",
      "месяц - значение p\n",
      "1 - 2.533e-06\n",
      "отвергаем H_0 в пользу H_1\n",
      "2 - 1.209e-04\n",
      "отвергаем H_0 в пользу H_1\n",
      "3 - 1.073e-02\n",
      "отвергаем H_0 в пользу H_1\n",
      "4 - 1.067e-03\n",
      "отвергаем H_0 в пользу H_1\n",
      "5 - 3.296e-05\n",
      "отвергаем H_0 в пользу H_1\n",
      "6 - 1.771e-04\n",
      "отвергаем H_0 в пользу H_1\n",
      "7 - 8.365e-05\n",
      "отвергаем H_0 в пользу H_1\n",
      "8 - 2.172e-03\n",
      "отвергаем H_0 в пользу H_1\n",
      "9 - 2.163e-03\n",
      "отвергаем H_0 в пользу H_1\n",
      "10 - 1.884e-03\n",
      "отвергаем H_0 в пользу H_1\n",
      "11 - 1.781e-04\n",
      "отвергаем H_0 в пользу H_1\n",
      "12 - 1.211e-03\n",
      "отвергаем H_0 в пользу H_1\n"
     ]
    }
   ],
   "source": [
    "df_ultra_monthly_rev = df_revenue[df_revenue['subscription_type']=='ultra']\n",
    "df_free_monthly_rev = df_revenue[df_revenue['subscription_type']=='free']\n",
    "print(\"Проверка нулевой гипотезы, сравниваем выборки по месяцам\")\n",
    "result = st.ttest_ind(df_ultra_monthly_rev.user_revenue, df_free_monthly_rev.user_revenue,\n",
    "                      alternative='greater')\n",
    "print(f'p-value = {result.pvalue:.3e}')\n",
    "compare_pval_and_alpha(result.pvalue)\n",
    "print(\"Для интереса, сравним выборки для каждого месяца\")\n",
    "months = dict()\n",
    "for df_ultra_, df_free_ in zip(df_ultra_monthly_rev.groupby(level=0), df_free_monthly_rev.groupby(level=0)):\n",
    "    month, df_ultra_ = df_ultra_\n",
    "    month, df_free_ = df_free_\n",
    "    result = st.ttest_ind(df_ultra_.user_revenue, df_free_.user_revenue,\n",
    "                          alternative='greater')\n",
    "    months[month] = result.pvalue\n",
    "print(\"месяц - значение p\")\n",
    "for month, pval in months.items():\n",
    "    print(f'{month} - {pval:.3e}')\n",
    "    compare_pval_and_alpha(pval)"
   ]
  },
  {
   "cell_type": "markdown",
   "id": "ebec184c",
   "metadata": {},
   "source": [
    "__Гипотеза 6.3__\n",
    "\n",
    "Из описания задания достоверно не известно генеральная эта совокупность данных или нет, но исходя из малого количества пользователей(1565 человек) предположим что нет. Поэтому начнём с анализа абсолютных данных.\n",
    "Из сводной таблицы видно что в каждом месяце за 2021 год выручка полученная от группы ultra была ниже чем выручка от группы free. Это более наглядно демонстрирует столбиковая диаграмма. В среднем группа free приносила в месяц 186 тысяч рублей, тогда как ultra 137 тысяч. Выручка за 2021 год которую принесла группа free составила 2.23 миллиона рублей, в то время как ultra только 1.64 миллиона, разница около 15%.\n",
    "\n",
    "t test\n",
    "\n",
    "$H_0$: Пользователи с подпиской и без подписки по месяцам приносят одинаковую выручку\n",
    "\n",
    "$H_1$: Пользователи с подпиской по месяцам приносят большую выручку\n",
    "\n",
    "$\\alpha$: 0.05\n",
    "\n",
    "По результатам t-test мы с уверенностью отвергаем нулевую гипотезу. P-value сильно меньше 0.05 и равно 1.885e-31.\n",
    "\n",
    "Дополнительно были проведены тесты для каждого месяца по отдельности, нулевая гипотеза была отвергнута во всех случаях.\n",
    "\n",
    "__Вывод__ достаточно противоречивый. С одной стороны описательная статистика показывает что пользователи группы free приносят больше денег, но t-test показывает обратное с большой вероятностью."
   ]
  },
  {
   "cell_type": "markdown",
   "id": "ecb22e44",
   "metadata": {},
   "source": [
    "<div class=\"alert-success\" style=\"padding: 20px; border-radius: 10px\">\n",
    "<b>Комментарий ревьюера V2 ✔️</b>\n",
    "\n",
    "Результат теста правильный. Обрати внимание, что мы сравниваем не суммарные выручки (а так как пользователей без подписки больше и поездок у них больше - она и будет больше), а среднемесячные выручки. Для проверки, можешь рассчитать средние величины.</div>"
   ]
  },
  {
   "attachments": {
    "image.png": {
     "image/png": "[encoded data removed]"
    }
   },
   "cell_type": "markdown",
   "id": "92f8e116",
   "metadata": {},
   "source": [
    "<div class=\"alert-danger\" style=\"padding: 20px; border-radius: 10px\">\n",
    "\n",
    "<b>Комментарий ревьюера ❌</b>\n",
    "\n",
    "<s>Код падает с ошибкой\n",
    "\n",
    "![image.png](attachment:image.png)"
   ]
  },
  {
   "cell_type": "markdown",
   "id": "ee0b9d2c",
   "metadata": {},
   "source": [
    "<div class=\"alert-info\" style=\"padding: 20px; border-radius: 10px\">\n",
    "<b>Комментарий студента 💎</b>\n",
    "\n",
    "У вас очень старые библиотеки установлены в облаке практикума, у пандаса была версия 1.3.2, хотя уже вышла 2.0.2. Первой ячейкой добавил комманды pip которые их устанавливают, в облаке практикума оказывается так можно. Правда похоже что они сохраняются только для текущего ядра.</div>"
   ]
  },
  {
   "cell_type": "markdown",
   "id": "f95ae80c",
   "metadata": {},
   "source": [
    "__Гипотеза 6.4__ \n",
    "\n",
    "$H_0$: Количество обращений до и после обновления приложения не изменилось\n",
    "\n",
    "$H_1$: Количество обращений после обновления приложения снизилось\n",
    "\n",
    "$\\alpha$: 0.05\n",
    "\n",
    "Для проверки гипотезы необходимо использовать scipy.stats.ttest_rel, потому что у нас парная выборка до и после измерения, одни и те же люди. Также необходимо передать методу параметр alternative='less', для того что-бы проверить левый хвост."
   ]
  },
  {
   "cell_type": "markdown",
   "id": "17c9ebf3",
   "metadata": {},
   "source": [
    "<div class=\"alert-success\" style=\"padding: 20px; border-radius: 10px\">\n",
    "<b>Комментарий ревьюера V2 ✔️</b>\n",
    "\n",
    "Верно.</div>"
   ]
  },
  {
   "cell_type": "markdown",
   "id": "3e328222",
   "metadata": {},
   "source": [
    "__Вывод__\n",
    "\n",
    "В задании 6.1 $H_0$ отвергается, пользователи с подпиской тратят больше времени на дорогу. Среднее время поездки у подписчиков - 18.54, а у простых пользователей - 17.39 минут. P-value составляет 1.28e-34, при пороговом 0.05.\n",
    "\n",
    "В задании 6.2 $H_0$(Пользователи с подпиской проезжают в среднем 3130 метров за одну поездку) не отвергается так как p-value = 0.08, что больше выбранного порогового значения 0.05. Среднее расстояние за поездку у подписчиков: 3114.\n",
    "\n",
    "В задании 6.3 я сначала посчитал описательную статистику. Из сводной таблицы видно что в каждом месяце за 2021 год выручка полученная от группы ultra была ниже чем выручка от группы free. В среднем группа free приносила в месяц 186 тысяч рублей, тогда как ultra 137 тысяч. Выручка за 2021 год которую принесла группа free составила 2.23 миллиона рублей, в то время как ultra только 1.64 миллиона, разница около 15%.\n",
    "Затем был проведён t-test c $H_0$: пользователи с подпиской и без подписки по месяцам приносят одинаковую выручку, $H_1$: пользователи с подпиской по месяцам приносят большую выручку и $\\alpha$: 0.05. P-value сильно меньше 0.05 и равно 1.885e-31. $H_0$ отвергается. Дополнительно были проведены тесты для каждого месяца по отдельности, нулевая гипотеза была отвергнута во всех случаях.\n",
    "\n",
    "В задании 6.4 для проверки альтернативной гипотезы о том что количество обращений в поддержку снизилось необходимо использовать scipy.stats.ttest_rel, потому что у нас парная выборка до и после измерения, одни и те же люди. Также необходимо передать методу параметр alternative='less', для того что-бы проверить левый хвост.\n",
    "\n",
    "Итого статистический тест Стьюдента говорит о том что подписанные пользователи приносят больше выручки. Но в то же время описательная статистика говорит об обратном. Количество подписанных пользователей в выборке на 10% меньше чем обычных, но в то же время, для данной выборки, обычные пользователи приносят 15% больше выручки."
   ]
  },
  {
   "cell_type": "markdown",
   "id": "61213c5e",
   "metadata": {},
   "source": [
    "#### Шаг 7. Распределения"
   ]
  },
  {
   "cell_type": "code",
   "execution_count": 20,
   "id": "95cd1d51",
   "metadata": {
    "ExecuteTime": {
     "end_time": "2023-06-24T22:21:37.809255213Z",
     "start_time": "2023-06-24T22:21:36.271685865Z"
    }
   },
   "outputs": [
    {
     "name": "stdout",
     "output_type": "stream",
     "text": [
      "Минимально допустимое значение: 1172 промокодов, при этом вероятность не выполнить план 0.04954795210203071\n"
     ]
    },
    {
     "data": {
      "image/png": "[encoded data removed]",
      "text/plain": [
       "<Figure size 432x288 with 1 Axes>"
      ]
     },
     "metadata": {
      "needs_background": "light"
     },
     "output_type": "display_data"
    },
    {
     "data": {
      "image/png": "[encoded data removed]",
      "text/plain": [
       "<Figure size 432x288 with 1 Axes>"
      ]
     },
     "metadata": {
      "needs_background": "light"
     },
     "output_type": "display_data"
    }
   ],
   "source": [
    "# Стартовая точка вероятность 10% и 1000 испытаний, что-бы среднее было 100\n",
    "p = 0.1\n",
    "n = 1000\n",
    "\n",
    "my_dist = st.binom(n, p)\n",
    "\n",
    "# Построим график от 1% до 99%\n",
    "fig, ax = plt.subplots(1, 1)\n",
    "x = np.arange(my_dist.ppf(0.01),\n",
    "              my_dist.ppf(0.99))\n",
    "ax.plot(x, st.binom.pmf(x, n, p), 'bo', ms=8, label='binom pmf')\n",
    "ax.vlines(x, 0, st.binom.pmf(x, n, p), colors='b', lw=5, alpha=0.5)\n",
    "fig.suptitle('PMF для n=100 и p = 0.1')\n",
    "# в нашей стартовой точке отсечке в 5% соответствует цифра 85 приглашений\n",
    "# Попробуем метод перебора\n",
    "simulation = {n: prob for n, prob in {n: st.binom(n, p).cdf(100) for n in range(1001, 1500)}.items() if prob <= 0.05}\n",
    "n = next(iter(simulation))\n",
    "print(f'Минимально допустимое значение: {n} промокодов, при этом вероятность не выполнить план {simulation[n]}')\n",
    "# Построим график функции cdf\n",
    "vals = st.binom(1172, 0.1).rvs(size=1000)\n",
    "probs = st.binom(1172, 0.1).cdf(vals)\n",
    "to_plot_cdf = pd.DataFrame([pd.Series(vals, name='vals'), pd.Series(probs, name='probs')]).T.sort_values('vals')\n",
    "to_plot_cdf.plot(x='vals', y='probs', kind='line', title='Функция CDF для минимально возможного n');\n"
   ]
  },
  {
   "cell_type": "markdown",
   "id": "e71d2202",
   "metadata": {},
   "source": [
    "В этой задаче я рассчитал минимально допустимое значение количества промокодов, который должен разослать отдел маркетинга для достижения целевого показателя в минимум 100 продлений бесплатной подписки с шансом неудачи в менее чем 5%. Для первоначальной оценки была использована функция PDF, а затем с помощью симуляции функции CDF было подобрано такое число разосланых промокодов что-бы вероятность неудачи была 5 или менее процентов, оно равно 1172. С увеличением числа промокодов вероятность неудачи будет неуклонно снижаться."
   ]
  },
  {
   "cell_type": "code",
   "execution_count": 21,
   "id": "190b4e55",
   "metadata": {
    "ExecuteTime": {
     "end_time": "2023-06-24T23:01:24.463742013Z",
     "start_time": "2023-06-24T23:01:23.898442670Z"
    }
   },
   "outputs": [
    {
     "name": "stdout",
     "output_type": "stream",
     "text": [
      "Вероятность того что уведомление откроет не более 399.5 тысяч человек составляет 15.4%\n"
     ]
    },
    {
     "data": {
      "image/png": "[encoded data removed]",
      "text/plain": [
       "<Figure size 432x288 with 1 Axes>"
      ]
     },
     "metadata": {
      "needs_background": "light"
     },
     "output_type": "display_data"
    },
    {
     "data": {
      "image/png": "[encoded data removed]",
      "text/plain": [
       "<Figure size 432x288 with 1 Axes>"
      ]
     },
     "metadata": {
      "needs_background": "light"
     },
     "output_type": "display_data"
    }
   ],
   "source": [
    "# Условия задачи\n",
    "n = 1_000_000\n",
    "p = 0.4\n",
    "# Построим нормальное распределение на основе данных задачи\n",
    "fig, ax = plt.subplots(1, 1)\n",
    "x = np.linspace(0, 1_000_000)\n",
    "ax.plot(x, st.norm.pdf(x, n*p, math.sqrt(n*p*(1-p))), 'r-', lw=5, alpha=0.6)\n",
    "fig.suptitle('Функция PDF для распределения по количеству успехов открытия пуш уведомления')\n",
    "fig, ax = plt.subplots(1, 1)\n",
    "ax.plot(x, st.norm.cdf(x, n*p, math.sqrt(n*p*(1-p))), 'r-', lw=5, alpha=0.6)\n",
    "fig.suptitle('Функция CDF для распределения по количеству успехов открытия пуш уведомления')\n",
    "\n",
    "# Рассчитаем вероятность открытия уведомления не более чем 399_500 пользователями\n",
    "print(f'Вероятность того что уведомление откроет не более 399.5 тысяч человек составляет\\\n",
    " {st.norm.cdf(399_500, n*p, math.sqrt(n*p*(1-p)))*100:.1f}%')\n"
   ]
  },
  {
   "cell_type": "markdown",
   "id": "ece2df2c",
   "metadata": {},
   "source": [
    "В этой задаче я оценил вероятность того что пуш уведомление откроют не более 399.5 тысяч пользователей приложения. Исходных данных не было, поэтому работал с предоставленными статистиками n и p. Биномиальное распределение было аппроксимировано нормальным согласно центральной предельной теореме. Были построены графики PDF и CDF нормального распределения, затем при помощи функции CDF была рассчитана вероятность для значения 399500. Таким образом вероятность того что уведомление откроют 399.5 тысяч пользователей или менее составила 15.4%"
   ]
  },
  {
   "cell_type": "markdown",
   "id": "67e89312",
   "metadata": {},
   "source": [
    "<div class=\"alert-info\" style=\"padding: 20px; border-radius: 10px\">\n",
    "<b>Комментарий студента 💎</b>\n",
    "\n",
    "А вот ниже у тебя по моему ошибка с корнем.</div>"
   ]
  },
  {
   "cell_type": "markdown",
   "id": "3438efd3",
   "metadata": {},
   "source": [
    "<div class=\"alert-warning\" style=\"padding: 20px; border-radius: 10px\">\n",
    "<b>Комментарий ревьюера ⚠️</b>\n",
    "\n",
    "Вероятность \"хвоста\" слева от слева от 399,5 тысяч можно рассчитать по формуле. \n",
    "\n",
    "```py\n",
    "st.norm(sqrt(n * p, n * p * (1 - p)).cdf(339500))\n",
    "```\n",
    "    "
   ]
  },
  {
   "cell_type": "code",
   "execution_count": 22,
   "id": "3d63b119",
   "metadata": {},
   "outputs": [
    {
     "data": {
      "text/plain": [
       "0.15371708296369768"
      ]
     },
     "execution_count": 22,
     "metadata": {},
     "output_type": "execute_result"
    }
   ],
   "source": [
    "#Код ревьюера\n",
    "from math import sqrt \n",
    "st.norm(n * p, sqrt(n * p * (1 - p))).cdf(399500)"
   ]
  },
  {
   "cell_type": "markdown",
   "id": "c239733c",
   "metadata": {},
   "source": [
    "<div class=\"alert-info\" style=\"padding: 20px; border-radius: 10px\">\n",
    "<b>Комментарий студента 💎</b>\n",
    "\n",
    "Исправил, стало понятнее</div>"
   ]
  },
  {
   "cell_type": "markdown",
   "id": "415893fa",
   "metadata": {},
   "source": [
    "#### Шаг 8. Вывод"
   ]
  },
  {
   "cell_type": "markdown",
   "id": "f7a1ab50",
   "metadata": {},
   "source": [
    "На входе были получены данные об использовании самокатов и 2 дополнительных вопроса. Работа состояла из 3‑х основных этапов:\n",
    "- очистка, обработка и предварительный анализ полученных данных\n",
    "- проверка статистических гипотез на очищенных данных\n",
    "- ответы на дополнительные вопросы\n",
    "\n",
    "На первом этапе таблицы были проверены на пропущенные значения(которых не оказалось), удалены полные дубликаты, поменяны типы столбцов, где это было необходимо. Добавлен рассчитываемый столбец \"месяц\". Для общего ознакомления с данным были построены распределения по городам, по возрасту пользователя, по длительности поездки, по дальности поездки и отношение подписанных и не подписанных пользователей. Распределение по количества пользователей по городам не сильно отличается друг от друга. Больше всего в Пятигорске(219 человек), меньше всего в Москве(168 человек). Доля платных пользователей 45.6%, бесплатных 54.4%. Средний возраст 24.9, со стандартным отклонением в 4.6 лет. Минимальный возраст 12, максимальный 43. Возраст 50% выборки находится в промежутке между 22 и 28 годами. Распределение близко к нормальному. Распределение расстояний поездки как будто состоит из двух нормальных. Одна группа использует самокаты что-бы ездить до 1.5 километров, со средним около 800, а другая от 1.5 до 7 км, со средним около 3300. По общей статистике для всей выборки, средняя 3.07 км, стандартное отклонение 1.1 км. Минимальная дистанция 0.8 метра, максимальная 7.211 километров. Среднее время поездки 17.8 минут, стандартное отклонение 6 минут. Минимальное время поездки 0.5 минуты, максимальное 40. Есть большое количество выбросов в районе 1й минуты. Возможно это связано с \"малым\" горбом на гистограмме расстояния.\n",
    "\n",
    "Затем выданные таблицы были объединены в одну. Поездки и пользователи по полю 'user_id', а затем объединенная таблица по полю 'subscription_type' с таблицей содержащей цены. Всего в объединённой таблице содержится информация о 1534 пользователях, 18068 поездках и о типе поездки подписки - free/ultra.\n",
    "\n",
    "После того объединения обогащённая таблица была разбита на 2, по столбцу 'subscription_type', подписан/не подписан. Далее я построил сравнительные графики по этим двум таблицам. По графикам видно, что пользователи ultra немного чаще ездят на средние расстояния, зато бесплатные пользователи в лидерах по поездкам на 2500, 4000 метров и до 1000 метров. Также по гистограммам можно видеть что у данных похожая дисперсия. \n",
    "\n",
    "Далее для каждого пользователя была рассчитана выручка по формуле: (стоимость старта поездки × количество поездок) + стоимость одной минуты поездки × общая продолжительность всех поездок в минутах) + стоимость подписки, группировка была по месяцам и id пользователя.\n",
    "\n",
    "На втором этапе были даны ответы на следующие вопросы:\n",
    "- Тратят ли пользователи с подпиской больше времени на поездки?\n",
    "    Да, вероятность получить значение средней равное или больше, которое мы наблюдали при предположении что средние выборок равны, составляет 1.28e-34, при пороговом 0.05.\n",
    "- Можно ли сказать, что расстояние, которое проезжают пользователи с подпиской за одну поездку, не превышает 3130 метров?\n",
    "    Нет, на основании этих данных мы не можем отвергнуть нулевую гипотезу, так как при пороговом значении 0.05 вероятность получить нашу выборочную среднюю равна 0.08, что больше порогового. Следовательно различия могут быть случайными.\n",
    "- Будет ли помесячная выручка от пользователей с подпиской по месяцам выше, чем выручка от пользователей без подписки?\n",
    "    Из описания задания достоверно не известно генеральная эта совокупность данных или нет, но исходя из малого количества пользователей(1565 человек) предположим что нет. Поэтому начнём с анализа абсолютных данных. Из сводной таблицы видно что в каждом месяце за 2021 год выручка полученная от группы ultra была ниже чем выручка от группы free. Это более наглядно демонстрирует столбиковая диаграмма. В среднем группа free приносила в месяц 186 тысяч рублей, тогда как ultra 137 тысяч. Выручка за 2021 год которую принесла группа free составила 2.23 миллиона рублей, в то время как ultra только 1.64 миллиона, разница около 15%. По результатам t-test мы с уверенностью отвергаем нулевую гипотезу, которая говорит о том что помесячная выручка равна в обеих группах. P-value сильно меньше 0.05 и равно 1.885e-31. Дополнительно были проведены тесты для каждого месяца по отдельности, нулевая гипотеза была отвергнута во всех случаях. __Итог__ по вопросу достаточно противоречивый. С одной стороны описательная статистика показывает что пользователи группы free приносят больше денег, но t-test показывает обратное с большой вероятностью.\n",
    "- Cнизилось ли количество обращений в тех. поддержку после обновления приложения?\n",
    "    Для проверки гипотезы необходимо использовать scipy.stats.ttest_rel, потому что у нас парная выборка до и после измерения, одни и те же люди. Также необходимо передать методу параметр alternative='less', для того что-бы проверить левый хвост. Поскольку данных нет, то показателей тоже нет.\n",
    "   \n",
    "__Общий вывод по предоставленым данным__:\n",
    "\n",
    "В задании 6.1 $H_0$ отвергается, пользователи с подпиской тратят больше времени на дорогу. Среднее время поездки у подписчиков - 18.54, а у простых пользователей - 17.39 минут. P-value составляет 1.28e-34, при пороговом 0.05.\n",
    "\n",
    "В задании 6.2 $H_0$(Пользователи с подпиской проезжают в среднем 3130 метров за одну поездку) не отвергается так как p-value = 0.08, что больше выбранного порогового значения 0.05. Среднее расстояние за поездку у подписчиков: 3114.\n",
    "\n",
    "В задании 6.3 я сначала посчитал описательную статистику. Из сводной таблицы видно что в каждом месяце за 2021 год выручка полученная от группы ultra была ниже чем выручка от группы free. В среднем группа free приносила в месяц 186 тысяч рублей, тогда как ultra 137 тысяч. Выручка за 2021 год которую принесла группа free составила 2.23 миллиона рублей, в то время как ultra только 1.64 миллиона, разница около 15%.\n",
    "Затем был проведён t-test c $H_0$: пользователи с подпиской и без подписки по месяцам приносят одинаковую выручку, $H_1$: пользователи с подпиской по месяцам приносят большую выручку и $\\alpha$: 0.05. P-value сильно меньше 0.05 и равно 1.885e-31. $H_0$ отвергается. Дополнительно были проведены тесты для каждого месяца по отдельности, нулевая гипотеза была отвергнута во всех случаях.\n",
    "\n",
    "В задании 6.4 для проверки альтернативной гипотезы о том что количество обращений в поддержку снизилось необходимо использовать scipy.stats.ttest_rel, потому что у нас парная выборка до и после измерения, одни и те же люди. Также необходимо передать методу параметр alternative='less', для того что-бы проверить левый хвост.\n",
    "\n",
    "Итого статистический тест Стьюдента говорит о том что подписанные пользователи приносят больше выручки. Но в то же время описательная статистика говорит об обратном. Количество подписанных пользователей в выборке на 10% меньше чем обычных, но в то же время, для данной выборки, обычные пользователи приносят 15% больше выручки.\n",
    "\n",
    "__Вывод для бизнеса__:\n",
    "Случайно выбранный подписчик приносит больше выручки в сравнении со случайно выбранным бесплатным пользователем. Но в тоже время надо учитывать что в абсолютной структуре выручки, возможно, больше денег будут приносить бесплатные пользователи, поскольку их больше. Точнее сказать сложно, поскольку выборки не равны между собой, а именно: количество поездок в таблице rides почти в 2 раза меньше для подписчиков, в таблице users количество бесплатных пользователей на, примерно, 10% больше чем подписчиков.\n",
    "\n",
    "На третьем этапе были даны ответы на следующие вопросы:\n",
    "- Какое минимальное количество промокодов надо разослать что-бы как минимум 100 клиентов продлили подписку?\n",
    "    Я рассчитал минимально допустимое значение количества промокодов, который должен разослать отдел маркетинга для достижения целевого показателя в минимум 100 продлений бесплатной подписки с шансом неудачи в менее чем 5%. Для первоначальной оценки была использована функция PDF, а затем с помощью симуляции функции CDF было подобрано такое число разосланых промокодов что-бы вероятность неудачи была 5 или менее процентов, оно равно 1172. С увеличением числа промокодов вероятность неудачи будет неуклонно снижаться.\n",
    "- Какова вероятность того что push-уведомление откроют не более 399.5 тысяч пользователей?\n",
    "    Я оценил вероятность того что пуш уведомление откроют не более 399.5 тысяч пользователей приложения. Исходных данных не было, поэтому работал с предоставленными статистиками n и p. Биномиальное распределение было аппроксимировано нормальным согласно центральной предельной теореме. Были построены графики PDF и CDF нормального распределения, затем при помощи функции CDF была рассчитана вероятность для значения 399500. Таким образом вероятность того что уведомление откроют 399.5 тысяч пользователей или менее составила 15.4%"
   ]
  },
  {
   "cell_type": "markdown",
   "id": "664883ff",
   "metadata": {},
   "source": [
    "<div class=\"alert-warning\" style=\"padding: 20px; border-radius: 10px\">\n",
    "<b>Комментарий ревьюера ⚠️</b>\n",
    "\n",
    "<s>Хороший общий вывод, но как можно аргументированно ответить на главный вопрос исследования: являются ли пользователи с подпиской более выгодными для компании?\n",
    "\n",
    "Некоторые моменты вывода нужно будет поправить после доработки блока проверки гипотез.\n",
    "</div>"
   ]
  },
  {
   "cell_type": "markdown",
   "id": "cfeccbe4",
   "metadata": {},
   "source": [
    "<div class=\"alert-info\" style=\"padding: 20px; border-radius: 10px\">\n",
    "<b>Комментарий студента 💎</b>\n",
    "\n",
    "Здесь исправил.</div>"
   ]
  },
  {
   "cell_type": "markdown",
   "id": "911f1f7a",
   "metadata": {},
   "source": [
    "<div class=\"alert-success\" style=\"padding: 20px; border-radius: 10px\">\n",
    "<b>Комментарий ревьюера V2 ✔️</b>\n",
    "\n",
    "Хорошие дополнения к общему выводу.</div>"
   ]
  },
  {
   "cell_type": "markdown",
   "id": "8fb9560d",
   "metadata": {},
   "source": [
    "<div style=\"border:solid steelblue 3px; padding: 20px; border-radius: 10px\">\n",
    "\n",
    "##### <b>Общий комментарий ревьюера 🏁</b>\n",
    "\n",
    "Ты проделал большую работу над проектом. Но нужно кое-что поправить, чтобы я его принял.\n",
    "\n",
    "Для удобства, критические замечания я добавил в меню **Contents** слева.\n",
    "\n",
    "Также, постарайся отработать желтые комментарии.\n",
    "\n",
    "Буду ждать твой доработанный проект. ⌛️"
   ]
  },
  {
   "cell_type": "markdown",
   "id": "829de130",
   "metadata": {},
   "source": [
    "<div style=\"border:solid steelblue 3px; padding: 20px; border-radius: 10px\">\n",
    "\n",
    "##### <b>Общий комментарий ревьюера V2 🏁</b>\n",
    "\n",
    "Отличная работа! Ты внимательно учел мои комментарии и проделал большую работу по улучшению проекта.\n",
    "\n",
    "Успехов в дальнейшем обучении! 🏆\n",
    "\n",
    "</div>"
   ]
  },
  {
   "cell_type": "code",
   "execution_count": null,
   "id": "592d8ae5",
   "metadata": {},
   "outputs": [],
   "source": []
  }
 ],
 "metadata": {
  "ExecuteTimeLog": [
   {
    "duration": 1227,
    "start_time": "2023-06-25T07:19:22.000Z"
   },
   {
    "duration": 169,
    "start_time": "2023-06-25T07:19:23.229Z"
   },
   {
    "duration": 0,
    "start_time": "2023-06-25T07:19:23.402Z"
   },
   {
    "duration": 0,
    "start_time": "2023-06-25T07:19:23.403Z"
   },
   {
    "duration": 0,
    "start_time": "2023-06-25T07:19:23.405Z"
   },
   {
    "duration": 0,
    "start_time": "2023-06-25T07:19:23.406Z"
   },
   {
    "duration": 0,
    "start_time": "2023-06-25T07:19:23.407Z"
   },
   {
    "duration": 0,
    "start_time": "2023-06-25T07:19:23.408Z"
   },
   {
    "duration": 0,
    "start_time": "2023-06-25T07:19:23.410Z"
   },
   {
    "duration": 0,
    "start_time": "2023-06-25T07:19:23.411Z"
   },
   {
    "duration": 0,
    "start_time": "2023-06-25T07:19:23.413Z"
   },
   {
    "duration": 325,
    "start_time": "2023-06-25T07:24:39.459Z"
   },
   {
    "duration": 189,
    "start_time": "2023-06-25T07:24:45.804Z"
   },
   {
    "duration": 20,
    "start_time": "2023-06-25T07:24:52.053Z"
   },
   {
    "duration": 86,
    "start_time": "2023-06-25T07:24:52.075Z"
   },
   {
    "duration": 694,
    "start_time": "2023-06-25T07:24:52.162Z"
   },
   {
    "duration": 735,
    "start_time": "2023-06-25T07:24:52.858Z"
   },
   {
    "duration": 57,
    "start_time": "2023-06-25T07:24:53.594Z"
   },
   {
    "duration": 22,
    "start_time": "2023-06-25T07:24:53.653Z"
   },
   {
    "duration": 454,
    "start_time": "2023-06-25T07:24:53.677Z"
   },
   {
    "duration": 0,
    "start_time": "2023-06-25T07:24:54.132Z"
   },
   {
    "duration": 0,
    "start_time": "2023-06-25T07:24:54.133Z"
   },
   {
    "duration": 598,
    "start_time": "2023-06-25T07:26:20.686Z"
   },
   {
    "duration": 234,
    "start_time": "2023-06-25T07:26:24.596Z"
   },
   {
    "duration": 8,
    "start_time": "2023-06-25T07:49:16.141Z"
   },
   {
    "duration": 119,
    "start_time": "2023-06-25T07:49:30.253Z"
   },
   {
    "duration": 13,
    "start_time": "2023-06-25T07:49:56.004Z"
   },
   {
    "duration": 123,
    "start_time": "2023-06-25T07:51:56.892Z"
   },
   {
    "duration": 7,
    "start_time": "2023-06-25T07:52:03.136Z"
   },
   {
    "duration": 5,
    "start_time": "2023-06-25T07:53:30.821Z"
   },
   {
    "duration": 1200,
    "start_time": "2023-06-25T14:19:39.022Z"
   },
   {
    "duration": 3,
    "start_time": "2023-06-25T14:20:48.561Z"
   },
   {
    "duration": 106,
    "start_time": "2023-06-25T14:25:07.023Z"
   },
   {
    "duration": 3,
    "start_time": "2023-06-25T14:25:15.953Z"
   },
   {
    "duration": 329,
    "start_time": "2023-06-25T14:25:15.957Z"
   },
   {
    "duration": 40,
    "start_time": "2023-06-25T14:25:16.288Z"
   },
   {
    "duration": 102,
    "start_time": "2023-06-25T14:25:21.946Z"
   },
   {
    "duration": 32,
    "start_time": "2023-06-25T14:25:38.522Z"
   },
   {
    "duration": 353,
    "start_time": "2023-06-25T14:26:02.037Z"
   },
   {
    "duration": 46,
    "start_time": "2023-06-25T14:26:11.499Z"
   },
   {
    "duration": 25,
    "start_time": "2023-06-25T14:27:04.136Z"
   },
   {
    "duration": 27,
    "start_time": "2023-06-25T14:28:46.642Z"
   },
   {
    "duration": 3,
    "start_time": "2023-06-25T14:30:22.569Z"
   },
   {
    "duration": 33,
    "start_time": "2023-06-25T14:32:57.418Z"
   },
   {
    "duration": 114,
    "start_time": "2023-06-25T14:33:04.891Z"
   },
   {
    "duration": 26,
    "start_time": "2023-06-25T14:33:07.222Z"
   },
   {
    "duration": 52,
    "start_time": "2023-06-25T14:33:15.891Z"
   },
   {
    "duration": 28,
    "start_time": "2023-06-25T14:33:29.636Z"
   },
   {
    "duration": 2,
    "start_time": "2023-06-25T14:33:57.169Z"
   },
   {
    "duration": 220,
    "start_time": "2023-06-25T14:33:57.174Z"
   },
   {
    "duration": 32,
    "start_time": "2023-06-25T14:33:57.396Z"
   },
   {
    "duration": 3,
    "start_time": "2023-06-25T14:33:57.430Z"
   },
   {
    "duration": 29,
    "start_time": "2023-06-25T14:34:00.121Z"
   },
   {
    "duration": 3,
    "start_time": "2023-06-25T14:34:07.269Z"
   },
   {
    "duration": 250,
    "start_time": "2023-06-25T14:34:07.282Z"
   },
   {
    "duration": 17,
    "start_time": "2023-06-25T14:34:07.533Z"
   },
   {
    "duration": 3,
    "start_time": "2023-06-25T14:34:07.551Z"
   },
   {
    "duration": 30,
    "start_time": "2023-06-25T14:34:09.518Z"
   },
   {
    "duration": 19,
    "start_time": "2023-06-25T14:34:35.248Z"
   },
   {
    "duration": 37,
    "start_time": "2023-06-25T14:34:46.496Z"
   },
   {
    "duration": 28,
    "start_time": "2023-06-25T14:35:03.935Z"
   },
   {
    "duration": 29,
    "start_time": "2023-06-25T14:35:17.823Z"
   },
   {
    "duration": 35,
    "start_time": "2023-06-25T14:35:43.823Z"
   },
   {
    "duration": 92,
    "start_time": "2023-06-25T14:44:18.734Z"
   },
   {
    "duration": 77,
    "start_time": "2023-06-25T14:44:22.957Z"
   },
   {
    "duration": 87,
    "start_time": "2023-06-25T14:44:28.263Z"
   },
   {
    "duration": 135,
    "start_time": "2023-06-25T14:44:55.732Z"
   },
   {
    "duration": 103,
    "start_time": "2023-06-25T14:46:40.879Z"
   },
   {
    "duration": 91,
    "start_time": "2023-06-25T14:46:45.699Z"
   },
   {
    "duration": 25,
    "start_time": "2023-06-25T14:47:25.007Z"
   },
   {
    "duration": 15,
    "start_time": "2023-06-25T14:47:29.629Z"
   },
   {
    "duration": 17,
    "start_time": "2023-06-25T14:49:04.357Z"
   },
   {
    "duration": 13,
    "start_time": "2023-06-25T14:49:13.263Z"
   },
   {
    "duration": 130,
    "start_time": "2023-06-25T14:50:41.823Z"
   },
   {
    "duration": 144,
    "start_time": "2023-06-25T14:51:23.314Z"
   },
   {
    "duration": 75,
    "start_time": "2023-06-25T14:51:40.389Z"
   },
   {
    "duration": 77,
    "start_time": "2023-06-25T14:51:56.552Z"
   },
   {
    "duration": 143,
    "start_time": "2023-06-25T14:52:08.018Z"
   },
   {
    "duration": 208,
    "start_time": "2023-06-25T14:52:56.390Z"
   },
   {
    "duration": 130,
    "start_time": "2023-06-25T14:53:10.826Z"
   },
   {
    "duration": 187,
    "start_time": "2023-06-25T14:53:16.854Z"
   },
   {
    "duration": 478,
    "start_time": "2023-06-25T14:57:06.333Z"
   },
   {
    "duration": 44,
    "start_time": "2023-06-25T14:57:36.294Z"
   },
   {
    "duration": 138,
    "start_time": "2023-06-25T14:57:46.655Z"
   },
   {
    "duration": 210,
    "start_time": "2023-06-25T14:58:13.147Z"
   },
   {
    "duration": 172,
    "start_time": "2023-06-25T15:04:38.996Z"
   },
   {
    "duration": 8,
    "start_time": "2023-06-25T15:05:24.462Z"
   },
   {
    "duration": 9,
    "start_time": "2023-06-25T15:05:36.299Z"
   },
   {
    "duration": 13477,
    "start_time": "2023-06-25T15:07:15.391Z"
   },
   {
    "duration": 159,
    "start_time": "2023-06-25T15:08:32.858Z"
   },
   {
    "duration": 3,
    "start_time": "2023-06-25T15:08:39.763Z"
   },
   {
    "duration": 387,
    "start_time": "2023-06-25T15:08:39.768Z"
   },
   {
    "duration": 18,
    "start_time": "2023-06-25T15:08:40.157Z"
   },
   {
    "duration": 3,
    "start_time": "2023-06-25T15:08:40.176Z"
   },
   {
    "duration": 200,
    "start_time": "2023-06-25T15:08:40.180Z"
   },
   {
    "duration": 156,
    "start_time": "2023-06-25T15:08:44.226Z"
   },
   {
    "duration": 1380,
    "start_time": "2023-06-25T15:09:17.257Z"
   },
   {
    "duration": 295,
    "start_time": "2023-06-25T15:09:18.638Z"
   },
   {
    "duration": 30,
    "start_time": "2023-06-25T15:09:18.934Z"
   },
   {
    "duration": 6,
    "start_time": "2023-06-25T15:09:18.967Z"
   },
   {
    "duration": 185,
    "start_time": "2023-06-25T15:09:18.975Z"
   },
   {
    "duration": 381,
    "start_time": "2023-06-25T15:09:24.087Z"
   },
   {
    "duration": 566,
    "start_time": "2023-06-25T15:12:31.871Z"
   },
   {
    "duration": 324,
    "start_time": "2023-06-25T15:13:44.335Z"
   },
   {
    "duration": 175,
    "start_time": "2023-06-25T15:16:12.287Z"
   },
   {
    "duration": 302,
    "start_time": "2023-06-25T15:16:27.853Z"
   },
   {
    "duration": 322,
    "start_time": "2023-06-25T15:17:27.933Z"
   },
   {
    "duration": 379,
    "start_time": "2023-06-25T15:17:41.792Z"
   },
   {
    "duration": 316,
    "start_time": "2023-06-25T15:20:03.351Z"
   },
   {
    "duration": 401,
    "start_time": "2023-06-25T15:20:13.739Z"
   },
   {
    "duration": 347,
    "start_time": "2023-06-25T15:21:35.234Z"
   },
   {
    "duration": 794,
    "start_time": "2023-06-25T15:22:00.319Z"
   },
   {
    "duration": 426,
    "start_time": "2023-06-25T15:23:10.428Z"
   },
   {
    "duration": 627,
    "start_time": "2023-06-25T15:23:31.824Z"
   },
   {
    "duration": 428,
    "start_time": "2023-06-25T15:24:51.926Z"
   },
   {
    "duration": 424,
    "start_time": "2023-06-25T15:26:20.599Z"
   },
   {
    "duration": 112,
    "start_time": "2023-06-25T15:29:27.331Z"
   },
   {
    "duration": 227,
    "start_time": "2023-06-25T15:30:17.926Z"
   },
   {
    "duration": 225,
    "start_time": "2023-06-25T15:31:13.525Z"
   },
   {
    "duration": 341,
    "start_time": "2023-06-25T15:35:04.930Z"
   },
   {
    "duration": 210,
    "start_time": "2023-06-25T15:35:12.939Z"
   },
   {
    "duration": 230,
    "start_time": "2023-06-25T15:37:31.016Z"
   },
   {
    "duration": 319,
    "start_time": "2023-06-25T15:43:10.949Z"
   },
   {
    "duration": 297,
    "start_time": "2023-06-25T15:43:17.443Z"
   },
   {
    "duration": 102,
    "start_time": "2023-06-25T15:43:22.343Z"
   },
   {
    "duration": 116,
    "start_time": "2023-06-25T15:43:42.429Z"
   },
   {
    "duration": 224,
    "start_time": "2023-06-25T15:44:26.250Z"
   },
   {
    "duration": 323,
    "start_time": "2023-06-25T15:45:01.566Z"
   },
   {
    "duration": 381,
    "start_time": "2023-06-25T15:45:26.840Z"
   },
   {
    "duration": 11,
    "start_time": "2023-06-25T15:45:52.424Z"
   },
   {
    "duration": 309,
    "start_time": "2023-06-25T15:45:58.037Z"
   },
   {
    "duration": 316,
    "start_time": "2023-06-25T15:46:15.929Z"
   },
   {
    "duration": 330,
    "start_time": "2023-06-25T15:46:38.538Z"
   },
   {
    "duration": 8,
    "start_time": "2023-06-25T15:48:17.735Z"
   },
   {
    "duration": 293,
    "start_time": "2023-06-25T15:48:27.630Z"
   },
   {
    "duration": 407,
    "start_time": "2023-06-25T15:49:14.722Z"
   },
   {
    "duration": 10,
    "start_time": "2023-06-25T15:50:06.171Z"
   },
   {
    "duration": 9,
    "start_time": "2023-06-25T15:50:12.069Z"
   },
   {
    "duration": 9,
    "start_time": "2023-06-25T15:50:17.038Z"
   },
   {
    "duration": 396,
    "start_time": "2023-06-25T15:50:44.725Z"
   },
   {
    "duration": 452,
    "start_time": "2023-06-25T15:52:24.557Z"
   },
   {
    "duration": 8,
    "start_time": "2023-06-25T15:53:52.763Z"
   },
   {
    "duration": 298,
    "start_time": "2023-06-25T15:53:58.059Z"
   },
   {
    "duration": 413,
    "start_time": "2023-06-25T15:54:14.728Z"
   },
   {
    "duration": 434,
    "start_time": "2023-06-25T15:54:29.339Z"
   },
   {
    "duration": 406,
    "start_time": "2023-06-25T15:54:39.671Z"
   },
   {
    "duration": 435,
    "start_time": "2023-06-25T15:55:10.178Z"
   },
   {
    "duration": 453,
    "start_time": "2023-06-25T15:55:22.776Z"
   },
   {
    "duration": 973,
    "start_time": "2023-06-25T15:57:12.064Z"
   },
   {
    "duration": 671,
    "start_time": "2023-06-25T15:57:30.278Z"
   },
   {
    "duration": 522,
    "start_time": "2023-06-25T16:00:16.087Z"
   },
   {
    "duration": 747,
    "start_time": "2023-06-25T16:00:35.327Z"
   },
   {
    "duration": 719,
    "start_time": "2023-06-25T16:00:51.641Z"
   },
   {
    "duration": 788,
    "start_time": "2023-06-25T16:01:13.571Z"
   },
   {
    "duration": 717,
    "start_time": "2023-06-25T16:02:12.938Z"
   },
   {
    "duration": 607,
    "start_time": "2023-06-25T16:03:21.450Z"
   },
   {
    "duration": 1317,
    "start_time": "2023-06-25T16:04:46.768Z"
   },
   {
    "duration": 688,
    "start_time": "2023-06-25T16:06:14.935Z"
   },
   {
    "duration": 775,
    "start_time": "2023-06-25T16:06:54.668Z"
   },
   {
    "duration": 275,
    "start_time": "2023-06-25T16:11:13.354Z"
   },
   {
    "duration": 128,
    "start_time": "2023-06-25T16:11:32.034Z"
   },
   {
    "duration": 323,
    "start_time": "2023-06-25T16:11:34.626Z"
   },
   {
    "duration": 347,
    "start_time": "2023-06-25T16:11:41.424Z"
   },
   {
    "duration": 395,
    "start_time": "2023-06-25T16:11:51.234Z"
   },
   {
    "duration": 1437,
    "start_time": "2023-06-25T16:12:01.660Z"
   },
   {
    "duration": 828,
    "start_time": "2023-06-25T16:12:10.928Z"
   },
   {
    "duration": 1076,
    "start_time": "2023-06-25T16:12:35.861Z"
   },
   {
    "duration": 751,
    "start_time": "2023-06-25T16:12:57.328Z"
   },
   {
    "duration": 515,
    "start_time": "2023-06-25T16:22:01.328Z"
   },
   {
    "duration": 748,
    "start_time": "2023-06-25T16:22:12.928Z"
   },
   {
    "duration": 641,
    "start_time": "2023-06-25T16:22:23.219Z"
   },
   {
    "duration": 6097,
    "start_time": "2023-06-25T16:51:40.671Z"
   },
   {
    "duration": 729,
    "start_time": "2023-06-25T16:51:59.266Z"
   },
   {
    "duration": 728,
    "start_time": "2023-06-25T16:52:33.884Z"
   },
   {
    "duration": 418,
    "start_time": "2023-06-25T16:59:41.671Z"
   },
   {
    "duration": 1016,
    "start_time": "2023-06-25T17:00:41.572Z"
   },
   {
    "duration": 640,
    "start_time": "2023-06-25T17:01:03.501Z"
   },
   {
    "duration": 565,
    "start_time": "2023-06-25T17:02:50.798Z"
   },
   {
    "duration": 690,
    "start_time": "2023-06-25T17:03:17.643Z"
   },
   {
    "duration": 712,
    "start_time": "2023-06-25T17:03:45.295Z"
   },
   {
    "duration": 1339,
    "start_time": "2023-06-25T17:11:01.808Z"
   },
   {
    "duration": 2479,
    "start_time": "2023-06-25T17:11:08.406Z"
   },
   {
    "duration": 3,
    "start_time": "2023-06-25T17:11:10.887Z"
   },
   {
    "duration": 583,
    "start_time": "2023-06-25T17:11:10.891Z"
   },
   {
    "duration": 18,
    "start_time": "2023-06-25T17:11:11.476Z"
   },
   {
    "duration": 4,
    "start_time": "2023-06-25T17:11:11.495Z"
   },
   {
    "duration": 413,
    "start_time": "2023-06-25T17:11:11.500Z"
   },
   {
    "duration": 364,
    "start_time": "2023-06-25T17:11:11.914Z"
   },
   {
    "duration": 133,
    "start_time": "2023-06-25T17:11:12.279Z"
   },
   {
    "duration": 498,
    "start_time": "2023-06-25T17:11:12.414Z"
   },
   {
    "duration": 611,
    "start_time": "2023-06-25T17:11:12.914Z"
   },
   {
    "duration": 662,
    "start_time": "2023-06-25T17:11:13.527Z"
   },
   {
    "duration": 27,
    "start_time": "2023-06-25T17:13:06.559Z"
   },
   {
    "duration": 1609,
    "start_time": "2023-06-25T17:15:10.460Z"
   },
   {
    "duration": 1412,
    "start_time": "2023-06-25T17:17:56.268Z"
   },
   {
    "duration": 1341,
    "start_time": "2023-06-25T17:18:13.514Z"
   },
   {
    "duration": 1308,
    "start_time": "2023-06-25T17:18:32.246Z"
   },
   {
    "duration": 24,
    "start_time": "2023-06-25T17:19:55.071Z"
   },
   {
    "duration": 1316,
    "start_time": "2023-06-25T17:20:07.827Z"
   },
   {
    "duration": 1314,
    "start_time": "2023-06-25T17:20:50.524Z"
   },
   {
    "duration": 1834,
    "start_time": "2023-06-25T17:24:56.485Z"
   },
   {
    "duration": 1324,
    "start_time": "2023-06-25T17:25:29.812Z"
   },
   {
    "duration": 1387,
    "start_time": "2023-06-25T17:26:10.635Z"
   },
   {
    "duration": 43,
    "start_time": "2023-06-25T17:26:42.458Z"
   },
   {
    "duration": 59,
    "start_time": "2023-06-25T17:27:49.344Z"
   },
   {
    "duration": 1319,
    "start_time": "2023-06-25T17:28:10.006Z"
   },
   {
    "duration": 67,
    "start_time": "2023-06-25T17:30:22.639Z"
   },
   {
    "duration": 66,
    "start_time": "2023-06-25T17:33:29.286Z"
   },
   {
    "duration": 10,
    "start_time": "2023-06-25T17:34:21.416Z"
   },
   {
    "duration": 8,
    "start_time": "2023-06-25T17:35:13.882Z"
   },
   {
    "duration": 11,
    "start_time": "2023-06-25T17:35:43.042Z"
   },
   {
    "duration": 9,
    "start_time": "2023-06-25T17:48:14.457Z"
   },
   {
    "duration": 94,
    "start_time": "2023-06-25T17:48:47.728Z"
   },
   {
    "duration": 10,
    "start_time": "2023-06-25T17:48:54.019Z"
   },
   {
    "duration": 9,
    "start_time": "2023-06-25T17:56:30.291Z"
   },
   {
    "duration": 8,
    "start_time": "2023-06-25T17:56:50.692Z"
   },
   {
    "duration": 8,
    "start_time": "2023-06-25T17:58:15.186Z"
   },
   {
    "duration": 9,
    "start_time": "2023-06-25T18:03:28.964Z"
   },
   {
    "duration": 9,
    "start_time": "2023-06-25T18:04:00.025Z"
   },
   {
    "duration": 113,
    "start_time": "2023-06-25T18:11:52.531Z"
   },
   {
    "duration": 5,
    "start_time": "2023-06-25T18:12:02.540Z"
   },
   {
    "duration": 5,
    "start_time": "2023-06-25T18:12:09.193Z"
   },
   {
    "duration": 4,
    "start_time": "2023-06-25T18:13:47.654Z"
   },
   {
    "duration": 405,
    "start_time": "2023-06-25T18:16:19.263Z"
   },
   {
    "duration": 4,
    "start_time": "2023-06-25T18:17:05.593Z"
   },
   {
    "duration": 15920,
    "start_time": "2023-06-25T18:17:22.535Z"
   },
   {
    "duration": 393,
    "start_time": "2023-06-25T18:20:34.131Z"
   },
   {
    "duration": 5786,
    "start_time": "2023-06-25T18:24:18.797Z"
   },
   {
    "duration": 1343,
    "start_time": "2023-06-25T18:24:24.585Z"
   },
   {
    "duration": 563,
    "start_time": "2023-06-25T18:24:25.929Z"
   },
   {
    "duration": 16,
    "start_time": "2023-06-25T18:24:26.493Z"
   },
   {
    "duration": 3,
    "start_time": "2023-06-25T18:24:26.512Z"
   },
   {
    "duration": 206,
    "start_time": "2023-06-25T18:24:26.517Z"
   },
   {
    "duration": 336,
    "start_time": "2023-06-25T18:24:26.725Z"
   },
   {
    "duration": 140,
    "start_time": "2023-06-25T18:24:27.062Z"
   },
   {
    "duration": 508,
    "start_time": "2023-06-25T18:24:27.204Z"
   },
   {
    "duration": 648,
    "start_time": "2023-06-25T18:24:27.713Z"
   },
   {
    "duration": 718,
    "start_time": "2023-06-25T18:24:28.363Z"
   },
   {
    "duration": 54,
    "start_time": "2023-06-25T18:24:29.083Z"
   },
   {
    "duration": 1406,
    "start_time": "2023-06-25T18:24:29.139Z"
   },
   {
    "duration": 60,
    "start_time": "2023-06-25T18:24:30.547Z"
   },
   {
    "duration": 12,
    "start_time": "2023-06-25T18:24:30.608Z"
   },
   {
    "duration": 30,
    "start_time": "2023-06-25T18:24:30.622Z"
   },
   {
    "duration": 615,
    "start_time": "2023-06-25T18:24:43.545Z"
   },
   {
    "duration": 612,
    "start_time": "2023-06-25T18:31:29.219Z"
   },
   {
    "duration": 14,
    "start_time": "2023-06-25T18:38:13.831Z"
   },
   {
    "duration": 6,
    "start_time": "2023-06-25T18:38:42.864Z"
   },
   {
    "duration": 7,
    "start_time": "2023-06-25T18:38:55.713Z"
   },
   {
    "duration": 6,
    "start_time": "2023-06-25T18:39:00.323Z"
   },
   {
    "duration": 728,
    "start_time": "2023-06-25T18:46:39.423Z"
   },
   {
    "duration": 604,
    "start_time": "2023-06-25T18:48:44.504Z"
   },
   {
    "duration": 726,
    "start_time": "2023-06-25T18:57:06.197Z"
   },
   {
    "duration": 722,
    "start_time": "2023-06-25T18:57:27.437Z"
   },
   {
    "duration": 825,
    "start_time": "2023-06-25T18:58:28.991Z"
   },
   {
    "duration": 609,
    "start_time": "2023-06-25T18:58:43.128Z"
   },
   {
    "duration": 700,
    "start_time": "2023-06-25T18:59:44.732Z"
   },
   {
    "duration": 684,
    "start_time": "2023-06-25T19:01:19.900Z"
   },
   {
    "duration": 737,
    "start_time": "2023-06-25T19:05:37.788Z"
   },
   {
    "duration": 744,
    "start_time": "2023-06-25T19:07:15.845Z"
   },
   {
    "duration": 175,
    "start_time": "2023-06-25T19:07:26.139Z"
   },
   {
    "duration": 103,
    "start_time": "2023-06-25T19:07:31.626Z"
   },
   {
    "duration": 107,
    "start_time": "2023-06-25T19:08:04.719Z"
   },
   {
    "duration": 161,
    "start_time": "2023-06-25T19:08:20.944Z"
   },
   {
    "duration": 111,
    "start_time": "2023-06-25T19:09:06.333Z"
   },
   {
    "duration": 172,
    "start_time": "2023-06-25T19:09:09.141Z"
   },
   {
    "duration": 133,
    "start_time": "2023-06-25T19:09:51.998Z"
   },
   {
    "duration": 217,
    "start_time": "2023-06-25T19:12:44.992Z"
   },
   {
    "duration": 176,
    "start_time": "2023-06-25T19:13:04.637Z"
   },
   {
    "duration": 210,
    "start_time": "2023-06-25T19:13:14.700Z"
   },
   {
    "duration": 320,
    "start_time": "2023-06-25T19:14:19.599Z"
   },
   {
    "duration": 337,
    "start_time": "2023-06-25T19:16:12.589Z"
   },
   {
    "duration": 255,
    "start_time": "2023-06-25T19:16:26.811Z"
   },
   {
    "duration": 451,
    "start_time": "2023-06-25T19:16:37.964Z"
   },
   {
    "duration": 317,
    "start_time": "2023-06-25T19:32:01.511Z"
   },
   {
    "duration": 78,
    "start_time": "2023-06-25T19:35:58.727Z"
   },
   {
    "duration": 416,
    "start_time": "2023-06-25T19:36:04.085Z"
   },
   {
    "duration": 390,
    "start_time": "2023-06-25T19:36:15.315Z"
   },
   {
    "duration": 327,
    "start_time": "2023-06-25T19:36:35.196Z"
   },
   {
    "duration": 284,
    "start_time": "2023-06-25T19:36:51.836Z"
   },
   {
    "duration": 319,
    "start_time": "2023-06-25T19:37:38.990Z"
   },
   {
    "duration": 90,
    "start_time": "2023-06-25T19:42:18.724Z"
   },
   {
    "duration": 18,
    "start_time": "2023-06-25T19:42:22.618Z"
   },
   {
    "duration": 17,
    "start_time": "2023-06-25T19:50:06.619Z"
   },
   {
    "duration": 26,
    "start_time": "2023-06-25T19:50:37.893Z"
   },
   {
    "duration": 27,
    "start_time": "2023-06-25T19:50:55.315Z"
   },
   {
    "duration": 302,
    "start_time": "2023-06-25T19:52:20.726Z"
   },
   {
    "duration": 380,
    "start_time": "2023-06-25T19:54:36.345Z"
   },
   {
    "duration": 24,
    "start_time": "2023-06-25T20:00:48.194Z"
   },
   {
    "duration": 312,
    "start_time": "2023-06-25T20:02:07.350Z"
   },
   {
    "duration": 14,
    "start_time": "2023-06-25T20:04:03.138Z"
   },
   {
    "duration": 12,
    "start_time": "2023-06-25T20:04:11.687Z"
   },
   {
    "duration": 15,
    "start_time": "2023-06-25T20:10:26.522Z"
   },
   {
    "duration": 18,
    "start_time": "2023-06-25T20:10:33.477Z"
   },
   {
    "duration": 119,
    "start_time": "2023-06-25T20:10:54.664Z"
   },
   {
    "duration": 167,
    "start_time": "2023-06-25T20:11:14.074Z"
   },
   {
    "duration": 22,
    "start_time": "2023-06-25T20:12:08.099Z"
   },
   {
    "duration": 130,
    "start_time": "2023-06-25T20:12:27.700Z"
   },
   {
    "duration": 67,
    "start_time": "2023-06-25T20:13:49.149Z"
   },
   {
    "duration": 26,
    "start_time": "2023-06-25T20:16:11.255Z"
   },
   {
    "duration": 19,
    "start_time": "2023-06-25T20:18:21.297Z"
   },
   {
    "duration": 20,
    "start_time": "2023-06-25T20:20:28.035Z"
   },
   {
    "duration": 15,
    "start_time": "2023-06-25T20:51:28.326Z"
   },
   {
    "duration": 3,
    "start_time": "2023-06-25T20:51:33.259Z"
   },
   {
    "duration": 10,
    "start_time": "2023-06-25T20:51:34.596Z"
   },
   {
    "duration": 5,
    "start_time": "2023-06-25T20:51:57.806Z"
   },
   {
    "duration": 20,
    "start_time": "2023-06-25T20:53:04.334Z"
   },
   {
    "duration": 3,
    "start_time": "2023-06-25T20:58:56.548Z"
   },
   {
    "duration": 3,
    "start_time": "2023-06-25T21:24:38.444Z"
   },
   {
    "duration": 36,
    "start_time": "2023-06-25T21:26:18.114Z"
   },
   {
    "duration": 13,
    "start_time": "2023-06-25T21:26:28.259Z"
   },
   {
    "duration": 9,
    "start_time": "2023-06-25T21:26:40.312Z"
   },
   {
    "duration": 515,
    "start_time": "2023-06-25T21:32:50.964Z"
   },
   {
    "duration": 456,
    "start_time": "2023-06-25T21:33:13.750Z"
   },
   {
    "duration": 112,
    "start_time": "2023-06-25T21:34:37.129Z"
   },
   {
    "duration": 109,
    "start_time": "2023-06-25T21:35:44.307Z"
   },
   {
    "duration": 483,
    "start_time": "2023-06-25T21:36:13.636Z"
   },
   {
    "duration": 78,
    "start_time": "2023-06-25T21:36:21.618Z"
   },
   {
    "duration": 572,
    "start_time": "2023-06-25T21:36:40.983Z"
   },
   {
    "duration": 641,
    "start_time": "2023-06-25T21:36:48.999Z"
   },
   {
    "duration": 6405,
    "start_time": "2023-06-25T22:08:52.350Z"
   },
   {
    "duration": 1360,
    "start_time": "2023-06-25T22:08:58.757Z"
   },
   {
    "duration": 325,
    "start_time": "2023-06-25T22:09:00.118Z"
   },
   {
    "duration": 15,
    "start_time": "2023-06-25T22:09:00.445Z"
   },
   {
    "duration": 223,
    "start_time": "2023-06-25T22:09:00.461Z"
   },
   {
    "duration": 383,
    "start_time": "2023-06-25T22:09:00.685Z"
   },
   {
    "duration": 143,
    "start_time": "2023-06-25T22:09:01.069Z"
   },
   {
    "duration": 542,
    "start_time": "2023-06-25T22:09:01.213Z"
   },
   {
    "duration": 685,
    "start_time": "2023-06-25T22:09:01.757Z"
   },
   {
    "duration": 793,
    "start_time": "2023-06-25T22:09:02.445Z"
   },
   {
    "duration": 81,
    "start_time": "2023-06-25T22:09:03.239Z"
   },
   {
    "duration": 1502,
    "start_time": "2023-06-25T22:09:03.322Z"
   },
   {
    "duration": 322,
    "start_time": "2023-06-25T22:09:04.826Z"
   },
   {
    "duration": 2,
    "start_time": "2023-06-25T22:09:05.150Z"
   },
   {
    "duration": 34,
    "start_time": "2023-06-25T22:09:05.154Z"
   },
   {
    "duration": 52,
    "start_time": "2023-06-25T22:09:05.190Z"
   },
   {
    "duration": 691,
    "start_time": "2023-06-25T22:09:05.244Z"
   },
   {
    "duration": 479,
    "start_time": "2023-06-25T22:09:05.937Z"
   },
   {
    "duration": 25,
    "start_time": "2023-06-25T22:09:06.417Z"
   },
   {
    "duration": 1005,
    "start_time": "2023-06-25T22:09:06.443Z"
   },
   {
    "duration": 477,
    "start_time": "2023-06-25T22:09:07.449Z"
   },
   {
    "duration": 6,
    "start_time": "2023-06-25T22:09:07.928Z"
   },
   {
    "duration": 26374,
    "start_time": "2023-06-26T07:58:20.796Z"
   },
   {
    "duration": 1618,
    "start_time": "2023-06-26T07:58:47.173Z"
   },
   {
    "duration": 307,
    "start_time": "2023-06-26T07:58:48.793Z"
   },
   {
    "duration": 20,
    "start_time": "2023-06-26T07:58:49.103Z"
   },
   {
    "duration": 264,
    "start_time": "2023-06-26T07:58:49.124Z"
   },
   {
    "duration": 460,
    "start_time": "2023-06-26T07:58:49.389Z"
   },
   {
    "duration": 139,
    "start_time": "2023-06-26T07:58:49.851Z"
   },
   {
    "duration": 562,
    "start_time": "2023-06-26T07:58:49.993Z"
   },
   {
    "duration": 756,
    "start_time": "2023-06-26T07:58:50.557Z"
   },
   {
    "duration": 972,
    "start_time": "2023-06-26T07:58:51.316Z"
   },
   {
    "duration": 81,
    "start_time": "2023-06-26T07:58:52.289Z"
   },
   {
    "duration": 1546,
    "start_time": "2023-06-26T07:58:52.372Z"
   },
   {
    "duration": 333,
    "start_time": "2023-06-26T07:58:53.919Z"
   },
   {
    "duration": 4,
    "start_time": "2023-06-26T07:58:54.253Z"
   },
   {
    "duration": 21,
    "start_time": "2023-06-26T07:58:54.258Z"
   },
   {
    "duration": 15,
    "start_time": "2023-06-26T07:58:54.281Z"
   },
   {
    "duration": 715,
    "start_time": "2023-06-26T07:58:54.297Z"
   },
   {
    "duration": 392,
    "start_time": "2023-06-26T07:58:55.013Z"
   },
   {
    "duration": 94,
    "start_time": "2023-06-26T07:58:55.407Z"
   },
   {
    "duration": 1106,
    "start_time": "2023-06-26T07:58:55.504Z"
   },
   {
    "duration": 643,
    "start_time": "2023-06-26T07:58:56.613Z"
   },
   {
    "duration": 13,
    "start_time": "2023-06-26T07:58:57.259Z"
   }
  ],
  "kernelspec": {
   "display_name": "Python 3 (ipykernel)",
   "language": "python",
   "name": "python3"
  },
  "language_info": {
   "codemirror_mode": {
    "name": "ipython",
    "version": 3
   },
   "file_extension": ".py",
   "mimetype": "text/x-python",
   "name": "python",
   "nbconvert_exporter": "python",
   "pygments_lexer": "ipython3",
   "version": "3.9.5"
  },
  "toc": {
   "base_numbering": 1,
   "nav_menu": {},
   "number_sections": true,
   "sideBar": true,
   "skip_h1_title": true,
   "title_cell": "Table of Contents",
   "title_sidebar": "Contents",
   "toc_cell": false,
   "toc_position": {},
   "toc_section_display": true,
   "toc_window_display": true
  }
 },
 "nbformat": 4,
 "nbformat_minor": 5
}
