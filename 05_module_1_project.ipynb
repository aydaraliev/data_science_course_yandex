{
 "cells": [
  {
   "cell_type": "markdown",
   "metadata": {},
   "source": [
    "<div  style=\"border-radius: 10px; box-shadow: 2px 2px 2px; border: 1px solid; padding: 10px \">\n",
    "\n",
    "**Айдар, привет!**\n",
    "\n",
    "Меня зовут Василий Митров и я буду проверять твой проект. Предлагаю общаться на «ты». Если это неприемлемо, то дай мне знать и мы перейдем на «вы». Моя основная цель — не указать на совершенные тобою ошибки, а поделиться своим опытом и помочь тебе стать аналитиком данных.\n",
    "\n",
    "Для удобства я оставлю комментарии в отдельных ячейках Markdown с заголовком «Комментарий ревьюера». Пожалуйста, не перемещай, не изменяй и не удаляй их - так наше общение будет более продуктивным. Я буду использовать цветовую разметку:\n",
    "\n",
    "<div class=\"alert alert-danger\" style=\"border-radius: 10px; box-shadow: 2px 2px 2px; border: 1px solid; padding: 10px \">\n",
    "<b>Комментарий ревьюера</b> \n",
    "    \n",
    "✍ Так выделены самые важные замечания. Без их отработки проект не будет принят. При проверке я обращаю внимание не только на код, но и на интерпретацию и анализ результатов, а также соответствие данных техническому заданию.\n",
    "</div>\n",
    "\n",
    "<div class=\"alert alert-warning\" style=\"border-radius: 10px; box-shadow: 2px 2px 2px; border: 1px solid; padding: 10px \">\n",
    "<b>Комментарий ревьюера</b> \n",
    "    \n",
    "📝 Так выделены небольшие замечания или рекомендации. Постарайся, пожалуйста, учесть эти комментарии в этом проекте или в будущих проектах.\n",
    "</div>\n",
    "\n",
    "<div class=\"alert alert-success\" style=\"border-radius: 10px; box-shadow: 2px 2px 2px; border: 1px solid; padding: 10px \">\n",
    "<b>Комментарий ревьюера</b> \n",
    "    \n",
    "👍 Так выделены все остальные комментарии, включая рекомендации, позитивные моменты или какие-то рассуждения и пояснения.\n",
    "</div>\n",
    "\n",
    "**Важные дополнения:**\n",
    "    \n",
    "* <u>Идеально, когда проект структурирован. Где названия разделов и подразделов будут записаны в ячейках [Markdown](https://paulradzkov.com/2014/markdown_cheatsheet/?).</u>\n",
    "    \n",
    "\n",
    "* <u>Проверь проект на работоспособность перед отправкой на проверку. Сделать это можно так: `Kernel -> Restart And Run All -> Restart And Run All Cells` предварительно сохранив проект нажав на дискету в левом верхнем углу. Это важный навык, который тебе пригодится как на собеседовании, при выполнении тестового задания, так и перед совещанием у руководства компании. Помни, ревьеры не вносят изменения в код, даже если это путь к датасету или ячейка в неверном формате (code/mardown).</u>\n",
    "    \n",
    "Давай работать над проектом в диалоге: если ты что-то меняешь в проекте или отвечаешь на мои комментарии — пиши об этом. Мне будет легче отследить изменения, если ты выделишь свои комментарии:\n",
    "\n",
    "<div class=\"alert alert-info\" style=\"border-radius: 10px; box-shadow: 2px 2px 2px; border: 1px solid; padding: 10px \"> \n",
    "<b>Комментарий студента</b> \n",
    "    \n",
    "Например, вот так. Также, если есть какие-то вопросы, или что-то осталось непонятным по ревью - спрашивай в таких блоках и я постараюсь дать ответ.\n",
    "</div>\n",
    "\n",
    "---"
   ]
  },
  {
   "cell_type": "markdown",
   "metadata": {},
   "source": [
    "# Исследование рынка видеоигр"
   ]
  },
  {
   "cell_type": "markdown",
   "metadata": {},
   "source": [
    "### Цель и задачи исследования\n",
    "Цель - планирование кампании на 2017 год\n",
    "Задачи:\n",
    "- Выявление самых прибыльных платформ\n",
    "- Оценка влияния критиков на продажи\n",
    "- Выявление наиболее прибыльных жанров\n",
    "- составление портрета пользователя по регионам(платформы, жанры, возрастной рейтинг)\n",
    "- Проверка гипотезы о том что пользовательский рейтинг Xbox One и PC одинаковый\n",
    "- Проверка гипотезы о том что пользовательские рейтинги игр жанра action и sport разные"
   ]
  },
  {
   "cell_type": "markdown",
   "metadata": {},
   "source": [
    "<div class=\"alert alert-success\" style=\"border-radius: 10px; box-shadow: 2px 2px 2px; border: 1px solid; padding: 10px \">\n",
    "<b>Комментарий ревьюера v.1</b> \n",
    "    \n",
    "👍 \n",
    "Правильно делаешь, что не убираешь описание задачи. Это поможет быстро вспомнить, о чем проект, если ты к нему вернешься спустя какое-то время.\n",
    "\n",
    "Данный блок можно расширить при помощи плана работы и описания данных. Посмотреть подробнее про вступительный блок можно в разделе \"Полезные инструкции в учебе\" блока \"Оформление проекта\".\n",
    "    \n",
    "Также советую тебе посмотреть на <a href=\"https://www.kaggle.com/notebooks/\">работы</a> профессиональных аналитиков, чтобы оценить, как более опытные коллеги оформляют и проводят исследования.   \n",
    "</div>"
   ]
  },
  {
   "cell_type": "markdown",
   "metadata": {},
   "source": [
    "### Общая информация о датасете"
   ]
  },
  {
   "cell_type": "code",
   "execution_count": 1,
   "metadata": {
    "ExecuteTime": {
     "end_time": "2023-07-07T05:00:15.690024959Z",
     "start_time": "2023-07-07T05:00:04.399448359Z"
    }
   },
   "outputs": [
    {
     "name": "stdout",
     "output_type": "stream",
     "text": [
      "Requirement already satisfied: pandas in /opt/conda/lib/python3.9/site-packages (1.2.4)\n",
      "Collecting pandas\n",
      "  Downloading pandas-2.0.3-cp39-cp39-manylinux_2_17_x86_64.manylinux2014_x86_64.whl (12.4 MB)\n",
      "\u001b[K     |████████████████████████████████| 12.4 MB 1.2 MB/s eta 0:00:01\n",
      "\u001b[?25hRequirement already satisfied: numpy>=1.20.3 in /opt/conda/lib/python3.9/site-packages (from pandas) (1.21.1)\n",
      "Collecting tzdata>=2022.1\n",
      "  Downloading tzdata-2023.3-py2.py3-none-any.whl (341 kB)\n",
      "\u001b[K     |████████████████████████████████| 341 kB 84.7 MB/s eta 0:00:01\n",
      "\u001b[?25hCollecting python-dateutil>=2.8.2\n",
      "  Downloading python_dateutil-2.8.2-py2.py3-none-any.whl (247 kB)\n",
      "\u001b[K     |████████████████████████████████| 247 kB 96.4 MB/s eta 0:00:01\n",
      "\u001b[?25hRequirement already satisfied: pytz>=2020.1 in /opt/conda/lib/python3.9/site-packages (from pandas) (2021.1)\n",
      "Requirement already satisfied: six>=1.5 in /opt/conda/lib/python3.9/site-packages (from python-dateutil>=2.8.2->pandas) (1.16.0)\n",
      "Installing collected packages: tzdata, python-dateutil, pandas\n",
      "  Attempting uninstall: python-dateutil\n",
      "    Found existing installation: python-dateutil 2.8.1\n",
      "    Uninstalling python-dateutil-2.8.1:\n",
      "      Successfully uninstalled python-dateutil-2.8.1\n",
      "  Attempting uninstall: pandas\n",
      "    Found existing installation: pandas 1.2.4\n",
      "    Uninstalling pandas-1.2.4:\n",
      "      Successfully uninstalled pandas-1.2.4\n",
      "Successfully installed pandas-2.0.3 python-dateutil-2.8.2 tzdata-2023.3\n",
      "Requirement already satisfied: matplotlib in /opt/conda/lib/python3.9/site-packages (3.3.4)\n",
      "Collecting matplotlib\n",
      "  Downloading matplotlib-3.7.2-cp39-cp39-manylinux_2_17_x86_64.manylinux2014_x86_64.whl (11.6 MB)\n",
      "\u001b[K     |████████████████████████████████| 11.6 MB 1.6 MB/s eta 0:00:01\n",
      "\u001b[?25hCollecting fonttools>=4.22.0\n",
      "  Downloading fonttools-4.40.0-cp39-cp39-manylinux_2_17_x86_64.manylinux2014_x86_64.whl (4.4 MB)\n",
      "\u001b[K     |████████████████████████████████| 4.4 MB 48.6 MB/s eta 0:00:01\n",
      "\u001b[?25hCollecting importlib-resources>=3.2.0\n",
      "  Downloading importlib_resources-6.0.0-py3-none-any.whl (31 kB)\n",
      "Requirement already satisfied: cycler>=0.10 in /opt/conda/lib/python3.9/site-packages (from matplotlib) (0.11.0)\n",
      "Requirement already satisfied: kiwisolver>=1.0.1 in /opt/conda/lib/python3.9/site-packages (from matplotlib) (1.4.4)\n",
      "Requirement already satisfied: pillow>=6.2.0 in /opt/conda/lib/python3.9/site-packages (from matplotlib) (8.4.0)\n",
      "Collecting contourpy>=1.0.1\n",
      "  Downloading contourpy-1.1.0-cp39-cp39-manylinux_2_17_x86_64.manylinux2014_x86_64.whl (300 kB)\n",
      "\u001b[K     |████████████████████████████████| 300 kB 56.4 MB/s eta 0:00:01\n",
      "\u001b[?25hRequirement already satisfied: python-dateutil>=2.7 in /opt/conda/lib/python3.9/site-packages (from matplotlib) (2.8.2)\n",
      "Requirement already satisfied: numpy>=1.20 in /opt/conda/lib/python3.9/site-packages (from matplotlib) (1.21.1)\n",
      "Requirement already satisfied: pyparsing<3.1,>=2.3.1 in /opt/conda/lib/python3.9/site-packages (from matplotlib) (2.4.7)\n",
      "Requirement already satisfied: packaging>=20.0 in /opt/conda/lib/python3.9/site-packages (from matplotlib) (21.3)\n",
      "Requirement already satisfied: zipp>=3.1.0 in /opt/conda/lib/python3.9/site-packages (from importlib-resources>=3.2.0->matplotlib) (3.5.0)\n",
      "Requirement already satisfied: six>=1.5 in /opt/conda/lib/python3.9/site-packages (from python-dateutil>=2.7->matplotlib) (1.16.0)\n",
      "Installing collected packages: importlib-resources, fonttools, contourpy, matplotlib\n",
      "  Attempting uninstall: matplotlib\n",
      "    Found existing installation: matplotlib 3.3.4\n",
      "    Uninstalling matplotlib-3.3.4:\n",
      "      Successfully uninstalled matplotlib-3.3.4\n",
      "Successfully installed contourpy-1.1.0 fonttools-4.40.0 importlib-resources-6.0.0 matplotlib-3.7.2\n"
     ]
    }
   ],
   "source": [
    "!pip install --upgrade pandas\n",
    "!pip install --upgrade matplotlib"
   ]
  },
  {
   "cell_type": "code",
   "execution_count": 2,
   "metadata": {
    "ExecuteTime": {
     "end_time": "2023-07-06T23:41:11.661880235Z",
     "start_time": "2023-07-06T23:41:11.658220293Z"
    }
   },
   "outputs": [],
   "source": [
    "import pandas as pd\n",
    "import seaborn as sns\n",
    "import matplotlib.pyplot as plt\n",
    "from scipy import stats as st"
   ]
  },
  {
   "cell_type": "code",
   "execution_count": 3,
   "metadata": {
    "ExecuteTime": {
     "end_time": "2023-07-06T23:41:11.732961559Z",
     "start_time": "2023-07-06T23:41:11.667038197Z"
    }
   },
   "outputs": [],
   "source": [
    "try:\n",
    "    df = pd.read_csv('games.csv')\n",
    "except FileNotFoundError:\n",
    "    df = pd.read_csv('https://code.s3.yandex.net/datasets/games.csv')"
   ]
  },
  {
   "cell_type": "markdown",
   "metadata": {},
   "source": [
    "<div class=\"alert alert-success\" style=\"border-radius: 10px; box-shadow: 2px 2px 2px; border: 1px solid; padding: 10px \">\n",
    "<b>Комментарий ревьюера v.1</b> \n",
    "    \n",
    "👍 Здорово, что следишь за универсальностью загрузки данных и используешь `try-except` блок.\n",
    "</div>"
   ]
  },
  {
   "cell_type": "code",
   "execution_count": 4,
   "metadata": {
    "ExecuteTime": {
     "end_time": "2023-07-06T23:41:11.894653956Z",
     "start_time": "2023-07-06T23:41:11.724013447Z"
    }
   },
   "outputs": [
    {
     "name": "stdout",
     "output_type": "stream",
     "text": [
      "<class 'pandas.core.frame.DataFrame'>\n",
      "RangeIndex: 16715 entries, 0 to 16714\n",
      "Data columns (total 12 columns):\n",
      " #   Column           Non-Null Count  Dtype  \n",
      "---  ------           --------------  -----  \n",
      " 0   Unnamed: 0       16715 non-null  int64  \n",
      " 1   Name             16713 non-null  object \n",
      " 2   Platform         16715 non-null  object \n",
      " 3   Year_of_Release  16446 non-null  float64\n",
      " 4   Genre            16713 non-null  object \n",
      " 5   NA_sales         16715 non-null  float64\n",
      " 6   EU_sales         16715 non-null  float64\n",
      " 7   JP_sales         16715 non-null  float64\n",
      " 8   Other_sales      16715 non-null  float64\n",
      " 9   Critic_Score     8137 non-null   float64\n",
      " 10  User_Score       10014 non-null  object \n",
      " 11  Rating           9949 non-null   object \n",
      "dtypes: float64(6), int64(1), object(5)\n",
      "memory usage: 1.5+ MB\n"
     ]
    },
    {
     "data": {
      "text/plain": [
       "None"
      ]
     },
     "metadata": {},
     "output_type": "display_data"
    },
    {
     "data": {
      "text/html": [
       "<div>\n",
       "<style scoped>\n",
       "    .dataframe tbody tr th:only-of-type {\n",
       "        vertical-align: middle;\n",
       "    }\n",
       "\n",
       "    .dataframe tbody tr th {\n",
       "        vertical-align: top;\n",
       "    }\n",
       "\n",
       "    .dataframe thead th {\n",
       "        text-align: right;\n",
       "    }\n",
       "</style>\n",
       "<table border=\"1\" class=\"dataframe\">\n",
       "  <thead>\n",
       "    <tr style=\"text-align: right;\">\n",
       "      <th></th>\n",
       "      <th>Unnamed: 0</th>\n",
       "      <th>Year_of_Release</th>\n",
       "      <th>NA_sales</th>\n",
       "      <th>EU_sales</th>\n",
       "      <th>JP_sales</th>\n",
       "      <th>Other_sales</th>\n",
       "      <th>Critic_Score</th>\n",
       "    </tr>\n",
       "  </thead>\n",
       "  <tbody>\n",
       "    <tr>\n",
       "      <th>count</th>\n",
       "      <td>16715.00000</td>\n",
       "      <td>16446.000000</td>\n",
       "      <td>16715.000000</td>\n",
       "      <td>16715.000000</td>\n",
       "      <td>16715.000000</td>\n",
       "      <td>16715.000000</td>\n",
       "      <td>8137.000000</td>\n",
       "    </tr>\n",
       "    <tr>\n",
       "      <th>mean</th>\n",
       "      <td>8357.00000</td>\n",
       "      <td>2006.484616</td>\n",
       "      <td>0.263377</td>\n",
       "      <td>0.145060</td>\n",
       "      <td>0.077617</td>\n",
       "      <td>0.047342</td>\n",
       "      <td>68.967679</td>\n",
       "    </tr>\n",
       "    <tr>\n",
       "      <th>std</th>\n",
       "      <td>4825.34921</td>\n",
       "      <td>5.877050</td>\n",
       "      <td>0.813604</td>\n",
       "      <td>0.503339</td>\n",
       "      <td>0.308853</td>\n",
       "      <td>0.186731</td>\n",
       "      <td>13.938165</td>\n",
       "    </tr>\n",
       "    <tr>\n",
       "      <th>min</th>\n",
       "      <td>0.00000</td>\n",
       "      <td>1980.000000</td>\n",
       "      <td>0.000000</td>\n",
       "      <td>0.000000</td>\n",
       "      <td>0.000000</td>\n",
       "      <td>0.000000</td>\n",
       "      <td>13.000000</td>\n",
       "    </tr>\n",
       "    <tr>\n",
       "      <th>25%</th>\n",
       "      <td>4178.50000</td>\n",
       "      <td>2003.000000</td>\n",
       "      <td>0.000000</td>\n",
       "      <td>0.000000</td>\n",
       "      <td>0.000000</td>\n",
       "      <td>0.000000</td>\n",
       "      <td>60.000000</td>\n",
       "    </tr>\n",
       "    <tr>\n",
       "      <th>50%</th>\n",
       "      <td>8357.00000</td>\n",
       "      <td>2007.000000</td>\n",
       "      <td>0.080000</td>\n",
       "      <td>0.020000</td>\n",
       "      <td>0.000000</td>\n",
       "      <td>0.010000</td>\n",
       "      <td>71.000000</td>\n",
       "    </tr>\n",
       "    <tr>\n",
       "      <th>75%</th>\n",
       "      <td>12535.50000</td>\n",
       "      <td>2010.000000</td>\n",
       "      <td>0.240000</td>\n",
       "      <td>0.110000</td>\n",
       "      <td>0.040000</td>\n",
       "      <td>0.030000</td>\n",
       "      <td>79.000000</td>\n",
       "    </tr>\n",
       "    <tr>\n",
       "      <th>max</th>\n",
       "      <td>16714.00000</td>\n",
       "      <td>2016.000000</td>\n",
       "      <td>41.360000</td>\n",
       "      <td>28.960000</td>\n",
       "      <td>10.220000</td>\n",
       "      <td>10.570000</td>\n",
       "      <td>98.000000</td>\n",
       "    </tr>\n",
       "  </tbody>\n",
       "</table>\n",
       "</div>"
      ],
      "text/plain": [
       "        Unnamed: 0  Year_of_Release      NA_sales      EU_sales      JP_sales  \\\n",
       "count  16715.00000     16446.000000  16715.000000  16715.000000  16715.000000   \n",
       "mean    8357.00000      2006.484616      0.263377      0.145060      0.077617   \n",
       "std     4825.34921         5.877050      0.813604      0.503339      0.308853   \n",
       "min        0.00000      1980.000000      0.000000      0.000000      0.000000   \n",
       "25%     4178.50000      2003.000000      0.000000      0.000000      0.000000   \n",
       "50%     8357.00000      2007.000000      0.080000      0.020000      0.000000   \n",
       "75%    12535.50000      2010.000000      0.240000      0.110000      0.040000   \n",
       "max    16714.00000      2016.000000     41.360000     28.960000     10.220000   \n",
       "\n",
       "        Other_sales  Critic_Score  \n",
       "count  16715.000000   8137.000000  \n",
       "mean       0.047342     68.967679  \n",
       "std        0.186731     13.938165  \n",
       "min        0.000000     13.000000  \n",
       "25%        0.000000     60.000000  \n",
       "50%        0.010000     71.000000  \n",
       "75%        0.030000     79.000000  \n",
       "max       10.570000     98.000000  "
      ]
     },
     "execution_count": 4,
     "metadata": {},
     "output_type": "execute_result"
    }
   ],
   "source": [
    "display(df.info())\n",
    "df.describe()"
   ]
  },
  {
   "cell_type": "markdown",
   "metadata": {},
   "source": [
    "Всего в датасете 16715 строк. Продажи по регионам заполнены полностью. В первых 8‑ми столбцах пропущенных значений почти нет, зато в последних трёх, где содержатся рейтинги пользователей, критиков и возрастной рейтинг не хватает до 50% процентов записей. Данные представлены с 1980 по 2016 год. Половина выборки укладывается в 28 лет с [1980 по 2007], вторая в 9 с [2008 по 2016]. Рекорд по прадажам установила северная америка с 41.36 миллионами проданных копий одного тайтла."
   ]
  },
  {
   "cell_type": "markdown",
   "metadata": {},
   "source": [
    "<div class=\"alert alert-success\" style=\"border-radius: 10px; box-shadow: 2px 2px 2px; border: 1px solid; padding: 10px \">\n",
    "<b>Комментарий ревьюера v.1</b> \n",
    "    \n",
    "👍 \n",
    "Хорошая вводная часть.\n",
    "\n",
    "Рекомендую создать универсальную функцию, которая будет принимать на вход датафрейм, а на выходе она будет выводить всего нужные характеристики, например, head, describe, info, дубликаты и т.п.\n",
    "</div>"
   ]
  },
  {
   "cell_type": "markdown",
   "metadata": {},
   "source": [
    "### Подготовка данных"
   ]
  },
  {
   "cell_type": "code",
   "execution_count": 5,
   "metadata": {
    "ExecuteTime": {
     "end_time": "2023-07-06T23:41:11.894906504Z",
     "start_time": "2023-07-06T23:41:11.805936625Z"
    }
   },
   "outputs": [],
   "source": [
    "# Приведём столбцы к нижнему регистру\n",
    "df.columns = df.columns.str.lower()"
   ]
  },
  {
   "cell_type": "code",
   "execution_count": 6,
   "metadata": {
    "ExecuteTime": {
     "end_time": "2023-07-06T23:41:11.895197042Z",
     "start_time": "2023-07-06T23:41:11.813234683Z"
    }
   },
   "outputs": [
    {
     "data": {
      "text/html": [
       "<div>\n",
       "<style scoped>\n",
       "    .dataframe tbody tr th:only-of-type {\n",
       "        vertical-align: middle;\n",
       "    }\n",
       "\n",
       "    .dataframe tbody tr th {\n",
       "        vertical-align: top;\n",
       "    }\n",
       "\n",
       "    .dataframe thead th {\n",
       "        text-align: right;\n",
       "    }\n",
       "</style>\n",
       "<table border=\"1\" class=\"dataframe\">\n",
       "  <thead>\n",
       "    <tr style=\"text-align: right;\">\n",
       "      <th></th>\n",
       "      <th>unnamed: 0</th>\n",
       "      <th>name</th>\n",
       "      <th>platform</th>\n",
       "      <th>year_of_release</th>\n",
       "      <th>genre</th>\n",
       "      <th>na_sales</th>\n",
       "      <th>eu_sales</th>\n",
       "      <th>jp_sales</th>\n",
       "      <th>other_sales</th>\n",
       "      <th>critic_score</th>\n",
       "      <th>user_score</th>\n",
       "      <th>rating</th>\n",
       "    </tr>\n",
       "  </thead>\n",
       "  <tbody>\n",
       "    <tr>\n",
       "      <th>0</th>\n",
       "      <td>0</td>\n",
       "      <td>Wii Sports</td>\n",
       "      <td>Wii</td>\n",
       "      <td>2006.0</td>\n",
       "      <td>Sports</td>\n",
       "      <td>41.36</td>\n",
       "      <td>28.96</td>\n",
       "      <td>3.77</td>\n",
       "      <td>8.45</td>\n",
       "      <td>76.0</td>\n",
       "      <td>8</td>\n",
       "      <td>E</td>\n",
       "    </tr>\n",
       "    <tr>\n",
       "      <th>1</th>\n",
       "      <td>1</td>\n",
       "      <td>Super Mario Bros.</td>\n",
       "      <td>NES</td>\n",
       "      <td>1985.0</td>\n",
       "      <td>Platform</td>\n",
       "      <td>29.08</td>\n",
       "      <td>3.58</td>\n",
       "      <td>6.81</td>\n",
       "      <td>0.77</td>\n",
       "      <td>NaN</td>\n",
       "      <td>NaN</td>\n",
       "      <td>NaN</td>\n",
       "    </tr>\n",
       "    <tr>\n",
       "      <th>2</th>\n",
       "      <td>2</td>\n",
       "      <td>Mario Kart Wii</td>\n",
       "      <td>Wii</td>\n",
       "      <td>2008.0</td>\n",
       "      <td>Racing</td>\n",
       "      <td>15.68</td>\n",
       "      <td>12.76</td>\n",
       "      <td>3.79</td>\n",
       "      <td>3.29</td>\n",
       "      <td>82.0</td>\n",
       "      <td>8.3</td>\n",
       "      <td>E</td>\n",
       "    </tr>\n",
       "    <tr>\n",
       "      <th>3</th>\n",
       "      <td>3</td>\n",
       "      <td>Wii Sports Resort</td>\n",
       "      <td>Wii</td>\n",
       "      <td>2009.0</td>\n",
       "      <td>Sports</td>\n",
       "      <td>15.61</td>\n",
       "      <td>10.93</td>\n",
       "      <td>3.28</td>\n",
       "      <td>2.95</td>\n",
       "      <td>80.0</td>\n",
       "      <td>8</td>\n",
       "      <td>E</td>\n",
       "    </tr>\n",
       "    <tr>\n",
       "      <th>4</th>\n",
       "      <td>4</td>\n",
       "      <td>Pokemon Red/Pokemon Blue</td>\n",
       "      <td>GB</td>\n",
       "      <td>1996.0</td>\n",
       "      <td>Role-Playing</td>\n",
       "      <td>11.27</td>\n",
       "      <td>8.89</td>\n",
       "      <td>10.22</td>\n",
       "      <td>1.00</td>\n",
       "      <td>NaN</td>\n",
       "      <td>NaN</td>\n",
       "      <td>NaN</td>\n",
       "    </tr>\n",
       "  </tbody>\n",
       "</table>\n",
       "</div>"
      ],
      "text/plain": [
       "   unnamed: 0                      name platform  year_of_release  \\\n",
       "0           0                Wii Sports      Wii           2006.0   \n",
       "1           1         Super Mario Bros.      NES           1985.0   \n",
       "2           2            Mario Kart Wii      Wii           2008.0   \n",
       "3           3         Wii Sports Resort      Wii           2009.0   \n",
       "4           4  Pokemon Red/Pokemon Blue       GB           1996.0   \n",
       "\n",
       "          genre  na_sales  eu_sales  jp_sales  other_sales  critic_score  \\\n",
       "0        Sports     41.36     28.96      3.77         8.45          76.0   \n",
       "1      Platform     29.08      3.58      6.81         0.77           NaN   \n",
       "2        Racing     15.68     12.76      3.79         3.29          82.0   \n",
       "3        Sports     15.61     10.93      3.28         2.95          80.0   \n",
       "4  Role-Playing     11.27      8.89     10.22         1.00           NaN   \n",
       "\n",
       "  user_score rating  \n",
       "0          8      E  \n",
       "1        NaN    NaN  \n",
       "2        8.3      E  \n",
       "3          8      E  \n",
       "4        NaN    NaN  "
      ]
     },
     "execution_count": 6,
     "metadata": {},
     "output_type": "execute_result"
    }
   ],
   "source": [
    "# посмотрим на датафрейм и оценим какие типы столбцов можно заменить\n",
    "df.head()"
   ]
  },
  {
   "cell_type": "code",
   "execution_count": 7,
   "metadata": {
    "ExecuteTime": {
     "end_time": "2023-07-06T23:41:11.967151953Z",
     "start_time": "2023-07-06T23:41:11.844190779Z"
    }
   },
   "outputs": [],
   "source": [
    "# Кандидаты на замену типа столбцы year of release и user_score\n",
    "df.loc[df.user_score == 'tbd', 'user_score'] = -9\n",
    "df['user_score'] = df.user_score.astype('float64')\n",
    "df.loc[df.year_of_release.isna(), 'year_of_release'] = -9\n",
    "df['year_of_release'] = df.year_of_release.astype(int)"
   ]
  },
  {
   "cell_type": "markdown",
   "metadata": {},
   "source": [
    "В таблице был изменён тип столбца user_score с object на float, так как рейтинг это численное значение. Для этого пришлось заменить строковую запись 'tbd', по всей видимости расшифровывающейся to be determined, на -9. Такое значение выбрано специально, поскольку оно явно выпадает из рейтинга и его будет легко найти в последующем. Также был изменён тип столбца year_of_release с float на int, для красоты графиков в будущем, иначе .0 будет мозолить глаза. Для этого пришлось заполнить отсутствующие значения цифрой -9."
   ]
  },
  {
   "cell_type": "markdown",
   "metadata": {},
   "source": [
    "<div class=\"alert alert-success\" style=\"border-radius: 10px; box-shadow: 2px 2px 2px; border: 1px solid; padding: 10px \">\n",
    "<b>Комментарий ревьюера v.1</b> \n",
    "    \n",
    "👍 Верно, `tbd` означает `To Be Determined`, т.к. игра ещё не выпущена. Тут можно заменить заглушкой, а можно привести в nan\n",
    "</div>"
   ]
  },
  {
   "cell_type": "code",
   "execution_count": 8,
   "metadata": {
    "ExecuteTime": {
     "end_time": "2023-07-06T23:41:11.992246710Z",
     "start_time": "2023-07-06T23:41:11.887638099Z"
    }
   },
   "outputs": [
    {
     "name": "stdout",
     "output_type": "stream",
     "text": [
      "Заменили в user_score 2424 значений, tbd -> -9\n",
      "Заменили в year_of_release 269 значений, NaN -> -9\n"
     ]
    }
   ],
   "source": [
    "# Итого мы заменили\n",
    "print('Заменили в user_score', sum(df.user_score == -9), 'значений, tbd -> -9')\n",
    "print('Заменили в year_of_release', sum(df.year_of_release == -9), 'значений, NaN -> -9')"
   ]
  },
  {
   "cell_type": "code",
   "execution_count": 9,
   "metadata": {
    "ExecuteTime": {
     "end_time": "2023-07-06T23:41:12.343682400Z",
     "start_time": "2023-07-06T23:41:11.887795548Z"
    }
   },
   "outputs": [
    {
     "data": {
      "text/html": [
       "<style type=\"text/css\">\n",
       "#T_d7af7_row0_col0, #T_d7af7_row1_col0, #T_d7af7_row2_col0, #T_d7af7_row3_col0, #T_d7af7_row4_col0, #T_d7af7_row5_col0, #T_d7af7_row6_col0, #T_d7af7_row7_col0, #T_d7af7_row8_col0 {\n",
       "  background-color: #3b4cc0;\n",
       "  color: #f1f1f1;\n",
       "}\n",
       "#T_d7af7_row9_col0 {\n",
       "  background-color: #b40426;\n",
       "  color: #f1f1f1;\n",
       "}\n",
       "#T_d7af7_row10_col0, #T_d7af7_row11_col0 {\n",
       "  background-color: #f08b6e;\n",
       "  color: #f1f1f1;\n",
       "}\n",
       "</style>\n",
       "<table id=\"T_d7af7\">\n",
       "  <thead>\n",
       "    <tr>\n",
       "      <th class=\"blank level0\" >&nbsp;</th>\n",
       "      <th id=\"T_d7af7_level0_col0\" class=\"col_heading level0 col0\" >0</th>\n",
       "    </tr>\n",
       "  </thead>\n",
       "  <tbody>\n",
       "    <tr>\n",
       "      <th id=\"T_d7af7_level0_row0\" class=\"row_heading level0 row0\" >unnamed: 0</th>\n",
       "      <td id=\"T_d7af7_row0_col0\" class=\"data row0 col0\" >0.000000</td>\n",
       "    </tr>\n",
       "    <tr>\n",
       "      <th id=\"T_d7af7_level0_row1\" class=\"row_heading level0 row1\" >name</th>\n",
       "      <td id=\"T_d7af7_row1_col0\" class=\"data row1 col0\" >0.000000</td>\n",
       "    </tr>\n",
       "    <tr>\n",
       "      <th id=\"T_d7af7_level0_row2\" class=\"row_heading level0 row2\" >platform</th>\n",
       "      <td id=\"T_d7af7_row2_col0\" class=\"data row2 col0\" >0.000000</td>\n",
       "    </tr>\n",
       "    <tr>\n",
       "      <th id=\"T_d7af7_level0_row3\" class=\"row_heading level0 row3\" >year_of_release</th>\n",
       "      <td id=\"T_d7af7_row3_col0\" class=\"data row3 col0\" >0.000000</td>\n",
       "    </tr>\n",
       "    <tr>\n",
       "      <th id=\"T_d7af7_level0_row4\" class=\"row_heading level0 row4\" >genre</th>\n",
       "      <td id=\"T_d7af7_row4_col0\" class=\"data row4 col0\" >0.000000</td>\n",
       "    </tr>\n",
       "    <tr>\n",
       "      <th id=\"T_d7af7_level0_row5\" class=\"row_heading level0 row5\" >na_sales</th>\n",
       "      <td id=\"T_d7af7_row5_col0\" class=\"data row5 col0\" >0.000000</td>\n",
       "    </tr>\n",
       "    <tr>\n",
       "      <th id=\"T_d7af7_level0_row6\" class=\"row_heading level0 row6\" >eu_sales</th>\n",
       "      <td id=\"T_d7af7_row6_col0\" class=\"data row6 col0\" >0.000000</td>\n",
       "    </tr>\n",
       "    <tr>\n",
       "      <th id=\"T_d7af7_level0_row7\" class=\"row_heading level0 row7\" >jp_sales</th>\n",
       "      <td id=\"T_d7af7_row7_col0\" class=\"data row7 col0\" >0.000000</td>\n",
       "    </tr>\n",
       "    <tr>\n",
       "      <th id=\"T_d7af7_level0_row8\" class=\"row_heading level0 row8\" >other_sales</th>\n",
       "      <td id=\"T_d7af7_row8_col0\" class=\"data row8 col0\" >0.000000</td>\n",
       "    </tr>\n",
       "    <tr>\n",
       "      <th id=\"T_d7af7_level0_row9\" class=\"row_heading level0 row9\" >critic_score</th>\n",
       "      <td id=\"T_d7af7_row9_col0\" class=\"data row9 col0\" >51.000000</td>\n",
       "    </tr>\n",
       "    <tr>\n",
       "      <th id=\"T_d7af7_level0_row10\" class=\"row_heading level0 row10\" >user_score</th>\n",
       "      <td id=\"T_d7af7_row10_col0\" class=\"data row10 col0\" >40.000000</td>\n",
       "    </tr>\n",
       "    <tr>\n",
       "      <th id=\"T_d7af7_level0_row11\" class=\"row_heading level0 row11\" >rating</th>\n",
       "      <td id=\"T_d7af7_row11_col0\" class=\"data row11 col0\" >40.000000</td>\n",
       "    </tr>\n",
       "  </tbody>\n",
       "</table>\n"
      ],
      "text/plain": [
       "<pandas.io.formats.style.Styler at 0x7f38e81df8b0>"
      ]
     },
     "execution_count": 9,
     "metadata": {},
     "output_type": "execute_result"
    }
   ],
   "source": [
    "# Посчитаем процент пропущенных значений в нашей таблице\n",
    "pd.DataFrame(round(df.isna().mean()*100,)).style.background_gradient('coolwarm')"
   ]
  },
  {
   "cell_type": "markdown",
   "metadata": {},
   "source": [
    "<div class=\"alert alert-danger\" style=\"border-radius: 10px; box-shadow: 2px 2px 2px; border: 1px solid; padding: 10px \">\n",
    "<b>Комментарий ревьюера v.1</b> \n",
    "    \n",
    "✍ \n",
    "Падение кода\n",
    "</div>"
   ]
  },
  {
   "cell_type": "markdown",
   "metadata": {},
   "source": [
    "<div class=\"alert alert-info\" style=\"border-radius: 10px; box-shadow: 2px 2px 2px; border: 1px solid; padding: 10px \"> \n",
    "<b>Комментарий студента</b> \n",
    "    \n",
    "Поправил. Я работаю локально. После загрузки локального ноутбука возможности проверить работоспособность нет. Система позволяет только залить другую версию ноутбука. Не знаю что делать, очень неудобно.\n",
    "</div>\n"
   ]
  },
  {
   "cell_type": "markdown",
   "metadata": {},
   "source": [
    "Видно, что в столбцах critic_score, user_score и rating очень много пропущенных значений. Заполнять я их не буду, поскольку считаю средняя или медиана может быть не репрезентативна, когда столько значений пропущено."
   ]
  },
  {
   "cell_type": "code",
   "execution_count": 10,
   "metadata": {
    "ExecuteTime": {
     "end_time": "2023-07-06T23:41:13.110346749Z",
     "start_time": "2023-07-06T23:41:12.072520374Z"
    }
   },
   "outputs": [
    {
     "name": "stdout",
     "output_type": "stream",
     "text": [
      "Игры \"без рейтинга\" shape (6621, 12)\n"
     ]
    },
    {
     "data": {
      "image/png": "[encoded data removed]",
      "text/plain": [
       "<Figure size 432x288 with 1 Axes>"
      ]
     },
     "metadata": {
      "needs_background": "light"
     },
     "output_type": "display_data"
    }
   ],
   "source": [
    "# Взглянем на игры без рейтингов\n",
    "no_rating_games = df[(df.critic_score.isna()) & (df.user_score.isna()) & (df.rating.isna())]\n",
    "no_rating_games.year_of_release.value_counts().plot(kind='bar', xlabel='Год выпуска', ylabel='Количество игр');\n",
    "print('Игры \"без рейтинга\" shape', no_rating_games.shape)"
   ]
  },
  {
   "cell_type": "markdown",
   "metadata": {},
   "source": [
    "Похоже, что в большинстве случаев отсутствуют одновременно 3 столбца: critic_score, user_score и rating, всего таких значений 6621. Моим изначальным предположением было что рейтинги отсутствуют в основном у старых и очень старых игр, но глядя на столбиковую диаграмму такой вывод сделать нельзя. Так как в 2015 таких игр более 250."
   ]
  },
  {
   "cell_type": "code",
   "execution_count": 11,
   "metadata": {
    "ExecuteTime": {
     "end_time": "2023-07-06T23:41:14.882499120Z",
     "start_time": "2023-07-06T23:41:13.114287438Z"
    }
   },
   "outputs": [
    {
     "data": {
      "image/png": "[encoded data removed]",
      "text/plain": [
       "<Figure size 1008x288 with 2 Axes>"
      ]
     },
     "metadata": {
      "needs_background": "light"
     },
     "output_type": "display_data"
    }
   ],
   "source": [
    "# Сравним платформы для игр с пропусками в рейтингах и без\n",
    "figure, axis = plt.subplots(1, 2, figsize=(14, 4))\n",
    "no_rating_games.platform.value_counts().plot(kind='bar', xlabel='платформа', ylabel='количество игр', title='игры \"без рейтингов\"', ax=axis[0])\n",
    "df.platform.value_counts().plot(kind='bar', xlabel='платформа', ylabel='количество игр', title=\"полный датафрейм\", ax=axis[1]);"
   ]
  },
  {
   "cell_type": "markdown",
   "metadata": {},
   "source": [
    "<div class=\"alert alert-warning\" style=\"border-radius: 10px; box-shadow: 2px 2px 2px; border: 1px solid; padding: 10px \">\n",
    "<b>Комментарий ревьюера v.1</b> \n",
    "    \n",
    "📝 \n",
    "По правилам хорошего тона, все импорты лучше выносить в первой ячейке исследования. Так твой коллега, запускающий работу, будет в курсе используемых в ней библиотек и сможет при необходимости быстро настроить окружение.\n",
    "</div>"
   ]
  },
  {
   "cell_type": "markdown",
   "metadata": {},
   "source": [
    "<div class=\"alert alert-danger\" style=\"border-radius: 10px; box-shadow: 2px 2px 2px; border: 1px solid; padding: 10px \">\n",
    "<b>Комментарий ревьюера v.1</b> \n",
    "    \n",
    "✍ \n",
    "К сожалению здесь код упал с ошбкой. Поправь, пожалуйста и я буду ждать твой проект на повторное ревью.\n",
    "</div>"
   ]
  },
  {
   "cell_type": "markdown",
   "metadata": {},
   "source": [
    "<div class=\"alert alert-info\" style=\"border-radius: 10px; box-shadow: 2px 2px 2px; border: 1px solid; padding: 10px \"> \n",
    "<b>Комментарий студента</b> \n",
    "    \n",
    "Поправил\n",
    "</div>"
   ]
  },
  {
   "cell_type": "markdown",
   "metadata": {},
   "source": [
    "<div class=\"alert alert-success\" style=\"border-radius: 10px; box-shadow: 2px 2px 2px; border: 1px solid; padding: 10px \">\n",
    "<b>Комментарий ревьюера v.2</b> \n",
    "    \n",
    "👍 \n",
    "\n",
    "</div>"
   ]
  },
  {
   "cell_type": "code",
   "execution_count": 12,
   "metadata": {
    "ExecuteTime": {
     "end_time": "2023-07-06T23:41:17.341588919Z",
     "start_time": "2023-07-06T23:41:14.880545559Z"
    }
   },
   "outputs": [
    {
     "data": {
      "image/png": "[encoded data removed]",
      "text/plain": [
       "<Figure size 1008x288 with 2 Axes>"
      ]
     },
     "metadata": {
      "needs_background": "light"
     },
     "output_type": "display_data"
    }
   ],
   "source": [
    "figure, axis = plt.subplots(1,2, figsize=(14, 4))\n",
    "\n",
    "platform_count = pd.concat([no_rating_games.platform.value_counts(), df.platform.value_counts()], axis=1)\n",
    "platform_count.columns = ['count_no_rating', 'count_all']\n",
    "platform_count.reset_index(inplace=True)\n",
    "platform_count.plot(x='platform', y=['count_no_rating', 'count_all'], kind='bar', ax = axis[0], title='В абсолютных значениях')\n",
    "platform_count['count_no_rating_%'] = platform_count['count_no_rating']/no_rating_games.shape[0]*100\n",
    "platform_count['count_all_%'] = platform_count['count_all']/df.shape[0]*100\n",
    "platform_count.plot(x='platform', y=['count_no_rating_%', 'count_all_%'], kind='bar', ax = axis[1], title='В процентах от количества значений');"
   ]
  },
  {
   "cell_type": "markdown",
   "metadata": {},
   "source": [
    "И все-таки, возможно, гипотеза о том что рейтинги не проставляются на старые игры может быть верна. Мы видим что в группе \"без рейтинга\" лидирует оригинальный плейстейшн, старая PSP в процентном отношении обгоняет PSP в общем датасете. Возможно одни и те же игры считаются разными играми в зависимости от платформы? И когда выходит новая игра на нескольких платформах, старые платформы просто игнорируются оценщиками. Для этого надо проверить датафрейм на полные и частичные дубли."
   ]
  },
  {
   "cell_type": "code",
   "execution_count": 13,
   "metadata": {
    "ExecuteTime": {
     "end_time": "2023-07-06T23:41:17.591011896Z",
     "start_time": "2023-07-06T23:41:17.322713158Z"
    }
   },
   "outputs": [
    {
     "name": "stdout",
     "output_type": "stream",
     "text": [
      "Полные дубли, shape (0, 12)\n",
      "Дубли по имени, shape (7961, 12)\n"
     ]
    },
    {
     "data": {
      "text/html": [
       "<style type=\"text/css\">\n",
       "#T_47e14_row0_col0, #T_47e14_row1_col0, #T_47e14_row2_col0, #T_47e14_row3_col0, #T_47e14_row4_col0, #T_47e14_row5_col0, #T_47e14_row6_col0, #T_47e14_row7_col0, #T_47e14_row8_col0 {\n",
       "  background-color: #3b4cc0;\n",
       "  color: #f1f1f1;\n",
       "}\n",
       "#T_47e14_row9_col0 {\n",
       "  background-color: #b40426;\n",
       "  color: #f1f1f1;\n",
       "}\n",
       "#T_47e14_row10_col0, #T_47e14_row11_col0 {\n",
       "  background-color: #f5c0a7;\n",
       "  color: #000000;\n",
       "}\n",
       "</style>\n",
       "<table id=\"T_47e14\">\n",
       "  <thead>\n",
       "    <tr>\n",
       "      <th class=\"blank level0\" >&nbsp;</th>\n",
       "      <th id=\"T_47e14_level0_col0\" class=\"col_heading level0 col0\" >0</th>\n",
       "    </tr>\n",
       "  </thead>\n",
       "  <tbody>\n",
       "    <tr>\n",
       "      <th id=\"T_47e14_level0_row0\" class=\"row_heading level0 row0\" >unnamed: 0</th>\n",
       "      <td id=\"T_47e14_row0_col0\" class=\"data row0 col0\" >0.000000</td>\n",
       "    </tr>\n",
       "    <tr>\n",
       "      <th id=\"T_47e14_level0_row1\" class=\"row_heading level0 row1\" >name</th>\n",
       "      <td id=\"T_47e14_row1_col0\" class=\"data row1 col0\" >0.000000</td>\n",
       "    </tr>\n",
       "    <tr>\n",
       "      <th id=\"T_47e14_level0_row2\" class=\"row_heading level0 row2\" >platform</th>\n",
       "      <td id=\"T_47e14_row2_col0\" class=\"data row2 col0\" >0.000000</td>\n",
       "    </tr>\n",
       "    <tr>\n",
       "      <th id=\"T_47e14_level0_row3\" class=\"row_heading level0 row3\" >year_of_release</th>\n",
       "      <td id=\"T_47e14_row3_col0\" class=\"data row3 col0\" >0.000000</td>\n",
       "    </tr>\n",
       "    <tr>\n",
       "      <th id=\"T_47e14_level0_row4\" class=\"row_heading level0 row4\" >genre</th>\n",
       "      <td id=\"T_47e14_row4_col0\" class=\"data row4 col0\" >0.000000</td>\n",
       "    </tr>\n",
       "    <tr>\n",
       "      <th id=\"T_47e14_level0_row5\" class=\"row_heading level0 row5\" >na_sales</th>\n",
       "      <td id=\"T_47e14_row5_col0\" class=\"data row5 col0\" >0.000000</td>\n",
       "    </tr>\n",
       "    <tr>\n",
       "      <th id=\"T_47e14_level0_row6\" class=\"row_heading level0 row6\" >eu_sales</th>\n",
       "      <td id=\"T_47e14_row6_col0\" class=\"data row6 col0\" >0.000000</td>\n",
       "    </tr>\n",
       "    <tr>\n",
       "      <th id=\"T_47e14_level0_row7\" class=\"row_heading level0 row7\" >jp_sales</th>\n",
       "      <td id=\"T_47e14_row7_col0\" class=\"data row7 col0\" >0.000000</td>\n",
       "    </tr>\n",
       "    <tr>\n",
       "      <th id=\"T_47e14_level0_row8\" class=\"row_heading level0 row8\" >other_sales</th>\n",
       "      <td id=\"T_47e14_row8_col0\" class=\"data row8 col0\" >0.000000</td>\n",
       "    </tr>\n",
       "    <tr>\n",
       "      <th id=\"T_47e14_level0_row9\" class=\"row_heading level0 row9\" >critic_score</th>\n",
       "      <td id=\"T_47e14_row9_col0\" class=\"data row9 col0\" >36.000000</td>\n",
       "    </tr>\n",
       "    <tr>\n",
       "      <th id=\"T_47e14_level0_row10\" class=\"row_heading level0 row10\" >user_score</th>\n",
       "      <td id=\"T_47e14_row10_col0\" class=\"data row10 col0\" >23.000000</td>\n",
       "    </tr>\n",
       "    <tr>\n",
       "      <th id=\"T_47e14_level0_row11\" class=\"row_heading level0 row11\" >rating</th>\n",
       "      <td id=\"T_47e14_row11_col0\" class=\"data row11 col0\" >23.000000</td>\n",
       "    </tr>\n",
       "  </tbody>\n",
       "</table>\n"
      ],
      "text/plain": [
       "<pandas.io.formats.style.Styler at 0x7f38e8016c10>"
      ]
     },
     "metadata": {},
     "output_type": "display_data"
    },
    {
     "data": {
      "text/html": [
       "<div>\n",
       "<style scoped>\n",
       "    .dataframe tbody tr th:only-of-type {\n",
       "        vertical-align: middle;\n",
       "    }\n",
       "\n",
       "    .dataframe tbody tr th {\n",
       "        vertical-align: top;\n",
       "    }\n",
       "\n",
       "    .dataframe thead th {\n",
       "        text-align: right;\n",
       "    }\n",
       "</style>\n",
       "<table border=\"1\" class=\"dataframe\">\n",
       "  <thead>\n",
       "    <tr style=\"text-align: right;\">\n",
       "      <th></th>\n",
       "      <th>unnamed: 0</th>\n",
       "      <th>name</th>\n",
       "      <th>platform</th>\n",
       "      <th>year_of_release</th>\n",
       "      <th>genre</th>\n",
       "      <th>na_sales</th>\n",
       "      <th>eu_sales</th>\n",
       "      <th>jp_sales</th>\n",
       "      <th>other_sales</th>\n",
       "      <th>critic_score</th>\n",
       "      <th>user_score</th>\n",
       "      <th>rating</th>\n",
       "    </tr>\n",
       "  </thead>\n",
       "  <tbody>\n",
       "    <tr>\n",
       "      <th>3862</th>\n",
       "      <td>3862</td>\n",
       "      <td>Frozen: Olaf's Quest</td>\n",
       "      <td>DS</td>\n",
       "      <td>2013</td>\n",
       "      <td>Platform</td>\n",
       "      <td>0.21</td>\n",
       "      <td>0.26</td>\n",
       "      <td>0.00</td>\n",
       "      <td>0.04</td>\n",
       "      <td>NaN</td>\n",
       "      <td>NaN</td>\n",
       "      <td>NaN</td>\n",
       "    </tr>\n",
       "    <tr>\n",
       "      <th>3358</th>\n",
       "      <td>3358</td>\n",
       "      <td>Frozen: Olaf's Quest</td>\n",
       "      <td>3DS</td>\n",
       "      <td>2013</td>\n",
       "      <td>Platform</td>\n",
       "      <td>0.27</td>\n",
       "      <td>0.27</td>\n",
       "      <td>0.00</td>\n",
       "      <td>0.05</td>\n",
       "      <td>NaN</td>\n",
       "      <td>NaN</td>\n",
       "      <td>NaN</td>\n",
       "    </tr>\n",
       "    <tr>\n",
       "      <th>14658</th>\n",
       "      <td>14658</td>\n",
       "      <td>007: Quantum of Solace</td>\n",
       "      <td>PC</td>\n",
       "      <td>2008</td>\n",
       "      <td>Action</td>\n",
       "      <td>0.01</td>\n",
       "      <td>0.01</td>\n",
       "      <td>0.00</td>\n",
       "      <td>0.00</td>\n",
       "      <td>70.0</td>\n",
       "      <td>6.3</td>\n",
       "      <td>T</td>\n",
       "    </tr>\n",
       "    <tr>\n",
       "      <th>9507</th>\n",
       "      <td>9507</td>\n",
       "      <td>007: Quantum of Solace</td>\n",
       "      <td>DS</td>\n",
       "      <td>2008</td>\n",
       "      <td>Action</td>\n",
       "      <td>0.11</td>\n",
       "      <td>0.01</td>\n",
       "      <td>0.00</td>\n",
       "      <td>0.01</td>\n",
       "      <td>65.0</td>\n",
       "      <td>-9.0</td>\n",
       "      <td>T</td>\n",
       "    </tr>\n",
       "    <tr>\n",
       "      <th>3120</th>\n",
       "      <td>3120</td>\n",
       "      <td>007: Quantum of Solace</td>\n",
       "      <td>Wii</td>\n",
       "      <td>2008</td>\n",
       "      <td>Action</td>\n",
       "      <td>0.29</td>\n",
       "      <td>0.28</td>\n",
       "      <td>0.01</td>\n",
       "      <td>0.07</td>\n",
       "      <td>54.0</td>\n",
       "      <td>7.5</td>\n",
       "      <td>T</td>\n",
       "    </tr>\n",
       "  </tbody>\n",
       "</table>\n",
       "</div>"
      ],
      "text/plain": [
       "       unnamed: 0                    name platform  year_of_release     genre  \\\n",
       "3862         3862    Frozen: Olaf's Quest       DS             2013  Platform   \n",
       "3358         3358    Frozen: Olaf's Quest      3DS             2013  Platform   \n",
       "14658       14658  007: Quantum of Solace       PC             2008    Action   \n",
       "9507         9507  007: Quantum of Solace       DS             2008    Action   \n",
       "3120         3120  007: Quantum of Solace      Wii             2008    Action   \n",
       "\n",
       "       na_sales  eu_sales  jp_sales  other_sales  critic_score  user_score  \\\n",
       "3862       0.21      0.26      0.00         0.04           NaN         NaN   \n",
       "3358       0.27      0.27      0.00         0.05           NaN         NaN   \n",
       "14658      0.01      0.01      0.00         0.00          70.0         6.3   \n",
       "9507       0.11      0.01      0.00         0.01          65.0        -9.0   \n",
       "3120       0.29      0.28      0.01         0.07          54.0         7.5   \n",
       "\n",
       "      rating  \n",
       "3862     NaN  \n",
       "3358     NaN  \n",
       "14658      T  \n",
       "9507       T  \n",
       "3120       T  "
      ]
     },
     "execution_count": 13,
     "metadata": {},
     "output_type": "execute_result"
    }
   ],
   "source": [
    "print(\"Полные дубли, shape\", df[df.duplicated()].shape)\n",
    "duplicated_games = df[df.name.duplicated(keep=False)].sort_values(by='name')\n",
    "print(\"Дубли по имени, shape\", duplicated_games.shape)\n",
    "display(pd.DataFrame(round(duplicated_games.isna().mean()*100,)).style.background_gradient('coolwarm'))\n",
    "duplicated_games.head()"
   ]
  },
  {
   "cell_type": "markdown",
   "metadata": {},
   "source": [
    "Итак, 47 процентов нашего датасета являются дублями одних и тех же игр на разных платформах. Часть из них тоже \"без рейтингов\", но доля в этой подгруппе меньше чем в общей выборке, поэтому гипотезу о том что пропуски появляются из-за старых платформ мы тоже не можем подтвердить. Возможно две гипотезы о старых играх и старых платформах влияют одновременно, или в базу данных не внесли данные. Или просто игра была настолько не популярной, что никто не удосужился её оценить. Также возможен вариант, что игра выходила только, например, в Японии, а головной офис, где формируется база данных, находится в Америке."
   ]
  },
  {
   "cell_type": "markdown",
   "metadata": {},
   "source": [
    "<div class=\"alert alert-success\" style=\"border-radius: 10px; box-shadow: 2px 2px 2px; border: 1px solid; padding: 10px \">\n",
    "<b>Комментарий ревьюера v.1</b> \n",
    "    \n",
    "👍 \n",
    "Молодец, что не забываешь про явные дубликаты.\n",
    "</div>"
   ]
  },
  {
   "cell_type": "code",
   "execution_count": 14,
   "metadata": {},
   "outputs": [
    {
     "data": {
      "text/html": [
       "<div>\n",
       "<style scoped>\n",
       "    .dataframe tbody tr th:only-of-type {\n",
       "        vertical-align: middle;\n",
       "    }\n",
       "\n",
       "    .dataframe tbody tr th {\n",
       "        vertical-align: top;\n",
       "    }\n",
       "\n",
       "    .dataframe thead th {\n",
       "        text-align: right;\n",
       "    }\n",
       "</style>\n",
       "<table border=\"1\" class=\"dataframe\">\n",
       "  <thead>\n",
       "    <tr style=\"text-align: right;\">\n",
       "      <th></th>\n",
       "      <th>unnamed: 0</th>\n",
       "      <th>name</th>\n",
       "      <th>platform</th>\n",
       "      <th>year_of_release</th>\n",
       "      <th>genre</th>\n",
       "      <th>na_sales</th>\n",
       "      <th>eu_sales</th>\n",
       "      <th>jp_sales</th>\n",
       "      <th>other_sales</th>\n",
       "      <th>critic_score</th>\n",
       "      <th>user_score</th>\n",
       "      <th>rating</th>\n",
       "    </tr>\n",
       "  </thead>\n",
       "  <tbody>\n",
       "    <tr>\n",
       "      <th>604</th>\n",
       "      <td>604</td>\n",
       "      <td>Madden NFL 13</td>\n",
       "      <td>PS3</td>\n",
       "      <td>2012</td>\n",
       "      <td>Sports</td>\n",
       "      <td>2.11</td>\n",
       "      <td>0.22</td>\n",
       "      <td>0.00</td>\n",
       "      <td>0.23</td>\n",
       "      <td>83.0</td>\n",
       "      <td>5.5</td>\n",
       "      <td>E</td>\n",
       "    </tr>\n",
       "    <tr>\n",
       "      <th>659</th>\n",
       "      <td>659</td>\n",
       "      <td>NaN</td>\n",
       "      <td>GEN</td>\n",
       "      <td>1993</td>\n",
       "      <td>NaN</td>\n",
       "      <td>1.78</td>\n",
       "      <td>0.53</td>\n",
       "      <td>0.00</td>\n",
       "      <td>0.08</td>\n",
       "      <td>NaN</td>\n",
       "      <td>NaN</td>\n",
       "      <td>NaN</td>\n",
       "    </tr>\n",
       "    <tr>\n",
       "      <th>14244</th>\n",
       "      <td>14244</td>\n",
       "      <td>NaN</td>\n",
       "      <td>GEN</td>\n",
       "      <td>1993</td>\n",
       "      <td>NaN</td>\n",
       "      <td>0.00</td>\n",
       "      <td>0.00</td>\n",
       "      <td>0.03</td>\n",
       "      <td>0.00</td>\n",
       "      <td>NaN</td>\n",
       "      <td>NaN</td>\n",
       "      <td>NaN</td>\n",
       "    </tr>\n",
       "    <tr>\n",
       "      <th>16230</th>\n",
       "      <td>16230</td>\n",
       "      <td>Madden NFL 13</td>\n",
       "      <td>PS3</td>\n",
       "      <td>2012</td>\n",
       "      <td>Sports</td>\n",
       "      <td>0.00</td>\n",
       "      <td>0.01</td>\n",
       "      <td>0.00</td>\n",
       "      <td>0.00</td>\n",
       "      <td>83.0</td>\n",
       "      <td>5.5</td>\n",
       "      <td>E</td>\n",
       "    </tr>\n",
       "  </tbody>\n",
       "</table>\n",
       "</div>"
      ],
      "text/plain": [
       "       unnamed: 0           name platform  year_of_release   genre  na_sales  \\\n",
       "604           604  Madden NFL 13      PS3             2012  Sports      2.11   \n",
       "659           659            NaN      GEN             1993     NaN      1.78   \n",
       "14244       14244            NaN      GEN             1993     NaN      0.00   \n",
       "16230       16230  Madden NFL 13      PS3             2012  Sports      0.00   \n",
       "\n",
       "       eu_sales  jp_sales  other_sales  critic_score  user_score rating  \n",
       "604        0.22      0.00         0.23          83.0         5.5      E  \n",
       "659        0.53      0.00         0.08           NaN         NaN    NaN  \n",
       "14244      0.00      0.03         0.00           NaN         NaN    NaN  \n",
       "16230      0.01      0.00         0.00          83.0         5.5      E  "
      ]
     },
     "metadata": {},
     "output_type": "display_data"
    },
    {
     "data": {
      "text/html": [
       "<div>\n",
       "<style scoped>\n",
       "    .dataframe tbody tr th:only-of-type {\n",
       "        vertical-align: middle;\n",
       "    }\n",
       "\n",
       "    .dataframe tbody tr th {\n",
       "        vertical-align: top;\n",
       "    }\n",
       "\n",
       "    .dataframe thead th {\n",
       "        text-align: right;\n",
       "    }\n",
       "</style>\n",
       "<table border=\"1\" class=\"dataframe\">\n",
       "  <thead>\n",
       "    <tr style=\"text-align: right;\">\n",
       "      <th></th>\n",
       "      <th>unnamed: 0</th>\n",
       "      <th>name</th>\n",
       "      <th>platform</th>\n",
       "      <th>year_of_release</th>\n",
       "      <th>genre</th>\n",
       "      <th>na_sales</th>\n",
       "      <th>eu_sales</th>\n",
       "      <th>jp_sales</th>\n",
       "      <th>other_sales</th>\n",
       "      <th>critic_score</th>\n",
       "      <th>user_score</th>\n",
       "      <th>rating</th>\n",
       "    </tr>\n",
       "  </thead>\n",
       "  <tbody>\n",
       "  </tbody>\n",
       "</table>\n",
       "</div>"
      ],
      "text/plain": [
       "Empty DataFrame\n",
       "Columns: [unnamed: 0, name, platform, year_of_release, genre, na_sales, eu_sales, jp_sales, other_sales, critic_score, user_score, rating]\n",
       "Index: []"
      ]
     },
     "execution_count": 14,
     "metadata": {},
     "output_type": "execute_result"
    }
   ],
   "source": [
    "# Поиск частичных дублей\n",
    "display(implicit_dup := df[df[['name', 'platform','year_of_release']].duplicated(keep=False)])\n",
    "df = df.drop(implicit_dup.index[1:])\n",
    "df[df[['name', 'platform','year_of_release']].duplicated(keep=False)]"
   ]
  },
  {
   "cell_type": "markdown",
   "metadata": {},
   "source": [
    "Проверка на неявные дубликаты выявила 2 задублированные игры. В случае MaddenNFL первую запись можно оставить, так как она несёт в себе полезную информацию в отличие от второй, где отсутствуют продажи и рейтинги. Во втором случае неизвестно название игры, поэтому отбрасываем обе записи."
   ]
  },
  {
   "cell_type": "markdown",
   "metadata": {},
   "source": [
    "<div class=\"alert alert-danger\" style=\"border-radius: 10px; box-shadow: 2px 2px 2px; border: 1px solid; padding: 10px \">\n",
    "<b>Комментарий ревьюера v.1</b> \n",
    "    \n",
    "✍ \n",
    "Но, также мы можем проверить наличие неявных дубликатов. Неявные дубликаты могут появиться в случаях, когда данные собирались из разных источников или в системе были какие-то сбои при логировании. Я пометил этот момент красным, для того, что бы мы попрактиковались в этом, также это пригодится в следующих проектах.\n",
    "    \n",
    "Сделать это можно так: мы уже привели названия столбцов к нижнему регистру, теперь проведем вот такую проверку `data[data[['name', 'platform','year_of_release']].duplicated(keep=False)]`\n",
    "    \n",
    "Попробуй, пожалуйста, реализовать и сделать заключение, есть ли неявные дубликаты и что мы можем с ними сделать :)\n",
    "</div>"
   ]
  },
  {
   "cell_type": "markdown",
   "metadata": {},
   "source": [
    "<div class=\"alert alert-info\" style=\"border-radius: 10px; box-shadow: 2px 2px 2px; border: 1px solid; padding: 10px \"> \n",
    "<b>Комментарий студента</b> \n",
    "    \n",
    "Поправил\n",
    "</div>\n"
   ]
  },
  {
   "cell_type": "code",
   "execution_count": 15,
   "metadata": {
    "ExecuteTime": {
     "end_time": "2023-07-06T23:41:17.591392099Z",
     "start_time": "2023-07-06T23:41:17.407470005Z"
    }
   },
   "outputs": [
    {
     "data": {
      "text/html": [
       "<div>\n",
       "<style scoped>\n",
       "    .dataframe tbody tr th:only-of-type {\n",
       "        vertical-align: middle;\n",
       "    }\n",
       "\n",
       "    .dataframe tbody tr th {\n",
       "        vertical-align: top;\n",
       "    }\n",
       "\n",
       "    .dataframe thead th {\n",
       "        text-align: right;\n",
       "    }\n",
       "</style>\n",
       "<table border=\"1\" class=\"dataframe\">\n",
       "  <thead>\n",
       "    <tr style=\"text-align: right;\">\n",
       "      <th></th>\n",
       "      <th>unnamed: 0</th>\n",
       "      <th>name</th>\n",
       "      <th>platform</th>\n",
       "      <th>year_of_release</th>\n",
       "      <th>genre</th>\n",
       "      <th>na_sales</th>\n",
       "      <th>eu_sales</th>\n",
       "      <th>jp_sales</th>\n",
       "      <th>other_sales</th>\n",
       "      <th>critic_score</th>\n",
       "      <th>user_score</th>\n",
       "      <th>rating</th>\n",
       "      <th>sales_sum</th>\n",
       "    </tr>\n",
       "  </thead>\n",
       "  <tbody>\n",
       "    <tr>\n",
       "      <th>0</th>\n",
       "      <td>0</td>\n",
       "      <td>Wii Sports</td>\n",
       "      <td>Wii</td>\n",
       "      <td>2006</td>\n",
       "      <td>Sports</td>\n",
       "      <td>41.36</td>\n",
       "      <td>28.96</td>\n",
       "      <td>3.77</td>\n",
       "      <td>8.45</td>\n",
       "      <td>76.0</td>\n",
       "      <td>8.0</td>\n",
       "      <td>E</td>\n",
       "      <td>82.54</td>\n",
       "    </tr>\n",
       "    <tr>\n",
       "      <th>1</th>\n",
       "      <td>1</td>\n",
       "      <td>Super Mario Bros.</td>\n",
       "      <td>NES</td>\n",
       "      <td>1985</td>\n",
       "      <td>Platform</td>\n",
       "      <td>29.08</td>\n",
       "      <td>3.58</td>\n",
       "      <td>6.81</td>\n",
       "      <td>0.77</td>\n",
       "      <td>NaN</td>\n",
       "      <td>NaN</td>\n",
       "      <td>NaN</td>\n",
       "      <td>40.24</td>\n",
       "    </tr>\n",
       "    <tr>\n",
       "      <th>2</th>\n",
       "      <td>2</td>\n",
       "      <td>Mario Kart Wii</td>\n",
       "      <td>Wii</td>\n",
       "      <td>2008</td>\n",
       "      <td>Racing</td>\n",
       "      <td>15.68</td>\n",
       "      <td>12.76</td>\n",
       "      <td>3.79</td>\n",
       "      <td>3.29</td>\n",
       "      <td>82.0</td>\n",
       "      <td>8.3</td>\n",
       "      <td>E</td>\n",
       "      <td>35.52</td>\n",
       "    </tr>\n",
       "    <tr>\n",
       "      <th>3</th>\n",
       "      <td>3</td>\n",
       "      <td>Wii Sports Resort</td>\n",
       "      <td>Wii</td>\n",
       "      <td>2009</td>\n",
       "      <td>Sports</td>\n",
       "      <td>15.61</td>\n",
       "      <td>10.93</td>\n",
       "      <td>3.28</td>\n",
       "      <td>2.95</td>\n",
       "      <td>80.0</td>\n",
       "      <td>8.0</td>\n",
       "      <td>E</td>\n",
       "      <td>32.77</td>\n",
       "    </tr>\n",
       "    <tr>\n",
       "      <th>4</th>\n",
       "      <td>4</td>\n",
       "      <td>Pokemon Red/Pokemon Blue</td>\n",
       "      <td>GB</td>\n",
       "      <td>1996</td>\n",
       "      <td>Role-Playing</td>\n",
       "      <td>11.27</td>\n",
       "      <td>8.89</td>\n",
       "      <td>10.22</td>\n",
       "      <td>1.00</td>\n",
       "      <td>NaN</td>\n",
       "      <td>NaN</td>\n",
       "      <td>NaN</td>\n",
       "      <td>31.38</td>\n",
       "    </tr>\n",
       "  </tbody>\n",
       "</table>\n",
       "</div>"
      ],
      "text/plain": [
       "   unnamed: 0                      name platform  year_of_release  \\\n",
       "0           0                Wii Sports      Wii             2006   \n",
       "1           1         Super Mario Bros.      NES             1985   \n",
       "2           2            Mario Kart Wii      Wii             2008   \n",
       "3           3         Wii Sports Resort      Wii             2009   \n",
       "4           4  Pokemon Red/Pokemon Blue       GB             1996   \n",
       "\n",
       "          genre  na_sales  eu_sales  jp_sales  other_sales  critic_score  \\\n",
       "0        Sports     41.36     28.96      3.77         8.45          76.0   \n",
       "1      Platform     29.08      3.58      6.81         0.77           NaN   \n",
       "2        Racing     15.68     12.76      3.79         3.29          82.0   \n",
       "3        Sports     15.61     10.93      3.28         2.95          80.0   \n",
       "4  Role-Playing     11.27      8.89     10.22         1.00           NaN   \n",
       "\n",
       "   user_score rating  sales_sum  \n",
       "0         8.0      E      82.54  \n",
       "1         NaN    NaN      40.24  \n",
       "2         8.3      E      35.52  \n",
       "3         8.0      E      32.77  \n",
       "4         NaN    NaN      31.38  "
      ]
     },
     "execution_count": 15,
     "metadata": {},
     "output_type": "execute_result"
    }
   ],
   "source": [
    "# Создадим столбец с суммарными продажами\n",
    "df['sales_sum'] = df.eu_sales + df.na_sales + df.jp_sales + df.other_sales\n",
    "df.head()"
   ]
  },
  {
   "cell_type": "markdown",
   "metadata": {},
   "source": [
    "<div class=\"alert alert-success\" style=\"border-radius: 10px; box-shadow: 2px 2px 2px; border: 1px solid; padding: 10px \">\n",
    "<b>Комментарий ревьюера v.1</b> \n",
    "    \n",
    "👍 \n",
    "Отлично! Колонка с общими продажами создана. \n",
    "    \n",
    "Также, мы можем работать с набором столбцов:</font><br>\n",
    "`data = data[['na_sales','eu_sales','jp_sales', 'other_sales']].sum(axis = 1)`\n",
    "</div>"
   ]
  },
  {
   "cell_type": "markdown",
   "metadata": {},
   "source": [
    "<div class=\"alert alert-danger\" style=\"border-radius: 10px; box-shadow: 2px 2px 2px; border: 1px solid; padding: 10px \">\n",
    "<b>Комментарий ревьюера v.1</b> \n",
    "    \n",
    "✍ \n",
    "К сожалению отсутствует промежуточный вывод о проделанной работе в разделе. Дополни, пожалуйста.\n",
    "</div>"
   ]
  },
  {
   "cell_type": "markdown",
   "metadata": {},
   "source": [
    "<div class=\"alert alert-info\" style=\"border-radius: 10px; box-shadow: 2px 2px 2px; border: 1px solid; padding: 10px \"> \n",
    "<b>Комментарий студента</b> \n",
    "    \n",
    "добавил\n",
    "</div>\n"
   ]
  },
  {
   "cell_type": "markdown",
   "metadata": {},
   "source": [
    "В этом разделе была проведена подготовка данных. В первую очередь были поменяны типы столбцов user_score с object на float и year_of_release с float на int. Также было обнаружено большое количество(до 50%) пропущенных значений в 3х столбцах с рейтингами. После чего были проверены 2 предположения. Первое о том что рейтинги отсутствуют у старых игр и второй о том что рейтинги отсутствуют у одних и тех же игр на разных платформах, другими словами если выставили рейтинг на одной то вторую оценивать не стали. Оба предположения не подтвердились. Затем данные очищены от явных и неявных дубликатов. В процессе было обнаружено большое количество(47%) дублей по имени, одних и тех же игр для разных платформ."
   ]
  },
  {
   "cell_type": "markdown",
   "metadata": {},
   "source": [
    "<div class=\"alert alert-success\" style=\"border-radius: 10px; box-shadow: 2px 2px 2px; border: 1px solid; padding: 10px \">\n",
    "<b>Комментарий ревьюера v.3</b> \n",
    "    \n",
    "👍 \n",
    "\n",
    "</div>"
   ]
  },
  {
   "cell_type": "markdown",
   "metadata": {},
   "source": [
    "### Исследовательский анализ данных"
   ]
  },
  {
   "cell_type": "code",
   "execution_count": 16,
   "metadata": {
    "ExecuteTime": {
     "end_time": "2023-07-06T23:41:19.039417447Z",
     "start_time": "2023-07-06T23:41:17.447632926Z"
    }
   },
   "outputs": [
    {
     "data": {
      "image/png": "[encoded data removed]",
      "text/plain": [
       "<Figure size 1008x360 with 1 Axes>"
      ]
     },
     "metadata": {
      "needs_background": "light"
     },
     "output_type": "display_data"
    }
   ],
   "source": [
    "# Рассмотрим количество игр по годам\n",
    "n_games_by_year_pivot = df.pivot_table(index='year_of_release', values='name', aggfunc='count')\\\n",
    "    .sort_values(by='name', ascending=False).sort_index(ascending=False)\n",
    "n_games_by_year_pivot.rename({'name': 'n games'}, axis=1, inplace=True)\n",
    "ax = n_games_by_year_pivot.plot(kind='bar', title='Количество игр по годам',\n",
    "                                ylabel='количество игр', xlabel='годы', figsize=(14, 5))\n",
    "ax.bar_label(ax.containers[0]);\n",
    "# Исходя из полученных данных предлагаю отсечь игры, которые были выпущены ранее 1995 года, так как их очень мало\n",
    "df = df.query('year_of_release == -9 or year_of_release >= 1995')"
   ]
  },
  {
   "cell_type": "markdown",
   "metadata": {},
   "source": [
    "Количество игр выпущенных в 94 году в 2 раза меньше количества игр выпущенных в 95. В качестве отсечки выбран 95 год, всё что ниже отбрасываем, кроме -9, это те игры у которых не проставлен год выпуска."
   ]
  },
  {
   "cell_type": "markdown",
   "metadata": {},
   "source": [
    "<div class=\"alert alert-success\" style=\"border-radius: 10px; box-shadow: 2px 2px 2px; border: 1px solid; padding: 10px \">\n",
    "<b>Комментарий ревьюера v.2</b> \n",
    "    \n",
    "👍 \n",
    "\n",
    "</div>"
   ]
  },
  {
   "cell_type": "markdown",
   "metadata": {},
   "source": [
    "<div class=\"alert alert-danger\" style=\"border-radius: 10px; box-shadow: 2px 2px 2px; border: 1px solid; padding: 10px \">\n",
    "<b>Комментарий ревьюера v.2</b> \n",
    "    \n",
    "✍ \n",
    "Прошу тебя не забывать правильно оформляять графики. У всех графиков обязательно должно быть название.\n",
    "</div>"
   ]
  },
  {
   "cell_type": "markdown",
   "metadata": {},
   "source": [
    "<div class=\"alert alert-info\" style=\"border-radius: 10px; box-shadow: 2px 2px 2px; border: 1px solid; padding: 10px \"> \n",
    "<b>Комментарий студента</b> \n",
    "    \n",
    "Поправил\n",
    "</div>\n"
   ]
  },
  {
   "cell_type": "markdown",
   "metadata": {},
   "source": [
    "<div class=\"alert alert-success\" style=\"border-radius: 10px; box-shadow: 2px 2px 2px; border: 1px solid; padding: 10px \">\n",
    "<b>Комментарий ревьюера v.3</b> \n",
    "    \n",
    "👍 \n",
    "\n",
    "</div>"
   ]
  },
  {
   "cell_type": "code",
   "execution_count": 17,
   "metadata": {
    "ExecuteTime": {
     "end_time": "2023-07-06T23:41:20.679601352Z",
     "start_time": "2023-07-06T23:41:19.038742559Z"
    }
   },
   "outputs": [
    {
     "data": {
      "image/png": "[encoded data removed]",
      "text/plain": [
       "<Figure size 576x432 with 2 Axes>"
      ]
     },
     "metadata": {
      "needs_background": "light"
     },
     "output_type": "display_data"
    }
   ],
   "source": [
    "# Рассчитаем суммарные продажи по платформам, а затем построим распределение по годам.\n",
    "sales_sum_by_platform_pivot = df.pivot_table(index='platform', values='sales_sum', aggfunc='sum').sort_values(by='sales_sum', ascending=False)\n",
    "top_10 = sales_sum_by_platform_pivot.iloc[0:10, :]\n",
    "sales_pivot = df.query('platform.isin(@top_10.index)')\\\n",
    "                       .pivot_table(\n",
    "                        index='year_of_release',\n",
    "                        columns='platform',\n",
    "                        values='sales_sum',\n",
    "                        aggfunc='sum'\n",
    "                       )\n",
    "plt.figure(figsize=(8, 6))\n",
    "sns.heatmap(sales_pivot, fmt='g', annot=True).set(title='Продажи в миллионах копий по топ 10 приставкам');"
   ]
  },
  {
   "cell_type": "markdown",
   "metadata": {},
   "source": [
    "Из графика видно, что средний срок жизни платформы составляет около 10 лет, наибольшие продажи приходятся на первую половину жизненного цикла. За период с 1995 по 2016 год новая платформа появлялась каждые 5 лет."
   ]
  },
  {
   "cell_type": "markdown",
   "metadata": {},
   "source": [
    "<div class=\"alert alert-success\" style=\"border-radius: 10px; box-shadow: 2px 2px 2px; border: 1px solid; padding: 10px \">\n",
    "<b>Комментарий ревьюера v.2</b> \n",
    "    \n",
    "👍 \n",
    "Жизненный цикл определен верно.\n",
    "</div>"
   ]
  },
  {
   "cell_type": "code",
   "execution_count": 18,
   "metadata": {
    "ExecuteTime": {
     "end_time": "2023-07-06T23:41:20.692701434Z",
     "start_time": "2023-07-06T23:41:20.680738925Z"
    }
   },
   "outputs": [
    {
     "name": "stdout",
     "output_type": "stream",
     "text": [
      "Размерность таблицы с актуальным срезом (2233, 13)\n"
     ]
    }
   ],
   "source": [
    "# Срежем данные за актуальный период\n",
    "df_actual = df.query('year_of_release >= 2013')\n",
    "print('Размерность таблицы с актуальным срезом', df_actual.shape)"
   ]
  },
  {
   "cell_type": "markdown",
   "metadata": {},
   "source": [
    "<div class=\"alert alert-danger\" style=\"border-radius: 10px; box-shadow: 2px 2px 2px; border: 1px solid; padding: 10px \">\n",
    "<b>Комментарий ревьюера v.2</b> \n",
    "    \n",
    "✍ \n",
    "Для целей прогнозирования продаж на следующий год даже в традиционных бизнесах редко берут данные более чем за 2-3 года. А в такой динамично меняющейся индустрии, как компьютерные игры и вовсе не стоит брать слишком большой временной интервал - иначе обязательно захватим уже отжившие тренды. Но и очень короткий период не подходит для прогнозирования, так что надо выбирать золотую середину (но не менее 2-х полных лет и не более 5 лет). Так, как все расчеты ниже необходимо использовать с актуальным периодом, то не забудь, пожалуйста перепроверить их и выводы после корректировки.\n",
    "</div>"
   ]
  },
  {
   "cell_type": "markdown",
   "metadata": {},
   "source": [
    "<div class=\"alert alert-info\" style=\"border-radius: 10px; box-shadow: 2px 2px 2px; border: 1px solid; padding: 10px \"> \n",
    "<b>Комментарий студента</b> \n",
    "    \n",
    "Поправил\n",
    "</div>\n"
   ]
  },
  {
   "cell_type": "markdown",
   "metadata": {},
   "source": [
    "<div class=\"alert alert-success\" style=\"border-radius: 10px; box-shadow: 2px 2px 2px; border: 1px solid; padding: 10px \">\n",
    "<b>Комментарий ревьюера v.3</b> \n",
    "    \n",
    "👍 \n",
    "Верно\n",
    "</div>"
   ]
  },
  {
   "cell_type": "markdown",
   "metadata": {},
   "source": [
    "Судя по тепловой карте выше, индустрия живет циклами по 5-6 лет. Жизненный срок игровой консоли 2 цикла, потом её обновляют. Возьмём срез с 2013 года, за последние 4 года. 2013 выбран поскольку в этот год были выпущены сразу 2 мэйнстримных консоли PS4 и Xbox One."
   ]
  },
  {
   "cell_type": "code",
   "execution_count": 19,
   "metadata": {
    "ExecuteTime": {
     "end_time": "2023-07-06T23:41:20.898040169Z",
     "start_time": "2023-07-06T23:41:20.708251122Z"
    }
   },
   "outputs": [
    {
     "data": {
      "text/html": [
       "<div>\n",
       "<style scoped>\n",
       "    .dataframe tbody tr th:only-of-type {\n",
       "        vertical-align: middle;\n",
       "    }\n",
       "\n",
       "    .dataframe tbody tr th {\n",
       "        vertical-align: top;\n",
       "    }\n",
       "\n",
       "    .dataframe thead th {\n",
       "        text-align: right;\n",
       "    }\n",
       "</style>\n",
       "<table border=\"1\" class=\"dataframe\">\n",
       "  <thead>\n",
       "    <tr style=\"text-align: right;\">\n",
       "      <th></th>\n",
       "      <th></th>\n",
       "      <th>sales_sum</th>\n",
       "    </tr>\n",
       "    <tr>\n",
       "      <th>platform</th>\n",
       "      <th>year_of_release</th>\n",
       "      <th></th>\n",
       "    </tr>\n",
       "  </thead>\n",
       "  <tbody>\n",
       "    <tr>\n",
       "      <th rowspan=\"4\" valign=\"top\">3DS</th>\n",
       "      <th>2013</th>\n",
       "      <td>56.57</td>\n",
       "    </tr>\n",
       "    <tr>\n",
       "      <th>2014</th>\n",
       "      <td>43.76</td>\n",
       "    </tr>\n",
       "    <tr>\n",
       "      <th>2015</th>\n",
       "      <td>27.78</td>\n",
       "    </tr>\n",
       "    <tr>\n",
       "      <th>2016</th>\n",
       "      <td>15.14</td>\n",
       "    </tr>\n",
       "    <tr>\n",
       "      <th>DS</th>\n",
       "      <th>2013</th>\n",
       "      <td>1.54</td>\n",
       "    </tr>\n",
       "  </tbody>\n",
       "</table>\n",
       "</div>"
      ],
      "text/plain": [
       "                          sales_sum\n",
       "platform year_of_release           \n",
       "3DS      2013                 56.57\n",
       "         2014                 43.76\n",
       "         2015                 27.78\n",
       "         2016                 15.14\n",
       "DS       2013                  1.54"
      ]
     },
     "metadata": {},
     "output_type": "display_data"
    },
    {
     "data": {
      "text/html": [
       "<style type=\"text/css\">\n",
       "#T_44809_row0_col0 {\n",
       "  background-color: #f49a7b;\n",
       "  color: #000000;\n",
       "}\n",
       "#T_44809_row1_col0 {\n",
       "  background-color: #000000;\n",
       "  color: #f1f1f1;\n",
       "}\n",
       "#T_44809_row2_col0 {\n",
       "  background-color: #cb3e38;\n",
       "  color: #f1f1f1;\n",
       "}\n",
       "#T_44809_row3_col0 {\n",
       "  background-color: #f59f80;\n",
       "  color: #000000;\n",
       "}\n",
       "#T_44809_row4_col0 {\n",
       "  background-color: #3b4cc0;\n",
       "  color: #f1f1f1;\n",
       "}\n",
       "#T_44809_row5_col0 {\n",
       "  background-color: #b40426;\n",
       "  color: #f1f1f1;\n",
       "}\n",
       "#T_44809_row6_col0 {\n",
       "  background-color: #c12b30;\n",
       "  color: #f1f1f1;\n",
       "}\n",
       "#T_44809_row7_col0 {\n",
       "  background-color: #ba162b;\n",
       "  color: #f1f1f1;\n",
       "}\n",
       "#T_44809_row8_col0 {\n",
       "  background-color: #f39475;\n",
       "  color: #000000;\n",
       "}\n",
       "#T_44809_row9_col0 {\n",
       "  background-color: #ef886b;\n",
       "  color: #f1f1f1;\n",
       "}\n",
       "#T_44809_row10_col0 {\n",
       "  background-color: #a3c2fe;\n",
       "  color: #000000;\n",
       "}\n",
       "</style>\n",
       "<table id=\"T_44809\">\n",
       "  <thead>\n",
       "    <tr>\n",
       "      <th class=\"blank level0\" >&nbsp;</th>\n",
       "      <th id=\"T_44809_level0_col0\" class=\"col_heading level0 col0\" >sales_sum</th>\n",
       "    </tr>\n",
       "    <tr>\n",
       "      <th class=\"index_name level0\" >platform</th>\n",
       "      <th class=\"blank col0\" >&nbsp;</th>\n",
       "    </tr>\n",
       "  </thead>\n",
       "  <tbody>\n",
       "    <tr>\n",
       "      <th id=\"T_44809_level0_row0\" class=\"row_heading level0 row0\" >3DS</th>\n",
       "      <td id=\"T_44809_row0_col0\" class=\"data row0 col0\" >-12.640000</td>\n",
       "    </tr>\n",
       "    <tr>\n",
       "      <th id=\"T_44809_level0_row1\" class=\"row_heading level0 row1\" >DS</th>\n",
       "      <td id=\"T_44809_row1_col0\" class=\"data row1 col0\" >nan</td>\n",
       "    </tr>\n",
       "    <tr>\n",
       "      <th id=\"T_44809_level0_row2\" class=\"row_heading level0 row2\" >PC</th>\n",
       "      <td id=\"T_44809_row2_col0\" class=\"data row2 col0\" >-3.270000</td>\n",
       "    </tr>\n",
       "    <tr>\n",
       "      <th id=\"T_44809_level0_row3\" class=\"row_heading level0 row3\" >PS3</th>\n",
       "      <td id=\"T_44809_row3_col0\" class=\"data row3 col0\" >-13.220000</td>\n",
       "    </tr>\n",
       "    <tr>\n",
       "      <th id=\"T_44809_level0_row4\" class=\"row_heading level0 row4\" >PS4</th>\n",
       "      <td id=\"T_44809_row4_col0\" class=\"data row4 col0\" >-49.650000</td>\n",
       "    </tr>\n",
       "    <tr>\n",
       "      <th id=\"T_44809_level0_row5\" class=\"row_heading level0 row5\" >PSP</th>\n",
       "      <td id=\"T_44809_row5_col0\" class=\"data row5 col0\" >-0.120000</td>\n",
       "    </tr>\n",
       "    <tr>\n",
       "      <th id=\"T_44809_level0_row6\" class=\"row_heading level0 row6\" >PSV</th>\n",
       "      <td id=\"T_44809_row6_col0\" class=\"data row6 col0\" >-2.000000</td>\n",
       "    </tr>\n",
       "    <tr>\n",
       "      <th id=\"T_44809_level0_row7\" class=\"row_heading level0 row7\" >Wii</th>\n",
       "      <td id=\"T_44809_row7_col0\" class=\"data row7 col0\" >-0.960000</td>\n",
       "    </tr>\n",
       "    <tr>\n",
       "      <th id=\"T_44809_level0_row8\" class=\"row_heading level0 row8\" >WiiU</th>\n",
       "      <td id=\"T_44809_row8_col0\" class=\"data row8 col0\" >-11.750000</td>\n",
       "    </tr>\n",
       "    <tr>\n",
       "      <th id=\"T_44809_level0_row9\" class=\"row_heading level0 row9\" >X360</th>\n",
       "      <td id=\"T_44809_row9_col0\" class=\"data row9 col0\" >-10.440000</td>\n",
       "    </tr>\n",
       "    <tr>\n",
       "      <th id=\"T_44809_level0_row10\" class=\"row_heading level0 row10\" >XOne</th>\n",
       "      <td id=\"T_44809_row10_col0\" class=\"data row10 col0\" >-33.990000</td>\n",
       "    </tr>\n",
       "  </tbody>\n",
       "</table>\n"
      ],
      "text/plain": [
       "<pandas.io.formats.style.Styler at 0x7f38dfd05e20>"
      ]
     },
     "metadata": {},
     "output_type": "display_data"
    },
    {
     "data": {
      "text/html": [
       "<style type=\"text/css\">\n",
       "#T_71f63_row0_col0 {\n",
       "  background-color: #cad8ef;\n",
       "  color: #000000;\n",
       "}\n",
       "#T_71f63_row1_col0 {\n",
       "  background-color: #5470de;\n",
       "  color: #f1f1f1;\n",
       "}\n",
       "#T_71f63_row2_col0 {\n",
       "  background-color: #ead4c8;\n",
       "  color: #000000;\n",
       "}\n",
       "#T_71f63_row3_col0 {\n",
       "  background-color: #b40426;\n",
       "  color: #f1f1f1;\n",
       "}\n",
       "#T_71f63_row4_col0 {\n",
       "  background-color: #4e68d8;\n",
       "  color: #f1f1f1;\n",
       "}\n",
       "#T_71f63_row5_col0 {\n",
       "  background-color: #3b4cc0;\n",
       "  color: #f1f1f1;\n",
       "}\n",
       "#T_71f63_row6_col0 {\n",
       "  background-color: #7093f3;\n",
       "  color: #f1f1f1;\n",
       "}\n",
       "#T_71f63_row7_col0 {\n",
       "  background-color: #c3d5f4;\n",
       "  color: #000000;\n",
       "}\n",
       "#T_71f63_row8_col0 {\n",
       "  background-color: #d9dce1;\n",
       "  color: #000000;\n",
       "}\n",
       "</style>\n",
       "<table id=\"T_71f63\">\n",
       "  <thead>\n",
       "    <tr>\n",
       "      <th class=\"blank level0\" >&nbsp;</th>\n",
       "      <th id=\"T_71f63_level0_col0\" class=\"col_heading level0 col0\" >sales_sum</th>\n",
       "    </tr>\n",
       "    <tr>\n",
       "      <th class=\"index_name level0\" >platform</th>\n",
       "      <th class=\"blank col0\" >&nbsp;</th>\n",
       "    </tr>\n",
       "  </thead>\n",
       "  <tbody>\n",
       "    <tr>\n",
       "      <th id=\"T_71f63_level0_row0\" class=\"row_heading level0 row0\" >3DS</th>\n",
       "      <td id=\"T_71f63_row0_col0\" class=\"data row0 col0\" >143.250000</td>\n",
       "    </tr>\n",
       "    <tr>\n",
       "      <th id=\"T_71f63_level0_row1\" class=\"row_heading level0 row1\" >PC</th>\n",
       "      <td id=\"T_71f63_row1_col0\" class=\"data row1 col0\" >39.430000</td>\n",
       "    </tr>\n",
       "    <tr>\n",
       "      <th id=\"T_71f63_level0_row2\" class=\"row_heading level0 row2\" >PS3</th>\n",
       "      <td id=\"T_71f63_row2_col0\" class=\"data row2 col0\" >181.430000</td>\n",
       "    </tr>\n",
       "    <tr>\n",
       "      <th id=\"T_71f63_level0_row3\" class=\"row_heading level0 row3\" >PS4</th>\n",
       "      <td id=\"T_71f63_row3_col0\" class=\"data row3 col0\" >314.140000</td>\n",
       "    </tr>\n",
       "    <tr>\n",
       "      <th id=\"T_71f63_level0_row4\" class=\"row_heading level0 row4\" >PSV</th>\n",
       "      <td id=\"T_71f63_row4_col0\" class=\"data row4 col0\" >32.990000</td>\n",
       "    </tr>\n",
       "    <tr>\n",
       "      <th id=\"T_71f63_level0_row5\" class=\"row_heading level0 row5\" >Wii</th>\n",
       "      <td id=\"T_71f63_row5_col0\" class=\"data row5 col0\" >13.660000</td>\n",
       "    </tr>\n",
       "    <tr>\n",
       "      <th id=\"T_71f63_level0_row6\" class=\"row_heading level0 row6\" >WiiU</th>\n",
       "      <td id=\"T_71f63_row6_col0\" class=\"data row6 col0\" >64.630000</td>\n",
       "    </tr>\n",
       "    <tr>\n",
       "      <th id=\"T_71f63_level0_row7\" class=\"row_heading level0 row7\" >X360</th>\n",
       "      <td id=\"T_71f63_row7_col0\" class=\"data row7 col0\" >136.800000</td>\n",
       "    </tr>\n",
       "    <tr>\n",
       "      <th id=\"T_71f63_level0_row8\" class=\"row_heading level0 row8\" >XOne</th>\n",
       "      <td id=\"T_71f63_row8_col0\" class=\"data row8 col0\" >159.320000</td>\n",
       "    </tr>\n",
       "  </tbody>\n",
       "</table>\n"
      ],
      "text/plain": [
       "<pandas.io.formats.style.Styler at 0x7f38df742160>"
      ]
     },
     "execution_count": 19,
     "metadata": {},
     "output_type": "execute_result"
    }
   ],
   "source": [
    "# Вытащим приставки, которые присутствуют на рынке в 2016\n",
    "platform_year_sales_sum = df_actual.groupby(['platform', 'year_of_release']).agg({'sales_sum': 'sum'})\n",
    "display(platform_year_sales_sum.head())\n",
    "platforms_2016 = list(map(lambda x: x[0], filter(lambda x: True if x[1] == 2016 else False, platform_year_sales_sum.index)))\n",
    "df_actual = df_actual.query('platform.isin(@platforms_2016)')\n",
    "# Посчитаем насколько меньше или больше было продано копий в 2016 в сравнении с предыдущим годом.\n",
    "display(platform_year_sales_sum.groupby(level = 'platform').agg({'sales_sum': lambda x: x.diff().iloc[-1]})\\\n",
    "        .style.background_gradient('coolwarm'))\n",
    "# Посчитаем кто больше всего продал\n",
    "df_actual.pivot_table(index='platform', values='sales_sum', aggfunc='sum').style.background_gradient('coolwarm')"
   ]
  },
  {
   "cell_type": "markdown",
   "metadata": {},
   "source": [
    "Из выборки удалены все приставки которые не актуальны(нет поддержки производителя, не выпускаются игры) на 2016 год. У всех оставшихся платформ в сравнении с предыдущим годом продажи падают, минимальное падение у Nintendo Wii - 960 000 копий. Максимальное падение у PS4 - 49 650 000 копий. По всей видимости на рынке что-то происходит, либо у нас не полные данные."
   ]
  },
  {
   "cell_type": "code",
   "execution_count": 20,
   "metadata": {
    "ExecuteTime": {
     "end_time": "2023-07-06T23:41:21.913864057Z",
     "start_time": "2023-07-06T23:41:20.756168437Z"
    }
   },
   "outputs": [
    {
     "name": "stdout",
     "output_type": "stream",
     "text": [
      "средняя от медиан по продажам 0.193\n"
     ]
    },
    {
     "data": {
      "image/png": "[encoded data removed]",
      "text/plain": [
       "<Figure size 1008x360 with 2 Axes>"
      ]
     },
     "metadata": {
      "needs_background": "light"
     },
     "output_type": "display_data"
    }
   ],
   "source": [
    "figure, axis = plt.subplots(1,2, figsize=(14, 5))\n",
    "box = []\n",
    "labels = []\n",
    "for platform, vals in df_actual.groupby('platform'):\n",
    "    box.append(vals.sales_sum.reset_index(drop=True).rename(platform))\n",
    "    labels.append(platform)\n",
    "box = pd.concat(box, axis=1)\n",
    "box.plot(kind='box', ylabel='проданных копий', title='Диаграмма размаха для разных платформ', ax=axis[0])\n",
    "box.plot(kind='box', ylabel='проданных копий', title='Диаграмма размаха для разных платформ', ax=axis[1], ylim=(0, 1));\n",
    "print(f'средняя от медиан по продажам {df.groupby(\"platform\").sales_sum.median().mean():.3f}')"
   ]
  },
  {
   "cell_type": "markdown",
   "metadata": {},
   "source": [
    "На графике для всех платформ очень много выбросов, с очень большими продажами в несколько миллионов, это популярные игры типа Halo или Call of Duty, при этом половина игр на всех платформах продается в количестве менее 193 000 копий."
   ]
  },
  {
   "cell_type": "markdown",
   "metadata": {},
   "source": [
    "<div class=\"alert alert-success\" style=\"border-radius: 10px; box-shadow: 2px 2px 2px; border: 1px solid; padding: 10px \">\n",
    "<b>Комментарий ревьюера v.2</b> \n",
    "    \n",
    "👍 \n",
    "Здесь все корректно.\n",
    "</div>"
   ]
  },
  {
   "cell_type": "code",
   "execution_count": 21,
   "metadata": {
    "ExecuteTime": {
     "end_time": "2023-07-06T23:41:23.223850062Z",
     "start_time": "2023-07-06T23:41:21.964697543Z"
    }
   },
   "outputs": [
    {
     "data": {
      "image/png": "[encoded data removed]",
      "text/plain": [
       "<Figure size 1008x288 with 2 Axes>"
      ]
     },
     "metadata": {
      "needs_background": "light"
     },
     "output_type": "display_data"
    }
   ],
   "source": [
    "# Проверим как отзывы и обзоры влияют на продажи\n",
    "def reviews_sales_corr(df, platform):\n",
    "    figure, axis = plt.subplots(1, 2, figsize=(14, 4))\n",
    "    def get_not_na_val(df, review_type):\n",
    "        return df[~df[review_type].isna()].index\n",
    "    not_na_critics = get_not_na_val(df, 'critic_score')\n",
    "    try:\n",
    "        corr_critics = st.pearsonr(df['critic_score'].loc[not_na_critics], df['sales_sum'].loc[not_na_critics])\n",
    "        df.plot(x='critic_score', y='sales_sum', ax = axis[0], alpha=0.3,\n",
    "                kind='scatter', \n",
    "                title=f'Продажи в зависимости от оценки критиков, pearson = {corr_critics.statistic:.2f}')\n",
    "    except ValueError:\n",
    "        axis[0].text(\n",
    "            x = -0.04,\n",
    "            y = 0,\n",
    "            s = f\"\"\"Недостаточно значений для рассчёта корреляции, \n",
    "                          всего {len(df['critic_score'].loc[not_na_critics])} значений\"\"\",\n",
    "            bbox={'facecolor': 'red', 'alpha': 0.5, 'pad': 10}\n",
    "        ),\n",
    "        df.plot(x='critic_score', y='sales_sum', legend=False, \n",
    "                title=f'Продажи в зависимости от оценки критиков',\n",
    "                kind='scatter',\n",
    "                ax = axis[0], \n",
    "                alpha=0.3)\n",
    "    not_na_users = get_not_na_val(df, 'user_score')\n",
    "    try:\n",
    "        corr_users = st.pearsonr(df['user_score'].loc[not_na_users], df['sales_sum'].loc[not_na_users])\n",
    "        df.plot(x='user_score', y='sales_sum', ax = axis[1], alpha=0.3,\n",
    "                kind='scatter', title=f'Продажи в зависимости от оценки пользователей, pearson = {corr_users.statistic:.2f}')\n",
    "    except ValueError:\n",
    "            axis[1].text(\n",
    "            x = -0.04,\n",
    "            y = 0,\n",
    "            s = f\"\"\"Недостаточно значений для рассчёта корреляции, \n",
    "                          всего {len(df['critic_score'].loc[not_na_critics])} значений\"\"\",\n",
    "            bbox={'facecolor': 'red', 'alpha': 0.5, 'pad': 10}\n",
    "            ),\n",
    "            df.plot(x='users_score', y='sales_sum', legend=False, \n",
    "                    title=f'Продажи в зависимости от оценки пользователей',\n",
    "                    kind='scatter',\n",
    "                    ax = axis[0], \n",
    "                    alpha=0.3)\n",
    "\n",
    "        \n",
    "    plt.suptitle(f'Диаграмма рассеяния и коэффициент корреляции для {platform}')\n",
    "\n",
    "reviews_sales_corr(df_actual, 'всех платформ')"
   ]
  },
  {
   "cell_type": "markdown",
   "metadata": {},
   "source": [
    "На графиках видно, что между отзывами и продажами есть слабая положительная связь. Причем критики в 2 раза сильнее влияют на продажи в сравнении с пользователями. Также на графике для пользователей видны выбросы, это игры в пользовательском рейтинге которых были записи вида 'tbd', я заменил их на -9, что-бы привести тип данных столбца к float. Посмотрим что будет если удалить эти значения."
   ]
  },
  {
   "cell_type": "code",
   "execution_count": 22,
   "metadata": {
    "ExecuteTime": {
     "end_time": "2023-07-06T23:41:24.140975782Z",
     "start_time": "2023-07-06T23:41:23.086290456Z"
    }
   },
   "outputs": [
    {
     "data": {
      "image/png": "[encoded data removed]",
      "text/plain": [
       "<Figure size 1008x288 with 2 Axes>"
      ]
     },
     "metadata": {
      "needs_background": "light"
     },
     "output_type": "display_data"
    }
   ],
   "source": [
    "reviews_sales_corr(df_actual.query('user_score != -9 and critic_score != -9'), 'всех платформ')"
   ]
  },
  {
   "cell_type": "markdown",
   "metadata": {},
   "source": [
    "После удаления записей где user_score = -9 коэффициент корреляции для пользователей упал до 0. Для критиков же он составляет слабые 0.31. Посмотрим что будет по каждой платформе в отдельности."
   ]
  },
  {
   "cell_type": "code",
   "execution_count": 23,
   "metadata": {
    "ExecuteTime": {
     "end_time": "2023-07-07T02:28:59.263363258Z",
     "start_time": "2023-07-07T02:28:51.460555104Z"
    },
    "scrolled": false
   },
   "outputs": [
    {
     "data": {
      "image/png": "[encoded data removed]",
      "text/plain": [
       "<Figure size 1008x288 with 2 Axes>"
      ]
     },
     "metadata": {
      "needs_background": "light"
     },
     "output_type": "display_data"
    },
    {
     "data": {
      "image/png": "[encoded data removed]",
      "text/plain": [
       "<Figure size 1008x288 with 2 Axes>"
      ]
     },
     "metadata": {
      "needs_background": "light"
     },
     "output_type": "display_data"
    },
    {
     "data": {
      "image/png": "[encoded data removed]",
      "text/plain": [
       "<Figure size 1008x288 with 2 Axes>"
      ]
     },
     "metadata": {
      "needs_background": "light"
     },
     "output_type": "display_data"
    },
    {
     "data": {
      "image/png": "[encoded data removed]",
      "text/plain": [
       "<Figure size 1008x288 with 2 Axes>"
      ]
     },
     "metadata": {
      "needs_background": "light"
     },
     "output_type": "display_data"
    },
    {
     "data": {
      "image/png": "[encoded data removed]",
      "text/plain": [
       "<Figure size 1008x288 with 2 Axes>"
      ]
     },
     "metadata": {
      "needs_background": "light"
     },
     "output_type": "display_data"
    },
    {
     "data": {
      "image/png": "[encoded data removed]",
      "text/plain": [
       "<Figure size 1008x288 with 2 Axes>"
      ]
     },
     "metadata": {
      "needs_background": "light"
     },
     "output_type": "display_data"
    },
    {
     "data": {
      "image/png": "[encoded data removed]",
      "text/plain": [
       "<Figure size 1008x288 with 2 Axes>"
      ]
     },
     "metadata": {
      "needs_background": "light"
     },
     "output_type": "display_data"
    },
    {
     "data": {
      "image/png": "[encoded data removed]",
      "text/plain": [
       "<Figure size 1008x288 with 2 Axes>"
      ]
     },
     "metadata": {
      "needs_background": "light"
     },
     "output_type": "display_data"
    },
    {
     "data": {
      "image/png": "[encoded data removed]",
      "text/plain": [
       "<Figure size 1008x288 with 2 Axes>"
      ]
     },
     "metadata": {
      "needs_background": "light"
     },
     "output_type": "display_data"
    }
   ],
   "source": [
    "for platform in df_actual.platform.unique():\n",
    "    reviews_sales_corr(df_actual.query(f'platform == \"{platform}\" and user_score != -9'), f'\"{platform}\"')"
   ]
  },
  {
   "cell_type": "code",
   "execution_count": 24,
   "metadata": {},
   "outputs": [
    {
     "data": {
      "text/plain": [
       "(23, 13)"
      ]
     },
     "execution_count": 24,
     "metadata": {},
     "output_type": "execute_result"
    }
   ],
   "source": [
    "# Количество игр для Wii\n",
    "df_actual.query('platform == \"Wii\"').shape"
   ]
  },
  {
   "cell_type": "markdown",
   "metadata": {},
   "source": [
    "Корреляция между отзывами критиков и продажами слабая положительная, а иногда очень слабая положительная. Максимальное значение у Xbox One и PS4. Корреляция между пользовательскими отзывами и продажами в основном около нуля, за исключением приставок от nintendo: WiiU - 0.42 и 3DS - 0.24. Причем для WiiU пользовательская корреляция даже выше чем корреляция критиков. В целом можно сделать вывод, что отзывы слабо влияют на продаваемость игр. Также надо отметить среднюю корреляцию между пользовательскими отзывами и продажами для платформы Wii, но она скорее всего объясняется очень малым количеством игр для которых есть рейтинги и в целом малым количеством игр для Wii выпущенных за период, всего 23 штуки."
   ]
  },
  {
   "cell_type": "markdown",
   "metadata": {},
   "source": [
    "<div class=\"alert alert-success\" style=\"border-radius: 10px; box-shadow: 2px 2px 2px; border: 1px solid; padding: 10px \">\n",
    "<b>Комментарий ревьюера v.2</b> \n",
    "    \n",
    "👍 \n",
    "Верно. Оценка критиков имеет слабое влияние на продажи, оценка пользователей на продажи не влияет. \n",
    "</div>"
   ]
  },
  {
   "cell_type": "code",
   "execution_count": 25,
   "metadata": {
    "ExecuteTime": {
     "end_time": "2023-07-07T01:28:42.844715572Z",
     "start_time": "2023-07-07T01:28:41.263466198Z"
    }
   },
   "outputs": [
    {
     "data": {
      "text/html": [
       "<style type=\"text/css\">\n",
       "#T_7b238_row0_col0, #T_7b238_row0_col2, #T_7b238_row8_col1 {\n",
       "  background-color: #b40426;\n",
       "  color: #f1f1f1;\n",
       "}\n",
       "#T_7b238_row0_col1, #T_7b238_row3_col1, #T_7b238_row6_col1 {\n",
       "  background-color: #f6a586;\n",
       "  color: #000000;\n",
       "}\n",
       "#T_7b238_row1_col0 {\n",
       "  background-color: #f5c1a9;\n",
       "  color: #000000;\n",
       "}\n",
       "#T_7b238_row1_col1, #T_7b238_row5_col1 {\n",
       "  background-color: #c83836;\n",
       "  color: #f1f1f1;\n",
       "}\n",
       "#T_7b238_row1_col2 {\n",
       "  background-color: #f59d7e;\n",
       "  color: #000000;\n",
       "}\n",
       "#T_7b238_row2_col0 {\n",
       "  background-color: #cad8ef;\n",
       "  color: #000000;\n",
       "}\n",
       "#T_7b238_row2_col1 {\n",
       "  background-color: #f3c8b2;\n",
       "  color: #000000;\n",
       "}\n",
       "#T_7b238_row2_col2 {\n",
       "  background-color: #c4d5f3;\n",
       "  color: #000000;\n",
       "}\n",
       "#T_7b238_row3_col0 {\n",
       "  background-color: #a9c6fd;\n",
       "  color: #000000;\n",
       "}\n",
       "#T_7b238_row3_col2 {\n",
       "  background-color: #d8dce2;\n",
       "  color: #000000;\n",
       "}\n",
       "#T_7b238_row4_col0 {\n",
       "  background-color: #94b6ff;\n",
       "  color: #000000;\n",
       "}\n",
       "#T_7b238_row4_col1, #T_7b238_row11_col0, #T_7b238_row11_col2 {\n",
       "  background-color: #3b4cc0;\n",
       "  color: #f1f1f1;\n",
       "}\n",
       "#T_7b238_row4_col2 {\n",
       "  background-color: #455cce;\n",
       "  color: #f1f1f1;\n",
       "}\n",
       "#T_7b238_row5_col0 {\n",
       "  background-color: #93b5fe;\n",
       "  color: #000000;\n",
       "}\n",
       "#T_7b238_row5_col2 {\n",
       "  background-color: #e7d7ce;\n",
       "  color: #000000;\n",
       "}\n",
       "#T_7b238_row6_col0 {\n",
       "  background-color: #8caffe;\n",
       "  color: #000000;\n",
       "}\n",
       "#T_7b238_row6_col2 {\n",
       "  background-color: #b1cbfc;\n",
       "  color: #000000;\n",
       "}\n",
       "#T_7b238_row7_col0 {\n",
       "  background-color: #5e7de7;\n",
       "  color: #f1f1f1;\n",
       "}\n",
       "#T_7b238_row7_col1 {\n",
       "  background-color: #ead4c8;\n",
       "  color: #000000;\n",
       "}\n",
       "#T_7b238_row7_col2 {\n",
       "  background-color: #688aef;\n",
       "  color: #f1f1f1;\n",
       "}\n",
       "#T_7b238_row8_col0 {\n",
       "  background-color: #5977e3;\n",
       "  color: #f1f1f1;\n",
       "}\n",
       "#T_7b238_row8_col2 {\n",
       "  background-color: #9ebeff;\n",
       "  color: #000000;\n",
       "}\n",
       "#T_7b238_row9_col0 {\n",
       "  background-color: #5875e1;\n",
       "  color: #f1f1f1;\n",
       "}\n",
       "#T_7b238_row9_col1 {\n",
       "  background-color: #e7745b;\n",
       "  color: #f1f1f1;\n",
       "}\n",
       "#T_7b238_row9_col2 {\n",
       "  background-color: #6e90f2;\n",
       "  color: #f1f1f1;\n",
       "}\n",
       "#T_7b238_row10_col0 {\n",
       "  background-color: #485fd1;\n",
       "  color: #f1f1f1;\n",
       "}\n",
       "#T_7b238_row10_col1 {\n",
       "  background-color: #97b8ff;\n",
       "  color: #000000;\n",
       "}\n",
       "#T_7b238_row10_col2 {\n",
       "  background-color: #3c4ec2;\n",
       "  color: #f1f1f1;\n",
       "}\n",
       "#T_7b238_row11_col1 {\n",
       "  background-color: #82a6fb;\n",
       "  color: #f1f1f1;\n",
       "}\n",
       "</style>\n",
       "<table id=\"T_7b238\">\n",
       "  <thead>\n",
       "    <tr>\n",
       "      <th class=\"blank level0\" >&nbsp;</th>\n",
       "      <th id=\"T_7b238_level0_col0\" class=\"col_heading level0 col0\" >count</th>\n",
       "      <th id=\"T_7b238_level0_col1\" class=\"col_heading level0 col1\" >median</th>\n",
       "      <th id=\"T_7b238_level0_col2\" class=\"col_heading level0 col2\" >sum</th>\n",
       "    </tr>\n",
       "    <tr>\n",
       "      <th class=\"index_name level0\" >genre</th>\n",
       "      <th class=\"blank col0\" >&nbsp;</th>\n",
       "      <th class=\"blank col1\" >&nbsp;</th>\n",
       "      <th class=\"blank col2\" >&nbsp;</th>\n",
       "    </tr>\n",
       "  </thead>\n",
       "  <tbody>\n",
       "    <tr>\n",
       "      <th id=\"T_7b238_level0_row0\" class=\"row_heading level0 row0\" >Action</th>\n",
       "      <td id=\"T_7b238_row0_col0\" class=\"data row0 col0\" >3284</td>\n",
       "      <td id=\"T_7b238_row0_col1\" class=\"data row0 col1\" >0.180000</td>\n",
       "      <td id=\"T_7b238_row0_col2\" class=\"data row0 col2\" >1672.720000</td>\n",
       "    </tr>\n",
       "    <tr>\n",
       "      <th id=\"T_7b238_level0_row1\" class=\"row_heading level0 row1\" >Sports</th>\n",
       "      <td id=\"T_7b238_row1_col0\" class=\"data row1 col0\" >2279</td>\n",
       "      <td id=\"T_7b238_row1_col1\" class=\"data row1 col1\" >0.220000</td>\n",
       "      <td id=\"T_7b238_row1_col2\" class=\"data row1 col2\" >1279.920000</td>\n",
       "    </tr>\n",
       "    <tr>\n",
       "      <th id=\"T_7b238_level0_row2\" class=\"row_heading level0 row2\" >Misc</th>\n",
       "      <td id=\"T_7b238_row2_col0\" class=\"data row2 col0\" >1730</td>\n",
       "      <td id=\"T_7b238_row2_col1\" class=\"data row2 col1\" >0.160000</td>\n",
       "      <td id=\"T_7b238_row2_col2\" class=\"data row2 col2\" >785.890000</td>\n",
       "    </tr>\n",
       "    <tr>\n",
       "      <th id=\"T_7b238_level0_row3\" class=\"row_heading level0 row3\" >Role-Playing</th>\n",
       "      <td id=\"T_7b238_row3_col0\" class=\"data row3 col0\" >1451</td>\n",
       "      <td id=\"T_7b238_row3_col1\" class=\"data row3 col1\" >0.180000</td>\n",
       "      <td id=\"T_7b238_row3_col2\" class=\"data row3 col2\" >891.950000</td>\n",
       "    </tr>\n",
       "    <tr>\n",
       "      <th id=\"T_7b238_level0_row4\" class=\"row_heading level0 row4\" >Adventure</th>\n",
       "      <td id=\"T_7b238_row4_col0\" class=\"data row4 col0\" >1290</td>\n",
       "      <td id=\"T_7b238_row4_col1\" class=\"data row4 col1\" >0.050000</td>\n",
       "      <td id=\"T_7b238_row4_col2\" class=\"data row4 col2\" >214.510000</td>\n",
       "    </tr>\n",
       "    <tr>\n",
       "      <th id=\"T_7b238_level0_row5\" class=\"row_heading level0 row5\" >Shooter</th>\n",
       "      <td id=\"T_7b238_row5_col0\" class=\"data row5 col0\" >1274</td>\n",
       "      <td id=\"T_7b238_row5_col1\" class=\"data row5 col1\" >0.220000</td>\n",
       "      <td id=\"T_7b238_row5_col2\" class=\"data row5 col2\" >979.030000</td>\n",
       "    </tr>\n",
       "    <tr>\n",
       "      <th id=\"T_7b238_level0_row6\" class=\"row_heading level0 row6\" >Racing</th>\n",
       "      <td id=\"T_7b238_row6_col0\" class=\"data row6 col0\" >1226</td>\n",
       "      <td id=\"T_7b238_row6_col1\" class=\"data row6 col1\" >0.180000</td>\n",
       "      <td id=\"T_7b238_row6_col2\" class=\"data row6 col2\" >697.590000</td>\n",
       "    </tr>\n",
       "    <tr>\n",
       "      <th id=\"T_7b238_level0_row7\" class=\"row_heading level0 row7\" >Simulation</th>\n",
       "      <td id=\"T_7b238_row7_col0\" class=\"data row7 col0\" >858</td>\n",
       "      <td id=\"T_7b238_row7_col1\" class=\"data row7 col1\" >0.150000</td>\n",
       "      <td id=\"T_7b238_row7_col2\" class=\"data row7 col2\" >381.130000</td>\n",
       "    </tr>\n",
       "    <tr>\n",
       "      <th id=\"T_7b238_level0_row8\" class=\"row_heading level0 row8\" >Platform</th>\n",
       "      <td id=\"T_7b238_row8_col0\" class=\"data row8 col0\" >818</td>\n",
       "      <td id=\"T_7b238_row8_col1\" class=\"data row8 col1\" >0.230000</td>\n",
       "      <td id=\"T_7b238_row8_col2\" class=\"data row8 col2\" >614.050000</td>\n",
       "    </tr>\n",
       "    <tr>\n",
       "      <th id=\"T_7b238_level0_row9\" class=\"row_heading level0 row9\" >Fighting</th>\n",
       "      <td id=\"T_7b238_row9_col0\" class=\"data row9 col0\" >804</td>\n",
       "      <td id=\"T_7b238_row9_col1\" class=\"data row9 col1\" >0.200000</td>\n",
       "      <td id=\"T_7b238_row9_col2\" class=\"data row9 col2\" >407.440000</td>\n",
       "    </tr>\n",
       "    <tr>\n",
       "      <th id=\"T_7b238_level0_row10\" class=\"row_heading level0 row10\" >Strategy</th>\n",
       "      <td id=\"T_7b238_row10_col0\" class=\"data row10 col0\" >668</td>\n",
       "      <td id=\"T_7b238_row10_col1\" class=\"data row10 col1\" >0.100000</td>\n",
       "      <td id=\"T_7b238_row10_col2\" class=\"data row10 col2\" >168.540000</td>\n",
       "    </tr>\n",
       "    <tr>\n",
       "      <th id=\"T_7b238_level0_row11\" class=\"row_heading level0 row11\" >Puzzle</th>\n",
       "      <td id=\"T_7b238_row11_col0\" class=\"data row11 col0\" >544</td>\n",
       "      <td id=\"T_7b238_row11_col1\" class=\"data row11 col1\" >0.090000</td>\n",
       "      <td id=\"T_7b238_row11_col2\" class=\"data row11 col2\" >161.050000</td>\n",
       "    </tr>\n",
       "  </tbody>\n",
       "</table>\n"
      ],
      "text/plain": [
       "<pandas.io.formats.style.Styler at 0x7f38dd7b41c0>"
      ]
     },
     "execution_count": 25,
     "metadata": {},
     "output_type": "execute_result"
    },
    {
     "data": {
      "image/png": "[encoded data removed]",
      "text/plain": [
       "<Figure size 1008x576 with 4 Axes>"
      ]
     },
     "metadata": {
      "needs_background": "light"
     },
     "output_type": "display_data"
    }
   ],
   "source": [
    "# Рассмотрим на распределение и прибыль игр по жанрам\n",
    "figure, axis = plt.subplots(2,1, figsize=(14, 8))\n",
    "genre_counts = pd.DataFrame(df.genre.value_counts())#.plot(kind='bar', ax=axis[0])\n",
    "genre_sales_sum_median = df.pivot_table(index='genre', values='sales_sum', aggfunc={'sales_sum': ['sum', 'median']})\n",
    "genre_pivot = genre_counts.join(genre_sales_sum_median)\n",
    "genre_pivot.plot(kind='bar', y='count', ax=axis[0], color='red', ylabel='количество игр(шт.)', position=1, width=0.3, sharex=True)\n",
    "genre_pivot.plot(kind='bar', y='sum', ax=axis[0], secondary_y=True, ylabel='сумма всех продаж(млн.)', color='green',\n",
    "                 mark_right=False, position=0, width=0.3, align='center', sharex=True)\n",
    "genre_pivot.plot(kind='bar', y='count', ax=axis[1], color='red', ylabel='количество игр(шт.)', position=1, width=0.3, sharex=True)\n",
    "genre_pivot.plot(kind='bar', y='median', ax=axis[1], secondary_y=True, ylabel='медиана продаж для одной игры(млн.)', color='green',\n",
    "                 mark_right=False, position=0, width=0.3, align='center', sharex=True);\n",
    "plt.suptitle('Количество игр в жанре в сравнении с суммой всех продаж и медианой продаж одной игры');\n",
    "#Взглянем на точные цифры\n",
    "genre_pivot.style.background_gradient('coolwarm')"
   ]
  },
  {
   "cell_type": "markdown",
   "metadata": {},
   "source": [
    "Жанры игр отсортированы слева на право в порядке убывания количества игр в них. Больше всего игр в жанре Action, меньше всего в жанре Puzzle. В целом по первому графику можно сказать что в большинстве случаев количество продаж примерно соответствует количеству выпущенных игр. Самой прибыльной представляется категория shooter, а убыточными категории adventure, strategy и puzzle. Однако проанализировав второй график можно сказать что в целом в жанрах strategy и puzzle не всё так плохо, так как у них неплохие медианные продажи. Что касается adventure, то он плохо показал себя и на втором графике. Также второй график подтверждает что шутеры неплохо продаются. Также среди лидеров оказались игры жанра platform. Что касается игр класса action, он является самым популярным и в нем больше всего игр, однако медиана продаж для одной игры у него не самая большая."
   ]
  },
  {
   "cell_type": "markdown",
   "metadata": {},
   "source": [
    "<div class=\"alert alert-success\" style=\"border-radius: 10px; box-shadow: 2px 2px 2px; border: 1px solid; padding: 10px \">\n",
    "<b>Комментарий ревьюера v.2</b> \n",
    "    \n",
    "👍 \n",
    "Верно. Общие продажи - плохая метрика для поиска наиболее прибыльного жанра. За высокими показателями общих продаж может скрываться множество мелких игр с низкими продажами. Или 2-3 звезды и куча провалов. Лучше найти жанр, где игры стабильно приносят высокий доход - для этого стоит рассматривать средние или медианные продажи.\n",
    "</div>"
   ]
  },
  {
   "cell_type": "markdown",
   "metadata": {},
   "source": [
    "### Портрет пользователя каждого региона"
   ]
  },
  {
   "cell_type": "code",
   "execution_count": 26,
   "metadata": {
    "ExecuteTime": {
     "end_time": "2023-07-07T04:23:13.278646674Z",
     "start_time": "2023-07-07T04:23:12.115251368Z"
    }
   },
   "outputs": [
    {
     "data": {
      "text/html": [
       "<style type=\"text/css\">\n",
       "#T_6865f_row0_col0 {\n",
       "  background-color: #a5c3fe;\n",
       "  color: #000000;\n",
       "}\n",
       "#T_6865f_row0_col1 {\n",
       "  background-color: #7699f6;\n",
       "  color: #f1f1f1;\n",
       "}\n",
       "#T_6865f_row0_col2, #T_6865f_row2_col0, #T_6865f_row2_col1, #T_6865f_row2_col3 {\n",
       "  background-color: #b40426;\n",
       "  color: #f1f1f1;\n",
       "}\n",
       "#T_6865f_row0_col3 {\n",
       "  background-color: #4f69d9;\n",
       "  color: #f1f1f1;\n",
       "}\n",
       "#T_6865f_row1_col0 {\n",
       "  background-color: #ecd3c5;\n",
       "  color: #000000;\n",
       "}\n",
       "#T_6865f_row1_col1 {\n",
       "  background-color: #d2dbe8;\n",
       "  color: #000000;\n",
       "}\n",
       "#T_6865f_row1_col2 {\n",
       "  background-color: #adc9fd;\n",
       "  color: #000000;\n",
       "}\n",
       "#T_6865f_row1_col3 {\n",
       "  background-color: #e2dad5;\n",
       "  color: #000000;\n",
       "}\n",
       "#T_6865f_row2_col2 {\n",
       "  background-color: #86a9fc;\n",
       "  color: #f1f1f1;\n",
       "}\n",
       "#T_6865f_row3_col0, #T_6865f_row3_col1, #T_6865f_row3_col3, #T_6865f_row4_col2 {\n",
       "  background-color: #3b4cc0;\n",
       "  color: #f1f1f1;\n",
       "}\n",
       "#T_6865f_row3_col2 {\n",
       "  background-color: #94b6ff;\n",
       "  color: #000000;\n",
       "}\n",
       "#T_6865f_row4_col0 {\n",
       "  background-color: #e36c55;\n",
       "  color: #f1f1f1;\n",
       "}\n",
       "#T_6865f_row4_col1 {\n",
       "  background-color: #abc8fd;\n",
       "  color: #000000;\n",
       "}\n",
       "#T_6865f_row4_col3 {\n",
       "  background-color: #8badfd;\n",
       "  color: #000000;\n",
       "}\n",
       "</style>\n",
       "<table id=\"T_6865f\">\n",
       "  <thead>\n",
       "    <tr>\n",
       "      <th class=\"blank level0\" >&nbsp;</th>\n",
       "      <th id=\"T_6865f_level0_col0\" class=\"col_heading level0 col0\" >na_sales</th>\n",
       "      <th id=\"T_6865f_level0_col1\" class=\"col_heading level0 col1\" >eu_sales</th>\n",
       "      <th id=\"T_6865f_level0_col2\" class=\"col_heading level0 col2\" >jp_sales</th>\n",
       "      <th id=\"T_6865f_level0_col3\" class=\"col_heading level0 col3\" >other_sales</th>\n",
       "    </tr>\n",
       "    <tr>\n",
       "      <th class=\"index_name level0\" >platform</th>\n",
       "      <th class=\"blank col0\" >&nbsp;</th>\n",
       "      <th class=\"blank col1\" >&nbsp;</th>\n",
       "      <th class=\"blank col2\" >&nbsp;</th>\n",
       "      <th class=\"blank col3\" >&nbsp;</th>\n",
       "    </tr>\n",
       "  </thead>\n",
       "  <tbody>\n",
       "    <tr>\n",
       "      <th id=\"T_6865f_level0_row0\" class=\"row_heading level0 row0\" >3DS</th>\n",
       "      <td id=\"T_6865f_row0_col0\" class=\"data row0 col0\" >38.200000</td>\n",
       "      <td id=\"T_6865f_row0_col1\" class=\"data row0 col1\" >30.960000</td>\n",
       "      <td id=\"T_6865f_row0_col2\" class=\"data row0 col2\" >67.810000</td>\n",
       "      <td id=\"T_6865f_row0_col3\" class=\"data row0 col3\" >6.280000</td>\n",
       "    </tr>\n",
       "    <tr>\n",
       "      <th id=\"T_6865f_level0_row1\" class=\"row_heading level0 row1\" >PS3</th>\n",
       "      <td id=\"T_6865f_row1_col0\" class=\"data row1 col0\" >63.500000</td>\n",
       "      <td id=\"T_6865f_row1_col1\" class=\"data row1 col1\" >67.810000</td>\n",
       "      <td id=\"T_6865f_row1_col2\" class=\"data row1 col2\" >23.350000</td>\n",
       "      <td id=\"T_6865f_row1_col3\" class=\"data row1 col3\" >26.770000</td>\n",
       "    </tr>\n",
       "    <tr>\n",
       "      <th id=\"T_6865f_level0_row2\" class=\"row_heading level0 row2\" >PS4</th>\n",
       "      <td id=\"T_6865f_row2_col0\" class=\"data row2 col0\" >108.740000</td>\n",
       "      <td id=\"T_6865f_row2_col1\" class=\"data row2 col1\" >141.090000</td>\n",
       "      <td id=\"T_6865f_row2_col2\" class=\"data row2 col2\" >15.960000</td>\n",
       "      <td id=\"T_6865f_row2_col3\" class=\"data row2 col3\" >48.350000</td>\n",
       "    </tr>\n",
       "    <tr>\n",
       "      <th id=\"T_6865f_level0_row3\" class=\"row_heading level0 row3\" >PSV</th>\n",
       "      <td id=\"T_6865f_row3_col0\" class=\"data row3 col0\" >5.040000</td>\n",
       "      <td id=\"T_6865f_row3_col1\" class=\"data row3 col1\" >6.100000</td>\n",
       "      <td id=\"T_6865f_row3_col2\" class=\"data row3 col2\" >18.590000</td>\n",
       "      <td id=\"T_6865f_row3_col3\" class=\"data row3 col3\" >3.260000</td>\n",
       "    </tr>\n",
       "    <tr>\n",
       "      <th id=\"T_6865f_level0_row4\" class=\"row_heading level0 row4\" >XOne</th>\n",
       "      <td id=\"T_6865f_row4_col0\" class=\"data row4 col0\" >93.120000</td>\n",
       "      <td id=\"T_6865f_row4_col1\" class=\"data row4 col1\" >51.590000</td>\n",
       "      <td id=\"T_6865f_row4_col2\" class=\"data row4 col2\" >0.340000</td>\n",
       "      <td id=\"T_6865f_row4_col3\" class=\"data row4 col3\" >14.270000</td>\n",
       "    </tr>\n",
       "  </tbody>\n",
       "</table>\n"
      ],
      "text/plain": [
       "<pandas.io.formats.style.Styler at 0x7f38dfb2a430>"
      ]
     },
     "metadata": {},
     "output_type": "display_data"
    },
    {
     "data": {
      "text/plain": [
       "na_sales       308.60\n",
       "eu_sales       297.55\n",
       "jp_sales       126.05\n",
       "other_sales     98.93\n",
       "dtype: float64"
      ]
     },
     "execution_count": 26,
     "metadata": {},
     "output_type": "execute_result"
    },
    {
     "data": {
      "image/png": "[encoded data removed]",
      "text/plain": [
       "<Figure size 1152x576 with 5 Axes>"
      ]
     },
     "metadata": {},
     "output_type": "display_data"
    }
   ],
   "source": [
    "# Определим популярность приставок по регионам\n",
    "top5 = tuple(df_actual.platform.value_counts().index[0:5])\n",
    "platform_sales_by_region = df_actual.query('platform.isin(@top5)').groupby('platform').apply(lambda x: [x['na_sales'].sum(),\n",
    "                                                                                                        x['eu_sales'].sum(),\n",
    "                                                                                                        x['jp_sales'].sum(),\n",
    "                                                                                                        x['other_sales'].sum()])\n",
    "platform_sales_by_region = pd.DataFrame(data=platform_sales_by_region.to_list(),\n",
    "                                        columns=('na_sales', 'eu_sales', 'jp_sales', 'other_sales'),\n",
    "                                        index=platform_sales_by_region.index)\n",
    "plt.figure(figsize=(16, 8))\n",
    "ax1 = plt.subplot2grid(shape=(2,6), loc=(0,0), colspan=2)\n",
    "ax2 = plt.subplot2grid((2,6), (0,2), colspan=2)\n",
    "ax3 = plt.subplot2grid((2,6), (0,4), colspan=2)\n",
    "ax4 = plt.subplot2grid((2,6), (1,1), colspan=2)\n",
    "ax5 = plt.subplot2grid((2,6), (1,3), colspan=2)\n",
    "platform_sales_by_region.loc['3DS', :].plot(kind='pie', autopct='%1.1f%%', ax=ax1)\n",
    "platform_sales_by_region.loc['PS3', :].plot(kind='pie', autopct='%1.1f%%', ax=ax2)\n",
    "platform_sales_by_region.loc['PS4', :].plot(kind='pie', autopct='%1.1f%%', ax=ax3)\n",
    "platform_sales_by_region.loc['PSV', :].plot(kind='pie', autopct='%1.1f%%', ax=ax4)\n",
    "platform_sales_by_region.loc['XOne', :].plot(kind='pie', autopct='%1.1f%%', ax=ax5);\n",
    "display(platform_sales_by_region.style.background_gradient('coolwarm'))\n",
    "platform_sales_by_region.apply(lambda x: sum(x))"
   ]
  },
  {
   "cell_type": "markdown",
   "metadata": {},
   "source": [
    "3DS лидирует на родном для себя рынке в японии, на которую приходится 47.3% мировых продаж игр, на втором месте северная америка с 26.7%. PS3 примерно одинаково популярен в европе и америке с 37.4 и 35 процентами соответственно. В японии почему-то у PS3 дела идут не очень хорошо, на неё приходится всего лишь 12.9 от мировых продаж игр. PS4 наиболее популярен в европе - 44.9%, на втором месте северная америка - 34.6, на последнем Япония с 5.1% от мировых продаж. PSV наиболее популярна в Японии, 56.4%, на втором месте европа с 18.5%, на последним категория \"другие страны\". XOne наиболее популярен у себя на родине в северной америке, с 58.4% от мировых продаж игр. В Японии продажи игр на XOne практически отсутствуют, на неё приходится менее 1% проданных игр. Рекордсмен продаж за период PS4 c 141 миллионом проданых игр."
   ]
  },
  {
   "cell_type": "markdown",
   "metadata": {},
   "source": [
    "<div class=\"alert alert-warning\" style=\"border-radius: 10px; box-shadow: 2px 2px 2px; border: 1px solid; padding: 10px \">\n",
    "<b>Комментарий ревьюера v.2</b> \n",
    "    \n",
    "📝 \n",
    "Исходя из расчетов все верно, но после корректировки актуального периода данные могут измениться.\n",
    "</div>"
   ]
  },
  {
   "cell_type": "markdown",
   "metadata": {},
   "source": [
    "<div class=\"alert alert-info\" style=\"border-radius: 10px; box-shadow: 2px 2px 2px; border: 1px solid; padding: 10px \"> \n",
    "<b>Комментарий студента</b> \n",
    "    \n",
    "Да, цифры поменялись и не только здесь, обновил везде.\n",
    "</div>\n"
   ]
  },
  {
   "cell_type": "markdown",
   "metadata": {},
   "source": [
    "<div class=\"alert alert-success\" style=\"border-radius: 10px; box-shadow: 2px 2px 2px; border: 1px solid; padding: 10px \">\n",
    "<b>Комментарий ревьюера v.3</b> \n",
    "    \n",
    "👍 \n",
    "Супер!\n",
    "</div>"
   ]
  },
  {
   "cell_type": "code",
   "execution_count": 27,
   "metadata": {
    "ExecuteTime": {
     "end_time": "2023-07-07T04:12:55.398589199Z",
     "start_time": "2023-07-07T04:12:54.611543229Z"
    }
   },
   "outputs": [
    {
     "data": {
      "text/plain": [
       "genre\n",
       "Role-Playing    50.01\n",
       "Action          39.65\n",
       "Misc             9.03\n",
       "Shooter          6.61\n",
       "Sports           4.91\n",
       "Name: jp_sales, dtype: float64"
      ]
     },
     "execution_count": 27,
     "metadata": {},
     "output_type": "execute_result"
    },
    {
     "data": {
      "image/png": "[encoded data removed]",
      "text/plain": [
       "<Figure size 576x432 with 1 Axes>"
      ]
     },
     "metadata": {
      "needs_background": "light"
     },
     "output_type": "display_data"
    }
   ],
   "source": [
    "# теперь посмотрим какие жанры популярны по регионам.\n",
    "sales_by_region = df_actual.pivot_table(index='genre', values=['na_sales', 'eu_sales', 'jp_sales', 'other_sales'], aggfunc='sum', margins_name='Total')\n",
    "sales_by_region['total'] = sales_by_region.apply(lambda x: x.sum(), axis=1)\n",
    "sales_by_region = sales_by_region.sort_values(by='total', ascending=False).iloc[0:5]\n",
    "ax = sales_by_region.plot.barh(xlabel='Продажи игр (млн. шт)', width=0.9, figsize=(8, 6))\n",
    "for container in ax.containers:\n",
    "    ax.bar_label(container)\n",
    "sales_by_region['jp_sales'].sort_values(ascending=False)"
   ]
  },
  {
   "cell_type": "markdown",
   "metadata": {},
   "source": [
    "Наиболее популярные жанры это, в порядке убывания популярности: action, shooter, sports, role-playing и misc. Жанр action на первом месте потому что это термин зонтик, который может скрывать под собой несколько жанров. Например, shooter и role-playing(не всегда) также относятся к классу action. Второе место занимает жанр shooter, его популярность скорее всего обусловлена тем что шутеры очень часто это высоко бюджетные игры с большим рекламным бюджетом, а также имеют большой потенциал сетевой игры. Механика игр класса shooter основана на реакции и ловкости управления персонажем, что позволяет отвлечься от быта и втягивает в игру. На третьем месте жанр sports, тут очевидно всё держится на фанатах спортивных команд футбола, баскетбола, хоккея и американского футбола. Role-playing игры на четвертом месте, они популярны из-за того что такие игры делают упор на сюжет и развитие персонажа. Игры типа misc на пятом месте потому что в эту категорию скорее всего попали все казуальные игры рассчитанные на широкую аудиторию, в топ 5 эта категория попала поскольку людей не особо интересующихся видеоиграми гораздо больше, чем игроков. Такой порядок получился для всех кроме Японии. В Японии на первом месте Role-Playing игры, игры класса action на втором, Misc на третьем, Shooter на четвертом, а Sports на последнем, пятом. Возможно это связано с особенностями культуры."
   ]
  },
  {
   "cell_type": "markdown",
   "metadata": {},
   "source": [
    "<div class=\"alert alert-success\" style=\"border-radius: 10px; box-shadow: 2px 2px 2px; border: 1px solid; padding: 10px \">\n",
    "<b>Комментарий ревьюера v.2</b> \n",
    "    \n",
    "👍 \n",
    "Согласен, NA и EU во многом схожи, в то время, как Япония более самобытна.\n",
    "</div>"
   ]
  },
  {
   "cell_type": "code",
   "execution_count": 28,
   "metadata": {
    "ExecuteTime": {
     "end_time": "2023-07-07T03:53:46.177839578Z",
     "start_time": "2023-07-07T03:53:44.805092948Z"
    }
   },
   "outputs": [
    {
     "data": {
      "text/html": [
       "<style type=\"text/css\">\n",
       "#T_388b2_row0_col0 {\n",
       "  background-color: #bfd3f6;\n",
       "  color: #000000;\n",
       "}\n",
       "#T_388b2_row0_col1 {\n",
       "  background-color: #5f7fe8;\n",
       "  color: #f1f1f1;\n",
       "}\n",
       "#T_388b2_row0_col2 {\n",
       "  background-color: #8db0fe;\n",
       "  color: #000000;\n",
       "}\n",
       "#T_388b2_row0_col3 {\n",
       "  background-color: #9bbcff;\n",
       "  color: #000000;\n",
       "}\n",
       "#T_388b2_row0_col4 {\n",
       "  background-color: #4f69d9;\n",
       "  color: #f1f1f1;\n",
       "}\n",
       "#T_388b2_row1_col0 {\n",
       "  background-color: #3c4ec2;\n",
       "  color: #f1f1f1;\n",
       "}\n",
       "#T_388b2_row1_col1, #T_388b2_row1_col3, #T_388b2_row1_col4, #T_388b2_row3_col0, #T_388b2_row3_col2 {\n",
       "  background-color: #3b4cc0;\n",
       "  color: #f1f1f1;\n",
       "}\n",
       "#T_388b2_row1_col2 {\n",
       "  background-color: #455cce;\n",
       "  color: #f1f1f1;\n",
       "}\n",
       "#T_388b2_row2_col0, #T_388b2_row2_col2, #T_388b2_row2_col3, #T_388b2_row4_col1, #T_388b2_row4_col4 {\n",
       "  background-color: #b40426;\n",
       "  color: #f1f1f1;\n",
       "}\n",
       "#T_388b2_row2_col1 {\n",
       "  background-color: #5b7ae5;\n",
       "  color: #f1f1f1;\n",
       "}\n",
       "#T_388b2_row2_col4 {\n",
       "  background-color: #7597f6;\n",
       "  color: #f1f1f1;\n",
       "}\n",
       "#T_388b2_row3_col1 {\n",
       "  background-color: #779af7;\n",
       "  color: #f1f1f1;\n",
       "}\n",
       "#T_388b2_row3_col3 {\n",
       "  background-color: #4961d2;\n",
       "  color: #f1f1f1;\n",
       "}\n",
       "#T_388b2_row3_col4 {\n",
       "  background-color: #6180e9;\n",
       "  color: #f1f1f1;\n",
       "}\n",
       "#T_388b2_row4_col0 {\n",
       "  background-color: #b1cbfc;\n",
       "  color: #000000;\n",
       "}\n",
       "#T_388b2_row4_col2 {\n",
       "  background-color: #adc9fd;\n",
       "  color: #000000;\n",
       "}\n",
       "#T_388b2_row4_col3 {\n",
       "  background-color: #a3c2fe;\n",
       "  color: #000000;\n",
       "}\n",
       "</style>\n",
       "<table id=\"T_388b2\">\n",
       "  <thead>\n",
       "    <tr>\n",
       "      <th class=\"blank level0\" >&nbsp;</th>\n",
       "      <th id=\"T_388b2_level0_col0\" class=\"col_heading level0 col0\" >eu_sales</th>\n",
       "      <th id=\"T_388b2_level0_col1\" class=\"col_heading level0 col1\" >jp_sales</th>\n",
       "      <th id=\"T_388b2_level0_col2\" class=\"col_heading level0 col2\" >na_sales</th>\n",
       "      <th id=\"T_388b2_level0_col3\" class=\"col_heading level0 col3\" >other_sales</th>\n",
       "      <th id=\"T_388b2_level0_col4\" class=\"col_heading level0 col4\" >games N</th>\n",
       "    </tr>\n",
       "    <tr>\n",
       "      <th class=\"index_name level0\" >rating</th>\n",
       "      <th class=\"blank col0\" >&nbsp;</th>\n",
       "      <th class=\"blank col1\" >&nbsp;</th>\n",
       "      <th class=\"blank col2\" >&nbsp;</th>\n",
       "      <th class=\"blank col3\" >&nbsp;</th>\n",
       "      <th class=\"blank col4\" >&nbsp;</th>\n",
       "    </tr>\n",
       "  </thead>\n",
       "  <tbody>\n",
       "    <tr>\n",
       "      <th id=\"T_388b2_level0_row0\" class=\"row_heading level0 row0\" >E</th>\n",
       "      <td id=\"T_388b2_row0_col0\" class=\"data row0 col0\" >82.800000</td>\n",
       "      <td id=\"T_388b2_row0_col1\" class=\"data row0 col1\" >15.000000</td>\n",
       "      <td id=\"T_388b2_row0_col2\" class=\"data row0 col2\" >78.940000</td>\n",
       "      <td id=\"T_388b2_row0_col3\" class=\"data row0 col3\" >22.530000</td>\n",
       "      <td id=\"T_388b2_row0_col4\" class=\"data row0 col4\" >296</td>\n",
       "    </tr>\n",
       "    <tr>\n",
       "      <th id=\"T_388b2_level0_row1\" class=\"row_heading level0 row1\" >E10+</th>\n",
       "      <td id=\"T_388b2_row1_col0\" class=\"data row1 col0\" >42.530000</td>\n",
       "      <td id=\"T_388b2_row1_col1\" class=\"data row1 col1\" >5.890000</td>\n",
       "      <td id=\"T_388b2_row1_col2\" class=\"data row1 col2\" >54.020000</td>\n",
       "      <td id=\"T_388b2_row1_col3\" class=\"data row1 col3\" >12.540000</td>\n",
       "      <td id=\"T_388b2_row1_col4\" class=\"data row1 col4\" >250</td>\n",
       "    </tr>\n",
       "    <tr>\n",
       "      <th id=\"T_388b2_level0_row2\" class=\"row_heading level0 row2\" >M</th>\n",
       "      <td id=\"T_388b2_row2_col0\" class=\"data row2 col0\" >145.320000</td>\n",
       "      <td id=\"T_388b2_row2_col1\" class=\"data row2 col1\" >14.110000</td>\n",
       "      <td id=\"T_388b2_row2_col2\" class=\"data row2 col2\" >165.210000</td>\n",
       "      <td id=\"T_388b2_row2_col3\" class=\"data row2 col3\" >47.040000</td>\n",
       "      <td id=\"T_388b2_row2_col4\" class=\"data row2 col4\" >369</td>\n",
       "    </tr>\n",
       "    <tr>\n",
       "      <th id=\"T_388b2_level0_row3\" class=\"row_heading level0 row3\" >T</th>\n",
       "      <td id=\"T_388b2_row3_col0\" class=\"data row3 col0\" >41.950000</td>\n",
       "      <td id=\"T_388b2_row3_col1\" class=\"data row3 col1\" >20.440000</td>\n",
       "      <td id=\"T_388b2_row3_col2\" class=\"data row3 col2\" >49.790000</td>\n",
       "      <td id=\"T_388b2_row3_col3\" class=\"data row3 col3\" >14.290000</td>\n",
       "      <td id=\"T_388b2_row3_col4\" class=\"data row3 col4\" >332</td>\n",
       "    </tr>\n",
       "    <tr>\n",
       "      <th id=\"T_388b2_level0_row4\" class=\"row_heading level0 row4\" >no rating</th>\n",
       "      <td id=\"T_388b2_row4_col0\" class=\"data row4 col0\" >78.610000</td>\n",
       "      <td id=\"T_388b2_row4_col1\" class=\"data row4 col1\" >82.050000</td>\n",
       "      <td id=\"T_388b2_row4_col2\" class=\"data row4 col2\" >89.180000</td>\n",
       "      <td id=\"T_388b2_row4_col3\" class=\"data row4 col3\" >23.410000</td>\n",
       "      <td id=\"T_388b2_row4_col4\" class=\"data row4 col4\" >911</td>\n",
       "    </tr>\n",
       "  </tbody>\n",
       "</table>\n"
      ],
      "text/plain": [
       "<pandas.io.formats.style.Styler at 0x7f38ddbf5be0>"
      ]
     },
     "metadata": {},
     "output_type": "display_data"
    },
    {
     "data": {
      "image/png": "[encoded data removed]",
      "text/plain": [
       "<Figure size 576x432 with 1 Axes>"
      ]
     },
     "metadata": {
      "needs_background": "light"
     },
     "output_type": "display_data"
    }
   ],
   "source": [
    "# Выясним влияет ли рейтинг ESRB на продажи по регионам.\n",
    "df_actual['rating'] = df_actual['rating'].fillna('no rating')\n",
    "rating_pivot = df_actual.pivot_table(index='rating', values=['na_sales', 'eu_sales', 'jp_sales', 'other_sales'], aggfunc='sum')\n",
    "sales_by_rating = df_actual.pivot_table(index='rating', values='name', aggfunc='count')\n",
    "sales_by_rating = sales_by_rating.rename({'name':'games N'}, axis=1)\n",
    "rating_pivot = rating_pivot.join(sales_by_rating)\n",
    "rating_pivot = rating_pivot.query('rating != \"RP\"')\n",
    "ax = rating_pivot.plot.barh(xlabel='Продажи игр (млн. шт)',\n",
    "                            y=['na_sales', 'eu_sales', 'jp_sales', 'other_sales'],\n",
    "                            title='Продажи игр в зависимости от рейтинга ESRB',\n",
    "                            width=0.9, figsize=(8, 6))\n",
    "for container in ax.containers:\n",
    "    ax.bar_label(container)\n",
    "\n",
    "display(rating_pivot.style.background_gradient('coolwarm'))"
   ]
  },
  {
   "cell_type": "markdown",
   "metadata": {},
   "source": [
    "Расшифровка рейтинга ESRB:\n",
    "- «E» («Everyone») — «Для всех»\n",
    "- «E10+» («Everyone 10 and older») — «Для всех от 10 лет и старше»\n",
    "- «T» («Teen») — «Подросткам»: Игра подходит для лиц от 13 лет\n",
    "- «M» («Mature») — «Для взрослых»: Материалы игры не подходят для лиц младше 17 лет\n",
    "\n",
    "По общему количеству игр лидируют игры без рейтинга - 911 тайтлов, с двукратным отставанием следуют игры категории M - 369 тайтлов. Странно что продажи игр без рейтинга почти одинаковые между северной америкой, европой и Японией, ведь Японский рынок гораздо меньше, для М и Е10+ северная америка на порядок опережает Японию. С учетом того что игры без рейтинга самая большая категория продаются они не очень хорошо, продажи составляют половину от продаж категории М, при том что количество игр в М в 2 раза меньше. Из графика видно, что лучше всего продаются игры категории M, но не в Японии, где категория M находится на третьем месте, а на первом месте игры без рейтинга которые кратно, а в некоторых случаях и на порядок обгоняют другие категории. Так как ESRB североамериканская организация, то она оценивает только игры которые выпускаются в Америке и Канаде(в соответствии с википедией), а значит туда не попадают игры выпущенные только на локальном Японском рынке. Что говорит о большой специфичности рынка."
   ]
  },
  {
   "cell_type": "markdown",
   "metadata": {},
   "source": [
    "<div class=\"alert alert-success\" style=\"border-radius: 10px; box-shadow: 2px 2px 2px; border: 1px solid; padding: 10px \">\n",
    "<b>Комментарий ревьюера v.2</b> \n",
    "    \n",
    "👍 \n",
    "Правильно, что мы  поставили заглушку на пропуски в рейтинге ESRB. Иначе игры без рейтинга оказались бы полностью исключенными из анализа. Продажи именно этих игр могут указать на ключевое различие в регионах.\n",
    "</div>"
   ]
  },
  {
   "cell_type": "markdown",
   "metadata": {},
   "source": [
    "### Проверка гипотез"
   ]
  },
  {
   "cell_type": "code",
   "execution_count": 29,
   "metadata": {
    "ExecuteTime": {
     "end_time": "2023-07-07T02:50:35.849270733Z",
     "start_time": "2023-07-07T02:50:35.805001837Z"
    }
   },
   "outputs": [
    {
     "name": "stdout",
     "output_type": "stream",
     "text": [
      "pvalue = 0.68, не можем отвергнуть нулевую гипотезу\n",
      "среднее xboxone: 5.6, среднее PC: 5.8\n"
     ]
    }
   ],
   "source": [
    "# Проверим гипотезу о равенстве средних пользовательских рейтингов Xbox One и PC\n",
    "pc = df_actual[df_actual[['platform', 'user_score']].platform == 'PC'].user_score.dropna()\n",
    "xbox_one = df_actual[df_actual[['platform', 'user_score']].platform == 'XOne'].user_score.dropna()\n",
    "pval = st.ttest_ind(xbox_one, pc).pvalue\n",
    "if pval > 0.05:\n",
    "    print(f'pvalue = {pval:.2}, не можем отвергнуть нулевую гипотезу')\n",
    "else:\n",
    "    print(f'Нулевая гипотеза отвергнута, pval = {pval}')\n",
    "print(f\"среднее xboxone: {xbox_one.mean():.2}, среднее PC: {pc.mean():.2}\")"
   ]
  },
  {
   "cell_type": "markdown",
   "metadata": {},
   "source": [
    "$H_0$: Средние пользовательские рейтинги платформ Xbox One и PC одинаковые\n",
    "\n",
    "$H_1$: Средние пользовательские рейтинги платформ Xbox One и PC не равны\n",
    "\n",
    "$\\alpha$ = 0.05\n",
    "\n",
    "Нулевая гипотеза всегда говорит о равенстве средних в выборках. Альтернативная предполагает различие между выборками, односторонний либо двусторонний тест. Несмотря на то, что надо показать равенство средних, нулевой гипотезой берем именно равенство. Для проверки был применён двусторонний тест, так как не важно в большую или меньшую сторону отличаются выборки, главное показать что они отличаются. Пороговое значение $\\alpha$ выбрано конвенционально. Использована версия теста для двух независимых выборок, поскольку между выборками нет зависимости и они легко помещаются в память компьютера.\n",
    "\n",
    "Т-тест показал значение pvalue = 0.68, это говорит о том что такое различие между средними можно получить случайно в 68 случаях из 100. 0.68 сильно больше $\\alpha$=0.05, поэтому мы не можем отвергнуть $H_0$."
   ]
  },
  {
   "cell_type": "markdown",
   "metadata": {},
   "source": [
    "<div class=\"alert alert-success\" style=\"border-radius: 10px; box-shadow: 2px 2px 2px; border: 1px solid; padding: 10px \">\n",
    "<b>Комментарий ревьюера v.2</b> \n",
    "    \n",
    "👍 \n",
    "Гипотезы сформулированы верно.\n",
    "</div>"
   ]
  },
  {
   "cell_type": "code",
   "execution_count": 30,
   "metadata": {
    "ExecuteTime": {
     "end_time": "2023-07-07T03:17:40.989086669Z",
     "start_time": "2023-07-07T03:17:40.887208028Z"
    }
   },
   "outputs": [
    {
     "name": "stdout",
     "output_type": "stream",
     "text": [
      "Нулевая гипотеза отвергнута, pval = 0.013\n",
      "среднее action: 5.3, среднее sports: 4.2\n"
     ]
    }
   ],
   "source": [
    "# Проверим, отличаются ли пользовательские рейтинги жанров action и sports\n",
    "action = df_actual.query('genre == \"Action\"').user_score\n",
    "sports = df_actual.query('genre == \"Sports\"').user_score\n",
    "pval = st.ttest_ind(action, sports, nan_policy='omit').pvalue\n",
    "if pval > 0.05:\n",
    "    print(f'pvalue = {pval:.2}, не можем отвергнуть нулевую гипотезу')\n",
    "else:\n",
    "    print(f'Нулевая гипотеза отвергнута, pval = {pval:.2}')\n",
    "print(f\"среднее action: {action.mean():.2}, среднее sports: {sports.mean():.2}\")"
   ]
  },
  {
   "cell_type": "markdown",
   "metadata": {},
   "source": [
    "$H_0$: Средние пользовательские рейтинги игр в жанре Action и Sports одинаковые\n",
    "\n",
    "$H_1$: Средние пользовательские рейтинги игр в жанре Action и Sports отличаются\n",
    "\n",
    "$\\alpha$ = 0.05\n",
    "\n",
    "Нулевая гипотеза всегда говорит о равенстве средних в выборках. Альтернативная предполагает различие между выборками, односторонний либо двусторонний тест. В данном случае нам необходимо проверить альтернативную гипотезу. Для проверки был применён двусторонний тест, так как не важно в большую или меньшую сторону отличаются выборки, главное показать что они отличаются. Пороговое значение $\\alpha$ выбрано конвенционально. Использована версия теста для двух независимых выборок, поскольку между выборками нет зависимости и они легко помещаются в память компьютера.\n",
    "\n",
    "Т-тест показал значение pvalue = 0.013, это говорит о том что такое различие между средними маловероятно(нужно около 100 повторений эксперимента что-бы получить такую разницу случайно), 0.013 меньше $\\alpha$=0.05, поэтому отвергаем $H_0$ в пользу $H_1$.\n"
   ]
  },
  {
   "cell_type": "markdown",
   "metadata": {},
   "source": [
    "<div class=\"alert alert-success\" style=\"border-radius: 10px; box-shadow: 2px 2px 2px; border: 1px solid; padding: 10px \">\n",
    "<b>Комментарий ревьюера v.2</b> \n",
    "    \n",
    "👍 \n",
    "* Правильно, что для тестирования гипотез использован двусторонний t-тест Стьюдента.\n",
    "\n",
    "* Хорошо, что использован параметр отфильтровывющий пропуски. \n",
    "</div>"
   ]
  },
  {
   "cell_type": "markdown",
   "metadata": {},
   "source": [
    "<div class=\"alert alert-warning\" style=\"border-radius: 10px; box-shadow: 2px 2px 2px; border: 1px solid; padding: 10px \">\n",
    "<b>Комментарий ревьюера v.2</b> \n",
    "    \n",
    "📝 \n",
    "Также можно вывести не только pvalue, но еще и средние значения выборок, которые мы изучаем. Это позволит нам проверить не ошиблись ли мы, если они расходятся с тестом Стьюдента.\n",
    "</div>"
   ]
  },
  {
   "cell_type": "markdown",
   "metadata": {},
   "source": [
    "<div class=\"alert alert-info\" style=\"border-radius: 10px; box-shadow: 2px 2px 2px; border: 1px solid; padding: 10px \"> \n",
    "<b>Комментарий студента</b> \n",
    "    \n",
    "Поправил.\n",
    "</div>\n"
   ]
  },
  {
   "cell_type": "markdown",
   "metadata": {},
   "source": [
    "<div class=\"alert alert-success\" style=\"border-radius: 10px; box-shadow: 2px 2px 2px; border: 1px solid; padding: 10px \">\n",
    "<b>Комментарий ревьюера v.3</b> \n",
    "    \n",
    "👍 \n",
    "\n",
    "</div>"
   ]
  },
  {
   "cell_type": "markdown",
   "metadata": {},
   "source": [
    "### Вывод"
   ]
  },
  {
   "cell_type": "markdown",
   "metadata": {},
   "source": [
    "В данной работе был проанализирован датасет содержащий информацию о продажах видеоигр и сопутствующей информации(платформы, рейтинги, годы выпуска) по регионам.\n",
    "\n",
    "В первую очередь была оценена общая информация. Всего в датасете 16715 строк. В рейтинги пользователей, критиков и в возрастном рейтинге не хватает до 50% процентов записей. Данные представлены с 1980 по 2016 год.\n",
    "\n",
    "На этапе подготовки данных были поменяны типы столбцов year_of_release и user_score. В первом случае float был поменян на int, а во втором с object на float. Было принято решение не заполнять пропуски в данных так как в столбцах, где это необходимо, а именно 3 столбца с рейтингами пропущено слишком много значений(до 50%) для того что-бы экстраполировать среднее или медианное значение на весь столбец. Также на этом этапе анализа было обнаружено, что 47 процентов нашего датасета являются дублями одних и тех же игр на разных платформах.\n",
    "\n",
    "Результаты исследовательского анализа данных показали что средний срок жизни игровой платформы составляет около 10 лет, наибольшие продажи приходятся на первую половину жизненного цикла. За период с 1995 по 2016 год новая платформа появлялась каждые 5 лет. Судя по тепловой карте выше, индустрия живет циклами по 5-6 лет. Исходя из этого был подготовлен актуальный срез данных с 2013 года. 2013 год выбран поскольку в этот год были выпущены сразу 2 мэйнстримных консоли PS4 и Xbox One, таким образом мы захватим все актуальные платформы на момент 2017. Затем из данных были удалены платформы поддержка которых на 2016 была прекращена. Также была посчитана динамика продаж по сравнению с предыдущим годом. У всех платформ в сравнении с предыдущим годом продажи падают, минимальное падение у Nintendo Wii - 960 000 копий. Максимальное падение у PS4 - 49 650 000 копий. Данные продаж разбитые по платформам характеризуются большим количеством мощных выбросов, продажи которых могут быть на несколько порядков больше медианы. Между отзывами критиков и продажами обнаружена слабая положительная связь, а между отзывами пользователей и продажами связи не обнаружено. В большинстве случаев количество продаж примерно соответствует количеству выпущенных игр. Самой прибыльной представляется категория shooter, а самая убыточная категория - adventure. Класс action является самым популярным и в нем больше всего игр, однако медиана продаж для одной игры у него не самая большая.\n",
    "\n",
    "Затем был составлен портрет пользователя каждого региона. По платформам: 3DS лидирует на родном для себя рынке в японии, на которую приходится 47.3% мировых продаж игр, на втором месте северная америка с 26.7%. PS3 примерно одинаково популярен в европе и америке с 37.4 и 35 процентами соответственно. В японии почему-то у PS3 дела идут не очень хорошо, на неё приходится всего лишь 12.9 от мировых продаж игр. PS4 наиболее популярен в европе - 44.9%, на втором месте северная америка - 34.6, на последнем Япония с 5.1% от мировых продаж. PSV наиболее популярна в Японии, 56.4%, на втором месте европа с 18.5%, на последним категория \"другие страны\". XOne наиболее популярен у себя на родине в северной америке, с 58.4% от мировых продаж игр. В Японии продажи игр на XOne практически отсутствуют, на неё приходится менее 1% проданных игр. Рекордсмен продаж за период PS4 c 141 миллионом проданых игр. По жанрам: наиболее популярные жанры это, в порядке убывания популярности: action, shooter, sports, role-playing и misc. Жанр action на первом месте потому что это термин зонтик, который может скрывать под собой несколько жанров. Такой порядок получился для всех кроме Японии. В японии на первом месте Role-Playing игры, игры класса action на втором, Misc на третьем, Shooter на четвертом, а Sports на последнем, пятом. По рейтингам от ESRB: по общему количеству игр лидируют игры без рейтинга - 911 тайтлов, с двукратным отставанием следуют игры категории M - 369 тайтлов. Странно что продажи игр без рейтинга почти одинаковые между северной америкой, европой и Японией, ведь Японский рынок гораздо меньше, для М и Е10+ северная америка на порядок опережает Японию. С учетом того что игры без рейтинга самая большая категория продаются они не очень хорошо, продажи составляют половину от продаж категории М, при том что количество игр в М в 2 раза меньше. Лучше всего в мире продаются игры категории M, но не в Японии, где категория M находится на третьем месте, а на первом месте игры без рейтинга которые кратно, а в некоторых случаях и на порядок обгоняют другие категории. Так как ESRB североамериканская организация, то она оценивает только игры которые выпускаются в Америке и Канаде(в соответствии с википедией), а значит туда не попадают игры выпущенные на локальном Японском рынке. Что говорит о большой специфичности рынка.\n",
    "\n",
    "Далее было проверено 2 гипотезы. Первая гипотеза о равенстве средних пользовательских рейтингов Xbox One и PC где т-тест показал значение pvalue = 0.68, что говорит о том что такое различие между средними можно получить случайно в 68 случае из 100. 0.68 сильно больше $\\alpha$=0.05, поэтому мы не можем отвергнуть $H_0$(рейтинги равны). И вторая гипотеза об отличиях пользовательских рейтингов жанров action и sports. Где т-тест показал значение pvalue = 0.013, это говорит о том что такое различие между средними маловероятно, необходимо около 100 повторений эксперимента что-бы получить такую разницу. 0.013 меньше $\\alpha$=0.05, поэтому отвергаем $H_0$(рейтинги равны) в пользу $H_1$(рейтинги отличаются).\n",
    "\n",
    "__Общий вывод__: Примерно в половине случаев игры выпускаются сразу для нескольких платформ, похоже издатели таким образом снижают свои риски расширяя потенциальную аудиторию. Приставки обновляются примерно 1 раз в 10 лет новые мэйнстримные консоли появились в 2013. Продажи Xbox One достаточно слабые, он не попадает в топ 5, в отличие от PS4. Японский рынок большой, но очень специфичный, распределение по жанрам и по платформам у него другое. Его размер в 3 раза меньше северо американского и европейского рынков, в то же время он сопоставим с категорией \"другие страны\". Странно что серия PS не пользуется популярностью у себя дома. Есть подозрение, что в Японии популярны игры которые продаются только в Японии и разрабатываются там же. __Бизнесу__: Что касается прогнозов на 2017 год то наиболее перспективным представляется американский рынок, затем европейский. Ориентироваться надо в первую очередь на них, вместе они составляют более 70% общемирового рынка. Более того, они похожи по своей структуре, там популярны одни и те же игры, но есть некоторые различия по платформам. Похожая структура по жанрам у категории \"другие страны\", по платформам эта категория ближе к европейской. По сравнению с 2015 продажи на всех платформах упали, возможна рецессия. Под Японский рынок надо подстраиваться и скорее всего придется взаимодействовать с местными издателями."
   ]
  },
  {
   "cell_type": "markdown",
   "metadata": {},
   "source": [
    "<div class=\"alert alert-success\" style=\"border-radius: 10px; box-shadow: 2px 2px 2px; border: 1px solid; padding: 10px \">\n",
    "<b>Комментарий ревьюера v.2</b> \n",
    "    \n",
    "👍 \n",
    "Выводы понятны и логичны, а самое главное подкреплены выявленными фактами.\n",
    "    \n",
    "Ты очень серьезно подходишь к визуализации.\n",
    "\n",
    "Вот пара ссылок на полезные источники:https://habr.com/ru/company/otus/blog/540526/, https://pythonru.com/biblioteki/seaborn-plot\n",
    "</div>"
   ]
  },
  {
   "cell_type": "markdown",
   "metadata": {},
   "source": [
    "<div style=\"border:solid blue 3px; padding: 20px\">\n",
    "<div class=\"alert alert-success\">\n",
    "<b>Обратная связь v.1</b> \n",
    "    \n",
    "👋\n",
    "Айдар, у тебя замечательная и очень сильная работа. Спасибо тебе большое, что ты уделяешь оформлению проекта особое внимание - ты не представляешь, как приятно не рыться в коде и не скролить туды сюды блокнот, чтобы найти какую-нибудь информацию. Каждый заголовок выделен, каждое рассуждение выделено, каждый пункт выделен. Так же мне очень понравилось, что тобой найдены все основные инсайты в данных, чательно обоснованы и с точки зрения кода проработаны достаточно оптимально.  Я оставил несколько обязательных поправок для тебя и после этого буду готов сразу принять проект. \n",
    "\n",
    "Удачи в доработках, жду! "
   ]
  },
  {
   "cell_type": "markdown",
   "metadata": {},
   "source": [
    "<div style=\"border:solid indigo 3px; padding: 20px\">\n",
    "<div class=\"alert alert-success\">\n",
    "<b>Обратная связь v.2</b> \n",
    "    \n",
    "👋 \n",
    "      \n",
    "Айдар, спасибо тебе за исправления критических моментов, а также спасибо за хорошую работу.\n",
    "    \n",
    "Поздравляю с успешным завершением проекта 🥳 🎉\n",
    "    \n",
    "И желаю успехов в новых работах 😊"
   ]
  }
 ],
 "metadata": {
  "ExecuteTimeLog": [
   {
    "duration": 9860,
    "start_time": "2023-07-07T05:01:43.748Z"
   },
   {
    "duration": 1389,
    "start_time": "2023-07-07T05:01:53.611Z"
   },
   {
    "duration": 241,
    "start_time": "2023-07-07T05:01:55.002Z"
   },
   {
    "duration": 194,
    "start_time": "2023-07-07T05:01:55.245Z"
   },
   {
    "duration": 36,
    "start_time": "2023-07-07T05:01:55.440Z"
   },
   {
    "duration": 54,
    "start_time": "2023-07-07T05:01:55.478Z"
   },
   {
    "duration": 12,
    "start_time": "2023-07-07T05:01:55.534Z"
   },
   {
    "duration": 21,
    "start_time": "2023-07-07T05:01:55.548Z"
   },
   {
    "duration": 77,
    "start_time": "2023-07-07T05:01:55.570Z"
   },
   {
    "duration": 311,
    "start_time": "2023-07-07T05:01:55.649Z"
   },
   {
    "duration": 320,
    "start_time": "2023-07-07T05:01:55.962Z"
   },
   {
    "duration": 0,
    "start_time": "2023-07-07T05:01:56.284Z"
   },
   {
    "duration": 0,
    "start_time": "2023-07-07T05:01:56.285Z"
   },
   {
    "duration": 0,
    "start_time": "2023-07-07T05:01:56.286Z"
   },
   {
    "duration": 0,
    "start_time": "2023-07-07T05:01:56.287Z"
   },
   {
    "duration": 0,
    "start_time": "2023-07-07T05:01:56.288Z"
   },
   {
    "duration": 0,
    "start_time": "2023-07-07T05:01:56.289Z"
   },
   {
    "duration": 0,
    "start_time": "2023-07-07T05:01:56.291Z"
   },
   {
    "duration": 0,
    "start_time": "2023-07-07T05:01:56.292Z"
   },
   {
    "duration": 0,
    "start_time": "2023-07-07T05:01:56.293Z"
   },
   {
    "duration": 0,
    "start_time": "2023-07-07T05:01:56.294Z"
   },
   {
    "duration": 0,
    "start_time": "2023-07-07T05:01:56.294Z"
   },
   {
    "duration": 0,
    "start_time": "2023-07-07T05:01:56.295Z"
   },
   {
    "duration": 0,
    "start_time": "2023-07-07T05:01:56.296Z"
   },
   {
    "duration": 0,
    "start_time": "2023-07-07T05:01:56.297Z"
   },
   {
    "duration": 0,
    "start_time": "2023-07-07T05:01:56.298Z"
   },
   {
    "duration": 0,
    "start_time": "2023-07-07T05:01:56.299Z"
   },
   {
    "duration": 0,
    "start_time": "2023-07-07T05:01:56.332Z"
   },
   {
    "duration": 14358,
    "start_time": "2023-07-07T07:36:12.428Z"
   },
   {
    "duration": 2326,
    "start_time": "2023-07-07T07:36:26.789Z"
   },
   {
    "duration": 132,
    "start_time": "2023-07-07T07:36:29.117Z"
   },
   {
    "duration": 62,
    "start_time": "2023-07-07T07:36:29.251Z"
   },
   {
    "duration": 5,
    "start_time": "2023-07-07T07:36:29.316Z"
   },
   {
    "duration": 23,
    "start_time": "2023-07-07T07:36:29.323Z"
   },
   {
    "duration": 18,
    "start_time": "2023-07-07T07:36:29.348Z"
   },
   {
    "duration": 22,
    "start_time": "2023-07-07T07:36:29.368Z"
   },
   {
    "duration": 88,
    "start_time": "2023-07-07T07:36:29.392Z"
   },
   {
    "duration": 423,
    "start_time": "2023-07-07T07:36:29.483Z"
   },
   {
    "duration": 383,
    "start_time": "2023-07-07T07:36:29.913Z"
   },
   {
    "duration": 0,
    "start_time": "2023-07-07T07:36:30.299Z"
   },
   {
    "duration": 0,
    "start_time": "2023-07-07T07:36:30.301Z"
   },
   {
    "duration": 0,
    "start_time": "2023-07-07T07:36:30.302Z"
   },
   {
    "duration": 1,
    "start_time": "2023-07-07T07:36:30.303Z"
   },
   {
    "duration": 0,
    "start_time": "2023-07-07T07:36:30.305Z"
   },
   {
    "duration": 0,
    "start_time": "2023-07-07T07:36:30.313Z"
   },
   {
    "duration": 0,
    "start_time": "2023-07-07T07:36:30.315Z"
   },
   {
    "duration": 0,
    "start_time": "2023-07-07T07:36:30.316Z"
   },
   {
    "duration": 0,
    "start_time": "2023-07-07T07:36:30.318Z"
   },
   {
    "duration": 0,
    "start_time": "2023-07-07T07:36:30.319Z"
   },
   {
    "duration": 0,
    "start_time": "2023-07-07T07:36:30.320Z"
   },
   {
    "duration": 0,
    "start_time": "2023-07-07T07:36:30.321Z"
   },
   {
    "duration": 0,
    "start_time": "2023-07-07T07:36:30.322Z"
   },
   {
    "duration": 0,
    "start_time": "2023-07-07T07:36:30.323Z"
   },
   {
    "duration": 0,
    "start_time": "2023-07-07T07:36:30.324Z"
   },
   {
    "duration": 0,
    "start_time": "2023-07-07T07:36:30.325Z"
   },
   {
    "duration": 0,
    "start_time": "2023-07-07T07:36:30.326Z"
   },
   {
    "duration": 22813,
    "start_time": "2023-07-07T14:59:02.104Z"
   },
   {
    "duration": 1652,
    "start_time": "2023-07-07T14:59:24.920Z"
   },
   {
    "duration": 199,
    "start_time": "2023-07-07T14:59:26.573Z"
   },
   {
    "duration": 48,
    "start_time": "2023-07-07T14:59:26.776Z"
   },
   {
    "duration": 4,
    "start_time": "2023-07-07T14:59:26.826Z"
   },
   {
    "duration": 21,
    "start_time": "2023-07-07T14:59:26.832Z"
   },
   {
    "duration": 13,
    "start_time": "2023-07-07T14:59:26.866Z"
   },
   {
    "duration": 20,
    "start_time": "2023-07-07T14:59:26.881Z"
   },
   {
    "duration": 65,
    "start_time": "2023-07-07T14:59:39.019Z"
   },
   {
    "duration": 590,
    "start_time": "2023-07-07T15:04:52.041Z"
   },
   {
    "duration": 537,
    "start_time": "2023-07-07T15:05:03.781Z"
   },
   {
    "duration": 778,
    "start_time": "2023-07-07T15:05:06.793Z"
   },
   {
    "duration": 1066,
    "start_time": "2023-07-07T15:05:55.426Z"
   },
   {
    "duration": 41,
    "start_time": "2023-07-07T15:06:03.753Z"
   },
   {
    "duration": 14,
    "start_time": "2023-07-07T15:06:07.458Z"
   },
   {
    "duration": 689,
    "start_time": "2023-07-07T15:06:10.475Z"
   },
   {
    "duration": 5699,
    "start_time": "2023-07-07T15:06:25.770Z"
   },
   {
    "duration": 4,
    "start_time": "2023-07-07T15:06:31.471Z"
   },
   {
    "duration": 268,
    "start_time": "2023-07-07T15:06:31.477Z"
   },
   {
    "duration": 39,
    "start_time": "2023-07-07T15:06:31.747Z"
   },
   {
    "duration": 3,
    "start_time": "2023-07-07T15:06:31.788Z"
   },
   {
    "duration": 39,
    "start_time": "2023-07-07T15:06:31.793Z"
   },
   {
    "duration": 52,
    "start_time": "2023-07-07T15:06:31.834Z"
   },
   {
    "duration": 26,
    "start_time": "2023-07-07T15:06:31.888Z"
   },
   {
    "duration": 37,
    "start_time": "2023-07-07T15:06:31.916Z"
   },
   {
    "duration": 645,
    "start_time": "2023-07-07T15:06:31.955Z"
   },
   {
    "duration": 810,
    "start_time": "2023-07-07T15:06:32.601Z"
   },
   {
    "duration": 1166,
    "start_time": "2023-07-07T15:06:33.413Z"
   },
   {
    "duration": 40,
    "start_time": "2023-07-07T15:06:34.581Z"
   },
   {
    "duration": 14,
    "start_time": "2023-07-07T15:06:34.624Z"
   },
   {
    "duration": 723,
    "start_time": "2023-07-07T15:06:34.639Z"
   },
   {
    "duration": 838,
    "start_time": "2023-07-07T15:06:35.363Z"
   },
   {
    "duration": 7,
    "start_time": "2023-07-07T15:06:36.203Z"
   },
   {
    "duration": 50,
    "start_time": "2023-07-07T15:06:36.211Z"
   },
   {
    "duration": 615,
    "start_time": "2023-07-07T15:06:36.263Z"
   },
   {
    "duration": 575,
    "start_time": "2023-07-07T15:06:36.880Z"
   },
   {
    "duration": 557,
    "start_time": "2023-07-07T15:06:37.457Z"
   },
   {
    "duration": 5434,
    "start_time": "2023-07-07T15:06:38.016Z"
   },
   {
    "duration": 1171,
    "start_time": "2023-07-07T15:06:43.452Z"
   },
   {
    "duration": 685,
    "start_time": "2023-07-07T15:06:44.625Z"
   },
   {
    "duration": 518,
    "start_time": "2023-07-07T15:06:45.311Z"
   },
   {
    "duration": 513,
    "start_time": "2023-07-07T15:06:45.831Z"
   },
   {
    "duration": 11,
    "start_time": "2023-07-07T15:06:46.345Z"
   },
   {
    "duration": 18,
    "start_time": "2023-07-07T15:06:46.367Z"
   },
   {
    "duration": 18798,
    "start_time": "2023-07-08T04:45:51.087Z"
   },
   {
    "duration": 1462,
    "start_time": "2023-07-08T04:46:09.887Z"
   },
   {
    "duration": 145,
    "start_time": "2023-07-08T04:46:11.351Z"
   },
   {
    "duration": 48,
    "start_time": "2023-07-08T04:46:11.499Z"
   },
   {
    "duration": 2,
    "start_time": "2023-07-08T04:46:11.549Z"
   },
   {
    "duration": 31,
    "start_time": "2023-07-08T04:46:11.553Z"
   },
   {
    "duration": 11,
    "start_time": "2023-07-08T04:46:11.585Z"
   },
   {
    "duration": 11,
    "start_time": "2023-07-08T04:46:11.597Z"
   },
   {
    "duration": 76,
    "start_time": "2023-07-08T04:46:11.610Z"
   },
   {
    "duration": 542,
    "start_time": "2023-07-08T04:46:11.689Z"
   },
   {
    "duration": 714,
    "start_time": "2023-07-08T04:46:12.233Z"
   },
   {
    "duration": 949,
    "start_time": "2023-07-08T04:46:12.949Z"
   },
   {
    "duration": 43,
    "start_time": "2023-07-08T04:46:13.900Z"
   },
   {
    "duration": 30,
    "start_time": "2023-07-08T04:46:13.945Z"
   },
   {
    "duration": 623,
    "start_time": "2023-07-08T04:46:13.977Z"
   },
   {
    "duration": 779,
    "start_time": "2023-07-08T04:46:14.601Z"
   },
   {
    "duration": 6,
    "start_time": "2023-07-08T04:46:15.382Z"
   },
   {
    "duration": 66,
    "start_time": "2023-07-08T04:46:15.390Z"
   },
   {
    "duration": 607,
    "start_time": "2023-07-08T04:46:15.457Z"
   },
   {
    "duration": 562,
    "start_time": "2023-07-08T04:46:16.066Z"
   },
   {
    "duration": 545,
    "start_time": "2023-07-08T04:46:16.629Z"
   },
   {
    "duration": 4747,
    "start_time": "2023-07-08T04:46:17.175Z"
   },
   {
    "duration": 961,
    "start_time": "2023-07-08T04:46:21.924Z"
   },
   {
    "duration": 530,
    "start_time": "2023-07-08T04:46:22.886Z"
   },
   {
    "duration": 508,
    "start_time": "2023-07-08T04:46:23.418Z"
   },
   {
    "duration": 478,
    "start_time": "2023-07-08T04:46:23.928Z"
   },
   {
    "duration": 9,
    "start_time": "2023-07-08T04:46:24.408Z"
   },
   {
    "duration": 57,
    "start_time": "2023-07-08T04:46:24.420Z"
   },
   {
    "duration": 66729,
    "start_time": "2023-07-08T20:36:17.558Z"
   },
   {
    "duration": 1940,
    "start_time": "2023-07-08T20:37:24.289Z"
   },
   {
    "duration": 202,
    "start_time": "2023-07-08T20:37:26.231Z"
   },
   {
    "duration": 71,
    "start_time": "2023-07-08T20:37:26.436Z"
   },
   {
    "duration": 4,
    "start_time": "2023-07-08T20:37:26.514Z"
   },
   {
    "duration": 30,
    "start_time": "2023-07-08T20:37:26.519Z"
   },
   {
    "duration": 23,
    "start_time": "2023-07-08T20:37:26.550Z"
   },
   {
    "duration": 17,
    "start_time": "2023-07-08T20:37:26.575Z"
   },
   {
    "duration": 82,
    "start_time": "2023-07-08T20:37:26.594Z"
   },
   {
    "duration": 581,
    "start_time": "2023-07-08T20:37:26.679Z"
   },
   {
    "duration": 1010,
    "start_time": "2023-07-08T20:37:27.262Z"
   },
   {
    "duration": 892,
    "start_time": "2023-07-08T20:37:28.274Z"
   },
   {
    "duration": 63,
    "start_time": "2023-07-08T20:37:29.168Z"
   },
   {
    "duration": 27,
    "start_time": "2023-07-08T20:38:32.941Z"
   },
   {
    "duration": 24,
    "start_time": "2023-07-08T20:41:00.310Z"
   },
   {
    "duration": 39,
    "start_time": "2023-07-08T20:41:09.294Z"
   },
   {
    "duration": 21,
    "start_time": "2023-07-08T20:41:16.657Z"
   },
   {
    "duration": 37,
    "start_time": "2023-07-08T20:41:36.782Z"
   },
   {
    "duration": 42,
    "start_time": "2023-07-08T20:42:06.199Z"
   },
   {
    "duration": 25,
    "start_time": "2023-07-08T20:42:18.230Z"
   },
   {
    "duration": 5756,
    "start_time": "2023-07-08T20:42:23.480Z"
   },
   {
    "duration": 2,
    "start_time": "2023-07-08T20:42:29.238Z"
   },
   {
    "duration": 212,
    "start_time": "2023-07-08T20:42:29.242Z"
   },
   {
    "duration": 29,
    "start_time": "2023-07-08T20:42:29.456Z"
   },
   {
    "duration": 2,
    "start_time": "2023-07-08T20:42:29.487Z"
   },
   {
    "duration": 25,
    "start_time": "2023-07-08T20:42:29.491Z"
   },
   {
    "duration": 18,
    "start_time": "2023-07-08T20:42:29.519Z"
   },
   {
    "duration": 9,
    "start_time": "2023-07-08T20:42:29.538Z"
   },
   {
    "duration": 21,
    "start_time": "2023-07-08T20:42:29.548Z"
   },
   {
    "duration": 501,
    "start_time": "2023-07-08T20:42:29.571Z"
   },
   {
    "duration": 772,
    "start_time": "2023-07-08T20:42:30.073Z"
   },
   {
    "duration": 833,
    "start_time": "2023-07-08T20:42:30.846Z"
   },
   {
    "duration": 56,
    "start_time": "2023-07-08T20:42:31.680Z"
   },
   {
    "duration": 26,
    "start_time": "2023-07-08T20:42:37.243Z"
   },
   {
    "duration": 12,
    "start_time": "2023-07-08T20:49:14.200Z"
   },
   {
    "duration": 5599,
    "start_time": "2023-07-08T20:49:33.753Z"
   },
   {
    "duration": 3,
    "start_time": "2023-07-08T20:49:39.354Z"
   },
   {
    "duration": 195,
    "start_time": "2023-07-08T20:49:39.359Z"
   },
   {
    "duration": 35,
    "start_time": "2023-07-08T20:49:39.556Z"
   },
   {
    "duration": 2,
    "start_time": "2023-07-08T20:49:39.593Z"
   },
   {
    "duration": 33,
    "start_time": "2023-07-08T20:49:39.597Z"
   },
   {
    "duration": 12,
    "start_time": "2023-07-08T20:49:39.633Z"
   },
   {
    "duration": 7,
    "start_time": "2023-07-08T20:49:39.647Z"
   },
   {
    "duration": 15,
    "start_time": "2023-07-08T20:49:39.655Z"
   },
   {
    "duration": 474,
    "start_time": "2023-07-08T20:49:39.673Z"
   },
   {
    "duration": 698,
    "start_time": "2023-07-08T20:49:40.149Z"
   },
   {
    "duration": 881,
    "start_time": "2023-07-08T20:49:40.848Z"
   },
   {
    "duration": 37,
    "start_time": "2023-07-08T20:49:41.730Z"
   },
   {
    "duration": 50,
    "start_time": "2023-07-08T20:49:41.768Z"
   },
   {
    "duration": 12,
    "start_time": "2023-07-08T20:49:41.820Z"
   },
   {
    "duration": 100,
    "start_time": "2023-07-08T21:07:16.187Z"
   },
   {
    "duration": 814,
    "start_time": "2023-07-08T21:07:25.567Z"
   },
   {
    "duration": 669,
    "start_time": "2023-07-08T21:08:23.617Z"
   },
   {
    "duration": 5423,
    "start_time": "2023-07-08T21:13:38.870Z"
   },
   {
    "duration": 3,
    "start_time": "2023-07-08T21:13:44.296Z"
   },
   {
    "duration": 182,
    "start_time": "2023-07-08T21:13:44.300Z"
   },
   {
    "duration": 38,
    "start_time": "2023-07-08T21:13:44.485Z"
   },
   {
    "duration": 3,
    "start_time": "2023-07-08T21:13:44.525Z"
   },
   {
    "duration": 23,
    "start_time": "2023-07-08T21:13:44.529Z"
   },
   {
    "duration": 9,
    "start_time": "2023-07-08T21:13:44.553Z"
   },
   {
    "duration": 6,
    "start_time": "2023-07-08T21:13:44.563Z"
   },
   {
    "duration": 38,
    "start_time": "2023-07-08T21:13:44.571Z"
   },
   {
    "duration": 535,
    "start_time": "2023-07-08T21:13:44.611Z"
   },
   {
    "duration": 870,
    "start_time": "2023-07-08T21:13:45.148Z"
   },
   {
    "duration": 995,
    "start_time": "2023-07-08T21:13:46.019Z"
   },
   {
    "duration": 64,
    "start_time": "2023-07-08T21:13:47.016Z"
   },
   {
    "duration": 62,
    "start_time": "2023-07-08T21:13:47.082Z"
   },
   {
    "duration": 22,
    "start_time": "2023-07-08T21:13:47.147Z"
   },
   {
    "duration": 834,
    "start_time": "2023-07-08T21:13:47.171Z"
   },
   {
    "duration": 772,
    "start_time": "2023-07-08T21:13:48.007Z"
   },
   {
    "duration": 17,
    "start_time": "2023-07-08T21:13:48.782Z"
   },
   {
    "duration": 28,
    "start_time": "2023-07-08T21:14:57.828Z"
   },
   {
    "duration": 490,
    "start_time": "2023-07-08T21:16:44.635Z"
   },
   {
    "duration": 529,
    "start_time": "2023-07-08T21:20:58.375Z"
   },
   {
    "duration": 515,
    "start_time": "2023-07-08T21:21:24.657Z"
   },
   {
    "duration": 89,
    "start_time": "2023-07-08T21:22:37.374Z"
   },
   {
    "duration": 106,
    "start_time": "2023-07-08T21:22:40.739Z"
   },
   {
    "duration": 73,
    "start_time": "2023-07-08T21:22:52.226Z"
   },
   {
    "duration": 78,
    "start_time": "2023-07-08T21:23:09.993Z"
   },
   {
    "duration": 95,
    "start_time": "2023-07-08T21:23:25.932Z"
   },
   {
    "duration": 95,
    "start_time": "2023-07-08T21:24:01.374Z"
   },
   {
    "duration": 645,
    "start_time": "2023-07-08T21:24:16.487Z"
   },
   {
    "duration": 524,
    "start_time": "2023-07-08T21:24:26.606Z"
   },
   {
    "duration": 116,
    "start_time": "2023-07-08T21:24:48.938Z"
   },
   {
    "duration": 71,
    "start_time": "2023-07-08T21:25:08.638Z"
   },
   {
    "duration": 522,
    "start_time": "2023-07-08T21:25:18.937Z"
   },
   {
    "duration": 86,
    "start_time": "2023-07-08T21:25:35.100Z"
   },
   {
    "duration": 554,
    "start_time": "2023-07-08T21:26:05.977Z"
   },
   {
    "duration": 534,
    "start_time": "2023-07-08T21:26:14.114Z"
   },
   {
    "duration": 605,
    "start_time": "2023-07-08T21:26:32.946Z"
   },
   {
    "duration": 499,
    "start_time": "2023-07-08T21:27:00.655Z"
   },
   {
    "duration": 457,
    "start_time": "2023-07-08T21:28:02.495Z"
   },
   {
    "duration": 4515,
    "start_time": "2023-07-08T21:28:19.871Z"
   },
   {
    "duration": 737,
    "start_time": "2023-07-08T21:28:58.916Z"
   },
   {
    "duration": 740,
    "start_time": "2023-07-08T21:29:40.811Z"
   },
   {
    "duration": 509,
    "start_time": "2023-07-08T21:31:57.438Z"
   },
   {
    "duration": 4,
    "start_time": "2023-07-08T21:33:01.932Z"
   },
   {
    "duration": 7,
    "start_time": "2023-07-08T21:35:03.811Z"
   },
   {
    "duration": 35,
    "start_time": "2023-07-08T21:35:14.093Z"
   },
   {
    "duration": 484,
    "start_time": "2023-07-08T21:36:04.459Z"
   },
   {
    "duration": 103,
    "start_time": "2023-07-08T21:36:23.428Z"
   },
   {
    "duration": 4,
    "start_time": "2023-07-08T21:36:26.243Z"
   },
   {
    "duration": 5913,
    "start_time": "2023-07-08T21:36:44.981Z"
   },
   {
    "duration": 4,
    "start_time": "2023-07-08T21:36:50.896Z"
   },
   {
    "duration": 226,
    "start_time": "2023-07-08T21:36:50.906Z"
   },
   {
    "duration": 32,
    "start_time": "2023-07-08T21:36:51.135Z"
   },
   {
    "duration": 2,
    "start_time": "2023-07-08T21:36:51.169Z"
   },
   {
    "duration": 32,
    "start_time": "2023-07-08T21:36:51.173Z"
   },
   {
    "duration": 10,
    "start_time": "2023-07-08T21:36:51.206Z"
   },
   {
    "duration": 6,
    "start_time": "2023-07-08T21:36:51.217Z"
   },
   {
    "duration": 15,
    "start_time": "2023-07-08T21:36:51.225Z"
   },
   {
    "duration": 485,
    "start_time": "2023-07-08T21:36:51.242Z"
   },
   {
    "duration": 5462,
    "start_time": "2023-07-08T21:36:54.829Z"
   },
   {
    "duration": 4,
    "start_time": "2023-07-08T21:37:00.293Z"
   },
   {
    "duration": 203,
    "start_time": "2023-07-08T21:37:00.298Z"
   },
   {
    "duration": 41,
    "start_time": "2023-07-08T21:37:00.502Z"
   },
   {
    "duration": 4,
    "start_time": "2023-07-08T21:37:00.544Z"
   },
   {
    "duration": 34,
    "start_time": "2023-07-08T21:37:00.549Z"
   },
   {
    "duration": 48,
    "start_time": "2023-07-08T21:37:00.585Z"
   },
   {
    "duration": 51,
    "start_time": "2023-07-08T21:37:00.634Z"
   },
   {
    "duration": 81,
    "start_time": "2023-07-08T21:37:00.687Z"
   },
   {
    "duration": 461,
    "start_time": "2023-07-08T21:37:00.770Z"
   },
   {
    "duration": 624,
    "start_time": "2023-07-08T21:37:01.232Z"
   },
   {
    "duration": 858,
    "start_time": "2023-07-08T21:37:01.858Z"
   },
   {
    "duration": 36,
    "start_time": "2023-07-08T21:37:02.718Z"
   },
   {
    "duration": 25,
    "start_time": "2023-07-08T21:37:02.755Z"
   },
   {
    "duration": 27,
    "start_time": "2023-07-08T21:37:02.782Z"
   },
   {
    "duration": 599,
    "start_time": "2023-07-08T21:37:02.812Z"
   },
   {
    "duration": 647,
    "start_time": "2023-07-08T21:37:03.413Z"
   },
   {
    "duration": 6,
    "start_time": "2023-07-08T21:37:04.062Z"
   },
   {
    "duration": 50,
    "start_time": "2023-07-08T21:37:04.069Z"
   },
   {
    "duration": 809,
    "start_time": "2023-07-08T21:37:04.121Z"
   },
   {
    "duration": 524,
    "start_time": "2023-07-08T21:37:12.812Z"
   },
   {
    "duration": 489,
    "start_time": "2023-07-08T21:37:21.569Z"
   },
   {
    "duration": 427,
    "start_time": "2023-07-08T21:37:26.435Z"
   },
   {
    "duration": 3298,
    "start_time": "2023-07-08T21:37:31.645Z"
   },
   {
    "duration": 476,
    "start_time": "2023-07-08T21:39:25.095Z"
   },
   {
    "duration": 466,
    "start_time": "2023-07-08T21:43:53.898Z"
   },
   {
    "duration": 3476,
    "start_time": "2023-07-08T21:43:57.810Z"
   },
   {
    "duration": 17,
    "start_time": "2023-07-08T21:45:00.640Z"
   },
   {
    "duration": 6,
    "start_time": "2023-07-08T21:45:24.105Z"
   },
   {
    "duration": 18,
    "start_time": "2023-07-08T21:45:38.640Z"
   },
   {
    "duration": 7,
    "start_time": "2023-07-08T21:50:12.787Z"
   },
   {
    "duration": 6,
    "start_time": "2023-07-08T21:50:15.382Z"
   },
   {
    "duration": 6,
    "start_time": "2023-07-08T21:50:22.246Z"
   },
   {
    "duration": 18,
    "start_time": "2023-07-08T21:50:38.317Z"
   },
   {
    "duration": 79,
    "start_time": "2023-07-08T21:58:47.583Z"
   },
   {
    "duration": 483,
    "start_time": "2023-07-08T21:58:59.491Z"
   },
   {
    "duration": 3091,
    "start_time": "2023-07-08T21:59:08.124Z"
   },
   {
    "duration": 581,
    "start_time": "2023-07-08T22:28:10.062Z"
   },
   {
    "duration": 3660,
    "start_time": "2023-07-08T22:28:16.132Z"
   },
   {
    "duration": 480,
    "start_time": "2023-07-08T22:29:28.498Z"
   },
   {
    "duration": 3744,
    "start_time": "2023-07-08T22:29:36.146Z"
   },
   {
    "duration": 480,
    "start_time": "2023-07-08T22:31:21.474Z"
   },
   {
    "duration": 3119,
    "start_time": "2023-07-08T22:31:25.831Z"
   },
   {
    "duration": 461,
    "start_time": "2023-07-08T22:31:49.526Z"
   },
   {
    "duration": 3220,
    "start_time": "2023-07-08T22:31:59.690Z"
   },
   {
    "duration": 823,
    "start_time": "2023-07-08T22:33:45.023Z"
   },
   {
    "duration": 3295,
    "start_time": "2023-07-08T22:33:48.734Z"
   },
   {
    "duration": 489,
    "start_time": "2023-07-08T22:34:22.870Z"
   },
   {
    "duration": 3218,
    "start_time": "2023-07-08T22:34:26.411Z"
   },
   {
    "duration": 438,
    "start_time": "2023-07-08T22:34:49.225Z"
   },
   {
    "duration": 4388,
    "start_time": "2023-07-08T22:34:55.154Z"
   },
   {
    "duration": 127,
    "start_time": "2023-07-08T22:38:21.022Z"
   },
   {
    "duration": 75,
    "start_time": "2023-07-08T22:38:33.158Z"
   },
   {
    "duration": 90,
    "start_time": "2023-07-08T22:38:51.889Z"
   },
   {
    "duration": 78,
    "start_time": "2023-07-08T22:39:05.586Z"
   },
   {
    "duration": 96,
    "start_time": "2023-07-08T22:40:17.483Z"
   },
   {
    "duration": 114,
    "start_time": "2023-07-08T22:40:27.141Z"
   },
   {
    "duration": 88,
    "start_time": "2023-07-08T22:40:34.698Z"
   },
   {
    "duration": 83,
    "start_time": "2023-07-08T22:41:05.587Z"
   },
   {
    "duration": 81,
    "start_time": "2023-07-08T22:41:21.699Z"
   },
   {
    "duration": 105,
    "start_time": "2023-07-08T22:41:33.835Z"
   },
   {
    "duration": 79,
    "start_time": "2023-07-08T22:41:38.611Z"
   },
   {
    "duration": 92,
    "start_time": "2023-07-08T22:42:15.764Z"
   },
   {
    "duration": 94,
    "start_time": "2023-07-08T22:45:17.526Z"
   },
   {
    "duration": 6,
    "start_time": "2023-07-08T22:46:04.065Z"
   },
   {
    "duration": 6,
    "start_time": "2023-07-08T22:46:34.068Z"
   },
   {
    "duration": 5258,
    "start_time": "2023-07-08T22:46:37.176Z"
   },
   {
    "duration": 6,
    "start_time": "2023-07-08T22:49:03.231Z"
   },
   {
    "duration": 20338,
    "start_time": "2023-07-08T22:49:06.239Z"
   },
   {
    "duration": 6,
    "start_time": "2023-07-08T22:50:35.039Z"
   },
   {
    "duration": 4477,
    "start_time": "2023-07-08T22:50:39.221Z"
   },
   {
    "duration": 7,
    "start_time": "2023-07-08T22:51:46.878Z"
   },
   {
    "duration": 5300,
    "start_time": "2023-07-08T22:51:50.357Z"
   },
   {
    "duration": 8,
    "start_time": "2023-07-08T22:52:09.509Z"
   },
   {
    "duration": 4450,
    "start_time": "2023-07-08T22:52:12.388Z"
   },
   {
    "duration": 6,
    "start_time": "2023-07-08T22:52:49.567Z"
   },
   {
    "duration": 4550,
    "start_time": "2023-07-08T22:52:53.100Z"
   },
   {
    "duration": 8,
    "start_time": "2023-07-08T22:53:35.027Z"
   },
   {
    "duration": 5090,
    "start_time": "2023-07-08T22:53:38.927Z"
   },
   {
    "duration": 8,
    "start_time": "2023-07-08T22:54:02.523Z"
   },
   {
    "duration": 4478,
    "start_time": "2023-07-08T22:54:04.945Z"
   },
   {
    "duration": 8,
    "start_time": "2023-07-08T22:54:24.664Z"
   },
   {
    "duration": 7,
    "start_time": "2023-07-08T22:54:29.127Z"
   },
   {
    "duration": 4965,
    "start_time": "2023-07-08T22:54:30.546Z"
   },
   {
    "duration": 7,
    "start_time": "2023-07-08T22:56:30.811Z"
   },
   {
    "duration": 4660,
    "start_time": "2023-07-08T22:56:33.651Z"
   },
   {
    "duration": 5,
    "start_time": "2023-07-08T22:59:44.613Z"
   },
   {
    "duration": 4778,
    "start_time": "2023-07-08T22:59:53.289Z"
   },
   {
    "duration": 9,
    "start_time": "2023-07-08T23:01:28.352Z"
   },
   {
    "duration": 457,
    "start_time": "2023-07-08T23:01:34.631Z"
   },
   {
    "duration": 4507,
    "start_time": "2023-07-08T23:03:18.160Z"
   },
   {
    "duration": 9,
    "start_time": "2023-07-08T23:03:22.690Z"
   },
   {
    "duration": 468,
    "start_time": "2023-07-08T23:03:25.406Z"
   },
   {
    "duration": 487,
    "start_time": "2023-07-08T23:03:33.945Z"
   },
   {
    "duration": 478,
    "start_time": "2023-07-08T23:04:01.120Z"
   },
   {
    "duration": 4979,
    "start_time": "2023-07-08T23:04:11.604Z"
   },
   {
    "duration": 43,
    "start_time": "2023-07-08T23:08:01.926Z"
   },
   {
    "duration": 10,
    "start_time": "2023-07-08T23:08:16.335Z"
   },
   {
    "duration": 19,
    "start_time": "2023-07-08T23:08:22.320Z"
   },
   {
    "duration": 6,
    "start_time": "2023-07-08T23:08:32.892Z"
   },
   {
    "duration": 8,
    "start_time": "2023-07-08T23:08:47.142Z"
   },
   {
    "duration": 806,
    "start_time": "2023-07-08T23:10:31.785Z"
   },
   {
    "duration": 1877,
    "start_time": "2023-07-08T23:12:00.532Z"
   },
   {
    "duration": 1845,
    "start_time": "2023-07-08T23:13:07.417Z"
   },
   {
    "duration": 488,
    "start_time": "2023-07-08T23:13:38.963Z"
   },
   {
    "duration": 499,
    "start_time": "2023-07-08T23:19:52.060Z"
   },
   {
    "duration": 404,
    "start_time": "2023-07-08T23:21:52.819Z"
   },
   {
    "duration": 823,
    "start_time": "2023-07-08T23:29:38.884Z"
   },
   {
    "duration": 8,
    "start_time": "2023-07-08T23:30:13.769Z"
   },
   {
    "duration": 11,
    "start_time": "2023-07-08T23:31:31.849Z"
   },
   {
    "duration": 9,
    "start_time": "2023-07-08T23:32:21.763Z"
   },
   {
    "duration": 5,
    "start_time": "2023-07-08T23:33:49.100Z"
   },
   {
    "duration": 5,
    "start_time": "2023-07-08T23:33:56.893Z"
   },
   {
    "duration": 8,
    "start_time": "2023-07-08T23:34:07.393Z"
   },
   {
    "duration": 9,
    "start_time": "2023-07-08T23:34:17.799Z"
   },
   {
    "duration": 11,
    "start_time": "2023-07-08T23:35:16.599Z"
   },
   {
    "duration": 515,
    "start_time": "2023-07-09T00:02:13.718Z"
   },
   {
    "duration": 5286,
    "start_time": "2023-07-09T00:04:16.090Z"
   },
   {
    "duration": 1649,
    "start_time": "2023-07-09T00:04:21.378Z"
   },
   {
    "duration": 303,
    "start_time": "2023-07-09T00:04:23.029Z"
   },
   {
    "duration": 37,
    "start_time": "2023-07-09T00:04:23.334Z"
   },
   {
    "duration": 2,
    "start_time": "2023-07-09T00:04:23.373Z"
   },
   {
    "duration": 25,
    "start_time": "2023-07-09T00:04:23.377Z"
   },
   {
    "duration": 9,
    "start_time": "2023-07-09T00:04:23.403Z"
   },
   {
    "duration": 9,
    "start_time": "2023-07-09T00:04:23.413Z"
   },
   {
    "duration": 62,
    "start_time": "2023-07-09T00:04:23.423Z"
   },
   {
    "duration": 415,
    "start_time": "2023-07-09T00:04:23.501Z"
   },
   {
    "duration": 626,
    "start_time": "2023-07-09T00:04:23.918Z"
   },
   {
    "duration": 899,
    "start_time": "2023-07-09T00:04:24.546Z"
   },
   {
    "duration": 35,
    "start_time": "2023-07-09T00:04:25.447Z"
   },
   {
    "duration": 43,
    "start_time": "2023-07-09T00:04:25.484Z"
   },
   {
    "duration": 12,
    "start_time": "2023-07-09T00:04:25.528Z"
   },
   {
    "duration": 659,
    "start_time": "2023-07-09T00:04:25.542Z"
   },
   {
    "duration": 676,
    "start_time": "2023-07-09T00:04:26.202Z"
   },
   {
    "duration": 5,
    "start_time": "2023-07-09T00:04:26.880Z"
   },
   {
    "duration": 30,
    "start_time": "2023-07-09T00:04:26.886Z"
   },
   {
    "duration": 526,
    "start_time": "2023-07-09T00:04:26.918Z"
   },
   {
    "duration": 477,
    "start_time": "2023-07-09T00:04:27.446Z"
   },
   {
    "duration": 440,
    "start_time": "2023-07-09T00:04:27.925Z"
   },
   {
    "duration": 4367,
    "start_time": "2023-07-09T00:04:28.367Z"
   },
   {
    "duration": 5,
    "start_time": "2023-07-09T00:04:32.736Z"
   },
   {
    "duration": 917,
    "start_time": "2023-07-09T00:04:32.743Z"
   },
   {
    "duration": 488,
    "start_time": "2023-07-09T00:04:33.661Z"
   },
   {
    "duration": 458,
    "start_time": "2023-07-09T00:04:34.150Z"
   },
   {
    "duration": 417,
    "start_time": "2023-07-09T00:04:34.612Z"
   },
   {
    "duration": 9,
    "start_time": "2023-07-09T00:04:35.030Z"
   },
   {
    "duration": 25,
    "start_time": "2023-07-09T00:04:35.040Z"
   },
   {
    "duration": 5270,
    "start_time": "2023-07-09T00:19:14.230Z"
   },
   {
    "duration": 1279,
    "start_time": "2023-07-09T00:19:19.503Z"
   },
   {
    "duration": 199,
    "start_time": "2023-07-09T00:19:20.784Z"
   },
   {
    "duration": 35,
    "start_time": "2023-07-09T00:19:20.986Z"
   },
   {
    "duration": 3,
    "start_time": "2023-07-09T00:19:21.022Z"
   },
   {
    "duration": 16,
    "start_time": "2023-07-09T00:19:21.027Z"
   },
   {
    "duration": 21,
    "start_time": "2023-07-09T00:19:21.044Z"
   },
   {
    "duration": 18,
    "start_time": "2023-07-09T00:19:21.067Z"
   },
   {
    "duration": 54,
    "start_time": "2023-07-09T00:19:21.086Z"
   },
   {
    "duration": 428,
    "start_time": "2023-07-09T00:19:21.142Z"
   },
   {
    "duration": 644,
    "start_time": "2023-07-09T00:19:21.572Z"
   },
   {
    "duration": 919,
    "start_time": "2023-07-09T00:19:22.218Z"
   },
   {
    "duration": 37,
    "start_time": "2023-07-09T00:19:23.139Z"
   },
   {
    "duration": 43,
    "start_time": "2023-07-09T00:19:23.177Z"
   },
   {
    "duration": 12,
    "start_time": "2023-07-09T00:19:23.222Z"
   },
   {
    "duration": 663,
    "start_time": "2023-07-09T00:19:23.236Z"
   },
   {
    "duration": 672,
    "start_time": "2023-07-09T00:19:23.901Z"
   },
   {
    "duration": 5,
    "start_time": "2023-07-09T00:19:24.574Z"
   },
   {
    "duration": 31,
    "start_time": "2023-07-09T00:19:24.581Z"
   },
   {
    "duration": 516,
    "start_time": "2023-07-09T00:19:24.613Z"
   },
   {
    "duration": 459,
    "start_time": "2023-07-09T00:19:25.130Z"
   },
   {
    "duration": 442,
    "start_time": "2023-07-09T00:19:25.590Z"
   },
   {
    "duration": 4168,
    "start_time": "2023-07-09T00:19:26.034Z"
   },
   {
    "duration": 5,
    "start_time": "2023-07-09T00:19:30.203Z"
   },
   {
    "duration": 877,
    "start_time": "2023-07-09T00:19:30.210Z"
   },
   {
    "duration": 459,
    "start_time": "2023-07-09T00:19:31.089Z"
   },
   {
    "duration": 457,
    "start_time": "2023-07-09T00:19:31.549Z"
   },
   {
    "duration": 424,
    "start_time": "2023-07-09T00:19:32.009Z"
   },
   {
    "duration": 9,
    "start_time": "2023-07-09T00:19:32.435Z"
   },
   {
    "duration": 23,
    "start_time": "2023-07-09T00:19:32.446Z"
   },
   {
    "duration": 35749,
    "start_time": "2023-07-09T06:30:37.238Z"
   },
   {
    "duration": 1998,
    "start_time": "2023-07-09T06:31:12.991Z"
   },
   {
    "duration": 196,
    "start_time": "2023-07-09T06:31:14.992Z"
   },
   {
    "duration": 52,
    "start_time": "2023-07-09T06:31:15.191Z"
   },
   {
    "duration": 4,
    "start_time": "2023-07-09T06:31:15.245Z"
   },
   {
    "duration": 44,
    "start_time": "2023-07-09T06:31:15.250Z"
   },
   {
    "duration": 10,
    "start_time": "2023-07-09T06:31:15.296Z"
   },
   {
    "duration": 15,
    "start_time": "2023-07-09T06:31:15.309Z"
   },
   {
    "duration": 114,
    "start_time": "2023-07-09T06:31:15.327Z"
   },
   {
    "duration": 604,
    "start_time": "2023-07-09T06:31:15.443Z"
   },
   {
    "duration": 963,
    "start_time": "2023-07-09T06:31:16.050Z"
   },
   {
    "duration": 1468,
    "start_time": "2023-07-09T06:31:17.015Z"
   },
   {
    "duration": 49,
    "start_time": "2023-07-09T06:31:18.485Z"
   },
   {
    "duration": 75,
    "start_time": "2023-07-09T06:31:18.538Z"
   },
   {
    "duration": 24,
    "start_time": "2023-07-09T06:31:18.615Z"
   },
   {
    "duration": 911,
    "start_time": "2023-07-09T06:31:18.641Z"
   },
   {
    "duration": 1027,
    "start_time": "2023-07-09T06:31:19.554Z"
   },
   {
    "duration": 9,
    "start_time": "2023-07-09T06:31:20.583Z"
   },
   {
    "duration": 42,
    "start_time": "2023-07-09T06:31:20.594Z"
   },
   {
    "duration": 749,
    "start_time": "2023-07-09T06:31:20.637Z"
   },
   {
    "duration": 657,
    "start_time": "2023-07-09T06:31:21.389Z"
   },
   {
    "duration": 668,
    "start_time": "2023-07-09T06:31:22.048Z"
   },
   {
    "duration": 7240,
    "start_time": "2023-07-09T06:31:22.718Z"
   },
   {
    "duration": 24,
    "start_time": "2023-07-09T06:31:29.960Z"
   },
   {
    "duration": 1418,
    "start_time": "2023-07-09T06:31:29.987Z"
   },
   {
    "duration": 857,
    "start_time": "2023-07-09T06:31:31.408Z"
   },
   {
    "duration": 718,
    "start_time": "2023-07-09T06:31:32.285Z"
   },
   {
    "duration": 669,
    "start_time": "2023-07-09T06:31:33.006Z"
   },
   {
    "duration": 15,
    "start_time": "2023-07-09T06:31:33.685Z"
   },
   {
    "duration": 28,
    "start_time": "2023-07-09T06:31:33.702Z"
   }
  ],
  "kernelspec": {
   "display_name": "Python 3 (ipykernel)",
   "language": "python",
   "name": "python3"
  },
  "language_info": {
   "codemirror_mode": {
    "name": "ipython",
    "version": 3
   },
   "file_extension": ".py",
   "mimetype": "text/x-python",
   "name": "python",
   "nbconvert_exporter": "python",
   "pygments_lexer": "ipython3",
   "version": "3.9.5"
  },
  "toc": {
   "base_numbering": 1,
   "nav_menu": {},
   "number_sections": true,
   "sideBar": true,
   "skip_h1_title": true,
   "title_cell": "Table of Contents",
   "title_sidebar": "Contents",
   "toc_cell": false,
   "toc_position": {},
   "toc_section_display": true,
   "toc_window_display": false
  }
 },
 "nbformat": 4,
 "nbformat_minor": 1
}
