{
 "cells": [
  {
   "cell_type": "markdown",
   "metadata": {},
   "source": [
    "# Рекомендация тарифов"
   ]
  },
  {
   "cell_type": "markdown",
   "metadata": {},
   "source": [
    "В вашем распоряжении данные о поведении клиентов, которые уже перешли на эти тарифы (из проекта курса «Статистический анализ данных»). Нужно построить модель для задачи классификации, которая выберет подходящий тариф. Предобработка данных не понадобится — вы её уже сделали.\n",
    "\n",
    "Постройте модель с максимально большим значением *accuracy*. Чтобы сдать проект успешно, нужно довести долю правильных ответов по крайней мере до 0.75. Проверьте *accuracy* на тестовой выборке самостоятельно."
   ]
  },
  {
   "cell_type": "code",
   "execution_count": 1,
   "metadata": {
    "ExecuteTime": {
     "end_time": "2024-02-20T17:55:23.451810852Z",
     "start_time": "2024-02-20T17:55:23.349393726Z"
    }
   },
   "outputs": [],
   "source": [
    "# Необходимые обновления\n",
    "# !pip install --upgrade matplotlib -q\n",
    "# !pip install --upgrade pandas -q"
   ]
  },
  {
   "cell_type": "code",
   "execution_count": 2,
   "metadata": {
    "ExecuteTime": {
     "end_time": "2024-02-20T17:55:25.207766280Z",
     "start_time": "2024-02-20T17:55:23.371754283Z"
    }
   },
   "outputs": [],
   "source": [
    "import pandas as pd\n",
    "import numpy as np\n",
    "from random import randint \n",
    "from sklearn.model_selection import train_test_split\n",
    "from sklearn.metrics import accuracy_score\n",
    "from sklearn.tree import DecisionTreeClassifier\n",
    "from sklearn.ensemble import RandomForestClassifier\n",
    "from sklearn.linear_model import LogisticRegression\n",
    "from sklearn.preprocessing import MinMaxScaler"
   ]
  },
  {
   "cell_type": "markdown",
   "metadata": {},
   "source": [
    "## Откройте и изучите файл"
   ]
  },
  {
   "cell_type": "code",
   "execution_count": 3,
   "metadata": {
    "ExecuteTime": {
     "end_time": "2024-02-20T17:55:25.279976569Z",
     "start_time": "2024-02-20T17:55:25.208643291Z"
    }
   },
   "outputs": [],
   "source": [
    "try:\n",
    "    df = pd.read_csv('users_behavior.csv')\n",
    "except FileNotFoundError:\n",
    "    df = pd.read_csv('####')"
   ]
  },
  {
   "cell_type": "code",
   "execution_count": 4,
   "metadata": {
    "ExecuteTime": {
     "end_time": "2024-02-20T17:55:25.427780575Z",
     "start_time": "2024-02-20T17:55:25.250588427Z"
    }
   },
   "outputs": [
    {
     "data": {
      "text/plain": "             calls      minutes     messages       mb_used     is_ultra\ncount  3214.000000  3214.000000  3214.000000   3214.000000  3214.000000\nmean     63.038892   438.208787    38.281269  17207.673836     0.306472\nstd      33.236368   234.569872    36.148326   7570.968246     0.461100\nmin       0.000000     0.000000     0.000000      0.000000     0.000000\n25%      40.000000   274.575000     9.000000  12491.902500     0.000000\n50%      62.000000   430.600000    30.000000  16943.235000     0.000000\n75%      82.000000   571.927500    57.000000  21424.700000     1.000000\nmax     244.000000  1632.060000   224.000000  49745.730000     1.000000",
      "text/html": "<div>\n<style scoped>\n    .dataframe tbody tr th:only-of-type {\n        vertical-align: middle;\n    }\n\n    .dataframe tbody tr th {\n        vertical-align: top;\n    }\n\n    .dataframe thead th {\n        text-align: right;\n    }\n</style>\n<table border=\"1\" class=\"dataframe\">\n  <thead>\n    <tr style=\"text-align: right;\">\n      <th></th>\n      <th>calls</th>\n      <th>minutes</th>\n      <th>messages</th>\n      <th>mb_used</th>\n      <th>is_ultra</th>\n    </tr>\n  </thead>\n  <tbody>\n    <tr>\n      <th>count</th>\n      <td>3214.000000</td>\n      <td>3214.000000</td>\n      <td>3214.000000</td>\n      <td>3214.000000</td>\n      <td>3214.000000</td>\n    </tr>\n    <tr>\n      <th>mean</th>\n      <td>63.038892</td>\n      <td>438.208787</td>\n      <td>38.281269</td>\n      <td>17207.673836</td>\n      <td>0.306472</td>\n    </tr>\n    <tr>\n      <th>std</th>\n      <td>33.236368</td>\n      <td>234.569872</td>\n      <td>36.148326</td>\n      <td>7570.968246</td>\n      <td>0.461100</td>\n    </tr>\n    <tr>\n      <th>min</th>\n      <td>0.000000</td>\n      <td>0.000000</td>\n      <td>0.000000</td>\n      <td>0.000000</td>\n      <td>0.000000</td>\n    </tr>\n    <tr>\n      <th>25%</th>\n      <td>40.000000</td>\n      <td>274.575000</td>\n      <td>9.000000</td>\n      <td>12491.902500</td>\n      <td>0.000000</td>\n    </tr>\n    <tr>\n      <th>50%</th>\n      <td>62.000000</td>\n      <td>430.600000</td>\n      <td>30.000000</td>\n      <td>16943.235000</td>\n      <td>0.000000</td>\n    </tr>\n    <tr>\n      <th>75%</th>\n      <td>82.000000</td>\n      <td>571.927500</td>\n      <td>57.000000</td>\n      <td>21424.700000</td>\n      <td>1.000000</td>\n    </tr>\n    <tr>\n      <th>max</th>\n      <td>244.000000</td>\n      <td>1632.060000</td>\n      <td>224.000000</td>\n      <td>49745.730000</td>\n      <td>1.000000</td>\n    </tr>\n  </tbody>\n</table>\n</div>"
     },
     "metadata": {},
     "output_type": "display_data"
    },
    {
     "name": "stdout",
     "output_type": "stream",
     "text": [
      "<class 'pandas.core.frame.DataFrame'>\n",
      "RangeIndex: 3214 entries, 0 to 3213\n",
      "Data columns (total 5 columns):\n",
      " #   Column    Non-Null Count  Dtype  \n",
      "---  ------    --------------  -----  \n",
      " 0   calls     3214 non-null   float64\n",
      " 1   minutes   3214 non-null   float64\n",
      " 2   messages  3214 non-null   float64\n",
      " 3   mb_used   3214 non-null   float64\n",
      " 4   is_ultra  3214 non-null   int64  \n",
      "dtypes: float64(4), int64(1)\n",
      "memory usage: 125.7 KB\n"
     ]
    },
    {
     "data": {
      "text/plain": "None"
     },
     "metadata": {},
     "output_type": "display_data"
    },
    {
     "data": {
      "text/plain": "   calls  minutes  messages   mb_used  is_ultra\n0   40.0   311.90      83.0  19915.42         0\n1   85.0   516.75      56.0  22696.96         0\n2   77.0   467.66      86.0  21060.45         0\n3  106.0   745.53      81.0   8437.39         1\n4   66.0   418.74       1.0  14502.75         0",
      "text/html": "<div>\n<style scoped>\n    .dataframe tbody tr th:only-of-type {\n        vertical-align: middle;\n    }\n\n    .dataframe tbody tr th {\n        vertical-align: top;\n    }\n\n    .dataframe thead th {\n        text-align: right;\n    }\n</style>\n<table border=\"1\" class=\"dataframe\">\n  <thead>\n    <tr style=\"text-align: right;\">\n      <th></th>\n      <th>calls</th>\n      <th>minutes</th>\n      <th>messages</th>\n      <th>mb_used</th>\n      <th>is_ultra</th>\n    </tr>\n  </thead>\n  <tbody>\n    <tr>\n      <th>0</th>\n      <td>40.0</td>\n      <td>311.90</td>\n      <td>83.0</td>\n      <td>19915.42</td>\n      <td>0</td>\n    </tr>\n    <tr>\n      <th>1</th>\n      <td>85.0</td>\n      <td>516.75</td>\n      <td>56.0</td>\n      <td>22696.96</td>\n      <td>0</td>\n    </tr>\n    <tr>\n      <th>2</th>\n      <td>77.0</td>\n      <td>467.66</td>\n      <td>86.0</td>\n      <td>21060.45</td>\n      <td>0</td>\n    </tr>\n    <tr>\n      <th>3</th>\n      <td>106.0</td>\n      <td>745.53</td>\n      <td>81.0</td>\n      <td>8437.39</td>\n      <td>1</td>\n    </tr>\n    <tr>\n      <th>4</th>\n      <td>66.0</td>\n      <td>418.74</td>\n      <td>1.0</td>\n      <td>14502.75</td>\n      <td>0</td>\n    </tr>\n  </tbody>\n</table>\n</div>"
     },
     "execution_count": 4,
     "metadata": {},
     "output_type": "execute_result"
    }
   ],
   "source": [
    "display(df.describe())\n",
    "display(df.info())\n",
    "df.head()"
   ]
  },
  {
   "cell_type": "markdown",
   "metadata": {},
   "source": [
    "Данные выглядят опрятно, но судя по описательной статистике в них должны быть выбросы."
   ]
  },
  {
   "cell_type": "code",
   "execution_count": 5,
   "metadata": {
    "ExecuteTime": {
     "end_time": "2024-02-20T17:55:26.443004721Z",
     "start_time": "2024-02-20T17:55:25.343477308Z"
    }
   },
   "outputs": [
    {
     "data": {
      "text/plain": "<Figure size 640x480 with 1 Axes>",
      "image/png": "[encoded data removed]"
     },
     "metadata": {},
     "output_type": "display_data"
    }
   ],
   "source": [
    "normalized = MinMaxScaler().fit_transform(df[df.columns.to_list()[:-1]])\n",
    "pd.DataFrame(normalized).boxplot();"
   ]
  },
  {
   "cell_type": "markdown",
   "metadata": {},
   "source": [
    "Выбросы действительно есть во всех признаках и их значительное количество. Не будем их удалять, возможно они пригодятся при обучении модели на краевых случаях."
   ]
  },
  {
   "cell_type": "markdown",
   "metadata": {},
   "source": [
    "## Разбейте данные на выборки"
   ]
  },
  {
   "cell_type": "code",
   "execution_count": 6,
   "metadata": {
    "ExecuteTime": {
     "end_time": "2024-02-20T17:55:26.567281911Z",
     "start_time": "2024-02-20T17:55:26.446960115Z"
    }
   },
   "outputs": [],
   "source": [
    "# Разбиваем данные на выборки\n",
    "x = df.drop(['is_ultra'], axis=1)\n",
    "y = df.is_ultra\n",
    "\n",
    "x_train, x_test, y_train, y_test = train_test_split(x, y, test_size=0.2, random_state=1)\n",
    "x_train, x_val, y_train, y_val = train_test_split(x_train, y_train, test_size=0.25, random_state=1)"
   ]
  },
  {
   "cell_type": "markdown",
   "metadata": {},
   "source": [
    "В ячейке выше я разбил данные на 3 выборки, тренировочную, валидационную и тестовую. Тестовую оставим для финальной проверки."
   ]
  },
  {
   "cell_type": "markdown",
   "metadata": {},
   "source": [
    "## Исследуйте модели"
   ]
  },
  {
   "cell_type": "code",
   "execution_count": 7,
   "metadata": {
    "ExecuteTime": {
     "end_time": "2024-02-20T17:55:26.568765349Z",
     "start_time": "2024-02-20T17:55:26.499501726Z"
    }
   },
   "outputs": [],
   "source": [
    "# Функция для выбора лучшей модели для моделей на основе деревьев\n",
    "def get_best_model(range_, model_object, random_state=7765):\n",
    "    score = 0\n",
    "    best_model = None\n",
    "    df = {'accuracy': [], 'depth': []}\n",
    "    for i in range(1, range_+1):\n",
    "        model = model_object(random_state=7765, max_depth=i)\n",
    "        model.fit(x_train, y_train)\n",
    "        model_pred = model.predict(x_val)\n",
    "        df['accuracy'].append(score_m := accuracy_score(y_val, model_pred))\n",
    "        df['depth'].append(i)\n",
    "        if score_m > score:\n",
    "            score = score_m\n",
    "            best_model = model\n",
    "    display(pd.DataFrame(df).style.background_gradient('coolwarm', subset=['accuracy']))\n",
    "    return best_model"
   ]
  },
  {
   "cell_type": "markdown",
   "metadata": {},
   "source": [
    "Функция что-бы не писать одно и тоже 2 раза."
   ]
  },
  {
   "cell_type": "code",
   "execution_count": 8,
   "metadata": {
    "ExecuteTime": {
     "end_time": "2024-02-20T17:55:26.759761278Z",
     "start_time": "2024-02-20T17:55:26.500217401Z"
    }
   },
   "outputs": [
    {
     "data": {
      "text/plain": "<pandas.io.formats.style.Styler at 0x7f44255635b0>",
      "text/html": "<style type=\"text/css\">\n#T_667b7_row0_col0 {\n  background-color: #3b4cc0;\n  color: #f1f1f1;\n}\n#T_667b7_row1_col0 {\n  background-color: #b3cdfb;\n  color: #000000;\n}\n#T_667b7_row2_col0 {\n  background-color: #f18d6f;\n  color: #f1f1f1;\n}\n#T_667b7_row3_col0 {\n  background-color: #b40426;\n  color: #f1f1f1;\n}\n#T_667b7_row4_col0 {\n  background-color: #d95847;\n  color: #f1f1f1;\n}\n#T_667b7_row5_col0 {\n  background-color: #f6a586;\n  color: #000000;\n}\n#T_667b7_row6_col0 {\n  background-color: #ec8165;\n  color: #f1f1f1;\n}\n#T_667b7_row7_col0 {\n  background-color: #e7745b;\n  color: #f1f1f1;\n}\n#T_667b7_row8_col0 {\n  background-color: #f3c8b2;\n  color: #000000;\n}\n#T_667b7_row9_col0 {\n  background-color: #f7b89c;\n  color: #000000;\n}\n</style>\n<table id=\"T_667b7\">\n  <thead>\n    <tr>\n      <th class=\"blank level0\" >&nbsp;</th>\n      <th id=\"T_667b7_level0_col0\" class=\"col_heading level0 col0\" >accuracy</th>\n      <th id=\"T_667b7_level0_col1\" class=\"col_heading level0 col1\" >depth</th>\n    </tr>\n  </thead>\n  <tbody>\n    <tr>\n      <th id=\"T_667b7_level0_row0\" class=\"row_heading level0 row0\" >0</th>\n      <td id=\"T_667b7_row0_col0\" class=\"data row0 col0\" >0.741835</td>\n      <td id=\"T_667b7_row0_col1\" class=\"data row0 col1\" >1</td>\n    </tr>\n    <tr>\n      <th id=\"T_667b7_level0_row1\" class=\"row_heading level0 row1\" >1</th>\n      <td id=\"T_667b7_row1_col0\" class=\"data row1 col0\" >0.762053</td>\n      <td id=\"T_667b7_row1_col1\" class=\"data row1 col1\" >2</td>\n    </tr>\n    <tr>\n      <th id=\"T_667b7_level0_row2\" class=\"row_heading level0 row2\" >2</th>\n      <td id=\"T_667b7_row2_col0\" class=\"data row2 col0\" >0.785381</td>\n      <td id=\"T_667b7_row2_col1\" class=\"data row2 col1\" >3</td>\n    </tr>\n    <tr>\n      <th id=\"T_667b7_level0_row3\" class=\"row_heading level0 row3\" >3</th>\n      <td id=\"T_667b7_row3_col0\" class=\"data row3 col0\" >0.797823</td>\n      <td id=\"T_667b7_row3_col1\" class=\"data row3 col1\" >4</td>\n    </tr>\n    <tr>\n      <th id=\"T_667b7_level0_row4\" class=\"row_heading level0 row4\" >4</th>\n      <td id=\"T_667b7_row4_col0\" class=\"data row4 col0\" >0.791602</td>\n      <td id=\"T_667b7_row4_col1\" class=\"data row4 col1\" >5</td>\n    </tr>\n    <tr>\n      <th id=\"T_667b7_level0_row5\" class=\"row_heading level0 row5\" >5</th>\n      <td id=\"T_667b7_row5_col0\" class=\"data row5 col0\" >0.782271</td>\n      <td id=\"T_667b7_row5_col1\" class=\"data row5 col1\" >6</td>\n    </tr>\n    <tr>\n      <th id=\"T_667b7_level0_row6\" class=\"row_heading level0 row6\" >6</th>\n      <td id=\"T_667b7_row6_col0\" class=\"data row6 col0\" >0.786936</td>\n      <td id=\"T_667b7_row6_col1\" class=\"data row6 col1\" >7</td>\n    </tr>\n    <tr>\n      <th id=\"T_667b7_level0_row7\" class=\"row_heading level0 row7\" >7</th>\n      <td id=\"T_667b7_row7_col0\" class=\"data row7 col0\" >0.788491</td>\n      <td id=\"T_667b7_row7_col1\" class=\"data row7 col1\" >8</td>\n    </tr>\n    <tr>\n      <th id=\"T_667b7_level0_row8\" class=\"row_heading level0 row8\" >8</th>\n      <td id=\"T_667b7_row8_col0\" class=\"data row8 col0\" >0.776050</td>\n      <td id=\"T_667b7_row8_col1\" class=\"data row8 col1\" >9</td>\n    </tr>\n    <tr>\n      <th id=\"T_667b7_level0_row9\" class=\"row_heading level0 row9\" >9</th>\n      <td id=\"T_667b7_row9_col0\" class=\"data row9 col0\" >0.779160</td>\n      <td id=\"T_667b7_row9_col1\" class=\"data row9 col1\" >10</td>\n    </tr>\n  </tbody>\n</table>\n"
     },
     "metadata": {},
     "output_type": "display_data"
    }
   ],
   "source": [
    "# DecisionTreeClassifier\n",
    "best_tree = get_best_model(10, DecisionTreeClassifier)"
   ]
  },
  {
   "cell_type": "markdown",
   "metadata": {},
   "source": [
    "Лучше всего показала себя модель с максимальной глубиной ветвления 4."
   ]
  },
  {
   "cell_type": "code",
   "execution_count": 9,
   "metadata": {
    "ExecuteTime": {
     "end_time": "2024-02-20T17:55:30.927138009Z",
     "start_time": "2024-02-20T17:55:26.753577084Z"
    }
   },
   "outputs": [
    {
     "data": {
      "text/plain": "<pandas.io.formats.style.Styler at 0x7f442537fe50>",
      "text/html": "<style type=\"text/css\">\n#T_ca7b4_row0_col0 {\n  background-color: #3b4cc0;\n  color: #f1f1f1;\n}\n#T_ca7b4_row1_col0 {\n  background-color: #afcafc;\n  color: #000000;\n}\n#T_ca7b4_row2_col0 {\n  background-color: #f4987a;\n  color: #000000;\n}\n#T_ca7b4_row3_col0 {\n  background-color: #e9785d;\n  color: #f1f1f1;\n}\n#T_ca7b4_row4_col0, #T_ca7b4_row5_col0, #T_ca7b4_row8_col0 {\n  background-color: #de614d;\n  color: #f1f1f1;\n}\n#T_ca7b4_row6_col0, #T_ca7b4_row7_col0 {\n  background-color: #cf453c;\n  color: #f1f1f1;\n}\n#T_ca7b4_row9_col0 {\n  background-color: #b40426;\n  color: #f1f1f1;\n}\n</style>\n<table id=\"T_ca7b4\">\n  <thead>\n    <tr>\n      <th class=\"blank level0\" >&nbsp;</th>\n      <th id=\"T_ca7b4_level0_col0\" class=\"col_heading level0 col0\" >accuracy</th>\n      <th id=\"T_ca7b4_level0_col1\" class=\"col_heading level0 col1\" >depth</th>\n    </tr>\n  </thead>\n  <tbody>\n    <tr>\n      <th id=\"T_ca7b4_level0_row0\" class=\"row_heading level0 row0\" >0</th>\n      <td id=\"T_ca7b4_row0_col0\" class=\"data row0 col0\" >0.744946</td>\n      <td id=\"T_ca7b4_row0_col1\" class=\"data row0 col1\" >1</td>\n    </tr>\n    <tr>\n      <th id=\"T_ca7b4_level0_row1\" class=\"row_heading level0 row1\" >1</th>\n      <td id=\"T_ca7b4_row1_col0\" class=\"data row1 col0\" >0.766719</td>\n      <td id=\"T_ca7b4_row1_col1\" class=\"data row1 col1\" >2</td>\n    </tr>\n    <tr>\n      <th id=\"T_ca7b4_level0_row2\" class=\"row_heading level0 row2\" >2</th>\n      <td id=\"T_ca7b4_row2_col0\" class=\"data row2 col0\" >0.791602</td>\n      <td id=\"T_ca7b4_row2_col1\" class=\"data row2 col1\" >3</td>\n    </tr>\n    <tr>\n      <th id=\"T_ca7b4_level0_row3\" class=\"row_heading level0 row3\" >3</th>\n      <td id=\"T_ca7b4_row3_col0\" class=\"data row3 col0\" >0.796267</td>\n      <td id=\"T_ca7b4_row3_col1\" class=\"data row3 col1\" >4</td>\n    </tr>\n    <tr>\n      <th id=\"T_ca7b4_level0_row4\" class=\"row_heading level0 row4\" >4</th>\n      <td id=\"T_ca7b4_row4_col0\" class=\"data row4 col0\" >0.799378</td>\n      <td id=\"T_ca7b4_row4_col1\" class=\"data row4 col1\" >5</td>\n    </tr>\n    <tr>\n      <th id=\"T_ca7b4_level0_row5\" class=\"row_heading level0 row5\" >5</th>\n      <td id=\"T_ca7b4_row5_col0\" class=\"data row5 col0\" >0.799378</td>\n      <td id=\"T_ca7b4_row5_col1\" class=\"data row5 col1\" >6</td>\n    </tr>\n    <tr>\n      <th id=\"T_ca7b4_level0_row6\" class=\"row_heading level0 row6\" >6</th>\n      <td id=\"T_ca7b4_row6_col0\" class=\"data row6 col0\" >0.802488</td>\n      <td id=\"T_ca7b4_row6_col1\" class=\"data row6 col1\" >7</td>\n    </tr>\n    <tr>\n      <th id=\"T_ca7b4_level0_row7\" class=\"row_heading level0 row7\" >7</th>\n      <td id=\"T_ca7b4_row7_col0\" class=\"data row7 col0\" >0.802488</td>\n      <td id=\"T_ca7b4_row7_col1\" class=\"data row7 col1\" >8</td>\n    </tr>\n    <tr>\n      <th id=\"T_ca7b4_level0_row8\" class=\"row_heading level0 row8\" >8</th>\n      <td id=\"T_ca7b4_row8_col0\" class=\"data row8 col0\" >0.799378</td>\n      <td id=\"T_ca7b4_row8_col1\" class=\"data row8 col1\" >9</td>\n    </tr>\n    <tr>\n      <th id=\"T_ca7b4_level0_row9\" class=\"row_heading level0 row9\" >9</th>\n      <td id=\"T_ca7b4_row9_col0\" class=\"data row9 col0\" >0.807154</td>\n      <td id=\"T_ca7b4_row9_col1\" class=\"data row9 col1\" >10</td>\n    </tr>\n  </tbody>\n</table>\n"
     },
     "metadata": {},
     "output_type": "display_data"
    }
   ],
   "source": [
    "# RandomForestClassifier\n",
    "best_forest = get_best_model(10, RandomForestClassifier)"
   ]
  },
  {
   "cell_type": "markdown",
   "metadata": {},
   "source": [
    "Лучше всего показала себя модель с глубиной ветвления 10."
   ]
  },
  {
   "cell_type": "code",
   "execution_count": 10,
   "metadata": {
    "ExecuteTime": {
     "end_time": "2024-02-20T17:55:31.003166285Z",
     "start_time": "2024-02-20T17:55:30.902108551Z"
    }
   },
   "outputs": [
    {
     "data": {
      "text/plain": "0.7558320373250389"
     },
     "execution_count": 10,
     "metadata": {},
     "output_type": "execute_result"
    }
   ],
   "source": [
    "model_logistic = LogisticRegression(random_state=777)\n",
    "model_logistic.fit(x_train, y_train)\n",
    "model_pred = model_logistic.predict(x_val)\n",
    "accuracy_score(y_val, model_pred)"
   ]
  },
  {
   "cell_type": "markdown",
   "metadata": {},
   "source": [
    "Логистическая регрессия тоже проходит барьер в 75%, но предсказывает хуже чем модели \"на деревьях\""
   ]
  },
  {
   "cell_type": "markdown",
   "metadata": {},
   "source": [
    "## Проверьте модель на тестовой выборке"
   ]
  },
  {
   "cell_type": "code",
   "execution_count": 11,
   "metadata": {
    "ExecuteTime": {
     "end_time": "2024-02-20T17:55:31.073931326Z",
     "start_time": "2024-02-20T17:55:30.954120270Z"
    }
   },
   "outputs": [
    {
     "name": "stdout",
     "output_type": "stream",
     "text": [
      "Random forest accuracy score on test sample 0.7947122861586314\n"
     ]
    }
   ],
   "source": [
    "print('Random forest accuracy score on test sample', accuracy_score(y_test, best_forest.predict(x_test)))"
   ]
  },
  {
   "cell_type": "markdown",
   "metadata": {},
   "source": [
    "На тестовой выборке было решено проверить модель на основе случайного леса высотой 10 ветвей так как она показала самые хорошие результаты на валидационной выборке."
   ]
  },
  {
   "cell_type": "markdown",
   "metadata": {},
   "source": [
    "__Вывод:__ В ходе работы была подготовлена модель которая с точностью 79% определяет подходящий тариф сотовой связи. Модель основана на случайном лесе высотой 10 ветвей."
   ]
  },
  {
   "cell_type": "markdown",
   "metadata": {},
   "source": [
    "## (бонус) Проверьте модели на адекватность"
   ]
  },
  {
   "cell_type": "code",
   "execution_count": 12,
   "metadata": {
    "ExecuteTime": {
     "end_time": "2024-02-20T17:55:31.325455099Z",
     "start_time": "2024-02-20T17:55:30.996766621Z"
    }
   },
   "outputs": [
    {
     "name": "stdout",
     "output_type": "stream",
     "text": [
      "accuracy_score all data 0.8618543870566272\n",
      "try 0\n",
      "1858 sample randint\n",
      "accuracy_score 0.8599875544492844\n",
      "try 1\n",
      "1396 sample randint\n",
      "accuracy_score 0.8599875544492844\n",
      "try 2\n",
      "1365 sample randint\n",
      "accuracy_score 0.8668326073428749\n",
      "try 3\n",
      "1645 sample randint\n",
      "accuracy_score 0.8643434971997511\n",
      "try 4\n",
      "1369 sample randint\n",
      "accuracy_score 0.8612321095208463\n"
     ]
    },
    {
     "data": {
      "text/plain": "<pandas.io.formats.style.Styler at 0x7f44253ebdc0>",
      "text/html": "<style type=\"text/css\">\n#T_c3dc8_row0_col0 {\n  background-color: #94b6ff;\n  color: #000000;\n}\n#T_c3dc8_row1_col0, #T_c3dc8_row2_col0 {\n  background-color: #3b4cc0;\n  color: #f1f1f1;\n}\n#T_c3dc8_row3_col0 {\n  background-color: #b40426;\n  color: #f1f1f1;\n}\n#T_c3dc8_row4_col0 {\n  background-color: #f5c1a9;\n  color: #000000;\n}\n#T_c3dc8_row5_col0 {\n  background-color: #7597f6;\n  color: #f1f1f1;\n}\n</style>\n<table id=\"T_c3dc8\">\n  <thead>\n    <tr>\n      <th class=\"blank level0\" >&nbsp;</th>\n      <th id=\"T_c3dc8_level0_col0\" class=\"col_heading level0 col0\" >0</th>\n    </tr>\n  </thead>\n  <tbody>\n    <tr>\n      <th id=\"T_c3dc8_level0_row0\" class=\"row_heading level0 row0\" >0</th>\n      <td id=\"T_c3dc8_row0_col0\" class=\"data row0 col0\" >0.861854</td>\n    </tr>\n    <tr>\n      <th id=\"T_c3dc8_level0_row1\" class=\"row_heading level0 row1\" >1</th>\n      <td id=\"T_c3dc8_row1_col0\" class=\"data row1 col0\" >0.859988</td>\n    </tr>\n    <tr>\n      <th id=\"T_c3dc8_level0_row2\" class=\"row_heading level0 row2\" >2</th>\n      <td id=\"T_c3dc8_row2_col0\" class=\"data row2 col0\" >0.859988</td>\n    </tr>\n    <tr>\n      <th id=\"T_c3dc8_level0_row3\" class=\"row_heading level0 row3\" >3</th>\n      <td id=\"T_c3dc8_row3_col0\" class=\"data row3 col0\" >0.866833</td>\n    </tr>\n    <tr>\n      <th id=\"T_c3dc8_level0_row4\" class=\"row_heading level0 row4\" >4</th>\n      <td id=\"T_c3dc8_row4_col0\" class=\"data row4 col0\" >0.864343</td>\n    </tr>\n    <tr>\n      <th id=\"T_c3dc8_level0_row5\" class=\"row_heading level0 row5\" >5</th>\n      <td id=\"T_c3dc8_row5_col0\" class=\"data row5 col0\" >0.861232</td>\n    </tr>\n  </tbody>\n</table>\n"
     },
     "metadata": {},
     "output_type": "display_data"
    }
   ],
   "source": [
    "model_pred = best_forest.predict(x)\n",
    "print('accuracy_score all data', score_m:=accuracy_score(y, model_pred))\n",
    "i = 0\n",
    "model_accuracy = [score_m]\n",
    "while i < 5:\n",
    "    print('try', i)\n",
    "    print(r:=randint(1000, 2000), 'sample randint')\n",
    "    x_train, x_test, y_train, y_test = train_test_split(x, y, test_size=0.5, random_state=r)\n",
    "    model_pred = best_forest.predict(x_test)\n",
    "    print('accuracy_score', score_m:=accuracy_score(y_test, model_pred))\n",
    "    model_accuracy.append(score_m)\n",
    "    i+=1\n",
    "display(pd.DataFrame(model_accuracy).style.background_gradient('coolwarm'))"
   ]
  },
  {
   "cell_type": "markdown",
   "metadata": {},
   "source": [
    "Для проверки модели на адекватность мною было решено сделать ресемплинг и заново прогнать алгоритм случайного леса 5 раз, а также посмотреть как ведёт себя модель если подать на вход все данные. Модель показала себя лучше(от 5 до 7%) чем на оригинальной тестовой выборке и прошла проверку на адекватность. __Просьба ревьюеру указать что надо было сделать для проверки на адекватность, так как это никак не освещалось в теоретической части, всё что сделано, основано не паре беглых запросов в гугл и собственных умозаключениях, сначала вообще 5 раз тренировал новую модель на известных оптимальных гиперпараметрах, потом понял что это наверное не правильно, а проверять надо саму модель, а не параметры__"
   ]
  },
  {
   "cell_type": "code",
   "execution_count": 13,
   "metadata": {
    "ExecuteTime": {
     "end_time": "2024-02-20T17:55:31.418001272Z",
     "start_time": "2024-02-20T17:55:31.243661560Z"
    }
   },
   "outputs": [
    {
     "name": "stdout",
     "output_type": "stream",
     "text": [
      "0 and 1 counts in dependant variable is_ultra\n",
      "0    2229\n",
      "1     985\n",
      "Name: count, dtype: int64\n",
      "accuracy, predicting most common entry 0.69\n",
      "accuracy_score all data, 0.86\n"
     ]
    }
   ],
   "source": [
    "# Сравним модель со случайным угадыванием наиболее частого результата.\n",
    "print('0 and 1 counts in dependant variable', y.value_counts())\n",
    "print(f'accuracy, predicting most common entry {accuracy_score(y, np.zeros(df.shape[0])):.2f}')\n",
    "model_pred = best_forest.predict(x)\n",
    "print(f'accuracy_score all data, {accuracy_score(y, model_pred):.2f}')"
   ]
  },
  {
   "cell_type": "markdown",
   "metadata": {},
   "source": [
    "При сравнении результатов работы модели и стабильным угадыванием самого частого результата побеждает модель. С разницей в 17% в пользу модели. Проверка на адекватность пройдена."
   ]
  }
 ],
 "metadata": {
  "ExecuteTimeLog": [
   {
    "duration": 1150,
    "start_time": "2023-07-23T05:08:28.354Z"
   },
   {
    "duration": 160,
    "start_time": "2023-07-23T05:09:12.188Z"
   },
   {
    "duration": 18823,
    "start_time": "2023-07-23T05:11:12.327Z"
   },
   {
    "duration": 179,
    "start_time": "2023-07-23T05:12:01.927Z"
   },
   {
    "duration": 49,
    "start_time": "2023-07-23T05:12:17.991Z"
   },
   {
    "duration": 15,
    "start_time": "2023-07-23T05:13:18.384Z"
   },
   {
    "duration": 135,
    "start_time": "2023-07-23T05:13:22.250Z"
   },
   {
    "duration": 3,
    "start_time": "2023-07-23T05:13:41.590Z"
   },
   {
    "duration": 12,
    "start_time": "2023-07-23T05:13:48.614Z"
   },
   {
    "duration": 5507,
    "start_time": "2023-07-23T05:14:28.694Z"
   },
   {
    "duration": 4,
    "start_time": "2023-07-23T05:14:37.108Z"
   },
   {
    "duration": 103,
    "start_time": "2023-07-23T05:14:39.144Z"
   },
   {
    "duration": 40,
    "start_time": "2023-07-23T05:14:40.507Z"
   },
   {
    "duration": 15,
    "start_time": "2023-07-23T05:14:45.018Z"
   },
   {
    "duration": 5452,
    "start_time": "2023-07-23T05:15:21.478Z"
   },
   {
    "duration": 1345,
    "start_time": "2023-07-23T05:15:26.933Z"
   },
   {
    "duration": 121,
    "start_time": "2023-07-23T05:15:28.281Z"
   },
   {
    "duration": 57,
    "start_time": "2023-07-23T05:15:28.404Z"
   },
   {
    "duration": 916,
    "start_time": "2023-07-23T05:15:28.464Z"
   },
   {
    "duration": 2545,
    "start_time": "2023-07-23T05:15:29.382Z"
   },
   {
    "duration": 111,
    "start_time": "2023-07-23T05:17:05.196Z"
   },
   {
    "duration": 10,
    "start_time": "2023-07-23T05:17:34.495Z"
   },
   {
    "duration": 4,
    "start_time": "2023-07-23T05:17:40.343Z"
   },
   {
    "duration": 114,
    "start_time": "2023-07-23T05:17:46.983Z"
   },
   {
    "duration": 43,
    "start_time": "2023-07-23T05:17:48.365Z"
   },
   {
    "duration": 9,
    "start_time": "2023-07-23T05:17:57.515Z"
   },
   {
    "duration": 16,
    "start_time": "2023-07-23T05:19:56.020Z"
   },
   {
    "duration": 4,
    "start_time": "2023-07-23T05:25:49.028Z"
   },
   {
    "duration": 26,
    "start_time": "2023-07-23T05:25:59.850Z"
   },
   {
    "duration": 99,
    "start_time": "2023-07-23T05:26:13.135Z"
   },
   {
    "duration": 38,
    "start_time": "2023-07-23T05:26:14.501Z"
   },
   {
    "duration": 14,
    "start_time": "2023-07-23T05:26:41.321Z"
   },
   {
    "duration": 10,
    "start_time": "2023-07-23T05:26:51.920Z"
   },
   {
    "duration": 27,
    "start_time": "2023-07-23T05:27:04.506Z"
   },
   {
    "duration": 11,
    "start_time": "2023-07-23T05:27:17.003Z"
   },
   {
    "duration": 16,
    "start_time": "2023-07-23T05:27:31.712Z"
   },
   {
    "duration": 28,
    "start_time": "2023-07-23T05:27:47.017Z"
   },
   {
    "duration": 10,
    "start_time": "2023-07-23T05:29:12.008Z"
   },
   {
    "duration": 16,
    "start_time": "2023-07-23T05:30:44.748Z"
   },
   {
    "duration": 320,
    "start_time": "2023-07-23T05:31:03.795Z"
   },
   {
    "duration": 263,
    "start_time": "2023-07-23T05:31:12.839Z"
   },
   {
    "duration": 7,
    "start_time": "2023-07-23T05:34:56.314Z"
   },
   {
    "duration": 6,
    "start_time": "2023-07-23T05:37:03.918Z"
   },
   {
    "duration": 6,
    "start_time": "2023-07-23T05:37:06.966Z"
   },
   {
    "duration": 73,
    "start_time": "2023-07-23T05:37:14.414Z"
   },
   {
    "duration": 2479,
    "start_time": "2023-07-23T05:37:24.520Z"
   },
   {
    "duration": 42,
    "start_time": "2023-07-23T05:40:37.281Z"
   },
   {
    "duration": 34,
    "start_time": "2023-07-23T05:42:10.117Z"
   },
   {
    "duration": 33,
    "start_time": "2023-07-23T05:42:20.302Z"
   },
   {
    "duration": 6076,
    "start_time": "2023-07-23T05:42:26.556Z"
   },
   {
    "duration": 6,
    "start_time": "2023-07-23T05:42:32.635Z"
   },
   {
    "duration": 145,
    "start_time": "2023-07-23T05:42:32.642Z"
   },
   {
    "duration": 36,
    "start_time": "2023-07-23T05:42:32.789Z"
   },
   {
    "duration": 390,
    "start_time": "2023-07-23T05:42:32.826Z"
   },
   {
    "duration": 10,
    "start_time": "2023-07-23T05:42:33.219Z"
   },
   {
    "duration": 21,
    "start_time": "2023-07-23T05:42:33.231Z"
   },
   {
    "duration": 127,
    "start_time": "2023-07-23T05:42:33.254Z"
   },
   {
    "duration": 2541,
    "start_time": "2023-07-23T05:42:33.383Z"
   },
   {
    "duration": 48,
    "start_time": "2023-07-23T05:42:35.926Z"
   },
   {
    "duration": 47,
    "start_time": "2023-07-23T05:42:39.526Z"
   },
   {
    "duration": 13,
    "start_time": "2023-07-23T05:43:00.445Z"
   },
   {
    "duration": 8,
    "start_time": "2023-07-23T05:43:13.285Z"
   },
   {
    "duration": 34,
    "start_time": "2023-07-23T05:43:29.973Z"
   },
   {
    "duration": 46,
    "start_time": "2023-07-23T05:44:02.624Z"
   },
   {
    "duration": 43,
    "start_time": "2023-07-23T05:44:04.921Z"
   },
   {
    "duration": 34,
    "start_time": "2023-07-23T05:44:21.495Z"
   },
   {
    "duration": 36,
    "start_time": "2023-07-23T05:45:09.088Z"
   },
   {
    "duration": 42,
    "start_time": "2023-07-23T05:45:46.454Z"
   },
   {
    "duration": 95,
    "start_time": "2023-07-23T05:46:44.347Z"
   },
   {
    "duration": 32,
    "start_time": "2023-07-23T05:46:50.997Z"
   },
   {
    "duration": 37,
    "start_time": "2023-07-23T05:47:04.208Z"
   },
   {
    "duration": 32,
    "start_time": "2023-07-23T05:47:39.564Z"
   },
   {
    "duration": 34,
    "start_time": "2023-07-23T05:47:47.647Z"
   },
   {
    "duration": 32,
    "start_time": "2023-07-23T05:48:01.392Z"
   },
   {
    "duration": 4,
    "start_time": "2023-07-23T06:03:20.898Z"
   },
   {
    "duration": 119,
    "start_time": "2023-07-23T06:03:37.909Z"
   },
   {
    "duration": 54,
    "start_time": "2023-07-23T06:04:56.049Z"
   },
   {
    "duration": 49,
    "start_time": "2023-07-23T06:05:15.610Z"
   },
   {
    "duration": 48,
    "start_time": "2023-07-23T06:05:29.454Z"
   },
   {
    "duration": 35,
    "start_time": "2023-07-23T06:05:31.775Z"
   },
   {
    "duration": 28,
    "start_time": "2023-07-23T06:05:43.342Z"
   },
   {
    "duration": 7,
    "start_time": "2023-07-23T06:06:09.854Z"
   },
   {
    "duration": 16,
    "start_time": "2023-07-23T06:09:02.582Z"
   },
   {
    "duration": 6,
    "start_time": "2023-07-23T06:09:12.731Z"
   },
   {
    "duration": 3203,
    "start_time": "2023-07-23T06:09:16.168Z"
   },
   {
    "duration": 100,
    "start_time": "2023-07-23T06:12:56.855Z"
   },
   {
    "duration": 3,
    "start_time": "2023-07-23T06:13:17.390Z"
   },
   {
    "duration": 14,
    "start_time": "2023-07-23T06:13:33.398Z"
   },
   {
    "duration": 5,
    "start_time": "2023-07-23T06:13:40.607Z"
   },
   {
    "duration": 9063,
    "start_time": "2023-07-23T06:16:56.820Z"
   },
   {
    "duration": 14021,
    "start_time": "2023-07-23T06:17:34.740Z"
   },
   {
    "duration": 14614,
    "start_time": "2023-07-23T06:17:56.409Z"
   },
   {
    "duration": 103,
    "start_time": "2023-07-23T06:18:25.473Z"
   },
   {
    "duration": 91,
    "start_time": "2023-07-23T06:18:56.964Z"
   },
   {
    "duration": 16708,
    "start_time": "2023-07-23T06:19:52.974Z"
   },
   {
    "duration": 18,
    "start_time": "2023-07-23T06:31:48.779Z"
   },
   {
    "duration": 2010,
    "start_time": "2023-07-23T06:32:30.919Z"
   },
   {
    "duration": 1933,
    "start_time": "2023-07-23T06:33:00.290Z"
   },
   {
    "duration": 47,
    "start_time": "2023-07-23T06:33:31.471Z"
   },
   {
    "duration": 48,
    "start_time": "2023-07-23T06:33:42.433Z"
   },
   {
    "duration": 50,
    "start_time": "2023-07-23T06:33:59.530Z"
   },
   {
    "duration": 44,
    "start_time": "2023-07-23T06:34:27.221Z"
   },
   {
    "duration": 172,
    "start_time": "2023-07-23T06:35:53.089Z"
   },
   {
    "duration": 184,
    "start_time": "2023-07-23T06:36:24.216Z"
   },
   {
    "duration": 162,
    "start_time": "2023-07-23T06:36:35.018Z"
   },
   {
    "duration": 144,
    "start_time": "2023-07-23T06:37:52.275Z"
   },
   {
    "duration": 142,
    "start_time": "2023-07-23T06:38:02.215Z"
   },
   {
    "duration": 158,
    "start_time": "2023-07-23T06:42:41.419Z"
   },
   {
    "duration": 15,
    "start_time": "2023-07-23T06:45:44.708Z"
   },
   {
    "duration": 6,
    "start_time": "2023-07-23T06:45:47.244Z"
   },
   {
    "duration": 251,
    "start_time": "2023-07-23T06:46:03.815Z"
   },
   {
    "duration": 226,
    "start_time": "2023-07-23T06:48:01.598Z"
   },
   {
    "duration": 229,
    "start_time": "2023-07-23T06:48:40.602Z"
   },
   {
    "duration": 236,
    "start_time": "2023-07-23T06:49:16.371Z"
   },
   {
    "duration": 61,
    "start_time": "2023-07-23T08:42:49.740Z"
   },
   {
    "duration": 19887,
    "start_time": "2023-07-23T08:43:00.021Z"
   },
   {
    "duration": 1635,
    "start_time": "2023-07-23T08:43:19.910Z"
   },
   {
    "duration": 151,
    "start_time": "2023-07-23T08:43:21.546Z"
   },
   {
    "duration": 93,
    "start_time": "2023-07-23T08:43:21.699Z"
   },
   {
    "duration": 991,
    "start_time": "2023-07-23T08:43:21.796Z"
   },
   {
    "duration": 9,
    "start_time": "2023-07-23T08:43:22.788Z"
   },
   {
    "duration": 52,
    "start_time": "2023-07-23T08:43:22.799Z"
   },
   {
    "duration": 122,
    "start_time": "2023-07-23T08:43:22.852Z"
   },
   {
    "duration": 2563,
    "start_time": "2023-07-23T08:43:22.976Z"
   },
   {
    "duration": 40,
    "start_time": "2023-07-23T08:43:25.542Z"
   },
   {
    "duration": 92,
    "start_time": "2023-07-23T08:43:25.584Z"
   },
   {
    "duration": 109,
    "start_time": "2023-07-23T08:43:25.679Z"
   },
   {
    "duration": 7,
    "start_time": "2023-07-23T08:53:43.140Z"
   },
   {
    "duration": 5,
    "start_time": "2023-07-23T08:53:54.635Z"
   },
   {
    "duration": 82,
    "start_time": "2023-07-23T08:53:57.141Z"
   },
   {
    "duration": 4,
    "start_time": "2023-07-23T08:54:05.052Z"
   },
   {
    "duration": 5,
    "start_time": "2023-07-23T08:54:21.455Z"
   },
   {
    "duration": 4,
    "start_time": "2023-07-23T08:54:26.272Z"
   },
   {
    "duration": 7,
    "start_time": "2023-07-23T08:54:41.815Z"
   },
   {
    "duration": 8,
    "start_time": "2023-07-23T08:55:09.633Z"
   },
   {
    "duration": 11,
    "start_time": "2023-07-23T08:55:15.800Z"
   },
   {
    "duration": 10,
    "start_time": "2023-07-23T08:55:26.190Z"
   },
   {
    "duration": 14,
    "start_time": "2023-07-23T08:55:46.134Z"
   },
   {
    "duration": 11,
    "start_time": "2023-07-23T08:55:49.814Z"
   },
   {
    "duration": 9,
    "start_time": "2023-07-23T08:56:52.837Z"
   },
   {
    "duration": 12,
    "start_time": "2023-07-23T08:57:52.139Z"
   },
   {
    "duration": 119,
    "start_time": "2023-07-23T08:58:35.098Z"
   },
   {
    "duration": 11,
    "start_time": "2023-07-23T08:58:43.706Z"
   },
   {
    "duration": 14,
    "start_time": "2023-07-23T08:58:52.442Z"
   },
   {
    "duration": 8,
    "start_time": "2023-07-23T08:59:23.510Z"
   },
   {
    "duration": 20,
    "start_time": "2023-07-23T09:01:12.438Z"
   },
   {
    "duration": 43,
    "start_time": "2023-07-23T09:02:02.944Z"
   },
   {
    "duration": 43,
    "start_time": "2023-07-23T09:02:42.338Z"
   },
   {
    "duration": 58,
    "start_time": "2023-07-23T09:03:08.083Z"
   },
   {
    "duration": 40,
    "start_time": "2023-07-23T09:03:15.345Z"
   },
   {
    "duration": 50,
    "start_time": "2023-07-23T09:05:28.703Z"
   },
   {
    "duration": 6001,
    "start_time": "2023-07-23T09:07:17.004Z"
   },
   {
    "duration": 1367,
    "start_time": "2023-07-23T09:07:23.007Z"
   },
   {
    "duration": 154,
    "start_time": "2023-07-23T09:07:24.375Z"
   },
   {
    "duration": 112,
    "start_time": "2023-07-23T09:07:24.531Z"
   },
   {
    "duration": 612,
    "start_time": "2023-07-23T09:07:24.646Z"
   },
   {
    "duration": 6,
    "start_time": "2023-07-23T09:07:25.260Z"
   },
   {
    "duration": 10,
    "start_time": "2023-07-23T09:07:25.267Z"
   },
   {
    "duration": 131,
    "start_time": "2023-07-23T09:07:25.278Z"
   },
   {
    "duration": 2465,
    "start_time": "2023-07-23T09:07:25.411Z"
   },
   {
    "duration": 24,
    "start_time": "2023-07-23T09:07:27.878Z"
   },
   {
    "duration": 49,
    "start_time": "2023-07-23T09:07:27.903Z"
   },
   {
    "duration": 183,
    "start_time": "2023-07-23T09:07:27.953Z"
   },
   {
    "duration": 48,
    "start_time": "2023-07-23T09:07:28.138Z"
   }
  ],
  "kernelspec": {
   "display_name": "Python 3 (ipykernel)",
   "language": "python",
   "name": "python3"
  },
  "language_info": {
   "codemirror_mode": {
    "name": "ipython",
    "version": 3
   },
   "file_extension": ".py",
   "mimetype": "text/x-python",
   "name": "python",
   "nbconvert_exporter": "python",
   "pygments_lexer": "ipython3",
   "version": "3.9.5"
  },
  "toc": {
   "base_numbering": 1,
   "nav_menu": {},
   "number_sections": true,
   "sideBar": true,
   "skip_h1_title": true,
   "title_cell": "Table of Contents",
   "title_sidebar": "Contents",
   "toc_cell": false,
   "toc_position": {},
   "toc_section_display": true,
   "toc_window_display": false
  }
 },
 "nbformat": 4,
 "nbformat_minor": 2
}
