{
 "cells": [
  {
   "cell_type": "markdown",
   "metadata": {},
   "source": [
    "# Отток клиентов"
   ]
  },
  {
   "cell_type": "markdown",
   "metadata": {},
   "source": [
    "Из «Бета-Банка» стали уходить клиенты. Каждый месяц. Немного, но заметно. Банковские маркетологи посчитали: сохранять текущих клиентов дешевле, чем привлекать новых.\n",
    "\n",
    "Нужно спрогнозировать, уйдёт клиент из банка в ближайшее время или нет. Вам предоставлены исторические данные о поведении клиентов и расторжении договоров с банком. \n",
    "\n",
    "Постройте модель с предельно большим значением *F1*-меры. Чтобы сдать проект успешно, нужно довести метрику до 0.59. Проверьте *F1*-меру на тестовой выборке самостоятельно.\n",
    "\n",
    "Дополнительно измеряйте *AUC-ROC*, сравнивайте её значение с *F1*-мерой.\n",
    "\n",
    "Источник данных: [https://www.kaggle.com/barelydedicated/bank-customer-churn-modeling](https://www.kaggle.com/barelydedicated/bank-customer-churn-modeling)"
   ]
  },
  {
   "cell_type": "code",
   "execution_count": 1,
   "metadata": {
    "ExecuteTime": {
     "end_time": "2024-02-20T17:56:59.069830313Z",
     "start_time": "2024-02-20T17:56:58.861347288Z"
    }
   },
   "outputs": [],
   "source": [
    "# !pip install --upgrade matplotlib\n",
    "# !pip install --upgrade pandas\n",
    "# !pip install -U imbalanced-learn\n",
    "# !pip install Pyarrow"
   ]
  },
  {
   "cell_type": "markdown",
   "metadata": {},
   "source": [
    "## Подготовка данных"
   ]
  },
  {
   "cell_type": "code",
   "execution_count": 2,
   "metadata": {
    "ExecuteTime": {
     "end_time": "2024-02-20T17:57:01.097558002Z",
     "start_time": "2024-02-20T17:56:59.078047282Z"
    }
   },
   "outputs": [],
   "source": [
    "import pandas as pd\n",
    "import matplotlib.pyplot as plt\n",
    "from sklearn.preprocessing import StandardScaler\n",
    "from sklearn.model_selection import train_test_split\n",
    "from sklearn.metrics import f1_score\n",
    "from sklearn.tree import DecisionTreeClassifier\n",
    "from sklearn.ensemble import RandomForestClassifier\n",
    "from sklearn.linear_model import LogisticRegression\n",
    "from sklearn.metrics import roc_curve\n",
    "from sklearn.metrics import roc_auc_score\n",
    "from sklearn.preprocessing import OneHotEncoder\n",
    "from imblearn.over_sampling import SMOTE, ADASYN\n",
    "import numpy as np"
   ]
  },
  {
   "cell_type": "code",
   "execution_count": 3,
   "metadata": {
    "ExecuteTime": {
     "end_time": "2024-02-20T17:57:01.170106332Z",
     "start_time": "2024-02-20T17:57:01.094658822Z"
    }
   },
   "outputs": [],
   "source": [
    "try:\n",
    "    df = pd.read_csv('Churn.csv')\n",
    "except FileNotFoundError:\n",
    "    df = pd.read_csv('####')"
   ]
  },
  {
   "cell_type": "code",
   "execution_count": 4,
   "metadata": {
    "ExecuteTime": {
     "end_time": "2024-02-20T17:57:01.276409559Z",
     "start_time": "2024-02-20T17:57:01.131434444Z"
    }
   },
   "outputs": [
    {
     "data": {
      "text/plain": "   RowNumber  CustomerId   Surname  CreditScore Geography  Gender  Age  \\\n0          1    15634602  Hargrave          619    France  Female   42   \n1          2    15647311      Hill          608     Spain  Female   41   \n2          3    15619304      Onio          502    France  Female   42   \n3          4    15701354      Boni          699    France  Female   39   \n4          5    15737888  Mitchell          850     Spain  Female   43   \n\n   Tenure    Balance  NumOfProducts  HasCrCard  IsActiveMember  \\\n0     2.0       0.00              1          1               1   \n1     1.0   83807.86              1          0               1   \n2     8.0  159660.80              3          1               0   \n3     1.0       0.00              2          0               0   \n4     2.0  125510.82              1          1               1   \n\n   EstimatedSalary  Exited  \n0        101348.88       1  \n1        112542.58       0  \n2        113931.57       1  \n3         93826.63       0  \n4         79084.10       0  ",
      "text/html": "<div>\n<style scoped>\n    .dataframe tbody tr th:only-of-type {\n        vertical-align: middle;\n    }\n\n    .dataframe tbody tr th {\n        vertical-align: top;\n    }\n\n    .dataframe thead th {\n        text-align: right;\n    }\n</style>\n<table border=\"1\" class=\"dataframe\">\n  <thead>\n    <tr style=\"text-align: right;\">\n      <th></th>\n      <th>RowNumber</th>\n      <th>CustomerId</th>\n      <th>Surname</th>\n      <th>CreditScore</th>\n      <th>Geography</th>\n      <th>Gender</th>\n      <th>Age</th>\n      <th>Tenure</th>\n      <th>Balance</th>\n      <th>NumOfProducts</th>\n      <th>HasCrCard</th>\n      <th>IsActiveMember</th>\n      <th>EstimatedSalary</th>\n      <th>Exited</th>\n    </tr>\n  </thead>\n  <tbody>\n    <tr>\n      <th>0</th>\n      <td>1</td>\n      <td>15634602</td>\n      <td>Hargrave</td>\n      <td>619</td>\n      <td>France</td>\n      <td>Female</td>\n      <td>42</td>\n      <td>2.0</td>\n      <td>0.00</td>\n      <td>1</td>\n      <td>1</td>\n      <td>1</td>\n      <td>101348.88</td>\n      <td>1</td>\n    </tr>\n    <tr>\n      <th>1</th>\n      <td>2</td>\n      <td>15647311</td>\n      <td>Hill</td>\n      <td>608</td>\n      <td>Spain</td>\n      <td>Female</td>\n      <td>41</td>\n      <td>1.0</td>\n      <td>83807.86</td>\n      <td>1</td>\n      <td>0</td>\n      <td>1</td>\n      <td>112542.58</td>\n      <td>0</td>\n    </tr>\n    <tr>\n      <th>2</th>\n      <td>3</td>\n      <td>15619304</td>\n      <td>Onio</td>\n      <td>502</td>\n      <td>France</td>\n      <td>Female</td>\n      <td>42</td>\n      <td>8.0</td>\n      <td>159660.80</td>\n      <td>3</td>\n      <td>1</td>\n      <td>0</td>\n      <td>113931.57</td>\n      <td>1</td>\n    </tr>\n    <tr>\n      <th>3</th>\n      <td>4</td>\n      <td>15701354</td>\n      <td>Boni</td>\n      <td>699</td>\n      <td>France</td>\n      <td>Female</td>\n      <td>39</td>\n      <td>1.0</td>\n      <td>0.00</td>\n      <td>2</td>\n      <td>0</td>\n      <td>0</td>\n      <td>93826.63</td>\n      <td>0</td>\n    </tr>\n    <tr>\n      <th>4</th>\n      <td>5</td>\n      <td>15737888</td>\n      <td>Mitchell</td>\n      <td>850</td>\n      <td>Spain</td>\n      <td>Female</td>\n      <td>43</td>\n      <td>2.0</td>\n      <td>125510.82</td>\n      <td>1</td>\n      <td>1</td>\n      <td>1</td>\n      <td>79084.10</td>\n      <td>0</td>\n    </tr>\n  </tbody>\n</table>\n</div>"
     },
     "metadata": {},
     "output_type": "display_data"
    },
    {
     "name": "stdout",
     "output_type": "stream",
     "text": [
      "<class 'pandas.core.frame.DataFrame'>\n",
      "RangeIndex: 10000 entries, 0 to 9999\n",
      "Data columns (total 14 columns):\n",
      " #   Column           Non-Null Count  Dtype  \n",
      "---  ------           --------------  -----  \n",
      " 0   RowNumber        10000 non-null  int64  \n",
      " 1   CustomerId       10000 non-null  int64  \n",
      " 2   Surname          10000 non-null  object \n",
      " 3   CreditScore      10000 non-null  int64  \n",
      " 4   Geography        10000 non-null  object \n",
      " 5   Gender           10000 non-null  object \n",
      " 6   Age              10000 non-null  int64  \n",
      " 7   Tenure           9091 non-null   float64\n",
      " 8   Balance          10000 non-null  float64\n",
      " 9   NumOfProducts    10000 non-null  int64  \n",
      " 10  HasCrCard        10000 non-null  int64  \n",
      " 11  IsActiveMember   10000 non-null  int64  \n",
      " 12  EstimatedSalary  10000 non-null  float64\n",
      " 13  Exited           10000 non-null  int64  \n",
      "dtypes: float64(3), int64(8), object(3)\n",
      "memory usage: 1.1+ MB\n"
     ]
    },
    {
     "data": {
      "text/plain": "None"
     },
     "metadata": {},
     "output_type": "display_data"
    },
    {
     "data": {
      "text/plain": "         RowNumber    CustomerId   CreditScore           Age       Tenure  \\\ncount  10000.00000  1.000000e+04  10000.000000  10000.000000  9091.000000   \nmean    5000.50000  1.569094e+07    650.528800     38.921800     4.997690   \nstd     2886.89568  7.193619e+04     96.653299     10.487806     2.894723   \nmin        1.00000  1.556570e+07    350.000000     18.000000     0.000000   \n25%     2500.75000  1.562853e+07    584.000000     32.000000     2.000000   \n50%     5000.50000  1.569074e+07    652.000000     37.000000     5.000000   \n75%     7500.25000  1.575323e+07    718.000000     44.000000     7.000000   \nmax    10000.00000  1.581569e+07    850.000000     92.000000    10.000000   \n\n             Balance  NumOfProducts    HasCrCard  IsActiveMember  \\\ncount   10000.000000   10000.000000  10000.00000    10000.000000   \nmean    76485.889288       1.530200      0.70550        0.515100   \nstd     62397.405202       0.581654      0.45584        0.499797   \nmin         0.000000       1.000000      0.00000        0.000000   \n25%         0.000000       1.000000      0.00000        0.000000   \n50%     97198.540000       1.000000      1.00000        1.000000   \n75%    127644.240000       2.000000      1.00000        1.000000   \nmax    250898.090000       4.000000      1.00000        1.000000   \n\n       EstimatedSalary        Exited  \ncount     10000.000000  10000.000000  \nmean     100090.239881      0.203700  \nstd       57510.492818      0.402769  \nmin          11.580000      0.000000  \n25%       51002.110000      0.000000  \n50%      100193.915000      0.000000  \n75%      149388.247500      0.000000  \nmax      199992.480000      1.000000  ",
      "text/html": "<div>\n<style scoped>\n    .dataframe tbody tr th:only-of-type {\n        vertical-align: middle;\n    }\n\n    .dataframe tbody tr th {\n        vertical-align: top;\n    }\n\n    .dataframe thead th {\n        text-align: right;\n    }\n</style>\n<table border=\"1\" class=\"dataframe\">\n  <thead>\n    <tr style=\"text-align: right;\">\n      <th></th>\n      <th>RowNumber</th>\n      <th>CustomerId</th>\n      <th>CreditScore</th>\n      <th>Age</th>\n      <th>Tenure</th>\n      <th>Balance</th>\n      <th>NumOfProducts</th>\n      <th>HasCrCard</th>\n      <th>IsActiveMember</th>\n      <th>EstimatedSalary</th>\n      <th>Exited</th>\n    </tr>\n  </thead>\n  <tbody>\n    <tr>\n      <th>count</th>\n      <td>10000.00000</td>\n      <td>1.000000e+04</td>\n      <td>10000.000000</td>\n      <td>10000.000000</td>\n      <td>9091.000000</td>\n      <td>10000.000000</td>\n      <td>10000.000000</td>\n      <td>10000.00000</td>\n      <td>10000.000000</td>\n      <td>10000.000000</td>\n      <td>10000.000000</td>\n    </tr>\n    <tr>\n      <th>mean</th>\n      <td>5000.50000</td>\n      <td>1.569094e+07</td>\n      <td>650.528800</td>\n      <td>38.921800</td>\n      <td>4.997690</td>\n      <td>76485.889288</td>\n      <td>1.530200</td>\n      <td>0.70550</td>\n      <td>0.515100</td>\n      <td>100090.239881</td>\n      <td>0.203700</td>\n    </tr>\n    <tr>\n      <th>std</th>\n      <td>2886.89568</td>\n      <td>7.193619e+04</td>\n      <td>96.653299</td>\n      <td>10.487806</td>\n      <td>2.894723</td>\n      <td>62397.405202</td>\n      <td>0.581654</td>\n      <td>0.45584</td>\n      <td>0.499797</td>\n      <td>57510.492818</td>\n      <td>0.402769</td>\n    </tr>\n    <tr>\n      <th>min</th>\n      <td>1.00000</td>\n      <td>1.556570e+07</td>\n      <td>350.000000</td>\n      <td>18.000000</td>\n      <td>0.000000</td>\n      <td>0.000000</td>\n      <td>1.000000</td>\n      <td>0.00000</td>\n      <td>0.000000</td>\n      <td>11.580000</td>\n      <td>0.000000</td>\n    </tr>\n    <tr>\n      <th>25%</th>\n      <td>2500.75000</td>\n      <td>1.562853e+07</td>\n      <td>584.000000</td>\n      <td>32.000000</td>\n      <td>2.000000</td>\n      <td>0.000000</td>\n      <td>1.000000</td>\n      <td>0.00000</td>\n      <td>0.000000</td>\n      <td>51002.110000</td>\n      <td>0.000000</td>\n    </tr>\n    <tr>\n      <th>50%</th>\n      <td>5000.50000</td>\n      <td>1.569074e+07</td>\n      <td>652.000000</td>\n      <td>37.000000</td>\n      <td>5.000000</td>\n      <td>97198.540000</td>\n      <td>1.000000</td>\n      <td>1.00000</td>\n      <td>1.000000</td>\n      <td>100193.915000</td>\n      <td>0.000000</td>\n    </tr>\n    <tr>\n      <th>75%</th>\n      <td>7500.25000</td>\n      <td>1.575323e+07</td>\n      <td>718.000000</td>\n      <td>44.000000</td>\n      <td>7.000000</td>\n      <td>127644.240000</td>\n      <td>2.000000</td>\n      <td>1.00000</td>\n      <td>1.000000</td>\n      <td>149388.247500</td>\n      <td>0.000000</td>\n    </tr>\n    <tr>\n      <th>max</th>\n      <td>10000.00000</td>\n      <td>1.581569e+07</td>\n      <td>850.000000</td>\n      <td>92.000000</td>\n      <td>10.000000</td>\n      <td>250898.090000</td>\n      <td>4.000000</td>\n      <td>1.00000</td>\n      <td>1.000000</td>\n      <td>199992.480000</td>\n      <td>1.000000</td>\n    </tr>\n  </tbody>\n</table>\n</div>"
     },
     "execution_count": 4,
     "metadata": {},
     "output_type": "execute_result"
    }
   ],
   "source": [
    "display(df.head())\n",
    "display(df.info())\n",
    "df.describe()"
   ]
  },
  {
   "cell_type": "markdown",
   "metadata": {},
   "source": [
    "Предоставленный датасет в хорошем качестве, размерность 10000х14, пропущенные значение только у столбца Tenure. Отсутствует примерно 10% значений."
   ]
  },
  {
   "cell_type": "code",
   "execution_count": 5,
   "metadata": {
    "ExecuteTime": {
     "end_time": "2024-02-20T17:57:01.991961595Z",
     "start_time": "2024-02-20T17:57:01.243584286Z"
    }
   },
   "outputs": [
    {
     "data": {
      "text/plain": "<Figure size 640x480 with 1 Axes>",
      "image/png": "[encoded data removed]"
     },
     "metadata": {},
     "output_type": "display_data"
    },
    {
     "data": {
      "text/plain": "<Figure size 640x480 with 1 Axes>",
      "image/png": "[encoded data removed]"
     },
     "metadata": {},
     "output_type": "display_data"
    }
   ],
   "source": [
    "plt.bar(df['Tenure'].value_counts().index, df['Tenure'].value_counts());\n",
    "plt.figure()\n",
    "plt.boxplot(df['Tenure'].value_counts());"
   ]
  },
  {
   "cell_type": "markdown",
   "metadata": {},
   "source": [
    "Клиентов, которые c банком до года и 10 лет в два раза меньше чем клиентов из других категорий. Заполним пропуски медианой, которая в нашем случае равна 5."
   ]
  },
  {
   "cell_type": "code",
   "execution_count": 6,
   "metadata": {
    "ExecuteTime": {
     "end_time": "2024-02-20T17:57:02.298201375Z",
     "start_time": "2024-02-20T17:57:01.753965819Z"
    }
   },
   "outputs": [
    {
     "data": {
      "text/plain": "   RowNumber  CustomerId   Surname  CreditScore Geography  Gender  Age  \\\n0          1    15634602  Hargrave          619    France  Female   42   \n1          2    15647311      Hill          608     Spain  Female   41   \n2          3    15619304      Onio          502    France  Female   42   \n3          4    15701354      Boni          699    France  Female   39   \n4          5    15737888  Mitchell          850     Spain  Female   43   \n\n   Tenure    Balance  NumOfProducts  HasCrCard  IsActiveMember  \\\n0     2.0       0.00              1          1               1   \n1     1.0   83807.86              1          0               1   \n2     8.0  159660.80              3          1               0   \n3     1.0       0.00              2          0               0   \n4     2.0  125510.82              1          1               1   \n\n   EstimatedSalary  Exited  \n0        101348.88       1  \n1        112542.58       0  \n2        113931.57       1  \n3         93826.63       0  \n4         79084.10       0  ",
      "text/html": "<div>\n<style scoped>\n    .dataframe tbody tr th:only-of-type {\n        vertical-align: middle;\n    }\n\n    .dataframe tbody tr th {\n        vertical-align: top;\n    }\n\n    .dataframe thead th {\n        text-align: right;\n    }\n</style>\n<table border=\"1\" class=\"dataframe\">\n  <thead>\n    <tr style=\"text-align: right;\">\n      <th></th>\n      <th>RowNumber</th>\n      <th>CustomerId</th>\n      <th>Surname</th>\n      <th>CreditScore</th>\n      <th>Geography</th>\n      <th>Gender</th>\n      <th>Age</th>\n      <th>Tenure</th>\n      <th>Balance</th>\n      <th>NumOfProducts</th>\n      <th>HasCrCard</th>\n      <th>IsActiveMember</th>\n      <th>EstimatedSalary</th>\n      <th>Exited</th>\n    </tr>\n  </thead>\n  <tbody>\n    <tr>\n      <th>0</th>\n      <td>1</td>\n      <td>15634602</td>\n      <td>Hargrave</td>\n      <td>619</td>\n      <td>France</td>\n      <td>Female</td>\n      <td>42</td>\n      <td>2.0</td>\n      <td>0.00</td>\n      <td>1</td>\n      <td>1</td>\n      <td>1</td>\n      <td>101348.88</td>\n      <td>1</td>\n    </tr>\n    <tr>\n      <th>1</th>\n      <td>2</td>\n      <td>15647311</td>\n      <td>Hill</td>\n      <td>608</td>\n      <td>Spain</td>\n      <td>Female</td>\n      <td>41</td>\n      <td>1.0</td>\n      <td>83807.86</td>\n      <td>1</td>\n      <td>0</td>\n      <td>1</td>\n      <td>112542.58</td>\n      <td>0</td>\n    </tr>\n    <tr>\n      <th>2</th>\n      <td>3</td>\n      <td>15619304</td>\n      <td>Onio</td>\n      <td>502</td>\n      <td>France</td>\n      <td>Female</td>\n      <td>42</td>\n      <td>8.0</td>\n      <td>159660.80</td>\n      <td>3</td>\n      <td>1</td>\n      <td>0</td>\n      <td>113931.57</td>\n      <td>1</td>\n    </tr>\n    <tr>\n      <th>3</th>\n      <td>4</td>\n      <td>15701354</td>\n      <td>Boni</td>\n      <td>699</td>\n      <td>France</td>\n      <td>Female</td>\n      <td>39</td>\n      <td>1.0</td>\n      <td>0.00</td>\n      <td>2</td>\n      <td>0</td>\n      <td>0</td>\n      <td>93826.63</td>\n      <td>0</td>\n    </tr>\n    <tr>\n      <th>4</th>\n      <td>5</td>\n      <td>15737888</td>\n      <td>Mitchell</td>\n      <td>850</td>\n      <td>Spain</td>\n      <td>Female</td>\n      <td>43</td>\n      <td>2.0</td>\n      <td>125510.82</td>\n      <td>1</td>\n      <td>1</td>\n      <td>1</td>\n      <td>79084.10</td>\n      <td>0</td>\n    </tr>\n  </tbody>\n</table>\n</div>"
     },
     "execution_count": 6,
     "metadata": {},
     "output_type": "execute_result"
    }
   ],
   "source": [
    "df.loc[(df['Tenure'].isna()), 'Tenure'] = int(df.Tenure.median())\n",
    "df.head()"
   ]
  },
  {
   "cell_type": "markdown",
   "metadata": {},
   "source": [
    "Теперь избавимся от лишних столбцов. Столбцы RowNumber, CustomerId и Surname явно не помогут нам в прогнозе."
   ]
  },
  {
   "cell_type": "code",
   "execution_count": 7,
   "metadata": {
    "ExecuteTime": {
     "end_time": "2024-02-20T17:57:02.299337103Z",
     "start_time": "2024-02-20T17:57:01.838493168Z"
    }
   },
   "outputs": [],
   "source": [
    "df = df[[col for col in df.columns if col not in df.columns[:3]]]"
   ]
  },
  {
   "cell_type": "code",
   "execution_count": 8,
   "metadata": {
    "ExecuteTime": {
     "end_time": "2024-02-20T17:57:02.610655398Z",
     "start_time": "2024-02-20T17:57:01.839083863Z"
    }
   },
   "outputs": [
    {
     "data": {
      "text/plain": "<Figure size 640x480 with 1 Axes>",
      "image/png": "[encoded data removed]"
     },
     "metadata": {},
     "output_type": "display_data"
    }
   ],
   "source": [
    "df.boxplot();"
   ]
  },
  {
   "cell_type": "markdown",
   "metadata": {},
   "source": [
    "Результаты построения ящика с усами для всех численных столбцов говорят о том что значения надо стандартизовать. Но делать мы это будем после разбиения на тренировочную и тестовую выборки."
   ]
  },
  {
   "cell_type": "markdown",
   "metadata": {},
   "source": [
    "## Исследование задачи"
   ]
  },
  {
   "cell_type": "code",
   "execution_count": 9,
   "metadata": {
    "ExecuteTime": {
     "end_time": "2024-02-20T17:57:02.930384298Z",
     "start_time": "2024-02-20T17:57:02.270710552Z"
    }
   },
   "outputs": [
    {
     "data": {
      "text/plain": "<Figure size 640x480 with 1 Axes>",
      "image/png": "[encoded data removed]"
     },
     "metadata": {},
     "output_type": "display_data"
    }
   ],
   "source": [
    "pd.DataFrame(df.Exited.value_counts()).plot.pie(y='count', autopct='%1.2f%%', \n",
    "                                                title='Доля уходящих из банка клиентов(1)');"
   ]
  },
  {
   "cell_type": "markdown",
   "metadata": {},
   "source": [
    "Дисбаланс классов примерно 4 к 1, это умеренный дисбаланс."
   ]
  },
  {
   "cell_type": "code",
   "execution_count": 10,
   "metadata": {
    "ExecuteTime": {
     "end_time": "2024-02-20T17:57:02.934512175Z",
     "start_time": "2024-02-20T17:57:02.496370965Z"
    }
   },
   "outputs": [
    {
     "data": {
      "text/plain": "        count\nExited       \n0        7963\n1        2037",
      "text/html": "<div>\n<style scoped>\n    .dataframe tbody tr th:only-of-type {\n        vertical-align: middle;\n    }\n\n    .dataframe tbody tr th {\n        vertical-align: top;\n    }\n\n    .dataframe thead th {\n        text-align: right;\n    }\n</style>\n<table border=\"1\" class=\"dataframe\">\n  <thead>\n    <tr style=\"text-align: right;\">\n      <th></th>\n      <th>count</th>\n    </tr>\n    <tr>\n      <th>Exited</th>\n      <th></th>\n    </tr>\n  </thead>\n  <tbody>\n    <tr>\n      <th>0</th>\n      <td>7963</td>\n    </tr>\n    <tr>\n      <th>1</th>\n      <td>2037</td>\n    </tr>\n  </tbody>\n</table>\n</div>"
     },
     "execution_count": 10,
     "metadata": {},
     "output_type": "execute_result"
    }
   ],
   "source": [
    "pd.DataFrame(df.Exited.value_counts())"
   ]
  },
  {
   "cell_type": "code",
   "execution_count": 11,
   "metadata": {
    "ExecuteTime": {
     "end_time": "2024-02-20T17:57:02.990779440Z",
     "start_time": "2024-02-20T17:57:02.542980048Z"
    }
   },
   "outputs": [],
   "source": [
    "# Разбиваем данные на выборки\n",
    "features = df.drop(['Exited'], axis=1)\n",
    "target = df.Exited\n",
    "\n",
    "features_train, features_test, target_train, target_test = train_test_split(\n",
    "features, target, test_size=0.4, random_state=112\n",
    ")\n",
    "features_test, features_val, target_test, target_val = train_test_split(\n",
    "features_test, target_test, test_size=0.5, random_state=113\n",
    ")    \n",
    "# One Hot Encoder\n",
    "coder = OneHotEncoder(drop='first')\n",
    "coder.fit(features_train[['Geography', 'Gender']])\n",
    "\n",
    "def encode_categorical(data, coder):\n",
    "    converted = pd.DataFrame(coder.transform(data[['Geography', 'Gender']]).toarray(),\n",
    "                             columns=coder.get_feature_names_out())\n",
    "    data = data.drop(['Geography', 'Gender'], axis=1)\n",
    "    data = pd.concat([data.reset_index(drop=True), converted.reset_index(drop=True)], axis=1)\n",
    "    return data    \n",
    "\n",
    "features_train = encode_categorical(features_train, coder)\n",
    "features_test = encode_categorical(features_test, coder)\n",
    "features_val = encode_categorical(features_val, coder)\n",
    "# Scaling\n",
    "var_numeric = ['CreditScore', 'Age', 'Tenure', 'Balance', \n",
    "               'NumOfProducts', 'EstimatedSalary']\n",
    "scaler = StandardScaler()\n",
    "scaler.fit(features_train[var_numeric])\n",
    "def scale_data(data, columns, scaler):\n",
    "    data[columns] = scaler.transform(data[columns])\n",
    "    return pd.DataFrame(data, columns=columns)\n",
    "features_train[var_numeric] = scale_data(features_train, var_numeric, scaler)\n",
    "features_test[var_numeric] = scale_data(features_test, var_numeric, scaler)\n",
    "features_val[var_numeric] = scale_data(features_val, var_numeric, scaler)"
   ]
  },
  {
   "cell_type": "code",
   "execution_count": 12,
   "metadata": {
    "ExecuteTime": {
     "end_time": "2024-02-20T17:57:02.993899373Z",
     "start_time": "2024-02-20T17:57:02.648400556Z"
    }
   },
   "outputs": [],
   "source": [
    "# функция для поиска лучшей модели для решающего дерева и случайного леса\n",
    "def get_best_model(range_, model_object, x_train, x_val, y_train, y_val):\n",
    "    score = 0\n",
    "    best_model = None\n",
    "    df = {'F1': [], 'depth': []}\n",
    "    for i in range(1, range_+1):\n",
    "        model = model_object(random_state=7765, max_depth=i)\n",
    "        model.fit(x_train, y_train)\n",
    "        model_pred = model.predict(x_val)\n",
    "        df['F1'].append(score_m := f1_score(y_val, model_pred))\n",
    "        df['depth'].append(i)\n",
    "        if score_m > score:\n",
    "            score = score_m\n",
    "            best_model = model\n",
    "        #pd.DataFrame(df).style.background_gradient('coolwarm', subset=['F1'])\n",
    "    display(pd.DataFrame(df).sort_values(by='F1', ascending=False).head(10))\n",
    "    return best_model"
   ]
  },
  {
   "cell_type": "code",
   "execution_count": 13,
   "metadata": {
    "ExecuteTime": {
     "end_time": "2024-02-20T17:57:03.566466062Z",
     "start_time": "2024-02-20T17:57:02.662308105Z"
    }
   },
   "outputs": [
    {
     "data": {
      "text/plain": "          F1  depth\n6   0.579310      7\n4   0.576320      5\n8   0.567416      9\n7   0.551111      8\n5   0.550989      6\n11  0.548602     12\n10  0.539945     11\n9   0.534459     10\n12  0.532300     13\n13  0.517286     14",
      "text/html": "<div>\n<style scoped>\n    .dataframe tbody tr th:only-of-type {\n        vertical-align: middle;\n    }\n\n    .dataframe tbody tr th {\n        vertical-align: top;\n    }\n\n    .dataframe thead th {\n        text-align: right;\n    }\n</style>\n<table border=\"1\" class=\"dataframe\">\n  <thead>\n    <tr style=\"text-align: right;\">\n      <th></th>\n      <th>F1</th>\n      <th>depth</th>\n    </tr>\n  </thead>\n  <tbody>\n    <tr>\n      <th>6</th>\n      <td>0.579310</td>\n      <td>7</td>\n    </tr>\n    <tr>\n      <th>4</th>\n      <td>0.576320</td>\n      <td>5</td>\n    </tr>\n    <tr>\n      <th>8</th>\n      <td>0.567416</td>\n      <td>9</td>\n    </tr>\n    <tr>\n      <th>7</th>\n      <td>0.551111</td>\n      <td>8</td>\n    </tr>\n    <tr>\n      <th>5</th>\n      <td>0.550989</td>\n      <td>6</td>\n    </tr>\n    <tr>\n      <th>11</th>\n      <td>0.548602</td>\n      <td>12</td>\n    </tr>\n    <tr>\n      <th>10</th>\n      <td>0.539945</td>\n      <td>11</td>\n    </tr>\n    <tr>\n      <th>9</th>\n      <td>0.534459</td>\n      <td>10</td>\n    </tr>\n    <tr>\n      <th>12</th>\n      <td>0.532300</td>\n      <td>13</td>\n    </tr>\n    <tr>\n      <th>13</th>\n      <td>0.517286</td>\n      <td>14</td>\n    </tr>\n  </tbody>\n</table>\n</div>"
     },
     "metadata": {},
     "output_type": "display_data"
    }
   ],
   "source": [
    "best_model_d_tree = get_best_model(15, \n",
    "                                   DecisionTreeClassifier,\n",
    "                                   features_train,\n",
    "                                   features_test,\n",
    "                                   target_train,\n",
    "                                   target_test\n",
    "                                   )"
   ]
  },
  {
   "cell_type": "markdown",
   "metadata": {},
   "source": [
    "Наилучший результат показала модель с глубиной 7. Посмотрим как покажет себя случайный лес."
   ]
  },
  {
   "cell_type": "code",
   "execution_count": 14,
   "metadata": {
    "ExecuteTime": {
     "end_time": "2024-02-20T17:57:33.145673807Z",
     "start_time": "2024-02-20T17:57:03.250377254Z"
    }
   },
   "outputs": [
    {
     "data": {
      "text/plain": "          F1  depth\n15  0.592920     16\n21  0.586826     22\n25  0.584337     26\n14  0.582701     15\n26  0.582583     27\n17  0.582467     18\n16  0.581709     17\n18  0.580838     19\n24  0.580451     25\n20  0.579970     21",
      "text/html": "<div>\n<style scoped>\n    .dataframe tbody tr th:only-of-type {\n        vertical-align: middle;\n    }\n\n    .dataframe tbody tr th {\n        vertical-align: top;\n    }\n\n    .dataframe thead th {\n        text-align: right;\n    }\n</style>\n<table border=\"1\" class=\"dataframe\">\n  <thead>\n    <tr style=\"text-align: right;\">\n      <th></th>\n      <th>F1</th>\n      <th>depth</th>\n    </tr>\n  </thead>\n  <tbody>\n    <tr>\n      <th>15</th>\n      <td>0.592920</td>\n      <td>16</td>\n    </tr>\n    <tr>\n      <th>21</th>\n      <td>0.586826</td>\n      <td>22</td>\n    </tr>\n    <tr>\n      <th>25</th>\n      <td>0.584337</td>\n      <td>26</td>\n    </tr>\n    <tr>\n      <th>14</th>\n      <td>0.582701</td>\n      <td>15</td>\n    </tr>\n    <tr>\n      <th>26</th>\n      <td>0.582583</td>\n      <td>27</td>\n    </tr>\n    <tr>\n      <th>17</th>\n      <td>0.582467</td>\n      <td>18</td>\n    </tr>\n    <tr>\n      <th>16</th>\n      <td>0.581709</td>\n      <td>17</td>\n    </tr>\n    <tr>\n      <th>18</th>\n      <td>0.580838</td>\n      <td>19</td>\n    </tr>\n    <tr>\n      <th>24</th>\n      <td>0.580451</td>\n      <td>25</td>\n    </tr>\n    <tr>\n      <th>20</th>\n      <td>0.579970</td>\n      <td>21</td>\n    </tr>\n  </tbody>\n</table>\n</div>"
     },
     "metadata": {},
     "output_type": "display_data"
    }
   ],
   "source": [
    "best_model_r_forest = get_best_model(30,\n",
    "                                   RandomForestClassifier,\n",
    "                                   features_train,\n",
    "                                   features_test,\n",
    "                                   target_train,\n",
    "                                   target_test\n",
    "                                   )"
   ]
  },
  {
   "cell_type": "markdown",
   "metadata": {},
   "source": [
    "Лучше всего показала себя модель с глубиной равной 16. Посмотрим, удастся ли улучшить результат варьированием количества деревьев."
   ]
  },
  {
   "cell_type": "code",
   "execution_count": 15,
   "metadata": {
    "ExecuteTime": {
     "end_time": "2024-02-20T17:57:50.819683497Z",
     "start_time": "2024-02-20T17:57:33.152790162Z"
    }
   },
   "outputs": [
    {
     "data": {
      "text/plain": "          F1  n_estimators\n1   0.597633            40\n2   0.596182            60\n9   0.595556           200\n11  0.594993           240\n4   0.592920           100\n0   0.591716            20\n10  0.590842           220\n3   0.590308            80\n8   0.589286           180\n7   0.588410           160",
      "text/html": "<div>\n<style scoped>\n    .dataframe tbody tr th:only-of-type {\n        vertical-align: middle;\n    }\n\n    .dataframe tbody tr th {\n        vertical-align: top;\n    }\n\n    .dataframe thead th {\n        text-align: right;\n    }\n</style>\n<table border=\"1\" class=\"dataframe\">\n  <thead>\n    <tr style=\"text-align: right;\">\n      <th></th>\n      <th>F1</th>\n      <th>n_estimators</th>\n    </tr>\n  </thead>\n  <tbody>\n    <tr>\n      <th>1</th>\n      <td>0.597633</td>\n      <td>40</td>\n    </tr>\n    <tr>\n      <th>2</th>\n      <td>0.596182</td>\n      <td>60</td>\n    </tr>\n    <tr>\n      <th>9</th>\n      <td>0.595556</td>\n      <td>200</td>\n    </tr>\n    <tr>\n      <th>11</th>\n      <td>0.594993</td>\n      <td>240</td>\n    </tr>\n    <tr>\n      <th>4</th>\n      <td>0.592920</td>\n      <td>100</td>\n    </tr>\n    <tr>\n      <th>0</th>\n      <td>0.591716</td>\n      <td>20</td>\n    </tr>\n    <tr>\n      <th>10</th>\n      <td>0.590842</td>\n      <td>220</td>\n    </tr>\n    <tr>\n      <th>3</th>\n      <td>0.590308</td>\n      <td>80</td>\n    </tr>\n    <tr>\n      <th>8</th>\n      <td>0.589286</td>\n      <td>180</td>\n    </tr>\n    <tr>\n      <th>7</th>\n      <td>0.588410</td>\n      <td>160</td>\n    </tr>\n  </tbody>\n</table>\n</div>"
     },
     "metadata": {},
     "output_type": "display_data"
    }
   ],
   "source": [
    "# модифицируем нашу функцию\n",
    "def get_best_model_ne(range_, model_object, x_train, x_val, y_train, y_val, max_depth):\n",
    "    score = 0\n",
    "    best_model = None\n",
    "    df_ = {'F1': [], 'n_estimators': []}\n",
    "    range_ = range_+1\n",
    "    for i in range(20, range_, 20):\n",
    "        model = model_object(random_state=7765, max_depth=max_depth, n_estimators=i)\n",
    "        model.fit(x_train, y_train)\n",
    "        model_pred = model.predict(x_val)\n",
    "        df_['F1'].append(score_m := f1_score(y_val, model_pred))\n",
    "        df_['n_estimators'].append(i)\n",
    "        if score_m > score:\n",
    "            score = score_m\n",
    "            best_model = model\n",
    "        #pd.DataFrame(df).style.background_gradient('coolwarm', subset=['F1'])\n",
    "    display(pd.DataFrame(df_).sort_values(by='F1', ascending=False).head(10))\n",
    "    return best_model\n",
    "\n",
    "best_model_r_forest_ne = get_best_model_ne(250,\n",
    "                                     RandomForestClassifier,\n",
    "                                     features_train,\n",
    "                                     features_test,\n",
    "                                     target_train,\n",
    "                                     target_test,\n",
    "                                     max_depth=16)"
   ]
  },
  {
   "cell_type": "code",
   "execution_count": 16,
   "metadata": {
    "ExecuteTime": {
     "end_time": "2024-02-20T17:58:37.412237399Z",
     "start_time": "2024-02-20T17:57:50.803372236Z"
    }
   },
   "outputs": [
    {
     "name": "stdout",
     "output_type": "stream",
     "text": [
      "n_estimators = 100 max_depth = 12 F1 = 0.5809379727685325 AUC-ROC = 0.8609068599894163\n",
      "n_estimators = 100 max_depth = 14 F1 = 0.5855855855855855 AUC-ROC = 0.8600253945981762\n",
      "n_estimators = 100 max_depth = 16 F1 = 0.5880597014925373 AUC-ROC = 0.8555221258306835\n",
      "n_estimators = 100 max_depth = 18 F1 = 0.5808383233532934 AUC-ROC = 0.8538056668630476\n",
      "n_estimators = 100 max_depth = 20 F1 = 0.5896296296296296 AUC-ROC = 0.857718293854777\n",
      "n_estimators = 120 max_depth = 12 F1 = 0.5718654434250765 AUC-ROC = 0.862031178090488\n",
      "n_estimators = 120 max_depth = 14 F1 = 0.5714285714285714 AUC-ROC = 0.861569458123648\n",
      "n_estimators = 120 max_depth = 16 F1 = 0.5854383358098068 AUC-ROC = 0.8566419466593511\n",
      "n_estimators = 120 max_depth = 18 F1 = 0.5791044776119403 AUC-ROC = 0.8538506395870904\n",
      "n_estimators = 120 max_depth = 20 F1 = 0.5878877400295421 AUC-ROC = 0.8580675820115099\n",
      "n_estimators = 140 max_depth = 12 F1 = 0.5814307458143075 AUC-ROC = 0.8620176862732752\n",
      "n_estimators = 140 max_depth = 14 F1 = 0.5809379727685325 AUC-ROC = 0.8618392944679052\n",
      "n_estimators = 140 max_depth = 16 F1 = 0.5850746268656716 AUC-ROC = 0.8566801734747874\n",
      "n_estimators = 140 max_depth = 18 F1 = 0.573134328358209 AUC-ROC = 0.853707476415554\n",
      "n_estimators = 140 max_depth = 20 F1 = 0.5908419497784342 AUC-ROC = 0.8586604724234752\n",
      "n_estimators = 160 max_depth = 12 F1 = 0.5792682926829268 AUC-ROC = 0.8617853271990539\n",
      "n_estimators = 160 max_depth = 14 F1 = 0.5852187028657617 AUC-ROC = 0.8625633553249955\n",
      "n_estimators = 160 max_depth = 16 F1 = 0.5925925925925926 AUC-ROC = 0.8576538329503157\n",
      "n_estimators = 160 max_depth = 18 F1 = 0.5824665676077266 AUC-ROC = 0.8538971114019347\n",
      "n_estimators = 160 max_depth = 20 F1 = 0.5937961595273265 AUC-ROC = 0.8594137655511933\n",
      "n_estimators = 180 max_depth = 12 F1 = 0.5792682926829268 AUC-ROC = 0.8609833136202893\n",
      "n_estimators = 180 max_depth = 14 F1 = 0.5805471124620061 AUC-ROC = 0.862551362598584\n",
      "n_estimators = 180 max_depth = 16 F1 = 0.5887573964497042 AUC-ROC = 0.8591146969363082\n",
      "n_estimators = 180 max_depth = 18 F1 = 0.5794947994056464 AUC-ROC = 0.8555858371897445\n",
      "n_estimators = 180 max_depth = 20 F1 = 0.5917159763313609 AUC-ROC = 0.8596446255346133\n",
      "n_estimators = 200 max_depth = 12 F1 = 0.5762195121951219 AUC-ROC = 0.8608004245425149\n",
      "n_estimators = 200 max_depth = 14 F1 = 0.5792682926829268 AUC-ROC = 0.8617238644761951\n",
      "n_estimators = 200 max_depth = 16 F1 = 0.5967503692762186 AUC-ROC = 0.8588276210478345\n",
      "n_estimators = 200 max_depth = 18 F1 = 0.5808383233532934 AUC-ROC = 0.8558144485369624\n",
      "n_estimators = 200 max_depth = 20 F1 = 0.5917159763313609 AUC-ROC = 0.8594295060046082\n"
     ]
    }
   ],
   "source": [
    "for estim in range(100, 201, 20):\n",
    "    for depth in range(12, 21, 2):\n",
    "        model = RandomForestClassifier(random_state=12345, n_estimators=estim, max_depth=depth)\n",
    "\n",
    "        model.fit(features_train, target_train)\n",
    "        predicted_test = model.predict(features_test)\n",
    "        probablities_test = model.predict_proba(features_test)[:, 1]\n",
    "\n",
    "        print(\"n_estimators =\", estim,\n",
    "              \"max_depth =\", depth,\n",
    "              'F1 =', f1_score(target_test, predicted_test),\n",
    "              'AUC-ROC =', roc_auc_score(target_test, probablities_test)\n",
    "         )"
   ]
  },
  {
   "cell_type": "markdown",
   "metadata": {},
   "source": [
    "По итогам предварительного анализа алгоритма случайного леса лучший результат показала модель на 40 деревьев, глубиной 16 ветвей."
   ]
  },
  {
   "cell_type": "code",
   "execution_count": 17,
   "metadata": {
    "ExecuteTime": {
     "end_time": "2024-02-20T17:58:37.974335147Z",
     "start_time": "2024-02-20T17:58:37.393702558Z"
    }
   },
   "outputs": [
    {
     "name": "stdout",
     "output_type": "stream",
     "text": [
      "0.28256880733944956 newton-cg\n",
      "0.28256880733944956 lbfgs\n",
      "0.28571428571428575 liblinear\n",
      "0.28256880733944956 sag\n",
      "0.28256880733944956 saga\n"
     ]
    }
   ],
   "source": [
    "# Проверим логистическую регрессию\n",
    "for solver in ['newton-cg', 'lbfgs', 'liblinear', 'sag', 'saga']:\n",
    "    model_logistic = LogisticRegression(random_state=777, solver=solver)\n",
    "    model_logistic.fit(features_train, target_train)\n",
    "    model_pred = model_logistic.predict(features_test)\n",
    "    print(f1_score(target_test, model_pred), solver)"
   ]
  },
  {
   "cell_type": "markdown",
   "metadata": {},
   "source": [
    "Логистическая регрессия показывает наихудший результат."
   ]
  },
  {
   "cell_type": "code",
   "execution_count": 18,
   "metadata": {
    "ExecuteTime": {
     "end_time": "2024-02-20T17:58:38.490908525Z",
     "start_time": "2024-02-20T17:58:37.947482503Z"
    }
   },
   "outputs": [
    {
     "name": "stdout",
     "output_type": "stream",
     "text": [
      "              Classifier     Score\n",
      "0          decision_tree  0.829332\n",
      "1          random_forest  0.860731\n",
      "2  random_forest_ne_prob  0.858088\n",
      "3    logistic_regression  0.773576\n"
     ]
    },
    {
     "data": {
      "text/plain": "<Figure size 640x480 with 1 Axes>",
      "image/png": "[encoded data removed]"
     },
     "metadata": {},
     "output_type": "display_data"
    }
   ],
   "source": [
    "d_tree_prob = best_model_d_tree.predict_proba(features_test)[:,1]\n",
    "r_forest_prob = best_model_r_forest.predict_proba(features_test)[:,1]\n",
    "r_forest_ne_prob = best_model_r_forest_ne.predict_proba(features_test)[:,1]\n",
    "logistic_prob = model_logistic.predict_proba(features_test)[:,1]\n",
    "\n",
    "fig = plt.figure()\n",
    "ax = fig.add_subplot()\n",
    "plt.title('ROC кривые для различных моделей')\n",
    "ax.set_xlabel('false positive rate')\n",
    "ax.set_ylabel('true positive rate')\n",
    "fpr, tpr, threshold =  roc_curve(target_test, d_tree_prob)\n",
    "decision_tree, = ax.plot(fpr, tpr, label='decision_tree')\n",
    "fpr, tpr, threshold =  roc_curve(target_test, r_forest_prob)\n",
    "random_forest, = ax.plot(fpr, tpr, label='random_forest')\n",
    "fpr, tpr, threshold =  roc_curve(target_test, r_forest_ne_prob)\n",
    "random_forest_nest_tuned, = ax.plot(fpr, tpr, label='random_forest_nest_tuned')\n",
    "plt.plot()\n",
    "fpr, tpr, threshold =  roc_curve(target_test, logistic_prob)\n",
    "logistic_regression, = ax.plot(fpr, tpr, label='logistics regression')\n",
    "ax.legend(handles=[decision_tree, random_forest, random_forest_nest_tuned, logistic_regression]);\n",
    "\n",
    "AUC_scores = {'Classifier':[], 'Score':[]}\n",
    "AUC_scores['Classifier'].append('decision_tree')\n",
    "AUC_scores['Score'].append(roc_auc_score(target_test, d_tree_prob))\n",
    "AUC_scores['Classifier'].append('random_forest')\n",
    "AUC_scores['Score'].append(roc_auc_score(target_test, r_forest_prob))\n",
    "AUC_scores['Classifier'].append('random_forest_ne_prob')\n",
    "AUC_scores['Score'].append(roc_auc_score(target_test, r_forest_ne_prob))\n",
    "AUC_scores['Classifier'].append('logistic_regression')\n",
    "AUC_scores['Score'].append(roc_auc_score(target_test, logistic_prob))\n",
    "print(pd.DataFrame(AUC_scores))"
   ]
  },
  {
   "cell_type": "markdown",
   "metadata": {},
   "source": [
    "У всех алгоритмов площадь под кривой больше 0.5, а значит все работают лучше, чем модель, которая угадывает результат случайно. Лучший результат показали две модели на основе случайного леса. Небольшой неожиданностью стала то что модель, которая показала немного лучший результат на F1, повела себя хуже при измерении ROC-AUC. Однако, в обоих случаях разница на сотые и тысячные доли единицы."
   ]
  },
  {
   "cell_type": "code",
   "execution_count": 19,
   "metadata": {
    "ExecuteTime": {
     "end_time": "2024-02-20T17:58:38.900612852Z",
     "start_time": "2024-02-20T17:58:38.494753831Z"
    }
   },
   "outputs": [
    {
     "name": "stdout",
     "output_type": "stream",
     "text": [
      "ROC-AUC_score 0.8580878197373294\n"
     ]
    },
    {
     "data": {
      "text/plain": "<Figure size 640x480 with 1 Axes>",
      "image/png": "[encoded data removed]"
     },
     "metadata": {},
     "output_type": "display_data"
    }
   ],
   "source": [
    "# Построим ROC кривую для лучшей модели на тестовой выборке.\n",
    "r_forest_ne_prob = best_model_r_forest_ne.predict_proba(features_test)[:,1]\n",
    "\n",
    "fig = plt.figure()\n",
    "ax = fig.add_subplot()\n",
    "plt.title('ROC кривая для лучшей модели на основе случайного леса на тестовой выборке')\n",
    "ax.set_xlabel('false positive rate')\n",
    "ax.set_ylabel('true positive rate')\n",
    "fpr, tpr, threshold =  roc_curve(target_test, r_forest_ne_prob)\n",
    "random_forest_nest_tuned, = ax.plot(fpr, tpr, label='random_forest_nest_tuned')\n",
    "plt.plot();\n",
    "\n",
    "print('ROC-AUC_score',\n",
    "      roc_auc_score(target_test, r_forest_ne_prob))"
   ]
  },
  {
   "cell_type": "markdown",
   "metadata": {},
   "source": [
    "Подводя небольшой промежуточный итог можно сказать что мы вышли на целвой показатель F1 - 0.59 до методов оверсемплинга."
   ]
  },
  {
   "cell_type": "markdown",
   "metadata": {},
   "source": [
    "## Борьба с дисбалансом"
   ]
  },
  {
   "cell_type": "markdown",
   "metadata": {},
   "source": [
    "Для борьбы с дисбалансом в классах я решил использовать популярный алгоритм the Synthetic Minority Oversampling Technique (SMOTE)."
   ]
  },
  {
   "cell_type": "code",
   "execution_count": 20,
   "metadata": {
    "ExecuteTime": {
     "end_time": "2024-02-20T17:58:39.102671354Z",
     "start_time": "2024-02-20T17:58:38.781393783Z"
    }
   },
   "outputs": [],
   "source": [
    "smote = SMOTE(random_state=12345)\n",
    "features_train_r, target_train_r = smote.fit_resample(features_train, target_train)"
   ]
  },
  {
   "cell_type": "markdown",
   "metadata": {},
   "source": [
    "Проверим данные на моделях, расширив диапазон поиска оптимальных значений."
   ]
  },
  {
   "cell_type": "code",
   "execution_count": 21,
   "metadata": {
    "ExecuteTime": {
     "end_time": "2024-02-20T17:58:42.364242437Z",
     "start_time": "2024-02-20T17:58:38.837388915Z"
    }
   },
   "outputs": [
    {
     "data": {
      "text/plain": "          F1  depth\n8   0.584711      9\n7   0.584615      8\n6   0.579651      7\n5   0.569790      6\n9   0.564604     10\n3   0.559846      4\n2   0.557110      3\n10  0.550162     11\n4   0.544564      5\n11  0.542735     12",
      "text/html": "<div>\n<style scoped>\n    .dataframe tbody tr th:only-of-type {\n        vertical-align: middle;\n    }\n\n    .dataframe tbody tr th {\n        vertical-align: top;\n    }\n\n    .dataframe thead th {\n        text-align: right;\n    }\n</style>\n<table border=\"1\" class=\"dataframe\">\n  <thead>\n    <tr style=\"text-align: right;\">\n      <th></th>\n      <th>F1</th>\n      <th>depth</th>\n    </tr>\n  </thead>\n  <tbody>\n    <tr>\n      <th>8</th>\n      <td>0.584711</td>\n      <td>9</td>\n    </tr>\n    <tr>\n      <th>7</th>\n      <td>0.584615</td>\n      <td>8</td>\n    </tr>\n    <tr>\n      <th>6</th>\n      <td>0.579651</td>\n      <td>7</td>\n    </tr>\n    <tr>\n      <th>5</th>\n      <td>0.569790</td>\n      <td>6</td>\n    </tr>\n    <tr>\n      <th>9</th>\n      <td>0.564604</td>\n      <td>10</td>\n    </tr>\n    <tr>\n      <th>3</th>\n      <td>0.559846</td>\n      <td>4</td>\n    </tr>\n    <tr>\n      <th>2</th>\n      <td>0.557110</td>\n      <td>3</td>\n    </tr>\n    <tr>\n      <th>10</th>\n      <td>0.550162</td>\n      <td>11</td>\n    </tr>\n    <tr>\n      <th>4</th>\n      <td>0.544564</td>\n      <td>5</td>\n    </tr>\n    <tr>\n      <th>11</th>\n      <td>0.542735</td>\n      <td>12</td>\n    </tr>\n  </tbody>\n</table>\n</div>"
     },
     "metadata": {},
     "output_type": "display_data"
    }
   ],
   "source": [
    "best_model_d_tree = get_best_model(50,\n",
    "                                   DecisionTreeClassifier,\n",
    "                                   features_train_r,\n",
    "                                   features_test,\n",
    "                                   target_train_r,\n",
    "                                   target_test\n",
    "                                   )"
   ]
  },
  {
   "cell_type": "code",
   "execution_count": 22,
   "metadata": {
    "ExecuteTime": {
     "end_time": "2024-02-20T17:59:59.427204412Z",
     "start_time": "2024-02-20T17:58:42.348932630Z"
    }
   },
   "outputs": [
    {
     "data": {
      "text/plain": "          F1  depth\n7   0.642857      8\n11  0.642599     12\n9   0.642523     10\n8   0.642438      9\n14  0.638509     15\n10  0.637647     11\n12  0.637019     13\n6   0.635104      7\n18  0.629492     19\n13  0.628221     14",
      "text/html": "<div>\n<style scoped>\n    .dataframe tbody tr th:only-of-type {\n        vertical-align: middle;\n    }\n\n    .dataframe tbody tr th {\n        vertical-align: top;\n    }\n\n    .dataframe thead th {\n        text-align: right;\n    }\n</style>\n<table border=\"1\" class=\"dataframe\">\n  <thead>\n    <tr style=\"text-align: right;\">\n      <th></th>\n      <th>F1</th>\n      <th>depth</th>\n    </tr>\n  </thead>\n  <tbody>\n    <tr>\n      <th>7</th>\n      <td>0.642857</td>\n      <td>8</td>\n    </tr>\n    <tr>\n      <th>11</th>\n      <td>0.642599</td>\n      <td>12</td>\n    </tr>\n    <tr>\n      <th>9</th>\n      <td>0.642523</td>\n      <td>10</td>\n    </tr>\n    <tr>\n      <th>8</th>\n      <td>0.642438</td>\n      <td>9</td>\n    </tr>\n    <tr>\n      <th>14</th>\n      <td>0.638509</td>\n      <td>15</td>\n    </tr>\n    <tr>\n      <th>10</th>\n      <td>0.637647</td>\n      <td>11</td>\n    </tr>\n    <tr>\n      <th>12</th>\n      <td>0.637019</td>\n      <td>13</td>\n    </tr>\n    <tr>\n      <th>6</th>\n      <td>0.635104</td>\n      <td>7</td>\n    </tr>\n    <tr>\n      <th>18</th>\n      <td>0.629492</td>\n      <td>19</td>\n    </tr>\n    <tr>\n      <th>13</th>\n      <td>0.628221</td>\n      <td>14</td>\n    </tr>\n  </tbody>\n</table>\n</div>"
     },
     "metadata": {},
     "output_type": "display_data"
    }
   ],
   "source": [
    "best_model_r_forest = get_best_model(50,\n",
    "                                     RandomForestClassifier,\n",
    "                                     features_train_r,\n",
    "                                     features_test,\n",
    "                                     target_train_r,\n",
    "                                     target_test\n",
    "                                     )"
   ]
  },
  {
   "cell_type": "code",
   "execution_count": 23,
   "metadata": {
    "ExecuteTime": {
     "end_time": "2024-02-20T18:00:27.584932935Z",
     "start_time": "2024-02-20T17:59:59.409386282Z"
    }
   },
   "outputs": [
    {
     "data": {
      "text/plain": "          F1  n_estimators\n3   0.643021            80\n4   0.642857           100\n6   0.640821           140\n2   0.640091            60\n1   0.639080            40\n5   0.638540           120\n12  0.637615           260\n14  0.636156           300\n11  0.636051           240\n13  0.636051           280",
      "text/html": "<div>\n<style scoped>\n    .dataframe tbody tr th:only-of-type {\n        vertical-align: middle;\n    }\n\n    .dataframe tbody tr th {\n        vertical-align: top;\n    }\n\n    .dataframe thead th {\n        text-align: right;\n    }\n</style>\n<table border=\"1\" class=\"dataframe\">\n  <thead>\n    <tr style=\"text-align: right;\">\n      <th></th>\n      <th>F1</th>\n      <th>n_estimators</th>\n    </tr>\n  </thead>\n  <tbody>\n    <tr>\n      <th>3</th>\n      <td>0.643021</td>\n      <td>80</td>\n    </tr>\n    <tr>\n      <th>4</th>\n      <td>0.642857</td>\n      <td>100</td>\n    </tr>\n    <tr>\n      <th>6</th>\n      <td>0.640821</td>\n      <td>140</td>\n    </tr>\n    <tr>\n      <th>2</th>\n      <td>0.640091</td>\n      <td>60</td>\n    </tr>\n    <tr>\n      <th>1</th>\n      <td>0.639080</td>\n      <td>40</td>\n    </tr>\n    <tr>\n      <th>5</th>\n      <td>0.638540</td>\n      <td>120</td>\n    </tr>\n    <tr>\n      <th>12</th>\n      <td>0.637615</td>\n      <td>260</td>\n    </tr>\n    <tr>\n      <th>14</th>\n      <td>0.636156</td>\n      <td>300</td>\n    </tr>\n    <tr>\n      <th>11</th>\n      <td>0.636051</td>\n      <td>240</td>\n    </tr>\n    <tr>\n      <th>13</th>\n      <td>0.636051</td>\n      <td>280</td>\n    </tr>\n  </tbody>\n</table>\n</div>"
     },
     "metadata": {},
     "output_type": "display_data"
    }
   ],
   "source": [
    "best_model_r_forest_ne = get_best_model_ne(300,\n",
    "                                           RandomForestClassifier,\n",
    "                                           features_train_r,\n",
    "                                           features_test,\n",
    "                                           target_train_r,\n",
    "                                           target_test,\n",
    "                                           8)"
   ]
  },
  {
   "cell_type": "code",
   "execution_count": 24,
   "metadata": {
    "ExecuteTime": {
     "end_time": "2024-02-20T18:00:28.296957867Z",
     "start_time": "2024-02-20T18:00:27.588543716Z"
    }
   },
   "outputs": [
    {
     "name": "stdout",
     "output_type": "stream",
     "text": [
      "0.5017857142857144 newton-cg\n",
      "0.5017857142857144 lbfgs\n",
      "0.5017857142857144 liblinear\n",
      "0.5017857142857144 sag\n",
      "0.5017857142857144 saga\n"
     ]
    }
   ],
   "source": [
    "for solver in ['newton-cg', 'lbfgs', 'liblinear', 'sag', 'saga']:\n",
    "    model_logistic = LogisticRegression(random_state=777, solver=solver)\n",
    "    model_logistic.fit(features_train_r, target_train_r)\n",
    "    model_pred = model_logistic.predict(features_test)\n",
    "    print(f1_score(target_test, model_pred), solver)"
   ]
  },
  {
   "cell_type": "markdown",
   "metadata": {},
   "source": [
    "Проверим лес другим алгоритмом."
   ]
  },
  {
   "cell_type": "code",
   "execution_count": 25,
   "metadata": {
    "ExecuteTime": {
     "end_time": "2024-02-20T18:01:43.733628281Z",
     "start_time": "2024-02-20T18:00:28.138022461Z"
    }
   },
   "outputs": [
    {
     "name": "stdout",
     "output_type": "stream",
     "text": [
      "n_estimators = 100 max_depth = 12 F1 = 0.6400937866354045 AUC-ROC = 0.8592833446514688\n",
      "n_estimators = 100 max_depth = 14 F1 = 0.6305655836341757 AUC-ROC = 0.8567221480172273\n",
      "n_estimators = 100 max_depth = 16 F1 = 0.6317073170731707 AUC-ROC = 0.8570159698143074\n",
      "n_estimators = 100 max_depth = 18 F1 = 0.6403940886699508 AUC-ROC = 0.8608041722695187\n",
      "n_estimators = 100 max_depth = 20 F1 = 0.6362515413070282 AUC-ROC = 0.8556705358200252\n",
      "n_estimators = 120 max_depth = 12 F1 = 0.6360424028268551 AUC-ROC = 0.8597900373423518\n",
      "n_estimators = 120 max_depth = 14 F1 = 0.6344993968636913 AUC-ROC = 0.857571382956237\n",
      "n_estimators = 120 max_depth = 16 F1 = 0.6404907975460122 AUC-ROC = 0.8576051124992692\n",
      "n_estimators = 120 max_depth = 18 F1 = 0.6360248447204969 AUC-ROC = 0.861169950425067\n",
      "n_estimators = 120 max_depth = 20 F1 = 0.6311881188118812 AUC-ROC = 0.8566441952955531\n",
      "n_estimators = 140 max_depth = 12 F1 = 0.6366863905325444 AUC-ROC = 0.8604901127466191\n",
      "n_estimators = 140 max_depth = 14 F1 = 0.6366950182260025 AUC-ROC = 0.8581845110940215\n",
      "n_estimators = 140 max_depth = 16 F1 = 0.6337854500616522 AUC-ROC = 0.8581425365515813\n",
      "n_estimators = 140 max_depth = 18 F1 = 0.6460396039603961 AUC-ROC = 0.8601108427738576\n",
      "n_estimators = 140 max_depth = 20 F1 = 0.6328800988875154 AUC-ROC = 0.8576253502250886\n",
      "n_estimators = 160 max_depth = 12 F1 = 0.6382978723404256 AUC-ROC = 0.8610687617959707\n",
      "n_estimators = 160 max_depth = 14 F1 = 0.6408706166868199 AUC-ROC = 0.85839288471542\n",
      "n_estimators = 160 max_depth = 16 F1 = 0.6331288343558282 AUC-ROC = 0.8576178547710813\n",
      "n_estimators = 160 max_depth = 18 F1 = 0.6361386138613861 AUC-ROC = 0.8595831628117547\n",
      "n_estimators = 160 max_depth = 20 F1 = 0.635118306351183 AUC-ROC = 0.8579903788352364\n",
      "n_estimators = 180 max_depth = 12 F1 = 0.6374407582938388 AUC-ROC = 0.8612741372357666\n",
      "n_estimators = 180 max_depth = 14 F1 = 0.6351515151515152 AUC-ROC = 0.8587136901469259\n",
      "n_estimators = 180 max_depth = 16 F1 = 0.6364749082007344 AUC-ROC = 0.8581185510987585\n",
      "n_estimators = 180 max_depth = 18 F1 = 0.6368159203980099 AUC-ROC = 0.8598455037020047\n",
      "n_estimators = 180 max_depth = 20 F1 = 0.6369268897149939 AUC-ROC = 0.8587256828733374\n",
      "n_estimators = 200 max_depth = 12 F1 = 0.640661938534279 AUC-ROC = 0.8624389307884768\n",
      "n_estimators = 200 max_depth = 14 F1 = 0.6384522370012091 AUC-ROC = 0.8583793928982073\n",
      "n_estimators = 200 max_depth = 16 F1 = 0.6355828220858896 AUC-ROC = 0.8575586406844248\n",
      "n_estimators = 200 max_depth = 18 F1 = 0.6376089663760897 AUC-ROC = 0.8595546800865275\n",
      "n_estimators = 200 max_depth = 20 F1 = 0.6435643564356436 AUC-ROC = 0.8588253724116323\n"
     ]
    }
   ],
   "source": [
    "for estim in range(100, 201, 20):\n",
    "    for depth in range(12, 21, 2):\n",
    "        model = RandomForestClassifier(random_state=12345, n_estimators=estim, max_depth=depth)\n",
    "\n",
    "        model.fit(features_train_r, target_train_r)\n",
    "        predicted_test = model.predict(features_test)\n",
    "        probablities_test = model.predict_proba(features_test)[:, 1]\n",
    "\n",
    "        print(\"n_estimators =\", estim,\n",
    "              \"max_depth =\", depth,\n",
    "              'F1 =', f1_score(target_test, predicted_test),\n",
    "              'AUC-ROC =', roc_auc_score(target_test, probablities_test)\n",
    "             )"
   ]
  },
  {
   "cell_type": "markdown",
   "metadata": {},
   "source": [
    "Лучше всего показала себя модель с максимальной глубиной 8 и 80 деревьями. Запомним эти цифры."
   ]
  },
  {
   "cell_type": "code",
   "execution_count": 26,
   "metadata": {
    "ExecuteTime": {
     "end_time": "2024-02-20T18:01:44.941859452Z",
     "start_time": "2024-02-20T18:01:43.739229073Z"
    }
   },
   "outputs": [
    {
     "name": "stdout",
     "output_type": "stream",
     "text": [
      "ROC-AUC_score 0.8578029924850579\n"
     ]
    },
    {
     "data": {
      "text/plain": "<Figure size 640x480 with 1 Axes>",
      "image/png": "[encoded data removed]"
     },
     "metadata": {},
     "output_type": "display_data"
    }
   ],
   "source": [
    "# Построим ROC кривую для модели на тестовой выборке.\n",
    "model = RandomForestClassifier(random_state=7765, n_estimators=80, max_depth=8)\n",
    "model.fit(features_train_r, target_train_r)\n",
    "\n",
    "random_forest_prob = model.predict_proba(features_test)[:,1]\n",
    "\n",
    "fig = plt.figure()\n",
    "ax = fig.add_subplot()\n",
    "plt.title('ROC кривая для лучшей модели на основе случайного леса на данных SMOTE')\n",
    "ax.set_xlabel('false positive rate')\n",
    "ax.set_ylabel('true positive rate')\n",
    "fpr, tpr, threshold =  roc_curve(target_test, random_forest_prob)\n",
    "rf_tuned, = ax.plot(fpr, tpr, label='rf_tuned')\n",
    "plt.plot();\n",
    "\n",
    "print('ROC-AUC_score',\n",
    "      roc_auc_score(target_test, random_forest_prob))"
   ]
  },
  {
   "cell_type": "markdown",
   "metadata": {},
   "source": [
    "Модель показывает неплохой результат и площадь под кривой занимает более 80% на графике."
   ]
  },
  {
   "cell_type": "markdown",
   "metadata": {},
   "source": [
    "Попробуем другой метод борьбы с несбалансированной выборкой."
   ]
  },
  {
   "cell_type": "code",
   "execution_count": 27,
   "metadata": {
    "ExecuteTime": {
     "end_time": "2024-02-20T18:01:45.066347763Z",
     "start_time": "2024-02-20T18:01:44.945027565Z"
    }
   },
   "outputs": [],
   "source": [
    "adasyn = ADASYN(random_state=442)\n",
    "features_train_r, target_train_r = adasyn.fit_resample(features_train, target_train)"
   ]
  },
  {
   "cell_type": "code",
   "execution_count": 28,
   "metadata": {
    "ExecuteTime": {
     "end_time": "2024-02-20T18:01:47.425504009Z",
     "start_time": "2024-02-20T18:01:45.060226023Z"
    }
   },
   "outputs": [
    {
     "data": {
      "text/plain": "          F1  depth\n6   0.583421      7\n7   0.577465      8\n3   0.571116      4\n5   0.567669      6\n8   0.565079      9\n4   0.558325      5\n9   0.550155     10\n11  0.524168     12\n10  0.521645     11\n12  0.517497     13",
      "text/html": "<div>\n<style scoped>\n    .dataframe tbody tr th:only-of-type {\n        vertical-align: middle;\n    }\n\n    .dataframe tbody tr th {\n        vertical-align: top;\n    }\n\n    .dataframe thead th {\n        text-align: right;\n    }\n</style>\n<table border=\"1\" class=\"dataframe\">\n  <thead>\n    <tr style=\"text-align: right;\">\n      <th></th>\n      <th>F1</th>\n      <th>depth</th>\n    </tr>\n  </thead>\n  <tbody>\n    <tr>\n      <th>6</th>\n      <td>0.583421</td>\n      <td>7</td>\n    </tr>\n    <tr>\n      <th>7</th>\n      <td>0.577465</td>\n      <td>8</td>\n    </tr>\n    <tr>\n      <th>3</th>\n      <td>0.571116</td>\n      <td>4</td>\n    </tr>\n    <tr>\n      <th>5</th>\n      <td>0.567669</td>\n      <td>6</td>\n    </tr>\n    <tr>\n      <th>8</th>\n      <td>0.565079</td>\n      <td>9</td>\n    </tr>\n    <tr>\n      <th>4</th>\n      <td>0.558325</td>\n      <td>5</td>\n    </tr>\n    <tr>\n      <th>9</th>\n      <td>0.550155</td>\n      <td>10</td>\n    </tr>\n    <tr>\n      <th>11</th>\n      <td>0.524168</td>\n      <td>12</td>\n    </tr>\n    <tr>\n      <th>10</th>\n      <td>0.521645</td>\n      <td>11</td>\n    </tr>\n    <tr>\n      <th>12</th>\n      <td>0.517497</td>\n      <td>13</td>\n    </tr>\n  </tbody>\n</table>\n</div>"
     },
     "metadata": {},
     "output_type": "display_data"
    }
   ],
   "source": [
    "best_model_d_tree = get_best_model(40,\n",
    "                                   DecisionTreeClassifier,\n",
    "                                   features_train_r,\n",
    "                                   features_test,\n",
    "                                   target_train_r,\n",
    "                                   target_test\n",
    "                                   )"
   ]
  },
  {
   "cell_type": "code",
   "execution_count": 29,
   "metadata": {
    "ExecuteTime": {
     "end_time": "2024-02-20T18:02:48.494112778Z",
     "start_time": "2024-02-20T18:01:47.429444334Z"
    }
   },
   "outputs": [
    {
     "data": {
      "text/plain": "          F1  depth\n8   0.637874      9\n9   0.631101     10\n10  0.630385     11\n12  0.629371     13\n13  0.629240     14\n7   0.628821      8\n15  0.628099     16\n11  0.627451     12\n14  0.626651     15\n5   0.625793      6",
      "text/html": "<div>\n<style scoped>\n    .dataframe tbody tr th:only-of-type {\n        vertical-align: middle;\n    }\n\n    .dataframe tbody tr th {\n        vertical-align: top;\n    }\n\n    .dataframe thead th {\n        text-align: right;\n    }\n</style>\n<table border=\"1\" class=\"dataframe\">\n  <thead>\n    <tr style=\"text-align: right;\">\n      <th></th>\n      <th>F1</th>\n      <th>depth</th>\n    </tr>\n  </thead>\n  <tbody>\n    <tr>\n      <th>8</th>\n      <td>0.637874</td>\n      <td>9</td>\n    </tr>\n    <tr>\n      <th>9</th>\n      <td>0.631101</td>\n      <td>10</td>\n    </tr>\n    <tr>\n      <th>10</th>\n      <td>0.630385</td>\n      <td>11</td>\n    </tr>\n    <tr>\n      <th>12</th>\n      <td>0.629371</td>\n      <td>13</td>\n    </tr>\n    <tr>\n      <th>13</th>\n      <td>0.629240</td>\n      <td>14</td>\n    </tr>\n    <tr>\n      <th>7</th>\n      <td>0.628821</td>\n      <td>8</td>\n    </tr>\n    <tr>\n      <th>15</th>\n      <td>0.628099</td>\n      <td>16</td>\n    </tr>\n    <tr>\n      <th>11</th>\n      <td>0.627451</td>\n      <td>12</td>\n    </tr>\n    <tr>\n      <th>14</th>\n      <td>0.626651</td>\n      <td>15</td>\n    </tr>\n    <tr>\n      <th>5</th>\n      <td>0.625793</td>\n      <td>6</td>\n    </tr>\n  </tbody>\n</table>\n</div>"
     },
     "metadata": {},
     "output_type": "display_data"
    }
   ],
   "source": [
    "best_model_r_forest = get_best_model(40,\n",
    "                                     RandomForestClassifier,\n",
    "                                     features_train_r,\n",
    "                                     features_test,\n",
    "                                     target_train_r,\n",
    "                                     target_test\n",
    "                                     )"
   ]
  },
  {
   "cell_type": "code",
   "execution_count": 30,
   "metadata": {
    "ExecuteTime": {
     "end_time": "2024-02-20T18:03:18.797981256Z",
     "start_time": "2024-02-20T18:02:48.464654836Z"
    }
   },
   "outputs": [
    {
     "data": {
      "text/plain": "          F1  n_estimators\n8   0.639381           180\n5   0.638581           120\n7   0.638581           160\n4   0.637874           100\n6   0.637874           140\n3   0.637266            80\n9   0.637266           200\n11  0.636564           240\n12  0.636564           260\n13  0.636564           280",
      "text/html": "<div>\n<style scoped>\n    .dataframe tbody tr th:only-of-type {\n        vertical-align: middle;\n    }\n\n    .dataframe tbody tr th {\n        vertical-align: top;\n    }\n\n    .dataframe thead th {\n        text-align: right;\n    }\n</style>\n<table border=\"1\" class=\"dataframe\">\n  <thead>\n    <tr style=\"text-align: right;\">\n      <th></th>\n      <th>F1</th>\n      <th>n_estimators</th>\n    </tr>\n  </thead>\n  <tbody>\n    <tr>\n      <th>8</th>\n      <td>0.639381</td>\n      <td>180</td>\n    </tr>\n    <tr>\n      <th>5</th>\n      <td>0.638581</td>\n      <td>120</td>\n    </tr>\n    <tr>\n      <th>7</th>\n      <td>0.638581</td>\n      <td>160</td>\n    </tr>\n    <tr>\n      <th>4</th>\n      <td>0.637874</td>\n      <td>100</td>\n    </tr>\n    <tr>\n      <th>6</th>\n      <td>0.637874</td>\n      <td>140</td>\n    </tr>\n    <tr>\n      <th>3</th>\n      <td>0.637266</td>\n      <td>80</td>\n    </tr>\n    <tr>\n      <th>9</th>\n      <td>0.637266</td>\n      <td>200</td>\n    </tr>\n    <tr>\n      <th>11</th>\n      <td>0.636564</td>\n      <td>240</td>\n    </tr>\n    <tr>\n      <th>12</th>\n      <td>0.636564</td>\n      <td>260</td>\n    </tr>\n    <tr>\n      <th>13</th>\n      <td>0.636564</td>\n      <td>280</td>\n    </tr>\n  </tbody>\n</table>\n</div>"
     },
     "metadata": {},
     "output_type": "display_data"
    }
   ],
   "source": [
    "best_model_r_forest_ne = get_best_model_ne(300,\n",
    "                                           RandomForestClassifier,\n",
    "                                           features_train_r,\n",
    "                                           features_test,\n",
    "                                           target_train_r,\n",
    "                                           target_test,\n",
    "                                           9)"
   ]
  },
  {
   "cell_type": "code",
   "execution_count": 31,
   "metadata": {
    "ExecuteTime": {
     "end_time": "2024-02-20T18:03:19.500178514Z",
     "start_time": "2024-02-20T18:03:18.768734454Z"
    }
   },
   "outputs": [
    {
     "name": "stdout",
     "output_type": "stream",
     "text": [
      "0.49823321554770317 newton-cg\n",
      "0.49823321554770317 lbfgs\n",
      "0.49690539345711754 liblinear\n",
      "0.49823321554770317 sag\n",
      "0.49823321554770317 saga\n"
     ]
    }
   ],
   "source": [
    "for solver in ['newton-cg', 'lbfgs', 'liblinear', 'sag', 'saga']:\n",
    "    model_logistic = LogisticRegression(random_state=777, solver=solver)\n",
    "    model_logistic.fit(features_train_r, target_train_r)\n",
    "    model_pred = model_logistic.predict(features_test)\n",
    "    print(f1_score(target_test, model_pred), solver)"
   ]
  },
  {
   "cell_type": "code",
   "execution_count": 32,
   "metadata": {
    "ExecuteTime": {
     "end_time": "2024-02-20T18:04:34.358196049Z",
     "start_time": "2024-02-20T18:03:19.374593138Z"
    }
   },
   "outputs": [
    {
     "name": "stdout",
     "output_type": "stream",
     "text": [
      "n_estimators = 100 max_depth = 12 F1 = 0.6277205040091639 AUC-ROC = 0.8539405850351762\n",
      "n_estimators = 100 max_depth = 14 F1 = 0.6296296296296295 AUC-ROC = 0.8541197263859469\n",
      "n_estimators = 100 max_depth = 16 F1 = 0.6183115338882283 AUC-ROC = 0.8486607872325436\n",
      "n_estimators = 100 max_depth = 18 F1 = 0.6254458977407847 AUC-ROC = 0.8531265787300004\n",
      "n_estimators = 100 max_depth = 20 F1 = 0.6239419588875454 AUC-ROC = 0.8518710901838036\n",
      "n_estimators = 120 max_depth = 12 F1 = 0.6321839080459771 AUC-ROC = 0.8543588313687748\n",
      "n_estimators = 120 max_depth = 14 F1 = 0.6281755196304849 AUC-ROC = 0.8552410463054158\n",
      "n_estimators = 120 max_depth = 16 F1 = 0.6230677764565993 AUC-ROC = 0.8498668057822929\n",
      "n_estimators = 120 max_depth = 18 F1 = 0.6276849642004773 AUC-ROC = 0.8533169632617817\n",
      "n_estimators = 120 max_depth = 20 F1 = 0.6209386281588447 AUC-ROC = 0.8531625569092347\n",
      "n_estimators = 140 max_depth = 12 F1 = 0.629418472063854 AUC-ROC = 0.8549749576881622\n",
      "n_estimators = 140 max_depth = 14 F1 = 0.6280417149478563 AUC-ROC = 0.8559613594355024\n",
      "n_estimators = 140 max_depth = 16 F1 = 0.6197854588796186 AUC-ROC = 0.8511942506869584\n",
      "n_estimators = 140 max_depth = 18 F1 = 0.6302021403091558 AUC-ROC = 0.8544180454554314\n",
      "n_estimators = 140 max_depth = 20 F1 = 0.623030303030303 AUC-ROC = 0.8543775700037927\n",
      "n_estimators = 160 max_depth = 12 F1 = 0.6338672768878719 AUC-ROC = 0.8559283794378708\n",
      "n_estimators = 160 max_depth = 14 F1 = 0.6317016317016317 AUC-ROC = 0.8564830430343997\n",
      "n_estimators = 160 max_depth = 16 F1 = 0.6223277909738717 AUC-ROC = 0.851547286570695\n",
      "n_estimators = 160 max_depth = 18 F1 = 0.6223277909738717 AUC-ROC = 0.8542201654696426\n",
      "n_estimators = 160 max_depth = 20 F1 = 0.6222760290556901 AUC-ROC = 0.8547868217925828\n",
      "n_estimators = 180 max_depth = 12 F1 = 0.6355353075170843 AUC-ROC = 0.855833936717381\n",
      "n_estimators = 180 max_depth = 14 F1 = 0.6356228172293366 AUC-ROC = 0.8569717466356654\n",
      "n_estimators = 180 max_depth = 16 F1 = 0.6206896551724138 AUC-ROC = 0.8517736492817107\n",
      "n_estimators = 180 max_depth = 18 F1 = 0.6252983293556086 AUC-ROC = 0.8544855045414956\n",
      "n_estimators = 180 max_depth = 20 F1 = 0.6206060606060606 AUC-ROC = 0.8545851940797906\n",
      "n_estimators = 200 max_depth = 12 F1 = 0.6308571428571429 AUC-ROC = 0.8556495485488053\n",
      "n_estimators = 200 max_depth = 14 F1 = 0.63121387283237 AUC-ROC = 0.8571456411686311\n",
      "n_estimators = 200 max_depth = 16 F1 = 0.6263345195729537 AUC-ROC = 0.8526281310385252\n",
      "n_estimators = 200 max_depth = 18 F1 = 0.6214285714285714 AUC-ROC = 0.8547718308845685\n",
      "n_estimators = 200 max_depth = 20 F1 = 0.6215235792019347 AUC-ROC = 0.8557042653630573\n"
     ]
    }
   ],
   "source": [
    "# Посмотрим что покажет альтернативный алгоритм случайного леса\n",
    "for estim in range(100, 201, 20):\n",
    "    for depth in range(12, 21, 2):\n",
    "        model = RandomForestClassifier(random_state=12345, n_estimators=estim, max_depth=depth)\n",
    "\n",
    "        model.fit(features_train_r, target_train_r)\n",
    "        predicted_test = model.predict(features_test)\n",
    "        probablities_test = model.predict_proba(features_test)[:, 1]\n",
    "\n",
    "        print(\"n_estimators =\", estim,\n",
    "              \"max_depth =\", depth,\n",
    "              'F1 =', f1_score(target_test, predicted_test),\n",
    "              'AUC-ROC =', roc_auc_score(target_test, probablities_test)\n",
    "             )"
   ]
  },
  {
   "cell_type": "markdown",
   "metadata": {},
   "source": [
    "Получились неплохие результаты, рекорд удерживает алгоритм случайного леса с F1 = 0.643021 на данных SMOTE."
   ]
  },
  {
   "cell_type": "code",
   "execution_count": 33,
   "metadata": {
    "ExecuteTime": {
     "end_time": "2024-02-20T18:04:34.897772672Z",
     "start_time": "2024-02-20T18:04:34.374292339Z"
    }
   },
   "outputs": [
    {
     "name": "stdout",
     "output_type": "stream",
     "text": [
      "              Classifier     Score\n",
      "0          decision_tree  0.812928\n",
      "1          random_forest  0.851981\n",
      "2  random_forest_ne_prob  0.852695\n",
      "3    logistic_regression  0.759610\n"
     ]
    },
    {
     "data": {
      "text/plain": "<Figure size 640x480 with 1 Axes>",
      "image/png": "[encoded data removed]"
     },
     "metadata": {},
     "output_type": "display_data"
    }
   ],
   "source": [
    "d_tree_prob = best_model_d_tree.predict_proba(features_test)[:,1]\n",
    "r_forest_prob = best_model_r_forest.predict_proba(features_test)[:,1]\n",
    "r_forest_ne_prob = best_model_r_forest_ne.predict_proba(features_test)[:,1]\n",
    "logistic_prob = model_logistic.predict_proba(features_test)[:,1]\n",
    "\n",
    "fig = plt.figure()\n",
    "ax = fig.add_subplot()\n",
    "plt.title('ROC кривые для различных моделей')\n",
    "ax.set_xlabel('false positive rate')\n",
    "ax.set_ylabel('true positive rate')\n",
    "fpr, tpr, threshold =  roc_curve(target_test, d_tree_prob)\n",
    "decision_tree, = ax.plot(fpr, tpr, label='decision_tree')\n",
    "fpr, tpr, threshold =  roc_curve(target_test, r_forest_prob)\n",
    "random_forest, = ax.plot(fpr, tpr, label='random_forest')\n",
    "fpr, tpr, threshold =  roc_curve(target_test, r_forest_ne_prob)\n",
    "random_forest_nest_tuned, = ax.plot(fpr, tpr, label='random_forest_nest_tuned')\n",
    "fpr, tpr, threshold =  roc_curve(target_test, logistic_prob)\n",
    "logistic_regression, = ax.plot(fpr, tpr, label='logistics regression')\n",
    "ax.legend(handles=[decision_tree, random_forest, random_forest_nest_tuned, logistic_regression]);\n",
    "\n",
    "AUC_scores = {'Classifier':[], 'Score':[]}\n",
    "AUC_scores['Classifier'].append('decision_tree')\n",
    "AUC_scores['Score'].append(roc_auc_score(target_test, d_tree_prob))\n",
    "AUC_scores['Classifier'].append('random_forest')\n",
    "AUC_scores['Score'].append(roc_auc_score(target_test, r_forest_prob))\n",
    "AUC_scores['Classifier'].append('random_forest_ne_prob')\n",
    "AUC_scores['Score'].append(roc_auc_score(target_test, r_forest_ne_prob))\n",
    "AUC_scores['Classifier'].append('logistic_regression')\n",
    "AUC_scores['Score'].append(roc_auc_score(target_test, logistic_prob))\n",
    "print(pd.DataFrame(AUC_scores))"
   ]
  },
  {
   "cell_type": "markdown",
   "metadata": {},
   "source": [
    "Модели на основе случайного леса достаточно близки, на втором месте решающее дерево, логистическая регрессия хуже всех."
   ]
  },
  {
   "cell_type": "code",
   "execution_count": 34,
   "metadata": {
    "ExecuteTime": {
     "end_time": "2024-02-20T18:04:35.294896283Z",
     "start_time": "2024-02-20T18:04:34.901795474Z"
    }
   },
   "outputs": [
    {
     "name": "stdout",
     "output_type": "stream",
     "text": [
      "ROC-AUC_score 0.8526948405791888\n"
     ]
    },
    {
     "data": {
      "text/plain": "<Figure size 640x480 with 1 Axes>",
      "image/png": "[encoded data removed]"
     },
     "metadata": {},
     "output_type": "display_data"
    }
   ],
   "source": [
    "# Построим ROC кривую для лучшей модели на данных ADASYN.\n",
    "rf_prob = best_model_r_forest_ne.predict_proba(features_test)[:,1]\n",
    "\n",
    "fig = plt.figure()\n",
    "ax = fig.add_subplot()\n",
    "plt.title('ROC кривая для лучшей модели на основе решающего дерева на данных ADASYN')\n",
    "ax.set_xlabel('false positive rate')\n",
    "ax.set_ylabel('true positive rate')\n",
    "fpr, tpr, threshold =  roc_curve(target_test, rf_prob)\n",
    "rf_tuned, = ax.plot(fpr, tpr, label='rf_tuned')\n",
    "plt.plot();\n",
    "\n",
    "print('ROC-AUC_score',\n",
    "      roc_auc_score(target_test, rf_prob))"
   ]
  },
  {
   "cell_type": "markdown",
   "metadata": {},
   "source": [
    "Наилучшая модель на базе решающего дерева. Установленный порог в 0.59 преодолён. Результат чуть хуже чем на данных SMOTE."
   ]
  },
  {
   "cell_type": "markdown",
   "metadata": {},
   "source": [
    "## Тестирование модели"
   ]
  },
  {
   "cell_type": "markdown",
   "metadata": {},
   "source": [
    "Проверим модель на адекватность сравнением с моделью которая случайным образом угадывает 0 или 1. Пусть одна модель будет равновероятная, а вторая будет с вероятностью 1 угадывать 1. А также проверим модель на валидационной выборке."
   ]
  },
  {
   "cell_type": "code",
   "execution_count": 35,
   "metadata": {
    "ExecuteTime": {
     "end_time": "2024-02-20T18:04:36.355117279Z",
     "start_time": "2024-02-20T18:04:35.251294119Z"
    }
   },
   "outputs": [
    {
     "name": "stdout",
     "output_type": "stream",
     "text": [
      "fifty_fifty 0.3048433048433048\n",
      "one 0.33679833679833676\n",
      "best model 0.6016260162601625\n"
     ]
    }
   ],
   "source": [
    "fifty_fifty = np.random.choice([1, 0], 2000, p=[1/2, 1/2])\n",
    "one = np.random.choice([1, 0], 2000, p=[1, 0])\n",
    "\n",
    "smote = SMOTE(random_state=12345)\n",
    "features_train_r, target_train_r = smote.fit_resample(features_train, target_train)\n",
    "model = RandomForestClassifier(random_state=7765, n_estimators=80, max_depth=8)\n",
    "model.fit(features_train_r, target_train_r)\n",
    "best_model_predict = model.predict(features_val)\n",
    "\n",
    "print('fifty_fifty', f1_score(target_val, fifty_fifty))\n",
    "print('one', f1_score(target_val, one))\n",
    "print('best model', f1_score(target_val, best_model_predict))"
   ]
  },
  {
   "cell_type": "markdown",
   "metadata": {},
   "source": [
    "Самой хорошей моделью оказалась модель на базе решающих деревьев с параметрами n_est = 80 и max_depth = 8."
   ]
  },
  {
   "cell_type": "markdown",
   "metadata": {},
   "source": [
    "Построим ROC кривые для модели на валидационных данных и для абсурдных моделей."
   ]
  },
  {
   "cell_type": "code",
   "execution_count": 36,
   "metadata": {
    "ExecuteTime": {
     "end_time": "2024-02-20T18:04:36.788515108Z",
     "start_time": "2024-02-20T18:04:36.355963147Z"
    }
   },
   "outputs": [
    {
     "name": "stdout",
     "output_type": "stream",
     "text": [
      "ROC-AUC_score 0.5149451857448457\n"
     ]
    },
    {
     "data": {
      "text/plain": "<Figure size 640x480 with 1 Axes>",
      "image/png": "[encoded data removed]"
     },
     "metadata": {},
     "output_type": "display_data"
    }
   ],
   "source": [
    "# Построим ROC кривую для лучшей модели на данных ADASYN.\n",
    "rf_prob = model.predict_proba(features_val)[:,1]\n",
    "\n",
    "fig = plt.figure()\n",
    "ax = fig.add_subplot()\n",
    "plt.title('ROC кривая для лучшей модели на данных SMOTE')\n",
    "ax.set_xlabel('false positive rate')\n",
    "ax.set_ylabel('true positive rate')\n",
    "fpr, tpr, threshold =  roc_curve(target_val, rf_prob)\n",
    "rf_tuned = ax.plot(fpr, tpr, label='random_forest_SMOTE')\n",
    "plt.plot();\n",
    "fpr, tpr, threshold =  roc_curve(target_val, one)\n",
    "rf_tuned = ax.plot(fpr, tpr, label='always_ONE')\n",
    "plt.plot()\n",
    "fpr, tpr, threshold =  roc_curve(target_val, fifty_fifty)\n",
    "rf_tuned = ax.plot(fpr, tpr, label='Fifty/Fifty')\n",
    "plt.plot()\n",
    "ax.legend()\n",
    "\n",
    "\n",
    "print('ROC-AUC_score',\n",
    "      roc_auc_score(target_test, rf_prob))"
   ]
  },
  {
   "cell_type": "markdown",
   "metadata": {},
   "source": [
    "На графике видно что модель проходит проверку на адекватность."
   ]
  },
  {
   "cell_type": "markdown",
   "metadata": {},
   "source": [
    "## Вывод"
   ]
  },
  {
   "cell_type": "markdown",
   "metadata": {},
   "source": [
    "Для работы был предоставлен датасет в достаточно хорошем состоянии. 3 столбца с Фамилией, номером пользователя и.т.п. оказались лишними. В столбце \"Tenure\" было 10 процентов пропущенных значений, которые были заполнены медианой. Затем данные были стандартизованы.\n",
    "После предварительных преобразований была посчитана доля уходящих клиентов в выборке, их оказалось 20%, это говорит о том что данные не сбалансированы. После этого расчёта были предварительно прогнаны модели DecisionTreeClassifier, RandomForestClassifier и LogisticRegression, преодолеть планку в F1 >= 0.59 удалось преодолеть без балансировки. Лучше всего себя показала модель на основе случайного леса.\n",
    "Следующим этапом работы была балансировка и повторный прогон тех же моделей. Балансировка проводилась двумя методами: SMOTE и ADASYN. Результаты близки, но оверсемплинг SMOTE лучший результат. F1 на валидационной выборке у лучшей модели составила 0.6. Площадь под ROC кривыми у моделей на основе случайного леса всегда более 80.\n",
    "На этапе тестирования модели была проведена проверка на адекватность и валидация на валидационных данных.\n",
    "В итоге лучшей моделью оказалась модель на основе RandomForestClassifier глубиной в 8 ветвей и количеством деревьев 80, натренированной на оверсемпленных при помощи алгоритма SMOTE данных."
   ]
  }
 ],
 "metadata": {
  "ExecuteTimeLog": [
   {
    "duration": 42605,
    "start_time": "2023-08-13T02:22:05.892Z"
   },
   {
    "duration": 1953,
    "start_time": "2023-08-13T02:22:48.500Z"
   },
   {
    "duration": 229,
    "start_time": "2023-08-13T02:22:50.455Z"
   },
   {
    "duration": 62,
    "start_time": "2023-08-13T02:22:50.687Z"
   },
   {
    "duration": 577,
    "start_time": "2023-08-13T02:22:50.751Z"
   },
   {
    "duration": 16,
    "start_time": "2023-08-13T02:22:51.329Z"
   },
   {
    "duration": 4,
    "start_time": "2023-08-13T02:22:51.347Z"
   },
   {
    "duration": 13,
    "start_time": "2023-08-13T02:22:51.353Z"
   },
   {
    "duration": 598,
    "start_time": "2023-08-13T02:22:51.368Z"
   },
   {
    "duration": 454,
    "start_time": "2023-08-13T02:22:51.968Z"
   },
   {
    "duration": 180,
    "start_time": "2023-08-13T02:22:52.424Z"
   },
   {
    "duration": 8,
    "start_time": "2023-08-13T02:22:52.606Z"
   },
   {
    "duration": 100,
    "start_time": "2023-08-13T02:22:52.616Z"
   },
   {
    "duration": 37,
    "start_time": "2023-08-13T02:22:52.718Z"
   },
   {
    "duration": 428,
    "start_time": "2023-08-13T02:22:52.757Z"
   },
   {
    "duration": 10038,
    "start_time": "2023-08-13T02:22:53.187Z"
   },
   {
    "duration": 9360,
    "start_time": "2023-08-13T02:23:03.227Z"
   },
   {
    "duration": 822,
    "start_time": "2023-08-13T02:23:12.589Z"
   },
   {
    "duration": 820,
    "start_time": "2023-08-13T02:23:13.413Z"
   },
   {
    "duration": 95,
    "start_time": "2023-08-13T02:23:14.235Z"
   },
   {
    "duration": 2413,
    "start_time": "2023-08-13T02:23:14.331Z"
   },
   {
    "duration": 53884,
    "start_time": "2023-08-13T02:23:16.746Z"
   },
   {
    "duration": 24643,
    "start_time": "2023-08-13T02:24:10.632Z"
   },
   {
    "duration": 1120,
    "start_time": "2023-08-13T02:24:35.277Z"
   },
   {
    "duration": 207,
    "start_time": "2023-08-13T02:24:36.400Z"
   },
   {
    "duration": 259,
    "start_time": "2023-08-13T02:24:36.609Z"
   },
   {
    "duration": 2461,
    "start_time": "2023-08-13T02:24:36.870Z"
   },
   {
    "duration": 55664,
    "start_time": "2023-08-13T02:24:39.335Z"
   },
   {
    "duration": 25307,
    "start_time": "2023-08-13T02:25:35.001Z"
   },
   {
    "duration": 1020,
    "start_time": "2023-08-13T02:26:00.310Z"
   },
   {
    "duration": 271,
    "start_time": "2023-08-13T02:26:01.395Z"
   },
   {
    "duration": 874,
    "start_time": "2023-08-13T02:26:01.668Z"
   },
   {
    "duration": 193,
    "start_time": "2023-08-13T02:26:02.544Z"
   },
   {
    "duration": 535,
    "start_time": "2023-08-13T02:26:02.739Z"
   },
   {
    "duration": 41847,
    "start_time": "2023-08-19T11:39:58.043Z"
   },
   {
    "duration": 2114,
    "start_time": "2023-08-19T11:40:39.893Z"
   },
   {
    "duration": 163,
    "start_time": "2023-08-19T11:40:42.009Z"
   },
   {
    "duration": 56,
    "start_time": "2023-08-19T11:40:42.174Z"
   },
   {
    "duration": 531,
    "start_time": "2023-08-19T11:40:42.231Z"
   },
   {
    "duration": 13,
    "start_time": "2023-08-19T11:40:42.763Z"
   },
   {
    "duration": 4,
    "start_time": "2023-08-19T11:40:42.777Z"
   },
   {
    "duration": 5,
    "start_time": "2023-08-19T11:40:42.783Z"
   },
   {
    "duration": 392,
    "start_time": "2023-08-19T11:40:42.789Z"
   },
   {
    "duration": 2,
    "start_time": "2023-08-19T11:40:43.183Z"
   },
   {
    "duration": 202,
    "start_time": "2023-08-19T11:40:43.187Z"
   },
   {
    "duration": 7,
    "start_time": "2023-08-19T11:40:43.451Z"
   },
   {
    "duration": 10,
    "start_time": "2023-08-19T11:40:43.720Z"
   },
   {
    "duration": 4,
    "start_time": "2023-08-19T11:41:25.920Z"
   },
   {
    "duration": 9,
    "start_time": "2023-08-19T11:42:04.163Z"
   },
   {
    "duration": 3,
    "start_time": "2023-08-19T11:42:05.950Z"
   },
   {
    "duration": 9,
    "start_time": "2023-08-19T11:42:26.961Z"
   },
   {
    "duration": 3,
    "start_time": "2023-08-19T11:42:28.810Z"
   },
   {
    "duration": 9,
    "start_time": "2023-08-19T11:43:14.037Z"
   },
   {
    "duration": 3,
    "start_time": "2023-08-19T11:43:16.086Z"
   },
   {
    "duration": 4,
    "start_time": "2023-08-19T11:47:17.259Z"
   },
   {
    "duration": 9,
    "start_time": "2023-08-19T11:48:21.733Z"
   },
   {
    "duration": 13,
    "start_time": "2023-08-19T11:48:31.393Z"
   },
   {
    "duration": 25,
    "start_time": "2023-08-19T11:49:41.086Z"
   },
   {
    "duration": 142,
    "start_time": "2023-08-19T11:50:15.567Z"
   },
   {
    "duration": 25,
    "start_time": "2023-08-19T11:50:20.555Z"
   },
   {
    "duration": 142,
    "start_time": "2023-08-19T11:51:17.303Z"
   },
   {
    "duration": 16,
    "start_time": "2023-08-19T11:53:33.143Z"
   },
   {
    "duration": 15,
    "start_time": "2023-08-19T11:53:47.610Z"
   },
   {
    "duration": 17,
    "start_time": "2023-08-19T11:56:51.280Z"
   },
   {
    "duration": 10,
    "start_time": "2023-08-19T12:00:14.853Z"
   },
   {
    "duration": 24,
    "start_time": "2023-08-19T12:00:27.903Z"
   },
   {
    "duration": 16,
    "start_time": "2023-08-19T12:01:06.711Z"
   },
   {
    "duration": 16,
    "start_time": "2023-08-19T12:01:15.732Z"
   },
   {
    "duration": 22,
    "start_time": "2023-08-19T12:02:03.839Z"
   },
   {
    "duration": 16,
    "start_time": "2023-08-19T12:03:05.209Z"
   },
   {
    "duration": 20,
    "start_time": "2023-08-19T12:09:26.144Z"
   },
   {
    "duration": 21,
    "start_time": "2023-08-19T12:10:32.067Z"
   },
   {
    "duration": 21,
    "start_time": "2023-08-19T12:10:58.582Z"
   },
   {
    "duration": 14,
    "start_time": "2023-08-19T12:11:16.602Z"
   },
   {
    "duration": 12,
    "start_time": "2023-08-19T12:11:40.267Z"
   },
   {
    "duration": 25,
    "start_time": "2023-08-19T12:12:42.182Z"
   },
   {
    "duration": 34,
    "start_time": "2023-08-19T12:13:29.191Z"
   },
   {
    "duration": 29,
    "start_time": "2023-08-19T12:13:45.820Z"
   },
   {
    "duration": 27,
    "start_time": "2023-08-19T12:13:54.427Z"
   },
   {
    "duration": 36,
    "start_time": "2023-08-19T12:14:27.887Z"
   },
   {
    "duration": 36,
    "start_time": "2023-08-19T12:14:55.743Z"
   },
   {
    "duration": 39,
    "start_time": "2023-08-19T12:15:04.426Z"
   },
   {
    "duration": 36,
    "start_time": "2023-08-19T12:15:29.612Z"
   },
   {
    "duration": 27,
    "start_time": "2023-08-19T12:16:03.733Z"
   },
   {
    "duration": 105,
    "start_time": "2023-08-19T12:16:09.095Z"
   },
   {
    "duration": 29,
    "start_time": "2023-08-19T12:16:10.722Z"
   },
   {
    "duration": 33,
    "start_time": "2023-08-19T12:16:28.841Z"
   },
   {
    "duration": 30,
    "start_time": "2023-08-19T12:17:19.046Z"
   },
   {
    "duration": 41,
    "start_time": "2023-08-19T12:18:46.980Z"
   },
   {
    "duration": 28,
    "start_time": "2023-08-19T12:20:27.499Z"
   },
   {
    "duration": 36,
    "start_time": "2023-08-19T12:20:34.828Z"
   },
   {
    "duration": 39,
    "start_time": "2023-08-19T12:21:28.347Z"
   },
   {
    "duration": 32,
    "start_time": "2023-08-19T12:21:39.041Z"
   },
   {
    "duration": 36,
    "start_time": "2023-08-19T12:21:57.863Z"
   },
   {
    "duration": 44,
    "start_time": "2023-08-19T12:22:28.196Z"
   },
   {
    "duration": 35,
    "start_time": "2023-08-19T12:22:49.166Z"
   },
   {
    "duration": 46,
    "start_time": "2023-08-19T12:23:01.635Z"
   },
   {
    "duration": 32,
    "start_time": "2023-08-19T12:24:32.396Z"
   },
   {
    "duration": 34,
    "start_time": "2023-08-19T12:26:09.427Z"
   },
   {
    "duration": 33,
    "start_time": "2023-08-19T12:26:23.529Z"
   },
   {
    "duration": 46,
    "start_time": "2023-08-19T12:28:27.163Z"
   },
   {
    "duration": 48,
    "start_time": "2023-08-19T12:29:23.645Z"
   },
   {
    "duration": 30,
    "start_time": "2023-08-19T12:29:46.098Z"
   },
   {
    "duration": 27,
    "start_time": "2023-08-19T12:29:59.358Z"
   },
   {
    "duration": 30,
    "start_time": "2023-08-19T12:35:40.549Z"
   },
   {
    "duration": 44,
    "start_time": "2023-08-19T12:36:54.179Z"
   },
   {
    "duration": 48,
    "start_time": "2023-08-19T12:37:18.924Z"
   },
   {
    "duration": 43,
    "start_time": "2023-08-19T12:39:04.085Z"
   },
   {
    "duration": 41,
    "start_time": "2023-08-19T12:41:43.469Z"
   },
   {
    "duration": 78,
    "start_time": "2023-08-19T12:43:55.424Z"
   },
   {
    "duration": 15,
    "start_time": "2023-08-19T12:45:09.729Z"
   },
   {
    "duration": 42,
    "start_time": "2023-08-19T12:46:51.977Z"
   },
   {
    "duration": 4,
    "start_time": "2023-08-19T12:47:01.828Z"
   },
   {
    "duration": 333,
    "start_time": "2023-08-19T12:47:25.613Z"
   },
   {
    "duration": 7742,
    "start_time": "2023-08-19T12:47:47.585Z"
   },
   {
    "duration": 7179,
    "start_time": "2023-08-19T12:48:38.939Z"
   },
   {
    "duration": 8262,
    "start_time": "2023-08-19T12:49:35.205Z"
   },
   {
    "duration": 739,
    "start_time": "2023-08-19T12:49:59.335Z"
   },
   {
    "duration": 14,
    "start_time": "2023-08-19T12:55:44.682Z"
   },
   {
    "duration": 74,
    "start_time": "2023-08-19T12:56:06.736Z"
   },
   {
    "duration": 358,
    "start_time": "2023-08-19T13:15:06.012Z"
   },
   {
    "duration": 391,
    "start_time": "2023-08-19T13:15:11.080Z"
   },
   {
    "duration": 379,
    "start_time": "2023-08-19T13:16:13.398Z"
   },
   {
    "duration": 376,
    "start_time": "2023-08-19T13:16:40.988Z"
   },
   {
    "duration": 36,
    "start_time": "2023-08-19T13:20:45.828Z"
   },
   {
    "duration": 8,
    "start_time": "2023-08-19T13:22:37.134Z"
   },
   {
    "duration": 36,
    "start_time": "2023-08-19T13:22:45.741Z"
   },
   {
    "duration": 36,
    "start_time": "2023-08-19T13:23:30.940Z"
   },
   {
    "duration": 2163,
    "start_time": "2023-08-19T13:23:33.234Z"
   },
   {
    "duration": 2124,
    "start_time": "2023-08-19T13:24:10.782Z"
   },
   {
    "duration": 46987,
    "start_time": "2023-08-19T13:24:35.473Z"
   },
   {
    "duration": 10,
    "start_time": "2023-08-19T13:25:40.599Z"
   },
   {
    "duration": 21342,
    "start_time": "2023-08-19T13:25:55.686Z"
   },
   {
    "duration": 354,
    "start_time": "2023-08-19T13:31:43.800Z"
   },
   {
    "duration": 1162,
    "start_time": "2023-08-19T13:32:00.590Z"
   },
   {
    "duration": 37,
    "start_time": "2023-08-19T13:33:23.787Z"
   },
   {
    "duration": 37,
    "start_time": "2023-08-19T13:33:35.526Z"
   },
   {
    "duration": 5,
    "start_time": "2023-08-19T13:34:54.426Z"
   },
   {
    "duration": 8276,
    "start_time": "2023-08-19T13:35:01.733Z"
   },
   {
    "duration": 7782,
    "start_time": "2023-08-19T13:35:21.531Z"
   },
   {
    "duration": 357,
    "start_time": "2023-08-19T13:35:30.754Z"
   },
   {
    "duration": 11819,
    "start_time": "2023-08-19T13:35:57.755Z"
   },
   {
    "duration": 19518,
    "start_time": "2023-08-19T13:36:17.647Z"
   },
   {
    "duration": 8574,
    "start_time": "2023-08-19T13:37:01.040Z"
   },
   {
    "duration": 12137,
    "start_time": "2023-08-19T13:37:25.853Z"
   },
   {
    "duration": 865,
    "start_time": "2023-08-19T13:37:53.399Z"
   },
   {
    "duration": 598,
    "start_time": "2023-08-19T13:38:02.909Z"
   },
   {
    "duration": 34,
    "start_time": "2023-08-19T13:38:24.040Z"
   },
   {
    "duration": 325,
    "start_time": "2023-08-19T13:39:18.295Z"
   },
   {
    "duration": 2791,
    "start_time": "2023-08-19T13:41:29.121Z"
   },
   {
    "duration": 61005,
    "start_time": "2023-08-19T13:41:59.399Z"
   },
   {
    "duration": 3095,
    "start_time": "2023-08-19T13:43:09.658Z"
   },
   {
    "duration": 32758,
    "start_time": "2023-08-19T13:43:16.801Z"
   },
   {
    "duration": 7283,
    "start_time": "2023-08-19T13:44:28.458Z"
   },
   {
    "duration": 9606,
    "start_time": "2023-08-19T13:44:43.204Z"
   },
   {
    "duration": 7202,
    "start_time": "2023-08-19T13:46:08.076Z"
   },
   {
    "duration": 1106,
    "start_time": "2023-08-19T13:46:32.746Z"
   },
   {
    "duration": 11791,
    "start_time": "2023-08-19T13:46:59.062Z"
   },
   {
    "duration": 9,
    "start_time": "2023-08-19T13:48:23.576Z"
   },
   {
    "duration": 27,
    "start_time": "2023-08-19T13:48:37.189Z"
   },
   {
    "duration": 326,
    "start_time": "2023-08-19T13:51:40.426Z"
   },
   {
    "duration": 113,
    "start_time": "2023-08-19T13:55:29.686Z"
   },
   {
    "duration": 2214,
    "start_time": "2023-08-19T13:55:43.600Z"
   },
   {
    "duration": 48974,
    "start_time": "2023-08-19T13:55:57.820Z"
   },
   {
    "duration": 9,
    "start_time": "2023-08-19T13:57:00.121Z"
   },
   {
    "duration": 13838,
    "start_time": "2023-08-19T13:57:07.088Z"
   },
   {
    "duration": 244,
    "start_time": "2023-08-19T13:57:32.510Z"
   },
   {
    "duration": 1194,
    "start_time": "2023-08-19T13:57:47.661Z"
   },
   {
    "duration": 13,
    "start_time": "2023-08-19T13:58:11.185Z"
   },
   {
    "duration": 10,
    "start_time": "2023-08-19T13:58:22.230Z"
   },
   {
    "duration": 277,
    "start_time": "2023-08-19T13:59:51.007Z"
   },
   {
    "duration": 13,
    "start_time": "2023-08-19T14:00:07.330Z"
   },
   {
    "duration": 465,
    "start_time": "2023-08-19T14:00:31.388Z"
   },
   {
    "duration": 569,
    "start_time": "2023-08-19T14:01:01.262Z"
   },
   {
    "duration": 554,
    "start_time": "2023-08-19T14:01:19.162Z"
   },
   {
    "duration": 345,
    "start_time": "2023-08-19T14:02:13.827Z"
   },
   {
    "duration": 8,
    "start_time": "2023-08-19T14:02:16.924Z"
   },
   {
    "duration": 8001,
    "start_time": "2023-08-19T14:11:16.796Z"
   },
   {
    "duration": 5,
    "start_time": "2023-08-19T14:11:24.799Z"
   },
   {
    "duration": 158,
    "start_time": "2023-08-19T14:11:24.805Z"
   },
   {
    "duration": 50,
    "start_time": "2023-08-19T14:11:24.965Z"
   },
   {
    "duration": 542,
    "start_time": "2023-08-19T14:11:25.016Z"
   },
   {
    "duration": 13,
    "start_time": "2023-08-19T14:11:25.560Z"
   },
   {
    "duration": 4,
    "start_time": "2023-08-19T14:11:25.574Z"
   },
   {
    "duration": 6,
    "start_time": "2023-08-19T14:11:25.580Z"
   },
   {
    "duration": 341,
    "start_time": "2023-08-19T14:11:25.587Z"
   },
   {
    "duration": 2,
    "start_time": "2023-08-19T14:11:25.931Z"
   },
   {
    "duration": 126,
    "start_time": "2023-08-19T14:11:25.952Z"
   },
   {
    "duration": 73,
    "start_time": "2023-08-19T14:11:26.080Z"
   },
   {
    "duration": 112,
    "start_time": "2023-08-19T14:11:26.156Z"
   },
   {
    "duration": 5,
    "start_time": "2023-08-19T14:11:26.269Z"
   },
   {
    "duration": 362,
    "start_time": "2023-08-19T14:11:26.275Z"
   },
   {
    "duration": 19393,
    "start_time": "2023-08-19T14:11:26.639Z"
   },
   {
    "duration": 12109,
    "start_time": "2023-08-19T14:11:46.034Z"
   },
   {
    "duration": 731,
    "start_time": "2023-08-19T14:11:58.145Z"
   },
   {
    "duration": 737,
    "start_time": "2023-08-19T14:11:58.878Z"
   },
   {
    "duration": 39,
    "start_time": "2023-08-19T14:11:59.616Z"
   },
   {
    "duration": 333,
    "start_time": "2023-08-19T14:11:59.656Z"
   },
   {
    "duration": 36,
    "start_time": "2023-08-19T14:11:59.991Z"
   },
   {
    "duration": 2865,
    "start_time": "2023-08-19T14:12:00.029Z"
   },
   {
    "duration": 60810,
    "start_time": "2023-08-19T14:12:02.895Z"
   },
   {
    "duration": 11837,
    "start_time": "2023-08-19T14:13:03.707Z"
   },
   {
    "duration": 1042,
    "start_time": "2023-08-19T14:13:15.546Z"
   },
   {
    "duration": 118,
    "start_time": "2023-08-19T14:13:16.652Z"
   },
   {
    "duration": 328,
    "start_time": "2023-08-19T14:13:16.773Z"
   },
   {
    "duration": 110,
    "start_time": "2023-08-19T14:13:17.103Z"
   },
   {
    "duration": 2226,
    "start_time": "2023-08-19T14:13:17.215Z"
   },
   {
    "duration": 48899,
    "start_time": "2023-08-19T14:13:19.443Z"
   },
   {
    "duration": 13967,
    "start_time": "2023-08-19T14:14:08.343Z"
   },
   {
    "duration": 1340,
    "start_time": "2023-08-19T14:14:22.312Z"
   },
   {
    "duration": 740,
    "start_time": "2023-08-19T14:14:23.655Z"
   },
   {
    "duration": 10,
    "start_time": "2023-08-19T14:14:24.397Z"
   },
   {
    "duration": 526,
    "start_time": "2023-08-19T14:14:24.409Z"
   },
   {
    "duration": 19,
    "start_time": "2023-08-19T14:14:24.937Z"
   },
   {
    "duration": 0,
    "start_time": "2023-08-19T14:14:24.958Z"
   },
   {
    "duration": 27,
    "start_time": "2023-08-19T14:15:01.819Z"
   },
   {
    "duration": 19,
    "start_time": "2023-08-19T14:15:58.053Z"
   },
   {
    "duration": 18,
    "start_time": "2023-08-19T14:16:48.200Z"
   },
   {
    "duration": 13,
    "start_time": "2023-08-19T14:17:23.412Z"
   },
   {
    "duration": 19,
    "start_time": "2023-08-19T14:18:32.618Z"
   },
   {
    "duration": 20,
    "start_time": "2023-08-19T14:18:45.325Z"
   },
   {
    "duration": 18,
    "start_time": "2023-08-19T14:18:53.121Z"
   },
   {
    "duration": 400,
    "start_time": "2023-08-19T14:18:55.826Z"
   },
   {
    "duration": 53691,
    "start_time": "2023-08-20T08:58:37.724Z"
   },
   {
    "duration": 1972,
    "start_time": "2023-08-20T08:59:31.418Z"
   },
   {
    "duration": 170,
    "start_time": "2023-08-20T08:59:33.391Z"
   },
   {
    "duration": 69,
    "start_time": "2023-08-20T08:59:33.567Z"
   },
   {
    "duration": 576,
    "start_time": "2023-08-20T08:59:33.638Z"
   },
   {
    "duration": 16,
    "start_time": "2023-08-20T08:59:34.216Z"
   },
   {
    "duration": 5,
    "start_time": "2023-08-20T08:59:34.233Z"
   },
   {
    "duration": 17,
    "start_time": "2023-08-20T08:59:34.240Z"
   },
   {
    "duration": 431,
    "start_time": "2023-08-20T08:59:34.259Z"
   },
   {
    "duration": 2,
    "start_time": "2023-08-20T08:59:34.694Z"
   },
   {
    "duration": 371,
    "start_time": "2023-08-20T08:59:34.698Z"
   },
   {
    "duration": 9,
    "start_time": "2023-08-20T08:59:35.072Z"
   },
   {
    "duration": 160,
    "start_time": "2023-08-20T09:03:41.641Z"
   },
   {
    "duration": 56,
    "start_time": "2023-08-20T09:03:53.545Z"
   },
   {
    "duration": 14,
    "start_time": "2023-08-20T09:04:02.072Z"
   },
   {
    "duration": 50,
    "start_time": "2023-08-20T09:04:31.603Z"
   },
   {
    "duration": 17,
    "start_time": "2023-08-20T09:04:32.504Z"
   },
   {
    "duration": 5,
    "start_time": "2023-08-20T09:04:48.237Z"
   },
   {
    "duration": 380,
    "start_time": "2023-08-20T09:04:52.808Z"
   },
   {
    "duration": 20927,
    "start_time": "2023-08-20T09:04:59.354Z"
   },
   {
    "duration": 13985,
    "start_time": "2023-08-20T09:06:07.242Z"
   },
   {
    "duration": 3046,
    "start_time": "2023-08-20T09:06:31.336Z"
   },
   {
    "duration": 36,
    "start_time": "2023-08-20T09:07:04.490Z"
   },
   {
    "duration": 3077,
    "start_time": "2023-08-20T09:07:08.242Z"
   },
   {
    "duration": 70290,
    "start_time": "2023-08-20T09:07:32.697Z"
   },
   {
    "duration": 14661,
    "start_time": "2023-08-20T09:08:42.991Z"
   },
   {
    "duration": 2906,
    "start_time": "2023-08-20T09:08:57.661Z"
   },
   {
    "duration": 89,
    "start_time": "2023-08-20T09:09:49.354Z"
   },
   {
    "duration": 2339,
    "start_time": "2023-08-20T09:09:57.670Z"
   },
   {
    "duration": 51110,
    "start_time": "2023-08-20T09:10:00.012Z"
   },
   {
    "duration": 15129,
    "start_time": "2023-08-20T09:10:51.124Z"
   },
   {
    "duration": 1522,
    "start_time": "2023-08-20T09:11:06.261Z"
   },
   {
    "duration": 37,
    "start_time": "2023-08-20T09:11:20.604Z"
   },
   {
    "duration": 8906,
    "start_time": "2023-08-20T09:14:51.628Z"
   },
   {
    "duration": 6,
    "start_time": "2023-08-20T09:15:00.537Z"
   },
   {
    "duration": 262,
    "start_time": "2023-08-20T09:15:00.545Z"
   },
   {
    "duration": 74,
    "start_time": "2023-08-20T09:15:00.809Z"
   },
   {
    "duration": 528,
    "start_time": "2023-08-20T09:15:00.886Z"
   },
   {
    "duration": 15,
    "start_time": "2023-08-20T09:15:01.415Z"
   },
   {
    "duration": 584,
    "start_time": "2023-08-20T09:15:01.433Z"
   },
   {
    "duration": 181,
    "start_time": "2023-08-20T09:15:02.020Z"
   },
   {
    "duration": 512,
    "start_time": "2023-08-20T09:15:02.203Z"
   },
   {
    "duration": 3,
    "start_time": "2023-08-20T09:15:02.717Z"
   },
   {
    "duration": 256,
    "start_time": "2023-08-20T09:15:02.722Z"
   },
   {
    "duration": 8,
    "start_time": "2023-08-20T09:15:02.980Z"
   },
   {
    "duration": 411,
    "start_time": "2023-08-20T09:15:02.989Z"
   },
   {
    "duration": 56,
    "start_time": "2023-08-20T09:18:23.560Z"
   },
   {
    "duration": 52,
    "start_time": "2023-08-20T09:19:12.215Z"
   },
   {
    "duration": 24,
    "start_time": "2023-08-20T09:19:13.241Z"
   },
   {
    "duration": 49,
    "start_time": "2023-08-20T09:21:11.539Z"
   },
   {
    "duration": 13,
    "start_time": "2023-08-20T09:21:12.821Z"
   },
   {
    "duration": 11,
    "start_time": "2023-08-20T09:21:22.855Z"
   },
   {
    "duration": 315,
    "start_time": "2023-08-20T09:21:24.483Z"
   },
   {
    "duration": 16206,
    "start_time": "2023-08-20T09:21:30.495Z"
   },
   {
    "duration": 9682,
    "start_time": "2023-08-20T09:21:54.292Z"
   },
   {
    "duration": 1097,
    "start_time": "2023-08-20T09:22:42.374Z"
   },
   {
    "duration": 23,
    "start_time": "2023-08-20T09:24:41.682Z"
   },
   {
    "duration": 2002,
    "start_time": "2023-08-20T09:24:45.355Z"
   },
   {
    "duration": 44471,
    "start_time": "2023-08-20T09:24:47.625Z"
   },
   {
    "duration": 9723,
    "start_time": "2023-08-20T09:25:32.098Z"
   },
   {
    "duration": 1854,
    "start_time": "2023-08-20T09:25:41.823Z"
   },
   {
    "duration": 62,
    "start_time": "2023-08-20T09:26:13.137Z"
   },
   {
    "duration": 1524,
    "start_time": "2023-08-20T09:26:15.035Z"
   },
   {
    "duration": 35910,
    "start_time": "2023-08-20T09:26:16.563Z"
   },
   {
    "duration": 11644,
    "start_time": "2023-08-20T09:26:52.475Z"
   },
   {
    "duration": 1528,
    "start_time": "2023-08-20T09:27:16.853Z"
   },
   {
    "duration": 39,
    "start_time": "2023-08-20T09:27:27.836Z"
   },
   {
    "duration": 24,
    "start_time": "2023-08-20T09:27:48.118Z"
   },
   {
    "duration": 334,
    "start_time": "2023-08-20T09:28:08.860Z"
   },
   {
    "duration": 493,
    "start_time": "2023-08-20T09:30:37.829Z"
   },
   {
    "duration": 655,
    "start_time": "2023-08-20T09:31:37.336Z"
   },
   {
    "duration": 630,
    "start_time": "2023-08-20T09:32:07.097Z"
   },
   {
    "duration": 29168,
    "start_time": "2023-08-20T09:32:18.292Z"
   },
   {
    "duration": 24,
    "start_time": "2023-08-20T09:33:01.116Z"
   },
   {
    "duration": 45620,
    "start_time": "2023-08-20T09:33:02.037Z"
   },
   {
    "duration": 152,
    "start_time": "2023-08-20T09:35:45.457Z"
   },
   {
    "duration": 2028,
    "start_time": "2023-08-20T09:35:50.257Z"
   },
   {
    "duration": 2063,
    "start_time": "2023-08-20T09:36:13.437Z"
   },
   {
    "duration": 32,
    "start_time": "2023-08-20T09:36:46.747Z"
   },
   {
    "duration": 45934,
    "start_time": "2023-08-20T09:36:47.529Z"
   },
   {
    "duration": 2094,
    "start_time": "2023-08-20T09:37:33.466Z"
   },
   {
    "duration": 2073,
    "start_time": "2023-08-20T09:37:38.703Z"
   },
   {
    "duration": 29805,
    "start_time": "2023-08-20T11:34:00.600Z"
   },
   {
    "duration": 2067,
    "start_time": "2023-08-20T11:34:30.409Z"
   },
   {
    "duration": 211,
    "start_time": "2023-08-20T11:34:32.481Z"
   },
   {
    "duration": 81,
    "start_time": "2023-08-20T11:34:32.695Z"
   },
   {
    "duration": 595,
    "start_time": "2023-08-20T11:34:32.778Z"
   },
   {
    "duration": 19,
    "start_time": "2023-08-20T11:34:33.377Z"
   },
   {
    "duration": 6,
    "start_time": "2023-08-20T11:34:33.398Z"
   },
   {
    "duration": 5,
    "start_time": "2023-08-20T11:34:33.406Z"
   },
   {
    "duration": 435,
    "start_time": "2023-08-20T11:34:33.413Z"
   },
   {
    "duration": 14,
    "start_time": "2023-08-20T11:34:33.859Z"
   },
   {
    "duration": 293,
    "start_time": "2023-08-20T11:34:33.884Z"
   },
   {
    "duration": 9,
    "start_time": "2023-08-20T11:34:34.179Z"
   },
   {
    "duration": 212,
    "start_time": "2023-08-20T11:34:34.190Z"
   },
   {
    "duration": 45,
    "start_time": "2023-08-20T11:38:48.128Z"
   },
   {
    "duration": 6,
    "start_time": "2023-08-20T11:41:22.866Z"
   },
   {
    "duration": 29077,
    "start_time": "2023-08-20T11:43:33.024Z"
   },
   {
    "duration": 9593,
    "start_time": "2023-08-20T11:45:18.256Z"
   },
   {
    "duration": 9471,
    "start_time": "2023-08-20T11:45:46.445Z"
   },
   {
    "duration": 9481,
    "start_time": "2023-08-20T11:46:20.000Z"
   },
   {
    "duration": 1816,
    "start_time": "2023-08-20T11:47:04.450Z"
   },
   {
    "duration": 15,
    "start_time": "2023-08-20T11:47:15.523Z"
   },
   {
    "duration": 275,
    "start_time": "2023-08-20T11:50:37.416Z"
   },
   {
    "duration": 17,
    "start_time": "2023-08-20T11:50:47.526Z"
   },
   {
    "duration": 15775,
    "start_time": "2023-08-20T11:51:11.382Z"
   },
   {
    "duration": 774,
    "start_time": "2023-08-20T11:51:35.382Z"
   },
   {
    "duration": 122,
    "start_time": "2023-08-20T11:51:52.408Z"
   },
   {
    "duration": 474,
    "start_time": "2023-08-20T11:53:29.317Z"
   },
   {
    "duration": 22,
    "start_time": "2023-08-20T11:55:13.027Z"
   },
   {
    "duration": 2075,
    "start_time": "2023-08-20T11:55:50.604Z"
   },
   {
    "duration": 45720,
    "start_time": "2023-08-20T11:55:59.298Z"
   },
   {
    "duration": 9975,
    "start_time": "2023-08-20T11:56:52.651Z"
   },
   {
    "duration": 1199,
    "start_time": "2023-08-20T11:57:28.958Z"
   },
   {
    "duration": 46601,
    "start_time": "2023-08-20T11:58:36.978Z"
   },
   {
    "duration": 17,
    "start_time": "2023-08-20T12:01:14.845Z"
   },
   {
    "duration": 1778,
    "start_time": "2023-08-20T12:01:43.659Z"
   },
   {
    "duration": 447,
    "start_time": "2023-08-20T12:05:50.474Z"
   },
   {
    "duration": 480,
    "start_time": "2023-08-20T12:37:33.090Z"
   },
   {
    "duration": 447,
    "start_time": "2023-08-20T12:40:13.983Z"
   },
   {
    "duration": 482,
    "start_time": "2023-08-20T12:40:33.523Z"
   },
   {
    "duration": 440,
    "start_time": "2023-08-20T12:43:24.315Z"
   },
   {
    "duration": 1801,
    "start_time": "2023-08-20T12:48:05.562Z"
   },
   {
    "duration": 1897,
    "start_time": "2023-08-20T12:48:29.550Z"
   },
   {
    "duration": 587,
    "start_time": "2023-08-20T12:50:11.611Z"
   },
   {
    "duration": 2281,
    "start_time": "2023-08-20T12:51:51.990Z"
   },
   {
    "duration": 69,
    "start_time": "2023-08-20T12:56:41.579Z"
   },
   {
    "duration": 49417,
    "start_time": "2023-08-20T12:57:52.784Z"
   },
   {
    "duration": 1698,
    "start_time": "2023-08-20T12:58:59.116Z"
   },
   {
    "duration": 37463,
    "start_time": "2023-08-20T12:59:04.337Z"
   },
   {
    "duration": 11985,
    "start_time": "2023-08-20T12:59:48.953Z"
   },
   {
    "duration": 659,
    "start_time": "2023-08-20T13:03:00.088Z"
   },
   {
    "duration": 2097,
    "start_time": "2023-08-20T13:10:59.622Z"
   },
   {
    "duration": 9475,
    "start_time": "2023-08-20T13:11:10.898Z"
   },
   {
    "duration": 6,
    "start_time": "2023-08-20T13:11:20.377Z"
   },
   {
    "duration": 281,
    "start_time": "2023-08-20T13:11:20.386Z"
   },
   {
    "duration": 65,
    "start_time": "2023-08-20T13:11:20.674Z"
   },
   {
    "duration": 555,
    "start_time": "2023-08-20T13:11:20.741Z"
   },
   {
    "duration": 14,
    "start_time": "2023-08-20T13:11:21.298Z"
   },
   {
    "duration": 5,
    "start_time": "2023-08-20T13:11:21.314Z"
   },
   {
    "duration": 5,
    "start_time": "2023-08-20T13:11:21.321Z"
   },
   {
    "duration": 452,
    "start_time": "2023-08-20T13:11:21.327Z"
   },
   {
    "duration": 5,
    "start_time": "2023-08-20T13:11:21.790Z"
   },
   {
    "duration": 182,
    "start_time": "2023-08-20T13:11:21.797Z"
   },
   {
    "duration": 13,
    "start_time": "2023-08-20T13:11:21.981Z"
   },
   {
    "duration": 108,
    "start_time": "2023-08-20T13:11:21.997Z"
   },
   {
    "duration": 6,
    "start_time": "2023-08-20T13:11:22.107Z"
   },
   {
    "duration": 303,
    "start_time": "2023-08-20T13:11:22.114Z"
   },
   {
    "duration": 16522,
    "start_time": "2023-08-20T13:11:22.419Z"
   },
   {
    "duration": 30567,
    "start_time": "2023-08-20T13:11:38.943Z"
   },
   {
    "duration": 10075,
    "start_time": "2023-08-20T13:12:09.512Z"
   },
   {
    "duration": 1594,
    "start_time": "2023-08-20T13:12:19.590Z"
   },
   {
    "duration": 892,
    "start_time": "2023-08-20T13:12:21.189Z"
   },
   {
    "duration": 116,
    "start_time": "2023-08-20T13:12:22.088Z"
   },
   {
    "duration": 437,
    "start_time": "2023-08-20T13:12:22.206Z"
   },
   {
    "duration": 42,
    "start_time": "2023-08-20T13:12:22.645Z"
   },
   {
    "duration": 2098,
    "start_time": "2023-08-20T13:12:22.689Z"
   },
   {
    "duration": 46889,
    "start_time": "2023-08-20T13:12:24.789Z"
   },
   {
    "duration": 10266,
    "start_time": "2023-08-20T13:13:11.683Z"
   },
   {
    "duration": 2740,
    "start_time": "2023-08-20T13:13:21.955Z"
   },
   {
    "duration": 48796,
    "start_time": "2023-08-20T13:13:24.699Z"
   },
   {
    "duration": 2125,
    "start_time": "2023-08-20T13:14:50.085Z"
   },
   {
    "duration": 347,
    "start_time": "2023-08-20T13:18:02.600Z"
   },
   {
    "duration": 390,
    "start_time": "2023-08-20T13:18:09.526Z"
   },
   {
    "duration": 415,
    "start_time": "2023-08-20T13:18:28.215Z"
   },
   {
    "duration": 523,
    "start_time": "2023-08-20T13:18:40.919Z"
   },
   {
    "duration": 1862,
    "start_time": "2023-08-20T13:25:02.305Z"
   },
   {
    "duration": 1894,
    "start_time": "2023-08-20T13:27:27.156Z"
   },
   {
    "duration": 351,
    "start_time": "2023-08-20T13:34:31.948Z"
   },
   {
    "duration": 336,
    "start_time": "2023-08-20T13:35:26.582Z"
   },
   {
    "duration": 333,
    "start_time": "2023-08-20T13:35:37.784Z"
   },
   {
    "duration": 57,
    "start_time": "2023-08-20T13:36:04.439Z"
   },
   {
    "duration": 65,
    "start_time": "2023-08-20T13:36:07.307Z"
   },
   {
    "duration": 7,
    "start_time": "2023-08-20T13:36:15.710Z"
   },
   {
    "duration": 21,
    "start_time": "2023-08-20T13:36:53.084Z"
   },
   {
    "duration": 57,
    "start_time": "2023-08-20T13:37:06.737Z"
   },
   {
    "duration": 5,
    "start_time": "2023-08-20T13:37:27.604Z"
   },
   {
    "duration": 17,
    "start_time": "2023-08-20T13:37:32.706Z"
   },
   {
    "duration": 52,
    "start_time": "2023-08-20T13:37:55.742Z"
   },
   {
    "duration": 24,
    "start_time": "2023-08-20T13:38:02.392Z"
   },
   {
    "duration": 22,
    "start_time": "2023-08-20T13:38:19.888Z"
   },
   {
    "duration": 45,
    "start_time": "2023-08-20T13:38:51.099Z"
   },
   {
    "duration": 7,
    "start_time": "2023-08-20T13:40:31.726Z"
   },
   {
    "duration": 481,
    "start_time": "2023-08-20T13:40:36.685Z"
   },
   {
    "duration": 23482,
    "start_time": "2023-08-20T13:40:52.497Z"
   },
   {
    "duration": 42993,
    "start_time": "2023-08-20T13:41:48.528Z"
   },
   {
    "duration": 14082,
    "start_time": "2023-08-20T13:42:43.152Z"
   },
   {
    "duration": 3055,
    "start_time": "2023-08-20T13:43:05.812Z"
   },
   {
    "duration": 720,
    "start_time": "2023-08-20T13:43:19.172Z"
   },
   {
    "duration": 469,
    "start_time": "2023-08-20T13:44:41.944Z"
   },
   {
    "duration": 47,
    "start_time": "2023-08-20T13:45:01.658Z"
   },
   {
    "duration": 3137,
    "start_time": "2023-08-20T13:45:14.182Z"
   },
   {
    "duration": 68721,
    "start_time": "2023-08-20T13:45:24.592Z"
   },
   {
    "duration": 13846,
    "start_time": "2023-08-20T13:48:44.553Z"
   },
   {
    "duration": 3074,
    "start_time": "2023-08-20T13:51:32.726Z"
   },
   {
    "duration": 596,
    "start_time": "2023-08-20T13:51:47.884Z"
   },
   {
    "duration": 369,
    "start_time": "2023-08-20T13:52:18.863Z"
   },
   {
    "duration": 55,
    "start_time": "2023-08-20T13:56:32.524Z"
   },
   {
    "duration": 3292,
    "start_time": "2023-08-20T13:56:40.772Z"
   },
   {
    "duration": 68820,
    "start_time": "2023-08-20T13:56:47.782Z"
   },
   {
    "duration": 25087,
    "start_time": "2023-08-20T13:58:21.281Z"
   },
   {
    "duration": 3189,
    "start_time": "2023-08-20T13:59:09.013Z"
   },
   {
    "duration": 1157,
    "start_time": "2023-08-20T14:02:41.748Z"
   },
   {
    "duration": 94,
    "start_time": "2023-08-20T14:03:27.271Z"
   },
   {
    "duration": 2472,
    "start_time": "2023-08-20T14:03:38.343Z"
   },
   {
    "duration": 52385,
    "start_time": "2023-08-20T14:03:48.119Z"
   },
   {
    "duration": 12846,
    "start_time": "2023-08-20T14:04:53.065Z"
   },
   {
    "duration": 27754,
    "start_time": "2023-08-20T14:05:12.536Z"
   },
   {
    "duration": 3277,
    "start_time": "2023-08-20T14:06:14.397Z"
   },
   {
    "duration": 67927,
    "start_time": "2023-08-20T14:06:24.235Z"
   },
   {
    "duration": 666,
    "start_time": "2023-08-20T14:09:30.388Z"
   },
   {
    "duration": 420,
    "start_time": "2023-08-20T14:11:03.596Z"
   },
   {
    "duration": 907,
    "start_time": "2023-08-20T14:12:40.175Z"
   },
   {
    "duration": 936,
    "start_time": "2023-08-20T14:12:58.130Z"
   },
   {
    "duration": 362,
    "start_time": "2023-08-20T14:25:36.954Z"
   },
   {
    "duration": 327,
    "start_time": "2023-08-20T14:25:44.498Z"
   },
   {
    "duration": 359,
    "start_time": "2023-08-20T14:25:50.376Z"
   },
   {
    "duration": 393,
    "start_time": "2023-08-20T14:27:29.822Z"
   },
   {
    "duration": 384,
    "start_time": "2023-08-20T14:28:43.829Z"
   },
   {
    "duration": 428,
    "start_time": "2023-08-20T14:29:21.597Z"
   },
   {
    "duration": 9598,
    "start_time": "2023-08-20T14:37:20.287Z"
   },
   {
    "duration": 1892,
    "start_time": "2023-08-20T14:37:29.890Z"
   },
   {
    "duration": 231,
    "start_time": "2023-08-20T14:37:31.793Z"
   },
   {
    "duration": 80,
    "start_time": "2023-08-20T14:37:32.026Z"
   },
   {
    "duration": 510,
    "start_time": "2023-08-20T14:37:32.109Z"
   },
   {
    "duration": 14,
    "start_time": "2023-08-20T14:37:32.621Z"
   },
   {
    "duration": 60,
    "start_time": "2023-08-20T14:37:32.637Z"
   },
   {
    "duration": 24,
    "start_time": "2023-08-20T14:37:32.699Z"
   },
   {
    "duration": 443,
    "start_time": "2023-08-20T14:37:32.724Z"
   },
   {
    "duration": 6,
    "start_time": "2023-08-20T14:37:33.169Z"
   },
   {
    "duration": 200,
    "start_time": "2023-08-20T14:37:33.177Z"
   },
   {
    "duration": 14,
    "start_time": "2023-08-20T14:37:33.379Z"
   },
   {
    "duration": 110,
    "start_time": "2023-08-20T14:37:33.397Z"
   },
   {
    "duration": 5,
    "start_time": "2023-08-20T14:37:33.511Z"
   },
   {
    "duration": 417,
    "start_time": "2023-08-20T14:37:33.518Z"
   },
   {
    "duration": 23250,
    "start_time": "2023-08-20T14:37:33.937Z"
   },
   {
    "duration": 14285,
    "start_time": "2023-08-20T14:37:57.189Z"
   },
   {
    "duration": 42122,
    "start_time": "2023-08-20T14:38:11.476Z"
   },
   {
    "duration": 2305,
    "start_time": "2023-08-20T14:38:53.600Z"
   },
   {
    "duration": 741,
    "start_time": "2023-08-20T14:38:55.911Z"
   },
   {
    "duration": 371,
    "start_time": "2023-08-20T14:38:56.654Z"
   },
   {
    "duration": 49,
    "start_time": "2023-08-20T14:38:57.026Z"
   },
   {
    "duration": 3264,
    "start_time": "2023-08-20T14:38:57.077Z"
   },
   {
    "duration": 70667,
    "start_time": "2023-08-20T14:39:00.342Z"
   },
   {
    "duration": 25906,
    "start_time": "2023-08-20T14:40:11.011Z"
   },
   {
    "duration": 3994,
    "start_time": "2023-08-20T14:40:36.919Z"
   },
   {
    "duration": 70290,
    "start_time": "2023-08-20T14:40:40.976Z"
   },
   {
    "duration": 1255,
    "start_time": "2023-08-20T14:41:51.275Z"
   },
   {
    "duration": 112,
    "start_time": "2023-08-20T14:41:52.532Z"
   },
   {
    "duration": 2386,
    "start_time": "2023-08-20T14:41:52.646Z"
   },
   {
    "duration": 54287,
    "start_time": "2023-08-20T14:41:55.035Z"
   },
   {
    "duration": 27922,
    "start_time": "2023-08-20T14:42:49.325Z"
   },
   {
    "duration": 3556,
    "start_time": "2023-08-20T14:43:17.249Z"
   }
  ],
  "kernelspec": {
   "display_name": "Python 3 (ipykernel)",
   "language": "python",
   "name": "python3"
  },
  "language_info": {
   "codemirror_mode": {
    "name": "ipython",
    "version": 3
   },
   "file_extension": ".py",
   "mimetype": "text/x-python",
   "name": "python",
   "nbconvert_exporter": "python",
   "pygments_lexer": "ipython3",
   "version": "3.9.5"
  },
  "toc": {
   "base_numbering": 1,
   "nav_menu": {},
   "number_sections": true,
   "sideBar": true,
   "skip_h1_title": true,
   "title_cell": "Содержание",
   "title_sidebar": "Contents",
   "toc_cell": true,
   "toc_position": {
    "height": "calc(100% - 180px)",
    "left": "10px",
    "top": "150px",
    "width": "165px"
   },
   "toc_section_display": true,
   "toc_window_display": true
  }
 },
 "nbformat": 4,
 "nbformat_minor": 2
}
