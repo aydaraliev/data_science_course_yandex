{
 "cells": [
  {
   "cell_type": "markdown",
   "metadata": {},
   "source": [
    "Привет, меня зовут Артем. Сегодня я проверю твой проект.\n",
    "<br> Дальнейшее общение будет происходить на \"ты\" если это не вызывает никаких проблем.\n",
    "<br> Желательно реагировать на каждый мой комментарий ('исправил', 'не понятно как исправить ошибку', ...)\n",
    "<br> Пожалуйста, не удаляй комментарии ревьюера, так как они повышают качество повторного ревью.\n",
    "\n",
    "Комментарии будут в <font color='green'>зеленой</font>, <font color='blue'>синей</font> или <font color='red'>красной</font> рамках:\n",
    "\n",
    "<div class=\"alert alert-block alert-success\">\n",
    "<b>Успех:</b> Если все сделано отлично\n",
    "</div>\n",
    "\n",
    "<div class=\"alert alert-block alert-info\">\n",
    "<b>Совет: </b> Если можно немного улучшить\n",
    "</div>\n",
    "\n",
    "<div class=\"alert alert-block alert-danger\">\n",
    "<b>Ошибка:</b> Если требуются исправления. Работа не может быть принята с красными комментариями.\n",
    "</div>\n",
    "\n",
    "-------------------\n",
    "\n",
    "Будет очень хорошо, если ты будешь помечать свои действия следующим образом:\n",
    "<div class=\"alert alert-block alert-warning\">\n",
    "<b>Комментарий студента:</b> ...\n",
    "</div>\n",
    "\n",
    "<div class=\"alert alert-block alert-warning\">\n",
    "<b>Изменения:</b> Были внесены следующие изменения ...\n",
    "</div>\n",
    "\n",
    "### <font color='orange'>Общее впечатление</font>\n",
    "* Большое спасибо за проделанную работу. Видно, что приложено много усилий.\n",
    "* Над этим проектом нужно будет еще немного поработать. Однако, изменения не должны занять много времени.\n",
    "* В работе я оставил несколько советов. Буду рад, если ты учтешь их.\n",
    "* С радостью отвечу на твои вопросы, если они есть. Лучше всего их собрать в следующей ячейке. Жду новую версию проекта."
   ]
  },
  {
   "cell_type": "markdown",
   "metadata": {},
   "source": [
    "### <font color='orange'>Общее впечатление (ревью 2)</font>\n",
    "* После исправлений проект улучшился и теперь он может быть зачтен.\n",
    "* Для удобства все новые комментарии обозначены фразой \"ревью 2\".\n",
    "* Удачи в дальнейшем обучении и следующих работах!"
   ]
  },
  {
   "cell_type": "markdown",
   "metadata": {},
   "source": [
    "# Выбор локации для скважины"
   ]
  },
  {
   "cell_type": "markdown",
   "metadata": {},
   "source": [
    "Допустим, вы работаете в добывающей компании «ГлавРосГосНефть». Нужно решить, где бурить новую скважину.\n",
    "\n",
    "Вам предоставлены пробы нефти в трёх регионах: в каждом 10 000 месторождений, где измерили качество нефти и объём её запасов. Постройте модель машинного обучения, которая поможет определить регион, где добыча принесёт наибольшую прибыль. Проанализируйте возможную прибыль и риски техникой *Bootstrap.*\n",
    "\n",
    "Шаги для выбора локации:\n",
    "\n",
    "- В избранном регионе ищут месторождения, для каждого определяют значения признаков;\n",
    "- Строят модель и оценивают объём запасов;\n",
    "- Выбирают месторождения с самым высокими оценками значений. Количество месторождений зависит от бюджета компании и стоимости разработки одной скважины;\n",
    "- Прибыль равна суммарной прибыли отобранных месторождений."
   ]
  },
  {
   "cell_type": "markdown",
   "metadata": {},
   "source": [
    "## Загрузка и подготовка данных"
   ]
  },
  {
   "cell_type": "code",
   "execution_count": 2,
   "metadata": {
    "ExecuteTime": {
     "end_time": "2023-08-27T17:46:36.275888043Z",
     "start_time": "2023-08-27T17:46:36.166445212Z"
    }
   },
   "outputs": [],
   "source": [
    "import pandas as pd\n",
    "from sklearn.model_selection import train_test_split\n",
    "from sklearn.linear_model import LinearRegression\n",
    "from sklearn.pipeline import Pipeline\n",
    "from sklearn.preprocessing import StandardScaler\n",
    "from sklearn.metrics import mean_squared_error\n",
    "from sklearn.model_selection import cross_val_score\n",
    "from scipy.stats import bootstrap\n",
    "from scipy import stats as st\n",
    "import numpy as np\n",
    "from math import sqrt"
   ]
  },
  {
   "cell_type": "markdown",
   "metadata": {},
   "source": [
    "<div class=\"alert alert-block alert-success\">\n",
    "<b>Успех:</b> Отлично, что все импорты собраны в первой ячейке ноутбука! Если у того, кто будет запускать твой ноутбук будут отсутствовать некоторые библиотеки, то он это увидит сразу, а не в процессе!\n",
    "</div>"
   ]
  },
  {
   "cell_type": "code",
   "execution_count": 3,
   "metadata": {
    "ExecuteTime": {
     "end_time": "2023-08-27T17:46:36.624254466Z",
     "start_time": "2023-08-27T17:46:36.208414273Z"
    }
   },
   "outputs": [],
   "source": [
    "try:\n",
    "    geo0 = pd.read_csv('geo_data_0.csv')\n",
    "    geo1 = pd.read_csv('geo_data_1.csv')\n",
    "    geo2 = pd.read_csv('geo_data_2.csv')\n",
    "except:\n",
    "    geo0 = pd.read_csv('https://code.s3.yandex.net/datasets/geo_data_0.csv')\n",
    "    geo1 = pd.read_csv('https://code.s3.yandex.net/datasets/geo_data_1.csv')\n",
    "    geo2 = pd.read_csv('https://code.s3.yandex.net/datasets/geo_data_2.csv')\n",
    "\n",
    "geo0.index = geo0.id\n",
    "geo0.drop(['id'], axis=1, inplace=True)\n",
    "geo1.index = geo1.id\n",
    "geo1.drop(['id'], axis=1, inplace=True)\n",
    "geo2.index = geo2.id\n",
    "geo2.drop(['id'], axis=1, inplace=True)"
   ]
  },
  {
   "cell_type": "code",
   "execution_count": 4,
   "metadata": {
    "ExecuteTime": {
     "end_time": "2023-08-27T17:46:36.904866304Z",
     "start_time": "2023-08-27T17:46:36.628638566Z"
    }
   },
   "outputs": [
    {
     "name": "stdout",
     "output_type": "stream",
     "text": [
      "<class 'pandas.core.frame.DataFrame'>\n",
      "Index: 100000 entries, txEyH to 1CWhH\n",
      "Data columns (total 4 columns):\n",
      " #   Column   Non-Null Count   Dtype  \n",
      "---  ------   --------------   -----  \n",
      " 0   f0       100000 non-null  float64\n",
      " 1   f1       100000 non-null  float64\n",
      " 2   f2       100000 non-null  float64\n",
      " 3   product  100000 non-null  float64\n",
      "dtypes: float64(4)\n",
      "memory usage: 3.8+ MB\n"
     ]
    },
    {
     "data": {
      "text/plain": [
       "None"
      ]
     },
     "metadata": {},
     "output_type": "display_data"
    },
    {
     "name": "stdout",
     "output_type": "stream",
     "text": [
      "<class 'pandas.core.frame.DataFrame'>\n",
      "Index: 100000 entries, kBEdx to relB0\n",
      "Data columns (total 4 columns):\n",
      " #   Column   Non-Null Count   Dtype  \n",
      "---  ------   --------------   -----  \n",
      " 0   f0       100000 non-null  float64\n",
      " 1   f1       100000 non-null  float64\n",
      " 2   f2       100000 non-null  float64\n",
      " 3   product  100000 non-null  float64\n",
      "dtypes: float64(4)\n",
      "memory usage: 3.8+ MB\n"
     ]
    },
    {
     "data": {
      "text/plain": [
       "None"
      ]
     },
     "metadata": {},
     "output_type": "display_data"
    },
    {
     "name": "stdout",
     "output_type": "stream",
     "text": [
      "<class 'pandas.core.frame.DataFrame'>\n",
      "Index: 100000 entries, fwXo0 to V9kWn\n",
      "Data columns (total 4 columns):\n",
      " #   Column   Non-Null Count   Dtype  \n",
      "---  ------   --------------   -----  \n",
      " 0   f0       100000 non-null  float64\n",
      " 1   f1       100000 non-null  float64\n",
      " 2   f2       100000 non-null  float64\n",
      " 3   product  100000 non-null  float64\n",
      "dtypes: float64(4)\n",
      "memory usage: 3.8+ MB\n"
     ]
    },
    {
     "data": {
      "text/plain": [
       "None"
      ]
     },
     "metadata": {},
     "output_type": "display_data"
    },
    {
     "data": {
      "text/html": [
       "<div>\n",
       "<style scoped>\n",
       "    .dataframe tbody tr th:only-of-type {\n",
       "        vertical-align: middle;\n",
       "    }\n",
       "\n",
       "    .dataframe tbody tr th {\n",
       "        vertical-align: top;\n",
       "    }\n",
       "\n",
       "    .dataframe thead th {\n",
       "        text-align: right;\n",
       "    }\n",
       "</style>\n",
       "<table border=\"1\" class=\"dataframe\">\n",
       "  <thead>\n",
       "    <tr style=\"text-align: right;\">\n",
       "      <th></th>\n",
       "      <th>f0</th>\n",
       "      <th>f1</th>\n",
       "      <th>f2</th>\n",
       "      <th>product</th>\n",
       "    </tr>\n",
       "  </thead>\n",
       "  <tbody>\n",
       "    <tr>\n",
       "      <th>count</th>\n",
       "      <td>100000.000000</td>\n",
       "      <td>100000.000000</td>\n",
       "      <td>100000.000000</td>\n",
       "      <td>100000.000000</td>\n",
       "    </tr>\n",
       "    <tr>\n",
       "      <th>mean</th>\n",
       "      <td>0.500419</td>\n",
       "      <td>0.250143</td>\n",
       "      <td>2.502647</td>\n",
       "      <td>92.500000</td>\n",
       "    </tr>\n",
       "    <tr>\n",
       "      <th>std</th>\n",
       "      <td>0.871832</td>\n",
       "      <td>0.504433</td>\n",
       "      <td>3.248248</td>\n",
       "      <td>44.288691</td>\n",
       "    </tr>\n",
       "    <tr>\n",
       "      <th>min</th>\n",
       "      <td>-1.408605</td>\n",
       "      <td>-0.848218</td>\n",
       "      <td>-12.088328</td>\n",
       "      <td>0.000000</td>\n",
       "    </tr>\n",
       "    <tr>\n",
       "      <th>25%</th>\n",
       "      <td>-0.072580</td>\n",
       "      <td>-0.200881</td>\n",
       "      <td>0.287748</td>\n",
       "      <td>56.497507</td>\n",
       "    </tr>\n",
       "    <tr>\n",
       "      <th>50%</th>\n",
       "      <td>0.502360</td>\n",
       "      <td>0.250252</td>\n",
       "      <td>2.515969</td>\n",
       "      <td>91.849972</td>\n",
       "    </tr>\n",
       "    <tr>\n",
       "      <th>75%</th>\n",
       "      <td>1.073581</td>\n",
       "      <td>0.700646</td>\n",
       "      <td>4.715088</td>\n",
       "      <td>128.564089</td>\n",
       "    </tr>\n",
       "    <tr>\n",
       "      <th>max</th>\n",
       "      <td>2.362331</td>\n",
       "      <td>1.343769</td>\n",
       "      <td>16.003790</td>\n",
       "      <td>185.364347</td>\n",
       "    </tr>\n",
       "  </tbody>\n",
       "</table>\n",
       "</div>"
      ],
      "text/plain": [
       "                  f0             f1             f2        product\n",
       "count  100000.000000  100000.000000  100000.000000  100000.000000\n",
       "mean        0.500419       0.250143       2.502647      92.500000\n",
       "std         0.871832       0.504433       3.248248      44.288691\n",
       "min        -1.408605      -0.848218     -12.088328       0.000000\n",
       "25%        -0.072580      -0.200881       0.287748      56.497507\n",
       "50%         0.502360       0.250252       2.515969      91.849972\n",
       "75%         1.073581       0.700646       4.715088     128.564089\n",
       "max         2.362331       1.343769      16.003790     185.364347"
      ]
     },
     "metadata": {},
     "output_type": "display_data"
    },
    {
     "data": {
      "text/html": [
       "<div>\n",
       "<style scoped>\n",
       "    .dataframe tbody tr th:only-of-type {\n",
       "        vertical-align: middle;\n",
       "    }\n",
       "\n",
       "    .dataframe tbody tr th {\n",
       "        vertical-align: top;\n",
       "    }\n",
       "\n",
       "    .dataframe thead th {\n",
       "        text-align: right;\n",
       "    }\n",
       "</style>\n",
       "<table border=\"1\" class=\"dataframe\">\n",
       "  <thead>\n",
       "    <tr style=\"text-align: right;\">\n",
       "      <th></th>\n",
       "      <th>f0</th>\n",
       "      <th>f1</th>\n",
       "      <th>f2</th>\n",
       "      <th>product</th>\n",
       "    </tr>\n",
       "  </thead>\n",
       "  <tbody>\n",
       "    <tr>\n",
       "      <th>count</th>\n",
       "      <td>100000.000000</td>\n",
       "      <td>100000.000000</td>\n",
       "      <td>100000.000000</td>\n",
       "      <td>100000.000000</td>\n",
       "    </tr>\n",
       "    <tr>\n",
       "      <th>mean</th>\n",
       "      <td>1.141296</td>\n",
       "      <td>-4.796579</td>\n",
       "      <td>2.494541</td>\n",
       "      <td>68.825000</td>\n",
       "    </tr>\n",
       "    <tr>\n",
       "      <th>std</th>\n",
       "      <td>8.965932</td>\n",
       "      <td>5.119872</td>\n",
       "      <td>1.703572</td>\n",
       "      <td>45.944423</td>\n",
       "    </tr>\n",
       "    <tr>\n",
       "      <th>min</th>\n",
       "      <td>-31.609576</td>\n",
       "      <td>-26.358598</td>\n",
       "      <td>-0.018144</td>\n",
       "      <td>0.000000</td>\n",
       "    </tr>\n",
       "    <tr>\n",
       "      <th>25%</th>\n",
       "      <td>-6.298551</td>\n",
       "      <td>-8.267985</td>\n",
       "      <td>1.000021</td>\n",
       "      <td>26.953261</td>\n",
       "    </tr>\n",
       "    <tr>\n",
       "      <th>50%</th>\n",
       "      <td>1.153055</td>\n",
       "      <td>-4.813172</td>\n",
       "      <td>2.011479</td>\n",
       "      <td>57.085625</td>\n",
       "    </tr>\n",
       "    <tr>\n",
       "      <th>75%</th>\n",
       "      <td>8.621015</td>\n",
       "      <td>-1.332816</td>\n",
       "      <td>3.999904</td>\n",
       "      <td>107.813044</td>\n",
       "    </tr>\n",
       "    <tr>\n",
       "      <th>max</th>\n",
       "      <td>29.421755</td>\n",
       "      <td>18.734063</td>\n",
       "      <td>5.019721</td>\n",
       "      <td>137.945408</td>\n",
       "    </tr>\n",
       "  </tbody>\n",
       "</table>\n",
       "</div>"
      ],
      "text/plain": [
       "                  f0             f1             f2        product\n",
       "count  100000.000000  100000.000000  100000.000000  100000.000000\n",
       "mean        1.141296      -4.796579       2.494541      68.825000\n",
       "std         8.965932       5.119872       1.703572      45.944423\n",
       "min       -31.609576     -26.358598      -0.018144       0.000000\n",
       "25%        -6.298551      -8.267985       1.000021      26.953261\n",
       "50%         1.153055      -4.813172       2.011479      57.085625\n",
       "75%         8.621015      -1.332816       3.999904     107.813044\n",
       "max        29.421755      18.734063       5.019721     137.945408"
      ]
     },
     "metadata": {},
     "output_type": "display_data"
    },
    {
     "data": {
      "text/html": [
       "<div>\n",
       "<style scoped>\n",
       "    .dataframe tbody tr th:only-of-type {\n",
       "        vertical-align: middle;\n",
       "    }\n",
       "\n",
       "    .dataframe tbody tr th {\n",
       "        vertical-align: top;\n",
       "    }\n",
       "\n",
       "    .dataframe thead th {\n",
       "        text-align: right;\n",
       "    }\n",
       "</style>\n",
       "<table border=\"1\" class=\"dataframe\">\n",
       "  <thead>\n",
       "    <tr style=\"text-align: right;\">\n",
       "      <th></th>\n",
       "      <th>f0</th>\n",
       "      <th>f1</th>\n",
       "      <th>f2</th>\n",
       "      <th>product</th>\n",
       "    </tr>\n",
       "  </thead>\n",
       "  <tbody>\n",
       "    <tr>\n",
       "      <th>count</th>\n",
       "      <td>100000.000000</td>\n",
       "      <td>100000.000000</td>\n",
       "      <td>100000.000000</td>\n",
       "      <td>100000.000000</td>\n",
       "    </tr>\n",
       "    <tr>\n",
       "      <th>mean</th>\n",
       "      <td>0.002023</td>\n",
       "      <td>-0.002081</td>\n",
       "      <td>2.495128</td>\n",
       "      <td>95.000000</td>\n",
       "    </tr>\n",
       "    <tr>\n",
       "      <th>std</th>\n",
       "      <td>1.732045</td>\n",
       "      <td>1.730417</td>\n",
       "      <td>3.473445</td>\n",
       "      <td>44.749921</td>\n",
       "    </tr>\n",
       "    <tr>\n",
       "      <th>min</th>\n",
       "      <td>-8.760004</td>\n",
       "      <td>-7.084020</td>\n",
       "      <td>-11.970335</td>\n",
       "      <td>0.000000</td>\n",
       "    </tr>\n",
       "    <tr>\n",
       "      <th>25%</th>\n",
       "      <td>-1.162288</td>\n",
       "      <td>-1.174820</td>\n",
       "      <td>0.130359</td>\n",
       "      <td>59.450441</td>\n",
       "    </tr>\n",
       "    <tr>\n",
       "      <th>50%</th>\n",
       "      <td>0.009424</td>\n",
       "      <td>-0.009482</td>\n",
       "      <td>2.484236</td>\n",
       "      <td>94.925613</td>\n",
       "    </tr>\n",
       "    <tr>\n",
       "      <th>75%</th>\n",
       "      <td>1.158535</td>\n",
       "      <td>1.163678</td>\n",
       "      <td>4.858794</td>\n",
       "      <td>130.595027</td>\n",
       "    </tr>\n",
       "    <tr>\n",
       "      <th>max</th>\n",
       "      <td>7.238262</td>\n",
       "      <td>7.844801</td>\n",
       "      <td>16.739402</td>\n",
       "      <td>190.029838</td>\n",
       "    </tr>\n",
       "  </tbody>\n",
       "</table>\n",
       "</div>"
      ],
      "text/plain": [
       "                  f0             f1             f2        product\n",
       "count  100000.000000  100000.000000  100000.000000  100000.000000\n",
       "mean        0.002023      -0.002081       2.495128      95.000000\n",
       "std         1.732045       1.730417       3.473445      44.749921\n",
       "min        -8.760004      -7.084020     -11.970335       0.000000\n",
       "25%        -1.162288      -1.174820       0.130359      59.450441\n",
       "50%         0.009424      -0.009482       2.484236      94.925613\n",
       "75%         1.158535       1.163678       4.858794     130.595027\n",
       "max         7.238262       7.844801      16.739402     190.029838"
      ]
     },
     "metadata": {},
     "output_type": "display_data"
    }
   ],
   "source": [
    "# Проверим данные\n",
    "display(geo0.info())\n",
    "display(geo1.info())\n",
    "display(geo2.info())\n",
    "display(geo0.describe())\n",
    "display(geo1.describe())\n",
    "display(geo2.describe())"
   ]
  },
  {
   "cell_type": "markdown",
   "metadata": {},
   "source": [
    "Пропущенных значений нет, у датасета geo2 в первых двух столбцах большое стандартное отклонение. Минимальные и максимальные значения тоже сильно отличаются между столбцами, поэтому понадобится нормализация."
   ]
  },
  {
   "cell_type": "markdown",
   "metadata": {},
   "source": [
    "<div class=\"alert alert-block alert-success\">\n",
    "<b>Успех:</b> Данные загружены и осмотрены корректно. Согласен, что колонка id нам не нужна.\n",
    "</div>"
   ]
  },
  {
   "cell_type": "markdown",
   "metadata": {},
   "source": [
    "## Обучение и проверка модели"
   ]
  },
  {
   "cell_type": "code",
   "execution_count": 5,
   "metadata": {
    "ExecuteTime": {
     "end_time": "2023-08-27T17:46:37.307758769Z",
     "start_time": "2023-08-27T17:46:36.817677492Z"
    }
   },
   "outputs": [],
   "source": [
    "# Подготовим данные\n",
    "x0, y0 = geo0[['f0', 'f1', 'f2']], geo0['product']\n",
    "x1, y1 = geo1[['f0', 'f1', 'f2']], geo1['product']\n",
    "x2, y2 = geo2[['f0', 'f1', 'f2']], geo2['product']\n",
    "\n",
    "X_train0, X_test0, y_train0, y_test0 = train_test_split(x0, y0, train_size=0.75, random_state=44)\n",
    "X_train1, X_test1, y_train1, y_test1 = train_test_split(x1, y1, train_size=0.75, random_state=44)\n",
    "X_train2, X_test2, y_train2, y_test2 = train_test_split(x2, y2, train_size=0.75, random_state=44)"
   ]
  },
  {
   "cell_type": "code",
   "execution_count": 6,
   "metadata": {
    "ExecuteTime": {
     "end_time": "2023-08-27T17:46:37.318812676Z",
     "start_time": "2023-08-27T17:46:36.997688214Z"
    }
   },
   "outputs": [
    {
     "name": "stdout",
     "output_type": "stream",
     "text": [
      "model0 score 0.2660329817014818\n",
      "model1 score 0.9996298568202542\n",
      "model2 score 0.19487075168240908\n"
     ]
    }
   ],
   "source": [
    " # Создадим модели и обучим модели\n",
    "pipe = Pipeline([('scaler', StandardScaler()), ('LinearRegression', LinearRegression())])\n",
    "model0 = pipe.fit(X_train0, y_train0)\n",
    "pipe = Pipeline([('scaler', StandardScaler()), ('LinearRegression', LinearRegression())])\n",
    "model1 = pipe.fit(X_train1, y_train1)\n",
    "pipe = Pipeline([('scaler', StandardScaler()), ('LinearRegression', LinearRegression())])\n",
    "model2 = pipe.fit(X_train2, y_train2)\n",
    "\n",
    "print('model0 score', model0.score(X_test0, y_test0))\n",
    "print('model1 score', model1.score(X_test1, y_test1))\n",
    "print('model2 score', model2.score(X_test2, y_test2))"
   ]
  },
  {
   "cell_type": "code",
   "execution_count": 7,
   "metadata": {
    "ExecuteTime": {
     "end_time": "2023-08-27T17:46:38.277133150Z",
     "start_time": "2023-08-27T17:46:37.151738899Z"
    }
   },
   "outputs": [
    {
     "name": "stdout",
     "output_type": "stream",
     "text": [
      "       mean     sigma\n",
      "0  0.275491  0.006089\n",
      "1  0.999624  0.000005\n",
      "2  0.198716  0.004868\n"
     ]
    }
   ],
   "source": [
    "# Попробуем оценить качество моделей при помощи кросс-валидации\n",
    "pipe = Pipeline([('scaler', StandardScaler()), ('LinearRegression', LinearRegression())])\n",
    "model_cv0 = cross_val_score(pipe, x0, y0, cv=5)\n",
    "model_cv1 = cross_val_score(pipe, x1, y1, cv=5)\n",
    "model_cv2 = cross_val_score(pipe, x2, y2, cv=5)\n",
    "\n",
    "cv_res = pd.concat([pd.Series(model_cv0), pd.Series(model_cv1), pd.Series(model_cv2)], axis=1)\n",
    "\n",
    "print(cv_res := pd.concat(\n",
    "    [pd.Series(cv_res.mean(), name='mean'), pd.Series(cv_res.std(), name='sigma')],\n",
    "    axis=1\n",
    "))"
   ]
  },
  {
   "cell_type": "code",
   "execution_count": 8,
   "metadata": {
    "ExecuteTime": {
     "end_time": "2023-08-27T17:46:38.277991899Z",
     "start_time": "2023-08-27T17:46:38.026122702Z"
    }
   },
   "outputs": [
    {
     "name": "stdout",
     "output_type": "stream",
     "text": [
      "model 0 prediction mean 92.46203438661259\n",
      "model 1 prediction mean 68.51920639719152\n",
      "model 2 prediction mean 94.98365106986161\n",
      "RMSE 37.77268636795981\n",
      "RMSE 0.8857076441957261\n",
      "RMSE 40.10562308381635\n"
     ]
    }
   ],
   "source": [
    "# Сделаем предсказания\n",
    "prediction0 = model0.predict(X_test0)\n",
    "prediction1 = model1.predict(X_test1)\n",
    "prediction2 = model2.predict(X_test2)\n",
    "\n",
    "print('model 0 prediction mean', prediction0.mean())\n",
    "print('model 1 prediction mean', prediction1.mean())\n",
    "print('model 2 prediction mean', prediction2.mean())\n",
    "\n",
    "print('RMSE', sqrt(mse0 := mean_squared_error(y_test0, prediction0)))\n",
    "print('RMSE', sqrt(mse1 := mean_squared_error(y_test1, prediction1)))\n",
    "print('RMSE', sqrt(mse2 := mean_squared_error(y_test2, prediction2)))"
   ]
  },
  {
   "cell_type": "markdown",
   "metadata": {},
   "source": [
    "В датасетах мало признаков, поэтому модели получились довольно низкого качества, кроме модели для датасета 1. Предсказанная средняя почти одинаковая у всех моделей, но ошибка меньше всего первой модели."
   ]
  },
  {
   "cell_type": "markdown",
   "metadata": {},
   "source": [
    "<div class=\"alert alert-block alert-success\">\n",
    "<b>Успех:</b> Модели обучены корректно.\n",
    "</div>\n",
    "\n",
    "<div class=\"alert alert-block alert-info\">\n",
    "<b>Совет: </b> На протяжении всего проекта происходит работа с 3мя одинаковыми таблицами. В связи с этим можно было использовать функции и/или циклы, чтобы избежать копирования кода.\n",
    "<br> Зачем его нужно избегать? Потому что очень часто оно приводит к ошибкам (например, забыл поменять одну из переменных). Впоследствии такие ошибки очень трудно найти.\n",
    "</div>"
   ]
  },
  {
   "cell_type": "markdown",
   "metadata": {},
   "source": [
    "## Подготовка к расчёту прибыли"
   ]
  },
  {
   "cell_type": "code",
   "execution_count": 9,
   "metadata": {
    "ExecuteTime": {
     "end_time": "2023-08-27T17:46:38.278308495Z",
     "start_time": "2023-08-27T17:46:38.082983692Z"
    }
   },
   "outputs": [
    {
     "name": "stdout",
     "output_type": "stream",
     "text": [
      "Минимальное безубыточное количество единиц нефти в скважине 111.11111111111111\n",
      "Предсказанная средняя минус безубыточное количество единиц в скважине -18.649076724498528\n",
      "Предсказанная средняя минус безубыточное количество единиц в скважине -42.59190471391959\n",
      "Предсказанная средняя минус безубыточное количество единиц в скважине -16.127460041249506\n"
     ]
    }
   ],
   "source": [
    "# Подготовка констант для расчёта\n",
    "BOREHOLE_AMOUNT = 500\n",
    "TOP_BOREHOLE_IN_DEVELOPMENT_AMOUNT = 200\n",
    "DEVELOPMENT_BUDGET = 10_000_000_000\n",
    "UNIT_OF_PRODUCT = 450_000\n",
    "# Рассчитаем достаточный объём сырья для безубыточной разработки новой скважины\n",
    "MIN_UNITS_IN_BOREHOLE = DEVELOPMENT_BUDGET/TOP_BOREHOLE_IN_DEVELOPMENT_AMOUNT/UNIT_OF_PRODUCT\n",
    "print('Минимальное безубыточное количество единиц нефти в скважине', MIN_UNITS_IN_BOREHOLE)\n",
    "print('Предсказанная средняя минус безубыточное количество единиц в скважине',\n",
    "      pred0_diff_with_optimum := prediction0.mean() - MIN_UNITS_IN_BOREHOLE)\n",
    "print('Предсказанная средняя минус безубыточное количество единиц в скважине',\n",
    "      pred1_diff_with_optimum := prediction1.mean() - MIN_UNITS_IN_BOREHOLE)\n",
    "print('Предсказанная средняя минус безубыточное количество единиц в скважине',\n",
    "      pred2_diff_with_optimum := prediction2.mean() - MIN_UNITS_IN_BOREHOLE)"
   ]
  },
  {
   "cell_type": "markdown",
   "metadata": {},
   "source": [
    "В среднем во всех регионах не хватает 16 тысяч баррелей. Всего для безубыточной добычи из скважины она должна содержать не менее 111.12 тысяч баррелей."
   ]
  },
  {
   "cell_type": "markdown",
   "metadata": {},
   "source": [
    "<div class=\"alert alert-block alert-success\">\n",
    "<b>Успех:</b> Точка безубыточности найдена верно, сравнение проведено!\n",
    "</div>"
   ]
  },
  {
   "cell_type": "markdown",
   "metadata": {},
   "source": [
    "## Расчёт прибыли и рисков "
   ]
  },
  {
   "cell_type": "markdown",
   "metadata": {},
   "source": [
    "\n",
    "<div class=\"alert alert-block alert-danger\">\n",
    "<b>Ошибка:</b> Этот шаг нужно будет значительно переработать.\n",
    "    \n",
    "1. В предыдущих шагах было получено 25000 настоящих и предсказанных значений для каждого региона.\n",
    "2. Здесь нужно определить функцию, которая на вход будет принимать 500 настоящих и 500 предсказанных значений для каждого региона. Для выбора 200 лучших скважин нужно использовать предсказанные значения. А вот для подсчета прибыли должны использоваться настоящие значения соответствующих ячеек.\n",
    "3. В следующем шаге нужно семплить 500 случайных скважин и передавать их в функцию для подсчета прибыли.\n",
    "4. В результате у тебя получится 1000 значений прибыли для каждого региона. По нему нужно посчитать 3 статистики:\n",
    "    * Среднюю прибыль\n",
    "    * Интервал с помощью метода квантилей\n",
    "    * Риск убытков – долю случаев, в которых прибыль отрицательна.\n",
    "</div>"
   ]
  },
  {
   "cell_type": "markdown",
   "metadata": {},
   "source": [
    "<div class=\"alert alert-block alert-warning\">\n",
    "<b>Комментарий студента:</b> Сделал ниже\n",
    "</div>"
   ]
  },
  {
   "cell_type": "code",
   "execution_count": 10,
   "metadata": {},
   "outputs": [
    {
     "name": "stdout",
     "output_type": "stream",
     "text": [
      "Средняя прибыль\n",
      "region0    3.792515e+08\n",
      "region1    4.489684e+08\n",
      "region2    3.257170e+08\n",
      "dtype: float64\n",
      "Доверительный интервал 0: -1.257e+08, 8.986e+08\n",
      "Доверительный интервал 1: 6.525e+07, 8.467e+08\n",
      "Доверительный интервал 2: -1.553e+08, 8.297e+08\n",
      "Риск убытков\n",
      "region0    0.067\n",
      "region1    0.011\n",
      "region2    0.103\n",
      "dtype: float64\n"
     ]
    }
   ],
   "source": [
    "state = np.random.RandomState(44)\n",
    "\n",
    "# Добавляем индекс в предсказание\n",
    "def add_index(predict, y_test):\n",
    "    return pd.Series(predict, index=y_test.index)\n",
    "\n",
    "# Нахождение лучших скважин и расчёт прибыли\n",
    "def bh_select_and_profit(pred, test):\n",
    "    sorted_ = pred.sort_values(ascending=False)[:200]\n",
    "    return test[sorted_.index].sum()*UNIT_OF_PRODUCT-DEVELOPMENT_BUDGET\n",
    "\n",
    "# Выборка 500 скважин\n",
    "def sample_500(predict, y_test):\n",
    "    predicted_values = predict.sample(500, random_state=state)\n",
    "    test_values = y_test.loc[predicted_values.index]\n",
    "    return predicted_values, test_values\n",
    "\n",
    "# Соберём всё в кортежи\n",
    "predictions = (prediction0, prediction1, prediction2)\n",
    "test_values = (y_test0, y_test1, y_test2)\n",
    "\n",
    "# Добавляем индекс в предсказание\n",
    "predict_with_index = [add_index(pred, ind) for pred, ind in zip(predictions, test_values)]\n",
    "\n",
    "# Соберём результаты в списки по регионам\n",
    "results = {'region0': [], 'region1': [], 'region2': []}\n",
    "for predict, test_val, region in zip(predict_with_index, test_values, results):\n",
    "    results[region] = [bh_select_and_profit(*sample_500(predict, test_val)) for i in range(1000)]\n",
    "\n",
    "# Расчитаем искомые показатели\n",
    "results_table = pd.DataFrame(results)\n",
    "# Средняя прибыль\n",
    "print('Средняя прибыль')\n",
    "print(results_table.mean())\n",
    "# Доверительный интервал\n",
    "region0_low, region0_high = results_table.region0.quantile(0.025), results_table.region0.quantile(0.975)\n",
    "region1_low, region1_high = results_table.region1.quantile(0.025), results_table.region1.quantile(0.975)\n",
    "region2_low, region2_high = results_table.region2.quantile(0.025), results_table.region2.quantile(0.975)\n",
    "print(f'Доверительный интервал 0: {region0_low:.3e}, {region0_high:.3e}')\n",
    "print(f'Доверительный интервал 1: {region1_low:.3e}, {region1_high:.3e}')\n",
    "print(f'Доверительный интервал 2: {region2_low:.3e}, {region2_high:.3e}')\n",
    "# Риск убытков\n",
    "print('Риск убытков')\n",
    "print(results_table.apply(lambda x: sum(x<0)/len(x), axis=0))"
   ]
  },
  {
   "cell_type": "markdown",
   "metadata": {},
   "source": [
    "__Вывод__: Выгоден для добычи только регион номер 1. С вероятностью 95% он окажется прибыльным. Также у него наибольшая средняя прибыль из всех и минимальный риск убытков.\n",
    "\n",
    "Теперь мне хотелось бы задать 2 вопроса. Вообще в целом смысл задачи не очень понятен. Есть данные, в них уже есть цифры, почему не выбрать скважины по ним просто, для чего в этом случае предсказание? Я понимаю если бы были какие-то неразмеченные данные, но здесь то всё есть. Ниже ошибка которую я не смог исправить, я там ответил на ваш комментарий."
   ]
  },
  {
   "cell_type": "code",
   "execution_count": null,
   "metadata": {},
   "outputs": [],
   "source": [
    "# Используем метод bootstrap для оценки доверительного интервала\n",
    "state = np.random.RandomState(44)\n",
    "bootstrap(data=(list(prediction0), ), \n",
    "          statistic=lambda x, axis: sum(x) * UNIT_OF_PRODUCT - DEVELOPMENT_BUDGET,\n",
    "          n_resamples=1000,\n",
    "          batch=200,\n",
    "          vectorized=True,\n",
    "          confidence_level=0.95,\n",
    "          axis=0,\n",
    "          random_state=state)"
   ]
  },
  {
   "cell_type": "markdown",
   "metadata": {},
   "source": [
    "<div class=\"alert alert-block alert-info\">\n",
    "<b>Совет (ревью 2): </b> Вот так запускается код:\n",
    "    \n",
    "1) в data должно быть обязательно 2 размерности. Это есть в примере в доке: https://docs.scipy.org/doc/scipy/reference/generated/scipy.stats.bootstrap.html\n",
    "\n",
    "2) sum() уже нужно применять к list.\n",
    "</div>"
   ]
  },
  {
   "cell_type": "code",
   "execution_count": 38,
   "metadata": {
    "ExecuteTime": {
     "start_time": "2023-08-27T17:46:54.406417726Z"
    }
   },
   "outputs": [
    {
     "name": "stderr",
     "output_type": "stream",
     "text": [
      "/opt/conda/lib/python3.9/site-packages/scipy/stats/_resampling.py:124: RuntimeWarning: invalid value encountered in double_scalars\n",
      "  alpha_1 = ndtr(z0_hat + num1/(1 - a_hat*num1))\n",
      "/opt/conda/lib/python3.9/site-packages/scipy/stats/_resampling.py:126: RuntimeWarning: invalid value encountered in double_scalars\n",
      "  alpha_2 = ndtr(z0_hat + num2/(1 - a_hat*num2))\n",
      "/opt/conda/lib/python3.9/site-packages/scipy/stats/_resampling.py:92: DegenerateDataWarning: The bootstrap distribution is degenerate; the confidence interval is not defined.\n",
      "  warnings.warn(DegenerateDataWarning(msg))\n"
     ]
    },
    {
     "data": {
      "text/plain": [
       "BootstrapResult(confidence_interval=ConfidenceInterval(low=nan, high=nan), standard_error=149347797.18917978)"
      ]
     },
     "execution_count": 38,
     "metadata": {},
     "output_type": "execute_result"
    }
   ],
   "source": [
    "# Используем метод bootstrap для оценки доверительного интервала\n",
    "state = np.random.RandomState(44)\n",
    "bootstrap(data=(list(prediction0), ), \n",
    "          statistic=lambda x, axis: sum(x) * UNIT_OF_PRODUCT - DEVELOPMENT_BUDGET,\n",
    "          n_resamples=1000,\n",
    "          batch=200,\n",
    "          vectorized=True,\n",
    "          confidence_level=0.95,\n",
    "          axis=0,\n",
    "          random_state=state)"
   ]
  },
  {
   "cell_type": "markdown",
   "metadata": {},
   "source": [
    "__Вопрос__ уважаемому ревьюеру, почему у меня вылезает такая ошибка?"
   ]
  },
  {
   "cell_type": "markdown",
   "metadata": {},
   "source": [
    "<div class=\"alert alert-block alert-danger\">\n",
    "<b>Ошибка:</b> Параметр axis должен быть типа int. \n",
    "</div>"
   ]
  },
  {
   "cell_type": "markdown",
   "metadata": {},
   "source": [
    "<div class=\"alert alert-block alert-warning\">\n",
    "<b>Комментарий студента:</b> Я проверял, ставить int не помогает, полностью убрать параметр тоже не помогает. Изначально запускал вообще без axis, так как на вход pd.Series.\n",
    "</div>"
   ]
  },
  {
   "cell_type": "markdown",
   "metadata": {},
   "source": [
    "## Чек-лист готовности проекта"
   ]
  },
  {
   "cell_type": "markdown",
   "metadata": {},
   "source": [
    "Поставьте 'x' в выполненных пунктах. Далее нажмите Shift+Enter."
   ]
  },
  {
   "cell_type": "markdown",
   "metadata": {},
   "source": [
    "- [x]  Jupyter Notebook открыт\n",
    "- [x]  Весь код выполняется без ошибок\n",
    "- [x]  Ячейки с кодом расположены в порядке исполнения\n",
    "- [x]  Выполнен шаг 1: данные подготовлены\n",
    "- [x]  Выполнен шаг 2: модели обучены и проверены\n",
    "    - [x]  Данные корректно разбиты на обучающую и валидационную выборки\n",
    "    - [x]  Модели обучены, предсказания сделаны\n",
    "    - [x]  Предсказания и правильные ответы на валидационной выборке сохранены\n",
    "    - [x]  На экране напечатаны результаты\n",
    "    - [x]  Сделаны выводы\n",
    "- [x]  Выполнен шаг 3: проведена подготовка к расчёту прибыли\n",
    "    - [x]  Для всех ключевых значений созданы константы Python\n",
    "    - [x]  Посчитано минимальное среднее количество продукта в месторождениях региона, достаточное для разработки\n",
    "    - [x]  По предыдущему пункту сделаны выводы\n",
    "    - [x]  Написана функция расчёта прибыли\n",
    "- [x]  Выполнен шаг 4: посчитаны риски и прибыль\n",
    "    - [x]  Проведена процедура *Bootstrap*\n",
    "    - [x]  Все параметры бутстрепа соответствуют условию\n",
    "    - [x]  Найдены все нужные величины\n",
    "    - [x]  Предложен регион для разработки месторождения\n",
    "    - [x]  Выбор региона обоснован"
   ]
  }
 ],
 "metadata": {
  "ExecuteTimeLog": [
   {
    "duration": 1242,
    "start_time": "2023-08-27T22:10:03.276Z"
   },
   {
    "duration": 1046,
    "start_time": "2023-08-27T22:10:04.520Z"
   },
   {
    "duration": 151,
    "start_time": "2023-08-27T22:10:05.568Z"
   },
   {
    "duration": 149,
    "start_time": "2023-08-27T22:10:05.733Z"
   },
   {
    "duration": 269,
    "start_time": "2023-08-27T22:10:05.885Z"
   },
   {
    "duration": 2509,
    "start_time": "2023-08-27T22:10:06.236Z"
   },
   {
    "duration": 181,
    "start_time": "2023-08-27T22:10:08.752Z"
   },
   {
    "duration": 104,
    "start_time": "2023-08-27T22:10:08.937Z"
   },
   {
    "duration": 102,
    "start_time": "2023-08-27T22:10:10.702Z"
   },
   {
    "duration": 4,
    "start_time": "2023-08-27T22:10:14.028Z"
   },
   {
    "duration": 6,
    "start_time": "2023-08-27T22:10:52.514Z"
   },
   {
    "duration": 12,
    "start_time": "2023-08-27T22:11:14.137Z"
   },
   {
    "duration": 14,
    "start_time": "2023-08-27T22:11:17.627Z"
   },
   {
    "duration": 9,
    "start_time": "2023-08-27T22:11:34.332Z"
   },
   {
    "duration": 11,
    "start_time": "2023-08-27T22:11:53.709Z"
   },
   {
    "duration": 10,
    "start_time": "2023-08-27T22:27:25.327Z"
   },
   {
    "duration": 4,
    "start_time": "2023-08-27T22:43:47.105Z"
   },
   {
    "duration": 84,
    "start_time": "2023-08-27T22:46:47.686Z"
   },
   {
    "duration": 87,
    "start_time": "2023-08-27T22:47:13.663Z"
   },
   {
    "duration": 10,
    "start_time": "2023-08-27T22:47:50.294Z"
   },
   {
    "duration": 12,
    "start_time": "2023-08-27T22:48:05.509Z"
   },
   {
    "duration": 5,
    "start_time": "2023-08-27T22:48:33.721Z"
   },
   {
    "duration": 16,
    "start_time": "2023-08-27T22:49:24.071Z"
   },
   {
    "duration": 20,
    "start_time": "2023-08-27T22:59:15.650Z"
   },
   {
    "duration": 21,
    "start_time": "2023-08-27T22:59:41.898Z"
   },
   {
    "duration": 26,
    "start_time": "2023-08-27T22:59:54.539Z"
   },
   {
    "duration": 14,
    "start_time": "2023-08-27T23:01:07.298Z"
   },
   {
    "duration": 15,
    "start_time": "2023-08-27T23:01:22.174Z"
   },
   {
    "duration": 13,
    "start_time": "2023-08-27T23:02:16.093Z"
   },
   {
    "duration": 11,
    "start_time": "2023-08-27T23:07:54.034Z"
   },
   {
    "duration": 3569,
    "start_time": "2023-08-27T23:12:29.275Z"
   },
   {
    "duration": 3502,
    "start_time": "2023-08-27T23:13:19.749Z"
   },
   {
    "duration": 37,
    "start_time": "2023-08-27T23:15:02.171Z"
   },
   {
    "duration": 39,
    "start_time": "2023-08-27T23:15:20.441Z"
   },
   {
    "duration": 50,
    "start_time": "2023-08-27T23:16:01.304Z"
   },
   {
    "duration": 32,
    "start_time": "2023-08-27T23:16:35.654Z"
   },
   {
    "duration": 51,
    "start_time": "2023-08-27T23:16:43.008Z"
   },
   {
    "duration": 56,
    "start_time": "2023-08-27T23:17:14.426Z"
   },
   {
    "duration": 43,
    "start_time": "2023-08-27T23:20:44.124Z"
   },
   {
    "duration": 43,
    "start_time": "2023-08-27T23:20:57.708Z"
   },
   {
    "duration": 15,
    "start_time": "2023-08-27T23:21:33.444Z"
   },
   {
    "duration": 15,
    "start_time": "2023-08-27T23:21:42.146Z"
   },
   {
    "duration": 4,
    "start_time": "2023-08-27T23:22:56.306Z"
   },
   {
    "duration": 8570,
    "start_time": "2023-08-27T23:24:07.548Z"
   },
   {
    "duration": 8607,
    "start_time": "2023-08-27T23:24:33.505Z"
   },
   {
    "duration": 8462,
    "start_time": "2023-08-27T23:25:44.835Z"
   },
   {
    "duration": 11,
    "start_time": "2023-08-27T23:26:14.460Z"
   },
   {
    "duration": 9,
    "start_time": "2023-08-27T23:26:23.495Z"
   },
   {
    "duration": 22,
    "start_time": "2023-08-27T23:28:11.332Z"
   },
   {
    "duration": 12,
    "start_time": "2023-08-27T23:28:22.088Z"
   },
   {
    "duration": 13,
    "start_time": "2023-08-27T23:28:52.450Z"
   },
   {
    "duration": 15,
    "start_time": "2023-08-27T23:29:12.752Z"
   },
   {
    "duration": 9,
    "start_time": "2023-08-27T23:29:34.054Z"
   },
   {
    "duration": 12,
    "start_time": "2023-08-27T23:37:29.422Z"
   },
   {
    "duration": 15,
    "start_time": "2023-08-27T23:37:55.661Z"
   },
   {
    "duration": 13,
    "start_time": "2023-08-27T23:38:37.737Z"
   },
   {
    "duration": 11,
    "start_time": "2023-08-27T23:39:00.507Z"
   },
   {
    "duration": 17,
    "start_time": "2023-08-27T23:41:40.745Z"
   },
   {
    "duration": 18,
    "start_time": "2023-08-27T23:42:46.033Z"
   },
   {
    "duration": 17,
    "start_time": "2023-08-27T23:44:26.024Z"
   },
   {
    "duration": 18,
    "start_time": "2023-08-27T23:44:39.490Z"
   },
   {
    "duration": 14,
    "start_time": "2023-08-27T23:44:52.963Z"
   },
   {
    "duration": 7484,
    "start_time": "2023-08-27T23:45:26.493Z"
   },
   {
    "duration": 18,
    "start_time": "2023-08-27T23:46:07.788Z"
   },
   {
    "duration": 12,
    "start_time": "2023-08-27T23:46:17.915Z"
   },
   {
    "duration": 10,
    "start_time": "2023-08-27T23:46:27.419Z"
   },
   {
    "duration": 11,
    "start_time": "2023-08-27T23:48:26.261Z"
   },
   {
    "duration": 78,
    "start_time": "2023-08-27T23:48:33.362Z"
   },
   {
    "duration": 79,
    "start_time": "2023-08-27T23:48:45.251Z"
   },
   {
    "duration": 80,
    "start_time": "2023-08-27T23:48:48.822Z"
   },
   {
    "duration": 11,
    "start_time": "2023-08-27T23:48:57.253Z"
   },
   {
    "duration": 1028,
    "start_time": "2023-08-27T23:55:48.869Z"
   },
   {
    "duration": 922,
    "start_time": "2023-08-27T23:55:49.899Z"
   },
   {
    "duration": 136,
    "start_time": "2023-08-27T23:55:50.822Z"
   },
   {
    "duration": 116,
    "start_time": "2023-08-27T23:55:50.959Z"
   },
   {
    "duration": 258,
    "start_time": "2023-08-27T23:55:51.077Z"
   },
   {
    "duration": 2998,
    "start_time": "2023-08-27T23:55:51.337Z"
   },
   {
    "duration": 203,
    "start_time": "2023-08-27T23:55:54.337Z"
   },
   {
    "duration": 96,
    "start_time": "2023-08-27T23:55:54.542Z"
   },
   {
    "duration": 95,
    "start_time": "2023-08-27T23:55:54.639Z"
   },
   {
    "duration": 0,
    "start_time": "2023-08-27T23:55:54.736Z"
   },
   {
    "duration": 0,
    "start_time": "2023-08-27T23:55:54.737Z"
   },
   {
    "duration": 3,
    "start_time": "2023-08-27T23:56:12.669Z"
   },
   {
    "duration": 816,
    "start_time": "2023-08-27T23:56:12.674Z"
   },
   {
    "duration": 119,
    "start_time": "2023-08-27T23:56:13.491Z"
   },
   {
    "duration": 127,
    "start_time": "2023-08-27T23:56:13.612Z"
   },
   {
    "duration": 197,
    "start_time": "2023-08-27T23:56:13.741Z"
   },
   {
    "duration": 2995,
    "start_time": "2023-08-27T23:56:13.940Z"
   },
   {
    "duration": 198,
    "start_time": "2023-08-27T23:56:16.937Z"
   },
   {
    "duration": 98,
    "start_time": "2023-08-27T23:56:17.137Z"
   },
   {
    "duration": 7049,
    "start_time": "2023-08-27T23:56:17.236Z"
   },
   {
    "duration": 11,
    "start_time": "2023-08-27T23:56:24.286Z"
   },
   {
    "duration": 5712,
    "start_time": "2023-08-28T15:50:31.604Z"
   },
   {
    "duration": 933,
    "start_time": "2023-08-28T15:50:37.318Z"
   },
   {
    "duration": 158,
    "start_time": "2023-08-28T15:50:38.253Z"
   },
   {
    "duration": 135,
    "start_time": "2023-08-28T15:50:38.413Z"
   },
   {
    "duration": 331,
    "start_time": "2023-08-28T15:50:38.550Z"
   },
   {
    "duration": 2998,
    "start_time": "2023-08-28T15:50:38.884Z"
   },
   {
    "duration": 197,
    "start_time": "2023-08-28T15:50:41.885Z"
   },
   {
    "duration": 98,
    "start_time": "2023-08-28T15:50:42.084Z"
   },
   {
    "duration": 8333,
    "start_time": "2023-08-28T15:50:42.184Z"
   },
   {
    "duration": 137,
    "start_time": "2023-08-28T15:50:50.520Z"
   },
   {
    "duration": 5,
    "start_time": "2023-08-28T15:51:00.753Z"
   },
   {
    "duration": 12,
    "start_time": "2023-08-28T15:52:41.882Z"
   },
   {
    "duration": 12,
    "start_time": "2023-08-28T15:52:47.869Z"
   },
   {
    "duration": 146,
    "start_time": "2023-08-28T15:53:05.292Z"
   },
   {
    "duration": 81,
    "start_time": "2023-08-28T15:53:14.497Z"
   },
   {
    "duration": 12,
    "start_time": "2023-08-28T15:53:30.401Z"
   },
   {
    "duration": 11,
    "start_time": "2023-08-28T21:52:55.811Z"
   },
   {
    "duration": 5753,
    "start_time": "2023-08-28T21:52:59.508Z"
   },
   {
    "duration": 1016,
    "start_time": "2023-08-28T21:53:05.263Z"
   },
   {
    "duration": 141,
    "start_time": "2023-08-28T21:53:06.281Z"
   },
   {
    "duration": 142,
    "start_time": "2023-08-28T21:53:06.424Z"
   },
   {
    "duration": 202,
    "start_time": "2023-08-28T21:53:06.569Z"
   },
   {
    "duration": 2607,
    "start_time": "2023-08-28T21:53:06.852Z"
   },
   {
    "duration": 107,
    "start_time": "2023-08-28T21:53:09.461Z"
   },
   {
    "duration": 88,
    "start_time": "2023-08-28T21:53:09.571Z"
   },
   {
    "duration": 8016,
    "start_time": "2023-08-28T21:53:09.664Z"
   },
   {
    "duration": 134,
    "start_time": "2023-08-28T21:53:17.682Z"
   },
   {
    "duration": 23,
    "start_time": "2023-08-28T21:53:20.451Z"
   },
   {
    "duration": 17,
    "start_time": "2023-08-28T21:53:32.138Z"
   },
   {
    "duration": 4,
    "start_time": "2023-08-28T21:53:35.560Z"
   },
   {
    "duration": 11,
    "start_time": "2023-08-28T21:53:39.410Z"
   },
   {
    "duration": 13,
    "start_time": "2023-08-28T21:53:42.560Z"
   },
   {
    "duration": 17,
    "start_time": "2023-08-28T21:53:46.440Z"
   },
   {
    "duration": 8,
    "start_time": "2023-08-28T21:54:24.819Z"
   },
   {
    "duration": 14,
    "start_time": "2023-08-28T21:54:31.368Z"
   },
   {
    "duration": 11,
    "start_time": "2023-08-28T21:54:34.619Z"
   },
   {
    "duration": 4,
    "start_time": "2023-08-28T21:55:09.623Z"
   },
   {
    "duration": 5,
    "start_time": "2023-08-28T21:55:13.030Z"
   },
   {
    "duration": 17,
    "start_time": "2023-08-28T21:55:16.751Z"
   },
   {
    "duration": 4,
    "start_time": "2023-08-28T21:55:25.640Z"
   },
   {
    "duration": 4,
    "start_time": "2023-08-28T21:55:34.839Z"
   },
   {
    "duration": 94,
    "start_time": "2023-08-28T21:55:56.399Z"
   },
   {
    "duration": 97,
    "start_time": "2023-08-28T21:56:03.870Z"
   },
   {
    "duration": 166,
    "start_time": "2023-08-28T21:56:16.064Z"
   },
   {
    "duration": 552,
    "start_time": "2023-08-28T21:56:42.049Z"
   },
   {
    "duration": 9,
    "start_time": "2023-08-28T21:56:52.180Z"
   },
   {
    "duration": 15,
    "start_time": "2023-08-28T21:56:55.536Z"
   },
   {
    "duration": 540,
    "start_time": "2023-08-28T21:56:59.396Z"
   },
   {
    "duration": 577,
    "start_time": "2023-08-28T21:57:03.468Z"
   },
   {
    "duration": 21,
    "start_time": "2023-08-28T21:57:05.262Z"
   },
   {
    "duration": 490,
    "start_time": "2023-08-28T21:57:09.139Z"
   },
   {
    "duration": 550,
    "start_time": "2023-08-28T21:57:16.562Z"
   },
   {
    "duration": 474,
    "start_time": "2023-08-28T21:57:22.155Z"
   },
   {
    "duration": 5573,
    "start_time": "2023-08-28T21:57:28.860Z"
   }
  ],
  "kernelspec": {
   "display_name": "Python 3 (ipykernel)",
   "language": "python",
   "name": "python3"
  },
  "language_info": {
   "codemirror_mode": {
    "name": "ipython",
    "version": 3
   },
   "file_extension": ".py",
   "mimetype": "text/x-python",
   "name": "python",
   "nbconvert_exporter": "python",
   "pygments_lexer": "ipython3",
   "version": "3.9.5"
  },
  "toc": {
   "base_numbering": 1,
   "nav_menu": {},
   "number_sections": true,
   "sideBar": true,
   "skip_h1_title": true,
   "title_cell": "Table of Contents",
   "title_sidebar": "Contents",
   "toc_cell": false,
   "toc_position": {},
   "toc_section_display": true,
   "toc_window_display": false
  }
 },
 "nbformat": 4,
 "nbformat_minor": 2
}
