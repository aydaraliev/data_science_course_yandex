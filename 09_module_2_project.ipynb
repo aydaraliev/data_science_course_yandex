{
 "cells": [
  {
   "cell_type": "markdown",
   "metadata": {},
   "source": [
    "<div style=\"border:solid Chocolate 2px; padding: 40px\">\n",
    "\n",
    "<b> Айдар, привет!👋</b>\n",
    "\n",
    "Меня зовут Алексей Гриб, и я буду ревьюером твоего проекта. \n",
    "\n",
    "Сразу хочу предложить в дальнейшем общаться на \"ты\" - надеюсь, так будет комфортнее:) Но если это неудобно, обязательно дай знать, и мы придумаем что-нибудь ещё!\n",
    "    \n",
    "Цель ревью - не искать ошибки в твоём проекте, а помочь тебе сделать твою работу ещё лучше, устранив недочёты и приблизив её к реальным задачам специалиста по работе с данными. Поэтому не расстраивайся, если что-то не получилось с первого раза - это нормально, и это поможет тебе вырасти!\n",
    "    \n",
    "Ты можешь найти мои комментарии, обозначенные <font color='green'>зеленым</font>, <font color='gold'>желтым</font> и <font color='red'>красным</font> цветами, например:\n",
    "\n",
    "<br/>\n",
    "\n",
    "<div class=\"alert alert-success\">\n",
    "<h2> Комментарий ревьюера <a class=\"tocSkip\"> </h2>\n",
    "\n",
    "<b>Все отлично!👍:</b> похвала, рекомендации «со звёздочкой», полезные лайфхаки, которые сделают и без того красивое решение ещё более элегантным.\n",
    "</div>\n",
    "\n",
    "<br/>\n",
    "\n",
    "<div class=\"alert alert-warning\">\n",
    "    <h2> Комментарий ревьюера <a class=\"tocSkip\"> </h2>\n",
    "    \n",
    "<b>Некоторые замечания и рекомендации⚠️:</b> некритичные ошибки или развивающие рекомендации на будущее. \n",
    "</div>\n",
    "\n",
    "\n",
    "<br/>\n",
    "<div class=\"alert alert-block alert-danger\">\n",
    "<h2> Комментарий ревьюера <a class=\"tocSkip\"></h2>\n",
    "\n",
    "    \n",
    "<b>На доработку❌:</b>\n",
    "Критичные ошибки, которые обязательно нужно исправить.\n",
    "</div>\n",
    "\n",
    "Я не смогу принять проект, если в нём будет хотя бы одна критичная ошибка или несколько некритичных ошибок - тогда проект нужно будет немного доработать. Но это нестрашно - я обязательно дам тебе подсказку или укажу верное направление.\n",
    "    \n",
    "Пожалуйста, не удаляй мои комментарии, они будут особенно полезны для нашей работы в случае повторной проверки проекта. \n",
    "    \n",
    "Ты также можешь задавать свои вопросы, реагировать на мои комментарии, делать пометки и пояснения - полная творческая свобода! Но маленькая просьба - пускай они будут отличаться от моих комментариев, это поможет избежать путаницы в нашем общении:)\n",
    "Например, вот так:\n",
    "    \n",
    "<div class=\"alert alert-info\">\n",
    "<h2> Комментарий студента <a class=\"tocSkip\"> </h2>\n",
    "\n",
    "*твой текст*\n",
    "</div>\n",
    "    \n",
    "Давай посмотрим на твой проект!"
   ]
  },
  {
   "cell_type": "markdown",
   "metadata": {
    "toc": true
   },
   "source": [
    "<h1>Содержание<span class=\"tocSkip\"></span></h1>\n",
    "<div class=\"toc\"><ul class=\"toc-item\"><li><span><a href=\"#Подготовка-данных\" data-toc-modified-id=\"Подготовка-данных-1\"><span class=\"toc-item-num\">1&nbsp;&nbsp;</span>Подготовка данных</a></span></li><li><span><a href=\"#Анализ-данных\" data-toc-modified-id=\"Анализ-данных-2\"><span class=\"toc-item-num\">2&nbsp;&nbsp;</span>Анализ данных</a></span></li><li><span><a href=\"#Модель\" data-toc-modified-id=\"Модель-3\"><span class=\"toc-item-num\">3&nbsp;&nbsp;</span>Модель</a></span></li></ul></div>"
   ]
  },
  {
   "cell_type": "markdown",
   "metadata": {},
   "source": [
    "# Восстановление золота из руды"
   ]
  },
  {
   "cell_type": "markdown",
   "metadata": {},
   "source": [
    "Подготовьте прототип модели машинного обучения для «Цифры». Компания разрабатывает решения для эффективной работы промышленных предприятий.\n",
    "\n",
    "Модель должна предсказать коэффициент восстановления золота из золотосодержащей руды. Используйте данные с параметрами добычи и очистки. \n",
    "\n",
    "Модель поможет оптимизировать производство, чтобы не запускать предприятие с убыточными характеристиками.\n",
    "\n",
    "Вам нужно:\n",
    "\n",
    "1. Подготовить данные;\n",
    "2. Провести исследовательский анализ данных;\n",
    "3. Построить и обучить модель.\n",
    "\n",
    "Чтобы выполнить проект, обращайтесь к библиотекам *pandas*, *matplotlib* и *sklearn.* Вам поможет их документация."
   ]
  },
  {
   "cell_type": "markdown",
   "metadata": {},
   "source": [
    "<div class=\"alert alert-success\">\n",
    "<h2> Комментарий ревьюера <a class=\"tocSkip\"> </h2>\n",
    "\n",
    "<b>Все отлично!👍:</b> Хорошее вступление!\n",
    "    \n",
    "В нём есть всё, что необходимо, чтобы понять суть проекта с первых строк отчёта!"
   ]
  },
  {
   "cell_type": "markdown",
   "metadata": {},
   "source": [
    "## Подготовка данных"
   ]
  },
  {
   "cell_type": "code",
   "execution_count": 1,
   "metadata": {
    "ExecuteTime": {
     "end_time": "2023-08-31T22:45:48.417970238Z",
     "start_time": "2023-08-31T22:45:48.367443919Z"
    }
   },
   "outputs": [],
   "source": [
    "import pandas as pd\n",
    "import re\n",
    "from itertools import groupby\n",
    "import matplotlib.pyplot as plt\n",
    "import scipy.stats as st\n",
    "import numpy as np\n",
    "from sklearn.metrics import mean_absolute_error\n",
    "from sklearn.metrics import make_scorer\n",
    "from sklearn.preprocessing import StandardScaler\n",
    "from sklearn.pipeline import Pipeline\n",
    "from sklearn.model_selection import cross_val_score\n",
    "from sklearn.model_selection import GridSearchCV\n",
    "from sklearn.linear_model import Ridge, LinearRegression, Lasso\n",
    "from sklearn.ensemble import RandomForestRegressor\n",
    "from sklearn.dummy import DummyRegressor"
   ]
  },
  {
   "cell_type": "markdown",
   "metadata": {},
   "source": [
    "<div class=\"alert alert-success\">\n",
    "<h2> Комментарий ревьюера <a class=\"tocSkip\"> </h2>\n",
    "\n",
    "<b>Все отлично!👍:</b> Библиотеки импортировали - отлично!"
   ]
  },
  {
   "cell_type": "code",
   "execution_count": 2,
   "metadata": {
    "ExecuteTime": {
     "end_time": "2023-08-31T21:17:54.537548283Z",
     "start_time": "2023-08-31T21:17:52.781786516Z"
    }
   },
   "outputs": [],
   "source": [
    "try:\n",
    "    gold_full  = pd.read_csv('gold_industry_full.csv')\n",
    "    gold_train = pd.read_csv('gold_industry_train.csv')\n",
    "    gold_test  = pd.read_csv('gold_industry_test.csv')\n",
    "except:\n",
    "    gold_full  = pd.read_csv('https://code.s3.yandex.net/datasets/gold_industry_full.csv')\n",
    "    gold_train = pd.read_csv('https://code.s3.yandex.net/datasets/gold_industry_train.csv')\n",
    "    gold_test  = pd.read_csv('https://code.s3.yandex.net/datasets/gold_industry_test.csv')"
   ]
  },
  {
   "cell_type": "markdown",
   "metadata": {},
   "source": [
    "<div class=\"alert alert-success\">\n",
    "<h2> Комментарий ревьюера <a class=\"tocSkip\"> </h2>\n",
    "\n",
    "<b>Все отлично!👍:</b>\n",
    "    \n",
    "Данные загрузили - отлично!\n",
    "    \n",
    "Здорово, что ты используешь конструкцию ``try-except`` для путей файлов. Но еще лучше использовать библиотеку `os` - её использование позволит тебе проверять существование указанных директорий (что может быть актуально при одновременной работа на локальном и сетевом окружении) и загружать данные из существующей директории, избегая ошибок. Как пример:\n",
    "    \n",
    "    import os\n",
    "\n",
    "    pth1 = '/folder_1/data.csv'\n",
    "    pth2 = '/folder_2/data.csv'\n",
    "    \n",
    "    if os.path.exists(pth1):\n",
    "        query_1 = pd.read_csv(pth1)\n",
    "    elif os.path.exists(pth2):\n",
    "        query_1 = pd.read_csv(pth2)\n",
    "    else:\n",
    "        print('Something is wrong')\n",
    "    \n",
    "Ещё на этапе считывания данных можно спарсить дату: за это действие отвечает параметр `parse_dates` метода `read_csv()`, в него нужно передать список с названием полей-дат, и в большинстве случаев дата будет корректно преобразована в нужный формат сразу:)\n",
    "Также на этапе считывания данных задать индекс-столбец- за это действие отвечает параметр `index_col`."
   ]
  },
  {
   "cell_type": "code",
   "execution_count": 3,
   "metadata": {
    "ExecuteTime": {
     "end_time": "2023-08-31T21:17:55.645554276Z",
     "start_time": "2023-08-31T21:17:54.576742379Z"
    }
   },
   "outputs": [
    {
     "name": "stdout",
     "output_type": "stream",
     "text": [
      "<class 'pandas.core.frame.DataFrame'>\n",
      "RangeIndex: 19439 entries, 0 to 19438\n",
      "Data columns (total 87 columns):\n",
      " #   Column                                              Non-Null Count  Dtype  \n",
      "---  ------                                              --------------  -----  \n",
      " 0   date                                                19439 non-null  object \n",
      " 1   rougher.input.feed_au                               19439 non-null  float64\n",
      " 2   rougher.input.feed_ag                               19439 non-null  float64\n",
      " 3   rougher.input.feed_pb                               19339 non-null  float64\n",
      " 4   rougher.input.feed_sol                              19340 non-null  float64\n",
      " 5   rougher.input.feed_rate                             19428 non-null  float64\n",
      " 6   rougher.input.feed_size                             19294 non-null  float64\n",
      " 7   rougher.input.floatbank10_sulfate                   19405 non-null  float64\n",
      " 8   rougher.input.floatbank10_xanthate                  19431 non-null  float64\n",
      " 9   rougher.state.floatbank10_a_air                     19438 non-null  float64\n",
      " 10  rougher.state.floatbank10_a_level                   19438 non-null  float64\n",
      " 11  rougher.state.floatbank10_b_air                     19438 non-null  float64\n",
      " 12  rougher.state.floatbank10_b_level                   19438 non-null  float64\n",
      " 13  rougher.state.floatbank10_c_air                     19438 non-null  float64\n",
      " 14  rougher.state.floatbank10_c_level                   19438 non-null  float64\n",
      " 15  rougher.state.floatbank10_d_air                     19439 non-null  float64\n",
      " 16  rougher.state.floatbank10_d_level                   19439 non-null  float64\n",
      " 17  rougher.state.floatbank10_e_air                     19003 non-null  float64\n",
      " 18  rougher.state.floatbank10_e_level                   19439 non-null  float64\n",
      " 19  rougher.state.floatbank10_f_air                     19439 non-null  float64\n",
      " 20  rougher.state.floatbank10_f_level                   19439 non-null  float64\n",
      " 21  rougher.input.floatbank11_sulfate                   19395 non-null  float64\n",
      " 22  rougher.input.floatbank11_xanthate                  18986 non-null  float64\n",
      " 23  rougher.calculation.sulfate_to_au_concentrate       19437 non-null  float64\n",
      " 24  rougher.calculation.floatbank10_sulfate_to_au_feed  19437 non-null  float64\n",
      " 25  rougher.calculation.floatbank11_sulfate_to_au_feed  19437 non-null  float64\n",
      " 26  rougher.calculation.au_pb_ratio                     19439 non-null  float64\n",
      " 27  rougher.output.concentrate_au                       19439 non-null  float64\n",
      " 28  rougher.output.concentrate_ag                       19439 non-null  float64\n",
      " 29  rougher.output.concentrate_pb                       19439 non-null  float64\n",
      " 30  rougher.output.concentrate_sol                      19416 non-null  float64\n",
      " 31  rougher.output.recovery                             19439 non-null  float64\n",
      " 32  rougher.output.tail_au                              19439 non-null  float64\n",
      " 33  rougher.output.tail_ag                              19438 non-null  float64\n",
      " 34  rougher.output.tail_pb                              19439 non-null  float64\n",
      " 35  rougher.output.tail_sol                             19439 non-null  float64\n",
      " 36  primary_cleaner.input.sulfate                       19415 non-null  float64\n",
      " 37  primary_cleaner.input.depressant                    19402 non-null  float64\n",
      " 38  primary_cleaner.input.feed_size                     19439 non-null  float64\n",
      " 39  primary_cleaner.input.xanthate                      19335 non-null  float64\n",
      " 40  primary_cleaner.state.floatbank8_a_air              19435 non-null  float64\n",
      " 41  primary_cleaner.state.floatbank8_a_level            19438 non-null  float64\n",
      " 42  primary_cleaner.state.floatbank8_b_air              19435 non-null  float64\n",
      " 43  primary_cleaner.state.floatbank8_b_level            19438 non-null  float64\n",
      " 44  primary_cleaner.state.floatbank8_c_air              19437 non-null  float64\n",
      " 45  primary_cleaner.state.floatbank8_c_level            19438 non-null  float64\n",
      " 46  primary_cleaner.state.floatbank8_d_air              19436 non-null  float64\n",
      " 47  primary_cleaner.state.floatbank8_d_level            19438 non-null  float64\n",
      " 48  primary_cleaner.output.concentrate_au               19439 non-null  float64\n",
      " 49  primary_cleaner.output.concentrate_ag               19439 non-null  float64\n",
      " 50  primary_cleaner.output.concentrate_pb               19323 non-null  float64\n",
      " 51  primary_cleaner.output.concentrate_sol              19069 non-null  float64\n",
      " 52  primary_cleaner.output.tail_au                      19439 non-null  float64\n",
      " 53  primary_cleaner.output.tail_ag                      19435 non-null  float64\n",
      " 54  primary_cleaner.output.tail_pb                      19418 non-null  float64\n",
      " 55  primary_cleaner.output.tail_sol                     19377 non-null  float64\n",
      " 56  secondary_cleaner.state.floatbank2_a_air            19219 non-null  float64\n",
      " 57  secondary_cleaner.state.floatbank2_a_level          19438 non-null  float64\n",
      " 58  secondary_cleaner.state.floatbank2_b_air            19416 non-null  float64\n",
      " 59  secondary_cleaner.state.floatbank2_b_level          19438 non-null  float64\n",
      " 60  secondary_cleaner.state.floatbank3_a_air            19426 non-null  float64\n",
      " 61  secondary_cleaner.state.floatbank3_a_level          19438 non-null  float64\n",
      " 62  secondary_cleaner.state.floatbank3_b_air            19438 non-null  float64\n",
      " 63  secondary_cleaner.state.floatbank3_b_level          19438 non-null  float64\n",
      " 64  secondary_cleaner.state.floatbank4_a_air            19433 non-null  float64\n",
      " 65  secondary_cleaner.state.floatbank4_a_level          19438 non-null  float64\n",
      " 66  secondary_cleaner.state.floatbank4_b_air            19438 non-null  float64\n",
      " 67  secondary_cleaner.state.floatbank4_b_level          19438 non-null  float64\n",
      " 68  secondary_cleaner.state.floatbank5_a_air            19438 non-null  float64\n",
      " 69  secondary_cleaner.state.floatbank5_a_level          19438 non-null  float64\n",
      " 70  secondary_cleaner.state.floatbank5_b_air            19438 non-null  float64\n",
      " 71  secondary_cleaner.state.floatbank5_b_level          19438 non-null  float64\n",
      " 72  secondary_cleaner.state.floatbank6_a_air            19437 non-null  float64\n",
      " 73  secondary_cleaner.state.floatbank6_a_level          19438 non-null  float64\n",
      " 74  secondary_cleaner.output.tail_au                    19439 non-null  float64\n",
      " 75  secondary_cleaner.output.tail_ag                    19437 non-null  float64\n",
      " 76  secondary_cleaner.output.tail_pb                    19427 non-null  float64\n",
      " 77  secondary_cleaner.output.tail_sol                   17691 non-null  float64\n",
      " 78  final.output.concentrate_au                         19439 non-null  float64\n",
      " 79  final.output.concentrate_ag                         19438 non-null  float64\n",
      " 80  final.output.concentrate_pb                         19438 non-null  float64\n",
      " 81  final.output.concentrate_sol                        19228 non-null  float64\n",
      " 82  final.output.recovery                               19439 non-null  float64\n",
      " 83  final.output.tail_au                                19439 non-null  float64\n",
      " 84  final.output.tail_ag                                19438 non-null  float64\n",
      " 85  final.output.tail_pb                                19338 non-null  float64\n",
      " 86  final.output.tail_sol                               19433 non-null  float64\n",
      "dtypes: float64(86), object(1)\n",
      "memory usage: 12.9+ MB\n",
      "<class 'pandas.core.frame.DataFrame'>\n",
      "RangeIndex: 14579 entries, 0 to 14578\n",
      "Data columns (total 87 columns):\n",
      " #   Column                                              Non-Null Count  Dtype  \n",
      "---  ------                                              --------------  -----  \n",
      " 0   date                                                14579 non-null  object \n",
      " 1   rougher.input.feed_au                               14579 non-null  float64\n",
      " 2   rougher.input.feed_ag                               14579 non-null  float64\n",
      " 3   rougher.input.feed_pb                               14507 non-null  float64\n",
      " 4   rougher.input.feed_sol                              14502 non-null  float64\n",
      " 5   rougher.input.feed_rate                             14572 non-null  float64\n",
      " 6   rougher.input.feed_size                             14478 non-null  float64\n",
      " 7   rougher.input.floatbank10_sulfate                   14548 non-null  float64\n",
      " 8   rougher.input.floatbank10_xanthate                  14572 non-null  float64\n",
      " 9   rougher.state.floatbank10_a_air                     14579 non-null  float64\n",
      " 10  rougher.state.floatbank10_a_level                   14579 non-null  float64\n",
      " 11  rougher.state.floatbank10_b_air                     14579 non-null  float64\n",
      " 12  rougher.state.floatbank10_b_level                   14579 non-null  float64\n",
      " 13  rougher.state.floatbank10_c_air                     14579 non-null  float64\n",
      " 14  rougher.state.floatbank10_c_level                   14579 non-null  float64\n",
      " 15  rougher.state.floatbank10_d_air                     14579 non-null  float64\n",
      " 16  rougher.state.floatbank10_d_level                   14579 non-null  float64\n",
      " 17  rougher.state.floatbank10_e_air                     14150 non-null  float64\n",
      " 18  rougher.state.floatbank10_e_level                   14579 non-null  float64\n",
      " 19  rougher.state.floatbank10_f_air                     14579 non-null  float64\n",
      " 20  rougher.state.floatbank10_f_level                   14579 non-null  float64\n",
      " 21  rougher.input.floatbank11_sulfate                   14543 non-null  float64\n",
      " 22  rougher.input.floatbank11_xanthate                  14172 non-null  float64\n",
      " 23  rougher.calculation.sulfate_to_au_concentrate       14578 non-null  float64\n",
      " 24  rougher.calculation.floatbank10_sulfate_to_au_feed  14578 non-null  float64\n",
      " 25  rougher.calculation.floatbank11_sulfate_to_au_feed  14578 non-null  float64\n",
      " 26  rougher.calculation.au_pb_ratio                     14579 non-null  float64\n",
      " 27  rougher.output.concentrate_au                       14579 non-null  float64\n",
      " 28  rougher.output.concentrate_ag                       14579 non-null  float64\n",
      " 29  rougher.output.concentrate_pb                       14579 non-null  float64\n",
      " 30  rougher.output.concentrate_sol                      14561 non-null  float64\n",
      " 31  rougher.output.recovery                             14579 non-null  float64\n",
      " 32  rougher.output.tail_au                              14579 non-null  float64\n",
      " 33  rougher.output.tail_ag                              14578 non-null  float64\n",
      " 34  rougher.output.tail_pb                              14579 non-null  float64\n",
      " 35  rougher.output.tail_sol                             14579 non-null  float64\n",
      " 36  primary_cleaner.input.sulfate                       14556 non-null  float64\n",
      " 37  primary_cleaner.input.depressant                    14551 non-null  float64\n",
      " 38  primary_cleaner.input.feed_size                     14579 non-null  float64\n",
      " 39  primary_cleaner.input.xanthate                      14518 non-null  float64\n",
      " 40  primary_cleaner.state.floatbank8_a_air              14576 non-null  float64\n",
      " 41  primary_cleaner.state.floatbank8_a_level            14579 non-null  float64\n",
      " 42  primary_cleaner.state.floatbank8_b_air              14576 non-null  float64\n",
      " 43  primary_cleaner.state.floatbank8_b_level            14579 non-null  float64\n",
      " 44  primary_cleaner.state.floatbank8_c_air              14579 non-null  float64\n",
      " 45  primary_cleaner.state.floatbank8_c_level            14579 non-null  float64\n",
      " 46  primary_cleaner.state.floatbank8_d_air              14578 non-null  float64\n",
      " 47  primary_cleaner.state.floatbank8_d_level            14579 non-null  float64\n",
      " 48  primary_cleaner.output.concentrate_au               14579 non-null  float64\n",
      " 49  primary_cleaner.output.concentrate_ag               14579 non-null  float64\n",
      " 50  primary_cleaner.output.concentrate_pb               14491 non-null  float64\n",
      " 51  primary_cleaner.output.concentrate_sol              14314 non-null  float64\n",
      " 52  primary_cleaner.output.tail_au                      14579 non-null  float64\n",
      " 53  primary_cleaner.output.tail_ag                      14575 non-null  float64\n",
      " 54  primary_cleaner.output.tail_pb                      14573 non-null  float64\n",
      " 55  primary_cleaner.output.tail_sol                     14534 non-null  float64\n",
      " 56  secondary_cleaner.state.floatbank2_a_air            14485 non-null  float64\n",
      " 57  secondary_cleaner.state.floatbank2_a_level          14579 non-null  float64\n",
      " 58  secondary_cleaner.state.floatbank2_b_air            14557 non-null  float64\n",
      " 59  secondary_cleaner.state.floatbank2_b_level          14579 non-null  float64\n",
      " 60  secondary_cleaner.state.floatbank3_a_air            14567 non-null  float64\n",
      " 61  secondary_cleaner.state.floatbank3_a_level          14579 non-null  float64\n",
      " 62  secondary_cleaner.state.floatbank3_b_air            14579 non-null  float64\n",
      " 63  secondary_cleaner.state.floatbank3_b_level          14579 non-null  float64\n",
      " 64  secondary_cleaner.state.floatbank4_a_air            14574 non-null  float64\n",
      " 65  secondary_cleaner.state.floatbank4_a_level          14579 non-null  float64\n",
      " 66  secondary_cleaner.state.floatbank4_b_air            14579 non-null  float64\n",
      " 67  secondary_cleaner.state.floatbank4_b_level          14579 non-null  float64\n",
      " 68  secondary_cleaner.state.floatbank5_a_air            14579 non-null  float64\n",
      " 69  secondary_cleaner.state.floatbank5_a_level          14579 non-null  float64\n",
      " 70  secondary_cleaner.state.floatbank5_b_air            14579 non-null  float64\n",
      " 71  secondary_cleaner.state.floatbank5_b_level          14579 non-null  float64\n",
      " 72  secondary_cleaner.state.floatbank6_a_air            14578 non-null  float64\n",
      " 73  secondary_cleaner.state.floatbank6_a_level          14579 non-null  float64\n",
      " 74  secondary_cleaner.output.tail_au                    14579 non-null  float64\n",
      " 75  secondary_cleaner.output.tail_ag                    14578 non-null  float64\n",
      " 76  secondary_cleaner.output.tail_pb                    14575 non-null  float64\n",
      " 77  secondary_cleaner.output.tail_sol                   13659 non-null  float64\n",
      " 78  final.output.concentrate_au                         14579 non-null  float64\n",
      " 79  final.output.concentrate_ag                         14578 non-null  float64\n",
      " 80  final.output.concentrate_pb                         14578 non-null  float64\n",
      " 81  final.output.concentrate_sol                        14387 non-null  float64\n",
      " 82  final.output.recovery                               14579 non-null  float64\n",
      " 83  final.output.tail_au                                14579 non-null  float64\n",
      " 84  final.output.tail_ag                                14578 non-null  float64\n",
      " 85  final.output.tail_pb                                14504 non-null  float64\n",
      " 86  final.output.tail_sol                               14574 non-null  float64\n",
      "dtypes: float64(86), object(1)\n",
      "memory usage: 9.7+ MB\n",
      "<class 'pandas.core.frame.DataFrame'>\n",
      "RangeIndex: 4860 entries, 0 to 4859\n",
      "Data columns (total 53 columns):\n",
      " #   Column                                      Non-Null Count  Dtype  \n",
      "---  ------                                      --------------  -----  \n",
      " 0   date                                        4860 non-null   object \n",
      " 1   rougher.input.feed_au                       4860 non-null   float64\n",
      " 2   rougher.input.feed_ag                       4860 non-null   float64\n",
      " 3   rougher.input.feed_pb                       4832 non-null   float64\n",
      " 4   rougher.input.feed_sol                      4838 non-null   float64\n",
      " 5   rougher.input.feed_rate                     4856 non-null   float64\n",
      " 6   rougher.input.feed_size                     4816 non-null   float64\n",
      " 7   rougher.input.floatbank10_sulfate           4857 non-null   float64\n",
      " 8   rougher.input.floatbank10_xanthate          4859 non-null   float64\n",
      " 9   rougher.state.floatbank10_a_air             4859 non-null   float64\n",
      " 10  rougher.state.floatbank10_a_level           4859 non-null   float64\n",
      " 11  rougher.state.floatbank10_b_air             4859 non-null   float64\n",
      " 12  rougher.state.floatbank10_b_level           4859 non-null   float64\n",
      " 13  rougher.state.floatbank10_c_air             4859 non-null   float64\n",
      " 14  rougher.state.floatbank10_c_level           4859 non-null   float64\n",
      " 15  rougher.state.floatbank10_d_air             4860 non-null   float64\n",
      " 16  rougher.state.floatbank10_d_level           4860 non-null   float64\n",
      " 17  rougher.state.floatbank10_e_air             4853 non-null   float64\n",
      " 18  rougher.state.floatbank10_e_level           4860 non-null   float64\n",
      " 19  rougher.state.floatbank10_f_air             4860 non-null   float64\n",
      " 20  rougher.state.floatbank10_f_level           4860 non-null   float64\n",
      " 21  rougher.input.floatbank11_sulfate           4852 non-null   float64\n",
      " 22  rougher.input.floatbank11_xanthate          4814 non-null   float64\n",
      " 23  primary_cleaner.input.sulfate               4859 non-null   float64\n",
      " 24  primary_cleaner.input.depressant            4851 non-null   float64\n",
      " 25  primary_cleaner.input.feed_size             4860 non-null   float64\n",
      " 26  primary_cleaner.input.xanthate              4817 non-null   float64\n",
      " 27  primary_cleaner.state.floatbank8_a_air      4859 non-null   float64\n",
      " 28  primary_cleaner.state.floatbank8_a_level    4859 non-null   float64\n",
      " 29  primary_cleaner.state.floatbank8_b_air      4859 non-null   float64\n",
      " 30  primary_cleaner.state.floatbank8_b_level    4859 non-null   float64\n",
      " 31  primary_cleaner.state.floatbank8_c_air      4858 non-null   float64\n",
      " 32  primary_cleaner.state.floatbank8_c_level    4859 non-null   float64\n",
      " 33  primary_cleaner.state.floatbank8_d_air      4858 non-null   float64\n",
      " 34  primary_cleaner.state.floatbank8_d_level    4859 non-null   float64\n",
      " 35  secondary_cleaner.state.floatbank2_a_air    4734 non-null   float64\n",
      " 36  secondary_cleaner.state.floatbank2_a_level  4859 non-null   float64\n",
      " 37  secondary_cleaner.state.floatbank2_b_air    4859 non-null   float64\n",
      " 38  secondary_cleaner.state.floatbank2_b_level  4859 non-null   float64\n",
      " 39  secondary_cleaner.state.floatbank3_a_air    4859 non-null   float64\n",
      " 40  secondary_cleaner.state.floatbank3_a_level  4859 non-null   float64\n",
      " 41  secondary_cleaner.state.floatbank3_b_air    4859 non-null   float64\n",
      " 42  secondary_cleaner.state.floatbank3_b_level  4859 non-null   float64\n",
      " 43  secondary_cleaner.state.floatbank4_a_air    4859 non-null   float64\n",
      " 44  secondary_cleaner.state.floatbank4_a_level  4859 non-null   float64\n",
      " 45  secondary_cleaner.state.floatbank4_b_air    4859 non-null   float64\n",
      " 46  secondary_cleaner.state.floatbank4_b_level  4859 non-null   float64\n",
      " 47  secondary_cleaner.state.floatbank5_a_air    4859 non-null   float64\n",
      " 48  secondary_cleaner.state.floatbank5_a_level  4859 non-null   float64\n",
      " 49  secondary_cleaner.state.floatbank5_b_air    4859 non-null   float64\n",
      " 50  secondary_cleaner.state.floatbank5_b_level  4859 non-null   float64\n",
      " 51  secondary_cleaner.state.floatbank6_a_air    4859 non-null   float64\n",
      " 52  secondary_cleaner.state.floatbank6_a_level  4859 non-null   float64\n",
      "dtypes: float64(52), object(1)\n",
      "memory usage: 2.0+ MB\n"
     ]
    },
    {
     "data": {
      "text/html": [
       "<div>\n",
       "<style scoped>\n",
       "    .dataframe tbody tr th:only-of-type {\n",
       "        vertical-align: middle;\n",
       "    }\n",
       "\n",
       "    .dataframe tbody tr th {\n",
       "        vertical-align: top;\n",
       "    }\n",
       "\n",
       "    .dataframe thead th {\n",
       "        text-align: right;\n",
       "    }\n",
       "</style>\n",
       "<table border=\"1\" class=\"dataframe\">\n",
       "  <thead>\n",
       "    <tr style=\"text-align: right;\">\n",
       "      <th></th>\n",
       "      <th>count</th>\n",
       "      <th>mean</th>\n",
       "      <th>std</th>\n",
       "      <th>min</th>\n",
       "      <th>25%</th>\n",
       "      <th>50%</th>\n",
       "      <th>75%</th>\n",
       "      <th>max</th>\n",
       "    </tr>\n",
       "  </thead>\n",
       "  <tbody>\n",
       "    <tr>\n",
       "      <th>rougher.input.feed_au</th>\n",
       "      <td>19439.0</td>\n",
       "      <td>8.266097</td>\n",
       "      <td>1.955092</td>\n",
       "      <td>0.010000</td>\n",
       "      <td>6.854384</td>\n",
       "      <td>8.125839</td>\n",
       "      <td>9.769917</td>\n",
       "      <td>13.731330</td>\n",
       "    </tr>\n",
       "    <tr>\n",
       "      <th>rougher.input.feed_ag</th>\n",
       "      <td>19439.0</td>\n",
       "      <td>8.794927</td>\n",
       "      <td>1.936847</td>\n",
       "      <td>0.010000</td>\n",
       "      <td>7.237967</td>\n",
       "      <td>8.593574</td>\n",
       "      <td>10.213771</td>\n",
       "      <td>14.596026</td>\n",
       "    </tr>\n",
       "    <tr>\n",
       "      <th>rougher.input.feed_pb</th>\n",
       "      <td>19339.0</td>\n",
       "      <td>3.598085</td>\n",
       "      <td>1.049486</td>\n",
       "      <td>0.010000</td>\n",
       "      <td>2.887280</td>\n",
       "      <td>3.534895</td>\n",
       "      <td>4.244161</td>\n",
       "      <td>7.142594</td>\n",
       "    </tr>\n",
       "    <tr>\n",
       "      <th>rougher.input.feed_sol</th>\n",
       "      <td>19340.0</td>\n",
       "      <td>36.695114</td>\n",
       "      <td>5.145445</td>\n",
       "      <td>0.010000</td>\n",
       "      <td>34.207799</td>\n",
       "      <td>37.202650</td>\n",
       "      <td>40.039133</td>\n",
       "      <td>53.477742</td>\n",
       "    </tr>\n",
       "    <tr>\n",
       "      <th>rougher.input.feed_rate</th>\n",
       "      <td>19428.0</td>\n",
       "      <td>478.320042</td>\n",
       "      <td>105.373758</td>\n",
       "      <td>0.002986</td>\n",
       "      <td>416.525453</td>\n",
       "      <td>499.416120</td>\n",
       "      <td>550.172183</td>\n",
       "      <td>717.508837</td>\n",
       "    </tr>\n",
       "    <tr>\n",
       "      <th>...</th>\n",
       "      <td>...</td>\n",
       "      <td>...</td>\n",
       "      <td>...</td>\n",
       "      <td>...</td>\n",
       "      <td>...</td>\n",
       "      <td>...</td>\n",
       "      <td>...</td>\n",
       "      <td>...</td>\n",
       "    </tr>\n",
       "    <tr>\n",
       "      <th>final.output.recovery</th>\n",
       "      <td>19439.0</td>\n",
       "      <td>67.050208</td>\n",
       "      <td>10.125840</td>\n",
       "      <td>0.000000</td>\n",
       "      <td>63.299712</td>\n",
       "      <td>68.172738</td>\n",
       "      <td>72.686642</td>\n",
       "      <td>100.000000</td>\n",
       "    </tr>\n",
       "    <tr>\n",
       "      <th>final.output.tail_au</th>\n",
       "      <td>19439.0</td>\n",
       "      <td>3.042467</td>\n",
       "      <td>0.922808</td>\n",
       "      <td>0.000000</td>\n",
       "      <td>2.461138</td>\n",
       "      <td>2.984909</td>\n",
       "      <td>3.571351</td>\n",
       "      <td>8.245022</td>\n",
       "    </tr>\n",
       "    <tr>\n",
       "      <th>final.output.tail_ag</th>\n",
       "      <td>19438.0</td>\n",
       "      <td>9.688589</td>\n",
       "      <td>2.328642</td>\n",
       "      <td>0.000000</td>\n",
       "      <td>8.062878</td>\n",
       "      <td>9.743623</td>\n",
       "      <td>11.134294</td>\n",
       "      <td>19.552149</td>\n",
       "    </tr>\n",
       "    <tr>\n",
       "      <th>final.output.tail_pb</th>\n",
       "      <td>19338.0</td>\n",
       "      <td>2.705795</td>\n",
       "      <td>0.949077</td>\n",
       "      <td>0.000000</td>\n",
       "      <td>2.040119</td>\n",
       "      <td>2.748730</td>\n",
       "      <td>3.333216</td>\n",
       "      <td>5.804178</td>\n",
       "    </tr>\n",
       "    <tr>\n",
       "      <th>final.output.tail_sol</th>\n",
       "      <td>19433.0</td>\n",
       "      <td>10.583728</td>\n",
       "      <td>2.868782</td>\n",
       "      <td>0.000000</td>\n",
       "      <td>8.938947</td>\n",
       "      <td>10.622456</td>\n",
       "      <td>12.104271</td>\n",
       "      <td>22.317730</td>\n",
       "    </tr>\n",
       "  </tbody>\n",
       "</table>\n",
       "<p>86 rows × 8 columns</p>\n",
       "</div>"
      ],
      "text/plain": [
       "                           count        mean         std       min  \\\n",
       "rougher.input.feed_au    19439.0    8.266097    1.955092  0.010000   \n",
       "rougher.input.feed_ag    19439.0    8.794927    1.936847  0.010000   \n",
       "rougher.input.feed_pb    19339.0    3.598085    1.049486  0.010000   \n",
       "rougher.input.feed_sol   19340.0   36.695114    5.145445  0.010000   \n",
       "rougher.input.feed_rate  19428.0  478.320042  105.373758  0.002986   \n",
       "...                          ...         ...         ...       ...   \n",
       "final.output.recovery    19439.0   67.050208   10.125840  0.000000   \n",
       "final.output.tail_au     19439.0    3.042467    0.922808  0.000000   \n",
       "final.output.tail_ag     19438.0    9.688589    2.328642  0.000000   \n",
       "final.output.tail_pb     19338.0    2.705795    0.949077  0.000000   \n",
       "final.output.tail_sol    19433.0   10.583728    2.868782  0.000000   \n",
       "\n",
       "                                25%         50%         75%         max  \n",
       "rougher.input.feed_au      6.854384    8.125839    9.769917   13.731330  \n",
       "rougher.input.feed_ag      7.237967    8.593574   10.213771   14.596026  \n",
       "rougher.input.feed_pb      2.887280    3.534895    4.244161    7.142594  \n",
       "rougher.input.feed_sol    34.207799   37.202650   40.039133   53.477742  \n",
       "rougher.input.feed_rate  416.525453  499.416120  550.172183  717.508837  \n",
       "...                             ...         ...         ...         ...  \n",
       "final.output.recovery     63.299712   68.172738   72.686642  100.000000  \n",
       "final.output.tail_au       2.461138    2.984909    3.571351    8.245022  \n",
       "final.output.tail_ag       8.062878    9.743623   11.134294   19.552149  \n",
       "final.output.tail_pb       2.040119    2.748730    3.333216    5.804178  \n",
       "final.output.tail_sol      8.938947   10.622456   12.104271   22.317730  \n",
       "\n",
       "[86 rows x 8 columns]"
      ]
     },
     "metadata": {},
     "output_type": "display_data"
    },
    {
     "data": {
      "text/html": [
       "<div>\n",
       "<style scoped>\n",
       "    .dataframe tbody tr th:only-of-type {\n",
       "        vertical-align: middle;\n",
       "    }\n",
       "\n",
       "    .dataframe tbody tr th {\n",
       "        vertical-align: top;\n",
       "    }\n",
       "\n",
       "    .dataframe thead th {\n",
       "        text-align: right;\n",
       "    }\n",
       "</style>\n",
       "<table border=\"1\" class=\"dataframe\">\n",
       "  <thead>\n",
       "    <tr style=\"text-align: right;\">\n",
       "      <th></th>\n",
       "      <th>count</th>\n",
       "      <th>mean</th>\n",
       "      <th>std</th>\n",
       "      <th>min</th>\n",
       "      <th>25%</th>\n",
       "      <th>50%</th>\n",
       "      <th>75%</th>\n",
       "      <th>max</th>\n",
       "    </tr>\n",
       "  </thead>\n",
       "  <tbody>\n",
       "    <tr>\n",
       "      <th>rougher.input.feed_au</th>\n",
       "      <td>14579.0</td>\n",
       "      <td>8.352941</td>\n",
       "      <td>1.934376</td>\n",
       "      <td>0.010000</td>\n",
       "      <td>6.932996</td>\n",
       "      <td>8.225284</td>\n",
       "      <td>9.832210</td>\n",
       "      <td>13.731330</td>\n",
       "    </tr>\n",
       "    <tr>\n",
       "      <th>rougher.input.feed_ag</th>\n",
       "      <td>14579.0</td>\n",
       "      <td>8.877460</td>\n",
       "      <td>1.922536</td>\n",
       "      <td>0.010000</td>\n",
       "      <td>7.341922</td>\n",
       "      <td>8.715859</td>\n",
       "      <td>10.255843</td>\n",
       "      <td>14.596026</td>\n",
       "    </tr>\n",
       "    <tr>\n",
       "      <th>rougher.input.feed_pb</th>\n",
       "      <td>14507.0</td>\n",
       "      <td>3.604221</td>\n",
       "      <td>1.056063</td>\n",
       "      <td>0.010000</td>\n",
       "      <td>2.880490</td>\n",
       "      <td>3.532399</td>\n",
       "      <td>4.257282</td>\n",
       "      <td>7.052325</td>\n",
       "    </tr>\n",
       "    <tr>\n",
       "      <th>rougher.input.feed_sol</th>\n",
       "      <td>14502.0</td>\n",
       "      <td>36.561420</td>\n",
       "      <td>5.209823</td>\n",
       "      <td>0.010000</td>\n",
       "      <td>34.093951</td>\n",
       "      <td>37.097511</td>\n",
       "      <td>39.899799</td>\n",
       "      <td>53.475325</td>\n",
       "    </tr>\n",
       "    <tr>\n",
       "      <th>rougher.input.feed_rate</th>\n",
       "      <td>14572.0</td>\n",
       "      <td>474.332784</td>\n",
       "      <td>108.503552</td>\n",
       "      <td>0.002986</td>\n",
       "      <td>411.048483</td>\n",
       "      <td>498.187968</td>\n",
       "      <td>549.586552</td>\n",
       "      <td>717.508837</td>\n",
       "    </tr>\n",
       "    <tr>\n",
       "      <th>...</th>\n",
       "      <td>...</td>\n",
       "      <td>...</td>\n",
       "      <td>...</td>\n",
       "      <td>...</td>\n",
       "      <td>...</td>\n",
       "      <td>...</td>\n",
       "      <td>...</td>\n",
       "      <td>...</td>\n",
       "    </tr>\n",
       "    <tr>\n",
       "      <th>final.output.recovery</th>\n",
       "      <td>14579.0</td>\n",
       "      <td>66.759066</td>\n",
       "      <td>10.619709</td>\n",
       "      <td>0.000000</td>\n",
       "      <td>63.114596</td>\n",
       "      <td>67.962788</td>\n",
       "      <td>72.598187</td>\n",
       "      <td>100.000000</td>\n",
       "    </tr>\n",
       "    <tr>\n",
       "      <th>final.output.tail_au</th>\n",
       "      <td>14579.0</td>\n",
       "      <td>3.087939</td>\n",
       "      <td>0.915187</td>\n",
       "      <td>0.000000</td>\n",
       "      <td>2.505287</td>\n",
       "      <td>3.029238</td>\n",
       "      <td>3.614098</td>\n",
       "      <td>8.245022</td>\n",
       "    </tr>\n",
       "    <tr>\n",
       "      <th>final.output.tail_ag</th>\n",
       "      <td>14578.0</td>\n",
       "      <td>9.731972</td>\n",
       "      <td>2.358143</td>\n",
       "      <td>0.000000</td>\n",
       "      <td>8.088928</td>\n",
       "      <td>9.818512</td>\n",
       "      <td>11.169187</td>\n",
       "      <td>19.552149</td>\n",
       "    </tr>\n",
       "    <tr>\n",
       "      <th>final.output.tail_pb</th>\n",
       "      <td>14504.0</td>\n",
       "      <td>2.719985</td>\n",
       "      <td>0.958929</td>\n",
       "      <td>0.000000</td>\n",
       "      <td>2.036512</td>\n",
       "      <td>2.774847</td>\n",
       "      <td>3.353845</td>\n",
       "      <td>5.804178</td>\n",
       "    </tr>\n",
       "    <tr>\n",
       "      <th>final.output.tail_sol</th>\n",
       "      <td>14574.0</td>\n",
       "      <td>10.612745</td>\n",
       "      <td>2.871075</td>\n",
       "      <td>0.000000</td>\n",
       "      <td>9.013412</td>\n",
       "      <td>10.670515</td>\n",
       "      <td>12.130827</td>\n",
       "      <td>22.317730</td>\n",
       "    </tr>\n",
       "  </tbody>\n",
       "</table>\n",
       "<p>86 rows × 8 columns</p>\n",
       "</div>"
      ],
      "text/plain": [
       "                           count        mean         std       min  \\\n",
       "rougher.input.feed_au    14579.0    8.352941    1.934376  0.010000   \n",
       "rougher.input.feed_ag    14579.0    8.877460    1.922536  0.010000   \n",
       "rougher.input.feed_pb    14507.0    3.604221    1.056063  0.010000   \n",
       "rougher.input.feed_sol   14502.0   36.561420    5.209823  0.010000   \n",
       "rougher.input.feed_rate  14572.0  474.332784  108.503552  0.002986   \n",
       "...                          ...         ...         ...       ...   \n",
       "final.output.recovery    14579.0   66.759066   10.619709  0.000000   \n",
       "final.output.tail_au     14579.0    3.087939    0.915187  0.000000   \n",
       "final.output.tail_ag     14578.0    9.731972    2.358143  0.000000   \n",
       "final.output.tail_pb     14504.0    2.719985    0.958929  0.000000   \n",
       "final.output.tail_sol    14574.0   10.612745    2.871075  0.000000   \n",
       "\n",
       "                                25%         50%         75%         max  \n",
       "rougher.input.feed_au      6.932996    8.225284    9.832210   13.731330  \n",
       "rougher.input.feed_ag      7.341922    8.715859   10.255843   14.596026  \n",
       "rougher.input.feed_pb      2.880490    3.532399    4.257282    7.052325  \n",
       "rougher.input.feed_sol    34.093951   37.097511   39.899799   53.475325  \n",
       "rougher.input.feed_rate  411.048483  498.187968  549.586552  717.508837  \n",
       "...                             ...         ...         ...         ...  \n",
       "final.output.recovery     63.114596   67.962788   72.598187  100.000000  \n",
       "final.output.tail_au       2.505287    3.029238    3.614098    8.245022  \n",
       "final.output.tail_ag       8.088928    9.818512   11.169187   19.552149  \n",
       "final.output.tail_pb       2.036512    2.774847    3.353845    5.804178  \n",
       "final.output.tail_sol      9.013412   10.670515   12.130827   22.317730  \n",
       "\n",
       "[86 rows x 8 columns]"
      ]
     },
     "metadata": {},
     "output_type": "display_data"
    },
    {
     "data": {
      "text/html": [
       "<div>\n",
       "<style scoped>\n",
       "    .dataframe tbody tr th:only-of-type {\n",
       "        vertical-align: middle;\n",
       "    }\n",
       "\n",
       "    .dataframe tbody tr th {\n",
       "        vertical-align: top;\n",
       "    }\n",
       "\n",
       "    .dataframe thead th {\n",
       "        text-align: right;\n",
       "    }\n",
       "</style>\n",
       "<table border=\"1\" class=\"dataframe\">\n",
       "  <thead>\n",
       "    <tr style=\"text-align: right;\">\n",
       "      <th></th>\n",
       "      <th>count</th>\n",
       "      <th>mean</th>\n",
       "      <th>std</th>\n",
       "      <th>min</th>\n",
       "      <th>25%</th>\n",
       "      <th>50%</th>\n",
       "      <th>75%</th>\n",
       "      <th>max</th>\n",
       "    </tr>\n",
       "  </thead>\n",
       "  <tbody>\n",
       "    <tr>\n",
       "      <th>rougher.input.feed_au</th>\n",
       "      <td>4860.0</td>\n",
       "      <td>8.005584</td>\n",
       "      <td>1.993590</td>\n",
       "      <td>1.000000e-02</td>\n",
       "      <td>6.574363</td>\n",
       "      <td>7.812923</td>\n",
       "      <td>9.556589</td>\n",
       "      <td>13.417156</td>\n",
       "    </tr>\n",
       "    <tr>\n",
       "      <th>rougher.input.feed_ag</th>\n",
       "      <td>4860.0</td>\n",
       "      <td>8.547348</td>\n",
       "      <td>1.958601</td>\n",
       "      <td>1.000000e-02</td>\n",
       "      <td>6.975898</td>\n",
       "      <td>8.179714</td>\n",
       "      <td>10.084339</td>\n",
       "      <td>14.533698</td>\n",
       "    </tr>\n",
       "    <tr>\n",
       "      <th>rougher.input.feed_pb</th>\n",
       "      <td>4832.0</td>\n",
       "      <td>3.579662</td>\n",
       "      <td>1.029377</td>\n",
       "      <td>1.000000e-02</td>\n",
       "      <td>2.903612</td>\n",
       "      <td>3.540772</td>\n",
       "      <td>4.199847</td>\n",
       "      <td>7.142594</td>\n",
       "    </tr>\n",
       "    <tr>\n",
       "      <th>rougher.input.feed_sol</th>\n",
       "      <td>4838.0</td>\n",
       "      <td>37.095864</td>\n",
       "      <td>4.926284</td>\n",
       "      <td>1.000000e-02</td>\n",
       "      <td>34.510841</td>\n",
       "      <td>37.499761</td>\n",
       "      <td>40.461315</td>\n",
       "      <td>53.477742</td>\n",
       "    </tr>\n",
       "    <tr>\n",
       "      <th>rougher.input.feed_rate</th>\n",
       "      <td>4856.0</td>\n",
       "      <td>490.285103</td>\n",
       "      <td>94.371623</td>\n",
       "      <td>1.278570e-02</td>\n",
       "      <td>434.099695</td>\n",
       "      <td>502.118742</td>\n",
       "      <td>555.596563</td>\n",
       "      <td>702.523396</td>\n",
       "    </tr>\n",
       "    <tr>\n",
       "      <th>rougher.input.feed_size</th>\n",
       "      <td>4816.0</td>\n",
       "      <td>59.113400</td>\n",
       "      <td>19.125122</td>\n",
       "      <td>4.636880e-02</td>\n",
       "      <td>47.596984</td>\n",
       "      <td>55.509481</td>\n",
       "      <td>66.661547</td>\n",
       "      <td>363.989699</td>\n",
       "    </tr>\n",
       "    <tr>\n",
       "      <th>rougher.input.floatbank10_sulfate</th>\n",
       "      <td>4857.0</td>\n",
       "      <td>12.055735</td>\n",
       "      <td>3.407642</td>\n",
       "      <td>1.890695e-02</td>\n",
       "      <td>9.890429</td>\n",
       "      <td>11.997859</td>\n",
       "      <td>14.496072</td>\n",
       "      <td>30.010759</td>\n",
       "    </tr>\n",
       "    <tr>\n",
       "      <th>rougher.input.floatbank10_xanthate</th>\n",
       "      <td>4859.0</td>\n",
       "      <td>6.101308</td>\n",
       "      <td>1.042754</td>\n",
       "      <td>1.578303e-02</td>\n",
       "      <td>5.499808</td>\n",
       "      <td>6.099805</td>\n",
       "      <td>6.802101</td>\n",
       "      <td>9.396928</td>\n",
       "    </tr>\n",
       "    <tr>\n",
       "      <th>rougher.state.floatbank10_a_air</th>\n",
       "      <td>4859.0</td>\n",
       "      <td>1108.635895</td>\n",
       "      <td>156.493143</td>\n",
       "      <td>3.007925e+02</td>\n",
       "      <td>999.715729</td>\n",
       "      <td>1001.414798</td>\n",
       "      <td>1202.837565</td>\n",
       "      <td>1521.980372</td>\n",
       "    </tr>\n",
       "    <tr>\n",
       "      <th>rougher.state.floatbank10_a_level</th>\n",
       "      <td>4859.0</td>\n",
       "      <td>-368.340127</td>\n",
       "      <td>91.155929</td>\n",
       "      <td>-6.005681e+02</td>\n",
       "      <td>-499.731972</td>\n",
       "      <td>-300.181367</td>\n",
       "      <td>-299.961547</td>\n",
       "      <td>-281.039299</td>\n",
       "    </tr>\n",
       "    <tr>\n",
       "      <th>rougher.state.floatbank10_b_air</th>\n",
       "      <td>4859.0</td>\n",
       "      <td>1312.346061</td>\n",
       "      <td>159.001709</td>\n",
       "      <td>7.676566e+02</td>\n",
       "      <td>1199.741605</td>\n",
       "      <td>1300.278835</td>\n",
       "      <td>1401.691789</td>\n",
       "      <td>1802.528564</td>\n",
       "    </tr>\n",
       "    <tr>\n",
       "      <th>rougher.state.floatbank10_b_level</th>\n",
       "      <td>4859.0</td>\n",
       "      <td>-472.506533</td>\n",
       "      <td>49.376824</td>\n",
       "      <td>-6.499975e+02</td>\n",
       "      <td>-500.218827</td>\n",
       "      <td>-499.827934</td>\n",
       "      <td>-449.925513</td>\n",
       "      <td>-298.836629</td>\n",
       "    </tr>\n",
       "    <tr>\n",
       "      <th>rougher.state.floatbank10_c_air</th>\n",
       "      <td>4859.0</td>\n",
       "      <td>1291.638282</td>\n",
       "      <td>180.203670</td>\n",
       "      <td>8.315379e+02</td>\n",
       "      <td>1152.401989</td>\n",
       "      <td>1299.411789</td>\n",
       "      <td>1401.933884</td>\n",
       "      <td>2498.873242</td>\n",
       "    </tr>\n",
       "    <tr>\n",
       "      <th>rougher.state.floatbank10_c_level</th>\n",
       "      <td>4859.0</td>\n",
       "      <td>-472.902514</td>\n",
       "      <td>47.611728</td>\n",
       "      <td>-5.526570e+02</td>\n",
       "      <td>-500.226269</td>\n",
       "      <td>-499.761855</td>\n",
       "      <td>-449.662583</td>\n",
       "      <td>-298.588757</td>\n",
       "    </tr>\n",
       "    <tr>\n",
       "      <th>rougher.state.floatbank10_d_air</th>\n",
       "      <td>4860.0</td>\n",
       "      <td>1204.066585</td>\n",
       "      <td>184.547737</td>\n",
       "      <td>7.062819e+02</td>\n",
       "      <td>1061.682494</td>\n",
       "      <td>1200.337639</td>\n",
       "      <td>1307.300990</td>\n",
       "      <td>1801.712957</td>\n",
       "    </tr>\n",
       "    <tr>\n",
       "      <th>rougher.state.floatbank10_d_level</th>\n",
       "      <td>4860.0</td>\n",
       "      <td>-473.380689</td>\n",
       "      <td>47.828848</td>\n",
       "      <td>-6.481184e+02</td>\n",
       "      <td>-500.441025</td>\n",
       "      <td>-499.597033</td>\n",
       "      <td>-449.938278</td>\n",
       "      <td>-296.591110</td>\n",
       "    </tr>\n",
       "    <tr>\n",
       "      <th>rougher.state.floatbank10_e_air</th>\n",
       "      <td>4853.0</td>\n",
       "      <td>1075.304980</td>\n",
       "      <td>159.989533</td>\n",
       "      <td>6.952118e+02</td>\n",
       "      <td>998.898177</td>\n",
       "      <td>1049.897439</td>\n",
       "      <td>1199.145824</td>\n",
       "      <td>1701.253009</td>\n",
       "    </tr>\n",
       "    <tr>\n",
       "      <th>rougher.state.floatbank10_e_level</th>\n",
       "      <td>4860.0</td>\n",
       "      <td>-471.465792</td>\n",
       "      <td>51.413832</td>\n",
       "      <td>-5.989261e+02</td>\n",
       "      <td>-500.266939</td>\n",
       "      <td>-499.715147</td>\n",
       "      <td>-449.384744</td>\n",
       "      <td>-296.129173</td>\n",
       "    </tr>\n",
       "    <tr>\n",
       "      <th>rougher.state.floatbank10_f_air</th>\n",
       "      <td>4860.0</td>\n",
       "      <td>1023.769668</td>\n",
       "      <td>147.827669</td>\n",
       "      <td>5.396339e+02</td>\n",
       "      <td>949.042067</td>\n",
       "      <td>1000.060464</td>\n",
       "      <td>1099.460790</td>\n",
       "      <td>1702.383848</td>\n",
       "    </tr>\n",
       "    <tr>\n",
       "      <th>rougher.state.floatbank10_f_level</th>\n",
       "      <td>4860.0</td>\n",
       "      <td>-471.412834</td>\n",
       "      <td>51.838763</td>\n",
       "      <td>-6.493762e+02</td>\n",
       "      <td>-500.534825</td>\n",
       "      <td>-499.537041</td>\n",
       "      <td>-448.211283</td>\n",
       "      <td>-286.375117</td>\n",
       "    </tr>\n",
       "    <tr>\n",
       "      <th>rougher.input.floatbank11_sulfate</th>\n",
       "      <td>4852.0</td>\n",
       "      <td>11.969074</td>\n",
       "      <td>3.456113</td>\n",
       "      <td>1.627663e-04</td>\n",
       "      <td>9.822314</td>\n",
       "      <td>11.995907</td>\n",
       "      <td>14.216091</td>\n",
       "      <td>30.006511</td>\n",
       "    </tr>\n",
       "    <tr>\n",
       "      <th>rougher.input.floatbank11_xanthate</th>\n",
       "      <td>4814.0</td>\n",
       "      <td>6.119323</td>\n",
       "      <td>1.049065</td>\n",
       "      <td>2.615756e-03</td>\n",
       "      <td>5.500412</td>\n",
       "      <td>6.101665</td>\n",
       "      <td>6.833554</td>\n",
       "      <td>9.401928</td>\n",
       "    </tr>\n",
       "    <tr>\n",
       "      <th>primary_cleaner.input.sulfate</th>\n",
       "      <td>4859.0</td>\n",
       "      <td>143.201672</td>\n",
       "      <td>42.360060</td>\n",
       "      <td>7.329299e+00</td>\n",
       "      <td>113.293698</td>\n",
       "      <td>139.573692</td>\n",
       "      <td>170.743180</td>\n",
       "      <td>262.531502</td>\n",
       "    </tr>\n",
       "    <tr>\n",
       "      <th>primary_cleaner.input.depressant</th>\n",
       "      <td>4851.0</td>\n",
       "      <td>8.692446</td>\n",
       "      <td>3.169592</td>\n",
       "      <td>0.000000e+00</td>\n",
       "      <td>6.042793</td>\n",
       "      <td>8.007390</td>\n",
       "      <td>10.613209</td>\n",
       "      <td>20.052255</td>\n",
       "    </tr>\n",
       "    <tr>\n",
       "      <th>primary_cleaner.input.feed_size</th>\n",
       "      <td>4860.0</td>\n",
       "      <td>7.305514</td>\n",
       "      <td>0.588602</td>\n",
       "      <td>4.970000e+00</td>\n",
       "      <td>6.940000</td>\n",
       "      <td>7.290000</td>\n",
       "      <td>7.630000</td>\n",
       "      <td>9.630000</td>\n",
       "    </tr>\n",
       "    <tr>\n",
       "      <th>primary_cleaner.input.xanthate</th>\n",
       "      <td>4817.0</td>\n",
       "      <td>1.007577</td>\n",
       "      <td>0.494669</td>\n",
       "      <td>1.543956e-04</td>\n",
       "      <td>0.700367</td>\n",
       "      <td>0.908749</td>\n",
       "      <td>1.198047</td>\n",
       "      <td>3.999060</td>\n",
       "    </tr>\n",
       "    <tr>\n",
       "      <th>primary_cleaner.state.floatbank8_a_air</th>\n",
       "      <td>4859.0</td>\n",
       "      <td>1588.387039</td>\n",
       "      <td>124.942960</td>\n",
       "      <td>3.142412e+02</td>\n",
       "      <td>1505.500055</td>\n",
       "      <td>1600.364401</td>\n",
       "      <td>1696.676142</td>\n",
       "      <td>2079.531340</td>\n",
       "    </tr>\n",
       "    <tr>\n",
       "      <th>primary_cleaner.state.floatbank8_a_level</th>\n",
       "      <td>4859.0</td>\n",
       "      <td>-488.223175</td>\n",
       "      <td>36.672631</td>\n",
       "      <td>-6.534776e+02</td>\n",
       "      <td>-500.272366</td>\n",
       "      <td>-499.893821</td>\n",
       "      <td>-499.369738</td>\n",
       "      <td>-330.134203</td>\n",
       "    </tr>\n",
       "    <tr>\n",
       "      <th>primary_cleaner.state.floatbank8_b_air</th>\n",
       "      <td>4859.0</td>\n",
       "      <td>1589.297134</td>\n",
       "      <td>132.102797</td>\n",
       "      <td>3.199595e+02</td>\n",
       "      <td>1502.105380</td>\n",
       "      <td>1600.363829</td>\n",
       "      <td>1699.429311</td>\n",
       "      <td>1825.491263</td>\n",
       "    </tr>\n",
       "    <tr>\n",
       "      <th>primary_cleaner.state.floatbank8_b_level</th>\n",
       "      <td>4859.0</td>\n",
       "      <td>-490.255893</td>\n",
       "      <td>35.203702</td>\n",
       "      <td>-7.992608e+02</td>\n",
       "      <td>-500.422211</td>\n",
       "      <td>-499.938871</td>\n",
       "      <td>-499.331088</td>\n",
       "      <td>-339.751525</td>\n",
       "    </tr>\n",
       "    <tr>\n",
       "      <th>primary_cleaner.state.floatbank8_c_air</th>\n",
       "      <td>4858.0</td>\n",
       "      <td>1588.905465</td>\n",
       "      <td>132.689236</td>\n",
       "      <td>2.735368e+02</td>\n",
       "      <td>1501.205202</td>\n",
       "      <td>1600.315592</td>\n",
       "      <td>1699.483983</td>\n",
       "      <td>1847.621932</td>\n",
       "    </tr>\n",
       "    <tr>\n",
       "      <th>primary_cleaner.state.floatbank8_c_level</th>\n",
       "      <td>4859.0</td>\n",
       "      <td>-489.741555</td>\n",
       "      <td>33.650676</td>\n",
       "      <td>-7.092138e+02</td>\n",
       "      <td>-500.676713</td>\n",
       "      <td>-499.894721</td>\n",
       "      <td>-498.699191</td>\n",
       "      <td>-290.845404</td>\n",
       "    </tr>\n",
       "    <tr>\n",
       "      <th>primary_cleaner.state.floatbank8_d_air</th>\n",
       "      <td>4858.0</td>\n",
       "      <td>1530.287801</td>\n",
       "      <td>256.268884</td>\n",
       "      <td>1.313217e+02</td>\n",
       "      <td>1450.605949</td>\n",
       "      <td>1599.224868</td>\n",
       "      <td>1698.766720</td>\n",
       "      <td>2398.888373</td>\n",
       "    </tr>\n",
       "    <tr>\n",
       "      <th>primary_cleaner.state.floatbank8_d_level</th>\n",
       "      <td>4859.0</td>\n",
       "      <td>-485.896489</td>\n",
       "      <td>43.296128</td>\n",
       "      <td>-7.997916e+02</td>\n",
       "      <td>-500.438064</td>\n",
       "      <td>-499.857201</td>\n",
       "      <td>-498.747352</td>\n",
       "      <td>-107.595099</td>\n",
       "    </tr>\n",
       "    <tr>\n",
       "      <th>secondary_cleaner.state.floatbank2_a_air</th>\n",
       "      <td>4734.0</td>\n",
       "      <td>29.488451</td>\n",
       "      <td>5.357783</td>\n",
       "      <td>1.220129e-01</td>\n",
       "      <td>25.116334</td>\n",
       "      <td>29.954667</td>\n",
       "      <td>34.064460</td>\n",
       "      <td>48.822781</td>\n",
       "    </tr>\n",
       "    <tr>\n",
       "      <th>secondary_cleaner.state.floatbank2_a_level</th>\n",
       "      <td>4859.0</td>\n",
       "      <td>-499.504602</td>\n",
       "      <td>43.284386</td>\n",
       "      <td>-7.996064e+02</td>\n",
       "      <td>-500.215499</td>\n",
       "      <td>-499.966865</td>\n",
       "      <td>-499.678638</td>\n",
       "      <td>-207.038839</td>\n",
       "    </tr>\n",
       "    <tr>\n",
       "      <th>secondary_cleaner.state.floatbank2_b_air</th>\n",
       "      <td>4859.0</td>\n",
       "      <td>24.732293</td>\n",
       "      <td>5.484220</td>\n",
       "      <td>0.000000e+00</td>\n",
       "      <td>22.038700</td>\n",
       "      <td>26.880506</td>\n",
       "      <td>28.045077</td>\n",
       "      <td>35.019409</td>\n",
       "    </tr>\n",
       "    <tr>\n",
       "      <th>secondary_cleaner.state.floatbank2_b_level</th>\n",
       "      <td>4859.0</td>\n",
       "      <td>-499.556727</td>\n",
       "      <td>43.619785</td>\n",
       "      <td>-7.998739e+02</td>\n",
       "      <td>-500.223223</td>\n",
       "      <td>-500.010504</td>\n",
       "      <td>-499.783594</td>\n",
       "      <td>-216.660814</td>\n",
       "    </tr>\n",
       "    <tr>\n",
       "      <th>secondary_cleaner.state.floatbank3_a_air</th>\n",
       "      <td>4859.0</td>\n",
       "      <td>28.896472</td>\n",
       "      <td>6.159087</td>\n",
       "      <td>1.957942e-17</td>\n",
       "      <td>24.979890</td>\n",
       "      <td>28.021079</td>\n",
       "      <td>33.985458</td>\n",
       "      <td>44.011389</td>\n",
       "    </tr>\n",
       "    <tr>\n",
       "      <th>secondary_cleaner.state.floatbank3_a_level</th>\n",
       "      <td>4859.0</td>\n",
       "      <td>-489.475315</td>\n",
       "      <td>51.827314</td>\n",
       "      <td>-7.995753e+02</td>\n",
       "      <td>-500.211535</td>\n",
       "      <td>-499.952220</td>\n",
       "      <td>-499.525249</td>\n",
       "      <td>-246.396324</td>\n",
       "    </tr>\n",
       "    <tr>\n",
       "      <th>secondary_cleaner.state.floatbank3_b_air</th>\n",
       "      <td>4859.0</td>\n",
       "      <td>22.632725</td>\n",
       "      <td>5.456797</td>\n",
       "      <td>1.521587e-17</td>\n",
       "      <td>19.011791</td>\n",
       "      <td>22.969896</td>\n",
       "      <td>26.984159</td>\n",
       "      <td>35.051488</td>\n",
       "    </tr>\n",
       "    <tr>\n",
       "      <th>secondary_cleaner.state.floatbank3_b_level</th>\n",
       "      <td>4859.0</td>\n",
       "      <td>-494.765779</td>\n",
       "      <td>40.681493</td>\n",
       "      <td>-7.587644e+02</td>\n",
       "      <td>-500.120286</td>\n",
       "      <td>-499.983839</td>\n",
       "      <td>-499.824376</td>\n",
       "      <td>-195.458545</td>\n",
       "    </tr>\n",
       "    <tr>\n",
       "      <th>secondary_cleaner.state.floatbank4_a_air</th>\n",
       "      <td>4859.0</td>\n",
       "      <td>19.857704</td>\n",
       "      <td>5.913105</td>\n",
       "      <td>1.079872e-16</td>\n",
       "      <td>15.011226</td>\n",
       "      <td>19.968066</td>\n",
       "      <td>24.988999</td>\n",
       "      <td>30.084500</td>\n",
       "    </tr>\n",
       "    <tr>\n",
       "      <th>secondary_cleaner.state.floatbank4_a_level</th>\n",
       "      <td>4859.0</td>\n",
       "      <td>-488.665140</td>\n",
       "      <td>44.392714</td>\n",
       "      <td>-7.997050e+02</td>\n",
       "      <td>-500.704004</td>\n",
       "      <td>-499.892919</td>\n",
       "      <td>-498.652030</td>\n",
       "      <td>-383.373053</td>\n",
       "    </tr>\n",
       "    <tr>\n",
       "      <th>secondary_cleaner.state.floatbank4_b_air</th>\n",
       "      <td>4859.0</td>\n",
       "      <td>15.570248</td>\n",
       "      <td>4.927361</td>\n",
       "      <td>2.489718e-17</td>\n",
       "      <td>12.021716</td>\n",
       "      <td>15.012395</td>\n",
       "      <td>19.999489</td>\n",
       "      <td>23.988976</td>\n",
       "    </tr>\n",
       "    <tr>\n",
       "      <th>secondary_cleaner.state.floatbank4_b_level</th>\n",
       "      <td>4859.0</td>\n",
       "      <td>-464.176507</td>\n",
       "      <td>65.706994</td>\n",
       "      <td>-7.998608e+02</td>\n",
       "      <td>-500.196517</td>\n",
       "      <td>-499.540776</td>\n",
       "      <td>-400.302329</td>\n",
       "      <td>-114.250832</td>\n",
       "    </tr>\n",
       "    <tr>\n",
       "      <th>secondary_cleaner.state.floatbank5_a_air</th>\n",
       "      <td>4859.0</td>\n",
       "      <td>16.594103</td>\n",
       "      <td>5.724305</td>\n",
       "      <td>-3.714983e-01</td>\n",
       "      <td>11.073822</td>\n",
       "      <td>16.631195</td>\n",
       "      <td>19.983191</td>\n",
       "      <td>33.215996</td>\n",
       "    </tr>\n",
       "    <tr>\n",
       "      <th>secondary_cleaner.state.floatbank5_a_level</th>\n",
       "      <td>4859.0</td>\n",
       "      <td>-490.815250</td>\n",
       "      <td>32.258443</td>\n",
       "      <td>-7.971425e+02</td>\n",
       "      <td>-500.483564</td>\n",
       "      <td>-499.873136</td>\n",
       "      <td>-498.852815</td>\n",
       "      <td>-288.963521</td>\n",
       "    </tr>\n",
       "    <tr>\n",
       "      <th>secondary_cleaner.state.floatbank5_b_air</th>\n",
       "      <td>4859.0</td>\n",
       "      <td>12.945971</td>\n",
       "      <td>5.533176</td>\n",
       "      <td>1.358469e+00</td>\n",
       "      <td>9.011890</td>\n",
       "      <td>11.999417</td>\n",
       "      <td>15.004198</td>\n",
       "      <td>24.177106</td>\n",
       "    </tr>\n",
       "    <tr>\n",
       "      <th>secondary_cleaner.state.floatbank5_b_level</th>\n",
       "      <td>4859.0</td>\n",
       "      <td>-489.583564</td>\n",
       "      <td>37.084609</td>\n",
       "      <td>-8.000062e+02</td>\n",
       "      <td>-500.129913</td>\n",
       "      <td>-499.955304</td>\n",
       "      <td>-499.643776</td>\n",
       "      <td>-141.934397</td>\n",
       "    </tr>\n",
       "    <tr>\n",
       "      <th>secondary_cleaner.state.floatbank6_a_air</th>\n",
       "      <td>4859.0</td>\n",
       "      <td>19.053888</td>\n",
       "      <td>5.548996</td>\n",
       "      <td>1.603862e-01</td>\n",
       "      <td>14.963953</td>\n",
       "      <td>19.960006</td>\n",
       "      <td>24.974583</td>\n",
       "      <td>32.028529</td>\n",
       "    </tr>\n",
       "    <tr>\n",
       "      <th>secondary_cleaner.state.floatbank6_a_level</th>\n",
       "      <td>4859.0</td>\n",
       "      <td>-504.678924</td>\n",
       "      <td>38.690186</td>\n",
       "      <td>-8.097348e+02</td>\n",
       "      <td>-500.668501</td>\n",
       "      <td>-500.033769</td>\n",
       "      <td>-499.460134</td>\n",
       "      <td>-104.427459</td>\n",
       "    </tr>\n",
       "  </tbody>\n",
       "</table>\n",
       "</div>"
      ],
      "text/plain": [
       "                                             count         mean         std  \\\n",
       "rougher.input.feed_au                       4860.0     8.005584    1.993590   \n",
       "rougher.input.feed_ag                       4860.0     8.547348    1.958601   \n",
       "rougher.input.feed_pb                       4832.0     3.579662    1.029377   \n",
       "rougher.input.feed_sol                      4838.0    37.095864    4.926284   \n",
       "rougher.input.feed_rate                     4856.0   490.285103   94.371623   \n",
       "rougher.input.feed_size                     4816.0    59.113400   19.125122   \n",
       "rougher.input.floatbank10_sulfate           4857.0    12.055735    3.407642   \n",
       "rougher.input.floatbank10_xanthate          4859.0     6.101308    1.042754   \n",
       "rougher.state.floatbank10_a_air             4859.0  1108.635895  156.493143   \n",
       "rougher.state.floatbank10_a_level           4859.0  -368.340127   91.155929   \n",
       "rougher.state.floatbank10_b_air             4859.0  1312.346061  159.001709   \n",
       "rougher.state.floatbank10_b_level           4859.0  -472.506533   49.376824   \n",
       "rougher.state.floatbank10_c_air             4859.0  1291.638282  180.203670   \n",
       "rougher.state.floatbank10_c_level           4859.0  -472.902514   47.611728   \n",
       "rougher.state.floatbank10_d_air             4860.0  1204.066585  184.547737   \n",
       "rougher.state.floatbank10_d_level           4860.0  -473.380689   47.828848   \n",
       "rougher.state.floatbank10_e_air             4853.0  1075.304980  159.989533   \n",
       "rougher.state.floatbank10_e_level           4860.0  -471.465792   51.413832   \n",
       "rougher.state.floatbank10_f_air             4860.0  1023.769668  147.827669   \n",
       "rougher.state.floatbank10_f_level           4860.0  -471.412834   51.838763   \n",
       "rougher.input.floatbank11_sulfate           4852.0    11.969074    3.456113   \n",
       "rougher.input.floatbank11_xanthate          4814.0     6.119323    1.049065   \n",
       "primary_cleaner.input.sulfate               4859.0   143.201672   42.360060   \n",
       "primary_cleaner.input.depressant            4851.0     8.692446    3.169592   \n",
       "primary_cleaner.input.feed_size             4860.0     7.305514    0.588602   \n",
       "primary_cleaner.input.xanthate              4817.0     1.007577    0.494669   \n",
       "primary_cleaner.state.floatbank8_a_air      4859.0  1588.387039  124.942960   \n",
       "primary_cleaner.state.floatbank8_a_level    4859.0  -488.223175   36.672631   \n",
       "primary_cleaner.state.floatbank8_b_air      4859.0  1589.297134  132.102797   \n",
       "primary_cleaner.state.floatbank8_b_level    4859.0  -490.255893   35.203702   \n",
       "primary_cleaner.state.floatbank8_c_air      4858.0  1588.905465  132.689236   \n",
       "primary_cleaner.state.floatbank8_c_level    4859.0  -489.741555   33.650676   \n",
       "primary_cleaner.state.floatbank8_d_air      4858.0  1530.287801  256.268884   \n",
       "primary_cleaner.state.floatbank8_d_level    4859.0  -485.896489   43.296128   \n",
       "secondary_cleaner.state.floatbank2_a_air    4734.0    29.488451    5.357783   \n",
       "secondary_cleaner.state.floatbank2_a_level  4859.0  -499.504602   43.284386   \n",
       "secondary_cleaner.state.floatbank2_b_air    4859.0    24.732293    5.484220   \n",
       "secondary_cleaner.state.floatbank2_b_level  4859.0  -499.556727   43.619785   \n",
       "secondary_cleaner.state.floatbank3_a_air    4859.0    28.896472    6.159087   \n",
       "secondary_cleaner.state.floatbank3_a_level  4859.0  -489.475315   51.827314   \n",
       "secondary_cleaner.state.floatbank3_b_air    4859.0    22.632725    5.456797   \n",
       "secondary_cleaner.state.floatbank3_b_level  4859.0  -494.765779   40.681493   \n",
       "secondary_cleaner.state.floatbank4_a_air    4859.0    19.857704    5.913105   \n",
       "secondary_cleaner.state.floatbank4_a_level  4859.0  -488.665140   44.392714   \n",
       "secondary_cleaner.state.floatbank4_b_air    4859.0    15.570248    4.927361   \n",
       "secondary_cleaner.state.floatbank4_b_level  4859.0  -464.176507   65.706994   \n",
       "secondary_cleaner.state.floatbank5_a_air    4859.0    16.594103    5.724305   \n",
       "secondary_cleaner.state.floatbank5_a_level  4859.0  -490.815250   32.258443   \n",
       "secondary_cleaner.state.floatbank5_b_air    4859.0    12.945971    5.533176   \n",
       "secondary_cleaner.state.floatbank5_b_level  4859.0  -489.583564   37.084609   \n",
       "secondary_cleaner.state.floatbank6_a_air    4859.0    19.053888    5.548996   \n",
       "secondary_cleaner.state.floatbank6_a_level  4859.0  -504.678924   38.690186   \n",
       "\n",
       "                                                     min          25%  \\\n",
       "rougher.input.feed_au                       1.000000e-02     6.574363   \n",
       "rougher.input.feed_ag                       1.000000e-02     6.975898   \n",
       "rougher.input.feed_pb                       1.000000e-02     2.903612   \n",
       "rougher.input.feed_sol                      1.000000e-02    34.510841   \n",
       "rougher.input.feed_rate                     1.278570e-02   434.099695   \n",
       "rougher.input.feed_size                     4.636880e-02    47.596984   \n",
       "rougher.input.floatbank10_sulfate           1.890695e-02     9.890429   \n",
       "rougher.input.floatbank10_xanthate          1.578303e-02     5.499808   \n",
       "rougher.state.floatbank10_a_air             3.007925e+02   999.715729   \n",
       "rougher.state.floatbank10_a_level          -6.005681e+02  -499.731972   \n",
       "rougher.state.floatbank10_b_air             7.676566e+02  1199.741605   \n",
       "rougher.state.floatbank10_b_level          -6.499975e+02  -500.218827   \n",
       "rougher.state.floatbank10_c_air             8.315379e+02  1152.401989   \n",
       "rougher.state.floatbank10_c_level          -5.526570e+02  -500.226269   \n",
       "rougher.state.floatbank10_d_air             7.062819e+02  1061.682494   \n",
       "rougher.state.floatbank10_d_level          -6.481184e+02  -500.441025   \n",
       "rougher.state.floatbank10_e_air             6.952118e+02   998.898177   \n",
       "rougher.state.floatbank10_e_level          -5.989261e+02  -500.266939   \n",
       "rougher.state.floatbank10_f_air             5.396339e+02   949.042067   \n",
       "rougher.state.floatbank10_f_level          -6.493762e+02  -500.534825   \n",
       "rougher.input.floatbank11_sulfate           1.627663e-04     9.822314   \n",
       "rougher.input.floatbank11_xanthate          2.615756e-03     5.500412   \n",
       "primary_cleaner.input.sulfate               7.329299e+00   113.293698   \n",
       "primary_cleaner.input.depressant            0.000000e+00     6.042793   \n",
       "primary_cleaner.input.feed_size             4.970000e+00     6.940000   \n",
       "primary_cleaner.input.xanthate              1.543956e-04     0.700367   \n",
       "primary_cleaner.state.floatbank8_a_air      3.142412e+02  1505.500055   \n",
       "primary_cleaner.state.floatbank8_a_level   -6.534776e+02  -500.272366   \n",
       "primary_cleaner.state.floatbank8_b_air      3.199595e+02  1502.105380   \n",
       "primary_cleaner.state.floatbank8_b_level   -7.992608e+02  -500.422211   \n",
       "primary_cleaner.state.floatbank8_c_air      2.735368e+02  1501.205202   \n",
       "primary_cleaner.state.floatbank8_c_level   -7.092138e+02  -500.676713   \n",
       "primary_cleaner.state.floatbank8_d_air      1.313217e+02  1450.605949   \n",
       "primary_cleaner.state.floatbank8_d_level   -7.997916e+02  -500.438064   \n",
       "secondary_cleaner.state.floatbank2_a_air    1.220129e-01    25.116334   \n",
       "secondary_cleaner.state.floatbank2_a_level -7.996064e+02  -500.215499   \n",
       "secondary_cleaner.state.floatbank2_b_air    0.000000e+00    22.038700   \n",
       "secondary_cleaner.state.floatbank2_b_level -7.998739e+02  -500.223223   \n",
       "secondary_cleaner.state.floatbank3_a_air    1.957942e-17    24.979890   \n",
       "secondary_cleaner.state.floatbank3_a_level -7.995753e+02  -500.211535   \n",
       "secondary_cleaner.state.floatbank3_b_air    1.521587e-17    19.011791   \n",
       "secondary_cleaner.state.floatbank3_b_level -7.587644e+02  -500.120286   \n",
       "secondary_cleaner.state.floatbank4_a_air    1.079872e-16    15.011226   \n",
       "secondary_cleaner.state.floatbank4_a_level -7.997050e+02  -500.704004   \n",
       "secondary_cleaner.state.floatbank4_b_air    2.489718e-17    12.021716   \n",
       "secondary_cleaner.state.floatbank4_b_level -7.998608e+02  -500.196517   \n",
       "secondary_cleaner.state.floatbank5_a_air   -3.714983e-01    11.073822   \n",
       "secondary_cleaner.state.floatbank5_a_level -7.971425e+02  -500.483564   \n",
       "secondary_cleaner.state.floatbank5_b_air    1.358469e+00     9.011890   \n",
       "secondary_cleaner.state.floatbank5_b_level -8.000062e+02  -500.129913   \n",
       "secondary_cleaner.state.floatbank6_a_air    1.603862e-01    14.963953   \n",
       "secondary_cleaner.state.floatbank6_a_level -8.097348e+02  -500.668501   \n",
       "\n",
       "                                                    50%          75%  \\\n",
       "rougher.input.feed_au                          7.812923     9.556589   \n",
       "rougher.input.feed_ag                          8.179714    10.084339   \n",
       "rougher.input.feed_pb                          3.540772     4.199847   \n",
       "rougher.input.feed_sol                        37.499761    40.461315   \n",
       "rougher.input.feed_rate                      502.118742   555.596563   \n",
       "rougher.input.feed_size                       55.509481    66.661547   \n",
       "rougher.input.floatbank10_sulfate             11.997859    14.496072   \n",
       "rougher.input.floatbank10_xanthate             6.099805     6.802101   \n",
       "rougher.state.floatbank10_a_air             1001.414798  1202.837565   \n",
       "rougher.state.floatbank10_a_level           -300.181367  -299.961547   \n",
       "rougher.state.floatbank10_b_air             1300.278835  1401.691789   \n",
       "rougher.state.floatbank10_b_level           -499.827934  -449.925513   \n",
       "rougher.state.floatbank10_c_air             1299.411789  1401.933884   \n",
       "rougher.state.floatbank10_c_level           -499.761855  -449.662583   \n",
       "rougher.state.floatbank10_d_air             1200.337639  1307.300990   \n",
       "rougher.state.floatbank10_d_level           -499.597033  -449.938278   \n",
       "rougher.state.floatbank10_e_air             1049.897439  1199.145824   \n",
       "rougher.state.floatbank10_e_level           -499.715147  -449.384744   \n",
       "rougher.state.floatbank10_f_air             1000.060464  1099.460790   \n",
       "rougher.state.floatbank10_f_level           -499.537041  -448.211283   \n",
       "rougher.input.floatbank11_sulfate             11.995907    14.216091   \n",
       "rougher.input.floatbank11_xanthate             6.101665     6.833554   \n",
       "primary_cleaner.input.sulfate                139.573692   170.743180   \n",
       "primary_cleaner.input.depressant               8.007390    10.613209   \n",
       "primary_cleaner.input.feed_size                7.290000     7.630000   \n",
       "primary_cleaner.input.xanthate                 0.908749     1.198047   \n",
       "primary_cleaner.state.floatbank8_a_air      1600.364401  1696.676142   \n",
       "primary_cleaner.state.floatbank8_a_level    -499.893821  -499.369738   \n",
       "primary_cleaner.state.floatbank8_b_air      1600.363829  1699.429311   \n",
       "primary_cleaner.state.floatbank8_b_level    -499.938871  -499.331088   \n",
       "primary_cleaner.state.floatbank8_c_air      1600.315592  1699.483983   \n",
       "primary_cleaner.state.floatbank8_c_level    -499.894721  -498.699191   \n",
       "primary_cleaner.state.floatbank8_d_air      1599.224868  1698.766720   \n",
       "primary_cleaner.state.floatbank8_d_level    -499.857201  -498.747352   \n",
       "secondary_cleaner.state.floatbank2_a_air      29.954667    34.064460   \n",
       "secondary_cleaner.state.floatbank2_a_level  -499.966865  -499.678638   \n",
       "secondary_cleaner.state.floatbank2_b_air      26.880506    28.045077   \n",
       "secondary_cleaner.state.floatbank2_b_level  -500.010504  -499.783594   \n",
       "secondary_cleaner.state.floatbank3_a_air      28.021079    33.985458   \n",
       "secondary_cleaner.state.floatbank3_a_level  -499.952220  -499.525249   \n",
       "secondary_cleaner.state.floatbank3_b_air      22.969896    26.984159   \n",
       "secondary_cleaner.state.floatbank3_b_level  -499.983839  -499.824376   \n",
       "secondary_cleaner.state.floatbank4_a_air      19.968066    24.988999   \n",
       "secondary_cleaner.state.floatbank4_a_level  -499.892919  -498.652030   \n",
       "secondary_cleaner.state.floatbank4_b_air      15.012395    19.999489   \n",
       "secondary_cleaner.state.floatbank4_b_level  -499.540776  -400.302329   \n",
       "secondary_cleaner.state.floatbank5_a_air      16.631195    19.983191   \n",
       "secondary_cleaner.state.floatbank5_a_level  -499.873136  -498.852815   \n",
       "secondary_cleaner.state.floatbank5_b_air      11.999417    15.004198   \n",
       "secondary_cleaner.state.floatbank5_b_level  -499.955304  -499.643776   \n",
       "secondary_cleaner.state.floatbank6_a_air      19.960006    24.974583   \n",
       "secondary_cleaner.state.floatbank6_a_level  -500.033769  -499.460134   \n",
       "\n",
       "                                                    max  \n",
       "rougher.input.feed_au                         13.417156  \n",
       "rougher.input.feed_ag                         14.533698  \n",
       "rougher.input.feed_pb                          7.142594  \n",
       "rougher.input.feed_sol                        53.477742  \n",
       "rougher.input.feed_rate                      702.523396  \n",
       "rougher.input.feed_size                      363.989699  \n",
       "rougher.input.floatbank10_sulfate             30.010759  \n",
       "rougher.input.floatbank10_xanthate             9.396928  \n",
       "rougher.state.floatbank10_a_air             1521.980372  \n",
       "rougher.state.floatbank10_a_level           -281.039299  \n",
       "rougher.state.floatbank10_b_air             1802.528564  \n",
       "rougher.state.floatbank10_b_level           -298.836629  \n",
       "rougher.state.floatbank10_c_air             2498.873242  \n",
       "rougher.state.floatbank10_c_level           -298.588757  \n",
       "rougher.state.floatbank10_d_air             1801.712957  \n",
       "rougher.state.floatbank10_d_level           -296.591110  \n",
       "rougher.state.floatbank10_e_air             1701.253009  \n",
       "rougher.state.floatbank10_e_level           -296.129173  \n",
       "rougher.state.floatbank10_f_air             1702.383848  \n",
       "rougher.state.floatbank10_f_level           -286.375117  \n",
       "rougher.input.floatbank11_sulfate             30.006511  \n",
       "rougher.input.floatbank11_xanthate             9.401928  \n",
       "primary_cleaner.input.sulfate                262.531502  \n",
       "primary_cleaner.input.depressant              20.052255  \n",
       "primary_cleaner.input.feed_size                9.630000  \n",
       "primary_cleaner.input.xanthate                 3.999060  \n",
       "primary_cleaner.state.floatbank8_a_air      2079.531340  \n",
       "primary_cleaner.state.floatbank8_a_level    -330.134203  \n",
       "primary_cleaner.state.floatbank8_b_air      1825.491263  \n",
       "primary_cleaner.state.floatbank8_b_level    -339.751525  \n",
       "primary_cleaner.state.floatbank8_c_air      1847.621932  \n",
       "primary_cleaner.state.floatbank8_c_level    -290.845404  \n",
       "primary_cleaner.state.floatbank8_d_air      2398.888373  \n",
       "primary_cleaner.state.floatbank8_d_level    -107.595099  \n",
       "secondary_cleaner.state.floatbank2_a_air      48.822781  \n",
       "secondary_cleaner.state.floatbank2_a_level  -207.038839  \n",
       "secondary_cleaner.state.floatbank2_b_air      35.019409  \n",
       "secondary_cleaner.state.floatbank2_b_level  -216.660814  \n",
       "secondary_cleaner.state.floatbank3_a_air      44.011389  \n",
       "secondary_cleaner.state.floatbank3_a_level  -246.396324  \n",
       "secondary_cleaner.state.floatbank3_b_air      35.051488  \n",
       "secondary_cleaner.state.floatbank3_b_level  -195.458545  \n",
       "secondary_cleaner.state.floatbank4_a_air      30.084500  \n",
       "secondary_cleaner.state.floatbank4_a_level  -383.373053  \n",
       "secondary_cleaner.state.floatbank4_b_air      23.988976  \n",
       "secondary_cleaner.state.floatbank4_b_level  -114.250832  \n",
       "secondary_cleaner.state.floatbank5_a_air      33.215996  \n",
       "secondary_cleaner.state.floatbank5_a_level  -288.963521  \n",
       "secondary_cleaner.state.floatbank5_b_air      24.177106  \n",
       "secondary_cleaner.state.floatbank5_b_level  -141.934397  \n",
       "secondary_cleaner.state.floatbank6_a_air      32.028529  \n",
       "secondary_cleaner.state.floatbank6_a_level  -104.427459  "
      ]
     },
     "metadata": {},
     "output_type": "display_data"
    }
   ],
   "source": [
    "# Оценим с чем придется работать\n",
    "gold_full.info()\n",
    "gold_train.info()\n",
    "gold_test.info()\n",
    "display(gold_full.describe().T)\n",
    "display(gold_train.describe().T)\n",
    "display(gold_test.describe().T)"
   ]
  },
  {
   "cell_type": "markdown",
   "metadata": {},
   "source": [
    "Все столбцы кроме столбца с датой числовые. Есть пропущенные значения. Есть столбцы которые отличаются на порядки, поэтому понадобится шкалирование. Посмотрим как распределена дата между тренировочной и тестовой выборками."
   ]
  },
  {
   "cell_type": "markdown",
   "metadata": {},
   "source": [
    "<div class=\"alert alert-success\">\n",
    "<h2> Комментарий ревьюера <a class=\"tocSkip\"> </h2>\n",
    "\n",
    "<b>Все отлично!👍:</b>\n",
    "    \n",
    "Данные осмотрели - отлично!"
   ]
  },
  {
   "cell_type": "code",
   "execution_count": 4,
   "metadata": {
    "ExecuteTime": {
     "end_time": "2023-08-31T21:17:55.693829528Z",
     "start_time": "2023-08-31T21:17:55.577008301Z"
    }
   },
   "outputs": [
    {
     "name": "stderr",
     "output_type": "stream",
     "text": [
      "/tmp/ipykernel_71/3943201928.py:1: FutureWarning: Treating datetime data as categorical rather than numeric in `.describe` is deprecated and will be removed in a future version of pandas. Specify `datetime_is_numeric=True` to silence this warning and adopt the future behavior now.\n",
      "  display(pd.to_datetime(gold_train.date).describe())\n"
     ]
    },
    {
     "data": {
      "text/plain": [
       "count                   14579\n",
       "unique                  14579\n",
       "top       2016-04-15 10:00:00\n",
       "freq                        1\n",
       "first     2016-01-15 00:00:00\n",
       "last      2017-12-09 13:59:59\n",
       "Name: date, dtype: object"
      ]
     },
     "metadata": {},
     "output_type": "display_data"
    },
    {
     "name": "stderr",
     "output_type": "stream",
     "text": [
      "/tmp/ipykernel_71/3943201928.py:2: FutureWarning: Treating datetime data as categorical rather than numeric in `.describe` is deprecated and will be removed in a future version of pandas. Specify `datetime_is_numeric=True` to silence this warning and adopt the future behavior now.\n",
      "  display(pd.to_datetime(gold_test.date).describe())\n"
     ]
    },
    {
     "data": {
      "text/plain": [
       "count                    4860\n",
       "unique                   4860\n",
       "top       2018-03-04 08:59:59\n",
       "freq                        1\n",
       "first     2017-12-09 14:59:59\n",
       "last      2018-08-18 10:59:59\n",
       "Name: date, dtype: object"
      ]
     },
     "metadata": {},
     "output_type": "display_data"
    }
   ],
   "source": [
    "display(pd.to_datetime(gold_train.date).describe())\n",
    "display(pd.to_datetime(gold_test.date).describe())"
   ]
  },
  {
   "cell_type": "markdown",
   "metadata": {},
   "source": [
    "Видно что выборка разбита на тренировочную и тестовую части по признаку даты."
   ]
  },
  {
   "cell_type": "code",
   "execution_count": 5,
   "metadata": {
    "ExecuteTime": {
     "end_time": "2023-08-31T21:17:55.696323483Z",
     "start_time": "2023-08-31T21:17:55.608952817Z"
    }
   },
   "outputs": [
    {
     "data": {
      "text/plain": [
       "9.83758577644259e-15"
      ]
     },
     "execution_count": 5,
     "metadata": {},
     "output_type": "execute_result"
    }
   ],
   "source": [
    "# Проверим что эффективность обогащения рассчитана правильно.\n",
    "def recovery(output_concentrate_au, input_feed_au, output_tail_au):\n",
    "    return (output_concentrate_au*(input_feed_au-output_tail_au))/(input_feed_au*(output_concentrate_au-output_tail_au))*100\n",
    "\n",
    "roughed_recovery_calc = (\n",
    "    recovery(gold_train['rougher.output.concentrate_au'], gold_train['rougher.input.feed_au'], gold_train['rougher.output.tail_au']))\n",
    "\n",
    "mean_absolute_error(gold_train['rougher.output.recovery'], roughed_recovery_calc)"
   ]
  },
  {
   "cell_type": "markdown",
   "metadata": {},
   "source": [
    "Ошибка около нуля, эффективность обогащения рассчитана правильно."
   ]
  },
  {
   "cell_type": "markdown",
   "metadata": {},
   "source": [
    "<div class=\"alert alert-success\">\n",
    "<h2> Комментарий ревьюера <a class=\"tocSkip\"> </h2>\n",
    "\n",
    "<b>Все отлично!👍:</b> Оценили `MAE` между исходным и расчётным значением эффективности обогащения и убедились, что эффективность обогащения рассчитана правильно - отлично!\n",
    "</div>"
   ]
  },
  {
   "cell_type": "code",
   "execution_count": 6,
   "metadata": {
    "ExecuteTime": {
     "end_time": "2023-08-31T21:17:55.795143144Z",
     "start_time": "2023-08-31T21:17:55.628359962Z"
    }
   },
   "outputs": [
    {
     "name": "stdout",
     "output_type": "stream",
     "text": [
      "{'primary_cleaner.output.concentrate_au', 'rougher.calculation.floatbank10_sulfate_to_au_feed', 'secondary_cleaner.output.tail_sol', 'secondary_cleaner.output.tail_ag', 'final.output.concentrate_au', 'final.output.tail_ag', 'rougher.output.tail_pb', 'rougher.output.recovery', 'final.output.concentrate_pb', 'rougher.output.concentrate_ag', 'final.output.recovery', 'rougher.output.concentrate_sol', 'secondary_cleaner.output.tail_pb', 'final.output.tail_au', 'primary_cleaner.output.tail_ag', 'primary_cleaner.output.tail_au', 'primary_cleaner.output.tail_pb', 'final.output.tail_pb', 'rougher.calculation.sulfate_to_au_concentrate', 'final.output.concentrate_sol', 'primary_cleaner.output.concentrate_sol', 'secondary_cleaner.output.tail_au', 'rougher.output.tail_au', 'rougher.output.concentrate_pb', 'rougher.output.tail_ag', 'rougher.output.concentrate_au', 'primary_cleaner.output.tail_sol', 'final.output.tail_sol', 'rougher.calculation.floatbank11_sulfate_to_au_feed', 'rougher.output.tail_sol', 'primary_cleaner.output.concentrate_ag', 'final.output.concentrate_ag', 'rougher.calculation.au_pb_ratio', 'primary_cleaner.output.concentrate_pb'}\n"
     ]
    }
   ],
   "source": [
    "# Проверим какие столбцы отсутствуют в тестовом наборе данных\n",
    "print(missing_cols := set(gold_train.columns) - set(gold_test.columns))"
   ]
  },
  {
   "cell_type": "markdown",
   "metadata": {
    "ExecuteTime": {
     "end_time": "2023-08-31T20:39:33.989197216Z",
     "start_time": "2023-08-31T20:39:33.978583738Z"
    }
   },
   "source": [
    "В тестовом наборе данных отсутствуют признаки связанные с концентрацией металлов на выходе, в том числе в хвостах. А также некоторые расчётные показатели, которые могут привести к утечке данных."
   ]
  },
  {
   "cell_type": "markdown",
   "metadata": {},
   "source": [
    "<div class=\"alert alert-success\">\n",
    "<h2> Комментарий ревьюера <a class=\"tocSkip\"> </h2>\n",
    "\n",
    "<b>Все отлично!👍:</b> Проанализировали разницу в признаках между выборками. "
   ]
  },
  {
   "cell_type": "markdown",
   "metadata": {},
   "source": [
    "<div class=\"alert alert-block alert-danger\">\n",
    "<h2> Комментарий ревьюера <a class=\"tocSkip\"></h2>\n",
    "\n",
    "    \n",
    "<b>На доработку❌:</b> Здесь стоит вспомнить разницу между онлайн и оффлайн метриками: исходя из понимания, что тестовая выборка имитирует работу модели в реальных условиях протекания технологического процесса, давай подумаем, почему в `train` есть признаки, которые недоступны в `test`?\n",
    "    \n",
    "Нужно сделать вывод о причине расхожедния количества признаков между `train` и `test`."
   ]
  },
  {
   "cell_type": "markdown",
   "metadata": {},
   "source": [
    "<div class=\"alert alert-info\">\n",
    "<h2> Комментарий студента <a class=\"tocSkip\"> </h2>\n",
    "\n",
    "Количество признаков между train и test расходится потому что некоторые метрики нельзя измерить на месте, например, возможно, для измерения концентрации метала надо отнести образцы в лабораторию. Другими словами train условно исторические данные, а test данные которые мы только получили и некоторые признаки ещё просто не успели добавить.\n",
    "</div>"
   ]
  },
  {
   "cell_type": "markdown",
   "metadata": {},
   "source": [
    "<div class=\"alert alert-success\">\n",
    "<h2> Комментарий ревьюера v.2 <a class=\"tocSkip\"> </h2>\n",
    "\n",
    "<b>Все отлично!👍:</b> Всё верно!"
   ]
  },
  {
   "cell_type": "code",
   "execution_count": 7,
   "metadata": {
    "ExecuteTime": {
     "end_time": "2023-08-31T21:17:56.083542249Z",
     "start_time": "2023-08-31T21:17:55.676945142Z"
    }
   },
   "outputs": [
    {
     "name": "stdout",
     "output_type": "stream",
     "text": [
      "проверим столбец на дубликаты, full df 0\n",
      "проверим столбец на дубликаты, train df 0\n",
      "проверим столбец на дубликаты, test df 0\n"
     ]
    }
   ],
   "source": [
    "# Подготовим данные и заполним пропущенные данные\n",
    "# Столбец с датой для предсказания мы использовать не будем,\n",
    "# но информация нам нужна, поэтому запишем его в индекс.\n",
    "print('проверим столбец на дубликаты, full df', sum(gold_full.date.duplicated()))\n",
    "print('проверим столбец на дубликаты, train df', sum(gold_train.date.duplicated()))\n",
    "print('проверим столбец на дубликаты, test df', sum(gold_test.date.duplicated()))\n",
    "gold_full.index = pd.to_datetime(gold_full.date)\n",
    "gold_full.drop('date', inplace=True, axis=1)\n",
    "gold_train.index = pd.to_datetime(gold_train.date)\n",
    "gold_train.drop('date', inplace=True, axis=1)\n",
    "gold_test.index = pd.to_datetime(gold_test.date)\n",
    "gold_test.drop('date', inplace=True, axis=1)"
   ]
  },
  {
   "cell_type": "markdown",
   "metadata": {},
   "source": [
    "<div class=\"alert alert-success\">\n",
    "<h2> Комментарий ревьюера <a class=\"tocSkip\"> </h2>\n",
    "\n",
    "<b>Все отлично!👍:</b> Дубликатов нет - отлично!"
   ]
  },
  {
   "cell_type": "markdown",
   "metadata": {},
   "source": [
    "<div class=\"alert alert-warning\">\n",
    "    <h2> Комментарий ревьюера <a class=\"tocSkip\"> </h2>\n",
    "\n",
    "<b>Некоторые замечания и рекомендации⚠️:</b> \n",
    "\n",
    "Здесь заканчивается стрктурный блок работы - стоит сделать промежуточные выводы о проделанной работе в блоке."
   ]
  },
  {
   "cell_type": "markdown",
   "metadata": {},
   "source": [
    "<div class=\"alert alert-info\">\n",
    "<h2> Комментарий студента <a class=\"tocSkip\"> </h2>\n",
    "\n",
    "На данном этапе работы была проведена первоначальная оценка данных, оценена правильность рассчёта эффективности обогащения, найдены столбцы которые отсутствуют в тестовом наборе данных и удалён столбец с датой, который стал теперь индексом.\n",
    "</div>"
   ]
  },
  {
   "cell_type": "markdown",
   "metadata": {},
   "source": [
    "<div class=\"alert alert-success\">\n",
    "<h2> Комментарий ревьюера v.2 <a class=\"tocSkip\"> </h2>\n",
    "\n",
    "<b>Все отлично!👍:</b> Учтено."
   ]
  },
  {
   "cell_type": "code",
   "execution_count": 8,
   "metadata": {
    "ExecuteTime": {
     "end_time": "2023-08-31T21:17:56.083542249Z",
     "start_time": "2023-08-31T21:17:55.676945142Z"
    }
   },
   "outputs": [],
   "source": [
    "# Как мы могли убедиться выше, пропущенных значений по каждому столбцу не очень много,\n",
    "# поэтому заполним медианой.\n",
    "gold_test.fillna(method='bfill', inplace=True)\n",
    "gold_train.fillna(method='bfill', inplace=True)"
   ]
  },
  {
   "cell_type": "markdown",
   "metadata": {},
   "source": [
    "<div class=\"alert alert-success\">\n",
    "<h2> Комментарий ревьюера <a class=\"tocSkip\"> </h2>\n",
    "\n",
    "<b>Все отлично!👍:</b> Пропуски заполнены."
   ]
  },
  {
   "cell_type": "markdown",
   "metadata": {},
   "source": [
    "<div class=\"alert alert-warning\">\n",
    "    <h2> Комментарий ревьюера <a class=\"tocSkip\"> </h2>\n",
    "    \n",
    "<b>Некоторые замечания и рекомендации⚠️:</b> \n",
    "Замена на средние или медианы на всегда будет корректно работать, так как состояние одного и того же объекта в разное время может быть разным, и это не очень корректный шаг для данных с временной меткой.\n",
    "        \n",
    "Лучше использовать методы заполнения предыдущим или следующим значением (из условий проекта мы знаем, что соседние значения похожи) или использовать инструменты машинного обучения для заполнения пропусков из семейства `sklearn.impute`."
   ]
  },
  {
   "cell_type": "markdown",
   "metadata": {},
   "source": [
    "<div class=\"alert alert-info\">\n",
    "<h2> Комментарий студента <a class=\"tocSkip\"> </h2>\n",
    "\n",
    "поправил\n",
    "</div>"
   ]
  },
  {
   "cell_type": "markdown",
   "metadata": {},
   "source": [
    "<div class=\"alert alert-success\">\n",
    "<h2> Комментарий ревьюера v.2 <a class=\"tocSkip\"> </h2>\n",
    "\n",
    "<b>Все отлично!👍:</b> Учтено."
   ]
  },
  {
   "cell_type": "markdown",
   "metadata": {},
   "source": [
    "## Анализ данных"
   ]
  },
  {
   "cell_type": "code",
   "execution_count": 9,
   "metadata": {
    "ExecuteTime": {
     "end_time": "2023-08-31T21:17:56.204566253Z",
     "start_time": "2023-08-31T21:17:55.892657149Z"
    }
   },
   "outputs": [
    {
     "data": {
      "text/html": [
       "<div>\n",
       "<style scoped>\n",
       "    .dataframe tbody tr th:only-of-type {\n",
       "        vertical-align: middle;\n",
       "    }\n",
       "\n",
       "    .dataframe tbody tr th {\n",
       "        vertical-align: top;\n",
       "    }\n",
       "\n",
       "    .dataframe thead th {\n",
       "        text-align: right;\n",
       "    }\n",
       "</style>\n",
       "<table border=\"1\" class=\"dataframe\">\n",
       "  <thead>\n",
       "    <tr style=\"text-align: right;\">\n",
       "      <th></th>\n",
       "      <th>rougher.input.feed_au</th>\n",
       "      <th>rougher.output.concentrate_au</th>\n",
       "      <th>primary_cleaner.output.concentrate_au</th>\n",
       "      <th>final.output.concentrate_au</th>\n",
       "    </tr>\n",
       "  </thead>\n",
       "  <tbody>\n",
       "    <tr>\n",
       "      <th>count</th>\n",
       "      <td>19439.000000</td>\n",
       "      <td>19439.000000</td>\n",
       "      <td>19439.000000</td>\n",
       "      <td>19439.000000</td>\n",
       "    </tr>\n",
       "    <tr>\n",
       "      <th>mean</th>\n",
       "      <td>8.266097</td>\n",
       "      <td>19.772000</td>\n",
       "      <td>32.119400</td>\n",
       "      <td>44.076513</td>\n",
       "    </tr>\n",
       "    <tr>\n",
       "      <th>std</th>\n",
       "      <td>1.955092</td>\n",
       "      <td>3.753600</td>\n",
       "      <td>5.627611</td>\n",
       "      <td>5.129784</td>\n",
       "    </tr>\n",
       "    <tr>\n",
       "      <th>min</th>\n",
       "      <td>0.010000</td>\n",
       "      <td>0.000000</td>\n",
       "      <td>0.000000</td>\n",
       "      <td>0.000000</td>\n",
       "    </tr>\n",
       "    <tr>\n",
       "      <th>25%</th>\n",
       "      <td>6.854384</td>\n",
       "      <td>18.802523</td>\n",
       "      <td>30.463140</td>\n",
       "      <td>43.402215</td>\n",
       "    </tr>\n",
       "    <tr>\n",
       "      <th>50%</th>\n",
       "      <td>8.125839</td>\n",
       "      <td>20.280214</td>\n",
       "      <td>32.841295</td>\n",
       "      <td>45.011244</td>\n",
       "    </tr>\n",
       "    <tr>\n",
       "      <th>75%</th>\n",
       "      <td>9.769917</td>\n",
       "      <td>21.717843</td>\n",
       "      <td>35.048006</td>\n",
       "      <td>46.275313</td>\n",
       "    </tr>\n",
       "    <tr>\n",
       "      <th>max</th>\n",
       "      <td>13.731330</td>\n",
       "      <td>28.824507</td>\n",
       "      <td>45.933934</td>\n",
       "      <td>52.756638</td>\n",
       "    </tr>\n",
       "  </tbody>\n",
       "</table>\n",
       "</div>"
      ],
      "text/plain": [
       "       rougher.input.feed_au  rougher.output.concentrate_au  \\\n",
       "count           19439.000000                   19439.000000   \n",
       "mean                8.266097                      19.772000   \n",
       "std                 1.955092                       3.753600   \n",
       "min                 0.010000                       0.000000   \n",
       "25%                 6.854384                      18.802523   \n",
       "50%                 8.125839                      20.280214   \n",
       "75%                 9.769917                      21.717843   \n",
       "max                13.731330                      28.824507   \n",
       "\n",
       "       primary_cleaner.output.concentrate_au  final.output.concentrate_au  \n",
       "count                           19439.000000                 19439.000000  \n",
       "mean                               32.119400                    44.076513  \n",
       "std                                 5.627611                     5.129784  \n",
       "min                                 0.000000                     0.000000  \n",
       "25%                                30.463140                    43.402215  \n",
       "50%                                32.841295                    45.011244  \n",
       "75%                                35.048006                    46.275313  \n",
       "max                                45.933934                    52.756638  "
      ]
     },
     "metadata": {},
     "output_type": "display_data"
    },
    {
     "data": {
      "text/html": [
       "<div>\n",
       "<style scoped>\n",
       "    .dataframe tbody tr th:only-of-type {\n",
       "        vertical-align: middle;\n",
       "    }\n",
       "\n",
       "    .dataframe tbody tr th {\n",
       "        vertical-align: top;\n",
       "    }\n",
       "\n",
       "    .dataframe thead th {\n",
       "        text-align: right;\n",
       "    }\n",
       "</style>\n",
       "<table border=\"1\" class=\"dataframe\">\n",
       "  <thead>\n",
       "    <tr style=\"text-align: right;\">\n",
       "      <th></th>\n",
       "      <th>rougher.input.feed_ag</th>\n",
       "      <th>rougher.output.concentrate_ag</th>\n",
       "      <th>primary_cleaner.output.concentrate_ag</th>\n",
       "      <th>final.output.concentrate_ag</th>\n",
       "    </tr>\n",
       "  </thead>\n",
       "  <tbody>\n",
       "    <tr>\n",
       "      <th>count</th>\n",
       "      <td>19439.000000</td>\n",
       "      <td>19439.000000</td>\n",
       "      <td>19439.000000</td>\n",
       "      <td>19438.000000</td>\n",
       "    </tr>\n",
       "    <tr>\n",
       "      <th>mean</th>\n",
       "      <td>8.794927</td>\n",
       "      <td>11.994759</td>\n",
       "      <td>8.442408</td>\n",
       "      <td>5.168470</td>\n",
       "    </tr>\n",
       "    <tr>\n",
       "      <th>std</th>\n",
       "      <td>1.936847</td>\n",
       "      <td>2.733862</td>\n",
       "      <td>2.054465</td>\n",
       "      <td>1.372348</td>\n",
       "    </tr>\n",
       "    <tr>\n",
       "      <th>min</th>\n",
       "      <td>0.010000</td>\n",
       "      <td>0.000000</td>\n",
       "      <td>0.000000</td>\n",
       "      <td>0.000000</td>\n",
       "    </tr>\n",
       "    <tr>\n",
       "      <th>25%</th>\n",
       "      <td>7.237967</td>\n",
       "      <td>10.628337</td>\n",
       "      <td>7.263288</td>\n",
       "      <td>4.251240</td>\n",
       "    </tr>\n",
       "    <tr>\n",
       "      <th>50%</th>\n",
       "      <td>8.593574</td>\n",
       "      <td>12.098115</td>\n",
       "      <td>8.507298</td>\n",
       "      <td>5.066094</td>\n",
       "    </tr>\n",
       "    <tr>\n",
       "      <th>75%</th>\n",
       "      <td>10.213771</td>\n",
       "      <td>13.736996</td>\n",
       "      <td>9.809001</td>\n",
       "      <td>5.895527</td>\n",
       "    </tr>\n",
       "    <tr>\n",
       "      <th>max</th>\n",
       "      <td>14.596026</td>\n",
       "      <td>24.480271</td>\n",
       "      <td>16.081632</td>\n",
       "      <td>16.001945</td>\n",
       "    </tr>\n",
       "  </tbody>\n",
       "</table>\n",
       "</div>"
      ],
      "text/plain": [
       "       rougher.input.feed_ag  rougher.output.concentrate_ag  \\\n",
       "count           19439.000000                   19439.000000   \n",
       "mean                8.794927                      11.994759   \n",
       "std                 1.936847                       2.733862   \n",
       "min                 0.010000                       0.000000   \n",
       "25%                 7.237967                      10.628337   \n",
       "50%                 8.593574                      12.098115   \n",
       "75%                10.213771                      13.736996   \n",
       "max                14.596026                      24.480271   \n",
       "\n",
       "       primary_cleaner.output.concentrate_ag  final.output.concentrate_ag  \n",
       "count                           19439.000000                 19438.000000  \n",
       "mean                                8.442408                     5.168470  \n",
       "std                                 2.054465                     1.372348  \n",
       "min                                 0.000000                     0.000000  \n",
       "25%                                 7.263288                     4.251240  \n",
       "50%                                 8.507298                     5.066094  \n",
       "75%                                 9.809001                     5.895527  \n",
       "max                                16.081632                    16.001945  "
      ]
     },
     "metadata": {},
     "output_type": "display_data"
    },
    {
     "data": {
      "text/html": [
       "<div>\n",
       "<style scoped>\n",
       "    .dataframe tbody tr th:only-of-type {\n",
       "        vertical-align: middle;\n",
       "    }\n",
       "\n",
       "    .dataframe tbody tr th {\n",
       "        vertical-align: top;\n",
       "    }\n",
       "\n",
       "    .dataframe thead th {\n",
       "        text-align: right;\n",
       "    }\n",
       "</style>\n",
       "<table border=\"1\" class=\"dataframe\">\n",
       "  <thead>\n",
       "    <tr style=\"text-align: right;\">\n",
       "      <th></th>\n",
       "      <th>rougher.input.feed_pb</th>\n",
       "      <th>rougher.output.concentrate_pb</th>\n",
       "      <th>primary_cleaner.output.concentrate_pb</th>\n",
       "      <th>final.output.concentrate_pb</th>\n",
       "    </tr>\n",
       "  </thead>\n",
       "  <tbody>\n",
       "    <tr>\n",
       "      <th>count</th>\n",
       "      <td>19339.000000</td>\n",
       "      <td>19439.000000</td>\n",
       "      <td>19323.000000</td>\n",
       "      <td>19438.000000</td>\n",
       "    </tr>\n",
       "    <tr>\n",
       "      <th>mean</th>\n",
       "      <td>3.598085</td>\n",
       "      <td>7.606272</td>\n",
       "      <td>9.829530</td>\n",
       "      <td>9.978895</td>\n",
       "    </tr>\n",
       "    <tr>\n",
       "      <th>std</th>\n",
       "      <td>1.049486</td>\n",
       "      <td>1.796757</td>\n",
       "      <td>2.556843</td>\n",
       "      <td>1.669240</td>\n",
       "    </tr>\n",
       "    <tr>\n",
       "      <th>min</th>\n",
       "      <td>0.010000</td>\n",
       "      <td>0.000000</td>\n",
       "      <td>0.000000</td>\n",
       "      <td>0.000000</td>\n",
       "    </tr>\n",
       "    <tr>\n",
       "      <th>25%</th>\n",
       "      <td>2.887280</td>\n",
       "      <td>6.725987</td>\n",
       "      <td>8.702328</td>\n",
       "      <td>9.137262</td>\n",
       "    </tr>\n",
       "    <tr>\n",
       "      <th>50%</th>\n",
       "      <td>3.534895</td>\n",
       "      <td>7.742580</td>\n",
       "      <td>10.152433</td>\n",
       "      <td>10.102433</td>\n",
       "    </tr>\n",
       "    <tr>\n",
       "      <th>75%</th>\n",
       "      <td>4.244161</td>\n",
       "      <td>8.565199</td>\n",
       "      <td>11.424971</td>\n",
       "      <td>11.035769</td>\n",
       "    </tr>\n",
       "    <tr>\n",
       "      <th>max</th>\n",
       "      <td>7.142594</td>\n",
       "      <td>13.617072</td>\n",
       "      <td>17.081278</td>\n",
       "      <td>17.031899</td>\n",
       "    </tr>\n",
       "  </tbody>\n",
       "</table>\n",
       "</div>"
      ],
      "text/plain": [
       "       rougher.input.feed_pb  rougher.output.concentrate_pb  \\\n",
       "count           19339.000000                   19439.000000   \n",
       "mean                3.598085                       7.606272   \n",
       "std                 1.049486                       1.796757   \n",
       "min                 0.010000                       0.000000   \n",
       "25%                 2.887280                       6.725987   \n",
       "50%                 3.534895                       7.742580   \n",
       "75%                 4.244161                       8.565199   \n",
       "max                 7.142594                      13.617072   \n",
       "\n",
       "       primary_cleaner.output.concentrate_pb  final.output.concentrate_pb  \n",
       "count                           19323.000000                 19438.000000  \n",
       "mean                                9.829530                     9.978895  \n",
       "std                                 2.556843                     1.669240  \n",
       "min                                 0.000000                     0.000000  \n",
       "25%                                 8.702328                     9.137262  \n",
       "50%                                10.152433                    10.102433  \n",
       "75%                                11.424971                    11.035769  \n",
       "max                                17.081278                    17.031899  "
      ]
     },
     "metadata": {},
     "output_type": "display_data"
    },
    {
     "data": {
      "text/plain": [
       "Index(['rougher.input.feed_au', 'rougher.input.feed_ag',\n",
       "       'rougher.input.feed_pb', 'rougher.input.feed_sol',\n",
       "       'rougher.input.feed_rate', 'rougher.input.feed_size',\n",
       "       'rougher.input.floatbank10_sulfate',\n",
       "       'rougher.input.floatbank10_xanthate', 'rougher.state.floatbank10_a_air',\n",
       "       'rougher.state.floatbank10_a_level', 'rougher.state.floatbank10_b_air',\n",
       "       'rougher.state.floatbank10_b_level', 'rougher.state.floatbank10_c_air',\n",
       "       'rougher.state.floatbank10_c_level', 'rougher.state.floatbank10_d_air',\n",
       "       'rougher.state.floatbank10_d_level', 'rougher.state.floatbank10_e_air',\n",
       "       'rougher.state.floatbank10_e_level', 'rougher.state.floatbank10_f_air',\n",
       "       'rougher.state.floatbank10_f_level',\n",
       "       'rougher.input.floatbank11_sulfate',\n",
       "       'rougher.input.floatbank11_xanthate',\n",
       "       'rougher.calculation.sulfate_to_au_concentrate',\n",
       "       'rougher.calculation.floatbank10_sulfate_to_au_feed',\n",
       "       'rougher.calculation.floatbank11_sulfate_to_au_feed',\n",
       "       'rougher.calculation.au_pb_ratio', 'rougher.output.concentrate_au',\n",
       "       'rougher.output.concentrate_ag', 'rougher.output.concentrate_pb',\n",
       "       'rougher.output.concentrate_sol', 'rougher.output.recovery',\n",
       "       'rougher.output.tail_au', 'rougher.output.tail_ag',\n",
       "       'rougher.output.tail_pb', 'rougher.output.tail_sol',\n",
       "       'primary_cleaner.input.sulfate', 'primary_cleaner.input.depressant',\n",
       "       'primary_cleaner.input.feed_size', 'primary_cleaner.input.xanthate',\n",
       "       'primary_cleaner.state.floatbank8_a_air',\n",
       "       'primary_cleaner.state.floatbank8_a_level',\n",
       "       'primary_cleaner.state.floatbank8_b_air',\n",
       "       'primary_cleaner.state.floatbank8_b_level',\n",
       "       'primary_cleaner.state.floatbank8_c_air',\n",
       "       'primary_cleaner.state.floatbank8_c_level',\n",
       "       'primary_cleaner.state.floatbank8_d_air',\n",
       "       'primary_cleaner.state.floatbank8_d_level',\n",
       "       'primary_cleaner.output.concentrate_au',\n",
       "       'primary_cleaner.output.concentrate_ag',\n",
       "       'primary_cleaner.output.concentrate_pb',\n",
       "       'primary_cleaner.output.concentrate_sol',\n",
       "       'primary_cleaner.output.tail_au', 'primary_cleaner.output.tail_ag',\n",
       "       'primary_cleaner.output.tail_pb', 'primary_cleaner.output.tail_sol',\n",
       "       'secondary_cleaner.state.floatbank2_a_air',\n",
       "       'secondary_cleaner.state.floatbank2_a_level',\n",
       "       'secondary_cleaner.state.floatbank2_b_air',\n",
       "       'secondary_cleaner.state.floatbank2_b_level',\n",
       "       'secondary_cleaner.state.floatbank3_a_air',\n",
       "       'secondary_cleaner.state.floatbank3_a_level',\n",
       "       'secondary_cleaner.state.floatbank3_b_air',\n",
       "       'secondary_cleaner.state.floatbank3_b_level',\n",
       "       'secondary_cleaner.state.floatbank4_a_air',\n",
       "       'secondary_cleaner.state.floatbank4_a_level',\n",
       "       'secondary_cleaner.state.floatbank4_b_air',\n",
       "       'secondary_cleaner.state.floatbank4_b_level',\n",
       "       'secondary_cleaner.state.floatbank5_a_air',\n",
       "       'secondary_cleaner.state.floatbank5_a_level',\n",
       "       'secondary_cleaner.state.floatbank5_b_air',\n",
       "       'secondary_cleaner.state.floatbank5_b_level',\n",
       "       'secondary_cleaner.state.floatbank6_a_air',\n",
       "       'secondary_cleaner.state.floatbank6_a_level',\n",
       "       'secondary_cleaner.output.tail_au', 'secondary_cleaner.output.tail_ag',\n",
       "       'secondary_cleaner.output.tail_pb', 'secondary_cleaner.output.tail_sol',\n",
       "       'final.output.concentrate_au', 'final.output.concentrate_ag',\n",
       "       'final.output.concentrate_pb', 'final.output.concentrate_sol',\n",
       "       'final.output.recovery', 'final.output.tail_au', 'final.output.tail_ag',\n",
       "       'final.output.tail_pb', 'final.output.tail_sol'],\n",
       "      dtype='object')"
      ]
     },
     "execution_count": 9,
     "metadata": {},
     "output_type": "execute_result"
    }
   ],
   "source": [
    "# Сравним концентрации металлов золота, серебра и свинца на разных стадиях.\n",
    "def get_metal_cols(metal):\n",
    "    return [f'rougher.input.feed_{metal}'] + [\n",
    "        m for m in gold_full.columns if re.search('concentrate_'+metal, m)\n",
    "    ]\n",
    "au_cols = get_metal_cols('au')\n",
    "ag_cols = get_metal_cols('ag')\n",
    "pb_cols = get_metal_cols('pb')\n",
    "display(gold_full[au_cols].describe())\n",
    "display(gold_full[ag_cols].describe())\n",
    "display(gold_full[pb_cols].describe())\n",
    "gold_train.columns"
   ]
  },
  {
   "cell_type": "code",
   "execution_count": 10,
   "metadata": {
    "ExecuteTime": {
     "end_time": "2023-08-31T21:17:59.789449234Z",
     "start_time": "2023-08-31T21:17:56.029089094Z"
    }
   },
   "outputs": [
    {
     "data": {
      "image/png": "[encoded data removed]",
      "text/plain": [
       "<Figure size 1440x720 with 3 Axes>"
      ]
     },
     "metadata": {
      "needs_background": "light"
     },
     "output_type": "display_data"
    }
   ],
   "source": [
    "# Для наглядности построим график\n",
    "figure, axis = plt.subplots(nrows=1, ncols=3, figsize=(20, 10))\n",
    "\n",
    "axis[0].hist(gold_full[au_cols].iloc[:, 0], bins=100, color='black', alpha=0.6, label='Input')\n",
    "axis[0].hist(gold_full[au_cols].iloc[:, 1], bins=100, color='orange', alpha=0.6, label='Rougher')\n",
    "axis[0].hist(gold_full[au_cols].iloc[:, 2], bins=100, color='blue', alpha=0.6, label='Primary cleaner')\n",
    "axis[0].hist(gold_full[au_cols].iloc[:, 3], bins=100, color='red', label='Final')\n",
    "axis[0].set_xlabel('концентрация')\n",
    "axis[0].set_ylabel('частота')\n",
    "axis[0].set_title('золото')\n",
    "axis[1].hist(gold_full[au_cols].iloc[:, 0], bins=100, color='black', alpha=0.6, label='Input')\n",
    "axis[1].hist(gold_full[ag_cols].iloc[:, 1], bins=100, color='orange', alpha=0.6, label='Rougher')\n",
    "axis[1].hist(gold_full[ag_cols].iloc[:, 2], bins=100, color='blue', alpha=0.6, label='Primary cleaner')\n",
    "axis[1].hist(gold_full[ag_cols].iloc[:, 3], bins=100, color='red', label='Final')\n",
    "axis[1].set_xlabel('концентрация')\n",
    "axis[1].set_ylabel('частота')\n",
    "axis[1].set_title('серебро')\n",
    "axis[2].hist(gold_full[au_cols].iloc[:, 0], bins=100, color='black', alpha=0.6, label='Input')\n",
    "axis[2].hist(gold_full[pb_cols].iloc[:, 1], bins=100, color='orange', alpha=0.6, label='Rougher')\n",
    "axis[2].hist(gold_full[pb_cols].iloc[:, 2], bins=100, color='blue', alpha=0.6, label='Primary cleaner')\n",
    "axis[2].hist(gold_full[pb_cols].iloc[:, 3], bins=100, color='red', label='Final')\n",
    "axis[2].set_xlabel('концентрация')\n",
    "axis[2].set_ylabel('частота')\n",
    "axis[2].set_title('свинец')\n",
    "figure.suptitle('Распределения концентраций металлов в зависимости от этапов очистки');\n",
    "handles, labels = axis[0].get_legend_handles_labels()\n",
    "figure.legend(handles, labels);"
   ]
  },
  {
   "cell_type": "markdown",
   "metadata": {},
   "source": [
    "Из распределений видно что концентрация золота растёт, концентрация серебра немного повышается после флотации, но снижается на остальных этапах очистки, в то время как концентрация свинца незначительно увеличивается после флотации, но практически не меняется после. Также на графиках обнаружились значения, где концентрация металла равна 0, во всех случаях больше всего таких значений на этапе флотации и меньше всего после второй очистки."
   ]
  },
  {
   "cell_type": "code",
   "execution_count": 11,
   "metadata": {
    "ExecuteTime": {
     "end_time": "2023-08-31T21:18:00.139233001Z",
     "start_time": "2023-08-31T21:17:59.801606141Z"
    }
   },
   "outputs": [],
   "source": [
    "# Нулевая концентрация металлов это явный артефакт, поэтому надо удалить такие наблюдения.\n",
    "threshold = 1e-1\n",
    "conc_metal_cols = au_cols + ag_cols + pb_cols\n",
    "for conc in conc_metal_cols:\n",
    "    gold_train.drop(gold_train[gold_train[conc]<threshold].index, inplace=True)"
   ]
  },
  {
   "cell_type": "code",
   "execution_count": 12,
   "metadata": {
    "ExecuteTime": {
     "end_time": "2023-08-31T21:18:00.140528057Z",
     "start_time": "2023-08-31T21:17:59.859442241Z"
    }
   },
   "outputs": [
    {
     "data": {
      "text/plain": [
       "DatetimeIndex([], dtype='datetime64[ns]', name='date', freq=None)"
      ]
     },
     "execution_count": 12,
     "metadata": {},
     "output_type": "execute_result"
    }
   ],
   "source": [
    "# Проверим что такие наблюдения удалены из тренировочного датасета\n",
    "gold_train[gold_train[conc_metal_cols[0]]<threshold].index"
   ]
  },
  {
   "cell_type": "markdown",
   "metadata": {},
   "source": [
    "Артефакты успешно удалены"
   ]
  },
  {
   "cell_type": "markdown",
   "metadata": {},
   "source": [
    "<div class=\"alert alert-success\">\n",
    "<h2> Комментарий ревьюера <a class=\"tocSkip\"> </h2>\n",
    "\n",
    "<b>Все отлично!👍:</b> Исследована концентрация металлов на разных стадиях обработки, проанализирована динамика концентрации в зависимости от этапа техпроцесса - отлично, тут всё верно.\n",
    "    \n",
    "Круто, что были отмечены и удалены нулевые значения - это действительно аномалия, подлежащая удалению.\n",
    "</div>"
   ]
  },
  {
   "cell_type": "markdown",
   "metadata": {},
   "source": [
    "<div class=\"alert alert-block alert-danger\">\n",
    "<h2> Комментарий ревьюера <a class=\"tocSkip\"></h2>\n",
    "\n",
    "    \n",
    "<b>На доработку❌:</b>\n",
    "\n",
    "Сверься с брифом проекта и добавь в исследование потерянный этап."
   ]
  },
  {
   "cell_type": "markdown",
   "metadata": {},
   "source": [
    "<div class=\"alert alert-info\">\n",
    "<h2> Комментарий студента <a class=\"tocSkip\"> </h2>\n",
    "Вывод имеется в виду? Если да, то вывод только один, концентрация золота растёт при том что концентрация других металлов меняется незначительно либо не меняется вовсе. Я думал это понятно из описания которое есть.\n",
    "\n",
    "А так у меня вот что в описании проекта:\n",
    "2.1. Посмотрите, как меняется концентрация металлов (Au, Ag, Pb) на различных этапах: в сырье, в черновом концентрате, в концентрате после первой очистки и в финальном концентрате. Какие особенности имеют распределения? Опишите выводы.\n",
    "    \n",
    "А потом 2.2 на сравнение гранул.\n",
    "</div>"
   ]
  },
  {
   "cell_type": "markdown",
   "metadata": {},
   "source": [
    "<div class=\"alert alert-block alert-danger\">\n",
    "<h2> Комментарий ревьюера v.2 <a class=\"tocSkip\"></h2>\n",
    "\n",
    "    \n",
    "<b>На доработку❌:</b> Нет, с выводом всё ок, замечание по полноте анализа: у тебя перечислены этапы `в сырье, в черновом концентрате, в концентрате после первой очистки и в финальном концентрате`, то есть 4 этапа процесса, у тебя выше визуализировано 3 - один потерялся."
   ]
  },
  {
   "cell_type": "markdown",
   "metadata": {},
   "source": [
    "<div class=\"alert alert-info\">\n",
    "<h2> Комментарий студента <a class=\"tocSkip\"> </h2>\n",
    "\n",
    "поправил\n",
    "</div>"
   ]
  },
  {
   "cell_type": "markdown",
   "metadata": {},
   "source": [
    "<div class=\"alert alert-success\">\n",
    "<h2> Комментарий ревьюера v.3 <a class=\"tocSkip\"> </h2>\n",
    "\n",
    "<b>Все отлично!👍:</b> Учтено."
   ]
  },
  {
   "cell_type": "code",
   "execution_count": 13,
   "metadata": {
    "ExecuteTime": {
     "end_time": "2023-08-31T21:18:00.141949808Z",
     "start_time": "2023-08-31T21:17:59.869099190Z"
    }
   },
   "outputs": [
    {
     "data": {
      "text/plain": [
       "count    13881.000000\n",
       "mean        58.810206\n",
       "std         23.356806\n",
       "min          0.049194\n",
       "25%         47.166841\n",
       "50%         54.313886\n",
       "75%         64.228440\n",
       "max        484.967466\n",
       "Name: rougher.input.feed_size, dtype: float64"
      ]
     },
     "metadata": {},
     "output_type": "display_data"
    },
    {
     "data": {
      "text/plain": [
       "count    4860.000000\n",
       "mean       59.080175\n",
       "std        19.441844\n",
       "min         0.046369\n",
       "25%        47.605339\n",
       "50%        55.414175\n",
       "75%        66.538910\n",
       "max       363.989699\n",
       "Name: rougher.input.feed_size, dtype: float64"
      ]
     },
     "metadata": {},
     "output_type": "display_data"
    }
   ],
   "source": [
    "# Сравним размер гранул между тренировочной и тестовой выборками\n",
    "display(gold_train['rougher.input.feed_size'].describe())\n",
    "display(gold_test['rougher.input.feed_size'].describe())\n",
    "# Выглядит очень похоже"
   ]
  },
  {
   "cell_type": "code",
   "execution_count": 14,
   "metadata": {
    "ExecuteTime": {
     "end_time": "2023-08-31T21:18:00.142709390Z",
     "start_time": "2023-08-31T21:17:59.951419630Z"
    }
   },
   "outputs": [
    {
     "name": "stdout",
     "output_type": "stream",
     "text": [
      "H0: разницы между средним значением размера гранул в тренировочной и тестовой выборке нет, \n",
      "H1: разница между средним значением размера гранул в тренировочной и тестовой выборке есть\n",
      "P-value: 0.4301274126223197\n",
      "pval > alpha, не можем отвергнуть H_0 в пользу H_1, размер гранул одинаковый.\n"
     ]
    },
    {
     "data": {
      "image/png": "[encoded data removed]",
      "text/plain": [
       "<Figure size 1080x576 with 1 Axes>"
      ]
     },
     "metadata": {
      "needs_background": "light"
     },
     "output_type": "display_data"
    }
   ],
   "source": [
    "# Докажем что выборки равны, попытавшись доказать обратное.\n",
    "pval = st.ttest_ind(gold_train['rougher.input.feed_size'], \n",
    "                    gold_test['rougher.input.feed_size'],\n",
    "                    equal_var=False\n",
    "                   ).pvalue\n",
    "print('''H0: разницы между средним значением размера гранул в тренировочной и тестовой выборке нет, \n",
    "H1: разница между средним значением размера гранул в тренировочной и тестовой выборке есть''')\n",
    "print('P-value:', pval)\n",
    "if pval < 0.05:\n",
    "    print('pval < alpha, H_0 отвергается, выборки не равны, размер гранул разный')\n",
    "else:\n",
    "    print('pval > alpha, не можем отвергнуть H_0 в пользу H_1, размер гранул одинаковый.')\n",
    "figure, axis = plt.subplots(figsize=(15, 8))\n",
    "axis.hist(gold_train['rougher.input.feed_size'], bins=100, density=True, alpha=0.6, label='size_train')\n",
    "axis.hist(gold_test['rougher.input.feed_size'], bins=100, density=True, alpha=0.6, label='size_test')\n",
    "axis.set_xlabel('Размер гранул')\n",
    "axis.set_ylabel('Относительная частота')\n",
    "axis.set_title('Размер гранул в выборках')\n",
    "axis.legend();"
   ]
  },
  {
   "cell_type": "markdown",
   "metadata": {},
   "source": [
    "Можно статистически обоснованно считать что размер гранул одинаковый. Также на графике видно что распределения почти полностью перекрывают друг друга."
   ]
  },
  {
   "cell_type": "markdown",
   "metadata": {},
   "source": [
    "<div class=\"alert alert-success\">\n",
    "<h2> Комментарий ревьюера <a class=\"tocSkip\"> </h2>\n",
    "\n",
    "<b>Все отлично!👍:</b> Сравнили размеры гранул сырья на обучающей и тестовой выборках для этапа `rougher.input.feed_size` - отлично, распределения между выборками действительно схожи, следовательно модель будет корректно работать.\n",
    "\n",
    "Интересный подход к выполнению задания:)"
   ]
  },
  {
   "cell_type": "markdown",
   "metadata": {},
   "source": [
    "<div class=\"alert alert-block alert-danger\">\n",
    "<h2> Комментарий ревьюера <a class=\"tocSkip\"></h2>\n",
    "\n",
    "    \n",
    "<b>На доработку❌:</b>\n",
    "\n",
    "1. При проведении тестов важно формулировать гипотезы.\n",
    "2. Ннужно также вывести на экран `p-value`.\n",
    "3. Не настроен параметр `equal_var` - выборки разного размера.\n",
    "4. Помимо теста, нужно сделать графическое сравнение - используй нормированные гистограммы, так как выборки разного размера."
   ]
  },
  {
   "cell_type": "markdown",
   "metadata": {},
   "source": [
    "<div class=\"alert alert-info\">\n",
    "<h2> Комментарий студента <a class=\"tocSkip\"> </h2>\n",
    "\n",
    "поправил\n",
    "</div>"
   ]
  },
  {
   "cell_type": "markdown",
   "metadata": {},
   "source": [
    "<div class=\"alert alert-block alert-danger\">\n",
    "<h2> Комментарий ревьюера v.2 <a class=\"tocSkip\"></h2>\n",
    "\n",
    "    \n",
    "<b>На доработку❌:</b>\n",
    "\n",
    "1. Гипотезы. При проведении стат тестов мы обчно оперируем понятием среднего, соттветственно гипотезы должны звучать как о наличии или отсутствии стат значимой разницы в среднем гранул сырья между выборками.\n",
    "2. `ttest`. Так как наши выборки существенно отличаются по размерам, нам нужно настраивать `equal_var=False` для корректной работы теста."
   ]
  },
  {
   "cell_type": "markdown",
   "metadata": {},
   "source": [
    "<div class=\"alert alert-info\">\n",
    "<h2> Комментарий студента <a class=\"tocSkip\"> </h2>\n",
    "\n",
    "поправил\n",
    "</div>"
   ]
  },
  {
   "cell_type": "markdown",
   "metadata": {},
   "source": [
    "<div class=\"alert alert-success\">\n",
    "<h2> Комментарий ревьюера v.3 <a class=\"tocSkip\"> </h2>\n",
    "\n",
    "<b>Все отлично!👍:</b> Учтено."
   ]
  },
  {
   "cell_type": "code",
   "execution_count": 15,
   "metadata": {
    "ExecuteTime": {
     "end_time": "2023-08-31T21:18:03.026843650Z",
     "start_time": "2023-08-31T21:18:00.025117043Z"
    }
   },
   "outputs": [
    {
     "data": {
      "text/html": [
       "<div>\n",
       "<style scoped>\n",
       "    .dataframe tbody tr th:only-of-type {\n",
       "        vertical-align: middle;\n",
       "    }\n",
       "\n",
       "    .dataframe tbody tr th {\n",
       "        vertical-align: top;\n",
       "    }\n",
       "\n",
       "    .dataframe thead th {\n",
       "        text-align: right;\n",
       "    }\n",
       "</style>\n",
       "<table border=\"1\" class=\"dataframe\">\n",
       "  <thead>\n",
       "    <tr style=\"text-align: right;\">\n",
       "      <th></th>\n",
       "      <th>rougher.input.feed</th>\n",
       "      <th>rougher.output.concentrate</th>\n",
       "      <th>primary_cleaner.output.concentrate</th>\n",
       "      <th>final.output.concentrate</th>\n",
       "    </tr>\n",
       "  </thead>\n",
       "  <tbody>\n",
       "    <tr>\n",
       "      <th>count</th>\n",
       "      <td>19439.000000</td>\n",
       "      <td>19439.000000</td>\n",
       "      <td>19439.000000</td>\n",
       "      <td>19439.000000</td>\n",
       "    </tr>\n",
       "    <tr>\n",
       "      <th>mean</th>\n",
       "      <td>20.640600</td>\n",
       "      <td>39.373032</td>\n",
       "      <td>50.332682</td>\n",
       "      <td>59.223099</td>\n",
       "    </tr>\n",
       "    <tr>\n",
       "      <th>std</th>\n",
       "      <td>4.494362</td>\n",
       "      <td>6.863389</td>\n",
       "      <td>7.671672</td>\n",
       "      <td>6.097603</td>\n",
       "    </tr>\n",
       "    <tr>\n",
       "      <th>min</th>\n",
       "      <td>0.030000</td>\n",
       "      <td>0.000000</td>\n",
       "      <td>0.000000</td>\n",
       "      <td>0.000000</td>\n",
       "    </tr>\n",
       "    <tr>\n",
       "      <th>25%</th>\n",
       "      <td>17.252879</td>\n",
       "      <td>38.394639</td>\n",
       "      <td>50.038524</td>\n",
       "      <td>59.298323</td>\n",
       "    </tr>\n",
       "    <tr>\n",
       "      <th>50%</th>\n",
       "      <td>20.141216</td>\n",
       "      <td>40.312648</td>\n",
       "      <td>51.905758</td>\n",
       "      <td>60.306921</td>\n",
       "    </tr>\n",
       "    <tr>\n",
       "      <th>75%</th>\n",
       "      <td>23.797381</td>\n",
       "      <td>42.365102</td>\n",
       "      <td>53.386172</td>\n",
       "      <td>61.096667</td>\n",
       "    </tr>\n",
       "    <tr>\n",
       "      <th>max</th>\n",
       "      <td>33.498784</td>\n",
       "      <td>55.568687</td>\n",
       "      <td>60.269003</td>\n",
       "      <td>64.968881</td>\n",
       "    </tr>\n",
       "  </tbody>\n",
       "</table>\n",
       "</div>"
      ],
      "text/plain": [
       "       rougher.input.feed  rougher.output.concentrate  \\\n",
       "count        19439.000000                19439.000000   \n",
       "mean            20.640600                   39.373032   \n",
       "std              4.494362                    6.863389   \n",
       "min              0.030000                    0.000000   \n",
       "25%             17.252879                   38.394639   \n",
       "50%             20.141216                   40.312648   \n",
       "75%             23.797381                   42.365102   \n",
       "max             33.498784                   55.568687   \n",
       "\n",
       "       primary_cleaner.output.concentrate  final.output.concentrate  \n",
       "count                        19439.000000              19439.000000  \n",
       "mean                            50.332682                 59.223099  \n",
       "std                              7.671672                  6.097603  \n",
       "min                              0.000000                  0.000000  \n",
       "25%                             50.038524                 59.298323  \n",
       "50%                             51.905758                 60.306921  \n",
       "75%                             53.386172                 61.096667  \n",
       "max                             60.269003                 64.968881  "
      ]
     },
     "metadata": {},
     "output_type": "display_data"
    },
    {
     "data": {
      "image/png": "[encoded data removed]",
      "text/plain": [
       "<Figure size 1080x720 with 1 Axes>"
      ]
     },
     "metadata": {
      "needs_background": "light"
     },
     "output_type": "display_data"
    }
   ],
   "source": [
    "# Исследуем суммарную концентрацию металлов на разных стадиях. Начнём с подготовки данных.\n",
    "total_concentration_cols = []\n",
    "for metal in ('au', 'ag', 'pb'):\n",
    "    total_concentration_cols.extend([column for column in gold_full.columns if re.search('(concentrate|feed)', column) and column.endswith(metal)])\n",
    "total_concentration_cols_grouped = {}\n",
    "for key, val in groupby(total_concentration_cols, lambda x: x.rsplit('_', 1)[0]):\n",
    "    total_concentration_cols_grouped.setdefault(key, []).extend(val)\n",
    "total_concentration_cols_sum = {}\n",
    "for key, val in total_concentration_cols_grouped.items():\n",
    "    total_concentration_cols_sum[key] = gold_full[val].sum(axis=1)\n",
    "total_concentration_cols_sum = pd.DataFrame(total_concentration_cols_sum)\n",
    "# Теперь можно приступить к анализу\n",
    "display(total_concentration_cols_sum.describe())\n",
    "figure, axis = plt.subplots(figsize=(15, 10))\n",
    "axis.hist(total_concentration_cols_sum.iloc[:, 0], bins=150, alpha=0.6, label=total_concentration_cols_sum.columns[0])\n",
    "axis.hist(total_concentration_cols_sum.iloc[:, 1], bins=150, alpha=0.6, label=total_concentration_cols_sum.columns[1])\n",
    "axis.hist(total_concentration_cols_sum.iloc[:, 2], bins=150, alpha=0.6, label=total_concentration_cols_sum.columns[2])\n",
    "axis.hist(total_concentration_cols_sum.iloc[:, 3], bins=150, alpha=0.6, label=total_concentration_cols_sum.columns[3])\n",
    "axis.legend()\n",
    "axis.set_xlabel('концентрация')\n",
    "axis.set_ylabel('частота')\n",
    "axis.set_title('Концентрация металлов(общая) в зависимости от стадии переработки');"
   ]
  },
  {
   "cell_type": "markdown",
   "metadata": {},
   "source": [
    "Видно, что концентрация стабильно растёт от исходного сырья к финальному концентрату. Распределения у стадий похожи на нормальное, за исключением концентрации на этапе флотации. Наименьшая сигма визуально у финального сырья. С учетом того как выглядят распределения по стадиям для отдельных металлов концентрация растёт в основном за счёт золота. __Нули__ из тренировочного и тестового датасетов были заполнены медианой выше."
   ]
  },
  {
   "cell_type": "markdown",
   "metadata": {},
   "source": [
    "__ВЫВОД__: На этом этапе были сравнены распределения концентраций: концентрация золота стабильно растёт в зависимости от стадии переработки. Затем были сравнены размеры гранул: разницы между ними не оказалось. После чего были посторены гистограммы распределения для всех стадий очистки по сумме концентраций металлов: концентрация металлов растёт одновременно со стадией очистки. "
   ]
  },
  {
   "cell_type": "markdown",
   "metadata": {},
   "source": [
    "<div class=\"alert alert-success\">\n",
    "<h2> Комментарий ревьюера <a class=\"tocSkip\"> </h2>\n",
    "\n",
    "<b>Все отлично!👍:</b> Исследована суммарная концентрация металлов на разных стадиях техпроцесса - отлично!"
   ]
  },
  {
   "cell_type": "markdown",
   "metadata": {},
   "source": [
    "<div class=\"alert alert-warning\">\n",
    "    <h2> Комментарий ревьюера <a class=\"tocSkip\"> </h2>\n",
    "\n",
    "<b>Некоторые замечания и рекомендации⚠️:</b> \n",
    "\n",
    "Здесь заканчивается стрктурный блок работы - стоит сделать промежуточные выводы о проделанной работе в блоке."
   ]
  },
  {
   "cell_type": "markdown",
   "metadata": {},
   "source": [
    "<div class=\"alert alert-info\">\n",
    "<h2> Комментарий студента <a class=\"tocSkip\"> </h2>\n",
    "\n",
    "Добавил вывод\n",
    "</div>"
   ]
  },
  {
   "cell_type": "markdown",
   "metadata": {},
   "source": [
    "<div class=\"alert alert-success\">\n",
    "<h2> Комментарий ревьюера v.2 <a class=\"tocSkip\"> </h2>\n",
    "\n",
    "<b>Все отлично!👍:</b> Учтено."
   ]
  },
  {
   "cell_type": "markdown",
   "metadata": {},
   "source": [
    "## Модель"
   ]
  },
  {
   "cell_type": "code",
   "execution_count": 16,
   "metadata": {
    "ExecuteTime": {
     "end_time": "2023-08-31T21:18:03.230233295Z",
     "start_time": "2023-08-31T21:18:03.010842934Z"
    }
   },
   "outputs": [],
   "source": [
    "# Подготовим данные для моделирования, попробуем заполнить отсутствующие столбцы \n",
    "# в тестовой выборке из полной датасета.\n",
    "target_cols = [col for col in list(missing_cols) if col.endswith('recovery')]\n",
    "gold_test = gold_test.join(gold_full[target_cols].loc[gold_test.index, :])"
   ]
  },
  {
   "cell_type": "code",
   "execution_count": 17,
   "metadata": {},
   "outputs": [
    {
     "name": "stdout",
     "output_type": "stream",
     "text": [
      "<class 'pandas.core.frame.DataFrame'>\n",
      "DatetimeIndex: 4860 entries, 2017-12-09 14:59:59 to 2018-08-18 10:59:59\n",
      "Data columns (total 54 columns):\n",
      " #   Column                                      Non-Null Count  Dtype  \n",
      "---  ------                                      --------------  -----  \n",
      " 0   rougher.input.feed_au                       4860 non-null   float64\n",
      " 1   rougher.input.feed_ag                       4860 non-null   float64\n",
      " 2   rougher.input.feed_pb                       4860 non-null   float64\n",
      " 3   rougher.input.feed_sol                      4860 non-null   float64\n",
      " 4   rougher.input.feed_rate                     4860 non-null   float64\n",
      " 5   rougher.input.feed_size                     4860 non-null   float64\n",
      " 6   rougher.input.floatbank10_sulfate           4860 non-null   float64\n",
      " 7   rougher.input.floatbank10_xanthate          4860 non-null   float64\n",
      " 8   rougher.state.floatbank10_a_air             4860 non-null   float64\n",
      " 9   rougher.state.floatbank10_a_level           4860 non-null   float64\n",
      " 10  rougher.state.floatbank10_b_air             4860 non-null   float64\n",
      " 11  rougher.state.floatbank10_b_level           4860 non-null   float64\n",
      " 12  rougher.state.floatbank10_c_air             4860 non-null   float64\n",
      " 13  rougher.state.floatbank10_c_level           4860 non-null   float64\n",
      " 14  rougher.state.floatbank10_d_air             4860 non-null   float64\n",
      " 15  rougher.state.floatbank10_d_level           4860 non-null   float64\n",
      " 16  rougher.state.floatbank10_e_air             4860 non-null   float64\n",
      " 17  rougher.state.floatbank10_e_level           4860 non-null   float64\n",
      " 18  rougher.state.floatbank10_f_air             4860 non-null   float64\n",
      " 19  rougher.state.floatbank10_f_level           4860 non-null   float64\n",
      " 20  rougher.input.floatbank11_sulfate           4860 non-null   float64\n",
      " 21  rougher.input.floatbank11_xanthate          4860 non-null   float64\n",
      " 22  primary_cleaner.input.sulfate               4860 non-null   float64\n",
      " 23  primary_cleaner.input.depressant            4860 non-null   float64\n",
      " 24  primary_cleaner.input.feed_size             4860 non-null   float64\n",
      " 25  primary_cleaner.input.xanthate              4860 non-null   float64\n",
      " 26  primary_cleaner.state.floatbank8_a_air      4860 non-null   float64\n",
      " 27  primary_cleaner.state.floatbank8_a_level    4860 non-null   float64\n",
      " 28  primary_cleaner.state.floatbank8_b_air      4860 non-null   float64\n",
      " 29  primary_cleaner.state.floatbank8_b_level    4860 non-null   float64\n",
      " 30  primary_cleaner.state.floatbank8_c_air      4860 non-null   float64\n",
      " 31  primary_cleaner.state.floatbank8_c_level    4860 non-null   float64\n",
      " 32  primary_cleaner.state.floatbank8_d_air      4860 non-null   float64\n",
      " 33  primary_cleaner.state.floatbank8_d_level    4860 non-null   float64\n",
      " 34  secondary_cleaner.state.floatbank2_a_air    4860 non-null   float64\n",
      " 35  secondary_cleaner.state.floatbank2_a_level  4860 non-null   float64\n",
      " 36  secondary_cleaner.state.floatbank2_b_air    4860 non-null   float64\n",
      " 37  secondary_cleaner.state.floatbank2_b_level  4860 non-null   float64\n",
      " 38  secondary_cleaner.state.floatbank3_a_air    4860 non-null   float64\n",
      " 39  secondary_cleaner.state.floatbank3_a_level  4860 non-null   float64\n",
      " 40  secondary_cleaner.state.floatbank3_b_air    4860 non-null   float64\n",
      " 41  secondary_cleaner.state.floatbank3_b_level  4860 non-null   float64\n",
      " 42  secondary_cleaner.state.floatbank4_a_air    4860 non-null   float64\n",
      " 43  secondary_cleaner.state.floatbank4_a_level  4860 non-null   float64\n",
      " 44  secondary_cleaner.state.floatbank4_b_air    4860 non-null   float64\n",
      " 45  secondary_cleaner.state.floatbank4_b_level  4860 non-null   float64\n",
      " 46  secondary_cleaner.state.floatbank5_a_air    4860 non-null   float64\n",
      " 47  secondary_cleaner.state.floatbank5_a_level  4860 non-null   float64\n",
      " 48  secondary_cleaner.state.floatbank5_b_air    4860 non-null   float64\n",
      " 49  secondary_cleaner.state.floatbank5_b_level  4860 non-null   float64\n",
      " 50  secondary_cleaner.state.floatbank6_a_air    4860 non-null   float64\n",
      " 51  secondary_cleaner.state.floatbank6_a_level  4860 non-null   float64\n",
      " 52  rougher.output.recovery                     4860 non-null   float64\n",
      " 53  final.output.recovery                       4860 non-null   float64\n",
      "dtypes: float64(54)\n",
      "memory usage: 2.2 MB\n"
     ]
    }
   ],
   "source": [
    "gold_test.info()"
   ]
  },
  {
   "cell_type": "markdown",
   "metadata": {},
   "source": [
    "<div class=\"alert alert-success\">\n",
    "<h2> Комментарий ревьюера <a class=\"tocSkip\"> </h2>\n",
    "\n",
    "<b>Все отлично!👍:</b> В `test` добавили целевые признаки из `full`, используя дату как ключ при соединении - отлично!"
   ]
  },
  {
   "cell_type": "markdown",
   "metadata": {},
   "source": [
    "<div class=\"alert alert-block alert-danger\">\n",
    "<h2> Комментарий ревьюера <a class=\"tocSkip\"></h2>\n",
    "\n",
    "    \n",
    "<b>На доработку❌:</b>\n",
    "С учётом замечания на этапе анализа разницы признаков в выборках давай подумаем, что можно добавить в `test`, а что нелья?"
   ]
  },
  {
   "cell_type": "markdown",
   "metadata": {},
   "source": [
    "<div class=\"alert alert-success\">\n",
    "<h2> Комментарий ревьюера v.2 <a class=\"tocSkip\"> </h2>\n",
    "\n",
    "<b>Все отлично!👍:</b> Учтено."
   ]
  },
  {
   "cell_type": "markdown",
   "metadata": {},
   "source": [
    "<div class=\"alert alert-block alert-danger\">\n",
    "<h2> Комментарий ревьюера <a class=\"tocSkip\"></h2>\n",
    "\n",
    "    \n",
    "<b>На доработку❌:</b>\n",
    "А точно ли есть пропуски? Проверь после исправления замечания выше."
   ]
  },
  {
   "cell_type": "markdown",
   "metadata": {},
   "source": [
    "<div class=\"alert alert-info\">\n",
    "<h2> Комментарий студента <a class=\"tocSkip\"> </h2>\n",
    "\n",
    "Решил добавить только целевые признаки. Пропуски исчезли.\n",
    "</div>"
   ]
  },
  {
   "cell_type": "markdown",
   "metadata": {},
   "source": [
    "<div class=\"alert alert-success\">\n",
    "<h2> Комментарий ревьюера v.2 <a class=\"tocSkip\"> </h2>\n",
    "\n",
    "<b>Все отлично!👍:</b> Учтено."
   ]
  },
  {
   "cell_type": "code",
   "execution_count": 18,
   "metadata": {},
   "outputs": [
    {
     "data": {
      "text/plain": [
       "['rougher.output.recovery', 'final.output.recovery']"
      ]
     },
     "execution_count": 18,
     "metadata": {},
     "output_type": "execute_result"
    }
   ],
   "source": [
    "target_cols"
   ]
  },
  {
   "cell_type": "code",
   "execution_count": 19,
   "metadata": {
    "ExecuteTime": {
     "end_time": "2023-08-31T21:18:03.230233295Z",
     "start_time": "2023-08-31T21:18:03.010842934Z"
    }
   },
   "outputs": [],
   "source": [
    "# создадим целевые признаки\n",
    "train_target_rougher = gold_train['rougher.output.recovery']\n",
    "gold_train.drop('rougher.output.recovery', axis=1, inplace=True)\n",
    "train_target_final = gold_train['final.output.recovery']\n",
    "gold_train.drop('final.output.recovery', axis=1, inplace=True)\n",
    "test_target_rougher = gold_test['rougher.output.recovery']\n",
    "gold_test.drop('rougher.output.recovery', axis=1, inplace=True)\n",
    "test_target_final = gold_test['final.output.recovery']\n",
    "gold_test.drop('final.output.recovery', axis=1, inplace=True)"
   ]
  },
  {
   "cell_type": "code",
   "execution_count": 20,
   "metadata": {},
   "outputs": [],
   "source": [
    "# Удалим столбцы которых нет в тестовой таблице чтобы избежать утечки данных\n",
    "gold_train.drop(missing_cols, axis=1, inplace=True, errors='ignore')\n",
    "gold_test.drop(missing_cols, axis=1, inplace=True, errors='ignore')"
   ]
  },
  {
   "cell_type": "markdown",
   "metadata": {},
   "source": [
    "<div class=\"alert alert-block alert-danger\">\n",
    "<h2> Комментарий ревьюера <a class=\"tocSkip\"></h2>\n",
    "\n",
    "    \n",
    "<b>На доработку❌:</b>\n",
    "Целевые признаки выделены некорректно - сверья с условием проекта и убедись, что предсказываешь то, что нужно."
   ]
  },
  {
   "cell_type": "markdown",
   "metadata": {},
   "source": [
    "<div class=\"alert alert-info\">\n",
    "<h2> Комментарий студента <a class=\"tocSkip\"> </h2>\n",
    "\n",
    "поправил\n",
    "</div>"
   ]
  },
  {
   "cell_type": "markdown",
   "metadata": {},
   "source": [
    "<div class=\"alert alert-success\">\n",
    "<h2> Комментарий ревьюера v.2 <a class=\"tocSkip\"> </h2>\n",
    "\n",
    "<b>Все отлично!👍:</b> Учтено."
   ]
  },
  {
   "cell_type": "markdown",
   "metadata": {},
   "source": [
    "Данные подготовлены для моделирования."
   ]
  },
  {
   "cell_type": "code",
   "execution_count": 21,
   "metadata": {
    "ExecuteTime": {
     "end_time": "2023-08-31T22:03:25.394894613Z",
     "start_time": "2023-08-31T22:03:25.352521587Z"
    }
   },
   "outputs": [],
   "source": [
    "# Напишем функцию sMAPE\n",
    "def smape(target, pred):\n",
    "    diff_ = (target - pred).abs()\n",
    "    sum_ = (target + pred)/2\n",
    "    percent_ = diff_/sum_*100\n",
    "    return percent_.sum()/len(percent_)\n",
    "\n",
    "def resulting_smape(smape_rougher, smape_final):\n",
    "    return 0.25*smape_rougher+0.75*smape_final"
   ]
  },
  {
   "cell_type": "markdown",
   "metadata": {},
   "source": [
    "<div class=\"alert alert-success\">\n",
    "<h2> Комментарий ревьюера <a class=\"tocSkip\"> </h2>\n",
    "\n",
    "<b>Все отлично!👍:</b> Есть функция для оценки `sMAPE` - супер!\n",
    "</div>"
   ]
  },
  {
   "cell_type": "markdown",
   "metadata": {},
   "source": [
    "<div class=\"alert alert-block alert-danger\">\n",
    "<h2> Комментарий ревьюера <a class=\"tocSkip\"></h2>\n",
    "\n",
    "    \n",
    "<b>На доработку❌:</b>\n",
    "\n",
    "Ошибка не может быть отрицательной."
   ]
  },
  {
   "cell_type": "markdown",
   "metadata": {},
   "source": [
    "<div class=\"alert alert-success\">\n",
    "<h2> Комментарий ревьюера v.2 <a class=\"tocSkip\"> </h2>\n",
    "\n",
    "<b>Все отлично!👍:</b> Учтено."
   ]
  },
  {
   "cell_type": "code",
   "execution_count": 22,
   "metadata": {
    "ExecuteTime": {
     "end_time": "2023-08-31T22:03:25.394894613Z",
     "start_time": "2023-08-31T22:03:25.352521587Z"
    }
   },
   "outputs": [],
   "source": [
    "scorer = make_scorer(smape, greater_is_better=False)"
   ]
  },
  {
   "cell_type": "markdown",
   "metadata": {},
   "source": [
    "<div class=\"alert alert-block alert-danger\">\n",
    "<h2> Комментарий ревьюера <a class=\"tocSkip\"></h2>\n",
    "\n",
    "    \n",
    "<b>На доработку❌:</b>\n",
    "\n",
    "Пользовательский скорринг `make_scorer` настроен неверно: так как метрика `sMAPE` применяется для задач регрессии, то она тем лучше, чем ниже - это нужно учитывать при создании скорринга для кросс-валидации, так как по умолчанию инструменты кросс-валидации вроде `cross_val_score` и `GridSearchCV/RandomizedSearchCV` умеют только максимизировать метрику качества. Поэтому при создании скорринга с помощью `make_scorer` важно настроить параметр `greater_is_better=False`, чтобы оптимизируемая метрика минимизировалась, а не максимизировалась - таким образом задача максимизации будет решаться через задачу минимизации обратной функции.\n",
    "    \n",
    "Также при настройке этого параметра получаемая метрика будет отрицательной: это особеность работы `make_scorer` с настроенным параметром `greater_is_better=False`. Поэтому при выводе метрики на экран её стоит сделать положительной: взять по модулю, домножить на `-1` или просто указать `-` при выводе на экран, вроде `print(-a)`.\n",
    "        \n",
    "</div>"
   ]
  },
  {
   "cell_type": "markdown",
   "metadata": {},
   "source": [
    "<div class=\"alert alert-info\">\n",
    "<h2> Комментарий студента <a class=\"tocSkip\"> </h2>\n",
    "\n",
    "поправил\n",
    "</div>"
   ]
  },
  {
   "cell_type": "markdown",
   "metadata": {},
   "source": [
    "<div class=\"alert alert-success\">\n",
    "<h2> Комментарий ревьюера v.2 <a class=\"tocSkip\"> </h2>\n",
    "\n",
    "<b>Все отлично!👍:</b> Учтено."
   ]
  },
  {
   "cell_type": "code",
   "execution_count": 23,
   "metadata": {
    "ExecuteTime": {
     "end_time": "2023-08-31T22:09:20.305149488Z",
     "start_time": "2023-08-31T22:09:18.077050644Z"
    }
   },
   "outputs": [],
   "source": [
    "# Приступим к моделированию\n",
    "# Для начала выберем лучшую модель на параметрах по умолчанию,\n",
    "# а затем проведём тюнинг гиперпараметров лучшей модели.\n",
    "# Для начала попробуем модель Ridge\n",
    "# model_r_pipe = Pipeline([('scaler', StandardScaler()), ('model', Ridge(random_state=44))])\n",
    "# smape_score_r_pipe_rougher = cross_val_score(\n",
    "#     model_r_pipe, gold_train, train_target_rougher, cv=10, scoring=scorer).mean()*-1\n",
    "# print(f'sMAPE_avg ROUGHER = {smape_score_r_pipe_rougher}')\n",
    "# model_r_pipe = Pipeline([('scaler', StandardScaler()), ('model', Ridge())])\n",
    "# smape_score_r_pipe_final = cross_val_score(\n",
    "#     model_r_pipe, gold_train, train_target_final, cv=10, scoring=scorer).mean()*-1\n",
    "# print(f'sMAPE_avg FINAL = {smape_score_r_pipe_final}')\n",
    "# print(f'resulting sMAPE = {resulting_smape(smape_score_r_pipe_rougher, smape_score_r_pipe_final)}')"
   ]
  },
  {
   "cell_type": "markdown",
   "metadata": {},
   "source": [
    "<div class=\"alert alert-info\">\n",
    "<h2> Комментарий студента <a class=\"tocSkip\"> </h2>\n",
    "\n",
    "Оставлю первую оценку ridge в виде коммента для истории тогда\n",
    "</div>"
   ]
  },
  {
   "cell_type": "code",
   "execution_count": 24,
   "metadata": {
    "ExecuteTime": {
     "end_time": "2023-08-31T22:32:54.693140967Z",
     "start_time": "2023-08-31T22:32:49.962629719Z"
    }
   },
   "outputs": [
    {
     "name": "stdout",
     "output_type": "stream",
     "text": [
      "sMAPE_avg ROUGHER = 5.922308123711573\n",
      "sMAPE_avg FINAL = 9.619223888488799\n",
      "resulting sMAPE = 8.694994947294493\n"
     ]
    }
   ],
   "source": [
    "# Посмотрим на линейную регрессию\n",
    "model_l_pipe = Pipeline([('scaler', StandardScaler()), ('model', LinearRegression())])\n",
    "smape_score_l_pipe_rougher = cross_val_score(\n",
    "    model_l_pipe, gold_train, train_target_rougher, cv=10, scoring=scorer).mean()*-1\n",
    "print(f'sMAPE_avg ROUGHER = {smape_score_l_pipe_rougher}')\n",
    "model_l_pipe = Pipeline([('scaler', StandardScaler()), ('model', LinearRegression())])\n",
    "smape_score_l_pipe_final = cross_val_score(\n",
    "    model_l_pipe, gold_train, train_target_final, cv=10, scoring=scorer).mean()*-1\n",
    "print(f'sMAPE_avg FINAL = {smape_score_l_pipe_final}')\n",
    "print(f'resulting sMAPE = {resulting_smape(smape_score_l_pipe_rougher, smape_score_l_pipe_final)}')"
   ]
  },
  {
   "cell_type": "code",
   "execution_count": 25,
   "metadata": {
    "ExecuteTime": {
     "end_time": "2023-08-31T22:34:31.271966851Z",
     "start_time": "2023-08-31T22:34:29.150311241Z"
    }
   },
   "outputs": [
    {
     "name": "stdout",
     "output_type": "stream",
     "text": [
      "sMAPE_avg ROUGHER = 6.090250394403746\n",
      "sMAPE_avg FINAL = 8.741062367244645\n",
      "resulting sMAPE = 8.07835937403442\n"
     ]
    }
   ],
   "source": [
    "model_lo_pipe = Pipeline([('scaler', StandardScaler()), ('model', Lasso(random_state=44))])\n",
    "smape_score_lo_pipe_rougher = cross_val_score(\n",
    "    model_lo_pipe, gold_train, train_target_rougher, cv=10, scoring=scorer).mean()*-1\n",
    "print(f'sMAPE_avg ROUGHER = {smape_score_lo_pipe_rougher}')\n",
    "model_lo_pipe = Pipeline([('scaler', StandardScaler()), ('model', Lasso(random_state=44))])\n",
    "smape_score_lo_pipe_final = cross_val_score(\n",
    "    model_lo_pipe, gold_train, train_target_final, cv=10, scoring=scorer).mean()*-1\n",
    "print(f'sMAPE_avg FINAL = {smape_score_lo_pipe_final}')\n",
    "print(f'resulting sMAPE = {resulting_smape(smape_score_lo_pipe_rougher, smape_score_lo_pipe_final)}')"
   ]
  },
  {
   "cell_type": "markdown",
   "metadata": {},
   "source": [
    "По результатам кросс валидации с минимальным отрывом от линейной регрессии побеждает модель Ridge. Лассо показала наихудший результат."
   ]
  },
  {
   "cell_type": "markdown",
   "metadata": {},
   "source": [
    "<div class=\"alert alert-success\">\n",
    "<h2> Комментарий ревьюера <a class=\"tocSkip\"> </h2>\n",
    "\n",
    "<b>Все отлично!👍:</b> Исследовали несколько моделей на кросс-валидации.\n",
    "    "
   ]
  },
  {
   "cell_type": "markdown",
   "metadata": {},
   "source": [
    "<div class=\"alert alert-block alert-danger\">\n",
    "<h2> Комментарий ревьюера <a class=\"tocSkip\"></h2>\n",
    "\n",
    "    \n",
    "<b>На доработку❌:</b>\n",
    "\n",
    "Для каждой модели на основе двух оценок нужно вывести взвешенную. Тут и далее."
   ]
  },
  {
   "cell_type": "markdown",
   "metadata": {},
   "source": [
    "<div class=\"alert alert-info\">\n",
    "<h2> Комментарий студента <a class=\"tocSkip\"> </h2>\n",
    "\n",
    "поправил\n",
    "</div>"
   ]
  },
  {
   "cell_type": "markdown",
   "metadata": {},
   "source": [
    "<div class=\"alert alert-success\">\n",
    "<h2> Комментарий ревьюера v.2 <a class=\"tocSkip\"> </h2>\n",
    "\n",
    "<b>Все отлично!👍:</b> Учтено."
   ]
  },
  {
   "cell_type": "code",
   "execution_count": 26,
   "metadata": {
    "ExecuteTime": {
     "end_time": "2023-08-31T23:11:38.269931178Z",
     "start_time": "2023-08-31T23:11:23.692782325Z"
    }
   },
   "outputs": [],
   "source": [
    "# Проведём тюнинг гиперпараметров для Ridge\n",
    "model_r_pipe = Pipeline([('scaler', StandardScaler()), ('model', Ridge(random_state=44))])\n",
    "param_grid = {\n",
    "    'model__alpha': list(range(1, 11)),\n",
    "}"
   ]
  },
  {
   "cell_type": "markdown",
   "metadata": {},
   "source": [
    "<div class=\"alert alert-block alert-danger\">\n",
    "<h2> Комментарий ревьюера <a class=\"tocSkip\"></h2>\n",
    "\n",
    "    \n",
    "<b>На доработку❌:</b>\n",
    "\n",
    "1. Если для модели оптимизируются гиперпараметры, то оценка базовой модели на кросс-валидации не требуется, так как она по сути является проверкой более низкого уровня.\n",
    "    \n",
    "2. Параметр `fit_intercept` не перебирается, а настраивается у модели в момент её инициализации, выбор значения делается исходя из того, как были подготовлены данные. Обратись к документации и выбери корректное значение для этого гиперпараметра.\n",
    "    \n",
    "3. Хотя бы для одной модели нужно оптимизировать не менее двух гиперпараметров - с учётом текущего замечания у `Ridge`, кроме `alpha`, оптимизировать нечего, поэтому стоит выполнить оптимизацию и для другой модели."
   ]
  },
  {
   "cell_type": "markdown",
   "metadata": {},
   "source": [
    "<div class=\"alert alert-info\">\n",
    "<h2> Комментарий студента <a class=\"tocSkip\"> </h2>\n",
    "\n",
    "Поправил\n",
    "</div>"
   ]
  },
  {
   "cell_type": "markdown",
   "metadata": {},
   "source": [
    "<div class=\"alert alert-block alert-danger\">\n",
    "<h2> Комментарий ревьюера v.2 <a class=\"tocSkip\"></h2>\n",
    "\n",
    "    \n",
    "<b>На доработку❌:</b> Сп.п.1 - модель `Ridge` оценивается дважды."
   ]
  },
  {
   "cell_type": "markdown",
   "metadata": {},
   "source": [
    "<div class=\"alert alert-info\">\n",
    "<h2> Комментарий студента <a class=\"tocSkip\"> </h2>\n",
    "\n",
    "Ну я думал что она не сильно мешает, но в общем закомментил первую оценку, где кросс-валидацией. Оставил что-бы вспоминать ошибки потом было легче.\n",
    "</div>"
   ]
  },
  {
   "cell_type": "markdown",
   "metadata": {},
   "source": [
    "<div class=\"alert alert-success\">\n",
    "<h2> Комментарий ревьюера v.3 <a class=\"tocSkip\"> </h2>\n",
    "\n",
    "<b>Все отлично!👍:</b> Учтено."
   ]
  },
  {
   "cell_type": "code",
   "execution_count": 27,
   "metadata": {
    "ExecuteTime": {
     "end_time": "2023-08-31T23:11:38.269931178Z",
     "start_time": "2023-08-31T23:11:23.692782325Z"
    }
   },
   "outputs": [],
   "source": [
    "grid_search_r = GridSearchCV(model_r_pipe, param_grid, scoring=scorer)\n",
    "grid_search_r.fit(gold_train, train_target_rougher)\n",
    "rouger_score = pd.DataFrame(grid_search_r.cv_results_).sort_values('mean_test_score', ascending=False)\n",
    "grid_search_r.fit(gold_train, train_target_final)\n",
    "final_score = pd.DataFrame(grid_search_r.cv_results_).sort_values('mean_test_score', ascending=False)"
   ]
  },
  {
   "cell_type": "code",
   "execution_count": 28,
   "metadata": {
    "ExecuteTime": {
     "end_time": "2023-08-31T23:12:00.361567523Z",
     "start_time": "2023-08-31T23:12:00.295275668Z"
    }
   },
   "outputs": [
    {
     "data": {
      "text/html": [
       "<div>\n",
       "<style scoped>\n",
       "    .dataframe tbody tr th:only-of-type {\n",
       "        vertical-align: middle;\n",
       "    }\n",
       "\n",
       "    .dataframe tbody tr th {\n",
       "        vertical-align: top;\n",
       "    }\n",
       "\n",
       "    .dataframe thead th {\n",
       "        text-align: right;\n",
       "    }\n",
       "</style>\n",
       "<table border=\"1\" class=\"dataframe\">\n",
       "  <thead>\n",
       "    <tr style=\"text-align: right;\">\n",
       "      <th></th>\n",
       "      <th>mean_fit_time</th>\n",
       "      <th>std_fit_time</th>\n",
       "      <th>mean_score_time</th>\n",
       "      <th>std_score_time</th>\n",
       "      <th>param_model__alpha</th>\n",
       "      <th>params</th>\n",
       "      <th>split0_test_score</th>\n",
       "      <th>split1_test_score</th>\n",
       "      <th>split2_test_score</th>\n",
       "      <th>split3_test_score</th>\n",
       "      <th>split4_test_score</th>\n",
       "      <th>mean_test_score</th>\n",
       "      <th>std_test_score</th>\n",
       "      <th>rank_test_score</th>\n",
       "    </tr>\n",
       "  </thead>\n",
       "  <tbody>\n",
       "    <tr>\n",
       "      <th>9</th>\n",
       "      <td>0.120685</td>\n",
       "      <td>0.030323</td>\n",
       "      <td>0.038177</td>\n",
       "      <td>0.035492</td>\n",
       "      <td>10</td>\n",
       "      <td>{'model__alpha': 10}</td>\n",
       "      <td>-8.824014</td>\n",
       "      <td>-5.893614</td>\n",
       "      <td>-6.910610</td>\n",
       "      <td>-4.784803</td>\n",
       "      <td>-9.389053</td>\n",
       "      <td>-7.160419</td>\n",
       "      <td>1.734653</td>\n",
       "      <td>1</td>\n",
       "    </tr>\n",
       "    <tr>\n",
       "      <th>8</th>\n",
       "      <td>0.175027</td>\n",
       "      <td>0.035163</td>\n",
       "      <td>0.021234</td>\n",
       "      <td>0.030200</td>\n",
       "      <td>9</td>\n",
       "      <td>{'model__alpha': 9}</td>\n",
       "      <td>-8.823341</td>\n",
       "      <td>-5.892345</td>\n",
       "      <td>-6.913784</td>\n",
       "      <td>-4.784439</td>\n",
       "      <td>-9.391175</td>\n",
       "      <td>-7.161017</td>\n",
       "      <td>1.735264</td>\n",
       "      <td>2</td>\n",
       "    </tr>\n",
       "    <tr>\n",
       "      <th>7</th>\n",
       "      <td>0.152905</td>\n",
       "      <td>0.042802</td>\n",
       "      <td>0.009910</td>\n",
       "      <td>0.005456</td>\n",
       "      <td>8</td>\n",
       "      <td>{'model__alpha': 8}</td>\n",
       "      <td>-8.822653</td>\n",
       "      <td>-5.891063</td>\n",
       "      <td>-6.916964</td>\n",
       "      <td>-4.784065</td>\n",
       "      <td>-9.393304</td>\n",
       "      <td>-7.161610</td>\n",
       "      <td>1.735879</td>\n",
       "      <td>3</td>\n",
       "    </tr>\n",
       "    <tr>\n",
       "      <th>6</th>\n",
       "      <td>0.191427</td>\n",
       "      <td>0.004525</td>\n",
       "      <td>0.028305</td>\n",
       "      <td>0.036133</td>\n",
       "      <td>7</td>\n",
       "      <td>{'model__alpha': 7}</td>\n",
       "      <td>-8.821953</td>\n",
       "      <td>-5.889762</td>\n",
       "      <td>-6.920151</td>\n",
       "      <td>-4.783682</td>\n",
       "      <td>-9.395447</td>\n",
       "      <td>-7.162199</td>\n",
       "      <td>1.736503</td>\n",
       "      <td>4</td>\n",
       "    </tr>\n",
       "    <tr>\n",
       "      <th>5</th>\n",
       "      <td>0.190147</td>\n",
       "      <td>0.005710</td>\n",
       "      <td>0.008684</td>\n",
       "      <td>0.001806</td>\n",
       "      <td>6</td>\n",
       "      <td>{'model__alpha': 6}</td>\n",
       "      <td>-8.821268</td>\n",
       "      <td>-5.888443</td>\n",
       "      <td>-6.923346</td>\n",
       "      <td>-4.783289</td>\n",
       "      <td>-9.397588</td>\n",
       "      <td>-7.162787</td>\n",
       "      <td>1.737135</td>\n",
       "      <td>5</td>\n",
       "    </tr>\n",
       "    <tr>\n",
       "      <th>4</th>\n",
       "      <td>0.176697</td>\n",
       "      <td>0.033928</td>\n",
       "      <td>0.023628</td>\n",
       "      <td>0.029141</td>\n",
       "      <td>5</td>\n",
       "      <td>{'model__alpha': 5}</td>\n",
       "      <td>-8.820586</td>\n",
       "      <td>-5.887106</td>\n",
       "      <td>-6.926549</td>\n",
       "      <td>-4.782886</td>\n",
       "      <td>-9.399728</td>\n",
       "      <td>-7.163371</td>\n",
       "      <td>1.737775</td>\n",
       "      <td>6</td>\n",
       "    </tr>\n",
       "    <tr>\n",
       "      <th>3</th>\n",
       "      <td>0.141841</td>\n",
       "      <td>0.042347</td>\n",
       "      <td>0.054550</td>\n",
       "      <td>0.038537</td>\n",
       "      <td>4</td>\n",
       "      <td>{'model__alpha': 4}</td>\n",
       "      <td>-8.819887</td>\n",
       "      <td>-5.885750</td>\n",
       "      <td>-6.929760</td>\n",
       "      <td>-4.782473</td>\n",
       "      <td>-9.401877</td>\n",
       "      <td>-7.163949</td>\n",
       "      <td>1.738420</td>\n",
       "      <td>7</td>\n",
       "    </tr>\n",
       "    <tr>\n",
       "      <th>2</th>\n",
       "      <td>0.118833</td>\n",
       "      <td>0.039227</td>\n",
       "      <td>0.022037</td>\n",
       "      <td>0.034256</td>\n",
       "      <td>3</td>\n",
       "      <td>{'model__alpha': 3}</td>\n",
       "      <td>-8.819185</td>\n",
       "      <td>-5.884375</td>\n",
       "      <td>-6.932980</td>\n",
       "      <td>-4.782049</td>\n",
       "      <td>-9.404023</td>\n",
       "      <td>-7.164522</td>\n",
       "      <td>1.739071</td>\n",
       "      <td>8</td>\n",
       "    </tr>\n",
       "    <tr>\n",
       "      <th>1</th>\n",
       "      <td>0.099217</td>\n",
       "      <td>0.005853</td>\n",
       "      <td>0.037927</td>\n",
       "      <td>0.038474</td>\n",
       "      <td>2</td>\n",
       "      <td>{'model__alpha': 2}</td>\n",
       "      <td>-8.818469</td>\n",
       "      <td>-5.882978</td>\n",
       "      <td>-6.936207</td>\n",
       "      <td>-4.781614</td>\n",
       "      <td>-9.406168</td>\n",
       "      <td>-7.165087</td>\n",
       "      <td>1.739727</td>\n",
       "      <td>9</td>\n",
       "    </tr>\n",
       "    <tr>\n",
       "      <th>0</th>\n",
       "      <td>0.087212</td>\n",
       "      <td>0.061346</td>\n",
       "      <td>0.031697</td>\n",
       "      <td>0.030014</td>\n",
       "      <td>1</td>\n",
       "      <td>{'model__alpha': 1}</td>\n",
       "      <td>-8.817746</td>\n",
       "      <td>-5.881560</td>\n",
       "      <td>-6.939443</td>\n",
       "      <td>-4.781172</td>\n",
       "      <td>-9.408316</td>\n",
       "      <td>-7.165647</td>\n",
       "      <td>1.740389</td>\n",
       "      <td>10</td>\n",
       "    </tr>\n",
       "  </tbody>\n",
       "</table>\n",
       "</div>"
      ],
      "text/plain": [
       "   mean_fit_time  std_fit_time  mean_score_time  std_score_time  \\\n",
       "9       0.120685      0.030323         0.038177        0.035492   \n",
       "8       0.175027      0.035163         0.021234        0.030200   \n",
       "7       0.152905      0.042802         0.009910        0.005456   \n",
       "6       0.191427      0.004525         0.028305        0.036133   \n",
       "5       0.190147      0.005710         0.008684        0.001806   \n",
       "4       0.176697      0.033928         0.023628        0.029141   \n",
       "3       0.141841      0.042347         0.054550        0.038537   \n",
       "2       0.118833      0.039227         0.022037        0.034256   \n",
       "1       0.099217      0.005853         0.037927        0.038474   \n",
       "0       0.087212      0.061346         0.031697        0.030014   \n",
       "\n",
       "  param_model__alpha                params  split0_test_score  \\\n",
       "9                 10  {'model__alpha': 10}          -8.824014   \n",
       "8                  9   {'model__alpha': 9}          -8.823341   \n",
       "7                  8   {'model__alpha': 8}          -8.822653   \n",
       "6                  7   {'model__alpha': 7}          -8.821953   \n",
       "5                  6   {'model__alpha': 6}          -8.821268   \n",
       "4                  5   {'model__alpha': 5}          -8.820586   \n",
       "3                  4   {'model__alpha': 4}          -8.819887   \n",
       "2                  3   {'model__alpha': 3}          -8.819185   \n",
       "1                  2   {'model__alpha': 2}          -8.818469   \n",
       "0                  1   {'model__alpha': 1}          -8.817746   \n",
       "\n",
       "   split1_test_score  split2_test_score  split3_test_score  split4_test_score  \\\n",
       "9          -5.893614          -6.910610          -4.784803          -9.389053   \n",
       "8          -5.892345          -6.913784          -4.784439          -9.391175   \n",
       "7          -5.891063          -6.916964          -4.784065          -9.393304   \n",
       "6          -5.889762          -6.920151          -4.783682          -9.395447   \n",
       "5          -5.888443          -6.923346          -4.783289          -9.397588   \n",
       "4          -5.887106          -6.926549          -4.782886          -9.399728   \n",
       "3          -5.885750          -6.929760          -4.782473          -9.401877   \n",
       "2          -5.884375          -6.932980          -4.782049          -9.404023   \n",
       "1          -5.882978          -6.936207          -4.781614          -9.406168   \n",
       "0          -5.881560          -6.939443          -4.781172          -9.408316   \n",
       "\n",
       "   mean_test_score  std_test_score  rank_test_score  \n",
       "9        -7.160419        1.734653                1  \n",
       "8        -7.161017        1.735264                2  \n",
       "7        -7.161610        1.735879                3  \n",
       "6        -7.162199        1.736503                4  \n",
       "5        -7.162787        1.737135                5  \n",
       "4        -7.163371        1.737775                6  \n",
       "3        -7.163949        1.738420                7  \n",
       "2        -7.164522        1.739071                8  \n",
       "1        -7.165087        1.739727                9  \n",
       "0        -7.165647        1.740389               10  "
      ]
     },
     "metadata": {},
     "output_type": "display_data"
    },
    {
     "data": {
      "text/html": [
       "<div>\n",
       "<style scoped>\n",
       "    .dataframe tbody tr th:only-of-type {\n",
       "        vertical-align: middle;\n",
       "    }\n",
       "\n",
       "    .dataframe tbody tr th {\n",
       "        vertical-align: top;\n",
       "    }\n",
       "\n",
       "    .dataframe thead th {\n",
       "        text-align: right;\n",
       "    }\n",
       "</style>\n",
       "<table border=\"1\" class=\"dataframe\">\n",
       "  <thead>\n",
       "    <tr style=\"text-align: right;\">\n",
       "      <th></th>\n",
       "      <th>mean_fit_time</th>\n",
       "      <th>std_fit_time</th>\n",
       "      <th>mean_score_time</th>\n",
       "      <th>std_score_time</th>\n",
       "      <th>param_model__alpha</th>\n",
       "      <th>params</th>\n",
       "      <th>split0_test_score</th>\n",
       "      <th>split1_test_score</th>\n",
       "      <th>split2_test_score</th>\n",
       "      <th>split3_test_score</th>\n",
       "      <th>split4_test_score</th>\n",
       "      <th>mean_test_score</th>\n",
       "      <th>std_test_score</th>\n",
       "      <th>rank_test_score</th>\n",
       "    </tr>\n",
       "  </thead>\n",
       "  <tbody>\n",
       "    <tr>\n",
       "      <th>9</th>\n",
       "      <td>0.133181</td>\n",
       "      <td>0.045162</td>\n",
       "      <td>0.024630</td>\n",
       "      <td>0.032085</td>\n",
       "      <td>10</td>\n",
       "      <td>{'model__alpha': 10}</td>\n",
       "      <td>-10.451653</td>\n",
       "      <td>-8.201874</td>\n",
       "      <td>-8.816601</td>\n",
       "      <td>-8.883317</td>\n",
       "      <td>-11.453520</td>\n",
       "      <td>-9.561393</td>\n",
       "      <td>1.202955</td>\n",
       "      <td>1</td>\n",
       "    </tr>\n",
       "    <tr>\n",
       "      <th>8</th>\n",
       "      <td>0.136018</td>\n",
       "      <td>0.042471</td>\n",
       "      <td>0.022631</td>\n",
       "      <td>0.030364</td>\n",
       "      <td>9</td>\n",
       "      <td>{'model__alpha': 9}</td>\n",
       "      <td>-10.450864</td>\n",
       "      <td>-8.203661</td>\n",
       "      <td>-8.816824</td>\n",
       "      <td>-8.883722</td>\n",
       "      <td>-11.457385</td>\n",
       "      <td>-9.562491</td>\n",
       "      <td>1.203577</td>\n",
       "      <td>2</td>\n",
       "    </tr>\n",
       "    <tr>\n",
       "      <th>7</th>\n",
       "      <td>0.104508</td>\n",
       "      <td>0.009119</td>\n",
       "      <td>0.037481</td>\n",
       "      <td>0.036434</td>\n",
       "      <td>8</td>\n",
       "      <td>{'model__alpha': 8}</td>\n",
       "      <td>-10.450066</td>\n",
       "      <td>-8.205452</td>\n",
       "      <td>-8.817053</td>\n",
       "      <td>-8.884152</td>\n",
       "      <td>-11.461286</td>\n",
       "      <td>-9.563602</td>\n",
       "      <td>1.204208</td>\n",
       "      <td>3</td>\n",
       "    </tr>\n",
       "    <tr>\n",
       "      <th>6</th>\n",
       "      <td>0.132755</td>\n",
       "      <td>0.044438</td>\n",
       "      <td>0.007534</td>\n",
       "      <td>0.001653</td>\n",
       "      <td>7</td>\n",
       "      <td>{'model__alpha': 7}</td>\n",
       "      <td>-10.449348</td>\n",
       "      <td>-8.207255</td>\n",
       "      <td>-8.817285</td>\n",
       "      <td>-8.884586</td>\n",
       "      <td>-11.465198</td>\n",
       "      <td>-9.564735</td>\n",
       "      <td>1.204851</td>\n",
       "      <td>4</td>\n",
       "    </tr>\n",
       "    <tr>\n",
       "      <th>5</th>\n",
       "      <td>0.154656</td>\n",
       "      <td>0.043338</td>\n",
       "      <td>0.025689</td>\n",
       "      <td>0.036384</td>\n",
       "      <td>6</td>\n",
       "      <td>{'model__alpha': 6}</td>\n",
       "      <td>-10.448657</td>\n",
       "      <td>-8.209056</td>\n",
       "      <td>-8.817518</td>\n",
       "      <td>-8.885026</td>\n",
       "      <td>-11.469123</td>\n",
       "      <td>-9.565876</td>\n",
       "      <td>1.205505</td>\n",
       "      <td>5</td>\n",
       "    </tr>\n",
       "    <tr>\n",
       "      <th>4</th>\n",
       "      <td>0.156251</td>\n",
       "      <td>0.042172</td>\n",
       "      <td>0.025733</td>\n",
       "      <td>0.029585</td>\n",
       "      <td>5</td>\n",
       "      <td>{'model__alpha': 5}</td>\n",
       "      <td>-10.447966</td>\n",
       "      <td>-8.210853</td>\n",
       "      <td>-8.817763</td>\n",
       "      <td>-8.885471</td>\n",
       "      <td>-11.473059</td>\n",
       "      <td>-9.567022</td>\n",
       "      <td>1.206162</td>\n",
       "      <td>6</td>\n",
       "    </tr>\n",
       "    <tr>\n",
       "      <th>3</th>\n",
       "      <td>0.135022</td>\n",
       "      <td>0.042019</td>\n",
       "      <td>0.023157</td>\n",
       "      <td>0.028359</td>\n",
       "      <td>4</td>\n",
       "      <td>{'model__alpha': 4}</td>\n",
       "      <td>-10.447460</td>\n",
       "      <td>-8.212656</td>\n",
       "      <td>-8.818012</td>\n",
       "      <td>-8.885940</td>\n",
       "      <td>-11.477004</td>\n",
       "      <td>-9.568215</td>\n",
       "      <td>1.206847</td>\n",
       "      <td>7</td>\n",
       "    </tr>\n",
       "    <tr>\n",
       "      <th>2</th>\n",
       "      <td>0.156457</td>\n",
       "      <td>0.041456</td>\n",
       "      <td>0.021783</td>\n",
       "      <td>0.027785</td>\n",
       "      <td>3</td>\n",
       "      <td>{'model__alpha': 3}</td>\n",
       "      <td>-10.447205</td>\n",
       "      <td>-8.214472</td>\n",
       "      <td>-8.818260</td>\n",
       "      <td>-8.886420</td>\n",
       "      <td>-11.480962</td>\n",
       "      <td>-9.569464</td>\n",
       "      <td>1.207569</td>\n",
       "      <td>8</td>\n",
       "    </tr>\n",
       "    <tr>\n",
       "      <th>1</th>\n",
       "      <td>0.171977</td>\n",
       "      <td>0.033765</td>\n",
       "      <td>0.009007</td>\n",
       "      <td>0.003513</td>\n",
       "      <td>2</td>\n",
       "      <td>{'model__alpha': 2}</td>\n",
       "      <td>-10.447008</td>\n",
       "      <td>-8.216305</td>\n",
       "      <td>-8.818507</td>\n",
       "      <td>-8.886906</td>\n",
       "      <td>-11.484958</td>\n",
       "      <td>-9.570737</td>\n",
       "      <td>1.208309</td>\n",
       "      <td>9</td>\n",
       "    </tr>\n",
       "    <tr>\n",
       "      <th>0</th>\n",
       "      <td>0.102180</td>\n",
       "      <td>0.001438</td>\n",
       "      <td>0.053142</td>\n",
       "      <td>0.036167</td>\n",
       "      <td>1</td>\n",
       "      <td>{'model__alpha': 1}</td>\n",
       "      <td>-10.447320</td>\n",
       "      <td>-8.218149</td>\n",
       "      <td>-8.818751</td>\n",
       "      <td>-8.887396</td>\n",
       "      <td>-11.488963</td>\n",
       "      <td>-9.572116</td>\n",
       "      <td>1.209124</td>\n",
       "      <td>10</td>\n",
       "    </tr>\n",
       "  </tbody>\n",
       "</table>\n",
       "</div>"
      ],
      "text/plain": [
       "   mean_fit_time  std_fit_time  mean_score_time  std_score_time  \\\n",
       "9       0.133181      0.045162         0.024630        0.032085   \n",
       "8       0.136018      0.042471         0.022631        0.030364   \n",
       "7       0.104508      0.009119         0.037481        0.036434   \n",
       "6       0.132755      0.044438         0.007534        0.001653   \n",
       "5       0.154656      0.043338         0.025689        0.036384   \n",
       "4       0.156251      0.042172         0.025733        0.029585   \n",
       "3       0.135022      0.042019         0.023157        0.028359   \n",
       "2       0.156457      0.041456         0.021783        0.027785   \n",
       "1       0.171977      0.033765         0.009007        0.003513   \n",
       "0       0.102180      0.001438         0.053142        0.036167   \n",
       "\n",
       "  param_model__alpha                params  split0_test_score  \\\n",
       "9                 10  {'model__alpha': 10}         -10.451653   \n",
       "8                  9   {'model__alpha': 9}         -10.450864   \n",
       "7                  8   {'model__alpha': 8}         -10.450066   \n",
       "6                  7   {'model__alpha': 7}         -10.449348   \n",
       "5                  6   {'model__alpha': 6}         -10.448657   \n",
       "4                  5   {'model__alpha': 5}         -10.447966   \n",
       "3                  4   {'model__alpha': 4}         -10.447460   \n",
       "2                  3   {'model__alpha': 3}         -10.447205   \n",
       "1                  2   {'model__alpha': 2}         -10.447008   \n",
       "0                  1   {'model__alpha': 1}         -10.447320   \n",
       "\n",
       "   split1_test_score  split2_test_score  split3_test_score  split4_test_score  \\\n",
       "9          -8.201874          -8.816601          -8.883317         -11.453520   \n",
       "8          -8.203661          -8.816824          -8.883722         -11.457385   \n",
       "7          -8.205452          -8.817053          -8.884152         -11.461286   \n",
       "6          -8.207255          -8.817285          -8.884586         -11.465198   \n",
       "5          -8.209056          -8.817518          -8.885026         -11.469123   \n",
       "4          -8.210853          -8.817763          -8.885471         -11.473059   \n",
       "3          -8.212656          -8.818012          -8.885940         -11.477004   \n",
       "2          -8.214472          -8.818260          -8.886420         -11.480962   \n",
       "1          -8.216305          -8.818507          -8.886906         -11.484958   \n",
       "0          -8.218149          -8.818751          -8.887396         -11.488963   \n",
       "\n",
       "   mean_test_score  std_test_score  rank_test_score  \n",
       "9        -9.561393        1.202955                1  \n",
       "8        -9.562491        1.203577                2  \n",
       "7        -9.563602        1.204208                3  \n",
       "6        -9.564735        1.204851                4  \n",
       "5        -9.565876        1.205505                5  \n",
       "4        -9.567022        1.206162                6  \n",
       "3        -9.568215        1.206847                7  \n",
       "2        -9.569464        1.207569                8  \n",
       "1        -9.570737        1.208309                9  \n",
       "0        -9.572116        1.209124               10  "
      ]
     },
     "metadata": {},
     "output_type": "display_data"
    }
   ],
   "source": [
    "display(rouger_score)\n",
    "display(final_score)"
   ]
  },
  {
   "cell_type": "markdown",
   "metadata": {},
   "source": [
    "Как в случае с флотацией, так и с финальной концентрацией для модели Ridge оптимальным получается число alpha равное 10."
   ]
  },
  {
   "cell_type": "markdown",
   "metadata": {},
   "source": [
    "<div class=\"alert alert-warning\">\n",
    "    <h2> Комментарий ревьюера v.2 <a class=\"tocSkip\"> </h2>\n",
    "\n",
    "<b>Некоторые замечания и рекомендации⚠️:</b> Чтобы узнать лучшие гиперпараметры модели, можно обратить к атрибуту `best_params_` у `GridSearchCV` после обучения."
   ]
  },
  {
   "cell_type": "markdown",
   "metadata": {},
   "source": [
    "<div class=\"alert alert-info\">\n",
    "<h2> Комментарий студента <a class=\"tocSkip\"> </h2>\n",
    "\n",
    "Учту\n",
    "</div>"
   ]
  },
  {
   "cell_type": "code",
   "execution_count": 29,
   "metadata": {},
   "outputs": [],
   "source": [
    "# Оценим модель с двумя гиперпараметрами\n",
    "model_en_pipe = Pipeline([('scaler', StandardScaler()), ('model', RandomForestRegressor(random_state=44))])\n",
    "param_grid = {\n",
    "    'model__n_estimators': np.arange(10, 31, 10),\n",
    "    'model__max_depth': [None] + [i for i in range(2, 7)]\n",
    "}\n",
    "# Финальная проверка что все ячейки работают перед отправкой на ревью. Параметры уже подобраны ранее.\n",
    "param_grid = {\n",
    "    'model__n_estimators': [10],\n",
    "    'model__max_depth': [5]\n",
    "}"
   ]
  },
  {
   "cell_type": "markdown",
   "metadata": {},
   "source": [
    "<div class=\"alert alert-warning\">\n",
    "    <h2> Комментарий ревьюера v.2 <a class=\"tocSkip\"> </h2>\n",
    "    \n",
    "<b>Некоторые замечания и рекомендации⚠️:</b> Для гиперпараметра `max_depth` рассматривается очень длинная последовательность: деревья с большой глубиной склонны к переобучению, а обучаются и предсказывают результат они дольше, поэтому делать их слишком глубокими не стоит - оптимальное значение почти всегда лежит в диапазоне от 2 до 5-6. Кроме того, можно попробовать значение `None` - в итоге оптимальная последовательность может выглядеть как `[None] + [i for i in range(2, 7)]`.\n",
    "</div>"
   ]
  },
  {
   "cell_type": "markdown",
   "metadata": {},
   "source": [
    "<div class=\"alert alert-info\">\n",
    "<h2> Комментарий студента <a class=\"tocSkip\"> </h2>\n",
    "\n",
    "Вставил ваш вариант, посмотрим что получится.\n",
    "</div>"
   ]
  },
  {
   "cell_type": "markdown",
   "metadata": {},
   "source": [
    "<div class=\"alert alert-info\">\n",
    "<h2> Комментарий студента <a class=\"tocSkip\"> </h2>\n",
    "\n",
    "Прогнал на вашем варианте, получилось тоже самое, чего конечно и следовало ожидать.\n",
    "</div>"
   ]
  },
  {
   "cell_type": "markdown",
   "metadata": {},
   "source": [
    "<div class=\"alert alert-success\">\n",
    "<h2> Комментарий ревьюера v.3 <a class=\"tocSkip\"> </h2>\n",
    "\n",
    "<b>Все отлично!👍:</b> Да, но, скорее всего, это было быстрее, чем на прошлом:)"
   ]
  },
  {
   "cell_type": "code",
   "execution_count": 30,
   "metadata": {},
   "outputs": [],
   "source": [
    "grid_search_en = GridSearchCV(model_en_pipe, param_grid, scoring=scorer)\n",
    "grid_search_en.fit(gold_train, train_target_rougher)\n",
    "rouger_score_en = pd.DataFrame(grid_search_en.cv_results_).sort_values('mean_test_score', ascending=False)\n",
    "grid_search_en.fit(gold_train, train_target_final)\n",
    "final_score_en = pd.DataFrame(grid_search_en.cv_results_).sort_values('mean_test_score', ascending=False)"
   ]
  },
  {
   "cell_type": "code",
   "execution_count": 31,
   "metadata": {},
   "outputs": [
    {
     "data": {
      "text/html": [
       "<div>\n",
       "<style scoped>\n",
       "    .dataframe tbody tr th:only-of-type {\n",
       "        vertical-align: middle;\n",
       "    }\n",
       "\n",
       "    .dataframe tbody tr th {\n",
       "        vertical-align: top;\n",
       "    }\n",
       "\n",
       "    .dataframe thead th {\n",
       "        text-align: right;\n",
       "    }\n",
       "</style>\n",
       "<table border=\"1\" class=\"dataframe\">\n",
       "  <thead>\n",
       "    <tr style=\"text-align: right;\">\n",
       "      <th></th>\n",
       "      <th>mean_fit_time</th>\n",
       "      <th>std_fit_time</th>\n",
       "      <th>mean_score_time</th>\n",
       "      <th>std_score_time</th>\n",
       "      <th>param_model__max_depth</th>\n",
       "      <th>param_model__n_estimators</th>\n",
       "      <th>params</th>\n",
       "      <th>split0_test_score</th>\n",
       "      <th>split1_test_score</th>\n",
       "      <th>split2_test_score</th>\n",
       "      <th>split3_test_score</th>\n",
       "      <th>split4_test_score</th>\n",
       "      <th>mean_test_score</th>\n",
       "      <th>std_test_score</th>\n",
       "      <th>rank_test_score</th>\n",
       "    </tr>\n",
       "  </thead>\n",
       "  <tbody>\n",
       "    <tr>\n",
       "      <th>0</th>\n",
       "      <td>1.589595</td>\n",
       "      <td>0.032326</td>\n",
       "      <td>0.005747</td>\n",
       "      <td>0.000652</td>\n",
       "      <td>5</td>\n",
       "      <td>10</td>\n",
       "      <td>{'model__max_depth': 5, 'model__n_estimators':...</td>\n",
       "      <td>-7.977151</td>\n",
       "      <td>-4.700108</td>\n",
       "      <td>-6.748321</td>\n",
       "      <td>-5.370106</td>\n",
       "      <td>-6.95244</td>\n",
       "      <td>-6.349625</td>\n",
       "      <td>1.170602</td>\n",
       "      <td>1</td>\n",
       "    </tr>\n",
       "  </tbody>\n",
       "</table>\n",
       "</div>"
      ],
      "text/plain": [
       "   mean_fit_time  std_fit_time  mean_score_time  std_score_time  \\\n",
       "0       1.589595      0.032326         0.005747        0.000652   \n",
       "\n",
       "  param_model__max_depth param_model__n_estimators  \\\n",
       "0                      5                        10   \n",
       "\n",
       "                                              params  split0_test_score  \\\n",
       "0  {'model__max_depth': 5, 'model__n_estimators':...          -7.977151   \n",
       "\n",
       "   split1_test_score  split2_test_score  split3_test_score  split4_test_score  \\\n",
       "0          -4.700108          -6.748321          -5.370106           -6.95244   \n",
       "\n",
       "   mean_test_score  std_test_score  rank_test_score  \n",
       "0        -6.349625        1.170602                1  "
      ]
     },
     "metadata": {},
     "output_type": "display_data"
    },
    {
     "data": {
      "text/html": [
       "<div>\n",
       "<style scoped>\n",
       "    .dataframe tbody tr th:only-of-type {\n",
       "        vertical-align: middle;\n",
       "    }\n",
       "\n",
       "    .dataframe tbody tr th {\n",
       "        vertical-align: top;\n",
       "    }\n",
       "\n",
       "    .dataframe thead th {\n",
       "        text-align: right;\n",
       "    }\n",
       "</style>\n",
       "<table border=\"1\" class=\"dataframe\">\n",
       "  <thead>\n",
       "    <tr style=\"text-align: right;\">\n",
       "      <th></th>\n",
       "      <th>mean_fit_time</th>\n",
       "      <th>std_fit_time</th>\n",
       "      <th>mean_score_time</th>\n",
       "      <th>std_score_time</th>\n",
       "      <th>param_model__max_depth</th>\n",
       "      <th>param_model__n_estimators</th>\n",
       "      <th>params</th>\n",
       "      <th>split0_test_score</th>\n",
       "      <th>split1_test_score</th>\n",
       "      <th>split2_test_score</th>\n",
       "      <th>split3_test_score</th>\n",
       "      <th>split4_test_score</th>\n",
       "      <th>mean_test_score</th>\n",
       "      <th>std_test_score</th>\n",
       "      <th>rank_test_score</th>\n",
       "    </tr>\n",
       "  </thead>\n",
       "  <tbody>\n",
       "    <tr>\n",
       "      <th>0</th>\n",
       "      <td>1.600001</td>\n",
       "      <td>0.059549</td>\n",
       "      <td>0.00519</td>\n",
       "      <td>0.000046</td>\n",
       "      <td>5</td>\n",
       "      <td>10</td>\n",
       "      <td>{'model__max_depth': 5, 'model__n_estimators':...</td>\n",
       "      <td>-9.484455</td>\n",
       "      <td>-6.999586</td>\n",
       "      <td>-9.704044</td>\n",
       "      <td>-9.609578</td>\n",
       "      <td>-9.878925</td>\n",
       "      <td>-9.135318</td>\n",
       "      <td>1.075599</td>\n",
       "      <td>1</td>\n",
       "    </tr>\n",
       "  </tbody>\n",
       "</table>\n",
       "</div>"
      ],
      "text/plain": [
       "   mean_fit_time  std_fit_time  mean_score_time  std_score_time  \\\n",
       "0       1.600001      0.059549          0.00519        0.000046   \n",
       "\n",
       "  param_model__max_depth param_model__n_estimators  \\\n",
       "0                      5                        10   \n",
       "\n",
       "                                              params  split0_test_score  \\\n",
       "0  {'model__max_depth': 5, 'model__n_estimators':...          -9.484455   \n",
       "\n",
       "   split1_test_score  split2_test_score  split3_test_score  split4_test_score  \\\n",
       "0          -6.999586          -9.704044          -9.609578          -9.878925   \n",
       "\n",
       "   mean_test_score  std_test_score  rank_test_score  \n",
       "0        -9.135318        1.075599                1  "
      ]
     },
     "metadata": {},
     "output_type": "display_data"
    }
   ],
   "source": [
    "display(rouger_score_en)\n",
    "display(final_score_en)"
   ]
  },
  {
   "cell_type": "markdown",
   "metadata": {},
   "source": [
    "Случайный лес хоть и долгий, но лучше чам Ridge. В дальнейшем будем использовать его. Как ни странно выигрывают параметры с минимальной глубиной и количеством деревьев."
   ]
  },
  {
   "cell_type": "markdown",
   "metadata": {},
   "source": [
    "<div class=\"alert alert-success\">\n",
    "    \n",
    "<h2> Комментарий ревьюера <a class=\"tocSkip\"> </h2>\n",
    "\n",
    "<b>Все отлично!👍:</b> Для `Ridge` оптимизировали гиперпараметры и вывели оценку на кросс-валидации.\n",
    "</div>"
   ]
  },
  {
   "cell_type": "markdown",
   "metadata": {},
   "source": [
    "<div class=\"alert alert-block alert-danger\">\n",
    "<h2> Комментарий ревьюера <a class=\"tocSkip\"></h2>\n",
    "\n",
    "    \n",
    "<b>На доработку❌:</b>\n",
    "\n",
    "Оценку лучшей модели нужно вывести из `best_score_`."
   ]
  },
  {
   "cell_type": "markdown",
   "metadata": {},
   "source": [
    "<div class=\"alert alert-info\">\n",
    "<h2> Комментарий студента <a class=\"tocSkip\"> </h2>\n",
    "\n",
    "Выделил лучшую модель на основе столбца `mean_test_score`, `best_score_` берётся оттуда, я проверял.\n",
    "</div>"
   ]
  },
  {
   "cell_type": "markdown",
   "metadata": {},
   "source": [
    "<div class=\"alert alert-success\">\n",
    "    \n",
    "<h2> Комментарий ревьюера мю2 <a class=\"tocSkip\"> </h2>\n",
    "\n",
    "<b>Все отлично!👍:</b> Да, окей, с сортировкой по `mean_test_score` тоже можно."
   ]
  },
  {
   "cell_type": "code",
   "execution_count": 32,
   "metadata": {
    "ExecuteTime": {
     "end_time": "2023-08-31T23:29:18.116571715Z",
     "start_time": "2023-08-31T23:29:17.922087816Z"
    }
   },
   "outputs": [],
   "source": [
    "# # Проверим модель на тестовой выборке\n",
    "# model_r_pipe = Pipeline([('scaler', StandardScaler()), ('model', Ridge(\n",
    "#     alpha=10, fit_intercept=True,random_state=44\n",
    "# ))])\n",
    "# model_r_pipe.fit(gold_train, train_target_rougher)\n",
    "# predicted_rougher = model_r_pipe.predict(gold_test[gold_train.columns])\n",
    "# model_r_pipe.fit(gold_train, train_target_final)\n",
    "# predicted_final = model_r_pipe.predict(gold_test[gold_train.columns])\n",
    "\n",
    "# smape_rougher = smape(test_target_rougher, predicted_rougher)\n",
    "# smape_final = smape(test_target_final, predicted_final)\n",
    "# result_smape = 0.25*smape_rougher+0.75*smape_final\n",
    "# print(f'sMAPE Rougher = {smape_rougher}, sMAPE Final = {smape_final}')\n",
    "# print('Итоговый sMAPE складывается из 25%*sMAPE(rougher) + 75%*sMAPE(final)')\n",
    "# print(f'Итоговый sMAPE = {result_smape}')"
   ]
  },
  {
   "cell_type": "markdown",
   "metadata": {},
   "source": [
    "<div class=\"alert alert-success\">\n",
    "    \n",
    "<h2> Комментарий ревьюера <a class=\"tocSkip\"> </h2>\n",
    "\n",
    "<b>Все отлично!👍:</b> Лучшую модель оценили на `test`."
   ]
  },
  {
   "cell_type": "markdown",
   "metadata": {},
   "source": [
    "<div class=\"alert alert-info\">\n",
    "<h2> Комментарий студента <a class=\"tocSkip\"> </h2>\n",
    "\n",
    "Это модель ridge, она показала хуже результат чем случайный лес. Так что закомменчу её, пусть останется для истории.\n",
    "</div>"
   ]
  },
  {
   "cell_type": "code",
   "execution_count": 33,
   "metadata": {},
   "outputs": [
    {
     "name": "stdout",
     "output_type": "stream",
     "text": [
      "sMAPE Rougher = 3.8654784467129892, sMAPE Final = 7.396489761850672\n",
      "Итоговый sMAPE складывается из 25%*sMAPE(rougher) + 75%*sMAPE(final)\n",
      "Итоговый sMAPE = 6.513736933066251\n"
     ]
    }
   ],
   "source": [
    "# Проверим лучшую модель на тестовой выборке, так совпало что\n",
    "# гиперпараметры одинаковые для стадий rougher и final.\n",
    "model_rf_pipe = Pipeline(\n",
    "    [('scaler', StandardScaler()), ('model', RandomForestRegressor(\n",
    "        n_estimators=10, max_depth=5\n",
    "    ))])\n",
    "model_rf_pipe.fit(gold_train, train_target_rougher)\n",
    "predicted_rougher = model_rf_pipe.predict(gold_test[gold_train.columns])\n",
    "model_rf_pipe.fit(gold_train, train_target_final)\n",
    "predicted_final = model_rf_pipe.predict(gold_test[gold_train.columns])\n",
    "\n",
    "smape_rougher = smape(test_target_rougher, predicted_rougher)\n",
    "smape_final = smape(test_target_final, predicted_final)\n",
    "result_smape = resulting_smape(smape_rougher, smape_final)\n",
    "print(f'sMAPE Rougher = {smape_rougher}, sMAPE Final = {smape_final}')\n",
    "print('Итоговый sMAPE складывается из 25%*sMAPE(rougher) + 75%*sMAPE(final)')\n",
    "print(f'Итоговый sMAPE = {result_smape}')"
   ]
  },
  {
   "cell_type": "markdown",
   "metadata": {},
   "source": [
    "<div class=\"alert alert-block alert-danger\">\n",
    "<h2> Комментарий ревьюера v.2 <a class=\"tocSkip\"></h2>\n",
    "\n",
    "    \n",
    "<b>На доработку❌:</b>\n",
    "На `test` оцениваем только одну модель, лучшую по итогам кросс-валидации. Эта концепция находит своё отражение в условиях эксплуатации модели в реальной среде: в промышленной эксплуатации не работает несколько моделей одновременно - в промышленную эксплуатацию запускают только одну модель, которая была выбрана из нескольких в ходе промежуточной оценки. Так же и здесь - тестовая выборка имитирует поток реальных данных, и с этим потоком должна работать только одна модель."
   ]
  },
  {
   "cell_type": "markdown",
   "metadata": {},
   "source": [
    "<div class=\"alert alert-info\">\n",
    "<h2> Комментарий студента <a class=\"tocSkip\"> </h2>\n",
    "\n",
    "Закомментил лишнюю проверку на тест данных. Не удаляю для истории, что-бы потом было легче вспоминать и понимать к чему комментарии.</div>\n"
   ]
  },
  {
   "cell_type": "markdown",
   "metadata": {},
   "source": [
    "<div class=\"alert alert-success\">\n",
    "<h2> Комментарий ревьюера v.3 <a class=\"tocSkip\"> </h2>\n",
    "\n",
    "<b>Все отлично!👍:</b> Учтено."
   ]
  },
  {
   "cell_type": "code",
   "execution_count": 34,
   "metadata": {},
   "outputs": [
    {
     "name": "stdout",
     "output_type": "stream",
     "text": [
      "sMAPE Rougher = 6.102041745972187, sMAPE Final = 9.256866252215879\n",
      "Итоговый sMAPE складывается из 25%*sMAPE(rougher) + 75%*sMAPE(final)\n",
      "Итоговый sMAPE = 8.468160125654956\n"
     ]
    }
   ],
   "source": [
    "# Сравним полученные результаты с DummyRegressor,\n",
    "# который по умолчанию предсказывает средние значения\n",
    "model_dummy_pipe = Pipeline(\n",
    "    [('scaler', StandardScaler()), ('model', DummyRegressor())])\n",
    "model_dummy_pipe.fit(gold_train, train_target_rougher)\n",
    "predicted_rougher = model_dummy_pipe.predict(gold_test[gold_train.columns])\n",
    "model_dummy_pipe.fit(gold_train, train_target_final)\n",
    "predicted_final = model_dummy_pipe.predict(gold_test[gold_train.columns])\n",
    "\n",
    "smape_rougher = smape(test_target_rougher, predicted_rougher)\n",
    "smape_final = smape(test_target_final, predicted_final)\n",
    "result_smape = resulting_smape(smape_rougher, smape_final)\n",
    "print(f'sMAPE Rougher = {smape_rougher}, sMAPE Final = {smape_final}')\n",
    "print('Итоговый sMAPE складывается из 25%*sMAPE(rougher) + 75%*sMAPE(final)')\n",
    "print(f'Итоговый sMAPE = {result_smape}')"
   ]
  },
  {
   "cell_type": "markdown",
   "metadata": {},
   "source": [
    "Разница с DummyRegressor не очень большая, но есть. 8.5 у Dummy против 6.5 у случайного леса. Отдельные показатели на этапе флотации и очистки тоже ниже у случайного леса. Вывод: мы делали модель не зря."
   ]
  },
  {
   "cell_type": "markdown",
   "metadata": {},
   "source": [
    "<div class=\"alert alert-block alert-danger\">\n",
    "<h2> Комментарий ревьюера <a class=\"tocSkip\"></h2>\n",
    "\n",
    "    \n",
    "<b>На доработку❌:</b>\n",
    "Очень важно также проверить лучшую модель на адекватность, сравнив качество её предсказаний с качеством модели, которая предсказывала бы константу - вдруг окажется, что не было бы большого смысла заниматься созданием новых признаков, тюнингом и кросс-валидацией моделей, если можно было бы просто предсказывать среднее значение тренировочной выборки? \n",
    "    \n",
    "В качестве константной модели можно использовать `DummyRegressor` (https://scikit-learn.org/stable/modules/generated/sklearn.dummy.DummyRegressor.html) -  эта модель как раз создана для генерирования константных предсказаний.\n",
    "    \n",
    "Важно, чтобы результат тестирования нашей модели на тествой выборке был лучше, чем результат константной модели - в противном случае наша модель является бесполезной, так как все наши усилия над проектом не принесли результата, а можель, просто предсказывющая среднее на `train`, делает нашу работу лучше."
   ]
  },
  {
   "cell_type": "markdown",
   "metadata": {},
   "source": [
    "<div class=\"alert alert-info\">\n",
    "<h2> Комментарий студента <a class=\"tocSkip\"> </h2>\n",
    "\n",
    "Поправил\n",
    "</div>"
   ]
  },
  {
   "cell_type": "markdown",
   "metadata": {},
   "source": [
    "<div class=\"alert alert-block alert-danger\">\n",
    "<h2> Комментарий ревьюера v.2 <a class=\"tocSkip\"></h2>\n",
    "\n",
    "    \n",
    "<b>На доработку❌:</b> Исполни, пожалуйста, код, чтобы я мог проверить твой результат.\n",
    "  "
   ]
  },
  {
   "cell_type": "markdown",
   "metadata": {},
   "source": [
    "<div class=\"alert alert-info\">\n",
    "<h2> Комментарий студента <a class=\"tocSkip\"> </h2>\n",
    "\n",
    "Запустил код\n",
    "</div>"
   ]
  },
  {
   "cell_type": "markdown",
   "metadata": {},
   "source": [
    "<div class=\"alert alert-success\">\n",
    "<h2> Комментарий ревьюера v.3 <a class=\"tocSkip\"> </h2>\n",
    "\n",
    "<b>Все отлично!👍:</b> Учтено."
   ]
  },
  {
   "cell_type": "markdown",
   "metadata": {},
   "source": [
    "<div class=\"alert alert-warning\">\n",
    "    <h2> Комментарий ревьюера v.2 <a class=\"tocSkip\"> </h2>\n",
    "\n",
    "<b>Некоторые замечания и рекомендации⚠️:</b> Лайфхак для ускорения работы: раз ты уже знаешь оптимальные гиперпараметры для своих моделей, для ускорения перезапуска проекта (как в этом проекте, так и в дальнейшем) я рекомендую записывать лучшие гиперпараметры в новую сетку поверх основной: старая нужна, чтобы ревьюер понимал, какие гиперпараметры были исследованы, а новая, усечённая, будет содержать только лучшие значения, чтобы `GridSearchCV`  быстрее отрабатывал. Концепт:\n",
    "    \n",
    "    #первый раз запускали GS с такой сеткой\n",
    "    params = {\n",
    "    \n",
    "    'max_depth': range(1, 10),\n",
    "    'n_estimators': range(10, 100, 10)\n",
    "    }\n",
    "\n",
    "    #ранее запустили GS, получили оптимальное max_depth=2 и n_estimators=50\n",
    "    #делаем новую сетку, старую оставляем ранее, чтобы была видна история (новая перезапишет старую), и уже запускаем сам GS\n",
    "    \n",
    "    params = {\n",
    "        \n",
    "        'max_depth': range(1, 10),\n",
    "        'n_estimators': range(10, 100, 10)\n",
    "    }\n",
    "    \n",
    "    params = {\n",
    "        \n",
    "        'max_depth': [2],\n",
    "        'n_estimators': [50]\n",
    "    }\n",
    "    \n",
    "    grid_search = GridSearchCV(model, params, scoring=scorer)\n",
    "    grid_search.fit(train, train_target)"
   ]
  },
  {
   "cell_type": "markdown",
   "metadata": {},
   "source": [
    "<div class=\"alert alert-info\">\n",
    "<h2> Комментарий студента <a class=\"tocSkip\"> </h2>\n",
    "\n",
    "учел\n",
    "</div>"
   ]
  },
  {
   "cell_type": "markdown",
   "metadata": {},
   "source": [
    "<div class=\"alert alert-success\">\n",
    "<h2> Комментарий ревьюера v.3 <a class=\"tocSkip\"> </h2>\n",
    "\n",
    "<b>Все отлично!👍:</b> Учтено."
   ]
  },
  {
   "cell_type": "markdown",
   "metadata": {},
   "source": [
    "В ходе работ была выполнена подготовка данных, добавлены отсутствующие столбцы в тестовую выборку. Отсутствующие значения заполнены медианой в тестовой и тренировочной выборках. В целом по металлам концентрация растёт вместе со стадией обогащения за счёт золота, однако для серебра всё наоборот. Для свинца рост не выражен, разницы между первым и вторым этапами очистки практически нет. Из рассмотренных моделей наиболее подходящей оказалась модель RandomForestRegressor. Модель рабочая, судя по метрике sMAPE предсказывает лучше чем DummyRegressor."
   ]
  },
  {
   "cell_type": "markdown",
   "metadata": {},
   "source": [
    "<div class=\"alert alert-success\">\n",
    "<h2> Комментарий ревьюера <a class=\"tocSkip\"> </h2>\n",
    "\n",
    "<b>Все отлично!👍:</b> Отличный итоговый вывод по проекту!"
   ]
  },
  {
   "cell_type": "markdown",
   "metadata": {},
   "source": [
    "<div style=\"border:solid Chocolate 2px; padding: 40px\">\n",
    "\n",
    "# Комментарий ревьюера: общий вывод по проекту.\n",
    "\n",
    "Айдар, проект получился на довольно хорошем уровне - отличная работа над проектом, молодец!\n",
    "\n",
    "Мне нравится твой аналитический подход к выполнению проекта, ты соблюдаешь структуру работы, выполняешь её последовательно - это очень хорошо! Шаги проекта выполнены по порядку согласно плану проекта, нет смысловых и структурных ям. Важно, что не забываешь про выводы.\n",
    "\n",
    "Работа с моделями также выполнена отлично: исследовано несколько алгоритмов, проведён подбор гиперпараметров с помощью `GridSearchCV`, выполнена промежуточная оценка моделей на кросс-валидации - молодец!\n",
    "    \n",
    "Над проектом ещё стоит поработать - есть рекомендации по дополнению некоторых твоих шагов проекта. Такие рекомендации я отметил жёлтыми комментариями. Будет здорово, если ты учтёшь их - так проект станет структурно и содержательно более совершенным.\n",
    "    \n",
    "Также в работе есть критические замечания. К этим замечаниям я оставил пояснительные комментарии красного цвета, в которых перечислил возможные варианты дальнейших действий. Уверен, ты быстро с этим управишься:)\n",
    "    \n",
    "Если о том, что нужно сделать в рамках комментариев, будут возникать вопросы - оставь их, пожалуйста, в комментариях, и я отвечу на них во время следующего ревью.\n",
    "    \n",
    "Также буду рад ответить на любые твои вопросы по проекту или на какие-либо другие, если они у тебя имеются - оставь их в комментариях, и я постараюсь ответить:)\n",
    "    \n",
    "Жду твой проект на повторном ревью. До встречи:)"
   ]
  },
  {
   "cell_type": "markdown",
   "metadata": {},
   "source": [
    "<div style=\"border:solid Chocolate 2px; padding: 40px\">\n",
    "\n",
    "# Комментарий ревьюера: общий вывод по проекту v.2.\n",
    "\n",
    "Айдар, продолжаем работу над проектом - актуальные замечания отмечены комментариями с меткой `v.2`.\n",
    "    \n",
    "Жду тебя снова:)"
   ]
  },
  {
   "cell_type": "markdown",
   "metadata": {},
   "source": [
    "<div style=\"border:solid Chocolate 2px; padding: 40px\">\n",
    "\n",
    "# Комментарий ревьюера: общий вывод по проекту v.3.\n",
    "\n",
    "Айдар, все замечания учтены - проект принят!\n",
    "    \n",
    "Спасибо за хорошую работу над проектом, желаю успехов в дальнейшем обучении:)"
   ]
  }
 ],
 "metadata": {
  "ExecuteTimeLog": [
   {
    "duration": 6908,
    "start_time": "2023-09-01T05:10:45.236Z"
   },
   {
    "duration": 1570,
    "start_time": "2023-09-01T05:10:52.147Z"
   },
   {
    "duration": 673,
    "start_time": "2023-09-01T05:10:53.719Z"
   },
   {
    "duration": 24,
    "start_time": "2023-09-01T05:10:54.401Z"
   },
   {
    "duration": 23,
    "start_time": "2023-09-01T05:10:54.426Z"
   },
   {
    "duration": 41,
    "start_time": "2023-09-01T05:10:54.451Z"
   },
   {
    "duration": 63,
    "start_time": "2023-09-01T05:10:54.494Z"
   },
   {
    "duration": 86,
    "start_time": "2023-09-01T05:10:54.559Z"
   },
   {
    "duration": 83,
    "start_time": "2023-09-01T05:10:54.647Z"
   },
   {
    "duration": 1775,
    "start_time": "2023-09-01T05:10:54.734Z"
   },
   {
    "duration": 352,
    "start_time": "2023-09-01T05:10:56.516Z"
   },
   {
    "duration": 6,
    "start_time": "2023-09-01T05:10:56.870Z"
   },
   {
    "duration": 43,
    "start_time": "2023-09-01T05:10:56.877Z"
   },
   {
    "duration": 33,
    "start_time": "2023-09-01T05:10:56.922Z"
   },
   {
    "duration": 1398,
    "start_time": "2023-09-01T05:10:56.957Z"
   },
   {
    "duration": 9,
    "start_time": "2023-09-01T05:10:58.356Z"
   },
   {
    "duration": 29,
    "start_time": "2023-09-01T05:11:14.866Z"
   },
   {
    "duration": 4,
    "start_time": "2023-09-01T05:12:56.838Z"
   },
   {
    "duration": 155,
    "start_time": "2023-09-01T05:12:59.823Z"
   },
   {
    "duration": 8,
    "start_time": "2023-09-01T05:13:13.669Z"
   },
   {
    "duration": 1403,
    "start_time": "2023-09-01T05:53:48.260Z"
   },
   {
    "duration": 2022,
    "start_time": "2023-09-01T05:53:49.665Z"
   },
   {
    "duration": 652,
    "start_time": "2023-09-01T05:53:51.689Z"
   },
   {
    "duration": 18,
    "start_time": "2023-09-01T05:53:52.343Z"
   },
   {
    "duration": 70,
    "start_time": "2023-09-01T05:53:52.362Z"
   },
   {
    "duration": 80,
    "start_time": "2023-09-01T05:53:52.433Z"
   },
   {
    "duration": 144,
    "start_time": "2023-09-01T05:53:52.514Z"
   },
   {
    "duration": 9,
    "start_time": "2023-09-01T05:53:59.468Z"
   },
   {
    "duration": 6,
    "start_time": "2023-09-01T05:54:10.667Z"
   },
   {
    "duration": 6,
    "start_time": "2023-09-01T06:19:28.703Z"
   },
   {
    "duration": 137,
    "start_time": "2023-09-01T06:26:11.247Z"
   },
   {
    "duration": 265,
    "start_time": "2023-09-01T06:26:33.368Z"
   },
   {
    "duration": 462,
    "start_time": "2023-09-01T06:27:35.953Z"
   },
   {
    "duration": 402,
    "start_time": "2023-09-01T06:27:46.866Z"
   },
   {
    "duration": 410,
    "start_time": "2023-09-01T06:28:53.929Z"
   },
   {
    "duration": 434,
    "start_time": "2023-09-01T06:29:06.077Z"
   },
   {
    "duration": 518,
    "start_time": "2023-09-01T06:29:17.826Z"
   },
   {
    "duration": 413,
    "start_time": "2023-09-01T06:29:22.721Z"
   },
   {
    "duration": 569,
    "start_time": "2023-09-01T06:32:06.272Z"
   },
   {
    "duration": 716,
    "start_time": "2023-09-01T06:32:14.621Z"
   },
   {
    "duration": 499,
    "start_time": "2023-09-01T06:32:48.714Z"
   },
   {
    "duration": 78,
    "start_time": "2023-09-01T06:32:53.105Z"
   },
   {
    "duration": 539,
    "start_time": "2023-09-01T06:32:57.347Z"
   },
   {
    "duration": 5,
    "start_time": "2023-09-01T06:41:06.378Z"
   },
   {
    "duration": 4,
    "start_time": "2023-09-01T06:41:17.453Z"
   },
   {
    "duration": 1929,
    "start_time": "2023-09-01T06:41:17.459Z"
   },
   {
    "duration": 681,
    "start_time": "2023-09-01T06:41:19.390Z"
   },
   {
    "duration": 33,
    "start_time": "2023-09-01T06:41:20.073Z"
   },
   {
    "duration": 11,
    "start_time": "2023-09-01T06:41:20.108Z"
   },
   {
    "duration": 25,
    "start_time": "2023-09-01T06:41:20.120Z"
   },
   {
    "duration": 41,
    "start_time": "2023-09-01T06:41:20.147Z"
   },
   {
    "duration": 37,
    "start_time": "2023-09-01T06:41:20.190Z"
   },
   {
    "duration": 93,
    "start_time": "2023-09-01T06:41:20.229Z"
   },
   {
    "duration": 1977,
    "start_time": "2023-09-01T06:41:20.325Z"
   },
   {
    "duration": 473,
    "start_time": "2023-09-01T06:41:22.307Z"
   },
   {
    "duration": 6,
    "start_time": "2023-09-01T06:41:22.782Z"
   },
   {
    "duration": 55,
    "start_time": "2023-09-01T06:41:22.789Z"
   },
   {
    "duration": 548,
    "start_time": "2023-09-01T06:41:22.846Z"
   },
   {
    "duration": 1582,
    "start_time": "2023-09-01T06:41:23.401Z"
   },
   {
    "duration": 6,
    "start_time": "2023-09-01T06:42:23.926Z"
   },
   {
    "duration": 5,
    "start_time": "2023-09-01T06:42:36.596Z"
   },
   {
    "duration": 5,
    "start_time": "2023-09-01T06:42:54.839Z"
   },
   {
    "duration": 20,
    "start_time": "2023-09-01T06:43:46.427Z"
   },
   {
    "duration": 14,
    "start_time": "2023-09-01T06:44:47.968Z"
   },
   {
    "duration": 8,
    "start_time": "2023-09-01T06:45:02.416Z"
   },
   {
    "duration": 18,
    "start_time": "2023-09-01T06:45:25.931Z"
   },
   {
    "duration": 17,
    "start_time": "2023-09-01T06:45:34.131Z"
   },
   {
    "duration": 19,
    "start_time": "2023-09-01T06:46:02.696Z"
   },
   {
    "duration": 18,
    "start_time": "2023-09-01T06:46:28.620Z"
   },
   {
    "duration": 1499,
    "start_time": "2023-09-01T06:48:10.842Z"
   },
   {
    "duration": 1671,
    "start_time": "2023-09-01T06:48:12.344Z"
   },
   {
    "duration": 819,
    "start_time": "2023-09-01T06:48:14.017Z"
   },
   {
    "duration": 29,
    "start_time": "2023-09-01T06:48:14.839Z"
   },
   {
    "duration": 11,
    "start_time": "2023-09-01T06:48:14.870Z"
   },
   {
    "duration": 6,
    "start_time": "2023-09-01T06:48:14.901Z"
   },
   {
    "duration": 43,
    "start_time": "2023-09-01T06:48:14.909Z"
   },
   {
    "duration": 18,
    "start_time": "2023-09-01T06:48:14.954Z"
   },
   {
    "duration": 73,
    "start_time": "2023-09-01T06:48:14.973Z"
   },
   {
    "duration": 1863,
    "start_time": "2023-09-01T06:48:15.049Z"
   },
   {
    "duration": 342,
    "start_time": "2023-09-01T06:48:16.914Z"
   },
   {
    "duration": 7,
    "start_time": "2023-09-01T06:48:17.258Z"
   },
   {
    "duration": 37,
    "start_time": "2023-09-01T06:48:17.267Z"
   },
   {
    "duration": 604,
    "start_time": "2023-09-01T06:48:17.306Z"
   },
   {
    "duration": 1465,
    "start_time": "2023-09-01T06:48:17.913Z"
   },
   {
    "duration": 122,
    "start_time": "2023-09-01T06:48:19.380Z"
   },
   {
    "duration": 0,
    "start_time": "2023-09-01T06:48:19.504Z"
   },
   {
    "duration": 0,
    "start_time": "2023-09-01T06:48:19.505Z"
   },
   {
    "duration": 0,
    "start_time": "2023-09-01T06:48:19.507Z"
   },
   {
    "duration": 0,
    "start_time": "2023-09-01T06:48:19.508Z"
   },
   {
    "duration": 0,
    "start_time": "2023-09-01T06:48:19.509Z"
   },
   {
    "duration": 0,
    "start_time": "2023-09-01T06:48:19.510Z"
   },
   {
    "duration": 0,
    "start_time": "2023-09-01T06:48:19.511Z"
   },
   {
    "duration": 0,
    "start_time": "2023-09-01T06:48:19.512Z"
   },
   {
    "duration": 0,
    "start_time": "2023-09-01T06:48:19.513Z"
   },
   {
    "duration": 0,
    "start_time": "2023-09-01T06:48:19.515Z"
   },
   {
    "duration": 0,
    "start_time": "2023-09-01T06:48:19.515Z"
   },
   {
    "duration": 0,
    "start_time": "2023-09-01T06:48:19.517Z"
   },
   {
    "duration": 0,
    "start_time": "2023-09-01T06:48:19.519Z"
   },
   {
    "duration": 9,
    "start_time": "2023-09-01T06:48:42.298Z"
   },
   {
    "duration": 20,
    "start_time": "2023-09-01T06:49:14.216Z"
   },
   {
    "duration": 4,
    "start_time": "2023-09-01T07:10:37.125Z"
   },
   {
    "duration": 7,
    "start_time": "2023-09-01T07:11:28.783Z"
   },
   {
    "duration": 4,
    "start_time": "2023-09-01T07:11:52.883Z"
   },
   {
    "duration": 3354,
    "start_time": "2023-09-01T07:11:52.888Z"
   },
   {
    "duration": 870,
    "start_time": "2023-09-01T07:11:56.244Z"
   },
   {
    "duration": 18,
    "start_time": "2023-09-01T07:11:57.116Z"
   },
   {
    "duration": 23,
    "start_time": "2023-09-01T07:11:57.136Z"
   },
   {
    "duration": 12,
    "start_time": "2023-09-01T07:11:57.161Z"
   },
   {
    "duration": 71,
    "start_time": "2023-09-01T07:11:57.174Z"
   },
   {
    "duration": 11,
    "start_time": "2023-09-01T07:11:57.247Z"
   },
   {
    "duration": 68,
    "start_time": "2023-09-01T07:11:57.260Z"
   },
   {
    "duration": 1696,
    "start_time": "2023-09-01T07:11:57.330Z"
   },
   {
    "duration": 453,
    "start_time": "2023-09-01T07:11:59.029Z"
   },
   {
    "duration": 5,
    "start_time": "2023-09-01T07:11:59.484Z"
   },
   {
    "duration": 42,
    "start_time": "2023-09-01T07:11:59.491Z"
   },
   {
    "duration": 561,
    "start_time": "2023-09-01T07:11:59.535Z"
   },
   {
    "duration": 1445,
    "start_time": "2023-09-01T07:12:00.101Z"
   },
   {
    "duration": 10,
    "start_time": "2023-09-01T07:12:01.548Z"
   },
   {
    "duration": 7,
    "start_time": "2023-09-01T07:12:11.452Z"
   },
   {
    "duration": 13,
    "start_time": "2023-09-01T07:12:13.633Z"
   },
   {
    "duration": 4,
    "start_time": "2023-09-01T07:12:59.883Z"
   },
   {
    "duration": 19,
    "start_time": "2023-09-01T07:15:25.251Z"
   },
   {
    "duration": 8,
    "start_time": "2023-09-01T07:15:58.903Z"
   },
   {
    "duration": 3,
    "start_time": "2023-09-01T07:20:39.917Z"
   },
   {
    "duration": 3917,
    "start_time": "2023-09-01T07:20:55.301Z"
   },
   {
    "duration": 5,
    "start_time": "2023-09-01T07:21:25.935Z"
   },
   {
    "duration": 1590,
    "start_time": "2023-09-01T07:21:25.942Z"
   },
   {
    "duration": 709,
    "start_time": "2023-09-01T07:21:27.534Z"
   },
   {
    "duration": 19,
    "start_time": "2023-09-01T07:21:28.245Z"
   },
   {
    "duration": 10,
    "start_time": "2023-09-01T07:21:28.267Z"
   },
   {
    "duration": 5,
    "start_time": "2023-09-01T07:21:28.306Z"
   },
   {
    "duration": 39,
    "start_time": "2023-09-01T07:21:28.313Z"
   },
   {
    "duration": 16,
    "start_time": "2023-09-01T07:21:28.354Z"
   },
   {
    "duration": 78,
    "start_time": "2023-09-01T07:21:28.372Z"
   },
   {
    "duration": 1894,
    "start_time": "2023-09-01T07:21:28.451Z"
   },
   {
    "duration": 439,
    "start_time": "2023-09-01T07:21:30.348Z"
   },
   {
    "duration": 18,
    "start_time": "2023-09-01T07:21:30.789Z"
   },
   {
    "duration": 94,
    "start_time": "2023-09-01T07:21:30.810Z"
   },
   {
    "duration": 613,
    "start_time": "2023-09-01T07:21:30.909Z"
   },
   {
    "duration": 1529,
    "start_time": "2023-09-01T07:21:31.525Z"
   },
   {
    "duration": 7,
    "start_time": "2023-09-01T07:21:33.057Z"
   },
   {
    "duration": 45,
    "start_time": "2023-09-01T07:21:33.066Z"
   },
   {
    "duration": 7,
    "start_time": "2023-09-01T07:21:33.112Z"
   },
   {
    "duration": 14,
    "start_time": "2023-09-01T07:21:38.458Z"
   },
   {
    "duration": 16,
    "start_time": "2023-09-01T07:23:07.539Z"
   },
   {
    "duration": 8,
    "start_time": "2023-09-01T07:24:04.075Z"
   },
   {
    "duration": 4,
    "start_time": "2023-09-01T07:25:05.436Z"
   },
   {
    "duration": 130,
    "start_time": "2023-09-01T07:26:47.903Z"
   },
   {
    "duration": 1859,
    "start_time": "2023-09-01T07:26:59.252Z"
   },
   {
    "duration": 3718,
    "start_time": "2023-09-01T07:27:25.690Z"
   },
   {
    "duration": 9170,
    "start_time": "2023-09-01T07:28:20.644Z"
   },
   {
    "duration": 19026,
    "start_time": "2023-09-01T07:29:21.598Z"
   },
   {
    "duration": 3599,
    "start_time": "2023-09-01T07:31:43.826Z"
   },
   {
    "duration": 5,
    "start_time": "2023-09-01T07:34:53.082Z"
   },
   {
    "duration": 18424,
    "start_time": "2023-09-01T07:35:11.897Z"
   },
   {
    "duration": 38,
    "start_time": "2023-09-01T07:35:32.538Z"
   },
   {
    "duration": 9662,
    "start_time": "2023-09-01T07:37:51.451Z"
   },
   {
    "duration": 18024,
    "start_time": "2023-09-01T07:38:21.896Z"
   },
   {
    "duration": 18537,
    "start_time": "2023-09-01T07:40:29.189Z"
   },
   {
    "duration": 18794,
    "start_time": "2023-09-01T07:44:34.220Z"
   },
   {
    "duration": 42,
    "start_time": "2023-09-01T07:44:56.143Z"
   },
   {
    "duration": 18338,
    "start_time": "2023-09-01T07:48:46.586Z"
   },
   {
    "duration": 40,
    "start_time": "2023-09-01T07:49:09.379Z"
   },
   {
    "duration": 4,
    "start_time": "2023-09-01T08:03:49.118Z"
   },
   {
    "duration": 12,
    "start_time": "2023-09-01T08:20:06.028Z"
   },
   {
    "duration": 4,
    "start_time": "2023-09-01T08:20:30.366Z"
   },
   {
    "duration": 60324,
    "start_time": "2023-09-01T08:20:37.000Z"
   },
   {
    "duration": 1425079,
    "start_time": "2023-09-01T08:21:46.335Z"
   },
   {
    "duration": 3284,
    "start_time": "2023-09-01T09:32:00.116Z"
   },
   {
    "duration": 118,
    "start_time": "2023-09-01T09:47:03.200Z"
   },
   {
    "duration": 39,
    "start_time": "2023-09-01T09:49:48.971Z"
   },
   {
    "duration": 1403,
    "start_time": "2023-09-01T09:50:12.838Z"
   },
   {
    "duration": 4,
    "start_time": "2023-09-01T09:51:38.972Z"
   },
   {
    "duration": 711905,
    "start_time": "2023-09-01T09:52:14.163Z"
   },
   {
    "duration": 36,
    "start_time": "2023-09-01T10:29:49.876Z"
   },
   {
    "duration": 62,
    "start_time": "2023-09-01T10:30:44.348Z"
   },
   {
    "duration": 13,
    "start_time": "2023-09-01T10:44:00.843Z"
   },
   {
    "duration": 330,
    "start_time": "2023-09-01T10:44:44.673Z"
   },
   {
    "duration": 31,
    "start_time": "2023-09-01T10:45:40.491Z"
   },
   {
    "duration": 4443,
    "start_time": "2023-09-01T10:45:59.105Z"
   },
   {
    "duration": 4501,
    "start_time": "2023-09-01T10:48:40.522Z"
   },
   {
    "duration": 4447,
    "start_time": "2023-09-01T10:49:15.168Z"
   },
   {
    "duration": 4,
    "start_time": "2023-09-01T10:49:30.598Z"
   },
   {
    "duration": 4441,
    "start_time": "2023-09-01T10:49:34.781Z"
   },
   {
    "duration": 4467,
    "start_time": "2023-09-01T10:51:03.805Z"
   },
   {
    "duration": 4,
    "start_time": "2023-09-01T10:51:31.085Z"
   },
   {
    "duration": 4441,
    "start_time": "2023-09-01T10:51:43.704Z"
   },
   {
    "duration": 5,
    "start_time": "2023-09-01T10:54:27.851Z"
   },
   {
    "duration": 46,
    "start_time": "2023-09-01T10:56:43.220Z"
   },
   {
    "duration": 1497,
    "start_time": "2023-09-01T11:02:11.780Z"
   },
   {
    "duration": 2005,
    "start_time": "2023-09-01T11:02:13.278Z"
   },
   {
    "duration": 656,
    "start_time": "2023-09-01T11:02:15.286Z"
   },
   {
    "duration": 19,
    "start_time": "2023-09-01T11:02:15.944Z"
   },
   {
    "duration": 8,
    "start_time": "2023-09-01T11:02:15.965Z"
   },
   {
    "duration": 28,
    "start_time": "2023-09-01T11:02:15.975Z"
   },
   {
    "duration": 48,
    "start_time": "2023-09-01T11:02:16.005Z"
   },
   {
    "duration": 20,
    "start_time": "2023-09-01T11:02:16.054Z"
   },
   {
    "duration": 61,
    "start_time": "2023-09-01T11:02:16.075Z"
   },
   {
    "duration": 1685,
    "start_time": "2023-09-01T11:02:16.140Z"
   },
   {
    "duration": 324,
    "start_time": "2023-09-01T11:02:17.827Z"
   },
   {
    "duration": 7,
    "start_time": "2023-09-01T11:02:18.153Z"
   },
   {
    "duration": 17,
    "start_time": "2023-09-01T11:02:18.162Z"
   },
   {
    "duration": 534,
    "start_time": "2023-09-01T11:02:18.201Z"
   },
   {
    "duration": 1343,
    "start_time": "2023-09-01T11:02:18.737Z"
   },
   {
    "duration": 18,
    "start_time": "2023-09-01T11:02:20.083Z"
   },
   {
    "duration": 20,
    "start_time": "2023-09-01T11:02:20.104Z"
   },
   {
    "duration": 13,
    "start_time": "2023-09-01T11:02:20.127Z"
   },
   {
    "duration": 31,
    "start_time": "2023-09-01T11:02:20.143Z"
   },
   {
    "duration": 25,
    "start_time": "2023-09-01T11:02:20.176Z"
   },
   {
    "duration": 26,
    "start_time": "2023-09-01T11:02:20.202Z"
   },
   {
    "duration": 20,
    "start_time": "2023-09-01T11:02:20.230Z"
   },
   {
    "duration": 3869,
    "start_time": "2023-09-01T11:02:20.252Z"
   },
   {
    "duration": 6503,
    "start_time": "2023-09-01T11:02:24.203Z"
   },
   {
    "duration": 7104,
    "start_time": "2023-09-01T11:02:30.709Z"
   },
   {
    "duration": 5,
    "start_time": "2023-09-01T11:02:37.902Z"
   },
   {
    "duration": 20708,
    "start_time": "2023-09-01T11:02:37.909Z"
   },
   {
    "duration": 203,
    "start_time": "2023-09-01T11:02:58.622Z"
   },
   {
    "duration": 706047,
    "start_time": "2023-09-01T11:02:58.827Z"
   },
   {
    "duration": 49,
    "start_time": "2023-09-01T11:14:44.876Z"
   },
   {
    "duration": 376,
    "start_time": "2023-09-01T11:14:44.926Z"
   },
   {
    "duration": 4684,
    "start_time": "2023-09-01T11:14:45.305Z"
   },
   {
    "duration": 0,
    "start_time": "2023-09-01T11:14:49.991Z"
   },
   {
    "duration": 12,
    "start_time": "2023-09-01T11:51:38.562Z"
   },
   {
    "duration": 5,
    "start_time": "2023-09-01T11:52:16.553Z"
   },
   {
    "duration": 238,
    "start_time": "2023-09-01T11:53:13.369Z"
   },
   {
    "duration": 5,
    "start_time": "2023-09-01T11:53:28.693Z"
   },
   {
    "duration": 4723,
    "start_time": "2023-09-01T11:53:43.783Z"
   },
   {
    "duration": 1687,
    "start_time": "2023-09-02T11:42:05.420Z"
   },
   {
    "duration": 1954,
    "start_time": "2023-09-02T11:42:07.110Z"
   },
   {
    "duration": 582,
    "start_time": "2023-09-02T11:42:09.065Z"
   },
   {
    "duration": 28,
    "start_time": "2023-09-02T11:42:09.652Z"
   },
   {
    "duration": 8,
    "start_time": "2023-09-02T11:42:09.682Z"
   },
   {
    "duration": 6,
    "start_time": "2023-09-02T11:42:09.691Z"
   },
   {
    "duration": 33,
    "start_time": "2023-09-02T11:42:09.698Z"
   },
   {
    "duration": 32,
    "start_time": "2023-09-02T11:42:09.732Z"
   },
   {
    "duration": 6,
    "start_time": "2023-09-02T11:43:09.293Z"
   },
   {
    "duration": 79,
    "start_time": "2023-09-02T11:45:32.179Z"
   },
   {
    "duration": 1486,
    "start_time": "2023-09-02T11:45:47.111Z"
   },
   {
    "duration": 1642,
    "start_time": "2023-09-02T11:46:52.632Z"
   },
   {
    "duration": 2097,
    "start_time": "2023-09-02T11:47:45.144Z"
   },
   {
    "duration": 2084,
    "start_time": "2023-09-02T11:48:25.306Z"
   },
   {
    "duration": 2014,
    "start_time": "2023-09-02T11:49:53.064Z"
   },
   {
    "duration": 792,
    "start_time": "2023-09-02T11:51:56.395Z"
   },
   {
    "duration": 110,
    "start_time": "2023-09-02T11:53:50.098Z"
   },
   {
    "duration": 485,
    "start_time": "2023-09-02T11:53:57.924Z"
   },
   {
    "duration": 552,
    "start_time": "2023-09-02T11:54:06.639Z"
   },
   {
    "duration": 4,
    "start_time": "2023-09-02T12:02:23.634Z"
   },
   {
    "duration": 114,
    "start_time": "2023-09-02T12:03:07.140Z"
   },
   {
    "duration": 5,
    "start_time": "2023-09-02T12:03:14.232Z"
   },
   {
    "duration": 1862,
    "start_time": "2023-09-02T12:03:14.239Z"
   },
   {
    "duration": 734,
    "start_time": "2023-09-02T12:03:16.104Z"
   },
   {
    "duration": 27,
    "start_time": "2023-09-02T12:03:16.851Z"
   },
   {
    "duration": 11,
    "start_time": "2023-09-02T12:03:16.881Z"
   },
   {
    "duration": 18,
    "start_time": "2023-09-02T12:03:16.894Z"
   },
   {
    "duration": 57,
    "start_time": "2023-09-02T12:03:16.914Z"
   },
   {
    "duration": 9,
    "start_time": "2023-09-02T12:03:16.973Z"
   },
   {
    "duration": 119,
    "start_time": "2023-09-02T12:03:16.984Z"
   },
   {
    "duration": 2315,
    "start_time": "2023-09-02T12:03:17.105Z"
   },
   {
    "duration": 517,
    "start_time": "2023-09-02T12:03:19.423Z"
   },
   {
    "duration": 16,
    "start_time": "2023-09-02T12:03:19.942Z"
   },
   {
    "duration": 37,
    "start_time": "2023-09-02T12:03:19.967Z"
   },
   {
    "duration": 496,
    "start_time": "2023-09-02T12:03:20.005Z"
   },
   {
    "duration": 1372,
    "start_time": "2023-09-02T12:03:20.503Z"
   },
   {
    "duration": 7,
    "start_time": "2023-09-02T12:03:21.877Z"
   },
   {
    "duration": 23,
    "start_time": "2023-09-02T12:03:21.886Z"
   },
   {
    "duration": 5,
    "start_time": "2023-09-02T12:03:21.911Z"
   },
   {
    "duration": 28,
    "start_time": "2023-09-02T12:03:21.917Z"
   },
   {
    "duration": 8,
    "start_time": "2023-09-02T12:03:21.955Z"
   },
   {
    "duration": 11,
    "start_time": "2023-09-02T12:03:21.965Z"
   },
   {
    "duration": 9,
    "start_time": "2023-09-02T12:03:21.978Z"
   },
   {
    "duration": 5,
    "start_time": "2023-09-02T12:03:21.989Z"
   },
   {
    "duration": 13668,
    "start_time": "2023-09-02T12:03:21.996Z"
   },
   {
    "duration": 0,
    "start_time": "2023-09-02T12:03:35.670Z"
   },
   {
    "duration": 0,
    "start_time": "2023-09-02T12:03:35.675Z"
   },
   {
    "duration": 0,
    "start_time": "2023-09-02T12:03:35.679Z"
   },
   {
    "duration": 0,
    "start_time": "2023-09-02T12:03:35.680Z"
   },
   {
    "duration": 0,
    "start_time": "2023-09-02T12:03:35.682Z"
   },
   {
    "duration": 10791,
    "start_time": "2023-09-02T12:05:42.966Z"
   },
   {
    "duration": 19352,
    "start_time": "2023-09-02T12:06:19.100Z"
   },
   {
    "duration": 5,
    "start_time": "2023-09-02T12:06:51.948Z"
   },
   {
    "duration": 16992,
    "start_time": "2023-09-02T12:07:04.387Z"
   },
   {
    "duration": 44,
    "start_time": "2023-09-02T12:07:38.824Z"
   },
   {
    "duration": 5,
    "start_time": "2023-09-02T12:07:48.363Z"
   },
   {
    "duration": 677408,
    "start_time": "2023-09-02T12:07:58.072Z"
   },
   {
    "duration": 41,
    "start_time": "2023-09-02T12:24:48.471Z"
   },
   {
    "duration": 4088,
    "start_time": "2023-09-02T12:29:48.797Z"
   },
   {
    "duration": 4333,
    "start_time": "2023-09-02T12:35:01.979Z"
   },
   {
    "duration": 55,
    "start_time": "2023-09-02T12:36:30.778Z"
   },
   {
    "duration": 45,
    "start_time": "2023-09-02T12:37:23.020Z"
   },
   {
    "duration": 40,
    "start_time": "2023-09-02T12:37:42.895Z"
   },
   {
    "duration": 52,
    "start_time": "2023-09-02T12:38:42.628Z"
   },
   {
    "duration": 4,
    "start_time": "2023-09-02T12:43:37.909Z"
   },
   {
    "duration": 2070,
    "start_time": "2023-09-02T12:43:48.827Z"
   },
   {
    "duration": 1964,
    "start_time": "2023-09-02T12:43:50.900Z"
   },
   {
    "duration": 635,
    "start_time": "2023-09-02T12:43:52.866Z"
   },
   {
    "duration": 19,
    "start_time": "2023-09-02T12:43:53.504Z"
   },
   {
    "duration": 24,
    "start_time": "2023-09-02T12:43:53.525Z"
   },
   {
    "duration": 7,
    "start_time": "2023-09-02T12:43:53.561Z"
   },
   {
    "duration": 29,
    "start_time": "2023-09-02T12:43:53.570Z"
   },
   {
    "duration": 12,
    "start_time": "2023-09-02T12:43:53.600Z"
   },
   {
    "duration": 83,
    "start_time": "2023-09-02T12:43:53.614Z"
   },
   {
    "duration": 2006,
    "start_time": "2023-09-02T12:43:53.700Z"
   },
   {
    "duration": 432,
    "start_time": "2023-09-02T12:43:55.709Z"
   },
   {
    "duration": 22,
    "start_time": "2023-09-02T12:43:56.143Z"
   },
   {
    "duration": 19,
    "start_time": "2023-09-02T12:43:56.168Z"
   },
   {
    "duration": 682,
    "start_time": "2023-09-02T12:43:56.189Z"
   },
   {
    "duration": 1202,
    "start_time": "2023-09-02T12:43:56.873Z"
   },
   {
    "duration": 6,
    "start_time": "2023-09-02T12:43:58.077Z"
   },
   {
    "duration": 182,
    "start_time": "2023-09-02T12:43:58.084Z"
   },
   {
    "duration": 18,
    "start_time": "2023-09-02T12:43:58.267Z"
   },
   {
    "duration": 18,
    "start_time": "2023-09-02T12:43:58.291Z"
   },
   {
    "duration": 11,
    "start_time": "2023-09-02T12:43:58.310Z"
   },
   {
    "duration": 4,
    "start_time": "2023-09-02T12:43:58.322Z"
   },
   {
    "duration": 4,
    "start_time": "2023-09-02T12:43:58.327Z"
   },
   {
    "duration": 3,
    "start_time": "2023-09-02T12:43:58.333Z"
   },
   {
    "duration": 9623,
    "start_time": "2023-09-02T12:43:58.338Z"
   },
   {
    "duration": 19707,
    "start_time": "2023-09-02T12:44:07.963Z"
   },
   {
    "duration": 6,
    "start_time": "2023-09-02T12:44:27.752Z"
   },
   {
    "duration": 17486,
    "start_time": "2023-09-02T12:44:27.764Z"
   },
   {
    "duration": 128,
    "start_time": "2023-09-02T12:44:45.257Z"
   },
   {
    "duration": 4,
    "start_time": "2023-09-02T12:44:45.387Z"
   },
   {
    "duration": 20043,
    "start_time": "2023-09-02T12:44:45.393Z"
   },
   {
    "duration": 31,
    "start_time": "2023-09-02T12:45:05.438Z"
   },
   {
    "duration": 2,
    "start_time": "2023-09-02T12:45:05.470Z"
   },
   {
    "duration": 4055,
    "start_time": "2023-09-02T12:45:05.474Z"
   },
   {
    "duration": 45,
    "start_time": "2023-09-02T12:45:09.531Z"
   }
  ],
  "kernelspec": {
   "display_name": "Python 3 (ipykernel)",
   "language": "python",
   "name": "python3"
  },
  "language_info": {
   "codemirror_mode": {
    "name": "ipython",
    "version": 3
   },
   "file_extension": ".py",
   "mimetype": "text/x-python",
   "name": "python",
   "nbconvert_exporter": "python",
   "pygments_lexer": "ipython3",
   "version": "3.9.5"
  },
  "toc": {
   "base_numbering": 1,
   "nav_menu": {},
   "number_sections": true,
   "sideBar": true,
   "skip_h1_title": true,
   "title_cell": "Содержание",
   "title_sidebar": "Contents",
   "toc_cell": true,
   "toc_position": {},
   "toc_section_display": true,
   "toc_window_display": true
  }
 },
 "nbformat": 4,
 "nbformat_minor": 2
}
