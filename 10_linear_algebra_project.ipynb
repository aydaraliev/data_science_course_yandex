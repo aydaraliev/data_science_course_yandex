{
 "cells": [
  {
   "cell_type": "markdown",
   "metadata": {},
   "source": [
    "# Защита персональных данных клиентов"
   ]
  },
  {
   "cell_type": "markdown",
   "metadata": {},
   "source": [
    "Вам нужно защитить данные клиентов страховой компании «Хоть потоп». Разработайте такой метод преобразования данных, чтобы по ним было сложно восстановить персональную информацию. Обоснуйте корректность его работы.\n",
    "\n",
    "Нужно защитить данные, чтобы при преобразовании качество моделей машинного обучения не ухудшилось. Подбирать наилучшую модель не требуется."
   ]
  },
  {
   "cell_type": "code",
   "execution_count": 1,
   "metadata": {
    "ExecuteTime": {
     "end_time": "2024-02-20T18:23:39.197518635Z",
     "start_time": "2024-02-20T18:23:38.323018464Z"
    }
   },
   "outputs": [],
   "source": [
    "import pandas as pd\n",
    "import numpy as np\n",
    "from sklearn.model_selection import train_test_split\n",
    "from sklearn.linear_model import LinearRegression\n",
    "from sklearn.metrics import mean_squared_error, r2_score"
   ]
  },
  {
   "cell_type": "markdown",
   "metadata": {},
   "source": [
    "## Загрузка данных"
   ]
  },
  {
   "cell_type": "code",
   "execution_count": 2,
   "metadata": {
    "ExecuteTime": {
     "end_time": "2024-02-20T18:23:39.227997751Z",
     "start_time": "2024-02-20T18:23:39.199762450Z"
    }
   },
   "outputs": [],
   "source": [
    "try:\n",
    "    df = pd.read_csv('insurance.csv')\n",
    "except FileNotFoundError:\n",
    "    df = pd.read_csv('####')"
   ]
  },
  {
   "cell_type": "code",
   "execution_count": 3,
   "metadata": {
    "ExecuteTime": {
     "end_time": "2024-02-20T18:23:39.288367942Z",
     "start_time": "2024-02-20T18:23:39.234984664Z"
    }
   },
   "outputs": [
    {
     "name": "stdout",
     "output_type": "stream",
     "text": [
      "Строки, Столбцы в таблице (5000, 5)\n",
      "<class 'pandas.core.frame.DataFrame'>\n",
      "RangeIndex: 5000 entries, 0 to 4999\n",
      "Data columns (total 5 columns):\n",
      " #   Column             Non-Null Count  Dtype  \n",
      "---  ------             --------------  -----  \n",
      " 0   Пол                5000 non-null   int64  \n",
      " 1   Возраст            5000 non-null   float64\n",
      " 2   Зарплата           5000 non-null   float64\n",
      " 3   Члены семьи        5000 non-null   int64  \n",
      " 4   Страховые выплаты  5000 non-null   int64  \n",
      "dtypes: float64(2), int64(3)\n",
      "memory usage: 195.4 KB\n"
     ]
    },
    {
     "data": {
      "text/plain": "None"
     },
     "metadata": {},
     "output_type": "display_data"
    },
    {
     "data": {
      "text/plain": "               Пол      Возраст      Зарплата  Члены семьи  Страховые выплаты\ncount  5000.000000  5000.000000   5000.000000  5000.000000        5000.000000\nmean      0.499000    30.952800  39916.360000     1.194200           0.148000\nstd       0.500049     8.440807   9900.083569     1.091387           0.463183\nmin       0.000000    18.000000   5300.000000     0.000000           0.000000\n25%       0.000000    24.000000  33300.000000     0.000000           0.000000\n50%       0.000000    30.000000  40200.000000     1.000000           0.000000\n75%       1.000000    37.000000  46600.000000     2.000000           0.000000\nmax       1.000000    65.000000  79000.000000     6.000000           5.000000",
      "text/html": "<div>\n<style scoped>\n    .dataframe tbody tr th:only-of-type {\n        vertical-align: middle;\n    }\n\n    .dataframe tbody tr th {\n        vertical-align: top;\n    }\n\n    .dataframe thead th {\n        text-align: right;\n    }\n</style>\n<table border=\"1\" class=\"dataframe\">\n  <thead>\n    <tr style=\"text-align: right;\">\n      <th></th>\n      <th>Пол</th>\n      <th>Возраст</th>\n      <th>Зарплата</th>\n      <th>Члены семьи</th>\n      <th>Страховые выплаты</th>\n    </tr>\n  </thead>\n  <tbody>\n    <tr>\n      <th>count</th>\n      <td>5000.000000</td>\n      <td>5000.000000</td>\n      <td>5000.000000</td>\n      <td>5000.000000</td>\n      <td>5000.000000</td>\n    </tr>\n    <tr>\n      <th>mean</th>\n      <td>0.499000</td>\n      <td>30.952800</td>\n      <td>39916.360000</td>\n      <td>1.194200</td>\n      <td>0.148000</td>\n    </tr>\n    <tr>\n      <th>std</th>\n      <td>0.500049</td>\n      <td>8.440807</td>\n      <td>9900.083569</td>\n      <td>1.091387</td>\n      <td>0.463183</td>\n    </tr>\n    <tr>\n      <th>min</th>\n      <td>0.000000</td>\n      <td>18.000000</td>\n      <td>5300.000000</td>\n      <td>0.000000</td>\n      <td>0.000000</td>\n    </tr>\n    <tr>\n      <th>25%</th>\n      <td>0.000000</td>\n      <td>24.000000</td>\n      <td>33300.000000</td>\n      <td>0.000000</td>\n      <td>0.000000</td>\n    </tr>\n    <tr>\n      <th>50%</th>\n      <td>0.000000</td>\n      <td>30.000000</td>\n      <td>40200.000000</td>\n      <td>1.000000</td>\n      <td>0.000000</td>\n    </tr>\n    <tr>\n      <th>75%</th>\n      <td>1.000000</td>\n      <td>37.000000</td>\n      <td>46600.000000</td>\n      <td>2.000000</td>\n      <td>0.000000</td>\n    </tr>\n    <tr>\n      <th>max</th>\n      <td>1.000000</td>\n      <td>65.000000</td>\n      <td>79000.000000</td>\n      <td>6.000000</td>\n      <td>5.000000</td>\n    </tr>\n  </tbody>\n</table>\n</div>"
     },
     "metadata": {},
     "output_type": "display_data"
    },
    {
     "data": {
      "text/plain": "   Пол  Возраст  Зарплата  Члены семьи  Страховые выплаты\n0    1     41.0   49600.0            1                  0\n1    0     46.0   38000.0            1                  1\n2    0     29.0   21000.0            0                  0\n3    0     21.0   41700.0            2                  0\n4    1     28.0   26100.0            0                  0",
      "text/html": "<div>\n<style scoped>\n    .dataframe tbody tr th:only-of-type {\n        vertical-align: middle;\n    }\n\n    .dataframe tbody tr th {\n        vertical-align: top;\n    }\n\n    .dataframe thead th {\n        text-align: right;\n    }\n</style>\n<table border=\"1\" class=\"dataframe\">\n  <thead>\n    <tr style=\"text-align: right;\">\n      <th></th>\n      <th>Пол</th>\n      <th>Возраст</th>\n      <th>Зарплата</th>\n      <th>Члены семьи</th>\n      <th>Страховые выплаты</th>\n    </tr>\n  </thead>\n  <tbody>\n    <tr>\n      <th>0</th>\n      <td>1</td>\n      <td>41.0</td>\n      <td>49600.0</td>\n      <td>1</td>\n      <td>0</td>\n    </tr>\n    <tr>\n      <th>1</th>\n      <td>0</td>\n      <td>46.0</td>\n      <td>38000.0</td>\n      <td>1</td>\n      <td>1</td>\n    </tr>\n    <tr>\n      <th>2</th>\n      <td>0</td>\n      <td>29.0</td>\n      <td>21000.0</td>\n      <td>0</td>\n      <td>0</td>\n    </tr>\n    <tr>\n      <th>3</th>\n      <td>0</td>\n      <td>21.0</td>\n      <td>41700.0</td>\n      <td>2</td>\n      <td>0</td>\n    </tr>\n    <tr>\n      <th>4</th>\n      <td>1</td>\n      <td>28.0</td>\n      <td>26100.0</td>\n      <td>0</td>\n      <td>0</td>\n    </tr>\n  </tbody>\n</table>\n</div>"
     },
     "execution_count": 3,
     "metadata": {},
     "output_type": "execute_result"
    }
   ],
   "source": [
    "print('Строки, Столбцы в таблице', df.shape)\n",
    "display(df.info())\n",
    "display(df.describe())\n",
    "df.head()"
   ]
  },
  {
   "cell_type": "markdown",
   "metadata": {},
   "source": [
    "Обзор данных показал что пропущенных значений нет, всего в данных 5 столбцов, 1 из них целевой. Данные сильно различаются по шкалам, но поскольку в линейной регрессии мы будем использовать метод наименьших квадратов, то шкалирование не потребуется."
   ]
  },
  {
   "cell_type": "markdown",
   "metadata": {},
   "source": [
    "## Умножение матриц"
   ]
  },
  {
   "cell_type": "markdown",
   "metadata": {},
   "source": [
    "В этом задании вы можете записывать формулы в *Jupyter Notebook.*\n",
    "\n",
    "Чтобы записать формулу внутри текста, окружите её символами доллара \\\\$; если снаружи —  двойными символами \\\\$\\\\$. Эти формулы записываются на языке вёрстки *LaTeX.* \n",
    "\n",
    "Для примера мы записали формулы линейной регрессии. Можете их скопировать и отредактировать, чтобы решить задачу.\n",
    "\n",
    "Работать в *LaTeX* необязательно."
   ]
  },
  {
   "cell_type": "markdown",
   "metadata": {},
   "source": [
    "Обозначения:\n",
    "\n",
    "- $X$ — матрица признаков (нулевой столбец состоит из единиц)\n",
    "\n",
    "- $y$ — вектор целевого признака\n",
    "\n",
    "- $P$ — матрица, на которую умножаются признаки\n",
    "\n",
    "- $w$ — вектор весов линейной регрессии (нулевой элемент равен сдвигу)"
   ]
  },
  {
   "cell_type": "markdown",
   "metadata": {},
   "source": [
    "Предсказания:\n",
    "\n",
    "$$\n",
    "a = Xw\n",
    "$$\n",
    "\n",
    "Задача обучения:\n",
    "\n",
    "$$\n",
    "w = \\arg\\min_w MSE(Xw, y)\n",
    "$$\n",
    "\n",
    "Формула обучения:\n",
    "\n",
    "$$\n",
    "w = (X^T X)^{-1} X^T y\n",
    "$$"
   ]
  },
  {
   "cell_type": "markdown",
   "metadata": {},
   "source": [
    "**Вопрос:** Признаки умножают на обратимую матрицу. Изменится ли качество линейной регрессии? \n",
    "\n",
    "**Ответ:** Нет, не изменится.\n",
    "\n",
    "**Обоснование:** Поскольку обратимая матрица по определению является линейно независимой то умножение на неё это просто замена основания или, другими словами, замена системы координат. Так как алгоритм линейной регрессии это система алгебраических преобразований ему без разницы в какой системе координат работать и он будет(и должен) выдавать один и тот же результат вне зависимости от системы координат. Докажем это математически.\n",
    "\n",
    "\n",
    "Задача обучения стоит в том что-бы подобрать минимальное значение ошибки для вектора с весами $w$\n",
    "\n",
    "$$\n",
    "w = \\arg\\min_w MSE(Xw, y)\n",
    "$$\n",
    "\n",
    "Перемножим матрицу X на обратимую матрицу $P$ и вектор с весами $w_p$\n",
    "\n",
    "$$\n",
    "w_P = \\arg\\min_w MSE(XPw_p, y)\n",
    "$$\n",
    "\n",
    "Сделаем замену вектора $w_p$\n",
    "\n",
    "$$\n",
    "w_p = P^{-1}w\n",
    "$$\n",
    "\n",
    "После замены произведение $PP^{-1} = I$, где $I$ единичная матрица. \n",
    "\n",
    "$$\n",
    "w_P = \\arg\\min_w MSE(XPP^{-1}w, y)\n",
    "$$\n",
    "\n",
    "Поскольку умножение единичной матрицы на любую другую эквивалентно умножению на 1, мы возвращаемся к первоначальной задаче.\n",
    "\n",
    "$$\n",
    "w = \\arg\\min_w MSE(Xw, y)\n",
    "$$\n",
    "\n",
    "\n",
    "Таким образом задачи обучения модели на данных матрицы и матрицы умноженной на обратимую матрицу равны.\n",
    "\n",
    "$$\n",
    "\\arg\\min_w MSE(XPw_p, y) = \\arg\\min_w MSE(Xw, y)\n",
    "$$\n",
    "\n",
    "Что и требовалось доказать."
   ]
  },
  {
   "cell_type": "markdown",
   "metadata": {},
   "source": [
    "## Алгоритм преобразования"
   ]
  },
  {
   "cell_type": "markdown",
   "metadata": {},
   "source": [
    "**Алгоритм**\n",
    "\n",
    "1. Генерируем квадратную матрицу из случайных чисел размерностью 4x4.\n",
    "2. Если матрица обратима то переходим к шагу 3, в другом случае возвращаемся к шагу 1.\n",
    "3. Умножаем нашу матрицу на сгенерированную матрицу.\n",
    "4. Получаем зашифрованный датасет."
   ]
  },
  {
   "cell_type": "markdown",
   "metadata": {},
   "source": [
    "**Обоснование**\n",
    "\n",
    "Предположим у нас есть матрица $C$ полученная в результате умножения матрицы $A$ на обратимую матрицу $B$\n",
    "$$AB = C$$\n",
    "Для того что-бы найти исходную матрицу $A$ надо перемножить матрицу $C$ на матрицу обратную $B$\n",
    "$$A=CB^{-1}$$\n",
    "Таким образом не зная матрицу $B$ злоумышленник не сможет расшифровать данные."
   ]
  },
  {
   "cell_type": "markdown",
   "metadata": {},
   "source": [
    "## Проверка алгоритма"
   ]
  },
  {
   "cell_type": "code",
   "execution_count": 4,
   "metadata": {
    "ExecuteTime": {
     "end_time": "2024-02-20T18:23:39.436394630Z",
     "start_time": "2024-02-20T18:23:39.290793734Z"
    }
   },
   "outputs": [
    {
     "name": "stdout",
     "output_type": "stream",
     "text": [
      "Matrix is invertible.\n",
      "Metrics for Original Data:\n",
      "Mean Squared Error (MSE): 0.11295344568601182\n",
      "R-squared (R2): 0.39635501640126425\n",
      "\n",
      "Metrics for Transformed Data:\n",
      "Mean Squared Error (MSE): 0.11295344568611543\n",
      "R-squared (R2): 0.3963550164007106\n"
     ]
    }
   ],
   "source": [
    "np.random.seed(500)\n",
    "\n",
    "def generate_invert_matrix(size_tuple: tuple):\n",
    "    # Зашифруем матрицу\n",
    "    matrix_size = size_tuple[1]\n",
    "    random_matrix = np.random.random((matrix_size, matrix_size))\n",
    "    # Добавим единичную матрицу для того что-бы детерминанта не была равна 0\n",
    "    invertible_matrix = random_matrix + 0.1 * np.eye(matrix_size)\n",
    "    # Подтвердим что матрица обратима(перестраховка)\n",
    "    if np.linalg.matrix_rank(invertible_matrix) == matrix_size:\n",
    "        print(\"Matrix is invertible.\")\n",
    "        return invertible_matrix\n",
    "    else:\n",
    "        print(\"Matrix is not invertible.\")\n",
    "        return False\n",
    "\n",
    "# Подготовим данные\n",
    "X = df.drop('Страховые выплаты', axis=1)\n",
    "y = df['Страховые выплаты']\n",
    "X_train, X_test, y_train, y_test = train_test_split(X, y, test_size=0.2, random_state=500)\n",
    "\n",
    "while True:\n",
    "    invertible_matrix = generate_invert_matrix(X.shape)\n",
    "    if invertible_matrix is not False:\n",
    "        break\n",
    "\n",
    "\n",
    "X_transformed = df.drop('Страховые выплаты', axis=1)\n",
    "# Зашифруем данные\n",
    "X_transformed = X_transformed.dot(invertible_matrix)\n",
    "y_transformed = df['Страховые выплаты']\n",
    "X_train_t, X_test_t, y_train_t, y_test_t = train_test_split(\n",
    "    X_transformed, y_transformed, test_size=0.2, random_state=500\n",
    ")\n",
    "\n",
    "# Натренируем линейную регрессию на оригинальных данных\n",
    "model_original = LinearRegression()\n",
    "model_original.fit(X_train, y_train)\n",
    "Y_pred_original = model_original.predict(X_test)\n",
    "# \n",
    "# Натренируем линейную регрессию на трансформированных данных\n",
    "model_transformed = LinearRegression()\n",
    "model_transformed.fit(X_train_t, y_train_t)\n",
    "Y_pred_transformed = model_transformed.predict(X_test_t)\n",
    "# \n",
    "# Оценим модели\n",
    "mse_original = mean_squared_error(y_test, Y_pred_original)\n",
    "r2_original = r2_score(y_test, Y_pred_original)\n",
    "mse_transformed = mean_squared_error(y_test_t, Y_pred_transformed)\n",
    "r2_transformed = r2_score(y_test_t, Y_pred_transformed)\n",
    "\n",
    "print(\"Metrics for Original Data:\")\n",
    "print(\"Mean Squared Error (MSE):\", mse_original)\n",
    "print(\"R-squared (R2):\", r2_original)\n",
    "\n",
    "print(\"\\nMetrics for Transformed Data:\")\n",
    "print(\"Mean Squared Error (MSE):\", mse_transformed)\n",
    "print(\"R-squared (R2):\", r2_transformed)"
   ]
  },
  {
   "cell_type": "markdown",
   "metadata": {},
   "source": [
    "__Вывод__:\n",
    "Теоретические рассуждения подтвердились, результат действительно один и тот же. Важный момент в том что трансформировать необходимо только независимые признаки, если трансформировать всё вместе то результат получается разный. Это происходит потому что трансформация целевого признака меняет решаюмую задачу."
   ]
  }
 ],
 "metadata": {
  "ExecuteTimeLog": [
   {
    "duration": 2856,
    "start_time": "2023-10-06T05:52:27.570Z"
   },
   {
    "duration": 141,
    "start_time": "2023-10-06T05:52:30.427Z"
   },
   {
    "duration": 44,
    "start_time": "2023-10-06T05:52:30.570Z"
   },
   {
    "duration": 50,
    "start_time": "2023-10-06T05:52:30.615Z"
   },
   {
    "duration": 48,
    "start_time": "2023-10-06T19:32:48.259Z"
   },
   {
    "duration": 1156,
    "start_time": "2023-10-06T19:32:57.436Z"
   },
   {
    "duration": 140,
    "start_time": "2023-10-06T19:32:58.594Z"
   },
   {
    "duration": 56,
    "start_time": "2023-10-06T19:32:58.735Z"
   },
   {
    "duration": 25,
    "start_time": "2023-10-06T19:33:02.658Z"
   },
   {
    "duration": 2,
    "start_time": "2023-10-06T19:38:24.882Z"
   },
   {
    "duration": 96,
    "start_time": "2023-10-06T19:38:24.887Z"
   },
   {
    "duration": 36,
    "start_time": "2023-10-06T19:38:24.986Z"
   },
   {
    "duration": 24,
    "start_time": "2023-10-06T19:38:25.024Z"
   }
  ],
  "kernelspec": {
   "display_name": "Python 3 (ipykernel)",
   "language": "python",
   "name": "python3"
  },
  "language_info": {
   "codemirror_mode": {
    "name": "ipython",
    "version": 3
   },
   "file_extension": ".py",
   "mimetype": "text/x-python",
   "name": "python",
   "nbconvert_exporter": "python",
   "pygments_lexer": "ipython3",
   "version": "3.9.5"
  },
  "toc": {
   "base_numbering": 1,
   "nav_menu": {},
   "number_sections": true,
   "sideBar": true,
   "skip_h1_title": true,
   "title_cell": "Содержание",
   "title_sidebar": "Contents",
   "toc_cell": true,
   "toc_position": {},
   "toc_section_display": true,
   "toc_window_display": false
  }
 },
 "nbformat": 4,
 "nbformat_minor": 2
}
