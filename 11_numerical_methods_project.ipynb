{
 "cells": [
  {
   "cell_type": "markdown",
   "metadata": {},
   "source": [
    "# Определение стоимости автомобилей"
   ]
  },
  {
   "cell_type": "markdown",
   "metadata": {},
   "source": [
    "Сервис по продаже автомобилей с пробегом «Не бит, не крашен» разрабатывает приложение для привлечения новых клиентов. В нём можно быстро узнать рыночную стоимость своего автомобиля. В вашем распоряжении исторические данные: технические характеристики, комплектации и цены автомобилей. Вам нужно построить модель для определения стоимости. \n",
    "\n",
    "Заказчику важны:\n",
    "\n",
    "- качество предсказания;\n",
    "- скорость предсказания;\n",
    "- время обучения."
   ]
  },
  {
   "cell_type": "markdown",
   "metadata": {},
   "source": [
    "## Подготовка данных"
   ]
  },
  {
   "cell_type": "code",
   "execution_count": 1,
   "metadata": {
    "ExecuteTime": {
     "end_time": "2024-02-20T18:24:37.440739375Z",
     "start_time": "2024-02-20T18:24:37.357129730Z"
    }
   },
   "outputs": [],
   "source": [
    "# !pip install category_encoders -q\n",
    "# !pip install catboost -q"
   ]
  },
  {
   "cell_type": "code",
   "execution_count": 2,
   "metadata": {
    "ExecuteTime": {
     "end_time": "2024-02-20T18:24:40.446744280Z",
     "start_time": "2024-02-20T18:24:37.457071037Z"
    }
   },
   "outputs": [],
   "source": [
    "import warnings\n",
    "from pprint import pprint\n",
    "import time\n",
    "import pandas as pd\n",
    "import numpy as np\n",
    "import matplotlib.pyplot as plt\n",
    "import category_encoders as ce\n",
    "from sklearn.compose import ColumnTransformer\n",
    "from sklearn.impute import SimpleImputer\n",
    "from sklearn.impute import KNNImputer\n",
    "from sklearn.preprocessing import StandardScaler\n",
    "from sklearn.ensemble import RandomForestRegressor\n",
    "from sklearn.model_selection import GridSearchCV, train_test_split\n",
    "from sklearn.metrics import mean_squared_error\n",
    "from sklearn.base import BaseEstimator, RegressorMixin\n",
    "import lightgbm as lgb\n",
    "import catboost as cb"
   ]
  },
  {
   "cell_type": "code",
   "outputs": [],
   "source": [
    "warnings.filterwarnings('ignore', category=FutureWarning)"
   ],
   "metadata": {
    "collapsed": false,
    "ExecuteTime": {
     "end_time": "2024-02-20T18:24:40.539279538Z",
     "start_time": "2024-02-20T18:24:40.404020063Z"
    }
   },
   "execution_count": 3
  },
  {
   "cell_type": "code",
   "execution_count": 4,
   "metadata": {
    "ExecuteTime": {
     "end_time": "2024-02-20T18:24:42.479974186Z",
     "start_time": "2024-02-20T18:24:40.425329108Z"
    }
   },
   "outputs": [],
   "source": [
    "try:\n",
    "    df = pd.read_csv('autos.csv')\n",
    "except FileNotFoundError:\n",
    "    df = pd.read_csv('####')"
   ]
  },
  {
   "cell_type": "code",
   "execution_count": 5,
   "metadata": {
    "ExecuteTime": {
     "end_time": "2024-02-20T18:24:42.878284891Z",
     "start_time": "2024-02-20T18:24:42.488255387Z"
    }
   },
   "outputs": [
    {
     "data": {
      "text/plain": "(354369, 16)"
     },
     "metadata": {},
     "output_type": "display_data"
    },
    {
     "name": "stdout",
     "output_type": "stream",
     "text": [
      "<class 'pandas.core.frame.DataFrame'>\n",
      "RangeIndex: 354369 entries, 0 to 354368\n",
      "Data columns (total 16 columns):\n",
      " #   Column             Non-Null Count   Dtype \n",
      "---  ------             --------------   ----- \n",
      " 0   DateCrawled        354369 non-null  object\n",
      " 1   Price              354369 non-null  int64 \n",
      " 2   VehicleType        316879 non-null  object\n",
      " 3   RegistrationYear   354369 non-null  int64 \n",
      " 4   Gearbox            334536 non-null  object\n",
      " 5   Power              354369 non-null  int64 \n",
      " 6   Model              334664 non-null  object\n",
      " 7   Kilometer          354369 non-null  int64 \n",
      " 8   RegistrationMonth  354369 non-null  int64 \n",
      " 9   FuelType           321474 non-null  object\n",
      " 10  Brand              354369 non-null  object\n",
      " 11  Repaired           283215 non-null  object\n",
      " 12  DateCreated        354369 non-null  object\n",
      " 13  NumberOfPictures   354369 non-null  int64 \n",
      " 14  PostalCode         354369 non-null  int64 \n",
      " 15  LastSeen           354369 non-null  object\n",
      "dtypes: int64(7), object(9)\n",
      "memory usage: 43.3+ MB\n"
     ]
    },
    {
     "data": {
      "text/plain": "None"
     },
     "metadata": {},
     "output_type": "display_data"
    },
    {
     "data": {
      "text/plain": "               Price  RegistrationYear          Power      Kilometer  \\\ncount  354369.000000     354369.000000  354369.000000  354369.000000   \nmean     4416.656776       2004.234448     110.094337  128211.172535   \nstd      4514.158514         90.227958     189.850405   37905.341530   \nmin         0.000000       1000.000000       0.000000    5000.000000   \n25%      1050.000000       1999.000000      69.000000  125000.000000   \n50%      2700.000000       2003.000000     105.000000  150000.000000   \n75%      6400.000000       2008.000000     143.000000  150000.000000   \nmax     20000.000000       9999.000000   20000.000000  150000.000000   \n\n       RegistrationMonth  NumberOfPictures     PostalCode  \ncount      354369.000000          354369.0  354369.000000  \nmean            5.714645               0.0   50508.689087  \nstd             3.726421               0.0   25783.096248  \nmin             0.000000               0.0    1067.000000  \n25%             3.000000               0.0   30165.000000  \n50%             6.000000               0.0   49413.000000  \n75%             9.000000               0.0   71083.000000  \nmax            12.000000               0.0   99998.000000  ",
      "text/html": "<div>\n<style scoped>\n    .dataframe tbody tr th:only-of-type {\n        vertical-align: middle;\n    }\n\n    .dataframe tbody tr th {\n        vertical-align: top;\n    }\n\n    .dataframe thead th {\n        text-align: right;\n    }\n</style>\n<table border=\"1\" class=\"dataframe\">\n  <thead>\n    <tr style=\"text-align: right;\">\n      <th></th>\n      <th>Price</th>\n      <th>RegistrationYear</th>\n      <th>Power</th>\n      <th>Kilometer</th>\n      <th>RegistrationMonth</th>\n      <th>NumberOfPictures</th>\n      <th>PostalCode</th>\n    </tr>\n  </thead>\n  <tbody>\n    <tr>\n      <th>count</th>\n      <td>354369.000000</td>\n      <td>354369.000000</td>\n      <td>354369.000000</td>\n      <td>354369.000000</td>\n      <td>354369.000000</td>\n      <td>354369.0</td>\n      <td>354369.000000</td>\n    </tr>\n    <tr>\n      <th>mean</th>\n      <td>4416.656776</td>\n      <td>2004.234448</td>\n      <td>110.094337</td>\n      <td>128211.172535</td>\n      <td>5.714645</td>\n      <td>0.0</td>\n      <td>50508.689087</td>\n    </tr>\n    <tr>\n      <th>std</th>\n      <td>4514.158514</td>\n      <td>90.227958</td>\n      <td>189.850405</td>\n      <td>37905.341530</td>\n      <td>3.726421</td>\n      <td>0.0</td>\n      <td>25783.096248</td>\n    </tr>\n    <tr>\n      <th>min</th>\n      <td>0.000000</td>\n      <td>1000.000000</td>\n      <td>0.000000</td>\n      <td>5000.000000</td>\n      <td>0.000000</td>\n      <td>0.0</td>\n      <td>1067.000000</td>\n    </tr>\n    <tr>\n      <th>25%</th>\n      <td>1050.000000</td>\n      <td>1999.000000</td>\n      <td>69.000000</td>\n      <td>125000.000000</td>\n      <td>3.000000</td>\n      <td>0.0</td>\n      <td>30165.000000</td>\n    </tr>\n    <tr>\n      <th>50%</th>\n      <td>2700.000000</td>\n      <td>2003.000000</td>\n      <td>105.000000</td>\n      <td>150000.000000</td>\n      <td>6.000000</td>\n      <td>0.0</td>\n      <td>49413.000000</td>\n    </tr>\n    <tr>\n      <th>75%</th>\n      <td>6400.000000</td>\n      <td>2008.000000</td>\n      <td>143.000000</td>\n      <td>150000.000000</td>\n      <td>9.000000</td>\n      <td>0.0</td>\n      <td>71083.000000</td>\n    </tr>\n    <tr>\n      <th>max</th>\n      <td>20000.000000</td>\n      <td>9999.000000</td>\n      <td>20000.000000</td>\n      <td>150000.000000</td>\n      <td>12.000000</td>\n      <td>0.0</td>\n      <td>99998.000000</td>\n    </tr>\n  </tbody>\n</table>\n</div>"
     },
     "metadata": {},
     "output_type": "display_data"
    },
    {
     "data": {
      "text/plain": "           DateCrawled  Price VehicleType  RegistrationYear Gearbox  Power  \\\n0  2016-03-24 11:52:17    480         NaN              1993  manual      0   \n1  2016-03-24 10:58:45  18300       coupe              2011  manual    190   \n2  2016-03-14 12:52:21   9800         suv              2004    auto    163   \n3  2016-03-17 16:54:04   1500       small              2001  manual     75   \n4  2016-03-31 17:25:20   3600       small              2008  manual     69   \n\n   Model  Kilometer  RegistrationMonth  FuelType       Brand Repaired  \\\n0   golf     150000                  0    petrol  volkswagen      NaN   \n1    NaN     125000                  5  gasoline        audi      yes   \n2  grand     125000                  8  gasoline        jeep      NaN   \n3   golf     150000                  6    petrol  volkswagen       no   \n4  fabia      90000                  7  gasoline       skoda       no   \n\n           DateCreated  NumberOfPictures  PostalCode             LastSeen  \n0  2016-03-24 00:00:00                 0       70435  2016-04-07 03:16:57  \n1  2016-03-24 00:00:00                 0       66954  2016-04-07 01:46:50  \n2  2016-03-14 00:00:00                 0       90480  2016-04-05 12:47:46  \n3  2016-03-17 00:00:00                 0       91074  2016-03-17 17:40:17  \n4  2016-03-31 00:00:00                 0       60437  2016-04-06 10:17:21  ",
      "text/html": "<div>\n<style scoped>\n    .dataframe tbody tr th:only-of-type {\n        vertical-align: middle;\n    }\n\n    .dataframe tbody tr th {\n        vertical-align: top;\n    }\n\n    .dataframe thead th {\n        text-align: right;\n    }\n</style>\n<table border=\"1\" class=\"dataframe\">\n  <thead>\n    <tr style=\"text-align: right;\">\n      <th></th>\n      <th>DateCrawled</th>\n      <th>Price</th>\n      <th>VehicleType</th>\n      <th>RegistrationYear</th>\n      <th>Gearbox</th>\n      <th>Power</th>\n      <th>Model</th>\n      <th>Kilometer</th>\n      <th>RegistrationMonth</th>\n      <th>FuelType</th>\n      <th>Brand</th>\n      <th>Repaired</th>\n      <th>DateCreated</th>\n      <th>NumberOfPictures</th>\n      <th>PostalCode</th>\n      <th>LastSeen</th>\n    </tr>\n  </thead>\n  <tbody>\n    <tr>\n      <th>0</th>\n      <td>2016-03-24 11:52:17</td>\n      <td>480</td>\n      <td>NaN</td>\n      <td>1993</td>\n      <td>manual</td>\n      <td>0</td>\n      <td>golf</td>\n      <td>150000</td>\n      <td>0</td>\n      <td>petrol</td>\n      <td>volkswagen</td>\n      <td>NaN</td>\n      <td>2016-03-24 00:00:00</td>\n      <td>0</td>\n      <td>70435</td>\n      <td>2016-04-07 03:16:57</td>\n    </tr>\n    <tr>\n      <th>1</th>\n      <td>2016-03-24 10:58:45</td>\n      <td>18300</td>\n      <td>coupe</td>\n      <td>2011</td>\n      <td>manual</td>\n      <td>190</td>\n      <td>NaN</td>\n      <td>125000</td>\n      <td>5</td>\n      <td>gasoline</td>\n      <td>audi</td>\n      <td>yes</td>\n      <td>2016-03-24 00:00:00</td>\n      <td>0</td>\n      <td>66954</td>\n      <td>2016-04-07 01:46:50</td>\n    </tr>\n    <tr>\n      <th>2</th>\n      <td>2016-03-14 12:52:21</td>\n      <td>9800</td>\n      <td>suv</td>\n      <td>2004</td>\n      <td>auto</td>\n      <td>163</td>\n      <td>grand</td>\n      <td>125000</td>\n      <td>8</td>\n      <td>gasoline</td>\n      <td>jeep</td>\n      <td>NaN</td>\n      <td>2016-03-14 00:00:00</td>\n      <td>0</td>\n      <td>90480</td>\n      <td>2016-04-05 12:47:46</td>\n    </tr>\n    <tr>\n      <th>3</th>\n      <td>2016-03-17 16:54:04</td>\n      <td>1500</td>\n      <td>small</td>\n      <td>2001</td>\n      <td>manual</td>\n      <td>75</td>\n      <td>golf</td>\n      <td>150000</td>\n      <td>6</td>\n      <td>petrol</td>\n      <td>volkswagen</td>\n      <td>no</td>\n      <td>2016-03-17 00:00:00</td>\n      <td>0</td>\n      <td>91074</td>\n      <td>2016-03-17 17:40:17</td>\n    </tr>\n    <tr>\n      <th>4</th>\n      <td>2016-03-31 17:25:20</td>\n      <td>3600</td>\n      <td>small</td>\n      <td>2008</td>\n      <td>manual</td>\n      <td>69</td>\n      <td>fabia</td>\n      <td>90000</td>\n      <td>7</td>\n      <td>gasoline</td>\n      <td>skoda</td>\n      <td>no</td>\n      <td>2016-03-31 00:00:00</td>\n      <td>0</td>\n      <td>60437</td>\n      <td>2016-04-06 10:17:21</td>\n    </tr>\n  </tbody>\n</table>\n</div>"
     },
     "execution_count": 5,
     "metadata": {},
     "output_type": "execute_result"
    }
   ],
   "source": [
    "display(df.shape)\n",
    "display(df.info())\n",
    "display(df.describe())\n",
    "df.head()"
   ]
  },
  {
   "cell_type": "markdown",
   "metadata": {},
   "source": [
    "В таблице есть столбцы с пропущенными значениями. Найдем эти столбцы."
   ]
  },
  {
   "cell_type": "code",
   "execution_count": 6,
   "metadata": {
    "ExecuteTime": {
     "end_time": "2024-02-20T18:24:43.676674153Z",
     "start_time": "2024-02-20T18:24:42.829078685Z"
    }
   },
   "outputs": [
    {
     "data": {
      "text/plain": "DateCrawled              0\nPrice                    0\nVehicleType          37490\nRegistrationYear         0\nGearbox              19833\nPower                    0\nModel                19705\nKilometer                0\nRegistrationMonth        0\nFuelType             32895\nBrand                    0\nRepaired             71154\nDateCreated              0\nNumberOfPictures         0\nPostalCode               0\nLastSeen                 0\ndtype: int64"
     },
     "execution_count": 6,
     "metadata": {},
     "output_type": "execute_result"
    }
   ],
   "source": [
    "df.isna().sum()"
   ]
  },
  {
   "cell_type": "markdown",
   "metadata": {},
   "source": [
    "Посмотрим можно ли заполнить пропущенные значения по столбцам."
   ]
  },
  {
   "cell_type": "code",
   "execution_count": 7,
   "metadata": {
    "ExecuteTime": {
     "end_time": "2024-02-20T18:24:45.767494264Z",
     "start_time": "2024-02-20T18:24:43.341401482Z"
    }
   },
   "outputs": [
    {
     "data": {
      "text/plain": "                DateCrawled  Price VehicleType  RegistrationYear Gearbox  \\\n0       2016-03-24 11:52:17    480         NaN              1993  manual   \n16      2016-04-01 12:46:46    300         NaN              2016     NaN   \n22      2016-03-23 14:52:51   2900         NaN              2018  manual   \n26      2016-03-10 19:38:18   5555         NaN              2017  manual   \n31      2016-03-29 16:57:02    899         NaN              2016  manual   \n...                     ...    ...         ...               ...     ...   \n354346  2016-03-07 17:06:35   2600         NaN              2005    auto   \n354351  2016-03-11 23:40:32   1900         NaN              2000  manual   \n354361  2016-03-09 13:37:43   5250         NaN              2016    auto   \n354364  2016-03-21 09:50:58      0         NaN              2005  manual   \n354365  2016-03-14 17:48:27   2200         NaN              2005     NaN   \n\n        Power     Model  Kilometer  RegistrationMonth FuelType  \\\n0           0      golf     150000                  0   petrol   \n16         60      polo     150000                  0   petrol   \n22         90    meriva     150000                  5   petrol   \n26        125        c4     125000                  4      NaN   \n31         60      clio     150000                  6   petrol   \n...       ...       ...        ...                ...      ...   \n354346      0  c_klasse     150000                  9      NaN   \n354351    110       NaN     150000                  7      NaN   \n354361    150       159     150000                 12      NaN   \n354364      0      colt     150000                  7   petrol   \n354365      0       NaN      20000                  1      NaN   \n\n                 Brand Repaired          DateCreated  NumberOfPictures  \\\n0           volkswagen      NaN  2016-03-24 00:00:00                 0   \n16          volkswagen      NaN  2016-04-01 00:00:00                 0   \n22                opel       no  2016-03-23 00:00:00                 0   \n26             citroen       no  2016-03-10 00:00:00                 0   \n31             renault      NaN  2016-03-29 00:00:00                 0   \n...                ...      ...                  ...               ...   \n354346   mercedes_benz      NaN  2016-03-07 00:00:00                 0   \n354351      volkswagen       no  2016-03-11 00:00:00                 0   \n354361      alfa_romeo       no  2016-03-09 00:00:00                 0   \n354364      mitsubishi      yes  2016-03-21 00:00:00                 0   \n354365  sonstige_autos      NaN  2016-03-14 00:00:00                 0   \n\n        PostalCode             LastSeen  \n0            70435  2016-04-07 03:16:57  \n16           38871  2016-04-01 12:46:46  \n22           49716  2016-03-31 01:16:33  \n26           31139  2016-03-16 09:16:46  \n31           37075  2016-03-29 17:43:07  \n...            ...                  ...  \n354346       61169  2016-03-08 21:28:38  \n354351       87700  2016-03-12 14:16:51  \n354361       51371  2016-03-13 01:44:13  \n354364        2694  2016-03-21 10:42:49  \n354365       39576  2016-04-06 00:46:52  \n\n[37490 rows x 16 columns]",
      "text/html": "<div>\n<style scoped>\n    .dataframe tbody tr th:only-of-type {\n        vertical-align: middle;\n    }\n\n    .dataframe tbody tr th {\n        vertical-align: top;\n    }\n\n    .dataframe thead th {\n        text-align: right;\n    }\n</style>\n<table border=\"1\" class=\"dataframe\">\n  <thead>\n    <tr style=\"text-align: right;\">\n      <th></th>\n      <th>DateCrawled</th>\n      <th>Price</th>\n      <th>VehicleType</th>\n      <th>RegistrationYear</th>\n      <th>Gearbox</th>\n      <th>Power</th>\n      <th>Model</th>\n      <th>Kilometer</th>\n      <th>RegistrationMonth</th>\n      <th>FuelType</th>\n      <th>Brand</th>\n      <th>Repaired</th>\n      <th>DateCreated</th>\n      <th>NumberOfPictures</th>\n      <th>PostalCode</th>\n      <th>LastSeen</th>\n    </tr>\n  </thead>\n  <tbody>\n    <tr>\n      <th>0</th>\n      <td>2016-03-24 11:52:17</td>\n      <td>480</td>\n      <td>NaN</td>\n      <td>1993</td>\n      <td>manual</td>\n      <td>0</td>\n      <td>golf</td>\n      <td>150000</td>\n      <td>0</td>\n      <td>petrol</td>\n      <td>volkswagen</td>\n      <td>NaN</td>\n      <td>2016-03-24 00:00:00</td>\n      <td>0</td>\n      <td>70435</td>\n      <td>2016-04-07 03:16:57</td>\n    </tr>\n    <tr>\n      <th>16</th>\n      <td>2016-04-01 12:46:46</td>\n      <td>300</td>\n      <td>NaN</td>\n      <td>2016</td>\n      <td>NaN</td>\n      <td>60</td>\n      <td>polo</td>\n      <td>150000</td>\n      <td>0</td>\n      <td>petrol</td>\n      <td>volkswagen</td>\n      <td>NaN</td>\n      <td>2016-04-01 00:00:00</td>\n      <td>0</td>\n      <td>38871</td>\n      <td>2016-04-01 12:46:46</td>\n    </tr>\n    <tr>\n      <th>22</th>\n      <td>2016-03-23 14:52:51</td>\n      <td>2900</td>\n      <td>NaN</td>\n      <td>2018</td>\n      <td>manual</td>\n      <td>90</td>\n      <td>meriva</td>\n      <td>150000</td>\n      <td>5</td>\n      <td>petrol</td>\n      <td>opel</td>\n      <td>no</td>\n      <td>2016-03-23 00:00:00</td>\n      <td>0</td>\n      <td>49716</td>\n      <td>2016-03-31 01:16:33</td>\n    </tr>\n    <tr>\n      <th>26</th>\n      <td>2016-03-10 19:38:18</td>\n      <td>5555</td>\n      <td>NaN</td>\n      <td>2017</td>\n      <td>manual</td>\n      <td>125</td>\n      <td>c4</td>\n      <td>125000</td>\n      <td>4</td>\n      <td>NaN</td>\n      <td>citroen</td>\n      <td>no</td>\n      <td>2016-03-10 00:00:00</td>\n      <td>0</td>\n      <td>31139</td>\n      <td>2016-03-16 09:16:46</td>\n    </tr>\n    <tr>\n      <th>31</th>\n      <td>2016-03-29 16:57:02</td>\n      <td>899</td>\n      <td>NaN</td>\n      <td>2016</td>\n      <td>manual</td>\n      <td>60</td>\n      <td>clio</td>\n      <td>150000</td>\n      <td>6</td>\n      <td>petrol</td>\n      <td>renault</td>\n      <td>NaN</td>\n      <td>2016-03-29 00:00:00</td>\n      <td>0</td>\n      <td>37075</td>\n      <td>2016-03-29 17:43:07</td>\n    </tr>\n    <tr>\n      <th>...</th>\n      <td>...</td>\n      <td>...</td>\n      <td>...</td>\n      <td>...</td>\n      <td>...</td>\n      <td>...</td>\n      <td>...</td>\n      <td>...</td>\n      <td>...</td>\n      <td>...</td>\n      <td>...</td>\n      <td>...</td>\n      <td>...</td>\n      <td>...</td>\n      <td>...</td>\n      <td>...</td>\n    </tr>\n    <tr>\n      <th>354346</th>\n      <td>2016-03-07 17:06:35</td>\n      <td>2600</td>\n      <td>NaN</td>\n      <td>2005</td>\n      <td>auto</td>\n      <td>0</td>\n      <td>c_klasse</td>\n      <td>150000</td>\n      <td>9</td>\n      <td>NaN</td>\n      <td>mercedes_benz</td>\n      <td>NaN</td>\n      <td>2016-03-07 00:00:00</td>\n      <td>0</td>\n      <td>61169</td>\n      <td>2016-03-08 21:28:38</td>\n    </tr>\n    <tr>\n      <th>354351</th>\n      <td>2016-03-11 23:40:32</td>\n      <td>1900</td>\n      <td>NaN</td>\n      <td>2000</td>\n      <td>manual</td>\n      <td>110</td>\n      <td>NaN</td>\n      <td>150000</td>\n      <td>7</td>\n      <td>NaN</td>\n      <td>volkswagen</td>\n      <td>no</td>\n      <td>2016-03-11 00:00:00</td>\n      <td>0</td>\n      <td>87700</td>\n      <td>2016-03-12 14:16:51</td>\n    </tr>\n    <tr>\n      <th>354361</th>\n      <td>2016-03-09 13:37:43</td>\n      <td>5250</td>\n      <td>NaN</td>\n      <td>2016</td>\n      <td>auto</td>\n      <td>150</td>\n      <td>159</td>\n      <td>150000</td>\n      <td>12</td>\n      <td>NaN</td>\n      <td>alfa_romeo</td>\n      <td>no</td>\n      <td>2016-03-09 00:00:00</td>\n      <td>0</td>\n      <td>51371</td>\n      <td>2016-03-13 01:44:13</td>\n    </tr>\n    <tr>\n      <th>354364</th>\n      <td>2016-03-21 09:50:58</td>\n      <td>0</td>\n      <td>NaN</td>\n      <td>2005</td>\n      <td>manual</td>\n      <td>0</td>\n      <td>colt</td>\n      <td>150000</td>\n      <td>7</td>\n      <td>petrol</td>\n      <td>mitsubishi</td>\n      <td>yes</td>\n      <td>2016-03-21 00:00:00</td>\n      <td>0</td>\n      <td>2694</td>\n      <td>2016-03-21 10:42:49</td>\n    </tr>\n    <tr>\n      <th>354365</th>\n      <td>2016-03-14 17:48:27</td>\n      <td>2200</td>\n      <td>NaN</td>\n      <td>2005</td>\n      <td>NaN</td>\n      <td>0</td>\n      <td>NaN</td>\n      <td>20000</td>\n      <td>1</td>\n      <td>NaN</td>\n      <td>sonstige_autos</td>\n      <td>NaN</td>\n      <td>2016-03-14 00:00:00</td>\n      <td>0</td>\n      <td>39576</td>\n      <td>2016-04-06 00:46:52</td>\n    </tr>\n  </tbody>\n</table>\n<p>37490 rows × 16 columns</p>\n</div>"
     },
     "metadata": {},
     "output_type": "display_data"
    },
    {
     "data": {
      "text/plain": "Gearbox\nmanual    268251\nauto       66285\nName: count, dtype: int64"
     },
     "metadata": {},
     "output_type": "display_data"
    },
    {
     "data": {
      "text/plain": "FuelType\npetrol      216352\ngasoline     98720\nlpg           5310\ncng            565\nhybrid         233\nother          204\nelectric        90\nName: count, dtype: int64"
     },
     "metadata": {},
     "output_type": "display_data"
    },
    {
     "data": {
      "text/plain": "32895"
     },
     "metadata": {},
     "output_type": "display_data"
    },
    {
     "name": "stdout",
     "output_type": "stream",
     "text": [
      "<class 'pandas.core.frame.DataFrame'>\n",
      "RangeIndex: 354369 entries, 0 to 354368\n",
      "Data columns (total 16 columns):\n",
      " #   Column             Non-Null Count   Dtype \n",
      "---  ------             --------------   ----- \n",
      " 0   DateCrawled        354369 non-null  object\n",
      " 1   Price              354369 non-null  object\n",
      " 2   VehicleType        354369 non-null  object\n",
      " 3   RegistrationYear   354369 non-null  object\n",
      " 4   Gearbox            354369 non-null  object\n",
      " 5   Power              354369 non-null  object\n",
      " 6   Model              354369 non-null  object\n",
      " 7   Kilometer          354369 non-null  object\n",
      " 8   RegistrationMonth  354369 non-null  object\n",
      " 9   FuelType           354369 non-null  object\n",
      " 10  Brand              354369 non-null  object\n",
      " 11  Repaired           354369 non-null  object\n",
      " 12  DateCreated        354369 non-null  object\n",
      " 13  NumberOfPictures   354369 non-null  object\n",
      " 14  PostalCode         354369 non-null  object\n",
      " 15  LastSeen           354369 non-null  object\n",
      "dtypes: object(16)\n",
      "memory usage: 43.3+ MB\n"
     ]
    },
    {
     "data": {
      "text/plain": "None"
     },
     "metadata": {},
     "output_type": "display_data"
    }
   ],
   "source": [
    "# Столбец VehicleType заполнить мы не можем, поскольку в нём встречаются разные модели от разных брендов.\n",
    "display(df[df.VehicleType.isna()])\n",
    "# В столбце Gearbox можно заполнить отсутствующие значения значением manual\n",
    "display(df.Gearbox.value_counts())\n",
    "ix = df[df.loc[:, 'Gearbox'].isna()].index\n",
    "df.loc[ix, 'Gearbox'] = 'manual'\n",
    "# Столбец model оставим с пустыми значениями\n",
    "display(df.FuelType.value_counts())\n",
    "display(sum(df.FuelType.isna()))\n",
    "# Petrol и gasoline это одно и тоже, надо объединить категории. Пропущенные значения заполним petrol.\n",
    "ix = df[df.loc[:, 'FuelType'].isna()].index\n",
    "df.loc[ix, 'FuelType'] = 'petrol'\n",
    "ix = df[df.loc[:, 'FuelType'] == 'gasoline'].index\n",
    "df.loc[ix, 'FuelType'] = 'petrol'\n",
    "# Столбец Repaired, как и VehicleType содержат большое количество пропущенных значений. Однозначно\n",
    "# заполнить их мы не можем, но для обучения моделей надо что-бы данные были заполнены,\n",
    "# поэтому создадим специальную категорию 'missing'.\n",
    "columns = df.columns\n",
    "imputer = SimpleImputer(strategy='constant', fill_value='missing')\n",
    "df = imputer.fit_transform(df)\n",
    "df = pd.DataFrame(df, columns=columns)\n",
    "# Проверим что в данных нет пропусков\n",
    "display(df.info())"
   ]
  },
  {
   "cell_type": "code",
   "execution_count": 8,
   "metadata": {
    "ExecuteTime": {
     "end_time": "2024-02-20T18:24:46.105084508Z",
     "start_time": "2024-02-20T18:24:45.777588480Z"
    }
   },
   "outputs": [
    {
     "name": "stdout",
     "output_type": "stream",
     "text": [
      "<class 'pandas.core.frame.DataFrame'>\n",
      "RangeIndex: 354369 entries, 0 to 354368\n",
      "Data columns (total 16 columns):\n",
      " #   Column             Non-Null Count   Dtype \n",
      "---  ------             --------------   ----- \n",
      " 0   DateCrawled        354369 non-null  object\n",
      " 1   Price              354369 non-null  int64 \n",
      " 2   VehicleType        354369 non-null  object\n",
      " 3   RegistrationYear   354369 non-null  int64 \n",
      " 4   Gearbox            354369 non-null  object\n",
      " 5   Power              354369 non-null  int64 \n",
      " 6   Model              354369 non-null  object\n",
      " 7   Kilometer          354369 non-null  int64 \n",
      " 8   RegistrationMonth  354369 non-null  int64 \n",
      " 9   FuelType           354369 non-null  object\n",
      " 10  Brand              354369 non-null  object\n",
      " 11  Repaired           354369 non-null  object\n",
      " 12  DateCreated        354369 non-null  object\n",
      " 13  NumberOfPictures   354369 non-null  object\n",
      " 14  PostalCode         354369 non-null  object\n",
      " 15  LastSeen           354369 non-null  object\n",
      "dtypes: int64(5), object(11)\n",
      "memory usage: 43.3+ MB\n"
     ]
    }
   ],
   "source": [
    "# Конвертируем нужные столбцы в числа\n",
    "df.Price = df.Price.astype(int)\n",
    "df.Kilometer = df.Kilometer.astype(int)\n",
    "df.RegistrationMonth = df.RegistrationMonth.astype(int)\n",
    "df.RegistrationYear = df.RegistrationYear.astype(int)\n",
    "df.Power = df.Power.astype(int)\n",
    "# Проверка, что всё прошло нормально и мы ничего не забыли\n",
    "df.info()"
   ]
  },
  {
   "cell_type": "code",
   "execution_count": 9,
   "metadata": {
    "ExecuteTime": {
     "end_time": "2024-02-20T18:24:46.169645131Z",
     "start_time": "2024-02-20T18:24:46.108228319Z"
    }
   },
   "outputs": [
    {
     "name": "stdout",
     "output_type": "stream",
     "text": [
      "--------------------------------------------------Цена = 0--------------------------------------------------\n",
      "                DateCrawled  Price VehicleType  RegistrationYear Gearbox  \\\n",
      "7       2016-03-21 18:54:38      0       sedan              1980  manual   \n",
      "40      2016-03-26 22:06:17      0     missing              1990  manual   \n",
      "111     2016-03-19 18:40:12      0     missing              2017  manual   \n",
      "115     2016-03-20 18:53:27      0       small              1999  manual   \n",
      "152     2016-03-11 18:55:53      0         bus              2004  manual   \n",
      "...                     ...    ...         ...               ...     ...   \n",
      "354205  2016-03-09 15:56:30      0     missing              2000  manual   \n",
      "354238  2016-03-20 14:55:07      0       small              2002  manual   \n",
      "354248  2016-03-24 13:48:05      0       small              1999  manual   \n",
      "354277  2016-03-10 22:55:50      0       small              1999  manual   \n",
      "354364  2016-03-21 09:50:58      0     missing              2005  manual   \n",
      "\n",
      "        Power    Model  Kilometer  RegistrationMonth FuelType       Brand  \\\n",
      "7          50    other      40000                  7   petrol  volkswagen   \n",
      "40          0    corsa     150000                  1   petrol        opel   \n",
      "111         0     golf       5000                 12   petrol  volkswagen   \n",
      "115         0  missing       5000                  0   petrol  volkswagen   \n",
      "152       101   meriva     150000                 10      lpg        opel   \n",
      "...       ...      ...        ...                ...      ...         ...   \n",
      "354205     65    corsa     150000                  0   petrol        opel   \n",
      "354238     60   fiesta     150000                  3   petrol        ford   \n",
      "354248     53    swift     150000                  3   petrol      suzuki   \n",
      "354277     37    arosa     150000                  7   petrol        seat   \n",
      "354364      0     colt     150000                  7   petrol  mitsubishi   \n",
      "\n",
      "       Repaired          DateCreated NumberOfPictures PostalCode  \\\n",
      "7            no  2016-03-21 00:00:00                0      19348   \n",
      "40      missing  2016-03-26 00:00:00                0      56412   \n",
      "111     missing  2016-03-19 00:00:00                0      21698   \n",
      "115     missing  2016-03-20 00:00:00                0      37520   \n",
      "152         yes  2016-03-11 00:00:00                0      27432   \n",
      "...         ...                  ...              ...        ...   \n",
      "354205      yes  2016-03-09 00:00:00                0      23758   \n",
      "354238  missing  2016-03-20 00:00:00                0      33659   \n",
      "354248  missing  2016-03-24 00:00:00                0      42329   \n",
      "354277      yes  2016-03-10 00:00:00                0      22559   \n",
      "354364      yes  2016-03-21 00:00:00                0       2694   \n",
      "\n",
      "                   LastSeen  \n",
      "7       2016-03-25 16:47:58  \n",
      "40      2016-03-27 17:43:34  \n",
      "111     2016-04-01 08:47:05  \n",
      "115     2016-04-07 02:45:22  \n",
      "152     2016-03-12 23:47:10  \n",
      "...                     ...  \n",
      "354205  2016-03-30 11:16:08  \n",
      "354238  2016-04-06 18:45:23  \n",
      "354248  2016-04-07 05:17:24  \n",
      "354277  2016-03-12 23:46:32  \n",
      "354364  2016-03-21 10:42:49  \n",
      "\n",
      "[10772 rows x 16 columns]\n",
      "--------------------------------------------------Мощность = 0--------------------------------------------------\n",
      "                DateCrawled  Price VehicleType  RegistrationYear Gearbox  \\\n",
      "0       2016-03-24 11:52:17    480     missing              1993  manual   \n",
      "15      2016-03-11 21:39:15    450       small              1910  manual   \n",
      "32      2016-03-15 20:59:01    245       sedan              1994  manual   \n",
      "37      2016-03-28 17:50:15   1500     missing              2016  manual   \n",
      "40      2016-03-26 22:06:17      0     missing              1990  manual   \n",
      "...                     ...    ...         ...               ...     ...   \n",
      "354338  2016-03-31 19:52:33    180     missing              1995  manual   \n",
      "354346  2016-03-07 17:06:35   2600     missing              2005    auto   \n",
      "354363  2016-03-27 20:36:20   1150         bus              2000  manual   \n",
      "354364  2016-03-21 09:50:58      0     missing              2005  manual   \n",
      "354365  2016-03-14 17:48:27   2200     missing              2005  manual   \n",
      "\n",
      "        Power     Model  Kilometer  RegistrationMonth FuelType  \\\n",
      "0           0      golf     150000                  0   petrol   \n",
      "15          0        ka       5000                  0   petrol   \n",
      "32          0      golf     150000                  2   petrol   \n",
      "37          0    kangoo     150000                  1   petrol   \n",
      "40          0     corsa     150000                  1   petrol   \n",
      "...       ...       ...        ...                ...      ...   \n",
      "354338      0   missing     125000                  3   petrol   \n",
      "354346      0  c_klasse     150000                  9   petrol   \n",
      "354363      0    zafira     150000                  3   petrol   \n",
      "354364      0      colt     150000                  7   petrol   \n",
      "354365      0   missing      20000                  1   petrol   \n",
      "\n",
      "                 Brand Repaired          DateCreated NumberOfPictures  \\\n",
      "0           volkswagen  missing  2016-03-24 00:00:00                0   \n",
      "15                ford  missing  2016-03-11 00:00:00                0   \n",
      "32          volkswagen       no  2016-03-15 00:00:00                0   \n",
      "37             renault       no  2016-03-28 00:00:00                0   \n",
      "40                opel  missing  2016-03-26 00:00:00                0   \n",
      "...                ...      ...                  ...              ...   \n",
      "354338            opel  missing  2016-03-31 00:00:00                0   \n",
      "354346   mercedes_benz  missing  2016-03-07 00:00:00                0   \n",
      "354363            opel       no  2016-03-27 00:00:00                0   \n",
      "354364      mitsubishi      yes  2016-03-21 00:00:00                0   \n",
      "354365  sonstige_autos  missing  2016-03-14 00:00:00                0   \n",
      "\n",
      "       PostalCode             LastSeen  \n",
      "0           70435  2016-04-07 03:16:57  \n",
      "15          24148  2016-03-19 08:46:47  \n",
      "32          44145  2016-03-17 18:17:43  \n",
      "37          46483  2016-03-30 09:18:02  \n",
      "40          56412  2016-03-27 17:43:34  \n",
      "...           ...                  ...  \n",
      "354338      41470  2016-04-06 14:18:04  \n",
      "354346      61169  2016-03-08 21:28:38  \n",
      "354363      26624  2016-03-29 10:17:23  \n",
      "354364       2694  2016-03-21 10:42:49  \n",
      "354365      39576  2016-04-06 00:46:52  \n",
      "\n",
      "[40225 rows x 16 columns]\n",
      "--------------------------------------------------Мощность > 500--------------------------------------------------\n",
      "                DateCrawled  Price VehicleType  RegistrationYear Gearbox  \\\n",
      "1816    2016-03-22 20:52:00   3200       small              2004  manual   \n",
      "2102    2016-03-21 11:55:22      0       sedan              1999  manual   \n",
      "3746    2016-03-21 14:48:31      0     missing              2017  manual   \n",
      "4060    2016-04-03 20:31:00   3100       sedan              2005  manual   \n",
      "5328    2016-03-29 19:44:48    500       wagon              1999  manual   \n",
      "...                     ...    ...         ...               ...     ...   \n",
      "348968  2016-04-04 18:53:25    250       small              1999  manual   \n",
      "351947  2016-03-07 21:36:19   1500         bus              2001  manual   \n",
      "353493  2016-04-02 20:54:21  12500     missing              2017  manual   \n",
      "353633  2016-03-23 23:55:21   2400       sedan              2007  manual   \n",
      "354260  2016-03-09 17:59:03    399       other              1994  manual   \n",
      "\n",
      "        Power    Model  Kilometer  RegistrationMonth FuelType       Brand  \\\n",
      "1816     1398  corolla       5000                  6   petrol      toyota   \n",
      "2102     1799   vectra     150000                  1   petrol        opel   \n",
      "3746      750  missing     150000                  8   petrol       smart   \n",
      "4060      953     colt     150000                  4   petrol  mitsubishi   \n",
      "5328     1001    astra     150000                  7   petrol        opel   \n",
      "...       ...      ...        ...                ...      ...         ...   \n",
      "348968   1241  ypsilon     150000                  5   petrol      lancia   \n",
      "351947   1001   zafira       5000                  7   petrol        opel   \n",
      "353493   2000    other      60000                  0   petrol    chrysler   \n",
      "353633    650       c2     150000                  8   petrol     citroen   \n",
      "354260   1103      3er     150000                  0   petrol         bmw   \n",
      "\n",
      "       Repaired          DateCreated NumberOfPictures PostalCode  \\\n",
      "1816         no  2016-03-22 00:00:00                0      22043   \n",
      "2102        yes  2016-03-21 00:00:00                0       1723   \n",
      "3746         no  2016-03-21 00:00:00                0      49356   \n",
      "4060         no  2016-04-03 00:00:00                0      60326   \n",
      "5328    missing  2016-03-29 00:00:00                0      33154   \n",
      "...         ...                  ...              ...        ...   \n",
      "348968      yes  2016-04-04 00:00:00                0      28259   \n",
      "351947       no  2016-03-07 00:00:00                0      66117   \n",
      "353493       no  2016-04-02 00:00:00                0      44145   \n",
      "353633  missing  2016-03-23 00:00:00                0      45277   \n",
      "354260  missing  2016-03-09 00:00:00                0      56235   \n",
      "\n",
      "                   LastSeen  \n",
      "1816    2016-03-22 21:43:26  \n",
      "2102    2016-04-04 04:49:06  \n",
      "3746    2016-03-24 03:44:59  \n",
      "4060    2016-04-07 14:56:46  \n",
      "5328    2016-04-06 05:44:36  \n",
      "...                     ...  \n",
      "348968  2016-04-04 18:53:25  \n",
      "351947  2016-03-09 12:47:08  \n",
      "353493  2016-04-06 21:44:39  \n",
      "353633  2016-03-27 01:15:17  \n",
      "354260  2016-03-17 09:17:08  \n",
      "\n",
      "[459 rows x 16 columns]\n"
     ]
    }
   ],
   "source": [
    "# Проверки данных на адекватность\n",
    "print('-'*50 + 'Цена = 0' + '-'*50)\n",
    "print(df[df.Price == 0])\n",
    "print('-'*50 + 'Мощность = 0' + '-'*50)\n",
    "pprint(df[df.Power == 0])\n",
    "print('-'*50 + 'Мощность > 500' + '-'*50)\n",
    "pprint(df[df.Power > 500])"
   ]
  },
  {
   "cell_type": "markdown",
   "metadata": {},
   "source": [
    "Для столбцов дата регистрации и дата создания объявления построим графики."
   ]
  },
  {
   "cell_type": "code",
   "execution_count": 10,
   "metadata": {
    "ExecuteTime": {
     "end_time": "2024-02-20T18:24:47.228113887Z",
     "start_time": "2024-02-20T18:24:46.193969389Z"
    }
   },
   "outputs": [
    {
     "name": "stdout",
     "output_type": "stream",
     "text": [
      "Year\n",
      "2016    354343\n",
      "2015        25\n",
      "2014         1\n",
      "Name: count, dtype: int64\n",
      "RegistrationYear\n",
      "2000    24490\n",
      "1999    22728\n",
      "2005    22109\n",
      "2001    20124\n",
      "2006    19900\n",
      "        ...  \n",
      "6500        1\n",
      "2290        1\n",
      "1001        1\n",
      "9450        1\n",
      "3500        1\n",
      "Name: count, Length: 151, dtype: int64\n"
     ]
    },
    {
     "data": {
      "text/plain": "<Figure size 1200x600 with 2 Axes>",
      "image/png": "[encoded data removed]"
     },
     "metadata": {},
     "output_type": "display_data"
    },
    {
     "name": "stdout",
     "output_type": "stream",
     "text": [
      "YearCrawled\n",
      "2016    354343\n",
      "2015        25\n",
      "2014         1\n",
      "Name: count, dtype: int64\n",
      "60095\n",
      "27743\n"
     ]
    }
   ],
   "source": [
    "# Проверка данных на адекватность часть 2\n",
    "df['Year'] = pd.to_datetime(df['DateCreated']).dt.year\n",
    "print(df['Year'].value_counts())\n",
    "print(df['RegistrationYear'].value_counts())\n",
    "# Построим графики для наглядности\n",
    "fig, axs = plt.subplots(1, 2, figsize=(12, 6))\n",
    "\n",
    "unique_years = df['Year'].unique()\n",
    "axs[0].hist(df['Year'], bins=3, color='blue', align='mid')\n",
    "axs[0].set_xlabel('Year')\n",
    "axs[0].set_ylabel('Frequency')\n",
    "axs[0].set_title('Year from DateCreated')\n",
    "axs[0].tick_params(axis='x', rotation=45)\n",
    "axs[0].set_xticks(unique_years)\n",
    "\n",
    "\n",
    "axs[1].hist(df['RegistrationYear'], bins=50, color='green', alpha=0.7)\n",
    "axs[1].set_xlabel('Registration Year')\n",
    "axs[1].set_ylabel('Frequency')\n",
    "axs[1].set_title('Registration Year Histogram')\n",
    "\n",
    "plt.tight_layout()\n",
    "plt.show()\n",
    "\n",
    "# Посмотрим когда собирались данные по столбцу DateCrawled\n",
    "df['YearCrawled'] = pd.to_datetime(df['DateCreated']).dt.year\n",
    "print(df.YearCrawled.value_counts())\n",
    "# Думаю для чистоты эксперимента надо выкинуть всё что было собрано не в 2016, \n",
    "# там всё равно 26 записей всего.\n",
    "\n",
    "# Посмотрим сколько данных мы потеряем если удалим авто с ценой = 0, \n",
    "# мощностью = 0, мощностью > 500, годом регистрации > 2016 и датой подачи объявления > 2016\n",
    "print(df.query(\n",
    "    'Price == 0 or Power == 0 or Power > 500 or RegistrationYear > 2016\\\n",
    "    or Year < 2016 or RegistrationYear < 1980'\n",
    ").shape[0])\n",
    "# Посмотрим что будет если убрать из условия мощность\n",
    "print(df.query(\n",
    "    'Price == 0 or RegistrationYear > 2016 or Year < 2016 or RegistrationYear < 1980'\n",
    ").shape[0])\n",
    "# С этим уже можно жить, к удалению ~27700 записей, а мощность импутируем."
   ]
  },
  {
   "cell_type": "markdown",
   "metadata": {},
   "source": [
    "Видно что объявления подавались только в 2016 году, и собирались данные тоже в основном в 2016. Поэтому объявления где дата регистрации авто более 2016 года и меньше 1980 удалим. Также удалим объявления где дата подачи объявления не 2016 год, потому что таких только 26 штук и это подозрительно. Таким образом мы избавляемся от 10% данных. После этого импутируем столбец Power используя метод ближайших соседей."
   ]
  },
  {
   "cell_type": "code",
   "execution_count": 11,
   "metadata": {
    "ExecuteTime": {
     "end_time": "2024-02-20T18:24:49.452434258Z",
     "start_time": "2024-02-20T18:24:47.137765819Z"
    }
   },
   "outputs": [],
   "source": [
    "# Теперь удалим записи с неполными/неверными данными\n",
    "to_rem_ind = df.query(\n",
    "    'Price == 0 or RegistrationYear > 2016 or Year < 2016 or RegistrationYear < 1980'\n",
    ").index\n",
    "df = df.drop(to_rem_ind)\n",
    "# Проверим на дубликаты\n",
    "df[df.duplicated(keep=False)]\n",
    "# Дубликаты присутствуют, оставим только первые записи\n",
    "df = df.loc[~df.duplicated(keep='last')]"
   ]
  },
  {
   "cell_type": "code",
   "execution_count": 12,
   "metadata": {
    "ExecuteTime": {
     "end_time": "2024-02-20T18:38:22.001350538Z",
     "start_time": "2024-02-20T18:24:49.439161954Z"
    }
   },
   "outputs": [],
   "source": [
    "# Импутация столбца Power\n",
    "df.loc[df['Power'] > 500, 'Power'] = np.nan\n",
    "df['Power'].replace(0, np.nan, inplace=True)\n",
    "features = df.drop(['Power'], axis=1)\n",
    "target = df['Power']\n",
    "\n",
    "knn_imputer = KNNImputer(n_neighbors=3)\n",
    "imputed_power = knn_imputer.fit_transform(target.values.reshape(-1, 1)).ravel()\n",
    "df['Power'] = imputed_power"
   ]
  },
  {
   "cell_type": "markdown",
   "metadata": {},
   "source": [
    "Перейдем к удалению лишних столбцов."
   ]
  },
  {
   "cell_type": "code",
   "execution_count": 13,
   "metadata": {
    "ExecuteTime": {
     "end_time": "2024-02-20T18:38:22.048515222Z",
     "start_time": "2024-02-20T18:38:22.042425154Z"
    }
   },
   "outputs": [
    {
     "data": {
      "text/plain": "Index(['DateCrawled', 'Price', 'VehicleType', 'RegistrationYear', 'Gearbox',\n       'Power', 'Model', 'Kilometer', 'RegistrationMonth', 'FuelType', 'Brand',\n       'Repaired', 'DateCreated', 'NumberOfPictures', 'PostalCode', 'LastSeen',\n       'Year', 'YearCrawled'],\n      dtype='object')"
     },
     "execution_count": 13,
     "metadata": {},
     "output_type": "execute_result"
    }
   ],
   "source": [
    "df.columns"
   ]
  },
  {
   "cell_type": "code",
   "execution_count": 14,
   "metadata": {
    "ExecuteTime": {
     "end_time": "2024-02-20T18:38:22.431384534Z",
     "start_time": "2024-02-20T18:38:22.046116267Z"
    }
   },
   "outputs": [],
   "source": [
    "df = df.drop(['DateCrawled', 'DateCreated', 'PostalCode', 'NumberOfPictures', 'LastSeen',\n",
    "              'Year', 'YearCrawled'], \n",
    "             axis=1)"
   ]
  },
  {
   "cell_type": "markdown",
   "metadata": {},
   "source": [
    "На этапе предобоработки данных мы познакомились с данными, удалили лишние столбцы и заполнили пропуски."
   ]
  },
  {
   "cell_type": "markdown",
   "metadata": {},
   "source": [
    "## Обучение моделей"
   ]
  },
  {
   "cell_type": "markdown",
   "metadata": {},
   "source": [
    "Подготовим данные для обучения моделей. Столбцы с категориальным переменными необходимо закодировать с помощью фиктивных переменных."
   ]
  },
  {
   "cell_type": "code",
   "execution_count": 15,
   "metadata": {
    "ExecuteTime": {
     "end_time": "2024-02-20T18:38:25.885775793Z",
     "start_time": "2024-02-20T18:38:22.123438680Z"
    }
   },
   "outputs": [
    {
     "name": "stdout",
     "output_type": "stream",
     "text": [
      "261297 65325 261297 65325\n"
     ]
    }
   ],
   "source": [
    "# Подготовка данных\n",
    "X = df.drop('Price', axis=1)\n",
    "y = df['Price']\n",
    "\n",
    "all_cols = X.columns\n",
    "\n",
    "# Создадим список столбцов которые надо закодировать\n",
    "categorical_cols = [col for col in X.columns if X[col].dtype == 'object']\n",
    "numerical_cols = [col for col in X.columns if col not in categorical_cols]\n",
    "\n",
    "# Трансформатор для столбцов, поскольку нам надо проверить модель случайного леса, а она не терпит категориальных значений.\n",
    "preprocessor_cols = ColumnTransformer(\n",
    "    transformers=[\n",
    "        ('num', StandardScaler(), numerical_cols),\n",
    "        ('cat', ce.BinaryEncoder(), categorical_cols)\n",
    "    ])\n",
    "\n",
    "X_train, X_test, y_train, y_test = train_test_split(X, y, test_size=0.2, random_state=42)\n",
    "\n",
    "X_train = preprocessor_cols.fit_transform(X_train)\n",
    "X_test = preprocessor_cols.transform(X_test)\n",
    "\n",
    "print(X_train.shape[0], X_test.shape[0], y_train.shape[0], y_test.shape[0])"
   ]
  },
  {
   "cell_type": "markdown",
   "metadata": {},
   "source": [
    "Приступим к тренировке моделей."
   ]
  },
  {
   "cell_type": "code",
   "execution_count": 16,
   "metadata": {
    "ExecuteTime": {
     "end_time": "2024-02-20T18:42:13.286673143Z",
     "start_time": "2024-02-20T18:38:25.713007292Z"
    }
   },
   "outputs": [
    {
     "name": "stdout",
     "output_type": "stream",
     "text": [
      "[LightGBM] [Info] Auto-choosing row-wise multi-threading, the overhead of testing was 0.035349 seconds.\n",
      "You can set `force_row_wise=true` to remove the overhead.\n",
      "And if memory is not enough, you can set `force_col_wise=true`.\n",
      "[LightGBM] [Info] Total Bins 357\n",
      "[LightGBM] [Info] Number of data points in the train set: 209037, number of used features: 29\n",
      "[LightGBM] [Info] Start training from score 4591.165368\n",
      "[LightGBM] [Info] Auto-choosing row-wise multi-threading, the overhead of testing was 0.040741 seconds.\n",
      "You can set `force_row_wise=true` to remove the overhead.\n",
      "And if memory is not enough, you can set `force_col_wise=true`.\n",
      "[LightGBM] [Info] Total Bins 359\n",
      "[LightGBM] [Info] Number of data points in the train set: 209037, number of used features: 29\n",
      "[LightGBM] [Info] Start training from score 4582.030282\n",
      "[LightGBM] [Info] Auto-choosing row-wise multi-threading, the overhead of testing was 0.035744 seconds.\n",
      "You can set `force_row_wise=true` to remove the overhead.\n",
      "And if memory is not enough, you can set `force_col_wise=true`.\n",
      "[LightGBM] [Info] Total Bins 359\n",
      "[LightGBM] [Info] Number of data points in the train set: 209038, number of used features: 29\n",
      "[LightGBM] [Info] Start training from score 4586.906744\n",
      "[LightGBM] [Info] Auto-choosing row-wise multi-threading, the overhead of testing was 0.047027 seconds.\n",
      "You can set `force_row_wise=true` to remove the overhead.\n",
      "And if memory is not enough, you can set `force_col_wise=true`.\n",
      "[LightGBM] [Info] Total Bins 359\n",
      "[LightGBM] [Info] Number of data points in the train set: 209038, number of used features: 29\n",
      "[LightGBM] [Info] Start training from score 4586.435519\n",
      "[LightGBM] [Info] Auto-choosing row-wise multi-threading, the overhead of testing was 0.044058 seconds.\n",
      "You can set `force_row_wise=true` to remove the overhead.\n",
      "And if memory is not enough, you can set `force_col_wise=true`.\n",
      "[LightGBM] [Info] Total Bins 357\n",
      "[LightGBM] [Info] Number of data points in the train set: 209038, number of used features: 29\n",
      "[LightGBM] [Info] Start training from score 4583.830179\n",
      "[LightGBM] [Info] Auto-choosing row-wise multi-threading, the overhead of testing was 0.046003 seconds.\n",
      "You can set `force_row_wise=true` to remove the overhead.\n",
      "And if memory is not enough, you can set `force_col_wise=true`.\n",
      "[LightGBM] [Info] Total Bins 357\n",
      "[LightGBM] [Info] Number of data points in the train set: 209037, number of used features: 29\n",
      "[LightGBM] [Info] Start training from score 4591.165368\n",
      "[LightGBM] [Warning] No further splits with positive gain, best gain: -inf\n",
      "[LightGBM] [Info] Auto-choosing row-wise multi-threading, the overhead of testing was 0.062374 seconds.\n",
      "You can set `force_row_wise=true` to remove the overhead.\n",
      "And if memory is not enough, you can set `force_col_wise=true`.\n",
      "[LightGBM] [Info] Total Bins 359\n",
      "[LightGBM] [Info] Number of data points in the train set: 209037, number of used features: 29\n",
      "[LightGBM] [Info] Start training from score 4582.030282\n",
      "[LightGBM] [Warning] No further splits with positive gain, best gain: -inf\n",
      "[LightGBM] [Warning] No further splits with positive gain, best gain: -inf\n",
      "[LightGBM] [Warning] No further splits with positive gain, best gain: -inf\n",
      "[LightGBM] [Info] Auto-choosing row-wise multi-threading, the overhead of testing was 0.037410 seconds.\n",
      "You can set `force_row_wise=true` to remove the overhead.\n",
      "And if memory is not enough, you can set `force_col_wise=true`.\n",
      "[LightGBM] [Info] Total Bins 359\n",
      "[LightGBM] [Info] Number of data points in the train set: 209038, number of used features: 29\n",
      "[LightGBM] [Info] Start training from score 4586.906744\n",
      "[LightGBM] [Warning] No further splits with positive gain, best gain: -inf\n",
      "[LightGBM] [Warning] No further splits with positive gain, best gain: -inf\n",
      "[LightGBM] [Warning] No further splits with positive gain, best gain: -inf\n",
      "[LightGBM] [Info] Auto-choosing row-wise multi-threading, the overhead of testing was 0.032420 seconds.\n",
      "You can set `force_row_wise=true` to remove the overhead.\n",
      "And if memory is not enough, you can set `force_col_wise=true`.\n",
      "[LightGBM] [Info] Total Bins 359\n",
      "[LightGBM] [Info] Number of data points in the train set: 209038, number of used features: 29\n",
      "[LightGBM] [Info] Start training from score 4586.435519\n",
      "[LightGBM] [Info] Auto-choosing row-wise multi-threading, the overhead of testing was 0.088886 seconds.\n",
      "You can set `force_row_wise=true` to remove the overhead.\n",
      "And if memory is not enough, you can set `force_col_wise=true`.\n",
      "[LightGBM] [Info] Total Bins 357\n",
      "[LightGBM] [Info] Number of data points in the train set: 209038, number of used features: 29\n",
      "[LightGBM] [Info] Start training from score 4583.830179\n",
      "[LightGBM] [Warning] Accuracy may be bad since you didn't explicitly set num_leaves OR 2^max_depth > num_leaves. (num_leaves=31).\n",
      "[LightGBM] [Warning] Accuracy may be bad since you didn't explicitly set num_leaves OR 2^max_depth > num_leaves. (num_leaves=31).\n",
      "[LightGBM] [Info] Auto-choosing row-wise multi-threading, the overhead of testing was 0.041831 seconds.\n",
      "You can set `force_row_wise=true` to remove the overhead.\n",
      "And if memory is not enough, you can set `force_col_wise=true`.\n",
      "[LightGBM] [Info] Total Bins 357\n",
      "[LightGBM] [Info] Number of data points in the train set: 209037, number of used features: 29\n",
      "[LightGBM] [Info] Start training from score 4591.165368\n",
      "[LightGBM] [Warning] No further splits with positive gain, best gain: -inf\n",
      "[LightGBM] [Warning] No further splits with positive gain, best gain: -inf\n",
      "[LightGBM] [Warning] No further splits with positive gain, best gain: -inf\n",
      "[LightGBM] [Warning] No further splits with positive gain, best gain: -inf\n",
      "[LightGBM] [Warning] No further splits with positive gain, best gain: -inf\n",
      "[LightGBM] [Warning] No further splits with positive gain, best gain: -inf\n",
      "[LightGBM] [Warning] No further splits with positive gain, best gain: -inf\n",
      "[LightGBM] [Warning] No further splits with positive gain, best gain: -inf\n",
      "[LightGBM] [Warning] No further splits with positive gain, best gain: -inf\n",
      "[LightGBM] [Warning] No further splits with positive gain, best gain: -inf\n",
      "[LightGBM] [Warning] No further splits with positive gain, best gain: -inf\n",
      "[LightGBM] [Warning] No further splits with positive gain, best gain: -inf\n",
      "[LightGBM] [Warning] No further splits with positive gain, best gain: -inf\n",
      "[LightGBM] [Warning] No further splits with positive gain, best gain: -inf\n",
      "[LightGBM] [Warning] No further splits with positive gain, best gain: -inf\n",
      "[LightGBM] [Warning] No further splits with positive gain, best gain: -inf\n",
      "[LightGBM] [Warning] Accuracy may be bad since you didn't explicitly set num_leaves OR 2^max_depth > num_leaves. (num_leaves=31).\n",
      "[LightGBM] [Warning] Accuracy may be bad since you didn't explicitly set num_leaves OR 2^max_depth > num_leaves. (num_leaves=31).\n",
      "[LightGBM] [Warning] Accuracy may be bad since you didn't explicitly set num_leaves OR 2^max_depth > num_leaves. (num_leaves=31).\n",
      "[LightGBM] [Info] Auto-choosing row-wise multi-threading, the overhead of testing was 0.038774 seconds.\n",
      "You can set `force_row_wise=true` to remove the overhead.\n",
      "And if memory is not enough, you can set `force_col_wise=true`.\n",
      "[LightGBM] [Info] Total Bins 359\n",
      "[LightGBM] [Info] Number of data points in the train set: 209037, number of used features: 29\n",
      "[LightGBM] [Info] Start training from score 4582.030282\n",
      "[LightGBM] [Warning] No further splits with positive gain, best gain: -inf\n",
      "[LightGBM] [Warning] No further splits with positive gain, best gain: -inf\n",
      "[LightGBM] [Warning] No further splits with positive gain, best gain: -inf\n",
      "[LightGBM] [Warning] No further splits with positive gain, best gain: -inf\n",
      "[LightGBM] [Warning] No further splits with positive gain, best gain: -inf\n",
      "[LightGBM] [Warning] No further splits with positive gain, best gain: -inf\n",
      "[LightGBM] [Warning] No further splits with positive gain, best gain: -inf\n",
      "[LightGBM] [Warning] No further splits with positive gain, best gain: -inf\n",
      "[LightGBM] [Warning] No further splits with positive gain, best gain: -inf\n",
      "[LightGBM] [Warning] No further splits with positive gain, best gain: -inf\n",
      "[LightGBM] [Warning] No further splits with positive gain, best gain: -inf\n",
      "[LightGBM] [Warning] No further splits with positive gain, best gain: -inf\n",
      "[LightGBM] [Warning] No further splits with positive gain, best gain: -inf\n",
      "[LightGBM] [Warning] No further splits with positive gain, best gain: -inf\n",
      "[LightGBM] [Warning] No further splits with positive gain, best gain: -inf\n",
      "[LightGBM] [Warning] No further splits with positive gain, best gain: -inf\n",
      "[LightGBM] [Warning] No further splits with positive gain, best gain: -inf\n",
      "[LightGBM] [Warning] No further splits with positive gain, best gain: -inf\n",
      "[LightGBM] [Warning] No further splits with positive gain, best gain: -inf\n",
      "[LightGBM] [Warning] No further splits with positive gain, best gain: -inf\n",
      "[LightGBM] [Warning] No further splits with positive gain, best gain: -inf\n",
      "[LightGBM] [Warning] No further splits with positive gain, best gain: -inf\n",
      "[LightGBM] [Warning] No further splits with positive gain, best gain: -inf\n",
      "[LightGBM] [Warning] Accuracy may be bad since you didn't explicitly set num_leaves OR 2^max_depth > num_leaves. (num_leaves=31).\n",
      "[LightGBM] [Warning] Accuracy may be bad since you didn't explicitly set num_leaves OR 2^max_depth > num_leaves. (num_leaves=31).\n",
      "[LightGBM] [Warning] Accuracy may be bad since you didn't explicitly set num_leaves OR 2^max_depth > num_leaves. (num_leaves=31).\n",
      "[LightGBM] [Info] Auto-choosing row-wise multi-threading, the overhead of testing was 0.160460 seconds.\n",
      "You can set `force_row_wise=true` to remove the overhead.\n",
      "And if memory is not enough, you can set `force_col_wise=true`.\n",
      "[LightGBM] [Info] Total Bins 359\n",
      "[LightGBM] [Info] Number of data points in the train set: 209038, number of used features: 29\n",
      "[LightGBM] [Info] Start training from score 4586.906744\n",
      "[LightGBM] [Warning] No further splits with positive gain, best gain: -inf\n",
      "[LightGBM] [Warning] No further splits with positive gain, best gain: -inf\n",
      "[LightGBM] [Warning] No further splits with positive gain, best gain: -inf\n",
      "[LightGBM] [Warning] No further splits with positive gain, best gain: -inf\n",
      "[LightGBM] [Warning] No further splits with positive gain, best gain: -inf\n",
      "[LightGBM] [Warning] No further splits with positive gain, best gain: -inf\n",
      "[LightGBM] [Warning] No further splits with positive gain, best gain: -inf\n",
      "[LightGBM] [Warning] No further splits with positive gain, best gain: -inf\n",
      "[LightGBM] [Warning] No further splits with positive gain, best gain: -inf\n",
      "[LightGBM] [Warning] No further splits with positive gain, best gain: -inf\n",
      "[LightGBM] [Warning] No further splits with positive gain, best gain: -inf\n",
      "[LightGBM] [Warning] No further splits with positive gain, best gain: -inf\n",
      "[LightGBM] [Warning] No further splits with positive gain, best gain: -inf\n",
      "[LightGBM] [Warning] No further splits with positive gain, best gain: -inf\n",
      "[LightGBM] [Warning] No further splits with positive gain, best gain: -inf\n",
      "[LightGBM] [Warning] No further splits with positive gain, best gain: -inf\n",
      "[LightGBM] [Warning] No further splits with positive gain, best gain: -inf\n",
      "[LightGBM] [Warning] No further splits with positive gain, best gain: -inf\n",
      "[LightGBM] [Warning] Accuracy may be bad since you didn't explicitly set num_leaves OR 2^max_depth > num_leaves. (num_leaves=31).\n",
      "[LightGBM] [Warning] Accuracy may be bad since you didn't explicitly set num_leaves OR 2^max_depth > num_leaves. (num_leaves=31).\n",
      "[LightGBM] [Warning] Accuracy may be bad since you didn't explicitly set num_leaves OR 2^max_depth > num_leaves. (num_leaves=31).\n",
      "[LightGBM] [Info] Auto-choosing row-wise multi-threading, the overhead of testing was 0.036754 seconds.\n",
      "You can set `force_row_wise=true` to remove the overhead.\n",
      "And if memory is not enough, you can set `force_col_wise=true`.\n",
      "[LightGBM] [Info] Total Bins 359\n",
      "[LightGBM] [Info] Number of data points in the train set: 209038, number of used features: 29\n",
      "[LightGBM] [Info] Start training from score 4586.435519\n",
      "[LightGBM] [Warning] No further splits with positive gain, best gain: -inf\n",
      "[LightGBM] [Warning] No further splits with positive gain, best gain: -inf\n",
      "[LightGBM] [Warning] No further splits with positive gain, best gain: -inf\n",
      "[LightGBM] [Warning] No further splits with positive gain, best gain: -inf\n",
      "[LightGBM] [Warning] No further splits with positive gain, best gain: -inf\n",
      "[LightGBM] [Warning] No further splits with positive gain, best gain: -inf\n",
      "[LightGBM] [Warning] No further splits with positive gain, best gain: -inf\n",
      "[LightGBM] [Warning] No further splits with positive gain, best gain: -inf\n",
      "[LightGBM] [Warning] No further splits with positive gain, best gain: -inf\n",
      "[LightGBM] [Warning] No further splits with positive gain, best gain: -inf\n",
      "[LightGBM] [Warning] No further splits with positive gain, best gain: -inf\n",
      "[LightGBM] [Warning] No further splits with positive gain, best gain: -inf\n",
      "[LightGBM] [Warning] No further splits with positive gain, best gain: -inf\n",
      "[LightGBM] [Warning] No further splits with positive gain, best gain: -inf\n",
      "[LightGBM] [Warning] No further splits with positive gain, best gain: -inf\n",
      "[LightGBM] [Warning] No further splits with positive gain, best gain: -inf\n",
      "[LightGBM] [Warning] No further splits with positive gain, best gain: -inf\n",
      "[LightGBM] [Warning] Accuracy may be bad since you didn't explicitly set num_leaves OR 2^max_depth > num_leaves. (num_leaves=31).\n",
      "[LightGBM] [Warning] Accuracy may be bad since you didn't explicitly set num_leaves OR 2^max_depth > num_leaves. (num_leaves=31).\n",
      "[LightGBM] [Warning] Accuracy may be bad since you didn't explicitly set num_leaves OR 2^max_depth > num_leaves. (num_leaves=31).\n",
      "[LightGBM] [Info] Auto-choosing col-wise multi-threading, the overhead of testing was 0.158171 seconds.\n",
      "You can set `force_col_wise=true` to remove the overhead.\n",
      "[LightGBM] [Info] Total Bins 357\n",
      "[LightGBM] [Info] Number of data points in the train set: 209038, number of used features: 29\n",
      "[LightGBM] [Info] Start training from score 4583.830179\n",
      "[LightGBM] [Warning] No further splits with positive gain, best gain: -inf\n",
      "[LightGBM] [Warning] No further splits with positive gain, best gain: -inf\n",
      "[LightGBM] [Warning] No further splits with positive gain, best gain: -inf\n",
      "[LightGBM] [Warning] No further splits with positive gain, best gain: -inf\n",
      "[LightGBM] [Warning] No further splits with positive gain, best gain: -inf\n",
      "[LightGBM] [Warning] No further splits with positive gain, best gain: -inf\n",
      "[LightGBM] [Warning] No further splits with positive gain, best gain: -inf\n",
      "[LightGBM] [Warning] No further splits with positive gain, best gain: -inf\n",
      "[LightGBM] [Warning] No further splits with positive gain, best gain: -inf\n",
      "[LightGBM] [Warning] No further splits with positive gain, best gain: -inf\n",
      "[LightGBM] [Warning] No further splits with positive gain, best gain: -inf\n",
      "[LightGBM] [Warning] No further splits with positive gain, best gain: -inf\n",
      "[LightGBM] [Warning] No further splits with positive gain, best gain: -inf\n",
      "[LightGBM] [Warning] No further splits with positive gain, best gain: -inf\n",
      "[LightGBM] [Warning] No further splits with positive gain, best gain: -inf\n",
      "[LightGBM] [Warning] No further splits with positive gain, best gain: -inf\n",
      "[LightGBM] [Warning] No further splits with positive gain, best gain: -inf\n",
      "[LightGBM] [Warning] No further splits with positive gain, best gain: -inf\n",
      "[LightGBM] [Warning] No further splits with positive gain, best gain: -inf\n",
      "[LightGBM] [Warning] No further splits with positive gain, best gain: -inf\n",
      "[LightGBM] [Warning] Accuracy may be bad since you didn't explicitly set num_leaves OR 2^max_depth > num_leaves. (num_leaves=31).\n",
      "[LightGBM] [Warning] Accuracy may be bad since you didn't explicitly set num_leaves OR 2^max_depth > num_leaves. (num_leaves=31).\n",
      "[LightGBM] [Warning] Accuracy may be bad since you didn't explicitly set num_leaves OR 2^max_depth > num_leaves. (num_leaves=31).\n",
      "[LightGBM] [Info] Auto-choosing row-wise multi-threading, the overhead of testing was 0.033949 seconds.\n",
      "You can set `force_row_wise=true` to remove the overhead.\n",
      "And if memory is not enough, you can set `force_col_wise=true`.\n",
      "[LightGBM] [Info] Total Bins 357\n",
      "[LightGBM] [Info] Number of data points in the train set: 209037, number of used features: 29\n",
      "[LightGBM] [Info] Start training from score 4591.165368\n",
      "[LightGBM] [Warning] No further splits with positive gain, best gain: -inf\n",
      "[LightGBM] [Warning] No further splits with positive gain, best gain: -inf\n",
      "[LightGBM] [Warning] No further splits with positive gain, best gain: -inf\n",
      "[LightGBM] [Warning] No further splits with positive gain, best gain: -inf\n",
      "[LightGBM] [Warning] No further splits with positive gain, best gain: -inf\n",
      "[LightGBM] [Warning] No further splits with positive gain, best gain: -inf\n",
      "[LightGBM] [Warning] No further splits with positive gain, best gain: -inf\n",
      "[LightGBM] [Warning] No further splits with positive gain, best gain: -inf\n",
      "[LightGBM] [Warning] No further splits with positive gain, best gain: -inf\n",
      "[LightGBM] [Warning] No further splits with positive gain, best gain: -inf\n",
      "[LightGBM] [Warning] No further splits with positive gain, best gain: -inf\n",
      "[LightGBM] [Warning] No further splits with positive gain, best gain: -inf\n",
      "[LightGBM] [Warning] No further splits with positive gain, best gain: -inf\n",
      "[LightGBM] [Warning] No further splits with positive gain, best gain: -inf\n",
      "[LightGBM] [Warning] No further splits with positive gain, best gain: -inf\n",
      "[LightGBM] [Warning] No further splits with positive gain, best gain: -inf\n",
      "[LightGBM] [Warning] No further splits with positive gain, best gain: -inf\n",
      "[LightGBM] [Warning] No further splits with positive gain, best gain: -inf\n",
      "[LightGBM] [Warning] No further splits with positive gain, best gain: -inf\n",
      "[LightGBM] [Warning] No further splits with positive gain, best gain: -inf\n",
      "[LightGBM] [Warning] No further splits with positive gain, best gain: -inf\n",
      "[LightGBM] [Warning] No further splits with positive gain, best gain: -inf\n",
      "[LightGBM] [Warning] No further splits with positive gain, best gain: -inf\n",
      "[LightGBM] [Warning] No further splits with positive gain, best gain: -inf\n",
      "[LightGBM] [Warning] No further splits with positive gain, best gain: -inf\n",
      "[LightGBM] [Warning] No further splits with positive gain, best gain: -inf\n",
      "[LightGBM] [Warning] No further splits with positive gain, best gain: -inf\n",
      "[LightGBM] [Warning] No further splits with positive gain, best gain: -inf\n",
      "[LightGBM] [Warning] No further splits with positive gain, best gain: -inf\n",
      "[LightGBM] [Warning] No further splits with positive gain, best gain: -inf\n",
      "[LightGBM] [Warning] No further splits with positive gain, best gain: -inf\n",
      "[LightGBM] [Warning] No further splits with positive gain, best gain: -inf\n",
      "[LightGBM] [Warning] Accuracy may be bad since you didn't explicitly set num_leaves OR 2^max_depth > num_leaves. (num_leaves=31).\n",
      "[LightGBM] [Warning] Accuracy may be bad since you didn't explicitly set num_leaves OR 2^max_depth > num_leaves. (num_leaves=31).\n",
      "[LightGBM] [Warning] Accuracy may be bad since you didn't explicitly set num_leaves OR 2^max_depth > num_leaves. (num_leaves=31).\n",
      "[LightGBM] [Info] Auto-choosing row-wise multi-threading, the overhead of testing was 0.069703 seconds.\n",
      "You can set `force_row_wise=true` to remove the overhead.\n",
      "And if memory is not enough, you can set `force_col_wise=true`.\n",
      "[LightGBM] [Info] Total Bins 359\n",
      "[LightGBM] [Info] Number of data points in the train set: 209037, number of used features: 29\n",
      "[LightGBM] [Info] Start training from score 4582.030282\n",
      "[LightGBM] [Warning] No further splits with positive gain, best gain: -inf\n",
      "[LightGBM] [Warning] No further splits with positive gain, best gain: -inf\n",
      "[LightGBM] [Warning] No further splits with positive gain, best gain: -inf\n",
      "[LightGBM] [Warning] No further splits with positive gain, best gain: -inf\n",
      "[LightGBM] [Warning] No further splits with positive gain, best gain: -inf\n",
      "[LightGBM] [Warning] No further splits with positive gain, best gain: -inf\n",
      "[LightGBM] [Warning] No further splits with positive gain, best gain: -inf\n",
      "[LightGBM] [Warning] No further splits with positive gain, best gain: -inf\n",
      "[LightGBM] [Warning] No further splits with positive gain, best gain: -inf\n",
      "[LightGBM] [Warning] No further splits with positive gain, best gain: -inf\n",
      "[LightGBM] [Warning] No further splits with positive gain, best gain: -inf\n",
      "[LightGBM] [Warning] No further splits with positive gain, best gain: -inf\n",
      "[LightGBM] [Warning] No further splits with positive gain, best gain: -inf\n",
      "[LightGBM] [Warning] No further splits with positive gain, best gain: -inf\n",
      "[LightGBM] [Warning] No further splits with positive gain, best gain: -inf\n",
      "[LightGBM] [Warning] No further splits with positive gain, best gain: -inf\n",
      "[LightGBM] [Warning] No further splits with positive gain, best gain: -inf\n",
      "[LightGBM] [Warning] No further splits with positive gain, best gain: -inf\n",
      "[LightGBM] [Warning] No further splits with positive gain, best gain: -inf\n",
      "[LightGBM] [Warning] No further splits with positive gain, best gain: -inf\n",
      "[LightGBM] [Warning] No further splits with positive gain, best gain: -inf\n",
      "[LightGBM] [Warning] No further splits with positive gain, best gain: -inf\n",
      "[LightGBM] [Warning] No further splits with positive gain, best gain: -inf\n",
      "[LightGBM] [Warning] No further splits with positive gain, best gain: -inf\n",
      "[LightGBM] [Warning] No further splits with positive gain, best gain: -inf\n",
      "[LightGBM] [Warning] No further splits with positive gain, best gain: -inf\n",
      "[LightGBM] [Warning] No further splits with positive gain, best gain: -inf\n",
      "[LightGBM] [Warning] No further splits with positive gain, best gain: -inf\n",
      "[LightGBM] [Warning] No further splits with positive gain, best gain: -inf\n",
      "[LightGBM] [Warning] No further splits with positive gain, best gain: -inf\n",
      "[LightGBM] [Warning] No further splits with positive gain, best gain: -inf\n",
      "[LightGBM] [Warning] No further splits with positive gain, best gain: -inf\n",
      "[LightGBM] [Warning] No further splits with positive gain, best gain: -inf\n",
      "[LightGBM] [Warning] No further splits with positive gain, best gain: -inf\n",
      "[LightGBM] [Warning] No further splits with positive gain, best gain: -inf\n",
      "[LightGBM] [Warning] No further splits with positive gain, best gain: -inf\n",
      "[LightGBM] [Warning] No further splits with positive gain, best gain: -inf\n",
      "[LightGBM] [Warning] Accuracy may be bad since you didn't explicitly set num_leaves OR 2^max_depth > num_leaves. (num_leaves=31).\n",
      "[LightGBM] [Warning] Accuracy may be bad since you didn't explicitly set num_leaves OR 2^max_depth > num_leaves. (num_leaves=31).\n",
      "[LightGBM] [Warning] Accuracy may be bad since you didn't explicitly set num_leaves OR 2^max_depth > num_leaves. (num_leaves=31).\n",
      "[LightGBM] [Info] Auto-choosing row-wise multi-threading, the overhead of testing was 0.065889 seconds.\n",
      "You can set `force_row_wise=true` to remove the overhead.\n",
      "And if memory is not enough, you can set `force_col_wise=true`.\n",
      "[LightGBM] [Info] Total Bins 359\n",
      "[LightGBM] [Info] Number of data points in the train set: 209038, number of used features: 29\n",
      "[LightGBM] [Info] Start training from score 4586.906744\n",
      "[LightGBM] [Warning] No further splits with positive gain, best gain: -inf\n",
      "[LightGBM] [Warning] No further splits with positive gain, best gain: -inf\n",
      "[LightGBM] [Warning] No further splits with positive gain, best gain: -inf\n",
      "[LightGBM] [Warning] No further splits with positive gain, best gain: -inf\n",
      "[LightGBM] [Warning] No further splits with positive gain, best gain: -inf\n",
      "[LightGBM] [Warning] No further splits with positive gain, best gain: -inf\n",
      "[LightGBM] [Warning] No further splits with positive gain, best gain: -inf\n",
      "[LightGBM] [Warning] No further splits with positive gain, best gain: -inf\n",
      "[LightGBM] [Warning] No further splits with positive gain, best gain: -inf\n",
      "[LightGBM] [Warning] No further splits with positive gain, best gain: -inf\n",
      "[LightGBM] [Warning] No further splits with positive gain, best gain: -inf\n",
      "[LightGBM] [Warning] No further splits with positive gain, best gain: -inf\n",
      "[LightGBM] [Warning] No further splits with positive gain, best gain: -inf\n",
      "[LightGBM] [Warning] No further splits with positive gain, best gain: -inf\n",
      "[LightGBM] [Warning] No further splits with positive gain, best gain: -inf\n",
      "[LightGBM] [Warning] No further splits with positive gain, best gain: -inf\n",
      "[LightGBM] [Warning] No further splits with positive gain, best gain: -inf\n",
      "[LightGBM] [Warning] No further splits with positive gain, best gain: -inf\n",
      "[LightGBM] [Warning] No further splits with positive gain, best gain: -inf\n",
      "[LightGBM] [Warning] No further splits with positive gain, best gain: -inf\n",
      "[LightGBM] [Warning] No further splits with positive gain, best gain: -inf\n",
      "[LightGBM] [Warning] No further splits with positive gain, best gain: -inf\n",
      "[LightGBM] [Warning] No further splits with positive gain, best gain: -inf\n",
      "[LightGBM] [Warning] No further splits with positive gain, best gain: -inf\n",
      "[LightGBM] [Warning] No further splits with positive gain, best gain: -inf\n",
      "[LightGBM] [Warning] No further splits with positive gain, best gain: -inf\n",
      "[LightGBM] [Warning] No further splits with positive gain, best gain: -inf\n",
      "[LightGBM] [Warning] No further splits with positive gain, best gain: -inf\n",
      "[LightGBM] [Warning] No further splits with positive gain, best gain: -inf\n",
      "[LightGBM] [Warning] No further splits with positive gain, best gain: -inf\n",
      "[LightGBM] [Warning] No further splits with positive gain, best gain: -inf\n",
      "[LightGBM] [Warning] No further splits with positive gain, best gain: -inf\n",
      "[LightGBM] [Warning] No further splits with positive gain, best gain: -inf\n",
      "[LightGBM] [Warning] No further splits with positive gain, best gain: -inf\n",
      "[LightGBM] [Warning] No further splits with positive gain, best gain: -inf\n",
      "[LightGBM] [Warning] No further splits with positive gain, best gain: -inf\n",
      "[LightGBM] [Warning] No further splits with positive gain, best gain: -inf\n",
      "[LightGBM] [Warning] No further splits with positive gain, best gain: -inf\n",
      "[LightGBM] [Warning] No further splits with positive gain, best gain: -inf\n",
      "[LightGBM] [Warning] Accuracy may be bad since you didn't explicitly set num_leaves OR 2^max_depth > num_leaves. (num_leaves=31).\n",
      "[LightGBM] [Warning] Accuracy may be bad since you didn't explicitly set num_leaves OR 2^max_depth > num_leaves. (num_leaves=31).\n",
      "[LightGBM] [Warning] Accuracy may be bad since you didn't explicitly set num_leaves OR 2^max_depth > num_leaves. (num_leaves=31).\n",
      "[LightGBM] [Info] Auto-choosing row-wise multi-threading, the overhead of testing was 0.042417 seconds.\n",
      "You can set `force_row_wise=true` to remove the overhead.\n",
      "And if memory is not enough, you can set `force_col_wise=true`.\n",
      "[LightGBM] [Info] Total Bins 359\n",
      "[LightGBM] [Info] Number of data points in the train set: 209038, number of used features: 29\n",
      "[LightGBM] [Info] Start training from score 4586.435519\n",
      "[LightGBM] [Warning] No further splits with positive gain, best gain: -inf\n",
      "[LightGBM] [Warning] No further splits with positive gain, best gain: -inf\n",
      "[LightGBM] [Warning] No further splits with positive gain, best gain: -inf\n",
      "[LightGBM] [Warning] No further splits with positive gain, best gain: -inf\n",
      "[LightGBM] [Warning] No further splits with positive gain, best gain: -inf\n",
      "[LightGBM] [Warning] No further splits with positive gain, best gain: -inf\n",
      "[LightGBM] [Warning] No further splits with positive gain, best gain: -inf\n",
      "[LightGBM] [Warning] No further splits with positive gain, best gain: -inf\n",
      "[LightGBM] [Warning] No further splits with positive gain, best gain: -inf\n",
      "[LightGBM] [Warning] No further splits with positive gain, best gain: -inf\n",
      "[LightGBM] [Warning] No further splits with positive gain, best gain: -inf\n",
      "[LightGBM] [Warning] No further splits with positive gain, best gain: -inf\n",
      "[LightGBM] [Warning] No further splits with positive gain, best gain: -inf\n",
      "[LightGBM] [Warning] No further splits with positive gain, best gain: -inf\n",
      "[LightGBM] [Warning] No further splits with positive gain, best gain: -inf\n",
      "[LightGBM] [Warning] No further splits with positive gain, best gain: -inf\n",
      "[LightGBM] [Warning] No further splits with positive gain, best gain: -inf\n",
      "[LightGBM] [Warning] No further splits with positive gain, best gain: -inf\n",
      "[LightGBM] [Warning] No further splits with positive gain, best gain: -inf\n",
      "[LightGBM] [Warning] No further splits with positive gain, best gain: -inf\n",
      "[LightGBM] [Warning] No further splits with positive gain, best gain: -inf\n",
      "[LightGBM] [Warning] No further splits with positive gain, best gain: -inf\n",
      "[LightGBM] [Warning] No further splits with positive gain, best gain: -inf\n",
      "[LightGBM] [Warning] No further splits with positive gain, best gain: -inf\n",
      "[LightGBM] [Warning] No further splits with positive gain, best gain: -inf\n",
      "[LightGBM] [Warning] No further splits with positive gain, best gain: -inf\n",
      "[LightGBM] [Warning] No further splits with positive gain, best gain: -inf\n",
      "[LightGBM] [Warning] No further splits with positive gain, best gain: -inf\n",
      "[LightGBM] [Warning] No further splits with positive gain, best gain: -inf\n",
      "[LightGBM] [Warning] No further splits with positive gain, best gain: -inf\n",
      "[LightGBM] [Warning] Accuracy may be bad since you didn't explicitly set num_leaves OR 2^max_depth > num_leaves. (num_leaves=31).\n",
      "[LightGBM] [Warning] Accuracy may be bad since you didn't explicitly set num_leaves OR 2^max_depth > num_leaves. (num_leaves=31).\n",
      "[LightGBM] [Warning] Accuracy may be bad since you didn't explicitly set num_leaves OR 2^max_depth > num_leaves. (num_leaves=31).\n",
      "[LightGBM] [Info] Auto-choosing row-wise multi-threading, the overhead of testing was 0.043158 seconds.\n",
      "You can set `force_row_wise=true` to remove the overhead.\n",
      "And if memory is not enough, you can set `force_col_wise=true`.\n",
      "[LightGBM] [Info] Total Bins 357\n",
      "[LightGBM] [Info] Number of data points in the train set: 209038, number of used features: 29\n",
      "[LightGBM] [Info] Start training from score 4583.830179\n",
      "[LightGBM] [Warning] No further splits with positive gain, best gain: -inf\n",
      "[LightGBM] [Warning] No further splits with positive gain, best gain: -inf\n",
      "[LightGBM] [Warning] No further splits with positive gain, best gain: -inf\n",
      "[LightGBM] [Warning] No further splits with positive gain, best gain: -inf\n",
      "[LightGBM] [Warning] No further splits with positive gain, best gain: -inf\n",
      "[LightGBM] [Warning] No further splits with positive gain, best gain: -inf\n",
      "[LightGBM] [Warning] No further splits with positive gain, best gain: -inf\n",
      "[LightGBM] [Warning] No further splits with positive gain, best gain: -inf\n",
      "[LightGBM] [Warning] No further splits with positive gain, best gain: -inf\n",
      "[LightGBM] [Warning] No further splits with positive gain, best gain: -inf\n",
      "[LightGBM] [Warning] No further splits with positive gain, best gain: -inf\n",
      "[LightGBM] [Warning] No further splits with positive gain, best gain: -inf\n",
      "[LightGBM] [Warning] No further splits with positive gain, best gain: -inf\n",
      "[LightGBM] [Warning] No further splits with positive gain, best gain: -inf\n",
      "[LightGBM] [Warning] No further splits with positive gain, best gain: -inf\n",
      "[LightGBM] [Warning] No further splits with positive gain, best gain: -inf\n",
      "[LightGBM] [Warning] No further splits with positive gain, best gain: -inf\n",
      "[LightGBM] [Warning] No further splits with positive gain, best gain: -inf\n",
      "[LightGBM] [Warning] No further splits with positive gain, best gain: -inf\n",
      "[LightGBM] [Warning] No further splits with positive gain, best gain: -inf\n",
      "[LightGBM] [Warning] No further splits with positive gain, best gain: -inf\n",
      "[LightGBM] [Warning] No further splits with positive gain, best gain: -inf\n",
      "[LightGBM] [Warning] No further splits with positive gain, best gain: -inf\n",
      "[LightGBM] [Warning] No further splits with positive gain, best gain: -inf\n",
      "[LightGBM] [Warning] No further splits with positive gain, best gain: -inf\n",
      "[LightGBM] [Warning] No further splits with positive gain, best gain: -inf\n",
      "[LightGBM] [Warning] No further splits with positive gain, best gain: -inf\n",
      "[LightGBM] [Warning] No further splits with positive gain, best gain: -inf\n",
      "[LightGBM] [Warning] No further splits with positive gain, best gain: -inf\n",
      "[LightGBM] [Warning] No further splits with positive gain, best gain: -inf\n",
      "[LightGBM] [Warning] Accuracy may be bad since you didn't explicitly set num_leaves OR 2^max_depth > num_leaves. (num_leaves=31).\n",
      "[LightGBM] [Info] Auto-choosing row-wise multi-threading, the overhead of testing was 0.068089 seconds.\n",
      "You can set `force_row_wise=true` to remove the overhead.\n",
      "And if memory is not enough, you can set `force_col_wise=true`.\n",
      "[LightGBM] [Info] Total Bins 357\n",
      "[LightGBM] [Info] Number of data points in the train set: 209037, number of used features: 29\n",
      "[LightGBM] [Info] Start training from score 4591.165368\n",
      "[LightGBM] [Warning] No further splits with positive gain, best gain: -inf\n",
      "[LightGBM] [Warning] No further splits with positive gain, best gain: -inf\n",
      "[LightGBM] [Warning] No further splits with positive gain, best gain: -inf\n",
      "[LightGBM] [Info] Auto-choosing row-wise multi-threading, the overhead of testing was 0.039249 seconds.\n",
      "You can set `force_row_wise=true` to remove the overhead.\n",
      "And if memory is not enough, you can set `force_col_wise=true`.\n",
      "[LightGBM] [Info] Total Bins 359\n",
      "[LightGBM] [Info] Number of data points in the train set: 209037, number of used features: 29\n",
      "[LightGBM] [Info] Start training from score 4582.030282\n",
      "[LightGBM] [Warning] No further splits with positive gain, best gain: -inf\n",
      "[LightGBM] [Warning] No further splits with positive gain, best gain: -inf\n",
      "[LightGBM] [Warning] No further splits with positive gain, best gain: -inf\n",
      "[LightGBM] [Info] Auto-choosing row-wise multi-threading, the overhead of testing was 0.028125 seconds.\n",
      "You can set `force_row_wise=true` to remove the overhead.\n",
      "And if memory is not enough, you can set `force_col_wise=true`.\n",
      "[LightGBM] [Info] Total Bins 359\n",
      "[LightGBM] [Info] Number of data points in the train set: 209038, number of used features: 29\n",
      "[LightGBM] [Info] Start training from score 4586.906744\n",
      "[LightGBM] [Info] Auto-choosing col-wise multi-threading, the overhead of testing was 0.181455 seconds.\n",
      "You can set `force_col_wise=true` to remove the overhead.\n",
      "[LightGBM] [Info] Total Bins 359\n",
      "[LightGBM] [Info] Number of data points in the train set: 209038, number of used features: 29\n",
      "[LightGBM] [Info] Start training from score 4586.435519\n",
      "[LightGBM] [Warning] No further splits with positive gain, best gain: -inf\n",
      "[LightGBM] [Warning] No further splits with positive gain, best gain: -inf\n",
      "[LightGBM] [Info] Auto-choosing row-wise multi-threading, the overhead of testing was 0.048537 seconds.\n",
      "You can set `force_row_wise=true` to remove the overhead.\n",
      "And if memory is not enough, you can set `force_col_wise=true`.\n",
      "[LightGBM] [Info] Total Bins 357\n",
      "[LightGBM] [Info] Number of data points in the train set: 209038, number of used features: 29\n",
      "[LightGBM] [Info] Start training from score 4583.830179\n",
      "[LightGBM] [Info] Auto-choosing row-wise multi-threading, the overhead of testing was 0.042263 seconds.\n",
      "You can set `force_row_wise=true` to remove the overhead.\n",
      "And if memory is not enough, you can set `force_col_wise=true`.\n",
      "[LightGBM] [Info] Total Bins 357\n",
      "[LightGBM] [Info] Number of data points in the train set: 209037, number of used features: 29\n",
      "[LightGBM] [Info] Start training from score 4591.165368\n",
      "[LightGBM] [Warning] No further splits with positive gain, best gain: -inf\n",
      "[LightGBM] [Warning] No further splits with positive gain, best gain: -inf\n",
      "[LightGBM] [Warning] No further splits with positive gain, best gain: -inf\n",
      "[LightGBM] [Warning] No further splits with positive gain, best gain: -inf\n",
      "[LightGBM] [Info] Auto-choosing row-wise multi-threading, the overhead of testing was 0.047792 seconds.\n",
      "You can set `force_row_wise=true` to remove the overhead.\n",
      "And if memory is not enough, you can set `force_col_wise=true`.\n",
      "[LightGBM] [Info] Total Bins 359\n",
      "[LightGBM] [Info] Number of data points in the train set: 209037, number of used features: 29\n",
      "[LightGBM] [Info] Start training from score 4582.030282\n",
      "[LightGBM] [Warning] No further splits with positive gain, best gain: -inf\n",
      "[LightGBM] [Warning] No further splits with positive gain, best gain: -inf\n",
      "[LightGBM] [Warning] No further splits with positive gain, best gain: -inf\n",
      "[LightGBM] [Warning] No further splits with positive gain, best gain: -inf\n",
      "[LightGBM] [Info] Auto-choosing row-wise multi-threading, the overhead of testing was 0.031539 seconds.\n",
      "You can set `force_row_wise=true` to remove the overhead.\n",
      "And if memory is not enough, you can set `force_col_wise=true`.\n",
      "[LightGBM] [Info] Total Bins 359\n",
      "[LightGBM] [Info] Number of data points in the train set: 209038, number of used features: 29\n",
      "[LightGBM] [Info] Start training from score 4586.906744\n",
      "[LightGBM] [Info] Auto-choosing col-wise multi-threading, the overhead of testing was 0.126821 seconds.\n",
      "You can set `force_col_wise=true` to remove the overhead.\n",
      "[LightGBM] [Info] Total Bins 359\n",
      "[LightGBM] [Info] Number of data points in the train set: 209038, number of used features: 29\n",
      "[LightGBM] [Info] Start training from score 4586.435519\n",
      "[LightGBM] [Warning] No further splits with positive gain, best gain: -inf\n",
      "[LightGBM] [Warning] No further splits with positive gain, best gain: -inf\n",
      "[LightGBM] [Info] Auto-choosing row-wise multi-threading, the overhead of testing was 0.034423 seconds.\n",
      "You can set `force_row_wise=true` to remove the overhead.\n",
      "And if memory is not enough, you can set `force_col_wise=true`.\n",
      "[LightGBM] [Info] Total Bins 357\n",
      "[LightGBM] [Info] Number of data points in the train set: 209038, number of used features: 29\n",
      "[LightGBM] [Info] Start training from score 4583.830179\n",
      "[LightGBM] [Warning] No further splits with positive gain, best gain: -inf\n",
      "[LightGBM] [Warning] No further splits with positive gain, best gain: -inf\n",
      "[LightGBM] [Warning] No further splits with positive gain, best gain: -inf\n",
      "[LightGBM] [Warning] Accuracy may be bad since you didn't explicitly set num_leaves OR 2^max_depth > num_leaves. (num_leaves=31).\n",
      "[LightGBM] [Warning] Accuracy may be bad since you didn't explicitly set num_leaves OR 2^max_depth > num_leaves. (num_leaves=31).\n",
      "[LightGBM] [Info] Auto-choosing row-wise multi-threading, the overhead of testing was 0.032747 seconds.\n",
      "You can set `force_row_wise=true` to remove the overhead.\n",
      "And if memory is not enough, you can set `force_col_wise=true`.\n",
      "[LightGBM] [Info] Total Bins 357\n",
      "[LightGBM] [Info] Number of data points in the train set: 209037, number of used features: 29\n",
      "[LightGBM] [Info] Start training from score 4591.165368\n",
      "[LightGBM] [Warning] No further splits with positive gain, best gain: -inf\n",
      "[LightGBM] [Warning] No further splits with positive gain, best gain: -inf\n",
      "[LightGBM] [Warning] No further splits with positive gain, best gain: -inf\n",
      "[LightGBM] [Warning] No further splits with positive gain, best gain: -inf\n",
      "[LightGBM] [Warning] No further splits with positive gain, best gain: -inf\n",
      "[LightGBM] [Warning] No further splits with positive gain, best gain: -inf\n",
      "[LightGBM] [Warning] No further splits with positive gain, best gain: -inf\n",
      "[LightGBM] [Warning] No further splits with positive gain, best gain: -inf\n",
      "[LightGBM] [Warning] No further splits with positive gain, best gain: -inf\n",
      "[LightGBM] [Warning] No further splits with positive gain, best gain: -inf\n",
      "[LightGBM] [Warning] No further splits with positive gain, best gain: -inf\n",
      "[LightGBM] [Warning] No further splits with positive gain, best gain: -inf\n",
      "[LightGBM] [Warning] No further splits with positive gain, best gain: -inf\n",
      "[LightGBM] [Warning] No further splits with positive gain, best gain: -inf\n",
      "[LightGBM] [Warning] No further splits with positive gain, best gain: -inf\n",
      "[LightGBM] [Warning] No further splits with positive gain, best gain: -inf\n",
      "[LightGBM] [Warning] No further splits with positive gain, best gain: -inf\n",
      "[LightGBM] [Warning] No further splits with positive gain, best gain: -inf\n",
      "[LightGBM] [Warning] No further splits with positive gain, best gain: -inf\n",
      "[LightGBM] [Warning] No further splits with positive gain, best gain: -inf\n",
      "[LightGBM] [Warning] No further splits with positive gain, best gain: -inf\n",
      "[LightGBM] [Warning] No further splits with positive gain, best gain: -inf\n",
      "[LightGBM] [Warning] No further splits with positive gain, best gain: -inf\n",
      "[LightGBM] [Warning] No further splits with positive gain, best gain: -inf\n",
      "[LightGBM] [Warning] No further splits with positive gain, best gain: -inf\n",
      "[LightGBM] [Warning] No further splits with positive gain, best gain: -inf\n",
      "[LightGBM] [Warning] No further splits with positive gain, best gain: -inf\n",
      "[LightGBM] [Warning] No further splits with positive gain, best gain: -inf\n",
      "[LightGBM] [Warning] No further splits with positive gain, best gain: -inf\n",
      "[LightGBM] [Warning] No further splits with positive gain, best gain: -inf\n",
      "[LightGBM] [Warning] No further splits with positive gain, best gain: -inf\n",
      "[LightGBM] [Warning] No further splits with positive gain, best gain: -inf\n",
      "[LightGBM] [Warning] No further splits with positive gain, best gain: -inf\n",
      "[LightGBM] [Warning] No further splits with positive gain, best gain: -inf\n",
      "[LightGBM] [Warning] No further splits with positive gain, best gain: -inf\n",
      "[LightGBM] [Warning] No further splits with positive gain, best gain: -inf\n",
      "[LightGBM] [Warning] No further splits with positive gain, best gain: -inf\n",
      "[LightGBM] [Warning] No further splits with positive gain, best gain: -inf\n",
      "[LightGBM] [Warning] No further splits with positive gain, best gain: -inf\n",
      "[LightGBM] [Warning] No further splits with positive gain, best gain: -inf\n",
      "[LightGBM] [Warning] No further splits with positive gain, best gain: -inf\n",
      "[LightGBM] [Warning] Accuracy may be bad since you didn't explicitly set num_leaves OR 2^max_depth > num_leaves. (num_leaves=31).\n",
      "[LightGBM] [Warning] Accuracy may be bad since you didn't explicitly set num_leaves OR 2^max_depth > num_leaves. (num_leaves=31).\n",
      "[LightGBM] [Warning] Accuracy may be bad since you didn't explicitly set num_leaves OR 2^max_depth > num_leaves. (num_leaves=31).\n",
      "[LightGBM] [Info] Auto-choosing row-wise multi-threading, the overhead of testing was 0.061944 seconds.\n",
      "You can set `force_row_wise=true` to remove the overhead.\n",
      "And if memory is not enough, you can set `force_col_wise=true`.\n",
      "[LightGBM] [Info] Total Bins 359\n",
      "[LightGBM] [Info] Number of data points in the train set: 209037, number of used features: 29\n",
      "[LightGBM] [Info] Start training from score 4582.030282\n",
      "[LightGBM] [Warning] No further splits with positive gain, best gain: -inf\n",
      "[LightGBM] [Warning] No further splits with positive gain, best gain: -inf\n",
      "[LightGBM] [Warning] No further splits with positive gain, best gain: -inf\n",
      "[LightGBM] [Warning] No further splits with positive gain, best gain: -inf\n",
      "[LightGBM] [Warning] No further splits with positive gain, best gain: -inf\n",
      "[LightGBM] [Warning] No further splits with positive gain, best gain: -inf\n",
      "[LightGBM] [Warning] No further splits with positive gain, best gain: -inf\n",
      "[LightGBM] [Warning] No further splits with positive gain, best gain: -inf\n",
      "[LightGBM] [Warning] No further splits with positive gain, best gain: -inf\n",
      "[LightGBM] [Warning] No further splits with positive gain, best gain: -inf\n",
      "[LightGBM] [Warning] No further splits with positive gain, best gain: -inf\n",
      "[LightGBM] [Warning] No further splits with positive gain, best gain: -inf\n",
      "[LightGBM] [Warning] No further splits with positive gain, best gain: -inf\n",
      "[LightGBM] [Warning] No further splits with positive gain, best gain: -inf\n",
      "[LightGBM] [Warning] No further splits with positive gain, best gain: -inf\n",
      "[LightGBM] [Warning] No further splits with positive gain, best gain: -inf\n",
      "[LightGBM] [Warning] No further splits with positive gain, best gain: -inf\n",
      "[LightGBM] [Warning] No further splits with positive gain, best gain: -inf\n",
      "[LightGBM] [Warning] No further splits with positive gain, best gain: -inf\n",
      "[LightGBM] [Warning] No further splits with positive gain, best gain: -inf\n",
      "[LightGBM] [Warning] No further splits with positive gain, best gain: -inf\n",
      "[LightGBM] [Warning] No further splits with positive gain, best gain: -inf\n",
      "[LightGBM] [Warning] No further splits with positive gain, best gain: -inf\n",
      "[LightGBM] [Warning] No further splits with positive gain, best gain: -inf\n",
      "[LightGBM] [Warning] No further splits with positive gain, best gain: -inf\n",
      "[LightGBM] [Warning] No further splits with positive gain, best gain: -inf\n",
      "[LightGBM] [Warning] No further splits with positive gain, best gain: -inf\n",
      "[LightGBM] [Warning] No further splits with positive gain, best gain: -inf\n",
      "[LightGBM] [Warning] No further splits with positive gain, best gain: -inf\n",
      "[LightGBM] [Warning] No further splits with positive gain, best gain: -inf\n",
      "[LightGBM] [Warning] No further splits with positive gain, best gain: -inf\n",
      "[LightGBM] [Warning] No further splits with positive gain, best gain: -inf\n",
      "[LightGBM] [Warning] No further splits with positive gain, best gain: -inf\n",
      "[LightGBM] [Warning] No further splits with positive gain, best gain: -inf\n",
      "[LightGBM] [Warning] No further splits with positive gain, best gain: -inf\n",
      "[LightGBM] [Warning] No further splits with positive gain, best gain: -inf\n",
      "[LightGBM] [Warning] No further splits with positive gain, best gain: -inf\n",
      "[LightGBM] [Warning] No further splits with positive gain, best gain: -inf\n",
      "[LightGBM] [Warning] No further splits with positive gain, best gain: -inf\n",
      "[LightGBM] [Warning] No further splits with positive gain, best gain: -inf\n",
      "[LightGBM] [Warning] Accuracy may be bad since you didn't explicitly set num_leaves OR 2^max_depth > num_leaves. (num_leaves=31).\n",
      "[LightGBM] [Warning] Accuracy may be bad since you didn't explicitly set num_leaves OR 2^max_depth > num_leaves. (num_leaves=31).\n",
      "[LightGBM] [Warning] Accuracy may be bad since you didn't explicitly set num_leaves OR 2^max_depth > num_leaves. (num_leaves=31).\n",
      "[LightGBM] [Info] Auto-choosing row-wise multi-threading, the overhead of testing was 0.049617 seconds.\n",
      "You can set `force_row_wise=true` to remove the overhead.\n",
      "And if memory is not enough, you can set `force_col_wise=true`.\n",
      "[LightGBM] [Info] Total Bins 359\n",
      "[LightGBM] [Info] Number of data points in the train set: 209038, number of used features: 29\n",
      "[LightGBM] [Info] Start training from score 4586.906744\n",
      "[LightGBM] [Warning] No further splits with positive gain, best gain: -inf\n",
      "[LightGBM] [Warning] No further splits with positive gain, best gain: -inf\n",
      "[LightGBM] [Warning] No further splits with positive gain, best gain: -inf\n",
      "[LightGBM] [Warning] No further splits with positive gain, best gain: -inf\n",
      "[LightGBM] [Warning] No further splits with positive gain, best gain: -inf\n",
      "[LightGBM] [Warning] No further splits with positive gain, best gain: -inf\n",
      "[LightGBM] [Warning] No further splits with positive gain, best gain: -inf\n",
      "[LightGBM] [Warning] No further splits with positive gain, best gain: -inf\n",
      "[LightGBM] [Warning] No further splits with positive gain, best gain: -inf\n",
      "[LightGBM] [Warning] No further splits with positive gain, best gain: -inf\n",
      "[LightGBM] [Warning] No further splits with positive gain, best gain: -inf\n",
      "[LightGBM] [Warning] No further splits with positive gain, best gain: -inf\n",
      "[LightGBM] [Warning] No further splits with positive gain, best gain: -inf\n",
      "[LightGBM] [Warning] No further splits with positive gain, best gain: -inf\n",
      "[LightGBM] [Warning] No further splits with positive gain, best gain: -inf\n",
      "[LightGBM] [Warning] No further splits with positive gain, best gain: -inf\n",
      "[LightGBM] [Warning] No further splits with positive gain, best gain: -inf\n",
      "[LightGBM] [Warning] No further splits with positive gain, best gain: -inf\n",
      "[LightGBM] [Warning] No further splits with positive gain, best gain: -inf\n",
      "[LightGBM] [Warning] No further splits with positive gain, best gain: -inf\n",
      "[LightGBM] [Warning] No further splits with positive gain, best gain: -inf\n",
      "[LightGBM] [Warning] No further splits with positive gain, best gain: -inf\n",
      "[LightGBM] [Warning] No further splits with positive gain, best gain: -inf\n",
      "[LightGBM] [Warning] No further splits with positive gain, best gain: -inf\n",
      "[LightGBM] [Warning] No further splits with positive gain, best gain: -inf\n",
      "[LightGBM] [Warning] No further splits with positive gain, best gain: -inf\n",
      "[LightGBM] [Warning] No further splits with positive gain, best gain: -inf\n",
      "[LightGBM] [Warning] No further splits with positive gain, best gain: -inf\n",
      "[LightGBM] [Warning] No further splits with positive gain, best gain: -inf\n",
      "[LightGBM] [Warning] No further splits with positive gain, best gain: -inf\n",
      "[LightGBM] [Warning] No further splits with positive gain, best gain: -inf\n",
      "[LightGBM] [Warning] No further splits with positive gain, best gain: -inf\n",
      "[LightGBM] [Warning] No further splits with positive gain, best gain: -inf\n",
      "[LightGBM] [Warning] No further splits with positive gain, best gain: -inf\n",
      "[LightGBM] [Warning] No further splits with positive gain, best gain: -inf\n",
      "[LightGBM] [Warning] No further splits with positive gain, best gain: -inf\n",
      "[LightGBM] [Warning] No further splits with positive gain, best gain: -inf\n",
      "[LightGBM] [Warning] No further splits with positive gain, best gain: -inf\n",
      "[LightGBM] [Warning] No further splits with positive gain, best gain: -inf\n",
      "[LightGBM] [Warning] No further splits with positive gain, best gain: -inf\n",
      "[LightGBM] [Warning] Accuracy may be bad since you didn't explicitly set num_leaves OR 2^max_depth > num_leaves. (num_leaves=31).\n",
      "[LightGBM] [Warning] Accuracy may be bad since you didn't explicitly set num_leaves OR 2^max_depth > num_leaves. (num_leaves=31).\n",
      "[LightGBM] [Warning] Accuracy may be bad since you didn't explicitly set num_leaves OR 2^max_depth > num_leaves. (num_leaves=31).\n",
      "[LightGBM] [Info] Auto-choosing row-wise multi-threading, the overhead of testing was 0.035226 seconds.\n",
      "You can set `force_row_wise=true` to remove the overhead.\n",
      "And if memory is not enough, you can set `force_col_wise=true`.\n",
      "[LightGBM] [Info] Total Bins 359\n",
      "[LightGBM] [Info] Number of data points in the train set: 209038, number of used features: 29\n",
      "[LightGBM] [Info] Start training from score 4586.435519\n",
      "[LightGBM] [Warning] No further splits with positive gain, best gain: -inf\n",
      "[LightGBM] [Warning] No further splits with positive gain, best gain: -inf\n",
      "[LightGBM] [Warning] No further splits with positive gain, best gain: -inf\n",
      "[LightGBM] [Warning] No further splits with positive gain, best gain: -inf\n",
      "[LightGBM] [Warning] No further splits with positive gain, best gain: -inf\n",
      "[LightGBM] [Warning] No further splits with positive gain, best gain: -inf\n",
      "[LightGBM] [Warning] No further splits with positive gain, best gain: -inf\n",
      "[LightGBM] [Warning] No further splits with positive gain, best gain: -inf\n",
      "[LightGBM] [Warning] No further splits with positive gain, best gain: -inf\n",
      "[LightGBM] [Warning] No further splits with positive gain, best gain: -inf\n",
      "[LightGBM] [Warning] No further splits with positive gain, best gain: -inf\n",
      "[LightGBM] [Warning] No further splits with positive gain, best gain: -inf\n",
      "[LightGBM] [Warning] No further splits with positive gain, best gain: -inf\n",
      "[LightGBM] [Warning] No further splits with positive gain, best gain: -inf\n",
      "[LightGBM] [Warning] No further splits with positive gain, best gain: -inf\n",
      "[LightGBM] [Warning] No further splits with positive gain, best gain: -inf\n",
      "[LightGBM] [Warning] No further splits with positive gain, best gain: -inf\n",
      "[LightGBM] [Warning] No further splits with positive gain, best gain: -inf\n",
      "[LightGBM] [Warning] No further splits with positive gain, best gain: -inf\n",
      "[LightGBM] [Warning] No further splits with positive gain, best gain: -inf\n",
      "[LightGBM] [Warning] No further splits with positive gain, best gain: -inf\n",
      "[LightGBM] [Warning] No further splits with positive gain, best gain: -inf\n",
      "[LightGBM] [Warning] No further splits with positive gain, best gain: -inf\n",
      "[LightGBM] [Warning] No further splits with positive gain, best gain: -inf\n",
      "[LightGBM] [Warning] No further splits with positive gain, best gain: -inf\n",
      "[LightGBM] [Warning] No further splits with positive gain, best gain: -inf\n",
      "[LightGBM] [Warning] No further splits with positive gain, best gain: -inf\n",
      "[LightGBM] [Warning] No further splits with positive gain, best gain: -inf\n",
      "[LightGBM] [Warning] No further splits with positive gain, best gain: -inf\n",
      "[LightGBM] [Warning] No further splits with positive gain, best gain: -inf\n",
      "[LightGBM] [Warning] No further splits with positive gain, best gain: -inf\n",
      "[LightGBM] [Warning] No further splits with positive gain, best gain: -inf\n",
      "[LightGBM] [Warning] No further splits with positive gain, best gain: -inf\n",
      "[LightGBM] [Warning] No further splits with positive gain, best gain: -inf\n",
      "[LightGBM] [Warning] No further splits with positive gain, best gain: -inf\n",
      "[LightGBM] [Warning] No further splits with positive gain, best gain: -inf\n",
      "[LightGBM] [Warning] No further splits with positive gain, best gain: -inf\n",
      "[LightGBM] [Warning] No further splits with positive gain, best gain: -inf\n",
      "[LightGBM] [Warning] No further splits with positive gain, best gain: -inf\n",
      "[LightGBM] [Warning] No further splits with positive gain, best gain: -inf\n",
      "[LightGBM] [Warning] No further splits with positive gain, best gain: -inf\n",
      "[LightGBM] [Warning] No further splits with positive gain, best gain: -inf\n",
      "[LightGBM] [Warning] No further splits with positive gain, best gain: -inf\n",
      "[LightGBM] [Warning] No further splits with positive gain, best gain: -inf\n",
      "[LightGBM] [Warning] Accuracy may be bad since you didn't explicitly set num_leaves OR 2^max_depth > num_leaves. (num_leaves=31).\n",
      "[LightGBM] [Warning] Accuracy may be bad since you didn't explicitly set num_leaves OR 2^max_depth > num_leaves. (num_leaves=31).\n",
      "[LightGBM] [Warning] Accuracy may be bad since you didn't explicitly set num_leaves OR 2^max_depth > num_leaves. (num_leaves=31).\n",
      "[LightGBM] [Info] Auto-choosing row-wise multi-threading, the overhead of testing was 0.049474 seconds.\n",
      "You can set `force_row_wise=true` to remove the overhead.\n",
      "And if memory is not enough, you can set `force_col_wise=true`.\n",
      "[LightGBM] [Info] Total Bins 357\n",
      "[LightGBM] [Info] Number of data points in the train set: 209038, number of used features: 29\n",
      "[LightGBM] [Info] Start training from score 4583.830179\n",
      "[LightGBM] [Warning] No further splits with positive gain, best gain: -inf\n",
      "[LightGBM] [Warning] No further splits with positive gain, best gain: -inf\n",
      "[LightGBM] [Warning] No further splits with positive gain, best gain: -inf\n",
      "[LightGBM] [Warning] No further splits with positive gain, best gain: -inf\n",
      "[LightGBM] [Warning] No further splits with positive gain, best gain: -inf\n",
      "[LightGBM] [Warning] No further splits with positive gain, best gain: -inf\n",
      "[LightGBM] [Warning] No further splits with positive gain, best gain: -inf\n",
      "[LightGBM] [Warning] No further splits with positive gain, best gain: -inf\n",
      "[LightGBM] [Warning] No further splits with positive gain, best gain: -inf\n",
      "[LightGBM] [Warning] No further splits with positive gain, best gain: -inf\n",
      "[LightGBM] [Warning] No further splits with positive gain, best gain: -inf\n",
      "[LightGBM] [Warning] No further splits with positive gain, best gain: -inf\n",
      "[LightGBM] [Warning] No further splits with positive gain, best gain: -inf\n",
      "[LightGBM] [Warning] No further splits with positive gain, best gain: -inf\n",
      "[LightGBM] [Warning] No further splits with positive gain, best gain: -inf\n",
      "[LightGBM] [Warning] No further splits with positive gain, best gain: -inf\n",
      "[LightGBM] [Warning] No further splits with positive gain, best gain: -inf\n",
      "[LightGBM] [Warning] No further splits with positive gain, best gain: -inf\n",
      "[LightGBM] [Warning] No further splits with positive gain, best gain: -inf\n",
      "[LightGBM] [Warning] No further splits with positive gain, best gain: -inf\n",
      "[LightGBM] [Warning] No further splits with positive gain, best gain: -inf\n",
      "[LightGBM] [Warning] No further splits with positive gain, best gain: -inf\n",
      "[LightGBM] [Warning] No further splits with positive gain, best gain: -inf\n",
      "[LightGBM] [Warning] No further splits with positive gain, best gain: -inf\n",
      "[LightGBM] [Warning] No further splits with positive gain, best gain: -inf\n",
      "[LightGBM] [Warning] No further splits with positive gain, best gain: -inf\n",
      "[LightGBM] [Warning] No further splits with positive gain, best gain: -inf\n",
      "[LightGBM] [Warning] No further splits with positive gain, best gain: -inf\n",
      "[LightGBM] [Warning] No further splits with positive gain, best gain: -inf\n",
      "[LightGBM] [Warning] No further splits with positive gain, best gain: -inf\n",
      "[LightGBM] [Warning] No further splits with positive gain, best gain: -inf\n",
      "[LightGBM] [Warning] No further splits with positive gain, best gain: -inf\n",
      "[LightGBM] [Warning] No further splits with positive gain, best gain: -inf\n",
      "[LightGBM] [Warning] No further splits with positive gain, best gain: -inf\n",
      "[LightGBM] [Warning] No further splits with positive gain, best gain: -inf\n",
      "[LightGBM] [Warning] No further splits with positive gain, best gain: -inf\n",
      "[LightGBM] [Warning] No further splits with positive gain, best gain: -inf\n",
      "[LightGBM] [Warning] No further splits with positive gain, best gain: -inf\n",
      "[LightGBM] [Warning] No further splits with positive gain, best gain: -inf\n",
      "[LightGBM] [Warning] No further splits with positive gain, best gain: -inf\n",
      "[LightGBM] [Warning] Accuracy may be bad since you didn't explicitly set num_leaves OR 2^max_depth > num_leaves. (num_leaves=31).\n",
      "[LightGBM] [Warning] Accuracy may be bad since you didn't explicitly set num_leaves OR 2^max_depth > num_leaves. (num_leaves=31).\n",
      "[LightGBM] [Warning] Accuracy may be bad since you didn't explicitly set num_leaves OR 2^max_depth > num_leaves. (num_leaves=31).\n",
      "[LightGBM] [Info] Auto-choosing row-wise multi-threading, the overhead of testing was 0.035874 seconds.\n",
      "You can set `force_row_wise=true` to remove the overhead.\n",
      "And if memory is not enough, you can set `force_col_wise=true`.\n",
      "[LightGBM] [Info] Total Bins 357\n",
      "[LightGBM] [Info] Number of data points in the train set: 209037, number of used features: 29\n",
      "[LightGBM] [Info] Start training from score 4591.165368\n",
      "[LightGBM] [Warning] No further splits with positive gain, best gain: -inf\n",
      "[LightGBM] [Warning] No further splits with positive gain, best gain: -inf\n",
      "[LightGBM] [Warning] No further splits with positive gain, best gain: -inf\n",
      "[LightGBM] [Warning] No further splits with positive gain, best gain: -inf\n",
      "[LightGBM] [Warning] No further splits with positive gain, best gain: -inf\n",
      "[LightGBM] [Warning] No further splits with positive gain, best gain: -inf\n",
      "[LightGBM] [Warning] No further splits with positive gain, best gain: -inf\n",
      "[LightGBM] [Warning] No further splits with positive gain, best gain: -inf\n",
      "[LightGBM] [Warning] No further splits with positive gain, best gain: -inf\n",
      "[LightGBM] [Warning] No further splits with positive gain, best gain: -inf\n",
      "[LightGBM] [Warning] No further splits with positive gain, best gain: -inf\n",
      "[LightGBM] [Warning] No further splits with positive gain, best gain: -inf\n",
      "[LightGBM] [Warning] No further splits with positive gain, best gain: -inf\n",
      "[LightGBM] [Warning] No further splits with positive gain, best gain: -inf\n",
      "[LightGBM] [Warning] No further splits with positive gain, best gain: -inf\n",
      "[LightGBM] [Warning] No further splits with positive gain, best gain: -inf\n",
      "[LightGBM] [Warning] No further splits with positive gain, best gain: -inf\n",
      "[LightGBM] [Warning] No further splits with positive gain, best gain: -inf\n",
      "[LightGBM] [Warning] No further splits with positive gain, best gain: -inf\n",
      "[LightGBM] [Warning] No further splits with positive gain, best gain: -inf\n",
      "[LightGBM] [Warning] No further splits with positive gain, best gain: -inf\n",
      "[LightGBM] [Warning] No further splits with positive gain, best gain: -inf\n",
      "[LightGBM] [Warning] No further splits with positive gain, best gain: -inf\n",
      "[LightGBM] [Warning] No further splits with positive gain, best gain: -inf\n",
      "[LightGBM] [Warning] No further splits with positive gain, best gain: -inf\n",
      "[LightGBM] [Warning] No further splits with positive gain, best gain: -inf\n",
      "[LightGBM] [Warning] No further splits with positive gain, best gain: -inf\n",
      "[LightGBM] [Warning] No further splits with positive gain, best gain: -inf\n",
      "[LightGBM] [Warning] No further splits with positive gain, best gain: -inf\n",
      "[LightGBM] [Warning] No further splits with positive gain, best gain: -inf\n",
      "[LightGBM] [Warning] No further splits with positive gain, best gain: -inf\n",
      "[LightGBM] [Warning] No further splits with positive gain, best gain: -inf\n",
      "[LightGBM] [Warning] No further splits with positive gain, best gain: -inf\n",
      "[LightGBM] [Warning] No further splits with positive gain, best gain: -inf\n",
      "[LightGBM] [Warning] No further splits with positive gain, best gain: -inf\n",
      "[LightGBM] [Warning] No further splits with positive gain, best gain: -inf\n",
      "[LightGBM] [Warning] No further splits with positive gain, best gain: -inf\n",
      "[LightGBM] [Warning] No further splits with positive gain, best gain: -inf\n",
      "[LightGBM] [Warning] No further splits with positive gain, best gain: -inf\n",
      "[LightGBM] [Warning] No further splits with positive gain, best gain: -inf\n",
      "[LightGBM] [Warning] No further splits with positive gain, best gain: -inf\n",
      "[LightGBM] [Warning] No further splits with positive gain, best gain: -inf\n",
      "[LightGBM] [Warning] No further splits with positive gain, best gain: -inf\n",
      "[LightGBM] [Warning] No further splits with positive gain, best gain: -inf\n",
      "[LightGBM] [Warning] No further splits with positive gain, best gain: -inf\n",
      "[LightGBM] [Warning] No further splits with positive gain, best gain: -inf\n",
      "[LightGBM] [Warning] No further splits with positive gain, best gain: -inf\n",
      "[LightGBM] [Warning] No further splits with positive gain, best gain: -inf\n",
      "[LightGBM] [Warning] No further splits with positive gain, best gain: -inf\n",
      "[LightGBM] [Warning] No further splits with positive gain, best gain: -inf\n",
      "[LightGBM] [Warning] No further splits with positive gain, best gain: -inf\n",
      "[LightGBM] [Warning] No further splits with positive gain, best gain: -inf\n",
      "[LightGBM] [Warning] No further splits with positive gain, best gain: -inf\n",
      "[LightGBM] [Warning] No further splits with positive gain, best gain: -inf\n",
      "[LightGBM] [Warning] No further splits with positive gain, best gain: -inf\n",
      "[LightGBM] [Warning] No further splits with positive gain, best gain: -inf\n",
      "[LightGBM] [Warning] No further splits with positive gain, best gain: -inf\n",
      "[LightGBM] [Warning] No further splits with positive gain, best gain: -inf\n",
      "[LightGBM] [Warning] No further splits with positive gain, best gain: -inf\n",
      "[LightGBM] [Warning] No further splits with positive gain, best gain: -inf\n",
      "[LightGBM] [Warning] No further splits with positive gain, best gain: -inf\n",
      "[LightGBM] [Warning] No further splits with positive gain, best gain: -inf\n",
      "[LightGBM] [Warning] No further splits with positive gain, best gain: -inf\n",
      "[LightGBM] [Warning] No further splits with positive gain, best gain: -inf\n",
      "[LightGBM] [Warning] No further splits with positive gain, best gain: -inf\n",
      "[LightGBM] [Warning] No further splits with positive gain, best gain: -inf\n",
      "[LightGBM] [Warning] No further splits with positive gain, best gain: -inf\n",
      "[LightGBM] [Warning] Accuracy may be bad since you didn't explicitly set num_leaves OR 2^max_depth > num_leaves. (num_leaves=31).\n",
      "[LightGBM] [Warning] Accuracy may be bad since you didn't explicitly set num_leaves OR 2^max_depth > num_leaves. (num_leaves=31).\n",
      "[LightGBM] [Warning] Accuracy may be bad since you didn't explicitly set num_leaves OR 2^max_depth > num_leaves. (num_leaves=31).\n",
      "[LightGBM] [Info] Auto-choosing row-wise multi-threading, the overhead of testing was 0.037047 seconds.\n",
      "You can set `force_row_wise=true` to remove the overhead.\n",
      "And if memory is not enough, you can set `force_col_wise=true`.\n",
      "[LightGBM] [Info] Total Bins 359\n",
      "[LightGBM] [Info] Number of data points in the train set: 209037, number of used features: 29\n",
      "[LightGBM] [Info] Start training from score 4582.030282\n",
      "[LightGBM] [Warning] No further splits with positive gain, best gain: -inf\n",
      "[LightGBM] [Warning] No further splits with positive gain, best gain: -inf\n",
      "[LightGBM] [Warning] No further splits with positive gain, best gain: -inf\n",
      "[LightGBM] [Warning] No further splits with positive gain, best gain: -inf\n",
      "[LightGBM] [Warning] No further splits with positive gain, best gain: -inf\n",
      "[LightGBM] [Warning] No further splits with positive gain, best gain: -inf\n",
      "[LightGBM] [Warning] No further splits with positive gain, best gain: -inf\n",
      "[LightGBM] [Warning] No further splits with positive gain, best gain: -inf\n",
      "[LightGBM] [Warning] No further splits with positive gain, best gain: -inf\n",
      "[LightGBM] [Warning] No further splits with positive gain, best gain: -inf\n",
      "[LightGBM] [Warning] No further splits with positive gain, best gain: -inf\n",
      "[LightGBM] [Warning] No further splits with positive gain, best gain: -inf\n",
      "[LightGBM] [Warning] No further splits with positive gain, best gain: -inf\n",
      "[LightGBM] [Warning] No further splits with positive gain, best gain: -inf\n",
      "[LightGBM] [Warning] No further splits with positive gain, best gain: -inf\n",
      "[LightGBM] [Warning] No further splits with positive gain, best gain: -inf\n",
      "[LightGBM] [Warning] No further splits with positive gain, best gain: -inf\n",
      "[LightGBM] [Warning] No further splits with positive gain, best gain: -inf\n",
      "[LightGBM] [Warning] No further splits with positive gain, best gain: -inf\n",
      "[LightGBM] [Warning] No further splits with positive gain, best gain: -inf\n",
      "[LightGBM] [Warning] No further splits with positive gain, best gain: -inf\n",
      "[LightGBM] [Warning] No further splits with positive gain, best gain: -inf\n",
      "[LightGBM] [Warning] No further splits with positive gain, best gain: -inf\n",
      "[LightGBM] [Warning] No further splits with positive gain, best gain: -inf\n",
      "[LightGBM] [Warning] No further splits with positive gain, best gain: -inf\n",
      "[LightGBM] [Warning] No further splits with positive gain, best gain: -inf\n",
      "[LightGBM] [Warning] No further splits with positive gain, best gain: -inf\n",
      "[LightGBM] [Warning] No further splits with positive gain, best gain: -inf\n",
      "[LightGBM] [Warning] No further splits with positive gain, best gain: -inf\n",
      "[LightGBM] [Warning] No further splits with positive gain, best gain: -inf\n",
      "[LightGBM] [Warning] No further splits with positive gain, best gain: -inf\n",
      "[LightGBM] [Warning] No further splits with positive gain, best gain: -inf\n",
      "[LightGBM] [Warning] No further splits with positive gain, best gain: -inf\n",
      "[LightGBM] [Warning] No further splits with positive gain, best gain: -inf\n",
      "[LightGBM] [Warning] No further splits with positive gain, best gain: -inf\n",
      "[LightGBM] [Warning] No further splits with positive gain, best gain: -inf\n",
      "[LightGBM] [Warning] No further splits with positive gain, best gain: -inf\n",
      "[LightGBM] [Warning] No further splits with positive gain, best gain: -inf\n",
      "[LightGBM] [Warning] No further splits with positive gain, best gain: -inf\n",
      "[LightGBM] [Warning] No further splits with positive gain, best gain: -inf\n",
      "[LightGBM] [Warning] No further splits with positive gain, best gain: -inf\n",
      "[LightGBM] [Warning] No further splits with positive gain, best gain: -inf\n",
      "[LightGBM] [Warning] No further splits with positive gain, best gain: -inf\n",
      "[LightGBM] [Warning] No further splits with positive gain, best gain: -inf\n",
      "[LightGBM] [Warning] No further splits with positive gain, best gain: -inf\n",
      "[LightGBM] [Warning] No further splits with positive gain, best gain: -inf\n",
      "[LightGBM] [Warning] No further splits with positive gain, best gain: -inf\n",
      "[LightGBM] [Warning] No further splits with positive gain, best gain: -inf\n",
      "[LightGBM] [Warning] No further splits with positive gain, best gain: -inf\n",
      "[LightGBM] [Warning] No further splits with positive gain, best gain: -inf\n",
      "[LightGBM] [Warning] No further splits with positive gain, best gain: -inf\n",
      "[LightGBM] [Warning] No further splits with positive gain, best gain: -inf\n",
      "[LightGBM] [Warning] No further splits with positive gain, best gain: -inf\n",
      "[LightGBM] [Warning] No further splits with positive gain, best gain: -inf\n",
      "[LightGBM] [Warning] No further splits with positive gain, best gain: -inf\n",
      "[LightGBM] [Warning] No further splits with positive gain, best gain: -inf\n",
      "[LightGBM] [Warning] No further splits with positive gain, best gain: -inf\n",
      "[LightGBM] [Warning] No further splits with positive gain, best gain: -inf\n",
      "[LightGBM] [Warning] No further splits with positive gain, best gain: -inf\n",
      "[LightGBM] [Warning] No further splits with positive gain, best gain: -inf\n",
      "[LightGBM] [Warning] No further splits with positive gain, best gain: -inf\n",
      "[LightGBM] [Warning] No further splits with positive gain, best gain: -inf\n",
      "[LightGBM] [Warning] No further splits with positive gain, best gain: -inf\n",
      "[LightGBM] [Warning] No further splits with positive gain, best gain: -inf\n",
      "[LightGBM] [Warning] Accuracy may be bad since you didn't explicitly set num_leaves OR 2^max_depth > num_leaves. (num_leaves=31).\n",
      "[LightGBM] [Warning] Accuracy may be bad since you didn't explicitly set num_leaves OR 2^max_depth > num_leaves. (num_leaves=31).\n",
      "[LightGBM] [Warning] Accuracy may be bad since you didn't explicitly set num_leaves OR 2^max_depth > num_leaves. (num_leaves=31).\n",
      "[LightGBM] [Info] Auto-choosing row-wise multi-threading, the overhead of testing was 0.036216 seconds.\n",
      "You can set `force_row_wise=true` to remove the overhead.\n",
      "And if memory is not enough, you can set `force_col_wise=true`.\n",
      "[LightGBM] [Info] Total Bins 359\n",
      "[LightGBM] [Info] Number of data points in the train set: 209038, number of used features: 29\n",
      "[LightGBM] [Info] Start training from score 4586.906744\n",
      "[LightGBM] [Warning] No further splits with positive gain, best gain: -inf\n",
      "[LightGBM] [Warning] No further splits with positive gain, best gain: -inf\n",
      "[LightGBM] [Warning] No further splits with positive gain, best gain: -inf\n",
      "[LightGBM] [Warning] No further splits with positive gain, best gain: -inf\n",
      "[LightGBM] [Warning] No further splits with positive gain, best gain: -inf\n",
      "[LightGBM] [Warning] No further splits with positive gain, best gain: -inf\n",
      "[LightGBM] [Warning] No further splits with positive gain, best gain: -inf\n",
      "[LightGBM] [Warning] No further splits with positive gain, best gain: -inf\n",
      "[LightGBM] [Warning] No further splits with positive gain, best gain: -inf\n",
      "[LightGBM] [Warning] No further splits with positive gain, best gain: -inf\n",
      "[LightGBM] [Warning] No further splits with positive gain, best gain: -inf\n",
      "[LightGBM] [Warning] No further splits with positive gain, best gain: -inf\n",
      "[LightGBM] [Warning] No further splits with positive gain, best gain: -inf\n",
      "[LightGBM] [Warning] No further splits with positive gain, best gain: -inf\n",
      "[LightGBM] [Warning] No further splits with positive gain, best gain: -inf\n",
      "[LightGBM] [Warning] No further splits with positive gain, best gain: -inf\n",
      "[LightGBM] [Warning] No further splits with positive gain, best gain: -inf\n",
      "[LightGBM] [Warning] No further splits with positive gain, best gain: -inf\n",
      "[LightGBM] [Warning] No further splits with positive gain, best gain: -inf\n",
      "[LightGBM] [Warning] No further splits with positive gain, best gain: -inf\n",
      "[LightGBM] [Warning] No further splits with positive gain, best gain: -inf\n",
      "[LightGBM] [Warning] No further splits with positive gain, best gain: -inf\n",
      "[LightGBM] [Warning] No further splits with positive gain, best gain: -inf\n",
      "[LightGBM] [Warning] No further splits with positive gain, best gain: -inf\n",
      "[LightGBM] [Warning] No further splits with positive gain, best gain: -inf\n",
      "[LightGBM] [Warning] No further splits with positive gain, best gain: -inf\n",
      "[LightGBM] [Warning] No further splits with positive gain, best gain: -inf\n",
      "[LightGBM] [Warning] No further splits with positive gain, best gain: -inf\n",
      "[LightGBM] [Warning] No further splits with positive gain, best gain: -inf\n",
      "[LightGBM] [Warning] No further splits with positive gain, best gain: -inf\n",
      "[LightGBM] [Warning] No further splits with positive gain, best gain: -inf\n",
      "[LightGBM] [Warning] No further splits with positive gain, best gain: -inf\n",
      "[LightGBM] [Warning] No further splits with positive gain, best gain: -inf\n",
      "[LightGBM] [Warning] No further splits with positive gain, best gain: -inf\n",
      "[LightGBM] [Warning] No further splits with positive gain, best gain: -inf\n",
      "[LightGBM] [Warning] No further splits with positive gain, best gain: -inf\n",
      "[LightGBM] [Warning] No further splits with positive gain, best gain: -inf\n",
      "[LightGBM] [Warning] No further splits with positive gain, best gain: -inf\n",
      "[LightGBM] [Warning] No further splits with positive gain, best gain: -inf\n",
      "[LightGBM] [Warning] No further splits with positive gain, best gain: -inf\n",
      "[LightGBM] [Warning] No further splits with positive gain, best gain: -inf\n",
      "[LightGBM] [Warning] No further splits with positive gain, best gain: -inf\n",
      "[LightGBM] [Warning] No further splits with positive gain, best gain: -inf\n",
      "[LightGBM] [Warning] No further splits with positive gain, best gain: -inf\n",
      "[LightGBM] [Warning] No further splits with positive gain, best gain: -inf\n",
      "[LightGBM] [Warning] No further splits with positive gain, best gain: -inf\n",
      "[LightGBM] [Warning] No further splits with positive gain, best gain: -inf\n",
      "[LightGBM] [Warning] No further splits with positive gain, best gain: -inf\n",
      "[LightGBM] [Warning] No further splits with positive gain, best gain: -inf\n",
      "[LightGBM] [Warning] No further splits with positive gain, best gain: -inf\n",
      "[LightGBM] [Warning] No further splits with positive gain, best gain: -inf\n",
      "[LightGBM] [Warning] No further splits with positive gain, best gain: -inf\n",
      "[LightGBM] [Warning] No further splits with positive gain, best gain: -inf\n",
      "[LightGBM] [Warning] No further splits with positive gain, best gain: -inf\n",
      "[LightGBM] [Warning] No further splits with positive gain, best gain: -inf\n",
      "[LightGBM] [Warning] No further splits with positive gain, best gain: -inf\n",
      "[LightGBM] [Warning] No further splits with positive gain, best gain: -inf\n",
      "[LightGBM] [Warning] No further splits with positive gain, best gain: -inf\n",
      "[LightGBM] [Warning] No further splits with positive gain, best gain: -inf\n",
      "[LightGBM] [Warning] No further splits with positive gain, best gain: -inf\n",
      "[LightGBM] [Warning] No further splits with positive gain, best gain: -inf\n",
      "[LightGBM] [Warning] Accuracy may be bad since you didn't explicitly set num_leaves OR 2^max_depth > num_leaves. (num_leaves=31).\n",
      "[LightGBM] [Warning] Accuracy may be bad since you didn't explicitly set num_leaves OR 2^max_depth > num_leaves. (num_leaves=31).\n",
      "[LightGBM] [Warning] Accuracy may be bad since you didn't explicitly set num_leaves OR 2^max_depth > num_leaves. (num_leaves=31).\n",
      "[LightGBM] [Info] Auto-choosing row-wise multi-threading, the overhead of testing was 0.035627 seconds.\n",
      "You can set `force_row_wise=true` to remove the overhead.\n",
      "And if memory is not enough, you can set `force_col_wise=true`.\n",
      "[LightGBM] [Info] Total Bins 359\n",
      "[LightGBM] [Info] Number of data points in the train set: 209038, number of used features: 29\n",
      "[LightGBM] [Info] Start training from score 4586.435519\n",
      "[LightGBM] [Warning] No further splits with positive gain, best gain: -inf\n",
      "[LightGBM] [Warning] No further splits with positive gain, best gain: -inf\n",
      "[LightGBM] [Warning] No further splits with positive gain, best gain: -inf\n",
      "[LightGBM] [Warning] No further splits with positive gain, best gain: -inf\n",
      "[LightGBM] [Warning] No further splits with positive gain, best gain: -inf\n",
      "[LightGBM] [Warning] No further splits with positive gain, best gain: -inf\n",
      "[LightGBM] [Warning] No further splits with positive gain, best gain: -inf\n",
      "[LightGBM] [Warning] No further splits with positive gain, best gain: -inf\n",
      "[LightGBM] [Warning] No further splits with positive gain, best gain: -inf\n",
      "[LightGBM] [Warning] No further splits with positive gain, best gain: -inf\n",
      "[LightGBM] [Warning] No further splits with positive gain, best gain: -inf\n",
      "[LightGBM] [Warning] No further splits with positive gain, best gain: -inf\n",
      "[LightGBM] [Warning] No further splits with positive gain, best gain: -inf\n",
      "[LightGBM] [Warning] No further splits with positive gain, best gain: -inf\n",
      "[LightGBM] [Warning] No further splits with positive gain, best gain: -inf\n",
      "[LightGBM] [Warning] No further splits with positive gain, best gain: -inf\n",
      "[LightGBM] [Warning] No further splits with positive gain, best gain: -inf\n",
      "[LightGBM] [Warning] No further splits with positive gain, best gain: -inf\n",
      "[LightGBM] [Warning] No further splits with positive gain, best gain: -inf\n",
      "[LightGBM] [Warning] No further splits with positive gain, best gain: -inf\n",
      "[LightGBM] [Warning] No further splits with positive gain, best gain: -inf\n",
      "[LightGBM] [Warning] No further splits with positive gain, best gain: -inf\n",
      "[LightGBM] [Warning] No further splits with positive gain, best gain: -inf\n",
      "[LightGBM] [Warning] No further splits with positive gain, best gain: -inf\n",
      "[LightGBM] [Warning] No further splits with positive gain, best gain: -inf\n",
      "[LightGBM] [Warning] No further splits with positive gain, best gain: -inf\n",
      "[LightGBM] [Warning] No further splits with positive gain, best gain: -inf\n",
      "[LightGBM] [Warning] No further splits with positive gain, best gain: -inf\n",
      "[LightGBM] [Warning] No further splits with positive gain, best gain: -inf\n",
      "[LightGBM] [Warning] No further splits with positive gain, best gain: -inf\n",
      "[LightGBM] [Warning] No further splits with positive gain, best gain: -inf\n",
      "[LightGBM] [Warning] No further splits with positive gain, best gain: -inf\n",
      "[LightGBM] [Warning] No further splits with positive gain, best gain: -inf\n",
      "[LightGBM] [Warning] No further splits with positive gain, best gain: -inf\n",
      "[LightGBM] [Warning] No further splits with positive gain, best gain: -inf\n",
      "[LightGBM] [Warning] No further splits with positive gain, best gain: -inf\n",
      "[LightGBM] [Warning] No further splits with positive gain, best gain: -inf\n",
      "[LightGBM] [Warning] No further splits with positive gain, best gain: -inf\n",
      "[LightGBM] [Warning] No further splits with positive gain, best gain: -inf\n",
      "[LightGBM] [Warning] No further splits with positive gain, best gain: -inf\n",
      "[LightGBM] [Warning] No further splits with positive gain, best gain: -inf\n",
      "[LightGBM] [Warning] No further splits with positive gain, best gain: -inf\n",
      "[LightGBM] [Warning] No further splits with positive gain, best gain: -inf\n",
      "[LightGBM] [Warning] No further splits with positive gain, best gain: -inf\n",
      "[LightGBM] [Warning] No further splits with positive gain, best gain: -inf\n",
      "[LightGBM] [Warning] No further splits with positive gain, best gain: -inf\n",
      "[LightGBM] [Warning] No further splits with positive gain, best gain: -inf\n",
      "[LightGBM] [Warning] No further splits with positive gain, best gain: -inf\n",
      "[LightGBM] [Warning] No further splits with positive gain, best gain: -inf\n",
      "[LightGBM] [Warning] No further splits with positive gain, best gain: -inf\n",
      "[LightGBM] [Warning] No further splits with positive gain, best gain: -inf\n",
      "[LightGBM] [Warning] No further splits with positive gain, best gain: -inf\n",
      "[LightGBM] [Warning] No further splits with positive gain, best gain: -inf\n",
      "[LightGBM] [Warning] No further splits with positive gain, best gain: -inf\n",
      "[LightGBM] [Warning] No further splits with positive gain, best gain: -inf\n",
      "[LightGBM] [Warning] No further splits with positive gain, best gain: -inf\n",
      "[LightGBM] [Warning] No further splits with positive gain, best gain: -inf\n",
      "[LightGBM] [Warning] No further splits with positive gain, best gain: -inf\n",
      "[LightGBM] [Warning] No further splits with positive gain, best gain: -inf\n",
      "[LightGBM] [Warning] No further splits with positive gain, best gain: -inf\n",
      "[LightGBM] [Warning] No further splits with positive gain, best gain: -inf\n",
      "[LightGBM] [Warning] No further splits with positive gain, best gain: -inf\n",
      "[LightGBM] [Warning] No further splits with positive gain, best gain: -inf\n",
      "[LightGBM] [Warning] No further splits with positive gain, best gain: -inf\n",
      "[LightGBM] [Warning] Accuracy may be bad since you didn't explicitly set num_leaves OR 2^max_depth > num_leaves. (num_leaves=31).\n",
      "[LightGBM] [Warning] Accuracy may be bad since you didn't explicitly set num_leaves OR 2^max_depth > num_leaves. (num_leaves=31).\n",
      "[LightGBM] [Warning] Accuracy may be bad since you didn't explicitly set num_leaves OR 2^max_depth > num_leaves. (num_leaves=31).\n",
      "[LightGBM] [Info] Auto-choosing row-wise multi-threading, the overhead of testing was 0.050475 seconds.\n",
      "You can set `force_row_wise=true` to remove the overhead.\n",
      "And if memory is not enough, you can set `force_col_wise=true`.\n",
      "[LightGBM] [Info] Total Bins 357\n",
      "[LightGBM] [Info] Number of data points in the train set: 209038, number of used features: 29\n",
      "[LightGBM] [Info] Start training from score 4583.830179\n",
      "[LightGBM] [Warning] No further splits with positive gain, best gain: -inf\n",
      "[LightGBM] [Warning] No further splits with positive gain, best gain: -inf\n",
      "[LightGBM] [Warning] No further splits with positive gain, best gain: -inf\n",
      "[LightGBM] [Warning] No further splits with positive gain, best gain: -inf\n",
      "[LightGBM] [Warning] No further splits with positive gain, best gain: -inf\n",
      "[LightGBM] [Warning] No further splits with positive gain, best gain: -inf\n",
      "[LightGBM] [Warning] No further splits with positive gain, best gain: -inf\n",
      "[LightGBM] [Warning] No further splits with positive gain, best gain: -inf\n",
      "[LightGBM] [Warning] No further splits with positive gain, best gain: -inf\n",
      "[LightGBM] [Warning] No further splits with positive gain, best gain: -inf\n",
      "[LightGBM] [Warning] No further splits with positive gain, best gain: -inf\n",
      "[LightGBM] [Warning] No further splits with positive gain, best gain: -inf\n",
      "[LightGBM] [Warning] No further splits with positive gain, best gain: -inf\n",
      "[LightGBM] [Warning] No further splits with positive gain, best gain: -inf\n",
      "[LightGBM] [Warning] No further splits with positive gain, best gain: -inf\n",
      "[LightGBM] [Warning] No further splits with positive gain, best gain: -inf\n",
      "[LightGBM] [Warning] No further splits with positive gain, best gain: -inf\n",
      "[LightGBM] [Warning] No further splits with positive gain, best gain: -inf\n",
      "[LightGBM] [Warning] No further splits with positive gain, best gain: -inf\n",
      "[LightGBM] [Warning] No further splits with positive gain, best gain: -inf\n",
      "[LightGBM] [Warning] No further splits with positive gain, best gain: -inf\n",
      "[LightGBM] [Warning] No further splits with positive gain, best gain: -inf\n",
      "[LightGBM] [Warning] No further splits with positive gain, best gain: -inf\n",
      "[LightGBM] [Warning] No further splits with positive gain, best gain: -inf\n",
      "[LightGBM] [Warning] No further splits with positive gain, best gain: -inf\n",
      "[LightGBM] [Warning] No further splits with positive gain, best gain: -inf\n",
      "[LightGBM] [Warning] No further splits with positive gain, best gain: -inf\n",
      "[LightGBM] [Warning] No further splits with positive gain, best gain: -inf\n",
      "[LightGBM] [Warning] No further splits with positive gain, best gain: -inf\n",
      "[LightGBM] [Warning] No further splits with positive gain, best gain: -inf\n",
      "[LightGBM] [Warning] No further splits with positive gain, best gain: -inf\n",
      "[LightGBM] [Warning] No further splits with positive gain, best gain: -inf\n",
      "[LightGBM] [Warning] No further splits with positive gain, best gain: -inf\n",
      "[LightGBM] [Warning] No further splits with positive gain, best gain: -inf\n",
      "[LightGBM] [Warning] No further splits with positive gain, best gain: -inf\n",
      "[LightGBM] [Warning] No further splits with positive gain, best gain: -inf\n",
      "[LightGBM] [Warning] No further splits with positive gain, best gain: -inf\n",
      "[LightGBM] [Warning] No further splits with positive gain, best gain: -inf\n",
      "[LightGBM] [Warning] No further splits with positive gain, best gain: -inf\n",
      "[LightGBM] [Warning] No further splits with positive gain, best gain: -inf\n",
      "[LightGBM] [Warning] No further splits with positive gain, best gain: -inf\n",
      "[LightGBM] [Warning] No further splits with positive gain, best gain: -inf\n",
      "[LightGBM] [Warning] No further splits with positive gain, best gain: -inf\n",
      "[LightGBM] [Warning] No further splits with positive gain, best gain: -inf\n",
      "[LightGBM] [Warning] No further splits with positive gain, best gain: -inf\n",
      "[LightGBM] [Warning] No further splits with positive gain, best gain: -inf\n",
      "[LightGBM] [Warning] No further splits with positive gain, best gain: -inf\n",
      "[LightGBM] [Warning] No further splits with positive gain, best gain: -inf\n",
      "[LightGBM] [Warning] No further splits with positive gain, best gain: -inf\n",
      "[LightGBM] [Warning] No further splits with positive gain, best gain: -inf\n",
      "[LightGBM] [Warning] No further splits with positive gain, best gain: -inf\n",
      "[LightGBM] [Warning] No further splits with positive gain, best gain: -inf\n",
      "[LightGBM] [Warning] No further splits with positive gain, best gain: -inf\n",
      "[LightGBM] [Warning] No further splits with positive gain, best gain: -inf\n",
      "[LightGBM] [Warning] No further splits with positive gain, best gain: -inf\n",
      "[LightGBM] [Warning] No further splits with positive gain, best gain: -inf\n",
      "[LightGBM] [Warning] No further splits with positive gain, best gain: -inf\n",
      "[LightGBM] [Warning] No further splits with positive gain, best gain: -inf\n",
      "[LightGBM] [Warning] No further splits with positive gain, best gain: -inf\n",
      "[LightGBM] [Warning] No further splits with positive gain, best gain: -inf\n",
      "[LightGBM] [Warning] No further splits with positive gain, best gain: -inf\n",
      "[LightGBM] [Warning] No further splits with positive gain, best gain: -inf\n",
      "[LightGBM] [Warning] No further splits with positive gain, best gain: -inf\n",
      "[LightGBM] [Warning] No further splits with positive gain, best gain: -inf\n",
      "[LightGBM] [Warning] No further splits with positive gain, best gain: -inf\n",
      "[LightGBM] [Warning] Accuracy may be bad since you didn't explicitly set num_leaves OR 2^max_depth > num_leaves. (num_leaves=31).\n",
      "[LightGBM] [Warning] Accuracy may be bad since you didn't explicitly set num_leaves OR 2^max_depth > num_leaves. (num_leaves=31).\n",
      "[LightGBM] [Warning] Accuracy may be bad since you didn't explicitly set num_leaves OR 2^max_depth > num_leaves. (num_leaves=31).\n",
      "[LightGBM] [Info] Auto-choosing row-wise multi-threading, the overhead of testing was 0.039309 seconds.\n",
      "You can set `force_row_wise=true` to remove the overhead.\n",
      "And if memory is not enough, you can set `force_col_wise=true`.\n",
      "[LightGBM] [Info] Total Bins 357\n",
      "[LightGBM] [Info] Number of data points in the train set: 261297, number of used features: 29\n",
      "[LightGBM] [Info] Start training from score 4586.073617\n",
      "[LightGBM] [Warning] No further splits with positive gain, best gain: -inf\n",
      "[LightGBM] [Warning] No further splits with positive gain, best gain: -inf\n",
      "[LightGBM] [Warning] No further splits with positive gain, best gain: -inf\n",
      "[LightGBM] [Warning] No further splits with positive gain, best gain: -inf\n",
      "[LightGBM] [Warning] No further splits with positive gain, best gain: -inf\n",
      "[LightGBM] [Warning] No further splits with positive gain, best gain: -inf\n",
      "[LightGBM] [Warning] No further splits with positive gain, best gain: -inf\n",
      "[LightGBM] [Warning] No further splits with positive gain, best gain: -inf\n",
      "[LightGBM] [Warning] No further splits with positive gain, best gain: -inf\n",
      "[LightGBM] [Warning] No further splits with positive gain, best gain: -inf\n",
      "[LightGBM] [Warning] No further splits with positive gain, best gain: -inf\n",
      "[LightGBM] [Warning] No further splits with positive gain, best gain: -inf\n",
      "[LightGBM] [Warning] No further splits with positive gain, best gain: -inf\n",
      "[LightGBM] [Warning] No further splits with positive gain, best gain: -inf\n",
      "[LightGBM] [Warning] No further splits with positive gain, best gain: -inf\n",
      "[LightGBM] [Warning] No further splits with positive gain, best gain: -inf\n",
      "[LightGBM] [Warning] No further splits with positive gain, best gain: -inf\n",
      "[LightGBM] [Warning] No further splits with positive gain, best gain: -inf\n",
      "[LightGBM] [Warning] No further splits with positive gain, best gain: -inf\n",
      "[LightGBM] [Warning] No further splits with positive gain, best gain: -inf\n",
      "[LightGBM] [Warning] No further splits with positive gain, best gain: -inf\n",
      "[LightGBM] [Warning] No further splits with positive gain, best gain: -inf\n",
      "[LightGBM] [Warning] No further splits with positive gain, best gain: -inf\n",
      "[LightGBM] [Warning] No further splits with positive gain, best gain: -inf\n",
      "[LightGBM] [Warning] No further splits with positive gain, best gain: -inf\n",
      "[LightGBM] [Warning] No further splits with positive gain, best gain: -inf\n",
      "[LightGBM] [Warning] No further splits with positive gain, best gain: -inf\n",
      "[LightGBM] [Warning] No further splits with positive gain, best gain: -inf\n",
      "[LightGBM] [Warning] No further splits with positive gain, best gain: -inf\n",
      "[LightGBM] [Warning] No further splits with positive gain, best gain: -inf\n",
      "[LightGBM] [Warning] No further splits with positive gain, best gain: -inf\n",
      "[LightGBM] [Warning] No further splits with positive gain, best gain: -inf\n",
      "[LightGBM] [Warning] No further splits with positive gain, best gain: -inf\n",
      "[LightGBM] [Warning] No further splits with positive gain, best gain: -inf\n",
      "[LightGBM] [Warning] No further splits with positive gain, best gain: -inf\n",
      "[LightGBM] [Warning] No further splits with positive gain, best gain: -inf\n",
      "[LightGBM] [Warning] No further splits with positive gain, best gain: -inf\n",
      "[LightGBM] [Warning] No further splits with positive gain, best gain: -inf\n",
      "[LightGBM] [Warning] No further splits with positive gain, best gain: -inf\n",
      "[LightGBM] [Warning] No further splits with positive gain, best gain: -inf\n",
      "[LightGBM] [Warning] No further splits with positive gain, best gain: -inf\n",
      "[LightGBM] [Warning] No further splits with positive gain, best gain: -inf\n",
      "[LightGBM] [Warning] No further splits with positive gain, best gain: -inf\n",
      "[LightGBM] [Warning] No further splits with positive gain, best gain: -inf\n",
      "[LightGBM] [Warning] No further splits with positive gain, best gain: -inf\n",
      "[LightGBM] [Warning] No further splits with positive gain, best gain: -inf\n",
      "[LightGBM] [Warning] No further splits with positive gain, best gain: -inf\n",
      "[LightGBM] [Warning] No further splits with positive gain, best gain: -inf\n",
      "[LightGBM] [Warning] No further splits with positive gain, best gain: -inf\n",
      "[LightGBM] [Warning] No further splits with positive gain, best gain: -inf\n",
      "[LightGBM] [Warning] No further splits with positive gain, best gain: -inf\n",
      "[LightGBM] [Warning] No further splits with positive gain, best gain: -inf\n",
      "[LightGBM] [Warning] No further splits with positive gain, best gain: -inf\n",
      "[LightGBM] [Warning] No further splits with positive gain, best gain: -inf\n",
      "[LightGBM] [Warning] Accuracy may be bad since you didn't explicitly set num_leaves OR 2^max_depth > num_leaves. (num_leaves=31).\n",
      "[LightGBM] [Warning] Accuracy may be bad since you didn't explicitly set num_leaves OR 2^max_depth > num_leaves. (num_leaves=31).\n",
      "[LightGBM] [Info] Auto-choosing row-wise multi-threading, the overhead of testing was 0.038567 seconds.\n",
      "You can set `force_row_wise=true` to remove the overhead.\n",
      "And if memory is not enough, you can set `force_col_wise=true`.\n",
      "[LightGBM] [Info] Total Bins 357\n",
      "[LightGBM] [Info] Number of data points in the train set: 261297, number of used features: 29\n",
      "[LightGBM] [Info] Start training from score 4586.073617\n",
      "[LightGBM] [Warning] No further splits with positive gain, best gain: -inf\n",
      "[LightGBM] [Warning] No further splits with positive gain, best gain: -inf\n",
      "[LightGBM] [Warning] No further splits with positive gain, best gain: -inf\n",
      "[LightGBM] [Warning] No further splits with positive gain, best gain: -inf\n",
      "[LightGBM] [Warning] No further splits with positive gain, best gain: -inf\n",
      "[LightGBM] [Warning] No further splits with positive gain, best gain: -inf\n",
      "[LightGBM] [Warning] No further splits with positive gain, best gain: -inf\n",
      "[LightGBM] [Warning] No further splits with positive gain, best gain: -inf\n",
      "[LightGBM] [Warning] No further splits with positive gain, best gain: -inf\n",
      "[LightGBM] [Warning] No further splits with positive gain, best gain: -inf\n",
      "[LightGBM] [Warning] No further splits with positive gain, best gain: -inf\n",
      "[LightGBM] [Warning] No further splits with positive gain, best gain: -inf\n",
      "[LightGBM] [Warning] No further splits with positive gain, best gain: -inf\n",
      "[LightGBM] [Warning] No further splits with positive gain, best gain: -inf\n",
      "[LightGBM] [Warning] No further splits with positive gain, best gain: -inf\n",
      "[LightGBM] [Warning] No further splits with positive gain, best gain: -inf\n",
      "[LightGBM] [Warning] No further splits with positive gain, best gain: -inf\n",
      "[LightGBM] [Warning] No further splits with positive gain, best gain: -inf\n",
      "[LightGBM] [Warning] No further splits with positive gain, best gain: -inf\n",
      "[LightGBM] [Warning] No further splits with positive gain, best gain: -inf\n",
      "[LightGBM] [Warning] No further splits with positive gain, best gain: -inf\n",
      "[LightGBM] [Warning] No further splits with positive gain, best gain: -inf\n",
      "[LightGBM] [Warning] No further splits with positive gain, best gain: -inf\n",
      "[LightGBM] [Warning] No further splits with positive gain, best gain: -inf\n",
      "[LightGBM] [Warning] No further splits with positive gain, best gain: -inf\n",
      "[LightGBM] [Warning] No further splits with positive gain, best gain: -inf\n",
      "[LightGBM] [Warning] No further splits with positive gain, best gain: -inf\n",
      "[LightGBM] [Warning] No further splits with positive gain, best gain: -inf\n",
      "[LightGBM] [Warning] No further splits with positive gain, best gain: -inf\n",
      "[LightGBM] [Warning] No further splits with positive gain, best gain: -inf\n",
      "[LightGBM] [Warning] No further splits with positive gain, best gain: -inf\n",
      "[LightGBM] [Warning] No further splits with positive gain, best gain: -inf\n",
      "[LightGBM] [Warning] No further splits with positive gain, best gain: -inf\n",
      "[LightGBM] [Warning] No further splits with positive gain, best gain: -inf\n",
      "[LightGBM] [Warning] No further splits with positive gain, best gain: -inf\n",
      "[LightGBM] [Warning] No further splits with positive gain, best gain: -inf\n",
      "[LightGBM] [Warning] No further splits with positive gain, best gain: -inf\n",
      "[LightGBM] [Warning] No further splits with positive gain, best gain: -inf\n",
      "[LightGBM] [Warning] No further splits with positive gain, best gain: -inf\n",
      "[LightGBM] [Warning] No further splits with positive gain, best gain: -inf\n",
      "[LightGBM] [Warning] No further splits with positive gain, best gain: -inf\n",
      "[LightGBM] [Warning] No further splits with positive gain, best gain: -inf\n",
      "[LightGBM] [Warning] No further splits with positive gain, best gain: -inf\n",
      "[LightGBM] [Warning] No further splits with positive gain, best gain: -inf\n",
      "[LightGBM] [Warning] No further splits with positive gain, best gain: -inf\n",
      "[LightGBM] [Warning] No further splits with positive gain, best gain: -inf\n",
      "[LightGBM] [Warning] No further splits with positive gain, best gain: -inf\n",
      "[LightGBM] [Warning] No further splits with positive gain, best gain: -inf\n",
      "[LightGBM] [Warning] No further splits with positive gain, best gain: -inf\n",
      "[LightGBM] [Warning] No further splits with positive gain, best gain: -inf\n",
      "[LightGBM] [Warning] No further splits with positive gain, best gain: -inf\n",
      "[LightGBM] [Warning] No further splits with positive gain, best gain: -inf\n",
      "[LightGBM] [Warning] No further splits with positive gain, best gain: -inf\n",
      "[LightGBM] [Warning] No further splits with positive gain, best gain: -inf\n",
      "[LightGBM] [Warning] Accuracy may be bad since you didn't explicitly set num_leaves OR 2^max_depth > num_leaves. (num_leaves=31).\n",
      "LightGBM Model:\n",
      "Best Parameters: {'learning_rate': 0.1, 'max_depth': 5, 'n_estimators': 200, 'random_state': 42}\n",
      "Best Parameters Finding Time: 220.682484 seconds\n",
      "Root Mean Squared Error (RMSE): 1712.2346\n",
      "Learning Time: 5.797926 seconds\n",
      "Prediction Time: 1.001701 seconds\n"
     ]
    }
   ],
   "source": [
    "# Набор гиперпараметров\n",
    "lgb_params = {\n",
    "    'n_estimators': [150, 200],\n",
    "    'learning_rate': [0.05, 0.1],\n",
    "    'max_depth': [3, 5],\n",
    "    'random_state': [42]\n",
    "}\n",
    "\n",
    "# Инициализация модели\n",
    "lgb_model = lgb.LGBMRegressor()\n",
    "\n",
    "# Инициализуем GridSearchCV\n",
    "grid = GridSearchCV(lgb_model, lgb_params, cv=5, scoring='neg_root_mean_squared_error')\n",
    "\n",
    "# Нахождение лучших параметров\n",
    "start_time = time.time()\n",
    "grid.fit(X_train, y_train)\n",
    "lgb_learning_time = time.time() - start_time\n",
    "\n",
    "# Вытаскиваем лучший набор параметров\n",
    "best_params = grid.best_params_\n",
    "\n",
    "# Тренируем модель на лучших параметрах\n",
    "start_time = time.time()\n",
    "lgb_model = lgb.LGBMRegressor(**best_params)\n",
    "lgb_model.fit(X_train, y_train)\n",
    "lgb_learning_time_2 = time.time() - start_time\n",
    "\n",
    "# Делаем предсказание и рассчитываем RMSE\n",
    "start_time = time.time()\n",
    "lgb_predictions = lgb_model.predict(X_test)\n",
    "lgb_prediction_time = time.time() - start_time\n",
    "lgb_rmse = np.sqrt(mean_squared_error(y_test, lgb_predictions))\n",
    "\n",
    "# Статистика для модели LightGBM\n",
    "print('LightGBM Model:')\n",
    "print(f'Best Parameters: {best_params}')\n",
    "print(f'Best Parameters Finding Time: {lgb_learning_time:.6f} seconds')\n",
    "print(f'Root Mean Squared Error (RMSE): {lgb_rmse:.4f}')\n",
    "print(f'Learning Time: {lgb_learning_time_2:.6f} seconds')\n",
    "print(f'Prediction Time: {lgb_prediction_time:.6f} seconds')\n"
   ]
  },
  {
   "cell_type": "code",
   "execution_count": 17,
   "metadata": {
    "ExecuteTime": {
     "end_time": "2024-02-20T18:49:43.982942675Z",
     "start_time": "2024-02-20T18:42:13.257040587Z"
    }
   },
   "outputs": [
    {
     "name": "stdout",
     "output_type": "stream",
     "text": [
      "0:\tlearn: 4226.7880495\ttotal: 104ms\tremaining: 20.8s\n",
      "1:\tlearn: 3959.9070222\ttotal: 224ms\tremaining: 22.2s\n",
      "2:\tlearn: 3718.7649762\ttotal: 330ms\tremaining: 21.7s\n",
      "3:\tlearn: 3509.8288748\ttotal: 566ms\tremaining: 27.7s\n",
      "4:\tlearn: 3328.2309882\ttotal: 655ms\tremaining: 25.5s\n",
      "5:\tlearn: 3165.4269741\ttotal: 834ms\tremaining: 27s\n",
      "6:\tlearn: 3022.3376757\ttotal: 992ms\tremaining: 27.3s\n",
      "7:\tlearn: 2897.1180141\ttotal: 1.17s\tremaining: 28s\n",
      "8:\tlearn: 2790.5769651\ttotal: 1.27s\tremaining: 26.9s\n",
      "9:\tlearn: 2693.6676577\ttotal: 1.39s\tremaining: 26.4s\n",
      "10:\tlearn: 2609.0606601\ttotal: 1.49s\tremaining: 25.6s\n",
      "11:\tlearn: 2535.6764221\ttotal: 1.59s\tremaining: 24.9s\n",
      "12:\tlearn: 2474.3444025\ttotal: 1.71s\tremaining: 24.6s\n",
      "13:\tlearn: 2419.0586249\ttotal: 1.82s\tremaining: 24.1s\n",
      "14:\tlearn: 2367.6706760\ttotal: 1.96s\tremaining: 24.1s\n",
      "15:\tlearn: 2325.7417475\ttotal: 2.11s\tremaining: 24.3s\n",
      "16:\tlearn: 2282.5415403\ttotal: 2.28s\tremaining: 24.5s\n",
      "17:\tlearn: 2249.4886885\ttotal: 2.43s\tremaining: 24.6s\n",
      "18:\tlearn: 2220.7030869\ttotal: 2.54s\tremaining: 24.2s\n",
      "19:\tlearn: 2196.0691660\ttotal: 2.61s\tremaining: 23.5s\n",
      "20:\tlearn: 2168.1780053\ttotal: 2.7s\tremaining: 23s\n",
      "21:\tlearn: 2142.2706320\ttotal: 2.81s\tremaining: 22.8s\n",
      "22:\tlearn: 2117.4394005\ttotal: 2.89s\tremaining: 22.2s\n",
      "23:\tlearn: 2099.1054732\ttotal: 2.96s\tremaining: 21.7s\n",
      "24:\tlearn: 2083.7721771\ttotal: 3.02s\tremaining: 21.1s\n",
      "25:\tlearn: 2071.2135836\ttotal: 3.06s\tremaining: 20.5s\n",
      "26:\tlearn: 2051.0934598\ttotal: 3.11s\tremaining: 19.9s\n",
      "27:\tlearn: 2032.7950593\ttotal: 3.16s\tremaining: 19.4s\n",
      "28:\tlearn: 2021.0900506\ttotal: 3.22s\tremaining: 19s\n",
      "29:\tlearn: 2007.1861372\ttotal: 3.26s\tremaining: 18.5s\n",
      "30:\tlearn: 1996.3724321\ttotal: 3.3s\tremaining: 18s\n",
      "31:\tlearn: 1989.1319987\ttotal: 3.33s\tremaining: 17.5s\n",
      "32:\tlearn: 1977.5897336\ttotal: 3.38s\tremaining: 17.1s\n",
      "33:\tlearn: 1965.1368313\ttotal: 3.43s\tremaining: 16.7s\n",
      "34:\tlearn: 1954.3549613\ttotal: 3.49s\tremaining: 16.5s\n",
      "35:\tlearn: 1946.6273995\ttotal: 3.59s\tremaining: 16.3s\n",
      "36:\tlearn: 1940.6813830\ttotal: 3.63s\tremaining: 16s\n",
      "37:\tlearn: 1932.3872249\ttotal: 3.67s\tremaining: 15.7s\n",
      "38:\tlearn: 1925.4777853\ttotal: 3.73s\tremaining: 15.4s\n",
      "39:\tlearn: 1920.5868838\ttotal: 3.78s\tremaining: 15.1s\n",
      "40:\tlearn: 1913.0549435\ttotal: 3.83s\tremaining: 14.9s\n",
      "41:\tlearn: 1907.8596095\ttotal: 3.87s\tremaining: 14.6s\n",
      "42:\tlearn: 1901.2065216\ttotal: 3.91s\tremaining: 14.3s\n",
      "43:\tlearn: 1897.2459919\ttotal: 3.94s\tremaining: 14s\n",
      "44:\tlearn: 1893.7574682\ttotal: 4.01s\tremaining: 13.8s\n",
      "45:\tlearn: 1889.7929514\ttotal: 4.06s\tremaining: 13.6s\n",
      "46:\tlearn: 1884.6061090\ttotal: 4.1s\tremaining: 13.3s\n",
      "47:\tlearn: 1881.0067032\ttotal: 4.12s\tremaining: 13.1s\n",
      "48:\tlearn: 1877.3090824\ttotal: 4.17s\tremaining: 12.9s\n",
      "49:\tlearn: 1873.7495124\ttotal: 4.23s\tremaining: 12.7s\n",
      "50:\tlearn: 1870.5138167\ttotal: 4.29s\tremaining: 12.5s\n",
      "51:\tlearn: 1864.3875058\ttotal: 4.33s\tremaining: 12.3s\n",
      "52:\tlearn: 1860.7079614\ttotal: 4.39s\tremaining: 12.2s\n",
      "53:\tlearn: 1858.3799371\ttotal: 4.45s\tremaining: 12s\n",
      "54:\tlearn: 1854.7730491\ttotal: 4.53s\tremaining: 12s\n",
      "55:\tlearn: 1851.9990406\ttotal: 4.64s\tremaining: 11.9s\n",
      "56:\tlearn: 1849.4380516\ttotal: 4.75s\tremaining: 11.9s\n",
      "57:\tlearn: 1846.2557669\ttotal: 4.83s\tremaining: 11.8s\n",
      "58:\tlearn: 1840.2171996\ttotal: 4.88s\tremaining: 11.7s\n",
      "59:\tlearn: 1837.9898204\ttotal: 4.93s\tremaining: 11.5s\n",
      "60:\tlearn: 1835.8216724\ttotal: 4.99s\tremaining: 11.4s\n",
      "61:\tlearn: 1833.1442736\ttotal: 5.03s\tremaining: 11.2s\n",
      "62:\tlearn: 1831.3409871\ttotal: 5.05s\tremaining: 11s\n",
      "63:\tlearn: 1829.0512611\ttotal: 5.09s\tremaining: 10.8s\n",
      "64:\tlearn: 1827.9128632\ttotal: 5.14s\tremaining: 10.7s\n",
      "65:\tlearn: 1823.5133980\ttotal: 5.21s\tremaining: 10.6s\n",
      "66:\tlearn: 1820.0138535\ttotal: 5.25s\tremaining: 10.4s\n",
      "67:\tlearn: 1817.0668553\ttotal: 5.3s\tremaining: 10.3s\n",
      "68:\tlearn: 1814.1873141\ttotal: 5.33s\tremaining: 10.1s\n",
      "69:\tlearn: 1809.8349957\ttotal: 5.4s\tremaining: 10s\n",
      "70:\tlearn: 1807.9931477\ttotal: 5.43s\tremaining: 9.87s\n",
      "71:\tlearn: 1804.9018049\ttotal: 5.47s\tremaining: 9.73s\n",
      "72:\tlearn: 1802.2351347\ttotal: 5.51s\tremaining: 9.59s\n",
      "73:\tlearn: 1800.1930498\ttotal: 5.57s\tremaining: 9.48s\n",
      "74:\tlearn: 1798.1024742\ttotal: 5.62s\tremaining: 9.37s\n",
      "75:\tlearn: 1796.4684967\ttotal: 5.67s\tremaining: 9.26s\n",
      "76:\tlearn: 1794.7596956\ttotal: 5.7s\tremaining: 9.11s\n",
      "77:\tlearn: 1793.2978870\ttotal: 5.75s\tremaining: 8.99s\n",
      "78:\tlearn: 1791.7872543\ttotal: 5.8s\tremaining: 8.89s\n",
      "79:\tlearn: 1789.4686116\ttotal: 5.86s\tremaining: 8.79s\n",
      "80:\tlearn: 1787.6233644\ttotal: 5.9s\tremaining: 8.67s\n",
      "81:\tlearn: 1784.6472765\ttotal: 6s\tremaining: 8.63s\n",
      "82:\tlearn: 1779.8317697\ttotal: 6.07s\tremaining: 8.55s\n",
      "83:\tlearn: 1777.9673277\ttotal: 6.13s\tremaining: 8.47s\n",
      "84:\tlearn: 1776.7667425\ttotal: 6.19s\tremaining: 8.37s\n",
      "85:\tlearn: 1775.2812280\ttotal: 6.23s\tremaining: 8.26s\n",
      "86:\tlearn: 1772.3518282\ttotal: 6.28s\tremaining: 8.16s\n",
      "87:\tlearn: 1771.3457254\ttotal: 6.32s\tremaining: 8.04s\n",
      "88:\tlearn: 1768.5548756\ttotal: 6.36s\tremaining: 7.93s\n",
      "89:\tlearn: 1767.5701091\ttotal: 6.4s\tremaining: 7.82s\n",
      "90:\tlearn: 1766.1296523\ttotal: 6.42s\tremaining: 7.69s\n",
      "91:\tlearn: 1763.5108228\ttotal: 6.48s\tremaining: 7.61s\n",
      "92:\tlearn: 1762.1669654\ttotal: 6.52s\tremaining: 7.5s\n",
      "93:\tlearn: 1760.7146922\ttotal: 6.57s\tremaining: 7.41s\n",
      "94:\tlearn: 1758.8876189\ttotal: 6.61s\tremaining: 7.31s\n",
      "95:\tlearn: 1756.4919656\ttotal: 6.64s\tremaining: 7.2s\n",
      "96:\tlearn: 1755.3034324\ttotal: 6.68s\tremaining: 7.1s\n",
      "97:\tlearn: 1753.2240719\ttotal: 6.74s\tremaining: 7.02s\n",
      "98:\tlearn: 1752.0649044\ttotal: 6.85s\tremaining: 6.99s\n",
      "99:\tlearn: 1750.6628592\ttotal: 6.9s\tremaining: 6.9s\n",
      "100:\tlearn: 1749.5969575\ttotal: 6.95s\tremaining: 6.81s\n",
      "101:\tlearn: 1747.1812315\ttotal: 7s\tremaining: 6.72s\n",
      "102:\tlearn: 1746.0784993\ttotal: 7.02s\tremaining: 6.61s\n",
      "103:\tlearn: 1744.8346652\ttotal: 7.06s\tremaining: 6.52s\n",
      "104:\tlearn: 1742.9630456\ttotal: 7.1s\tremaining: 6.42s\n",
      "105:\tlearn: 1741.6319052\ttotal: 7.15s\tremaining: 6.34s\n",
      "106:\tlearn: 1740.2955759\ttotal: 7.2s\tremaining: 6.26s\n",
      "107:\tlearn: 1739.4214851\ttotal: 7.25s\tremaining: 6.18s\n",
      "108:\tlearn: 1738.8843360\ttotal: 7.29s\tremaining: 6.09s\n",
      "109:\tlearn: 1737.4272730\ttotal: 7.36s\tremaining: 6.02s\n",
      "110:\tlearn: 1735.9467634\ttotal: 7.42s\tremaining: 5.95s\n",
      "111:\tlearn: 1733.5945202\ttotal: 7.47s\tremaining: 5.87s\n",
      "112:\tlearn: 1732.5418024\ttotal: 7.5s\tremaining: 5.77s\n",
      "113:\tlearn: 1731.0822812\ttotal: 7.55s\tremaining: 5.7s\n",
      "114:\tlearn: 1729.5989493\ttotal: 7.68s\tremaining: 5.67s\n",
      "115:\tlearn: 1728.9627181\ttotal: 7.78s\tremaining: 5.63s\n",
      "116:\tlearn: 1727.8848264\ttotal: 7.88s\tremaining: 5.59s\n",
      "117:\tlearn: 1726.9175941\ttotal: 8s\tremaining: 5.56s\n",
      "118:\tlearn: 1724.9261330\ttotal: 8.24s\tremaining: 5.61s\n",
      "119:\tlearn: 1724.1589009\ttotal: 8.35s\tremaining: 5.57s\n",
      "120:\tlearn: 1723.0939928\ttotal: 8.51s\tremaining: 5.55s\n",
      "121:\tlearn: 1722.3079275\ttotal: 8.66s\tremaining: 5.54s\n",
      "122:\tlearn: 1720.7968573\ttotal: 8.87s\tremaining: 5.55s\n",
      "123:\tlearn: 1719.1497618\ttotal: 9.01s\tremaining: 5.52s\n",
      "124:\tlearn: 1718.5621833\ttotal: 9.13s\tremaining: 5.48s\n",
      "125:\tlearn: 1717.7156803\ttotal: 9.21s\tremaining: 5.41s\n",
      "126:\tlearn: 1716.4658121\ttotal: 9.37s\tremaining: 5.39s\n",
      "127:\tlearn: 1714.9798712\ttotal: 9.54s\tremaining: 5.36s\n",
      "128:\tlearn: 1714.3114384\ttotal: 9.71s\tremaining: 5.34s\n",
      "129:\tlearn: 1713.5634077\ttotal: 9.82s\tremaining: 5.29s\n",
      "130:\tlearn: 1712.7332019\ttotal: 9.9s\tremaining: 5.21s\n",
      "131:\tlearn: 1711.8753706\ttotal: 9.96s\tremaining: 5.13s\n",
      "132:\tlearn: 1711.1053415\ttotal: 10.1s\tremaining: 5.08s\n",
      "133:\tlearn: 1710.4934690\ttotal: 10.3s\tremaining: 5.05s\n",
      "134:\tlearn: 1709.4267109\ttotal: 10.4s\tremaining: 4.99s\n",
      "135:\tlearn: 1707.5093016\ttotal: 10.5s\tremaining: 4.96s\n",
      "136:\tlearn: 1706.2970032\ttotal: 10.7s\tremaining: 4.92s\n",
      "137:\tlearn: 1705.5601561\ttotal: 10.9s\tremaining: 4.89s\n",
      "138:\tlearn: 1704.5347844\ttotal: 11.1s\tremaining: 4.87s\n",
      "139:\tlearn: 1703.5485723\ttotal: 11.2s\tremaining: 4.8s\n",
      "140:\tlearn: 1702.2291181\ttotal: 11.3s\tremaining: 4.73s\n",
      "141:\tlearn: 1701.4901473\ttotal: 11.4s\tremaining: 4.67s\n",
      "142:\tlearn: 1700.1716000\ttotal: 11.6s\tremaining: 4.61s\n",
      "143:\tlearn: 1699.0256959\ttotal: 11.7s\tremaining: 4.54s\n",
      "144:\tlearn: 1697.9634041\ttotal: 11.8s\tremaining: 4.49s\n",
      "145:\tlearn: 1697.1718064\ttotal: 11.9s\tremaining: 4.42s\n",
      "146:\tlearn: 1696.5936031\ttotal: 12s\tremaining: 4.34s\n",
      "147:\tlearn: 1695.9380805\ttotal: 12.2s\tremaining: 4.28s\n",
      "148:\tlearn: 1695.4358936\ttotal: 12.3s\tremaining: 4.21s\n",
      "149:\tlearn: 1694.8617885\ttotal: 12.5s\tremaining: 4.16s\n",
      "150:\tlearn: 1694.0774341\ttotal: 12.6s\tremaining: 4.08s\n",
      "151:\tlearn: 1692.3587439\ttotal: 12.6s\tremaining: 3.99s\n",
      "152:\tlearn: 1691.6631709\ttotal: 12.7s\tremaining: 3.89s\n",
      "153:\tlearn: 1691.0757400\ttotal: 12.7s\tremaining: 3.8s\n",
      "154:\tlearn: 1690.5961916\ttotal: 12.8s\tremaining: 3.7s\n",
      "155:\tlearn: 1689.4220844\ttotal: 12.8s\tremaining: 3.61s\n",
      "156:\tlearn: 1688.1782791\ttotal: 12.9s\tremaining: 3.52s\n",
      "157:\tlearn: 1687.5705382\ttotal: 12.9s\tremaining: 3.44s\n",
      "158:\tlearn: 1686.5351769\ttotal: 13s\tremaining: 3.34s\n",
      "159:\tlearn: 1685.5091293\ttotal: 13s\tremaining: 3.25s\n",
      "160:\tlearn: 1684.9779222\ttotal: 13.1s\tremaining: 3.16s\n",
      "161:\tlearn: 1684.2857735\ttotal: 13.1s\tremaining: 3.08s\n",
      "162:\tlearn: 1683.3718234\ttotal: 13.2s\tremaining: 2.98s\n",
      "163:\tlearn: 1682.5921547\ttotal: 13.2s\tremaining: 2.9s\n",
      "164:\tlearn: 1681.7282915\ttotal: 13.2s\tremaining: 2.81s\n",
      "165:\tlearn: 1681.0199071\ttotal: 13.3s\tremaining: 2.72s\n",
      "166:\tlearn: 1680.5399428\ttotal: 13.3s\tremaining: 2.63s\n",
      "167:\tlearn: 1679.7437073\ttotal: 13.4s\tremaining: 2.55s\n",
      "168:\tlearn: 1679.2676333\ttotal: 13.4s\tremaining: 2.46s\n",
      "169:\tlearn: 1678.4063916\ttotal: 13.4s\tremaining: 2.37s\n",
      "170:\tlearn: 1677.3018291\ttotal: 13.5s\tremaining: 2.29s\n",
      "171:\tlearn: 1676.6605376\ttotal: 13.6s\tremaining: 2.21s\n",
      "172:\tlearn: 1676.0238828\ttotal: 13.6s\tremaining: 2.12s\n",
      "173:\tlearn: 1675.0948532\ttotal: 13.7s\tremaining: 2.04s\n",
      "174:\tlearn: 1674.1815266\ttotal: 13.8s\tremaining: 1.97s\n",
      "175:\tlearn: 1673.6071869\ttotal: 13.9s\tremaining: 1.9s\n",
      "176:\tlearn: 1673.1932802\ttotal: 14s\tremaining: 1.82s\n",
      "177:\tlearn: 1672.7160599\ttotal: 14s\tremaining: 1.74s\n",
      "178:\tlearn: 1672.1471691\ttotal: 14.1s\tremaining: 1.65s\n",
      "179:\tlearn: 1671.6165812\ttotal: 14.1s\tremaining: 1.57s\n",
      "180:\tlearn: 1671.1909420\ttotal: 14.2s\tremaining: 1.49s\n",
      "181:\tlearn: 1670.4250091\ttotal: 14.3s\tremaining: 1.41s\n",
      "182:\tlearn: 1669.8604776\ttotal: 14.3s\tremaining: 1.33s\n",
      "183:\tlearn: 1669.1062268\ttotal: 14.4s\tremaining: 1.25s\n",
      "184:\tlearn: 1668.2220154\ttotal: 14.4s\tremaining: 1.17s\n",
      "185:\tlearn: 1667.7079254\ttotal: 14.5s\tremaining: 1.09s\n",
      "186:\tlearn: 1667.0921780\ttotal: 14.5s\tremaining: 1.01s\n",
      "187:\tlearn: 1666.6672918\ttotal: 14.6s\tremaining: 930ms\n",
      "188:\tlearn: 1665.6521999\ttotal: 14.6s\tremaining: 852ms\n",
      "189:\tlearn: 1664.8371785\ttotal: 14.7s\tremaining: 772ms\n",
      "190:\tlearn: 1664.5632464\ttotal: 14.7s\tremaining: 694ms\n",
      "191:\tlearn: 1663.8900497\ttotal: 14.7s\tremaining: 614ms\n",
      "192:\tlearn: 1663.3339607\ttotal: 14.8s\tremaining: 536ms\n",
      "193:\tlearn: 1662.9643105\ttotal: 14.9s\tremaining: 460ms\n",
      "194:\tlearn: 1662.4555579\ttotal: 14.9s\tremaining: 383ms\n",
      "195:\tlearn: 1661.5672668\ttotal: 15s\tremaining: 306ms\n",
      "196:\tlearn: 1660.9202127\ttotal: 15s\tremaining: 229ms\n",
      "197:\tlearn: 1659.7422479\ttotal: 15.1s\tremaining: 152ms\n",
      "198:\tlearn: 1658.8285082\ttotal: 15.2s\tremaining: 76.2ms\n",
      "199:\tlearn: 1658.4507318\ttotal: 15.3s\tremaining: 0us\n",
      "CatBoost Model:\n",
      "Best Parameters: {'depth': 7, 'iterations': 200, 'learning_rate': 0.1, 'random_state': 42}\n",
      "Best Parameters Finding Time: 434.741581 seconds\n",
      "Root Mean Squared Error (RMSE): 1678.4958\n",
      "Learning Time: 15.733941 seconds\n",
      "Prediction Time: 0.083841 seconds\n"
     ]
    }
   ],
   "source": [
    "# Набор гиперпараметров\n",
    "cat_params = {\n",
    "    'iterations': [150, 200],\n",
    "    'learning_rate': [0.05, 0.1],\n",
    "    'depth': [5, 7],\n",
    "    'random_state': [42]\n",
    "}\n",
    "\n",
    "# Инициализация модели\n",
    "cat_model = cb.CatBoostRegressor(verbose=0)\n",
    "\n",
    "# Инициализуем GridSearchCV\n",
    "grid = GridSearchCV(cat_model, cat_params, cv=5, scoring='neg_root_mean_squared_error')\n",
    "\n",
    "# Нахождение лучших параметров\n",
    "start_time = time.time()\n",
    "grid.fit(X_train, y_train)\n",
    "cat_learning_time = time.time() - start_time\n",
    "\n",
    "# Вытаскиваем лучший набор параметров\n",
    "best_params = grid.best_params_\n",
    "\n",
    "# Тренируем модель на лучших параметрах\n",
    "start_time = time.time()\n",
    "cat_model = cb.CatBoostRegressor(**best_params)\n",
    "cat_model.fit(X_train, y_train)\n",
    "cat_learning_time_2 = time.time() - start_time\n",
    "\n",
    "# Делаем предсказание и рассчитываем RMSE\n",
    "start_time = time.time()\n",
    "cat_predictions = cat_model.predict(X_test)\n",
    "cat_prediction_time = time.time() - start_time\n",
    "cat_rmse = np.sqrt(mean_squared_error(y_test, cat_predictions))\n",
    "\n",
    "# Статистика для модели CatBoost\n",
    "print('CatBoost Model:')\n",
    "print(f'Best Parameters: {best_params}')\n",
    "print(f'Best Parameters Finding Time: {cat_learning_time:.6f} seconds')\n",
    "print(f'Root Mean Squared Error (RMSE): {cat_rmse:.4f}')\n",
    "print(f'Learning Time: {cat_learning_time_2:.6f} seconds')\n",
    "print(f'Prediction Time: {cat_prediction_time:.6f} seconds')"
   ]
  },
  {
   "cell_type": "code",
   "execution_count": 18,
   "metadata": {
    "ExecuteTime": {
     "end_time": "2024-02-20T19:11:59.291884569Z",
     "start_time": "2024-02-20T18:49:43.869263656Z"
    }
   },
   "outputs": [
    {
     "name": "stdout",
     "output_type": "stream",
     "text": [
      "Random Forest Model:\n",
      "Best Parameters: {'max_depth': 7, 'n_estimators': 70, 'random_state': 42}\n",
      "Best Parameters Finding Time: 1283.458965 seconds\n",
      "Root Mean Squared Error (RMSE): 2125.1871\n",
      "Learning Time: 51.676700 seconds\n",
      "Prediction Time: 0.233156 seconds\n"
     ]
    }
   ],
   "source": [
    "# Набор гиперпараметров\n",
    "rf_params = {\n",
    "    'n_estimators': [50, 70],\n",
    "    'max_depth': [5, 7],\n",
    "    'random_state': [42]\n",
    "}\n",
    "\n",
    "# Инициализация модели\n",
    "rf_model = RandomForestRegressor()\n",
    "\n",
    "# Инициализуем GridSearchCV\n",
    "grid = GridSearchCV(rf_model, rf_params, cv=5, scoring='neg_root_mean_squared_error')\n",
    "\n",
    "# Нахождение лучших параметров\n",
    "start_time = time.time()\n",
    "grid.fit(X_train, y_train)\n",
    "rf_learning_time = time.time() - start_time\n",
    "\n",
    "# Вытаскиваем лучший набор параметров\n",
    "best_params = grid.best_params_\n",
    "\n",
    "# Тренируем модель на лучших параметрах\n",
    "start_time = time.time()\n",
    "rf_model = RandomForestRegressor(**best_params)\n",
    "rf_model.fit(X_train, y_train)\n",
    "rf_learning_time_2 = time.time() - start_time\n",
    "\n",
    "# Делаем предсказание и рассчитываем RMSE\n",
    "start_time = time.time()\n",
    "rf_predictions = rf_model.predict(X_test)\n",
    "rf_prediction_time = time.time() - start_time\n",
    "rf_rmse = np.sqrt(mean_squared_error(y_test, rf_predictions))\n",
    "\n",
    "# Статистика для модели Random Forest\n",
    "print('Random Forest Model:')\n",
    "print(f'Best Parameters: {best_params}')\n",
    "print(f'Best Parameters Finding Time: {rf_learning_time:.6f} seconds')\n",
    "print(f'Root Mean Squared Error (RMSE): {rf_rmse:.4f}')\n",
    "print(f'Learning Time: {rf_learning_time_2:.6f} seconds')\n",
    "print(f'Prediction Time: {rf_prediction_time:.6f} seconds')"
   ]
  },
  {
   "cell_type": "markdown",
   "source": [
    "Попробуем применить линейную регрессию с градиентным спуском, в образовательных целях напишу класс самостоятельно."
   ],
   "metadata": {
    "collapsed": false
   }
  },
  {
   "cell_type": "code",
   "outputs": [
    {
     "name": "stdout",
     "output_type": "stream",
     "text": [
      "Fitting 5 folds for each of 9 candidates, totalling 45 fits\n",
      "Время нахождения лучших параметров: 799.6717340946198\n",
      "Лучшие параметры: {'learning_rate': 0.1, 'n_iterations': 1000}\n",
      "Лучшая перекрёстная ошибка RMSE: 2871.255232747477\n",
      "Время тренировки модели: 35.81499433517456\n",
      "Время предсказания: 0.014445304870605469\n",
      "Ошибка RMSE на тестовом наборе: 2872.995238515296\n"
     ]
    },
    {
     "data": {
      "text/plain": "<Figure size 640x480 with 1 Axes>",
      "image/png": "[encoded data removed]"
     },
     "metadata": {},
     "output_type": "display_data"
    }
   ],
   "source": [
    "# Определение класса LinearRegressionGD\n",
    "class LinearRegressionGD(BaseEstimator, RegressorMixin):\n",
    "    def __init__(self, learning_rate=0.01, n_iterations=1000):\n",
    "        self.learning_rate = learning_rate\n",
    "        self.n_iterations = n_iterations\n",
    "        self.weights = None\n",
    "        self.bias = None\n",
    "\n",
    "    def fit(self, X, y):\n",
    "        n_samples, n_features = X.shape\n",
    "        self.weights = np.zeros(n_features)\n",
    "        self.bias = 0\n",
    "\n",
    "        # Градиентный спуск\n",
    "        for _ in range(self.n_iterations):\n",
    "            model_predictions = np.dot(X, self.weights) + self.bias\n",
    "            dw = (1 / n_samples) * np.dot(X.T, (model_predictions - y))\n",
    "            db = (1 / n_samples) * np.sum(model_predictions - y)\n",
    "\n",
    "            self.weights -= self.learning_rate * dw\n",
    "            self.bias -= self.learning_rate * db\n",
    "        return self\n",
    "\n",
    "    def predict(self, X):\n",
    "        return np.dot(X, self.weights) + self.bias\n",
    "\n",
    "    def score(self, X, y):\n",
    "        predictions = self.predict(X)\n",
    "        mse = mean_squared_error(y, predictions)\n",
    "        rmse = np.sqrt(mse)\n",
    "        return -rmse  # Используется отрицательный RMSE для GridSearchCV\n",
    "\n",
    "# Определение сетки параметров для поиска\n",
    "param_grid = {\n",
    "    'learning_rate': [0.001, 0.01, 0.1],\n",
    "    'n_iterations': [100, 500, 1000]\n",
    "}\n",
    "\n",
    "# Создание и выполнение GridSearchCV\n",
    "grid_search = GridSearchCV(LinearRegressionGD(), param_grid, cv=5, scoring='neg_root_mean_squared_error', verbose=1)\n",
    "start_time = time.time()\n",
    "grid_search.fit(X_train, y_train)\n",
    "grid_time = time.time() - start_time\n",
    "print(f\"Время нахождения лучших параметров: {grid_time}\")\n",
    "\n",
    "# Вывод лучших параметров и соответствующей оценки\n",
    "print(f\"Лучшие параметры: {grid_search.best_params_}\")\n",
    "best_rmse = -grid_search.best_score_\n",
    "print(f\"Лучшая перекрёстная ошибка RMSE: {best_rmse}\")\n",
    "\n",
    "# Повторное обучение модели с лучшими параметрами на полном наборе данных\n",
    "best_model = grid_search.best_estimator_\n",
    "start_time = time.time()\n",
    "best_model.fit(X_train, y_train)\n",
    "model_train_time = time.time() - start_time\n",
    "print(f\"Время тренировки модели: {model_train_time}\")\n",
    "\n",
    "# Предсказания с настроенной моделью\n",
    "start_time = time.time()\n",
    "predictions = best_model.predict(X_test)\n",
    "prediction_time = time.time() - start_time\n",
    "print(f\"Время предсказания: {prediction_time}\")\n",
    "\n",
    "# Расчёт и вывод метрик производительности\n",
    "mse = mean_squared_error(y_test, predictions)\n",
    "rmse = np.sqrt(mse)\n",
    "print(f\"Ошибка RMSE на тестовом наборе: {rmse}\")\n",
    "\n",
    "# Визуализация реальных значений по сравнению с предсказанными\n",
    "plt.scatter(y_test, predictions)\n",
    "plt.xlabel('Реальные значения')\n",
    "plt.ylabel('Предсказанные значения')\n",
    "plt.title('Сравнение реальных и предсказанных значений')\n",
    "plt.show()"
   ],
   "metadata": {
    "collapsed": false,
    "ExecuteTime": {
     "end_time": "2024-02-20T19:25:56.097780137Z",
     "start_time": "2024-02-20T19:11:59.289634255Z"
    }
   },
   "execution_count": 19
  },
  {
   "cell_type": "markdown",
   "metadata": {},
   "source": [
    "## Анализ моделей"
   ]
  },
  {
   "cell_type": "markdown",
   "metadata": {},
   "source": [
    "LightGBM Model:\n",
    "- Best Parameters: {'learning_rate': 0.1, 'max_depth': 5, 'n_estimators': 200, 'random_state': 42}\n",
    "- Best Parameters Finding Time: 220.682484 seconds\n",
    "- Root Mean Squared Error (RMSE): 1712.2346\n",
    "- Learning Time: 5.797926 seconds\n",
    "- Prediction Time: 1.001701 seconds\n",
    "\n",
    "CatBoost Model:\n",
    "- Best Parameters: {'depth': 7, 'iterations': 200, 'learning_rate': 0.1, 'random_state': 42}\n",
    "- Best Parameters Finding Time: 434.741581 seconds\n",
    "- Root Mean Squared Error (RMSE): 1678.4958\n",
    "- Learning Time: 15.733941 seconds\n",
    "- Prediction Time: 0.083841 seconds\n",
    "\n",
    "RandomForest Model:\n",
    "- Best Parameters: {'max_depth': 7, 'n_estimators': 70, 'random_state': 42}\n",
    "- Best Parameters Finding Time: 1283.458965 seconds\n",
    "- Root Mean Squared Error (RMSE): 2125.1871\n",
    "- Learning Time: 51.676700 seconds\n",
    "- Prediction Time: 0.233156 seconds\n",
    "\n",
    "LinearRegressionGB Model:\n",
    "- Best Parameters: {'learning_rate': 0.1, 'n_iterations': 1000}\n",
    "- Best Parameters Finding Time: 799.6717340946198 seconds\n",
    "- Root Mean Squared Error (RMSE): 2872.995238515296\n",
    "- Learning Time: 35.81499433517456 seconds\n",
    "- Prediction Time: 0.014445304870605469 seconds\n",
    "\n",
    "__Вывод__:\n",
    "Имея вводные, что заказчику важны качество предсказания, скорость предсказания и время обучения я бы посоветовал выбрать модель на основе CatBoost. Так как у неё самое точное предсказание, приемлемая скорость обучения и время предсказания всего 0.08 секунды. По скорости предсказания её обходит только самописная модель линейной регрессии с 0.014 секунды, но она в 2 раза проигрывает по точности предсказания. Второй хороший кандидат это модель на основе LightGBM, она немного уступает в точности и скорости предсказания, зато в 3 раза быстрее обучается. Показатели у модели на основе случайного леса средние."
   ]
  }
 ],
 "metadata": {
  "ExecuteTimeLog": [
   {
    "duration": 3375,
    "start_time": "2023-10-08T17:44:13.408Z"
   },
   {
    "duration": 1580,
    "start_time": "2023-10-08T17:44:16.786Z"
   },
   {
    "duration": 2246,
    "start_time": "2023-10-08T17:44:18.367Z"
   },
   {
    "duration": 318,
    "start_time": "2023-10-08T17:44:20.615Z"
   },
   {
    "duration": 180,
    "start_time": "2023-10-08T17:44:20.935Z"
   },
   {
    "duration": 1698,
    "start_time": "2023-10-08T17:44:21.117Z"
   },
   {
    "duration": 76,
    "start_time": "2023-10-08T17:44:22.817Z"
   },
   {
    "duration": 387,
    "start_time": "2023-10-08T17:44:22.895Z"
   },
   {
    "duration": 3434,
    "start_time": "2023-10-08T17:44:23.284Z"
   },
   {
    "duration": 1893789,
    "start_time": "2023-10-08T17:44:26.721Z"
   },
   {
    "duration": 0,
    "start_time": "2023-10-08T18:16:00.512Z"
   },
   {
    "duration": 0,
    "start_time": "2023-10-08T18:16:00.513Z"
   },
   {
    "duration": 2784,
    "start_time": "2023-10-08T18:21:58.060Z"
   },
   {
    "duration": 6,
    "start_time": "2023-10-08T18:22:00.846Z"
   },
   {
    "duration": 2284,
    "start_time": "2023-10-08T18:22:00.854Z"
   },
   {
    "duration": 321,
    "start_time": "2023-10-08T18:22:03.139Z"
   },
   {
    "duration": 161,
    "start_time": "2023-10-08T18:22:03.463Z"
   },
   {
    "duration": 1822,
    "start_time": "2023-10-08T18:22:03.626Z"
   },
   {
    "duration": 60,
    "start_time": "2023-10-08T18:22:05.450Z"
   },
   {
    "duration": 328,
    "start_time": "2023-10-08T18:22:05.512Z"
   },
   {
    "duration": 3654,
    "start_time": "2023-10-08T18:22:05.843Z"
   },
   {
    "duration": 372081,
    "start_time": "2023-10-08T18:22:09.498Z"
   },
   {
    "duration": 14784,
    "start_time": "2023-10-08T18:28:21.581Z"
   },
   {
    "duration": 61133,
    "start_time": "2023-10-08T18:28:36.367Z"
   },
   {
    "duration": 2787,
    "start_time": "2023-10-08T18:35:16.186Z"
   },
   {
    "duration": 6,
    "start_time": "2023-10-08T18:35:18.977Z"
   },
   {
    "duration": 1710,
    "start_time": "2023-10-08T18:35:18.986Z"
   },
   {
    "duration": 305,
    "start_time": "2023-10-08T18:35:20.698Z"
   },
   {
    "duration": 163,
    "start_time": "2023-10-08T18:35:21.007Z"
   },
   {
    "duration": 1795,
    "start_time": "2023-10-08T18:35:21.173Z"
   },
   {
    "duration": 64,
    "start_time": "2023-10-08T18:35:22.970Z"
   },
   {
    "duration": 388,
    "start_time": "2023-10-08T18:35:23.036Z"
   },
   {
    "duration": 3731,
    "start_time": "2023-10-08T18:35:23.426Z"
   },
   {
    "duration": 378734,
    "start_time": "2023-10-08T18:35:27.159Z"
   },
   {
    "duration": 13594,
    "start_time": "2023-10-08T18:41:45.895Z"
   },
   {
    "duration": 60624,
    "start_time": "2023-10-08T18:41:59.491Z"
   },
   {
    "duration": 4887,
    "start_time": "2023-10-08T18:51:47.387Z"
   },
   {
    "duration": 2676,
    "start_time": "2023-10-08T18:53:26.878Z"
   },
   {
    "duration": 8,
    "start_time": "2023-10-08T18:53:29.558Z"
   },
   {
    "duration": 2038,
    "start_time": "2023-10-08T18:53:29.568Z"
   },
   {
    "duration": 294,
    "start_time": "2023-10-08T18:53:31.609Z"
   },
   {
    "duration": 172,
    "start_time": "2023-10-08T18:53:31.905Z"
   },
   {
    "duration": 1757,
    "start_time": "2023-10-08T18:53:32.078Z"
   },
   {
    "duration": 80,
    "start_time": "2023-10-08T18:53:33.837Z"
   },
   {
    "duration": 303,
    "start_time": "2023-10-08T18:53:33.918Z"
   },
   {
    "duration": 3761,
    "start_time": "2023-10-08T18:53:34.223Z"
   },
   {
    "duration": 164797,
    "start_time": "2023-10-08T18:53:37.987Z"
   },
   {
    "duration": 13818,
    "start_time": "2023-10-08T18:56:22.786Z"
   },
   {
    "duration": 86,
    "start_time": "2023-10-08T18:56:36.606Z"
   },
   {
    "duration": 58603,
    "start_time": "2023-10-08T19:05:29.794Z"
   },
   {
    "duration": 3045,
    "start_time": "2023-10-08T19:22:14.697Z"
   },
   {
    "duration": 2913,
    "start_time": "2023-10-08T19:22:17.744Z"
   },
   {
    "duration": 1212,
    "start_time": "2023-10-08T19:22:20.659Z"
   },
   {
    "duration": 308,
    "start_time": "2023-10-08T19:22:21.873Z"
   },
   {
    "duration": 165,
    "start_time": "2023-10-08T19:22:22.183Z"
   },
   {
    "duration": 1698,
    "start_time": "2023-10-08T19:22:22.350Z"
   },
   {
    "duration": 59,
    "start_time": "2023-10-08T19:22:24.050Z"
   },
   {
    "duration": 371,
    "start_time": "2023-10-08T19:22:24.111Z"
   },
   {
    "duration": 3378,
    "start_time": "2023-10-08T19:22:24.484Z"
   },
   {
    "duration": 27193,
    "start_time": "2023-10-08T19:22:27.864Z"
   },
   {
    "duration": 12199,
    "start_time": "2023-10-08T19:22:55.059Z"
   },
   {
    "duration": 47487,
    "start_time": "2023-10-08T19:23:07.260Z"
   },
   {
    "duration": 2823,
    "start_time": "2023-10-09T04:50:46.997Z"
   },
   {
    "duration": 3214,
    "start_time": "2023-10-09T04:50:49.822Z"
   },
   {
    "duration": 1036,
    "start_time": "2023-10-09T04:50:53.037Z"
   },
   {
    "duration": 254,
    "start_time": "2023-10-09T04:50:54.074Z"
   },
   {
    "duration": 123,
    "start_time": "2023-10-09T04:50:54.330Z"
   },
   {
    "duration": 1315,
    "start_time": "2023-10-09T04:50:54.455Z"
   },
   {
    "duration": 39,
    "start_time": "2023-10-09T04:50:55.772Z"
   },
   {
    "duration": 261,
    "start_time": "2023-10-09T04:50:55.813Z"
   },
   {
    "duration": 2600,
    "start_time": "2023-10-09T04:50:56.075Z"
   },
   {
    "duration": 4,
    "start_time": "2023-10-09T04:51:02.522Z"
   },
   {
    "duration": 3,
    "start_time": "2023-10-09T04:51:14.207Z"
   },
   {
    "duration": 2814,
    "start_time": "2023-10-09T18:55:32.622Z"
   },
   {
    "duration": 1297,
    "start_time": "2023-10-09T18:55:35.438Z"
   },
   {
    "duration": 1625,
    "start_time": "2023-10-09T18:55:36.736Z"
   },
   {
    "duration": 222,
    "start_time": "2023-10-09T18:55:38.363Z"
   },
   {
    "duration": 109,
    "start_time": "2023-10-09T18:55:38.586Z"
   },
   {
    "duration": 1275,
    "start_time": "2023-10-09T18:55:38.696Z"
   },
   {
    "duration": 49,
    "start_time": "2023-10-09T18:55:39.972Z"
   },
   {
    "duration": 266,
    "start_time": "2023-10-09T18:56:14.356Z"
   },
   {
    "duration": 81,
    "start_time": "2023-10-09T18:56:23.345Z"
   },
   {
    "duration": 87,
    "start_time": "2023-10-09T18:56:48.581Z"
   },
   {
    "duration": 86,
    "start_time": "2023-10-09T18:56:59.134Z"
   },
   {
    "duration": 3,
    "start_time": "2023-10-09T18:58:12.381Z"
   },
   {
    "duration": 12,
    "start_time": "2023-10-09T18:58:22.647Z"
   },
   {
    "duration": 27,
    "start_time": "2023-10-09T18:59:15.196Z"
   },
   {
    "duration": 30,
    "start_time": "2023-10-09T18:59:59.237Z"
   },
   {
    "duration": 230,
    "start_time": "2023-10-09T19:00:53.658Z"
   },
   {
    "duration": 30,
    "start_time": "2023-10-09T19:01:08.508Z"
   },
   {
    "duration": 87,
    "start_time": "2023-10-09T19:01:58.441Z"
   },
   {
    "duration": 31,
    "start_time": "2023-10-09T19:02:04.166Z"
   },
   {
    "duration": 29,
    "start_time": "2023-10-09T19:02:10.434Z"
   },
   {
    "duration": 34,
    "start_time": "2023-10-09T19:02:15.113Z"
   },
   {
    "duration": 30,
    "start_time": "2023-10-09T19:02:55.060Z"
   },
   {
    "duration": 2090,
    "start_time": "2023-10-09T19:06:42.483Z"
   },
   {
    "duration": 4,
    "start_time": "2023-10-09T19:06:44.575Z"
   },
   {
    "duration": 2149,
    "start_time": "2023-10-09T19:06:44.580Z"
   },
   {
    "duration": 268,
    "start_time": "2023-10-09T19:06:46.731Z"
   },
   {
    "duration": 117,
    "start_time": "2023-10-09T19:06:47.000Z"
   },
   {
    "duration": 1161,
    "start_time": "2023-10-09T19:06:47.119Z"
   },
   {
    "duration": 328,
    "start_time": "2023-10-09T19:10:09.680Z"
   },
   {
    "duration": 1540,
    "start_time": "2023-10-09T19:22:55.372Z"
   },
   {
    "duration": 1183,
    "start_time": "2023-10-09T19:24:27.258Z"
   },
   {
    "duration": 529,
    "start_time": "2023-10-09T19:25:07.661Z"
   },
   {
    "duration": 2185,
    "start_time": "2023-10-09T19:25:20.628Z"
   },
   {
    "duration": 5,
    "start_time": "2023-10-09T19:25:22.816Z"
   },
   {
    "duration": 1729,
    "start_time": "2023-10-09T19:25:22.822Z"
   },
   {
    "duration": 218,
    "start_time": "2023-10-09T19:25:24.552Z"
   },
   {
    "duration": 114,
    "start_time": "2023-10-09T19:25:24.772Z"
   },
   {
    "duration": 1058,
    "start_time": "2023-10-09T19:25:31.803Z"
   },
   {
    "duration": 263,
    "start_time": "2023-10-09T19:25:57.686Z"
   },
   {
    "duration": 84,
    "start_time": "2023-10-09T19:26:25.504Z"
   },
   {
    "duration": 691,
    "start_time": "2023-10-09T19:26:56.488Z"
   },
   {
    "duration": 2126,
    "start_time": "2023-10-09T19:27:20.797Z"
   },
   {
    "duration": 5,
    "start_time": "2023-10-09T19:27:22.925Z"
   },
   {
    "duration": 1321,
    "start_time": "2023-10-09T19:27:22.932Z"
   },
   {
    "duration": 213,
    "start_time": "2023-10-09T19:27:24.254Z"
   },
   {
    "duration": 111,
    "start_time": "2023-10-09T19:27:24.468Z"
   },
   {
    "duration": 1274,
    "start_time": "2023-10-09T19:27:34.489Z"
   },
   {
    "duration": 104,
    "start_time": "2023-10-09T19:27:56.600Z"
   },
   {
    "duration": 680,
    "start_time": "2023-10-09T19:30:59.790Z"
   },
   {
    "duration": 431,
    "start_time": "2023-10-09T19:31:04.196Z"
   },
   {
    "duration": 75,
    "start_time": "2023-10-09T19:31:38.505Z"
   },
   {
    "duration": 80,
    "start_time": "2023-10-09T19:31:45.357Z"
   },
   {
    "duration": 119,
    "start_time": "2023-10-09T19:31:58.500Z"
   },
   {
    "duration": 79,
    "start_time": "2023-10-09T19:32:09.617Z"
   },
   {
    "duration": 91,
    "start_time": "2023-10-09T19:33:07.774Z"
   },
   {
    "duration": 100,
    "start_time": "2023-10-09T19:33:20.092Z"
   },
   {
    "duration": 477,
    "start_time": "2023-10-09T19:36:38.119Z"
   },
   {
    "duration": 449,
    "start_time": "2023-10-09T19:37:11.501Z"
   },
   {
    "duration": 455,
    "start_time": "2023-10-09T19:37:23.989Z"
   },
   {
    "duration": 427,
    "start_time": "2023-10-09T19:37:39.488Z"
   },
   {
    "duration": 517,
    "start_time": "2023-10-09T19:39:03.811Z"
   },
   {
    "duration": 395,
    "start_time": "2023-10-09T19:42:22.648Z"
   },
   {
    "duration": 268,
    "start_time": "2023-10-09T19:46:42.994Z"
   },
   {
    "duration": 402,
    "start_time": "2023-10-09T19:46:55.820Z"
   },
   {
    "duration": 403,
    "start_time": "2023-10-09T19:47:07.606Z"
   },
   {
    "duration": 397,
    "start_time": "2023-10-09T19:47:14.590Z"
   },
   {
    "duration": 423,
    "start_time": "2023-10-09T19:47:30.338Z"
   },
   {
    "duration": 479,
    "start_time": "2023-10-09T19:50:26.146Z"
   },
   {
    "duration": 687,
    "start_time": "2023-10-09T19:50:45.211Z"
   },
   {
    "duration": 592,
    "start_time": "2023-10-09T19:52:26.315Z"
   },
   {
    "duration": 563,
    "start_time": "2023-10-09T19:52:37.437Z"
   },
   {
    "duration": 603,
    "start_time": "2023-10-09T19:52:50.732Z"
   },
   {
    "duration": 565,
    "start_time": "2023-10-09T19:54:47.722Z"
   },
   {
    "duration": 600,
    "start_time": "2023-10-09T19:55:24.702Z"
   },
   {
    "duration": 771,
    "start_time": "2023-10-09T19:56:25.904Z"
   },
   {
    "duration": 652,
    "start_time": "2023-10-09T19:56:48.800Z"
   },
   {
    "duration": 682,
    "start_time": "2023-10-09T19:59:51.319Z"
   },
   {
    "duration": 941,
    "start_time": "2023-10-09T20:00:05.725Z"
   },
   {
    "duration": 692,
    "start_time": "2023-10-09T20:00:13.993Z"
   },
   {
    "duration": 1068,
    "start_time": "2023-10-09T20:01:07.497Z"
   },
   {
    "duration": 635,
    "start_time": "2023-10-09T20:01:49.097Z"
   },
   {
    "duration": 644,
    "start_time": "2023-10-09T20:02:00.189Z"
   },
   {
    "duration": 632,
    "start_time": "2023-10-09T20:02:24.641Z"
   },
   {
    "duration": 677,
    "start_time": "2023-10-09T20:03:03.019Z"
   },
   {
    "duration": 974,
    "start_time": "2023-10-09T20:03:21.285Z"
   },
   {
    "duration": 703,
    "start_time": "2023-10-09T20:03:36.319Z"
   },
   {
    "duration": 615,
    "start_time": "2023-10-09T20:03:46.489Z"
   },
   {
    "duration": 631,
    "start_time": "2023-10-09T20:03:54.629Z"
   },
   {
    "duration": 673,
    "start_time": "2023-10-09T20:07:15.137Z"
   },
   {
    "duration": 678,
    "start_time": "2023-10-09T20:07:38.225Z"
   },
   {
    "duration": 790,
    "start_time": "2023-10-09T20:07:57.718Z"
   },
   {
    "duration": 695,
    "start_time": "2023-10-09T20:08:38.216Z"
   },
   {
    "duration": 734,
    "start_time": "2023-10-09T20:09:23.530Z"
   },
   {
    "duration": 774,
    "start_time": "2023-10-09T20:11:16.804Z"
   },
   {
    "duration": 828,
    "start_time": "2023-10-09T20:12:32.448Z"
   },
   {
    "duration": 932,
    "start_time": "2023-10-09T20:17:25.693Z"
   },
   {
    "duration": 189,
    "start_time": "2023-10-09T20:18:32.619Z"
   },
   {
    "duration": 781,
    "start_time": "2023-10-09T20:18:37.122Z"
   },
   {
    "duration": 863,
    "start_time": "2023-10-09T20:19:15.046Z"
   },
   {
    "duration": 972,
    "start_time": "2023-10-09T20:20:07.726Z"
   },
   {
    "duration": 1062,
    "start_time": "2023-10-09T20:22:17.533Z"
   },
   {
    "duration": 4,
    "start_time": "2023-10-09T20:32:27.941Z"
   },
   {
    "duration": 282958,
    "start_time": "2023-10-09T20:33:06.018Z"
   },
   {
    "duration": 3597,
    "start_time": "2023-10-09T20:39:02.074Z"
   },
   {
    "duration": 3162,
    "start_time": "2023-10-09T20:39:05.673Z"
   },
   {
    "duration": 1649,
    "start_time": "2023-10-09T20:39:08.837Z"
   },
   {
    "duration": 304,
    "start_time": "2023-10-09T20:39:10.487Z"
   },
   {
    "duration": 117,
    "start_time": "2023-10-09T20:39:10.793Z"
   },
   {
    "duration": 1512,
    "start_time": "2023-10-09T20:39:10.912Z"
   },
   {
    "duration": 127,
    "start_time": "2023-10-09T20:39:12.431Z"
   },
   {
    "duration": 952,
    "start_time": "2023-10-09T20:39:12.560Z"
   },
   {
    "duration": 703765,
    "start_time": "2023-10-09T20:40:09.233Z"
   },
   {
    "duration": 67,
    "start_time": "2023-10-09T20:55:37.781Z"
   },
   {
    "duration": 55,
    "start_time": "2023-10-09T20:55:49.998Z"
   },
   {
    "duration": 175,
    "start_time": "2023-10-09T20:56:03.092Z"
   },
   {
    "duration": 981,
    "start_time": "2023-10-09T20:56:16.225Z"
   },
   {
    "duration": 130,
    "start_time": "2023-10-09T21:01:23.825Z"
   },
   {
    "duration": 138,
    "start_time": "2023-10-09T21:03:36.293Z"
   },
   {
    "duration": 4,
    "start_time": "2023-10-09T21:04:42.911Z"
   },
   {
    "duration": 45,
    "start_time": "2023-10-09T21:05:39.119Z"
   },
   {
    "duration": 2082,
    "start_time": "2023-10-09T21:08:38.913Z"
   },
   {
    "duration": 4,
    "start_time": "2023-10-09T21:08:40.997Z"
   },
   {
    "duration": 1623,
    "start_time": "2023-10-09T21:08:41.002Z"
   },
   {
    "duration": 313,
    "start_time": "2023-10-09T21:08:42.628Z"
   },
   {
    "duration": 118,
    "start_time": "2023-10-09T21:08:42.942Z"
   },
   {
    "duration": 1227,
    "start_time": "2023-10-09T21:08:43.062Z"
   },
   {
    "duration": 88,
    "start_time": "2023-10-09T21:08:44.290Z"
   },
   {
    "duration": 862,
    "start_time": "2023-10-09T21:08:44.380Z"
   },
   {
    "duration": 451,
    "start_time": "2023-10-09T21:08:45.244Z"
   },
   {
    "duration": 134,
    "start_time": "2023-10-09T21:09:34.085Z"
   },
   {
    "duration": 1971,
    "start_time": "2023-10-09T21:11:23.577Z"
   },
   {
    "duration": 4,
    "start_time": "2023-10-09T21:11:25.550Z"
   },
   {
    "duration": 1260,
    "start_time": "2023-10-09T21:11:25.555Z"
   },
   {
    "duration": 249,
    "start_time": "2023-10-09T21:11:26.818Z"
   },
   {
    "duration": 103,
    "start_time": "2023-10-09T21:11:27.069Z"
   },
   {
    "duration": 1120,
    "start_time": "2023-10-09T21:11:27.173Z"
   },
   {
    "duration": 347,
    "start_time": "2023-10-09T21:11:28.294Z"
   },
   {
    "duration": 44,
    "start_time": "2023-10-09T21:11:28.643Z"
   },
   {
    "duration": 637,
    "start_time": "2023-10-09T21:11:28.688Z"
   },
   {
    "duration": 70,
    "start_time": "2023-10-09T21:12:10.631Z"
   },
   {
    "duration": 460438,
    "start_time": "2023-10-09T21:12:17.673Z"
   },
   {
    "duration": 29,
    "start_time": "2023-10-09T21:24:56.807Z"
   },
   {
    "duration": 46,
    "start_time": "2023-10-09T21:26:49.189Z"
   },
   {
    "duration": 1938,
    "start_time": "2023-10-09T21:27:04.370Z"
   },
   {
    "duration": 6,
    "start_time": "2023-10-09T21:27:06.311Z"
   },
   {
    "duration": 1532,
    "start_time": "2023-10-09T21:27:06.319Z"
   },
   {
    "duration": 267,
    "start_time": "2023-10-09T21:27:07.852Z"
   },
   {
    "duration": 107,
    "start_time": "2023-10-09T21:27:08.121Z"
   },
   {
    "duration": 1166,
    "start_time": "2023-10-09T21:27:08.229Z"
   },
   {
    "duration": 490,
    "start_time": "2023-10-09T21:27:09.397Z"
   },
   {
    "duration": 75,
    "start_time": "2023-10-09T21:27:09.889Z"
   },
   {
    "duration": 752,
    "start_time": "2023-10-09T21:27:09.966Z"
   },
   {
    "duration": 81,
    "start_time": "2023-10-09T21:27:29.672Z"
   },
   {
    "duration": 1973,
    "start_time": "2023-10-09T21:27:37.527Z"
   },
   {
    "duration": 5,
    "start_time": "2023-10-09T21:27:39.503Z"
   },
   {
    "duration": 1323,
    "start_time": "2023-10-09T21:27:39.510Z"
   },
   {
    "duration": 215,
    "start_time": "2023-10-09T21:27:40.835Z"
   },
   {
    "duration": 104,
    "start_time": "2023-10-09T21:27:41.051Z"
   },
   {
    "duration": 1174,
    "start_time": "2023-10-09T21:27:41.156Z"
   },
   {
    "duration": 511,
    "start_time": "2023-10-09T21:27:42.332Z"
   },
   {
    "duration": 43,
    "start_time": "2023-10-09T21:27:42.844Z"
   },
   {
    "duration": 635,
    "start_time": "2023-10-09T21:27:42.888Z"
   },
   {
    "duration": 403,
    "start_time": "2023-10-09T21:27:50.333Z"
   },
   {
    "duration": 428,
    "start_time": "2023-10-09T21:28:00.915Z"
   },
   {
    "duration": 670,
    "start_time": "2023-10-09T21:28:21.473Z"
   },
   {
    "duration": 447,
    "start_time": "2023-10-09T21:28:31.936Z"
   },
   {
    "duration": 758,
    "start_time": "2023-10-09T21:30:19.057Z"
   },
   {
    "duration": 928,
    "start_time": "2023-10-09T21:30:29.947Z"
   },
   {
    "duration": 836,
    "start_time": "2023-10-09T21:30:42.614Z"
   },
   {
    "duration": 1128,
    "start_time": "2023-10-09T21:31:09.859Z"
   },
   {
    "duration": 1158,
    "start_time": "2023-10-09T21:31:17.174Z"
   },
   {
    "duration": 1978,
    "start_time": "2023-10-09T21:31:42.465Z"
   },
   {
    "duration": 4,
    "start_time": "2023-10-09T21:31:44.445Z"
   },
   {
    "duration": 1186,
    "start_time": "2023-10-09T21:31:44.450Z"
   },
   {
    "duration": 203,
    "start_time": "2023-10-09T21:31:45.637Z"
   },
   {
    "duration": 105,
    "start_time": "2023-10-09T21:31:45.842Z"
   },
   {
    "duration": 1210,
    "start_time": "2023-10-09T21:31:45.948Z"
   },
   {
    "duration": 375,
    "start_time": "2023-10-09T21:31:47.159Z"
   },
   {
    "duration": 47,
    "start_time": "2023-10-09T21:31:47.535Z"
   },
   {
    "duration": 647,
    "start_time": "2023-10-09T21:31:47.583Z"
   },
   {
    "duration": 763,
    "start_time": "2023-10-09T21:32:05.166Z"
   },
   {
    "duration": 744,
    "start_time": "2023-10-09T21:32:18.624Z"
   },
   {
    "duration": 872,
    "start_time": "2023-10-09T21:32:31.765Z"
   },
   {
    "duration": 2404,
    "start_time": "2023-10-09T21:33:05.567Z"
   },
   {
    "duration": 2296,
    "start_time": "2023-10-09T21:33:07.973Z"
   },
   {
    "duration": 1251,
    "start_time": "2023-10-09T21:33:10.270Z"
   },
   {
    "duration": 222,
    "start_time": "2023-10-09T21:33:11.523Z"
   },
   {
    "duration": 114,
    "start_time": "2023-10-09T21:33:11.747Z"
   },
   {
    "duration": 1341,
    "start_time": "2023-10-09T21:33:11.862Z"
   },
   {
    "duration": 517,
    "start_time": "2023-10-09T21:33:13.204Z"
   },
   {
    "duration": 56,
    "start_time": "2023-10-09T21:33:13.722Z"
   },
   {
    "duration": 623,
    "start_time": "2023-10-09T21:33:13.780Z"
   },
   {
    "duration": 837,
    "start_time": "2023-10-09T21:33:14.405Z"
   },
   {
    "duration": 444327,
    "start_time": "2023-10-09T21:33:15.243Z"
   },
   {
    "duration": 4,
    "start_time": "2023-10-09T21:40:39.571Z"
   },
   {
    "duration": 8,
    "start_time": "2023-10-09T21:44:23.625Z"
   },
   {
    "duration": 11693,
    "start_time": "2023-10-09T21:59:37.801Z"
   },
   {
    "duration": 11625,
    "start_time": "2023-10-09T21:59:58.082Z"
   },
   {
    "duration": 11544,
    "start_time": "2023-10-09T22:04:07.584Z"
   },
   {
    "duration": 1740,
    "start_time": "2023-10-10T19:15:55.242Z"
   },
   {
    "duration": 3119,
    "start_time": "2023-10-10T19:16:04.291Z"
   },
   {
    "duration": 206,
    "start_time": "2023-10-10T19:16:10.976Z"
   },
   {
    "duration": 941,
    "start_time": "2023-10-10T19:16:17.790Z"
   },
   {
    "duration": 1043,
    "start_time": "2023-10-10T19:16:27.375Z"
   },
   {
    "duration": 2117,
    "start_time": "2023-10-10T19:17:23.637Z"
   },
   {
    "duration": 5,
    "start_time": "2023-10-10T19:17:31.395Z"
   },
   {
    "duration": 2104,
    "start_time": "2023-10-10T19:18:11.583Z"
   },
   {
    "duration": 4,
    "start_time": "2023-10-10T19:18:13.690Z"
   },
   {
    "duration": 1593,
    "start_time": "2023-10-10T19:18:13.695Z"
   },
   {
    "duration": 255,
    "start_time": "2023-10-10T19:18:15.290Z"
   },
   {
    "duration": 140,
    "start_time": "2023-10-10T19:18:15.546Z"
   },
   {
    "duration": 1586,
    "start_time": "2023-10-10T19:18:15.688Z"
   },
   {
    "duration": 602,
    "start_time": "2023-10-10T19:18:17.275Z"
   },
   {
    "duration": 77,
    "start_time": "2023-10-10T19:18:17.879Z"
   },
   {
    "duration": 813,
    "start_time": "2023-10-10T19:18:17.958Z"
   },
   {
    "duration": 940,
    "start_time": "2023-10-10T19:18:18.773Z"
   },
   {
    "duration": 523100,
    "start_time": "2023-10-10T19:18:19.715Z"
   },
   {
    "duration": 4,
    "start_time": "2023-10-10T19:27:02.817Z"
   },
   {
    "duration": 54,
    "start_time": "2023-10-10T19:27:02.822Z"
   },
   {
    "duration": 2598,
    "start_time": "2023-10-10T19:27:02.878Z"
   },
   {
    "duration": 83,
    "start_time": "2023-10-10T19:44:42.694Z"
   },
   {
    "duration": 2156,
    "start_time": "2023-10-10T19:48:46.706Z"
   },
   {
    "duration": 1526,
    "start_time": "2023-10-10T19:48:48.865Z"
   },
   {
    "duration": 1908,
    "start_time": "2023-10-10T19:48:50.393Z"
   },
   {
    "duration": 289,
    "start_time": "2023-10-10T19:48:52.303Z"
   },
   {
    "duration": 134,
    "start_time": "2023-10-10T19:48:52.593Z"
   },
   {
    "duration": 1599,
    "start_time": "2023-10-10T19:48:52.728Z"
   },
   {
    "duration": 481,
    "start_time": "2023-10-10T19:48:54.329Z"
   },
   {
    "duration": 71,
    "start_time": "2023-10-10T19:48:54.812Z"
   },
   {
    "duration": 678,
    "start_time": "2023-10-10T19:48:54.885Z"
   },
   {
    "duration": 883,
    "start_time": "2023-10-10T19:48:55.565Z"
   },
   {
    "duration": 523341,
    "start_time": "2023-10-10T19:48:56.450Z"
   },
   {
    "duration": 4,
    "start_time": "2023-10-10T19:57:39.792Z"
   },
   {
    "duration": 41,
    "start_time": "2023-10-10T19:57:39.798Z"
   },
   {
    "duration": 2600,
    "start_time": "2023-10-10T19:57:39.844Z"
   },
   {
    "duration": 121,
    "start_time": "2023-10-10T19:57:42.446Z"
   },
   {
    "duration": 0,
    "start_time": "2023-10-10T19:57:42.568Z"
   },
   {
    "duration": 0,
    "start_time": "2023-10-10T19:57:42.569Z"
   },
   {
    "duration": 369438,
    "start_time": "2023-10-10T20:00:34.926Z"
   },
   {
    "duration": 273562,
    "start_time": "2023-10-10T20:06:44.366Z"
   },
   {
    "duration": 495037,
    "start_time": "2023-10-10T20:11:17.929Z"
   },
   {
    "duration": 312414,
    "start_time": "2023-10-10T20:19:35.756Z"
   },
   {
    "duration": 534740,
    "start_time": "2023-10-10T20:24:48.172Z"
   }
  ],
  "kernelspec": {
   "display_name": "Python 3 (ipykernel)",
   "language": "python",
   "name": "python3"
  },
  "language_info": {
   "codemirror_mode": {
    "name": "ipython",
    "version": 3
   },
   "file_extension": ".py",
   "mimetype": "text/x-python",
   "name": "python",
   "nbconvert_exporter": "python",
   "pygments_lexer": "ipython3",
   "version": "3.9.5"
  },
  "toc": {
   "base_numbering": 1,
   "nav_menu": {},
   "number_sections": true,
   "sideBar": true,
   "skip_h1_title": true,
   "title_cell": "Table of Contents",
   "title_sidebar": "Contents",
   "toc_cell": false,
   "toc_position": {},
   "toc_section_display": true,
   "toc_window_display": false
  }
 },
 "nbformat": 4,
 "nbformat_minor": 2
}
