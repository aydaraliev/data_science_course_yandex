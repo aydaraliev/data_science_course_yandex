{
 "cells": [
  {
   "cell_type": "markdown",
   "metadata": {},
   "source": [
    "Привет, меня зовут Люман Аблаев. Сегодня я проверю твой проект.\n",
    "<br> Дальнейшее общение будет происходить на \"ты\" если это не вызывает никаких проблем.\n",
    "<br> Желательно реагировать на каждый мой комментарий ('исправил', 'не понятно как исправить ошибку', ...)\n",
    "<br> Пожалуйста, не удаляй комментарии ревьюера, так как они повышают качество повторного ревью.\n",
    "\n",
    "Комментарии будут в <font color='green'>зеленой</font>, <font color='blue'>синей</font> или <font color='red'>красной</font> рамках:\n",
    "\n",
    "<div class=\"alert alert-block alert-success\">\n",
    "<b>Успех:</b> Если все сделано отлично\n",
    "</div>\n",
    "\n",
    "<div class=\"alert alert-block alert-info\">\n",
    "<b>Совет: </b> Если можно немного улучшить\n",
    "</div>\n",
    "\n",
    "<div class=\"alert alert-block alert-danger\">\n",
    "<b>Ошибка:</b> Если требуются исправления. Работа не может быть принята с красными комментариями.\n",
    "</div>\n",
    "\n",
    "-------------------\n",
    "\n",
    "Будет очень хорошо, если ты будешь помечать свои действия следующим образом:\n",
    "<div class=\"alert alert-block alert-warning\">\n",
    "<b>Комментарий студента:</b> ..\n",
    "</div>\n",
    "<div class=\"alert alert-block alert-warning\">\n",
    "<b>Изменения:</b> Были внесены следующие изменения ...\n",
    "</div>\n",
    "\n",
    "<font color='orange' style='font-size:24px; font-weight:bold'>Полезные ссылки:</font>\n",
    "* Полезная лекция про временные ряды: https://www.youtube.com/watch?v=u433nrxdf5k .\n",
    "\n",
    "<font color='orange' style='font-size:24px; font-weight:bold'>Общее впечатление</font>\n",
    "* Большое спасибо за проделанную работу. Видно, что приложено много усилий.\n",
    "- Приятное оформление выводов и структурированность кода в целом!  Приятно проверять такие работы.\n",
    "* Над этим проектом нужно будет еще немного поработать. Однако, изменения не должны занять много времени.\n",
    "* В работе я оставил несколько советов. Буду рад, если ты учтешь их.\n",
    "- Жду твой обновленный проект =)\n",
    "\n"
   ]
  },
  {
   "cell_type": "markdown",
   "metadata": {},
   "source": [
    "<font color='orange' style='font-size:24px; font-weight:bold'>Общее впечатление[3]</font>\n",
    "* Спасибо за оперативность\n",
    "- Приятно видеть фидбек \n",
    "- Недочеты исправлены - работа полностью корректна\n",
    "- Рад был быть полезен. Удачи в дальнейшем обучении!\n"
   ]
  },
  {
   "cell_type": "markdown",
   "metadata": {
    "toc": true
   },
   "source": [
    "<h1>Содержание<span class=\"tocSkip\"></span></h1>\n",
    "<div class=\"toc\"><ul class=\"toc-item\"><li><span><a href=\"#Подготовка\" data-toc-modified-id=\"Подготовка-1\"><span class=\"toc-item-num\">1&nbsp;&nbsp;</span>Подготовка</a></span></li><li><span><a href=\"#Анализ\" data-toc-modified-id=\"Анализ-2\"><span class=\"toc-item-num\">2&nbsp;&nbsp;</span>Анализ</a></span></li><li><span><a href=\"#Обучение\" data-toc-modified-id=\"Обучение-3\"><span class=\"toc-item-num\">3&nbsp;&nbsp;</span>Обучение</a></span></li><li><span><a href=\"#Тестирование\" data-toc-modified-id=\"Тестирование-4\"><span class=\"toc-item-num\">4&nbsp;&nbsp;</span>Тестирование</a></span></li><li><span><a href=\"#Чек-лист-проверки\" data-toc-modified-id=\"Чек-лист-проверки-5\"><span class=\"toc-item-num\">5&nbsp;&nbsp;</span>Чек-лист проверки</a></span></li></ul></div>"
   ]
  },
  {
   "cell_type": "markdown",
   "metadata": {},
   "source": [
    "#  Прогнозирование заказов такси"
   ]
  },
  {
   "cell_type": "markdown",
   "metadata": {},
   "source": [
    "Компания «Чётенькое такси» собрала исторические данные о заказах такси в аэропортах. Чтобы привлекать больше водителей в период пиковой нагрузки, нужно спрогнозировать количество заказов такси на следующий час. Постройте модель для такого предсказания.\n",
    "\n",
    "Значение метрики *RMSE* на тестовой выборке должно быть не больше 48.\n",
    "\n",
    "Вам нужно:\n",
    "\n",
    "1. Загрузить данные и выполнить их ресемплирование по одному часу.\n",
    "2. Проанализировать данные.\n",
    "3. Обучить разные модели с различными гиперпараметрами. Сделать тестовую выборку размером 10% от исходных данных.\n",
    "4. Проверить данные на тестовой выборке и сделать выводы.\n",
    "\n",
    "\n",
    "Данные лежат в файле `taxi.csv`. Количество заказов находится в столбце `num_orders` (от англ. *number of orders*, «число заказов»)."
   ]
  },
  {
   "cell_type": "markdown",
   "metadata": {},
   "source": [
    "## Подготовка"
   ]
  },
  {
   "cell_type": "code",
   "execution_count": 1,
   "metadata": {
    "ExecuteTime": {
     "end_time": "2023-10-26T21:21:54.115532525Z",
     "start_time": "2023-10-26T21:21:53.854846598Z"
    }
   },
   "outputs": [],
   "source": [
    "import pandas as pd\n",
    "import matplotlib.pyplot as plt\n",
    "from statsmodels.tsa.seasonal import seasonal_decompose\n",
    "from sklearn.model_selection import train_test_split\n",
    "from sklearn.ensemble import RandomForestRegressor\n",
    "from sklearn.model_selection import GridSearchCV, PredefinedSplit\n",
    "from sklearn.metrics import mean_squared_error\n",
    "import numpy as np\n",
    "from lightgbm import LGBMRegressor\n",
    "from catboost import CatBoostRegressor"
   ]
  },
  {
   "cell_type": "markdown",
   "metadata": {},
   "source": [
    "<div class=\"alert alert-block alert-success\">\n",
    "<b>Успех:</b> Импорты  на месте\n",
    "</div>\n"
   ]
  },
  {
   "cell_type": "code",
   "execution_count": 2,
   "metadata": {
    "ExecuteTime": {
     "end_time": "2023-10-26T19:23:35.663525415Z",
     "start_time": "2023-10-26T19:23:35.022157591Z"
    }
   },
   "outputs": [],
   "source": [
    "try:\n",
    "    df = pd.read_csv('taxi.csv')\n",
    "except FileNotFoundError:\n",
    "    df = pd.read_csv('https://code.s3.yandex.net/datasets/taxi.csv')"
   ]
  },
  {
   "cell_type": "code",
   "execution_count": 3,
   "metadata": {
    "ExecuteTime": {
     "end_time": "2023-10-26T19:23:35.665543603Z",
     "start_time": "2023-10-26T19:23:35.127906876Z"
    }
   },
   "outputs": [
    {
     "name": "stdout",
     "output_type": "stream",
     "text": [
      "<class 'pandas.core.frame.DataFrame'>\n",
      "RangeIndex: 26496 entries, 0 to 26495\n",
      "Data columns (total 2 columns):\n",
      " #   Column      Non-Null Count  Dtype \n",
      "---  ------      --------------  ----- \n",
      " 0   datetime    26496 non-null  object\n",
      " 1   num_orders  26496 non-null  int64 \n",
      "dtypes: int64(1), object(1)\n",
      "memory usage: 414.1+ KB\n"
     ]
    }
   ],
   "source": [
    "df.info()"
   ]
  },
  {
   "cell_type": "code",
   "execution_count": 4,
   "metadata": {
    "ExecuteTime": {
     "end_time": "2023-10-26T19:23:35.667812481Z",
     "start_time": "2023-10-26T19:23:35.128742821Z"
    }
   },
   "outputs": [
    {
     "data": {
      "text/html": [
       "<div>\n",
       "<style scoped>\n",
       "    .dataframe tbody tr th:only-of-type {\n",
       "        vertical-align: middle;\n",
       "    }\n",
       "\n",
       "    .dataframe tbody tr th {\n",
       "        vertical-align: top;\n",
       "    }\n",
       "\n",
       "    .dataframe thead th {\n",
       "        text-align: right;\n",
       "    }\n",
       "</style>\n",
       "<table border=\"1\" class=\"dataframe\">\n",
       "  <thead>\n",
       "    <tr style=\"text-align: right;\">\n",
       "      <th></th>\n",
       "      <th>num_orders</th>\n",
       "    </tr>\n",
       "  </thead>\n",
       "  <tbody>\n",
       "    <tr>\n",
       "      <th>count</th>\n",
       "      <td>26496.000000</td>\n",
       "    </tr>\n",
       "    <tr>\n",
       "      <th>mean</th>\n",
       "      <td>14.070463</td>\n",
       "    </tr>\n",
       "    <tr>\n",
       "      <th>std</th>\n",
       "      <td>9.211330</td>\n",
       "    </tr>\n",
       "    <tr>\n",
       "      <th>min</th>\n",
       "      <td>0.000000</td>\n",
       "    </tr>\n",
       "    <tr>\n",
       "      <th>25%</th>\n",
       "      <td>8.000000</td>\n",
       "    </tr>\n",
       "    <tr>\n",
       "      <th>50%</th>\n",
       "      <td>13.000000</td>\n",
       "    </tr>\n",
       "    <tr>\n",
       "      <th>75%</th>\n",
       "      <td>19.000000</td>\n",
       "    </tr>\n",
       "    <tr>\n",
       "      <th>max</th>\n",
       "      <td>119.000000</td>\n",
       "    </tr>\n",
       "  </tbody>\n",
       "</table>\n",
       "</div>"
      ],
      "text/plain": [
       "         num_orders\n",
       "count  26496.000000\n",
       "mean      14.070463\n",
       "std        9.211330\n",
       "min        0.000000\n",
       "25%        8.000000\n",
       "50%       13.000000\n",
       "75%       19.000000\n",
       "max      119.000000"
      ]
     },
     "execution_count": 4,
     "metadata": {},
     "output_type": "execute_result"
    }
   ],
   "source": [
    "df.describe()"
   ]
  },
  {
   "cell_type": "code",
   "execution_count": 5,
   "metadata": {
    "ExecuteTime": {
     "end_time": "2023-10-26T19:23:35.705729160Z",
     "start_time": "2023-10-26T19:23:35.161654101Z"
    }
   },
   "outputs": [
    {
     "data": {
      "text/html": [
       "<div>\n",
       "<style scoped>\n",
       "    .dataframe tbody tr th:only-of-type {\n",
       "        vertical-align: middle;\n",
       "    }\n",
       "\n",
       "    .dataframe tbody tr th {\n",
       "        vertical-align: top;\n",
       "    }\n",
       "\n",
       "    .dataframe thead th {\n",
       "        text-align: right;\n",
       "    }\n",
       "</style>\n",
       "<table border=\"1\" class=\"dataframe\">\n",
       "  <thead>\n",
       "    <tr style=\"text-align: right;\">\n",
       "      <th></th>\n",
       "      <th>datetime</th>\n",
       "      <th>num_orders</th>\n",
       "    </tr>\n",
       "  </thead>\n",
       "  <tbody>\n",
       "  </tbody>\n",
       "</table>\n",
       "</div>"
      ],
      "text/plain": [
       "Empty DataFrame\n",
       "Columns: [datetime, num_orders]\n",
       "Index: []"
      ]
     },
     "execution_count": 5,
     "metadata": {},
     "output_type": "execute_result"
    }
   ],
   "source": [
    "df[df.duplicated()]"
   ]
  },
  {
   "cell_type": "code",
   "execution_count": 6,
   "metadata": {
    "ExecuteTime": {
     "end_time": "2023-10-26T19:23:35.706844200Z",
     "start_time": "2023-10-26T19:23:35.197983342Z"
    }
   },
   "outputs": [
    {
     "name": "stdout",
     "output_type": "stream",
     "text": [
      "минимальная дата 2018-03-01 00:00:00\n",
      "максимальная дата 2018-08-31 23:50:00\n"
     ]
    }
   ],
   "source": [
    "print('минимальная дата', df.datetime.unique()[0])\n",
    "print('максимальная дата', df.datetime.unique()[-1])"
   ]
  },
  {
   "cell_type": "markdown",
   "metadata": {},
   "source": [
    "По результатам обзорного анализа данных: пропусков в данных нет, минимальное количество заказов - 0, максимальное 119, дубликатов нет, данные за период с 1 марта 2018 до 31 августа 2018, за каждые 10 минут."
   ]
  },
  {
   "cell_type": "code",
   "execution_count": 7,
   "metadata": {
    "ExecuteTime": {
     "end_time": "2023-10-26T19:23:35.708029913Z",
     "start_time": "2023-10-26T19:23:35.245116595Z"
    }
   },
   "outputs": [],
   "source": [
    "df.set_index(pd.to_datetime(df.datetime), drop=True, inplace=True)\n",
    "df.drop(['datetime'], axis=1, inplace=True)"
   ]
  },
  {
   "cell_type": "code",
   "execution_count": 8,
   "metadata": {
    "ExecuteTime": {
     "end_time": "2023-10-26T19:23:35.708933118Z",
     "start_time": "2023-10-26T19:23:35.288650889Z"
    }
   },
   "outputs": [
    {
     "name": "stdout",
     "output_type": "stream",
     "text": [
      "Монотонно ли увеличивается индекс? True\n"
     ]
    }
   ],
   "source": [
    "print('Монотонно ли увеличивается индекс?', df.index.is_monotonic_increasing)"
   ]
  },
  {
   "cell_type": "code",
   "execution_count": 9,
   "metadata": {
    "ExecuteTime": {
     "end_time": "2023-10-26T19:23:35.709407438Z",
     "start_time": "2023-10-26T19:23:35.289391041Z"
    }
   },
   "outputs": [],
   "source": [
    "df = df.resample('1H').max()"
   ]
  },
  {
   "cell_type": "markdown",
   "metadata": {},
   "source": [
    "Выше проверка на монотонность и ресемплинг датасета с промежутком в один час. В качестве агрегирующей выбрана функция max поскольку так мы можем быть уверены, что заказов было как минимум столько сколько составляет максимальное значение заказов за период. С учетом того что заказы пересекаются по времени более точно подобрать агрегирующую функцию тяжело."
   ]
  },
  {
   "cell_type": "markdown",
   "metadata": {},
   "source": [
    "<div class=\"alert alert-block alert-success\">\n",
    "<b>Успех:</b> Данные осмотрены, ресемпилнг был сделан верно.\n",
    "</div>\n"
   ]
  },
  {
   "cell_type": "markdown",
   "metadata": {},
   "source": [
    "## Анализ"
   ]
  },
  {
   "cell_type": "code",
   "execution_count": 10,
   "metadata": {
    "ExecuteTime": {
     "end_time": "2023-10-26T19:23:36.244848641Z",
     "start_time": "2023-10-26T19:23:35.335791815Z"
    }
   },
   "outputs": [
    {
     "data": {
      "image/png": "[encoded data removed]",
      "text/plain": [
       "<Figure size 432x288 with 1 Axes>"
      ]
     },
     "metadata": {
      "needs_background": "light"
     },
     "output_type": "display_data"
    }
   ],
   "source": [
    "df.plot(title='number of orders by datetime', ylabel='number of orders');"
   ]
  },
  {
   "cell_type": "code",
   "execution_count": 11,
   "metadata": {
    "ExecuteTime": {
     "end_time": "2023-10-26T19:23:36.909489162Z",
     "start_time": "2023-10-26T19:23:35.885490832Z"
    }
   },
   "outputs": [
    {
     "data": {
      "image/png": "[encoded data removed]",
      "text/plain": [
       "<Figure size 432x288 with 1 Axes>"
      ]
     },
     "metadata": {
      "needs_background": "light"
     },
     "output_type": "display_data"
    }
   ],
   "source": [
    "df_rolling_mean = df.rolling(10, closed='left').mean()\n",
    "fig, ax = plt.subplots(1, 1)\n",
    "ax.plot(df)\n",
    "ax.plot(df_rolling_mean, color='red');"
   ]
  },
  {
   "cell_type": "markdown",
   "metadata": {},
   "source": [
    "\n",
    "<div class=\"alert alert-block alert-danger\">\n",
    "\n",
    "<b>Ошибка:</b>\n",
    "При использовании `.rolling()` в такой постановке скользящее среднее считается с учётом текущего шага - это не совсем верно для задачи временных рядов, так как будет работать только для известных нам значений и сломается на предсказаниях.\n",
    "        \n",
    "Нужно либо использовать `.shift()` перед `.rolling()`, либо параметру `closed` при использовании `.rolling()` передать значение `left`.\n",
    "    \n",
    "Ниже - наглядная визуализация:\n",
    "    \n",
    "[![2023-07-11-15-48-51.png](https://i.postimg.cc/cH9tDwq4/2023-07-11-15-48-51.png)](https://postimg.cc/BLFvb8Qd)\n",
    "    \n",
    "Тут и далее по проекту.\n",
    "</div>"
   ]
  },
  {
   "cell_type": "markdown",
   "metadata": {},
   "source": [
    "<div class=\"alert alert-block alert-warning\">\n",
    "<b>Изменения:</b> Внёс соответствующие изменения в код, но мне осталось непонятным почему нам нужно использовать closed = 'left' или .shift(), для чего нам надо исключить самую правую конечную точку при расчёте скользящей средней? Это если я правильно понял как работает closed = 'left' или .shift(), конечно.\n",
    "</div>"
   ]
  },
  {
   "cell_type": "markdown",
   "metadata": {},
   "source": [
    "<div class=\"alert alert-block alert-success\">\n",
    "<b>Успех[2]:</b>  Когда мы будем делать предсказание на новых данных, у нас будет неизвестный целевой признак (num_orders) для текущего шага, а только за предыдущие шаги - поэтому и здесь коректнее считать скользящее среднее без текущего шага.\n",
    "</div>\n"
   ]
  },
  {
   "cell_type": "markdown",
   "metadata": {},
   "source": [
    "После расчёта скользящей средней лучше прослеживается тренд, средняя увеличивается к концу наблюдаемого периода."
   ]
  },
  {
   "cell_type": "code",
   "execution_count": 12,
   "metadata": {
    "ExecuteTime": {
     "end_time": "2023-10-26T19:23:38.317554768Z",
     "start_time": "2023-10-26T19:23:36.367821584Z"
    }
   },
   "outputs": [
    {
     "data": {
      "image/png": "[encoded data removed]",
      "text/plain": [
       "<Figure size 1008x360 with 3 Axes>"
      ]
     },
     "metadata": {
      "needs_background": "light"
     },
     "output_type": "display_data"
    }
   ],
   "source": [
    "day = df[df.index > (df.index.max() - pd.DateOffset(days=1))]\n",
    "week = df[df.index > (df.index.max() - pd.DateOffset(weeks=1))]\n",
    "month = df[df.index > (df.index.max() - pd.DateOffset(months=1))]\n",
    "fig, ax = plt.subplots(1, 3, figsize=(14, 5))\n",
    "ax[0].plot(day)\n",
    "plt.setp(ax[0].xaxis.get_majorticklabels(), rotation=45)\n",
    "ax[0].set_title('day')\n",
    "ax[1].plot(week)\n",
    "plt.setp(ax[1].xaxis.get_majorticklabels(), rotation=45)\n",
    "ax[1].set_title('week')\n",
    "ax[2].plot(month)\n",
    "plt.setp(ax[2].xaxis.get_majorticklabels(), rotation=45)\n",
    "ax[2].set_title('month')\n",
    "plt.suptitle('Number of orders by time');"
   ]
  },
  {
   "cell_type": "markdown",
   "metadata": {},
   "source": [
    "Из графика для 1 дня видно, что в течение дня бывают довольно сильные просадки. Посмотрим каким днём недели был пик на недельном графике... И им оказался понедельник, что ничего особо нам не говорит. Можно конечно начать спекулировать, но не вижу в этом смысла."
   ]
  },
  {
   "cell_type": "code",
   "execution_count": 13,
   "metadata": {
    "ExecuteTime": {
     "end_time": "2023-10-26T19:23:38.651153382Z",
     "start_time": "2023-10-26T19:23:38.292777494Z"
    }
   },
   "outputs": [],
   "source": [
    "decomposed = seasonal_decompose(df)"
   ]
  },
  {
   "cell_type": "code",
   "execution_count": 14,
   "metadata": {
    "ExecuteTime": {
     "end_time": "2023-10-26T19:23:39.344981713Z",
     "start_time": "2023-10-26T19:23:38.312880165Z"
    }
   },
   "outputs": [
    {
     "data": {
      "image/png": "[encoded data removed]",
      "text/plain": [
       "<Figure size 864x360 with 2 Axes>"
      ]
     },
     "metadata": {
      "needs_background": "light"
     },
     "output_type": "display_data"
    }
   ],
   "source": [
    "fig, ax = plt.subplots(1, 2, figsize=(12, 5))\n",
    "ax[0].plot(decomposed.trend)\n",
    "ax[0].set_title('All time trend')\n",
    "ax[0].set_ylabel('Orders number')\n",
    "plt.setp(ax[0].xaxis.get_majorticklabels(), rotation=45);\n",
    "ax[1].plot(decomposed.seasonal[df.index > (df.index.max() - pd.DateOffset(weeks=1))])\n",
    "ax[1].set_title('Weekly seasonality')\n",
    "ax[1].set_ylabel('Orders number')\n",
    "plt.setp(ax[1].xaxis.get_majorticklabels(), rotation=45);"
   ]
  },
  {
   "cell_type": "markdown",
   "metadata": {},
   "source": [
    "При помощи функции seasonal_decompose из statsmodels.tsa.seasonal можно разложить временной ряд на тренд, сезонность и остаток. На графике тренда видно, что среднее количество заказов увеличивается к концу наблюдаемого периода. На графике сезонности недели видно, что в течение дня количество заказов увеличивается к вечеру, график цикличный. На графиках для дня и месяца ничего интересного, сезонности не прослеживается."
   ]
  },
  {
   "cell_type": "markdown",
   "metadata": {},
   "source": [
    "<div class=\"alert alert-block alert-success\">\n",
    "<b>Успех:</b> Декомпозиция была сделана тоже правильно. Радует, что сезонность была визуализирована на более коротком интервале и заметил. С наблюдениями согласен\n",
    "</div>\n"
   ]
  },
  {
   "cell_type": "code",
   "execution_count": 15,
   "metadata": {
    "ExecuteTime": {
     "end_time": "2023-10-26T19:39:01.790825064Z",
     "start_time": "2023-10-26T19:39:01.134794973Z"
    }
   },
   "outputs": [
    {
     "name": "stdout",
     "output_type": "stream",
     "text": [
      "Test statistic: -3.0555971185204864\n",
      "P-value: 0.030018526353333217\n",
      "The series is likely stationary for 5% significance level\n",
      "The series is likely non-stationary for 1% significance level\n"
     ]
    }
   ],
   "source": [
    "from statsmodels.tsa.stattools import adfuller\n",
    "\n",
    "alpha0 = 0.05\n",
    "alpha1 = 0.01\n",
    "result = adfuller(df['num_orders'])\n",
    "\n",
    "print('Test statistic:', result[0])\n",
    "print('P-value:', pvalue := result[1])\n",
    "\n",
    "if pvalue < alpha0:\n",
    "    print('The series is likely stationary for 5% significance level')\n",
    "else:\n",
    "    print('The series is likely non-stationary for 5% significance level')\n",
    "\n",
    "if pvalue < alpha1:\n",
    "    print('The series is likely stationary for 1% significance level')\n",
    "else:\n",
    "    print('The series is likely non-stationary for 1% significance level')"
   ]
  },
  {
   "cell_type": "markdown",
   "metadata": {},
   "source": [
    "Исходя из теста Дики-Фуллера можно сделать вывод, что ряд стационарный, если ориентироваться на мягкий критерий 0.05.\n"
   ]
  },
  {
   "cell_type": "markdown",
   "metadata": {},
   "source": [
    "\n",
    "<div class=\"alert alert-block alert-info\">\n",
    "    \n",
    "<b>Совет:</b> Дополнительно  неплохо было бы исследловать стационарность ряда. \n",
    "    \n",
    "Это можно оценивать с помощью графика или же теста Дики-Фуллера: в реальных задачах с временными рядами, в особенности - с финансовыми данными или биржевыми котировками, график не всегда поможет достоверно оценить стационарность ряда, поэтому для оценки стационарности ряда лучше использовать тест Дики — Фуллера (подробнее о нём можно глянуть тут: https://www.statsmodels.org/dev/generated/statsmodels.tsa.stattools.adfuller.html, а вот тут можно глянуть пример реализации: https://www.helenkapatsa.ru/tiest-diki-fulliera/) - он даст наиболее точный результат. Результат нужно проверить на уровнях значимости 1% и 5%, чтобы быть уверенным в выводах. Не забудь при применении теста сформулировать гипотезы - нулевая формулируется как гипотеза о нестацинарности ряда, а альтернативная - как гипотеза о стационарности ряда. Также при проведении теста не забывай, что мы сравниваем `p-value` с уровнем значимости `alpha`.\n",
    "</div>\n"
   ]
  },
  {
   "cell_type": "markdown",
   "metadata": {},
   "source": [
    "<div class=\"alert alert-block alert-warning\">\n",
    "<b>Изменения:</b> Добавил проверку на Дики-Фуллера\n",
    "</div>\n"
   ]
  },
  {
   "cell_type": "markdown",
   "metadata": {},
   "source": [
    "\n",
    "<div class=\"alert alert-block alert-info\">\n",
    "    \n",
    "<b>Совет[2]:</b>\n",
    "    \n",
    "В строгом смысле наш ряд не является стационарным, потому что имеет не только тренд, но еще и с августа - ускорение (квадратичный тренд). Дисперсия также непостоянна.\n",
    "    \n",
    "Однако есть методы, с помощью которых можно попытаться привести ряд к стационарному. Например, если возьмем разность временного ряда, то уберем тренд. Если применим преодразование Бокса-Кокса, то уберем неоднородность дисперсии. Можно взять разность по сезонности и уберем сезонность.\n",
    "    \n",
    "Наши модели могут предсказывать ряд без всех этих преобразований. Делать преобразования нам не нужно. Можно просто протестировать, приводим ли наш ряд к стационарному. Часто в задачах ML ряд, приводимый к стационарному для простоты называют стационарным. Однако строго по определению он таковым не является.\n",
    "\n"
   ]
  },
  {
   "cell_type": "markdown",
   "metadata": {},
   "source": [
    "## Обучение"
   ]
  },
  {
   "cell_type": "code",
   "execution_count": 16,
   "metadata": {
    "ExecuteTime": {
     "end_time": "2023-10-26T19:57:39.859385298Z",
     "start_time": "2023-10-26T19:57:39.743885123Z"
    }
   },
   "outputs": [],
   "source": [
    "def make_features(df, max_lag, rolling_mean_size):\n",
    "    df['hour'] = df.index.hour\n",
    "    df['dayofweek'] = df.index.dayofweek\n",
    "    for lag in range(1, max_lag + 1):\n",
    "        df['lag_{}'.format(lag)] = df['num_orders'].shift(lag)\n",
    "    df['rolling_mean'] = df['num_orders'].shift().rolling(rolling_mean_size).mean()\n",
    "    return df\n",
    "\n",
    "df = make_features(df, 10, 10)"
   ]
  },
  {
   "cell_type": "markdown",
   "metadata": {},
   "source": [
    "\n",
    "<div class=\"alert alert-block alert-danger\">\n",
    "<b>Ошибка[2]:</b> Не все выбранные признаки нам подходят:\n",
    "    \n",
    "месяц:   У нас данных меньше года, в истории всего один март, май.... Да и горизонт прогноза - часы. Поэтому сезонность времени года будет просто в тренде уже заложена.\n",
    "    \n",
    "день:  также не подходит, будет просто последовательность чисел<br>\n",
    "</div>\t\t\n",
    "    "
   ]
  },
  {
   "cell_type": "markdown",
   "metadata": {},
   "source": [
    "<div class=\"alert alert-block alert-warning\">\n",
    "<b>Изменения:</b> Убрал день и месяц.\n",
    "</div>"
   ]
  },
  {
   "cell_type": "markdown",
   "metadata": {},
   "source": [
    "<div class=\"alert alert-block alert-success\">\n",
    "<b>Успех[3]:</b> Есть контакт\n",
    "</div>\n",
    "\n"
   ]
  },
  {
   "cell_type": "markdown",
   "metadata": {},
   "source": [
    "\n",
    "<div class=\"alert alert-info\">\n",
    "<b>Совет[2]:</b>\n",
    "Организация работы функции таким образом, чтобы она работала с глобальной переменной - не самая хорошая практика: если что-то пойдёт не так, придётся заново запускать весь процесс предобработки данных. \n",
    "        \n",
    "Лучше организовывать функцию так, чтобы она принимала на вход набор данных и возвращала результат работы, чтобы его можно было сохранить в новой переменной. Концепт:\n",
    "        \n",
    "    def foo(df):\n",
    "        df.dropna(inplace=True)\n",
    "    \n",
    "    foo(df)\n",
    "        \n",
    "В этом случае изменения необратимы, так как мы модифицировали глобальную переменную `df` - эту переменную придётся загружать в память заново и заново её обрабатывать.\n",
    "        \n",
    "\n",
    "    def foo(df):\n",
    "        return df.dropna()\n",
    "    \n",
    "    foo(df)\n",
    "        \n",
    "        \n",
    "Изменения будут необратимы и в таком случае, даже несмотря на на наличие `return`: несмотря на то, что работаем мы с локальной переменной, функция всё равно работает с объектом в памяти, связанным с глобальной переменной, пусть и через алиас.\n",
    "        \n",
    "    def foo(df):\n",
    "        df_foo = df.copy()\n",
    "        return df_foo.dropna()\n",
    "    \n",
    "    df_new = foo(df)\n",
    "        \n",
    "Здесь внутри функции исходный объект копируется, и работа уже происходит с новым объектом. В этом случае результат работы функции с исходными данными мы складываем в новую переменную - таким образом исходная глобальная переменная не подвергается вмешательству и сохранятся на случай, если функция сработала неправильно.\n",
    "        \n",
    "</div>"
   ]
  },
  {
   "cell_type": "markdown",
   "metadata": {},
   "source": [
    "<div class=\"alert alert-block alert-warning\">\n",
    "<b>Изменения:</b> Учту, спасибо.\n",
    "</div>"
   ]
  },
  {
   "cell_type": "code",
   "execution_count": 17,
   "metadata": {
    "ExecuteTime": {
     "end_time": "2023-10-26T19:57:51.364938148Z",
     "start_time": "2023-10-26T19:57:51.187147871Z"
    }
   },
   "outputs": [
    {
     "data": {
      "text/html": [
       "<div>\n",
       "<style scoped>\n",
       "    .dataframe tbody tr th:only-of-type {\n",
       "        vertical-align: middle;\n",
       "    }\n",
       "\n",
       "    .dataframe tbody tr th {\n",
       "        vertical-align: top;\n",
       "    }\n",
       "\n",
       "    .dataframe thead th {\n",
       "        text-align: right;\n",
       "    }\n",
       "</style>\n",
       "<table border=\"1\" class=\"dataframe\">\n",
       "  <thead>\n",
       "    <tr style=\"text-align: right;\">\n",
       "      <th></th>\n",
       "      <th>num_orders</th>\n",
       "      <th>hour</th>\n",
       "      <th>dayofweek</th>\n",
       "      <th>lag_1</th>\n",
       "      <th>lag_2</th>\n",
       "      <th>lag_3</th>\n",
       "      <th>lag_4</th>\n",
       "      <th>lag_5</th>\n",
       "      <th>lag_6</th>\n",
       "      <th>lag_7</th>\n",
       "      <th>lag_8</th>\n",
       "      <th>lag_9</th>\n",
       "      <th>lag_10</th>\n",
       "      <th>rolling_mean</th>\n",
       "    </tr>\n",
       "    <tr>\n",
       "      <th>datetime</th>\n",
       "      <th></th>\n",
       "      <th></th>\n",
       "      <th></th>\n",
       "      <th></th>\n",
       "      <th></th>\n",
       "      <th></th>\n",
       "      <th></th>\n",
       "      <th></th>\n",
       "      <th></th>\n",
       "      <th></th>\n",
       "      <th></th>\n",
       "      <th></th>\n",
       "      <th></th>\n",
       "      <th></th>\n",
       "    </tr>\n",
       "  </thead>\n",
       "  <tbody>\n",
       "    <tr>\n",
       "      <th>2018-03-01 00:00:00</th>\n",
       "      <td>32</td>\n",
       "      <td>0</td>\n",
       "      <td>3</td>\n",
       "      <td>NaN</td>\n",
       "      <td>NaN</td>\n",
       "      <td>NaN</td>\n",
       "      <td>NaN</td>\n",
       "      <td>NaN</td>\n",
       "      <td>NaN</td>\n",
       "      <td>NaN</td>\n",
       "      <td>NaN</td>\n",
       "      <td>NaN</td>\n",
       "      <td>NaN</td>\n",
       "      <td>NaN</td>\n",
       "    </tr>\n",
       "    <tr>\n",
       "      <th>2018-03-01 01:00:00</th>\n",
       "      <td>25</td>\n",
       "      <td>1</td>\n",
       "      <td>3</td>\n",
       "      <td>32.0</td>\n",
       "      <td>NaN</td>\n",
       "      <td>NaN</td>\n",
       "      <td>NaN</td>\n",
       "      <td>NaN</td>\n",
       "      <td>NaN</td>\n",
       "      <td>NaN</td>\n",
       "      <td>NaN</td>\n",
       "      <td>NaN</td>\n",
       "      <td>NaN</td>\n",
       "      <td>NaN</td>\n",
       "    </tr>\n",
       "    <tr>\n",
       "      <th>2018-03-01 02:00:00</th>\n",
       "      <td>22</td>\n",
       "      <td>2</td>\n",
       "      <td>3</td>\n",
       "      <td>25.0</td>\n",
       "      <td>32.0</td>\n",
       "      <td>NaN</td>\n",
       "      <td>NaN</td>\n",
       "      <td>NaN</td>\n",
       "      <td>NaN</td>\n",
       "      <td>NaN</td>\n",
       "      <td>NaN</td>\n",
       "      <td>NaN</td>\n",
       "      <td>NaN</td>\n",
       "      <td>NaN</td>\n",
       "    </tr>\n",
       "    <tr>\n",
       "      <th>2018-03-01 03:00:00</th>\n",
       "      <td>20</td>\n",
       "      <td>3</td>\n",
       "      <td>3</td>\n",
       "      <td>22.0</td>\n",
       "      <td>25.0</td>\n",
       "      <td>32.0</td>\n",
       "      <td>NaN</td>\n",
       "      <td>NaN</td>\n",
       "      <td>NaN</td>\n",
       "      <td>NaN</td>\n",
       "      <td>NaN</td>\n",
       "      <td>NaN</td>\n",
       "      <td>NaN</td>\n",
       "      <td>NaN</td>\n",
       "    </tr>\n",
       "    <tr>\n",
       "      <th>2018-03-01 04:00:00</th>\n",
       "      <td>17</td>\n",
       "      <td>4</td>\n",
       "      <td>3</td>\n",
       "      <td>20.0</td>\n",
       "      <td>22.0</td>\n",
       "      <td>25.0</td>\n",
       "      <td>32.0</td>\n",
       "      <td>NaN</td>\n",
       "      <td>NaN</td>\n",
       "      <td>NaN</td>\n",
       "      <td>NaN</td>\n",
       "      <td>NaN</td>\n",
       "      <td>NaN</td>\n",
       "      <td>NaN</td>\n",
       "    </tr>\n",
       "  </tbody>\n",
       "</table>\n",
       "</div>"
      ],
      "text/plain": [
       "                     num_orders  hour  dayofweek  lag_1  lag_2  lag_3  lag_4  \\\n",
       "datetime                                                                       \n",
       "2018-03-01 00:00:00          32     0          3    NaN    NaN    NaN    NaN   \n",
       "2018-03-01 01:00:00          25     1          3   32.0    NaN    NaN    NaN   \n",
       "2018-03-01 02:00:00          22     2          3   25.0   32.0    NaN    NaN   \n",
       "2018-03-01 03:00:00          20     3          3   22.0   25.0   32.0    NaN   \n",
       "2018-03-01 04:00:00          17     4          3   20.0   22.0   25.0   32.0   \n",
       "\n",
       "                     lag_5  lag_6  lag_7  lag_8  lag_9  lag_10  rolling_mean  \n",
       "datetime                                                                      \n",
       "2018-03-01 00:00:00    NaN    NaN    NaN    NaN    NaN     NaN           NaN  \n",
       "2018-03-01 01:00:00    NaN    NaN    NaN    NaN    NaN     NaN           NaN  \n",
       "2018-03-01 02:00:00    NaN    NaN    NaN    NaN    NaN     NaN           NaN  \n",
       "2018-03-01 03:00:00    NaN    NaN    NaN    NaN    NaN     NaN           NaN  \n",
       "2018-03-01 04:00:00    NaN    NaN    NaN    NaN    NaN     NaN           NaN  "
      ]
     },
     "execution_count": 17,
     "metadata": {},
     "output_type": "execute_result"
    }
   ],
   "source": [
    "df.head()"
   ]
  },
  {
   "cell_type": "markdown",
   "metadata": {},
   "source": [
    "\n",
    "<div class=\"alert alert-block alert-danger\">\n",
    "\n",
    "<b>Ошибка:</b> Прежде чем переходить к разбиению данных - нужно создать признаки для обучения модели (вы делали такое в тренажере, загляни туда, если забыл).\n",
    "    \n",
    "То есть нужно определить функции `make_features`, которой на вход приходит наш датафрейм и нужно сгенерировать полезные для модели фичи. С помощью  индекса (даты) создать новые колонки (часы, день,  день недели, месяц, год), но нам нужны не все, а только важные - подумай над этим. Также нужно использовать lag и скользящее среднее. "
   ]
  },
  {
   "cell_type": "markdown",
   "metadata": {},
   "source": [
    "<div class=\"alert alert-block alert-warning\">\n",
    "<b>Изменения:</b> Добавил функцию make_features.\n",
    "</div>"
   ]
  },
  {
   "cell_type": "code",
   "execution_count": 18,
   "metadata": {
    "ExecuteTime": {
     "end_time": "2023-10-26T20:52:06.378911160Z",
     "start_time": "2023-10-26T20:52:06.336308733Z"
    }
   },
   "outputs": [],
   "source": [
    "X = df.drop(['num_orders'], axis=1)\n",
    "y = df['num_orders']\n",
    "\n",
    "X_train, X_test, y_train, y_test = train_test_split(X, y, test_size=0.1, shuffle=False, random_state=999)"
   ]
  },
  {
   "cell_type": "markdown",
   "metadata": {},
   "source": [
    "\n",
    "<div class=\"alert alert-block alert-danger\">\n",
    "\n",
    "<b>Ошибка:</b> Согласно ТЗ, рамзер тестовой выборки должен быть 10%.\n",
    "</div>"
   ]
  },
  {
   "cell_type": "markdown",
   "metadata": {},
   "source": [
    "<div class=\"alert alert-block alert-warning\">\n",
    "<b>Комментарий студента:</b> Исправил, X_valid нам не понадобится так как возьмем X_train и зафиксируем там валидационную выборку при помощи PredefinedSplit.\n",
    "</div>"
   ]
  },
  {
   "cell_type": "markdown",
   "metadata": {},
   "source": [
    "<div class=\"alert alert-block alert-success\">\n",
    "<b>Успех[2]:</b>  Есть\n",
    "</div>\n"
   ]
  },
  {
   "cell_type": "code",
   "execution_count": 61,
   "metadata": {
    "ExecuteTime": {
     "end_time": "2023-10-26T21:58:17.881929761Z",
     "start_time": "2023-10-26T21:58:03.340311101Z"
    }
   },
   "outputs": [
    {
     "name": "stdout",
     "output_type": "stream",
     "text": [
      "Best params for LGBMRegressor: {'learning_rate': 0.1, 'max_depth': -1, 'n_estimators': 150, 'num_leaves': 14}\n",
      "Best score for LGBMRegressor with best parameters: -70.09501253034922\n",
      "Best params for CatBoostRegressor: {'depth': 6, 'iterations': 150, 'l2_leaf_reg': 1, 'learning_rate': 0.1}\n",
      "Best score for CatBoostRegressor with best parameters: -69.87299640034055\n"
     ]
    }
   ],
   "source": [
    "models = {\n",
    "    'LGBMRegressor': LGBMRegressor(verbose=-1),\n",
    "    'CatBoostRegressor': CatBoostRegressor(verbose=False)\n",
    "}\n",
    "\n",
    "param_grids = {\n",
    "    'LGBMRegressor': {\n",
    "        'num_leaves': [7, 14, 21],\n",
    "        'learning_rate': [0.1, 0.03],\n",
    "        'max_depth': [-1, 3, 5],\n",
    "        'n_estimators': [50, 100, 150],\n",
    "    },\n",
    "    'CatBoostRegressor': {\n",
    "        'iterations': [50, 100, 150],\n",
    "        'depth': [4, 6, 8],\n",
    "        'learning_rate': [0.1, 0.03],\n",
    "        'l2_leaf_reg': [1, 3, 5],\n",
    "    }\n",
    "}\n",
    "\n",
    "# Фиксируем значения валидационной выборки при помощи PredefinedSplit. Таким образом \n",
    "# мы можем использовать GridSearchCV без кросс-валидации.\n",
    "split_index = np.zeros(X_train.shape[0])\n",
    "split_index[:int(X_train.shape[0] * 0.7888)] = -1\n",
    "ps = PredefinedSplit(split_index)\n",
    "\n",
    "best_params = dict()\n",
    "for model_name in models.keys():\n",
    "    model = models[model_name]\n",
    "    param_grid = param_grids[model_name]\n",
    "    grid_search = GridSearchCV(\n",
    "        estimator=model,\n",
    "        param_grid=param_grid,\n",
    "        cv=ps,\n",
    "        scoring='neg_mean_squared_error',\n",
    "        return_train_score=False,\n",
    "    )\n",
    "\n",
    "    grid_search.fit(X_train, y_train)\n",
    "    preds = grid_search.predict(X_test)\n",
    "    \n",
    "    best_params[model_name] = grid_search.best_params_\n",
    "\n",
    "    print(f'Best params for {model_name}: {grid_search.best_params_}')\n",
    "    print(f'Best score for {model_name} with best parameters: {grid_search.best_score_}')"
   ]
  },
  {
   "cell_type": "markdown",
   "metadata": {},
   "source": [
    "\n",
    "<div class=\"alert alert-block alert-danger\">\n",
    "\n",
    "<b>Ошибка:</b> Ты используешь кросс-валидацию - в случае с временным рядом нужно задать кросс-валидацию TimeSeriesSplit (иначе мы будем заглядывать в будущее).\n",
    "    \n"
   ]
  },
  {
   "cell_type": "markdown",
   "metadata": {},
   "source": [
    "<div class=\"alert alert-block alert-warning\">\n",
    "<b>Изменения:</b> Функция для подбора гиперпараметров осталась той же - GridSearchCV. Это второе разделение данных, первым шагом я вытащил тестовую выборку, потом фиксированным сплитом я создал валидационную и тренировочную выборки, валидационная выборка составила примерно 20% от оригинальной. Благодаря тому что фиксированные значения для тренировочной и валидационной выборок передаются в функцию GridSearch то кросс валидация не происходит.\n",
    "</div>"
   ]
  },
  {
   "cell_type": "markdown",
   "metadata": {},
   "source": [
    "<div class=\"alert alert-block alert-success\">\n",
    "<b>Успех[2]:</b> Принял, спасибо за разъяснение, не популярное решение, но вполне имеет место быть.\n",
    "</div>\n",
    "\n"
   ]
  },
  {
   "cell_type": "markdown",
   "metadata": {},
   "source": [
    "<div class=\"alert alert-block alert-info\">\n",
    "<b>Совет:</b> Не совсем понимаю, зачем нужна кросс-валидаци если при разбиении ты разделил данные на 3 выборки\n",
    "\n",
    "</div>\n"
   ]
  },
  {
   "cell_type": "markdown",
   "metadata": {},
   "source": [
    "Лучшим показал себя CatBoost, со счетом -69.87."
   ]
  },
  {
   "cell_type": "markdown",
   "metadata": {},
   "source": [
    "\n",
    "<div class=\"alert alert-block alert-danger\">\n",
    "\n",
    "<b>Ошибка[2]:</b> Вместо предсказания на тестовой выборке, лучше использовать `.best_score`.  Тестовая выборка это имитация данных, которые нам будут приходить в будущем, и мы проводим оценивае на такой выборке, чтобы посмотреть, как модель будет работать на данных, под которые мы модель не подгоняли.  Данное оценивание принято делать только для одной лучшей модели, после того как мы ее выбираем для тестирования\n",
    "\n",
    "    \n"
   ]
  },
  {
   "cell_type": "markdown",
   "metadata": {},
   "source": [
    "<div class=\"alert alert-block alert-warning\">\n",
    "<b>Изменения:</b> Поменял RMSE на best_score.\n",
    "</div>"
   ]
  },
  {
   "cell_type": "markdown",
   "metadata": {},
   "source": [
    "<div class=\"alert alert-block alert-info\">\n",
    "<b>Совет[3]:</b> Тогда и от этого можно избавиться preds = grid_search.predict(X_test)"
   ]
  },
  {
   "cell_type": "markdown",
   "metadata": {},
   "source": [
    "## Тестирование"
   ]
  },
  {
   "cell_type": "code",
   "execution_count": 66,
   "metadata": {
    "ExecuteTime": {
     "end_time": "2023-10-26T22:07:10.352945164Z",
     "start_time": "2023-10-26T22:07:10.071310942Z"
    }
   },
   "outputs": [
    {
     "name": "stdout",
     "output_type": "stream",
     "text": [
      "Лучшие параметры для CatBoost {'depth': 6, 'iterations': 150, 'l2_leaf_reg': 1, 'learning_rate': 0.1}\n"
     ]
    },
    {
     "name": "stderr",
     "output_type": "stream",
     "text": [
      "Custom logger is already specified. Specify more than one logger at same time is not thread safe."
     ]
    },
    {
     "name": "stdout",
     "output_type": "stream",
     "text": [
      "RMSE for LGBMRegressor with best parameters: 11.303460236904172\n"
     ]
    }
   ],
   "source": [
    "print('Лучшие параметры для CatBoost', best_params.get('CatBoostRegressor'))\n",
    "model = CatBoostRegressor(**best_params.get('CatBoostRegressor'), verbose=False)\n",
    "model.fit(X_train, y_train)\n",
    "predictions = model.predict(X_test)\n",
    "rmse = np.sqrt(mean_squared_error(y_test, predictions))\n",
    "print(f'RMSE for LGBMRegressor with best parameters: {rmse}')"
   ]
  },
  {
   "cell_type": "markdown",
   "metadata": {},
   "source": [
    "<div class=\"alert alert-block alert-success\">\n",
    "<b>Успех[3]:</b> На тестовой получено хорошее качество\n",
    "</div>\n",
    "\n"
   ]
  },
  {
   "cell_type": "markdown",
   "metadata": {},
   "source": [
    "<div class=\"alert alert-block alert-info\">\n",
    "<b>Совет:</b>  Не путай пожалуйста смысловые значение тестовой и валидационной выборки. Тестирование проводят на тестовой, а не валидационной.\n",
    "</div>\n"
   ]
  },
  {
   "cell_type": "markdown",
   "metadata": {},
   "source": [
    "Результаты получились даже лучше чем на тестовой выборке.\n",
    "__Вывод__: В результате работы был проведён исследовательский анализ данных а также создана модель которая подходит под требования заказчика. Модель более чем в 4 раза ниже верхней границы ошибки установленной заказчиком."
   ]
  },
  {
   "cell_type": "markdown",
   "metadata": {},
   "source": [
    "## Чек-лист проверки"
   ]
  },
  {
   "cell_type": "markdown",
   "metadata": {},
   "source": [
    "- [x]  Jupyter Notebook открыт\n",
    "- [x]  Весь код выполняется без ошибок\n",
    "- [x]  Ячейки с кодом расположены в порядке исполнения\n",
    "- [x]  Данные загружены и подготовлены\n",
    "- [x]  Данные проанализированы\n",
    "- [x]  Модель обучена, гиперпараметры подобраны\n",
    "- [x]  Качество моделей проверено, выводы сделаны\n",
    "- [x]  Значение *RMSE* на тестовой выборке не больше 48"
   ]
  }
 ],
 "metadata": {
  "ExecuteTimeLog": [
   {
    "duration": 1436,
    "start_time": "2023-10-26T00:43:34.039Z"
   },
   {
    "duration": 139,
    "start_time": "2023-10-26T00:43:35.477Z"
   },
   {
    "duration": 10,
    "start_time": "2023-10-26T00:43:35.618Z"
   },
   {
    "duration": 19,
    "start_time": "2023-10-26T00:43:35.629Z"
   },
   {
    "duration": 12,
    "start_time": "2023-10-26T00:43:35.649Z"
   },
   {
    "duration": 13,
    "start_time": "2023-10-26T00:43:35.662Z"
   },
   {
    "duration": 9,
    "start_time": "2023-10-26T00:43:35.676Z"
   },
   {
    "duration": 7,
    "start_time": "2023-10-26T00:43:35.686Z"
   },
   {
    "duration": 14,
    "start_time": "2023-10-26T00:43:35.695Z"
   },
   {
    "duration": 216,
    "start_time": "2023-10-26T00:43:35.711Z"
   },
   {
    "duration": 196,
    "start_time": "2023-10-26T00:43:35.928Z"
   },
   {
    "duration": 436,
    "start_time": "2023-10-26T00:43:36.125Z"
   },
   {
    "duration": 6,
    "start_time": "2023-10-26T00:43:36.563Z"
   },
   {
    "duration": 249,
    "start_time": "2023-10-26T00:43:36.570Z"
   },
   {
    "duration": 8,
    "start_time": "2023-10-26T00:43:36.820Z"
   },
   {
    "duration": 7390,
    "start_time": "2023-10-26T00:43:36.839Z"
   },
   {
    "duration": 348,
    "start_time": "2023-10-26T00:43:44.230Z"
   },
   {
    "duration": 3,
    "start_time": "2023-10-26T00:44:24.288Z"
   },
   {
    "duration": 90,
    "start_time": "2023-10-26T00:44:24.293Z"
   },
   {
    "duration": 8,
    "start_time": "2023-10-26T00:44:24.385Z"
   },
   {
    "duration": 9,
    "start_time": "2023-10-26T00:44:24.395Z"
   },
   {
    "duration": 12,
    "start_time": "2023-10-26T00:44:24.405Z"
   },
   {
    "duration": 13,
    "start_time": "2023-10-26T00:44:24.418Z"
   },
   {
    "duration": 8,
    "start_time": "2023-10-26T00:44:24.432Z"
   },
   {
    "duration": 7,
    "start_time": "2023-10-26T00:44:24.441Z"
   },
   {
    "duration": 5,
    "start_time": "2023-10-26T00:44:24.450Z"
   },
   {
    "duration": 190,
    "start_time": "2023-10-26T00:44:24.457Z"
   },
   {
    "duration": 139,
    "start_time": "2023-10-26T00:44:24.649Z"
   },
   {
    "duration": 343,
    "start_time": "2023-10-26T00:44:24.789Z"
   },
   {
    "duration": 9,
    "start_time": "2023-10-26T00:44:25.134Z"
   },
   {
    "duration": 255,
    "start_time": "2023-10-26T00:44:25.144Z"
   },
   {
    "duration": 8,
    "start_time": "2023-10-26T00:44:25.400Z"
   },
   {
    "duration": 7264,
    "start_time": "2023-10-26T00:44:25.409Z"
   },
   {
    "duration": 31,
    "start_time": "2023-10-26T00:44:32.674Z"
   },
   {
    "duration": 52,
    "start_time": "2023-10-26T07:10:59.722Z"
   },
   {
    "duration": 3688,
    "start_time": "2023-10-26T07:11:02.284Z"
   },
   {
    "duration": 155,
    "start_time": "2023-10-26T07:11:05.974Z"
   },
   {
    "duration": 13,
    "start_time": "2023-10-26T07:11:06.131Z"
   },
   {
    "duration": 52,
    "start_time": "2023-10-26T07:11:06.146Z"
   },
   {
    "duration": 27,
    "start_time": "2023-10-26T07:11:06.201Z"
   },
   {
    "duration": 35,
    "start_time": "2023-10-26T07:11:06.230Z"
   },
   {
    "duration": 22,
    "start_time": "2023-10-26T07:11:06.266Z"
   },
   {
    "duration": 31,
    "start_time": "2023-10-26T07:11:06.290Z"
   },
   {
    "duration": 45,
    "start_time": "2023-10-26T07:11:06.322Z"
   },
   {
    "duration": 271,
    "start_time": "2023-10-26T07:11:06.369Z"
   },
   {
    "duration": 242,
    "start_time": "2023-10-26T07:11:06.641Z"
   },
   {
    "duration": 497,
    "start_time": "2023-10-26T07:11:06.885Z"
   },
   {
    "duration": 8,
    "start_time": "2023-10-26T07:11:07.384Z"
   },
   {
    "duration": 304,
    "start_time": "2023-10-26T07:11:07.394Z"
   },
   {
    "duration": 7,
    "start_time": "2023-10-26T07:11:07.701Z"
   },
   {
    "duration": 50,
    "start_time": "2023-10-26T07:11:07.710Z"
   },
   {
    "duration": 8,
    "start_time": "2023-10-26T07:11:21.812Z"
   },
   {
    "duration": 1858,
    "start_time": "2023-10-26T22:10:42.824Z"
   },
   {
    "duration": 229,
    "start_time": "2023-10-26T22:10:44.687Z"
   },
   {
    "duration": 22,
    "start_time": "2023-10-26T22:10:44.918Z"
   },
   {
    "duration": 17,
    "start_time": "2023-10-26T22:10:44.942Z"
   },
   {
    "duration": 16,
    "start_time": "2023-10-26T22:10:44.962Z"
   },
   {
    "duration": 41,
    "start_time": "2023-10-26T22:10:44.980Z"
   },
   {
    "duration": 50,
    "start_time": "2023-10-26T22:10:45.024Z"
   },
   {
    "duration": 36,
    "start_time": "2023-10-26T22:10:45.077Z"
   },
   {
    "duration": 13,
    "start_time": "2023-10-26T22:10:45.115Z"
   },
   {
    "duration": 330,
    "start_time": "2023-10-26T22:10:45.131Z"
   },
   {
    "duration": 348,
    "start_time": "2023-10-26T22:10:45.462Z"
   },
   {
    "duration": 545,
    "start_time": "2023-10-26T22:10:45.813Z"
   },
   {
    "duration": 9,
    "start_time": "2023-10-26T22:10:46.360Z"
   },
   {
    "duration": 323,
    "start_time": "2023-10-26T22:10:46.371Z"
   },
   {
    "duration": 3705,
    "start_time": "2023-10-26T22:10:46.695Z"
   },
   {
    "duration": 100,
    "start_time": "2023-10-26T22:10:50.408Z"
   },
   {
    "duration": 18,
    "start_time": "2023-10-26T22:10:50.510Z"
   },
   {
    "duration": 12,
    "start_time": "2023-10-26T22:10:50.530Z"
   },
   {
    "duration": 3588049,
    "start_time": "2023-10-26T22:10:50.544Z"
   },
   {
    "duration": 9911,
    "start_time": "2023-10-26T23:10:38.595Z"
   },
   {
    "duration": 301731,
    "start_time": "2023-10-26T23:31:22.371Z"
   },
   {
    "duration": 9840,
    "start_time": "2023-10-27T08:43:10.898Z"
   },
   {
    "duration": 444,
    "start_time": "2023-10-27T09:15:37.145Z"
   },
   {
    "duration": 2557,
    "start_time": "2023-10-27T09:16:36.443Z"
   },
   {
    "duration": 853,
    "start_time": "2023-10-27T09:16:39.003Z"
   },
   {
    "duration": 13,
    "start_time": "2023-10-27T09:16:39.857Z"
   },
   {
    "duration": 31,
    "start_time": "2023-10-27T09:16:39.871Z"
   },
   {
    "duration": 17,
    "start_time": "2023-10-27T09:16:39.904Z"
   },
   {
    "duration": 15,
    "start_time": "2023-10-27T09:16:39.922Z"
   },
   {
    "duration": 20,
    "start_time": "2023-10-27T09:16:39.939Z"
   },
   {
    "duration": 28,
    "start_time": "2023-10-27T09:16:39.960Z"
   },
   {
    "duration": 32,
    "start_time": "2023-10-27T09:16:39.990Z"
   },
   {
    "duration": 268,
    "start_time": "2023-10-27T09:16:40.024Z"
   },
   {
    "duration": 302,
    "start_time": "2023-10-27T09:16:40.294Z"
   },
   {
    "duration": 440,
    "start_time": "2023-10-27T09:16:40.597Z"
   },
   {
    "duration": 7,
    "start_time": "2023-10-27T09:16:41.039Z"
   },
   {
    "duration": 317,
    "start_time": "2023-10-27T09:16:41.048Z"
   },
   {
    "duration": 2387,
    "start_time": "2023-10-27T09:16:41.367Z"
   },
   {
    "duration": 104,
    "start_time": "2023-10-27T09:16:43.846Z"
   },
   {
    "duration": 36,
    "start_time": "2023-10-27T09:16:43.952Z"
   },
   {
    "duration": 383,
    "start_time": "2023-10-27T09:16:43.989Z"
   },
   {
    "duration": 24312,
    "start_time": "2023-10-27T09:16:44.374Z"
   },
   {
    "duration": 0,
    "start_time": "2023-10-27T09:17:08.688Z"
   },
   {
    "duration": 10,
    "start_time": "2023-10-27T10:38:08.261Z"
   },
   {
    "duration": 4,
    "start_time": "2023-10-27T10:38:36.170Z"
   },
   {
    "duration": 4,
    "start_time": "2023-10-27T10:38:39.609Z"
   },
   {
    "duration": 5,
    "start_time": "2023-10-27T10:39:28.427Z"
   },
   {
    "duration": 426,
    "start_time": "2023-10-27T10:39:28.433Z"
   },
   {
    "duration": 16,
    "start_time": "2023-10-27T10:39:28.861Z"
   },
   {
    "duration": 30,
    "start_time": "2023-10-27T10:39:28.881Z"
   },
   {
    "duration": 19,
    "start_time": "2023-10-27T10:39:28.914Z"
   },
   {
    "duration": 18,
    "start_time": "2023-10-27T10:39:28.935Z"
   },
   {
    "duration": 29,
    "start_time": "2023-10-27T10:39:28.956Z"
   },
   {
    "duration": 26,
    "start_time": "2023-10-27T10:39:28.987Z"
   },
   {
    "duration": 21,
    "start_time": "2023-10-27T10:39:29.015Z"
   },
   {
    "duration": 282,
    "start_time": "2023-10-27T10:39:29.038Z"
   },
   {
    "duration": 151,
    "start_time": "2023-10-27T10:39:29.322Z"
   },
   {
    "duration": 409,
    "start_time": "2023-10-27T10:39:29.475Z"
   },
   {
    "duration": 7,
    "start_time": "2023-10-27T10:39:29.886Z"
   },
   {
    "duration": 303,
    "start_time": "2023-10-27T10:39:29.895Z"
   },
   {
    "duration": 1350,
    "start_time": "2023-10-27T10:39:30.200Z"
   },
   {
    "duration": 196,
    "start_time": "2023-10-27T10:39:31.552Z"
   },
   {
    "duration": 28,
    "start_time": "2023-10-27T10:39:31.750Z"
   },
   {
    "duration": 31,
    "start_time": "2023-10-27T10:39:31.780Z"
   },
   {
    "duration": 841,
    "start_time": "2023-10-27T10:39:31.813Z"
   },
   {
    "duration": 0,
    "start_time": "2023-10-27T10:39:32.656Z"
   },
   {
    "duration": 3,
    "start_time": "2023-10-27T10:39:50.787Z"
   },
   {
    "duration": 699,
    "start_time": "2023-10-27T10:39:50.796Z"
   },
   {
    "duration": 12,
    "start_time": "2023-10-27T10:39:51.497Z"
   },
   {
    "duration": 26,
    "start_time": "2023-10-27T10:39:51.511Z"
   },
   {
    "duration": 44,
    "start_time": "2023-10-27T10:39:51.539Z"
   },
   {
    "duration": 22,
    "start_time": "2023-10-27T10:39:51.586Z"
   },
   {
    "duration": 21,
    "start_time": "2023-10-27T10:39:51.609Z"
   },
   {
    "duration": 50,
    "start_time": "2023-10-27T10:39:51.631Z"
   },
   {
    "duration": 35,
    "start_time": "2023-10-27T10:39:51.682Z"
   },
   {
    "duration": 288,
    "start_time": "2023-10-27T10:39:51.719Z"
   },
   {
    "duration": 162,
    "start_time": "2023-10-27T10:39:52.009Z"
   },
   {
    "duration": 426,
    "start_time": "2023-10-27T10:39:52.173Z"
   },
   {
    "duration": 7,
    "start_time": "2023-10-27T10:39:52.601Z"
   },
   {
    "duration": 322,
    "start_time": "2023-10-27T10:39:52.609Z"
   },
   {
    "duration": 2221,
    "start_time": "2023-10-27T10:39:52.933Z"
   },
   {
    "duration": 192,
    "start_time": "2023-10-27T10:39:55.156Z"
   },
   {
    "duration": 66,
    "start_time": "2023-10-27T10:39:55.350Z"
   },
   {
    "duration": 188,
    "start_time": "2023-10-27T10:39:55.417Z"
   },
   {
    "duration": 191517,
    "start_time": "2023-10-27T10:39:55.608Z"
   },
   {
    "duration": 14518,
    "start_time": "2023-10-27T10:43:07.127Z"
   },
   {
    "duration": 4,
    "start_time": "2023-10-27T10:48:19.866Z"
   },
   {
    "duration": 9079,
    "start_time": "2023-10-27T10:54:01.478Z"
   },
   {
    "duration": 4525,
    "start_time": "2023-10-27T10:54:35.998Z"
   },
   {
    "duration": 3415,
    "start_time": "2023-10-27T10:54:59.499Z"
   },
   {
    "duration": 8303,
    "start_time": "2023-10-27T13:00:16.889Z"
   },
   {
    "duration": 633,
    "start_time": "2023-10-27T13:00:25.194Z"
   },
   {
    "duration": 12,
    "start_time": "2023-10-27T13:00:25.828Z"
   },
   {
    "duration": 32,
    "start_time": "2023-10-27T13:00:25.842Z"
   },
   {
    "duration": 15,
    "start_time": "2023-10-27T13:00:25.877Z"
   },
   {
    "duration": 14,
    "start_time": "2023-10-27T13:00:25.893Z"
   },
   {
    "duration": 11,
    "start_time": "2023-10-27T13:00:25.909Z"
   },
   {
    "duration": 22,
    "start_time": "2023-10-27T13:00:25.922Z"
   },
   {
    "duration": 15,
    "start_time": "2023-10-27T13:00:25.946Z"
   },
   {
    "duration": 260,
    "start_time": "2023-10-27T13:00:25.963Z"
   },
   {
    "duration": 344,
    "start_time": "2023-10-27T13:00:26.224Z"
   },
   {
    "duration": 535,
    "start_time": "2023-10-27T13:00:26.570Z"
   },
   {
    "duration": 8,
    "start_time": "2023-10-27T13:00:27.107Z"
   },
   {
    "duration": 413,
    "start_time": "2023-10-27T13:00:27.118Z"
   },
   {
    "duration": 4914,
    "start_time": "2023-10-27T13:00:27.533Z"
   },
   {
    "duration": 107,
    "start_time": "2023-10-27T13:00:32.452Z"
   },
   {
    "duration": 29,
    "start_time": "2023-10-27T13:00:32.561Z"
   },
   {
    "duration": 26,
    "start_time": "2023-10-27T13:00:32.592Z"
   },
   {
    "duration": 52,
    "start_time": "2023-10-27T13:00:32.620Z"
   },
   {
    "duration": 5,
    "start_time": "2023-10-27T13:01:15.876Z"
   },
   {
    "duration": 119,
    "start_time": "2023-10-27T13:01:24.638Z"
   },
   {
    "duration": 9,
    "start_time": "2023-10-27T13:01:27.525Z"
   },
   {
    "duration": 521,
    "start_time": "2023-10-27T13:01:31.642Z"
   },
   {
    "duration": 10,
    "start_time": "2023-10-27T13:01:34.274Z"
   },
   {
    "duration": 4,
    "start_time": "2023-10-27T13:01:51.850Z"
   },
   {
    "duration": 6,
    "start_time": "2023-10-27T13:01:55.238Z"
   },
   {
    "duration": 5,
    "start_time": "2023-10-27T13:02:02.668Z"
   },
   {
    "duration": 4,
    "start_time": "2023-10-27T13:02:04.229Z"
   },
   {
    "duration": 4,
    "start_time": "2023-10-27T13:02:10.071Z"
   },
   {
    "duration": 3,
    "start_time": "2023-10-27T13:02:11.694Z"
   },
   {
    "duration": 6,
    "start_time": "2023-10-27T13:02:13.337Z"
   },
   {
    "duration": 4,
    "start_time": "2023-10-27T13:02:14.714Z"
   },
   {
    "duration": 5,
    "start_time": "2023-10-27T13:02:16.150Z"
   },
   {
    "duration": 26,
    "start_time": "2023-10-27T13:02:22.520Z"
   }
  ],
  "kernelspec": {
   "display_name": "Python 3 (ipykernel)",
   "language": "python",
   "name": "python3"
  },
  "language_info": {
   "codemirror_mode": {
    "name": "ipython",
    "version": 3
   },
   "file_extension": ".py",
   "mimetype": "text/x-python",
   "name": "python",
   "nbconvert_exporter": "python",
   "pygments_lexer": "ipython3",
   "version": "3.9.5"
  },
  "toc": {
   "base_numbering": 1,
   "nav_menu": {},
   "number_sections": true,
   "sideBar": true,
   "skip_h1_title": true,
   "title_cell": "Содержание",
   "title_sidebar": "Contents",
   "toc_cell": true,
   "toc_position": {},
   "toc_section_display": true,
   "toc_window_display": true
  }
 },
 "nbformat": 4,
 "nbformat_minor": 2
}
