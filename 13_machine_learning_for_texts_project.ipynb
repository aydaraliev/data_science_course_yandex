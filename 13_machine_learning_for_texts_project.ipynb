{
 "cells": [
  {
   "cell_type": "markdown",
   "metadata": {},
   "source": [
    "# Проект для «Викишоп»(BERT)"
   ]
  },
  {
   "cell_type": "markdown",
   "metadata": {},
   "source": [
    "Интернет-магазин «Викишоп» запускает новый сервис. Теперь пользователи могут редактировать и дополнять описания товаров, как в вики-сообществах. То есть клиенты предлагают свои правки и комментируют изменения других. Магазину нужен инструмент, который будет искать токсичные комментарии и отправлять их на модерацию. \n",
    "\n",
    "Обучите модель классифицировать комментарии на позитивные и негативные. В вашем распоряжении набор данных с разметкой о токсичности правок.\n",
    "\n",
    "Постройте модель со значением метрики качества *F1* не меньше 0.75. \n",
    "\n",
    "**Инструкция по выполнению проекта**\n",
    "\n",
    "1. Загрузите и подготовьте данные.\n",
    "2. Обучите разные модели. \n",
    "3. Сделайте выводы.\n",
    "\n",
    "Для выполнения проекта применять *BERT* необязательно, но вы можете попробовать.\n",
    "\n",
    "**Описание данных**\n",
    "\n",
    "Данные находятся в файле `toxic_comments.csv`. Столбец *text* в нём содержит текст комментария, а *toxic* — целевой признак."
   ]
  },
  {
   "cell_type": "markdown",
   "metadata": {},
   "source": [
    "## Подготовка"
   ]
  },
  {
   "cell_type": "code",
   "execution_count": 1,
   "metadata": {
    "ExecuteTime": {
     "end_time": "2024-02-20T19:47:35.981839175Z",
     "start_time": "2024-02-20T19:47:35.946946543Z"
    }
   },
   "outputs": [],
   "source": [
    "# !pip install numpy -q\n",
    "# !pip install tqdm -q\n",
    "# !pip install scikit-learn -q\n",
    "# !pip install torch -q\n",
    "# !pip install transformers -q\n",
    "# !pip install xgboost -q"
   ]
  },
  {
   "cell_type": "code",
   "execution_count": 2,
   "metadata": {
    "ExecuteTime": {
     "end_time": "2024-02-20T19:47:39.430755333Z",
     "start_time": "2024-02-20T19:47:35.966275041Z"
    }
   },
   "outputs": [],
   "source": [
    "import warnings\n",
    "import re\n",
    "import numpy as np\n",
    "import pandas as pd\n",
    "import torch\n",
    "import matplotlib.pyplot as plt\n",
    "from tqdm import notebook\n",
    "from sklearn.linear_model import LogisticRegression\n",
    "from sklearn.ensemble import RandomForestClassifier\n",
    "from sklearn.model_selection import train_test_split, GridSearchCV\n",
    "from sklearn.metrics import accuracy_score, precision_score, recall_score, f1_score, make_scorer\n",
    "from xgboost import XGBClassifier\n",
    "from transformers import AutoTokenizer, AutoModelForSequenceClassification"
   ]
  },
  {
   "cell_type": "code",
   "outputs": [],
   "source": [
    "warnings.filterwarnings('ignore', category=UserWarning)"
   ],
   "metadata": {
    "collapsed": false,
    "ExecuteTime": {
     "end_time": "2024-02-20T19:47:39.432895235Z",
     "start_time": "2024-02-20T19:47:39.430692476Z"
    }
   },
   "execution_count": 3
  },
  {
   "cell_type": "code",
   "execution_count": 4,
   "metadata": {
    "ExecuteTime": {
     "end_time": "2024-02-20T19:47:40.636602909Z",
     "start_time": "2024-02-20T19:47:39.431063831Z"
    }
   },
   "outputs": [],
   "source": [
    "try: \n",
    "    df = pd.read_csv('toxic_comments.csv')\n",
    "except FileNotFoundError:\n",
    "    df = pd.read_csv('####')"
   ]
  },
  {
   "cell_type": "code",
   "execution_count": 5,
   "metadata": {
    "ExecuteTime": {
     "end_time": "2024-02-20T19:47:41.003770722Z",
     "start_time": "2024-02-20T19:47:40.620566641Z"
    }
   },
   "outputs": [
    {
     "name": "stdout",
     "output_type": "stream",
     "text": [
      "Общая информация о данных\n",
      "<class 'pandas.core.frame.DataFrame'>\n",
      "RangeIndex: 159292 entries, 0 to 159291\n",
      "Data columns (total 3 columns):\n",
      " #   Column      Non-Null Count   Dtype \n",
      "---  ------      --------------   ----- \n",
      " 0   Unnamed: 0  159292 non-null  int64 \n",
      " 1   text        159292 non-null  object\n",
      " 2   toxic       159292 non-null  int64 \n",
      "dtypes: int64(2), object(1)\n",
      "memory usage: 3.6+ MB\n",
      "Описательная статистика\n"
     ]
    },
    {
     "data": {
      "text/plain": "          Unnamed: 0          toxic\ncount  159292.000000  159292.000000\nmean    79725.697242       0.101612\nstd     46028.837471       0.302139\nmin         0.000000       0.000000\n25%     39872.750000       0.000000\n50%     79721.500000       0.000000\n75%    119573.250000       0.000000\nmax    159450.000000       1.000000",
      "text/html": "<div>\n<style scoped>\n    .dataframe tbody tr th:only-of-type {\n        vertical-align: middle;\n    }\n\n    .dataframe tbody tr th {\n        vertical-align: top;\n    }\n\n    .dataframe thead th {\n        text-align: right;\n    }\n</style>\n<table border=\"1\" class=\"dataframe\">\n  <thead>\n    <tr style=\"text-align: right;\">\n      <th></th>\n      <th>Unnamed: 0</th>\n      <th>toxic</th>\n    </tr>\n  </thead>\n  <tbody>\n    <tr>\n      <th>count</th>\n      <td>159292.000000</td>\n      <td>159292.000000</td>\n    </tr>\n    <tr>\n      <th>mean</th>\n      <td>79725.697242</td>\n      <td>0.101612</td>\n    </tr>\n    <tr>\n      <th>std</th>\n      <td>46028.837471</td>\n      <td>0.302139</td>\n    </tr>\n    <tr>\n      <th>min</th>\n      <td>0.000000</td>\n      <td>0.000000</td>\n    </tr>\n    <tr>\n      <th>25%</th>\n      <td>39872.750000</td>\n      <td>0.000000</td>\n    </tr>\n    <tr>\n      <th>50%</th>\n      <td>79721.500000</td>\n      <td>0.000000</td>\n    </tr>\n    <tr>\n      <th>75%</th>\n      <td>119573.250000</td>\n      <td>0.000000</td>\n    </tr>\n    <tr>\n      <th>max</th>\n      <td>159450.000000</td>\n      <td>1.000000</td>\n    </tr>\n  </tbody>\n</table>\n</div>"
     },
     "metadata": {},
     "output_type": "display_data"
    },
    {
     "name": "stdout",
     "output_type": "stream",
     "text": [
      "Взгляд на первые 5 строк\n"
     ]
    },
    {
     "data": {
      "text/plain": "   Unnamed: 0                                               text  toxic\n0           0  Explanation\\nWhy the edits made under my usern...      0\n1           1  D'aww! He matches this background colour I'm s...      0\n2           2  Hey man, I'm really not trying to edit war. It...      0\n3           3  \"\\nMore\\nI can't make any real suggestions on ...      0\n4           4  You, sir, are my hero. Any chance you remember...      0",
      "text/html": "<div>\n<style scoped>\n    .dataframe tbody tr th:only-of-type {\n        vertical-align: middle;\n    }\n\n    .dataframe tbody tr th {\n        vertical-align: top;\n    }\n\n    .dataframe thead th {\n        text-align: right;\n    }\n</style>\n<table border=\"1\" class=\"dataframe\">\n  <thead>\n    <tr style=\"text-align: right;\">\n      <th></th>\n      <th>Unnamed: 0</th>\n      <th>text</th>\n      <th>toxic</th>\n    </tr>\n  </thead>\n  <tbody>\n    <tr>\n      <th>0</th>\n      <td>0</td>\n      <td>Explanation\\nWhy the edits made under my usern...</td>\n      <td>0</td>\n    </tr>\n    <tr>\n      <th>1</th>\n      <td>1</td>\n      <td>D'aww! He matches this background colour I'm s...</td>\n      <td>0</td>\n    </tr>\n    <tr>\n      <th>2</th>\n      <td>2</td>\n      <td>Hey man, I'm really not trying to edit war. It...</td>\n      <td>0</td>\n    </tr>\n    <tr>\n      <th>3</th>\n      <td>3</td>\n      <td>\"\\nMore\\nI can't make any real suggestions on ...</td>\n      <td>0</td>\n    </tr>\n    <tr>\n      <th>4</th>\n      <td>4</td>\n      <td>You, sir, are my hero. Any chance you remember...</td>\n      <td>0</td>\n    </tr>\n  </tbody>\n</table>\n</div>"
     },
     "metadata": {},
     "output_type": "display_data"
    },
    {
     "name": "stdout",
     "output_type": "stream",
     "text": [
      "Проверка на дубликаты\n",
      "Нет дублей\n"
     ]
    }
   ],
   "source": [
    "print('Общая информация о данных')\n",
    "df.info()\n",
    "print('Описательная статистика')\n",
    "display(df.describe())\n",
    "print('Взгляд на первые 5 строк')\n",
    "display(df.head())\n",
    "print('Проверка на дубликаты')\n",
    "print('Нет дублей') if df.duplicated().sum() == 0 else print(df.duplicated().sum()) "
   ]
  },
  {
   "cell_type": "code",
   "execution_count": 6,
   "metadata": {
    "ExecuteTime": {
     "end_time": "2024-02-20T19:47:41.094497774Z",
     "start_time": "2024-02-20T19:47:41.001999026Z"
    }
   },
   "outputs": [
    {
     "data": {
      "text/plain": "toxic\n0    143106\n1     16186\nName: count, dtype: int64"
     },
     "execution_count": 6,
     "metadata": {},
     "output_type": "execute_result"
    }
   ],
   "source": [
    "# Оценим баланс классов\n",
    "df.toxic.value_counts()"
   ]
  },
  {
   "cell_type": "markdown",
   "metadata": {},
   "source": [
    "По результатам предварительного анализа данных можно сделать следующие выводы: Пропусков в данных нет, дубликатов нет, типы данных соответствуют содержанию, целевой признак распределен неравномерно, что может привести к переобучению модели."
   ]
  },
  {
   "cell_type": "markdown",
   "metadata": {},
   "source": [
    "Уменьшим выборку данных"
   ]
  },
  {
   "cell_type": "code",
   "execution_count": 7,
   "metadata": {
    "ExecuteTime": {
     "end_time": "2024-02-20T19:47:41.097956528Z",
     "start_time": "2024-02-20T19:47:41.029619779Z"
    }
   },
   "outputs": [],
   "source": [
    "df_ds = df.sample(frac=0.0225, random_state=400)"
   ]
  },
  {
   "cell_type": "markdown",
   "metadata": {},
   "source": [
    "Посмотрим на распределение длины текстов"
   ]
  },
  {
   "cell_type": "code",
   "execution_count": 8,
   "metadata": {
    "ExecuteTime": {
     "end_time": "2024-02-20T19:47:42.114948394Z",
     "start_time": "2024-02-20T19:47:41.080815581Z"
    }
   },
   "outputs": [
    {
     "data": {
      "text/plain": "<Figure size 640x480 with 1 Axes>",
      "image/png": "[encoded data removed]"
     },
     "metadata": {},
     "output_type": "display_data"
    }
   ],
   "source": [
    "def str_len(s):\n",
    "    pattern = r\"[^a-zA-Z\\n\\s]+\"\n",
    "    cleaned_text = re.sub(pattern, \"\", s)\n",
    "    length = len(re.findall(r\"[\\w']+\", cleaned_text))\n",
    "    return length\n",
    "    \n",
    "lengths = df_ds['text'].apply(lambda s: str_len(s))\n",
    "\n",
    "plt.hist(lengths, bins=100, edgecolor='orange')\n",
    "plt.title(\"Distribution Histogram\")\n",
    "plt.xlabel(\"Lengths\")\n",
    "plt.ylabel(\"Frequency\");"
   ]
  },
  {
   "cell_type": "code",
   "execution_count": 9,
   "metadata": {
    "ExecuteTime": {
     "end_time": "2024-02-20T19:47:42.247438959Z",
     "start_time": "2024-02-20T19:47:42.104564422Z"
    }
   },
   "outputs": [
    {
     "data": {
      "text/plain": "<Figure size 640x480 with 1 Axes>",
      "image/png": "[encoded data removed]"
     },
     "metadata": {},
     "output_type": "display_data"
    }
   ],
   "source": [
    "sorted_data = np.sort(lengths)\n",
    "y = np.arange(1, len(sorted_data) + 1) / len(sorted_data)\n",
    "\n",
    "plt.plot(sorted_data, y, marker='.', linestyle='none')\n",
    "plt.xlabel(\"Values\")\n",
    "plt.ylabel(\"CDF\")\n",
    "plt.title(\"Cumulative Distribution Function (CDF)\")\n",
    "plt.grid(True);"
   ]
  },
  {
   "cell_type": "markdown",
   "metadata": {},
   "source": [
    "Как видно из графика CDF можно задать максимальную длину текста 200 и при этом захватить более 90% текстов по длине без отсечки. Что мы и сделаем."
   ]
  },
  {
   "cell_type": "markdown",
   "metadata": {},
   "source": [
    "Можно приступать к обучению модели"
   ]
  },
  {
   "cell_type": "markdown",
   "metadata": {},
   "source": [
    "## Обучение"
   ]
  },
  {
   "cell_type": "markdown",
   "metadata": {},
   "source": [
    "#### Подготовка данных"
   ]
  },
  {
   "cell_type": "code",
   "execution_count": 10,
   "metadata": {
    "ExecuteTime": {
     "end_time": "2024-02-20T19:49:05.242269996Z",
     "start_time": "2024-02-20T19:47:42.254674224Z"
    }
   },
   "outputs": [],
   "source": [
    "# Инициализируем модель и токенайзер\n",
    "model_name = 'unitary/toxic-bert'\n",
    "tokenizer = AutoTokenizer.from_pretrained(model_name)\n",
    "model = AutoModelForSequenceClassification.from_pretrained(model_name)"
   ]
  },
  {
   "cell_type": "code",
   "execution_count": 11,
   "metadata": {
    "ExecuteTime": {
     "end_time": "2024-02-20T19:49:05.539012648Z",
     "start_time": "2024-02-20T19:49:05.261670834Z"
    }
   },
   "outputs": [],
   "source": [
    "# Что-бы данные сходились с распределением которое мы построили на предыдущем шаге\n",
    "# уберем из них специальные симоволы, кроме некоторых\n",
    "def str_clean(s):\n",
    "    pattern = r\"[^a-zA-Z\\n\\s\\.]+\"\n",
    "    s = s.lower()\n",
    "    return re.sub(pattern, \"\", s)\n",
    "    \n",
    "df_ds['text'] = df_ds['text'].apply(lambda s: str_clean(s))"
   ]
  },
  {
   "cell_type": "code",
   "execution_count": 12,
   "metadata": {
    "ExecuteTime": {
     "end_time": "2024-02-20T19:49:10.150524215Z",
     "start_time": "2024-02-20T19:49:05.492079679Z"
    }
   },
   "outputs": [],
   "source": [
    "# Токенизируем и сделаем паддинг нашего текста\n",
    "max_sequence_length = 200\n",
    "\n",
    "tokenized = df_ds['text'].apply(lambda x: tokenizer.encode(x, add_special_tokens=True, \n",
    "                                                                   max_length=max_sequence_length, \n",
    "                                                                   truncation=True, padding='max_length'))"
   ]
  },
  {
   "cell_type": "code",
   "execution_count": 13,
   "metadata": {
    "ExecuteTime": {
     "end_time": "2024-02-20T19:49:10.363504841Z",
     "start_time": "2024-02-20T19:49:10.184390447Z"
    }
   },
   "outputs": [],
   "source": [
    "# Конвертируем токены в более удобную структуру и создадим маску внимания\n",
    "padded = np.stack(tokenized)\n",
    "attention_mask = np.where(padded != 0, 1, 0)"
   ]
  },
  {
   "cell_type": "markdown",
   "source": [
    "#### Рассчёт эмбедингов"
   ],
   "metadata": {
    "collapsed": false
   }
  },
  {
   "cell_type": "code",
   "execution_count": 14,
   "metadata": {
    "ExecuteTime": {
     "end_time": "2024-02-20T20:33:39.452457146Z",
     "start_time": "2024-02-20T19:49:10.392898596Z"
    }
   },
   "outputs": [
    {
     "data": {
      "text/plain": "  0%|          | 0/71 [00:00<?, ?it/s]",
      "application/vnd.jupyter.widget-view+json": {
       "version_major": 2,
       "version_minor": 0,
       "model_id": "0682d4b24e1843488ddff9cecf974167"
      }
     },
     "metadata": {},
     "output_type": "display_data"
    }
   ],
   "source": [
    "batch_size = 50\n",
    "embeddings = []\n",
    "for i in notebook.tqdm(range(tokenized.shape[0] // batch_size)):\n",
    "        batch = torch.LongTensor(padded[batch_size*i:batch_size*(i+1)]) \n",
    "        attention_mask_batch = torch.LongTensor(attention_mask[batch_size*i:batch_size*(i+1)])\n",
    "        \n",
    "        with torch.no_grad():\n",
    "            batch_embeddings = model(batch, attention_mask=attention_mask_batch)\n",
    "        \n",
    "        embeddings.append(batch_embeddings.logits.numpy())"
   ]
  },
  {
   "cell_type": "code",
   "execution_count": 15,
   "metadata": {
    "ExecuteTime": {
     "end_time": "2024-02-20T20:33:39.573184526Z",
     "start_time": "2024-02-20T20:33:39.465587233Z"
    }
   },
   "outputs": [
    {
     "name": "stdout",
     "output_type": "stream",
     "text": [
      "(3550, 6)\n",
      "(3584, 3)\n"
     ]
    }
   ],
   "source": [
    "print(np.concatenate(embeddings).shape)\n",
    "print(df_ds.shape)"
   ]
  },
  {
   "cell_type": "markdown",
   "metadata": {},
   "source": [
    "При создании эмбедингов пропали 34(3584-3550) текста. Из-за особенностей обработки."
   ]
  },
  {
   "cell_type": "code",
   "execution_count": 16,
   "metadata": {
    "scrolled": true,
    "ExecuteTime": {
     "end_time": "2024-02-20T20:33:39.576101771Z",
     "start_time": "2024-02-20T20:33:39.487175741Z"
    }
   },
   "outputs": [
    {
     "name": "stdout",
     "output_type": "stream",
     "text": [
      "(2485, 6) train_inputs\n",
      "(1065, 6) test_inputs\n",
      "(2485,) train_labels\n",
      "(1065,) test_labels\n"
     ]
    }
   ],
   "source": [
    "# Разобьём данные на выборки.\n",
    "labels = df_ds['toxic'][:3550]\n",
    "features = np.concatenate(embeddings)\n",
    "# Делим данные на выборки\n",
    "train_inputs, test_inputs, train_labels, test_labels = train_test_split(features, labels.values, shuffle=True,\n",
    "                                                                        random_state=400, test_size=0.3)\n",
    "# Оценим размеры выборок\n",
    "print(train_inputs.shape, 'train_inputs')\n",
    "print(test_inputs.shape, 'test_inputs')\n",
    "print(train_labels.shape, 'train_labels')\n",
    "print(test_labels.shape, 'test_labels')"
   ]
  },
  {
   "cell_type": "markdown",
   "metadata": {},
   "source": [
    "#### Логистическая регрессия"
   ]
  },
  {
   "cell_type": "code",
   "execution_count": 17,
   "metadata": {
    "ExecuteTime": {
     "end_time": "2024-02-20T20:33:41.635587734Z",
     "start_time": "2024-02-20T20:33:39.508469266Z"
    }
   },
   "outputs": [
    {
     "name": "stdout",
     "output_type": "stream",
     "text": [
      "Logistic Regression(saga solver)\n",
      "Best parameters: {'C': 1, 'penalty': 'l1'}\n",
      "Best Cross-Validation Score: 0.9200\n",
      "CPU times: user 2.09 s, sys: 25.1 ms, total: 2.11 s\n",
      "Wall time: 2.12 s\n"
     ]
    }
   ],
   "source": [
    "%%time\n",
    "\n",
    "# Инициализируем модель\n",
    "model = LogisticRegression(solver='saga', random_state=400)\n",
    "\n",
    "# Зададим параметры для перебора при поиске оптимальной модели\n",
    "param_grid = {\n",
    "    'C': [0.001, 0.01, 0.1, 1, 10],\n",
    "    'penalty': ['l1', 'l2']\n",
    "}\n",
    "\n",
    "# Зададим скорер\n",
    "f1_scorer = make_scorer(f1_score, average='binary')\n",
    "\n",
    "# Запустим кросс валидацию и перебор параметров на тренировочной выборке\n",
    "grid_search_lr = GridSearchCV(model, param_grid, cv=5, scoring=f1_scorer)\n",
    "grid_search_lr.fit(train_inputs, train_labels)\n",
    "\n",
    "print('Logistic Regression(saga solver)')\n",
    "print(f'Best parameters: {grid_search_lr.best_params_}')\n",
    "best_score = grid_search_lr.best_score_\n",
    "print(f\"Best Cross-Validation Score: {best_score:.4f}\")\n",
    "\n",
    "# Сохраним лучшую модель\n",
    "best_model_log_reg = grid_search_lr.best_estimator_"
   ]
  },
  {
   "cell_type": "markdown",
   "metadata": {},
   "source": [
    "#### RandomForestClassifier"
   ]
  },
  {
   "cell_type": "code",
   "execution_count": 18,
   "metadata": {
    "ExecuteTime": {
     "end_time": "2024-02-20T20:37:07.121607950Z",
     "start_time": "2024-02-20T20:33:41.623678417Z"
    }
   },
   "outputs": [
    {
     "name": "stdout",
     "output_type": "stream",
     "text": [
      "RandomForestClassifier\n",
      "Best parameters: {'max_depth': None, 'min_samples_split': 10, 'n_estimators': 300}\n",
      "Best Cross-Validation Score: 0.9138\n",
      "CPU times: user 3min 14s, sys: 940 ms, total: 3min 15s\n",
      "Wall time: 3min 25s\n"
     ]
    }
   ],
   "source": [
    "%%time\n",
    "\n",
    "# Инициализация модели\n",
    "rf_classifier = RandomForestClassifier(n_estimators=100, random_state=400)\n",
    "\n",
    "# Параметры для перебора при поиске оптимальной модели\n",
    "param_grid = {\n",
    "    'n_estimators': [100, 200, 300],\n",
    "    'max_depth': [None, 1, 5, 10],\n",
    "    'min_samples_split': [2, 5, 10],\n",
    "}\n",
    "\n",
    "# Запустим кросс валидацию и перебор параметров на тренировочной выборке\n",
    "grid_search_rf = GridSearchCV(rf_classifier, param_grid, cv=5, scoring=f1_scorer)\n",
    "grid_search_rf.fit(train_inputs, train_labels)\n",
    "\n",
    "print('RandomForestClassifier')\n",
    "print(f'Best parameters: {grid_search_rf.best_params_}')\n",
    "print(f\"Best Cross-Validation Score: {grid_search_rf.best_score_:.4f}\")\n",
    "\n",
    "# Сохраним лучшую модель\n",
    "best_model_rand_for = grid_search_rf.best_estimator_"
   ]
  },
  {
   "cell_type": "markdown",
   "metadata": {},
   "source": [
    "#### XGBoost"
   ]
  },
  {
   "cell_type": "code",
   "execution_count": 19,
   "metadata": {
    "ExecuteTime": {
     "end_time": "2024-02-20T20:37:19.000622787Z",
     "start_time": "2024-02-20T20:37:07.070574139Z"
    }
   },
   "outputs": [
    {
     "name": "stdout",
     "output_type": "stream",
     "text": [
      "XGBoostClassifier\n",
      "Best parameters: {'learning_rate': 0.1, 'max_depth': 3, 'subsample': 0.8}\n",
      "Best Cross-Validation Score: 0.9116\n",
      "CPU times: user 18.2 s, sys: 496 ms, total: 18.7 s\n",
      "Wall time: 11.9 s\n"
     ]
    }
   ],
   "source": [
    "%%time\n",
    "\n",
    "# Инициализируем классификатор XGBoost\n",
    "xgb_classifier = XGBClassifier(n_estimators=100, random_state=400)\n",
    "\n",
    "# Зададим сетку гиперпараметров и их возможные значения\n",
    "param_grid = {\n",
    "    'max_depth': [3, 4, 5],\n",
    "    'learning_rate': [0.01, 0.1, 0.2],\n",
    "    'subsample': [0.8, 1.0],\n",
    "}\n",
    "\n",
    "# Запустим кросс валидацию и перебор параметров на тренировочной выборке\n",
    "grid_search_xgb = GridSearchCV(xgb_classifier, param_grid, cv=5, scoring=f1_scorer)\n",
    "grid_search_xgb.fit(train_inputs, train_labels)\n",
    "\n",
    "print('XGBoostClassifier')\n",
    "print(f'Best parameters: {grid_search_xgb.best_params_}')\n",
    "best_score = grid_search_xgb.best_score_\n",
    "print(f\"Best Cross-Validation Score: {best_score:.4f}\")\n",
    "best_model_xgb = grid_search_xgb.best_estimator_"
   ]
  },
  {
   "cell_type": "markdown",
   "source": [
    "Лучший результат показала логистическая регрессия."
   ],
   "metadata": {
    "collapsed": false
   }
  },
  {
   "cell_type": "markdown",
   "metadata": {
    "slideshow": {
     "slide_type": ""
    },
    "tags": []
   },
   "source": [
    "#### Логистическая регрессия на тестовой выборке"
   ]
  },
  {
   "cell_type": "code",
   "execution_count": 20,
   "metadata": {
    "ExecuteTime": {
     "end_time": "2024-02-20T20:37:19.082250690Z",
     "start_time": "2024-02-20T20:37:19.001829058Z"
    }
   },
   "outputs": [
    {
     "name": "stdout",
     "output_type": "stream",
     "text": [
      "Logistic Regression:\n",
      "Accuracy: 0.9840\n",
      "Precision: 0.9245\n",
      "Recall: 0.9159\n",
      "F1 Score: 0.9202\n"
     ]
    }
   ],
   "source": [
    "# Make predictions for each model on the test data\n",
    "log_reg_predictions = best_model_log_reg.predict(test_inputs)\n",
    "\n",
    "# Evaluate the models using different metrics\n",
    "log_reg_accuracy = accuracy_score(test_labels, log_reg_predictions)\n",
    "\n",
    "log_reg_precision = precision_score(test_labels, log_reg_predictions)\n",
    "\n",
    "log_reg_recall = recall_score(test_labels, log_reg_predictions)\n",
    "\n",
    "log_reg_f1 = f1_score(test_labels, log_reg_predictions)\n",
    "\n",
    "# Print and compare the evaluation metrics for the three models\n",
    "print(\"Logistic Regression:\")\n",
    "print(f\"Accuracy: {log_reg_accuracy:.4f}\")\n",
    "print(f\"Precision: {log_reg_precision:.4f}\")\n",
    "print(f\"Recall: {log_reg_recall:.4f}\")\n",
    "print(f\"F1 Score: {log_reg_f1:.4f}\")"
   ]
  },
  {
   "cell_type": "markdown",
   "metadata": {},
   "source": [
    "## Выводы"
   ]
  },
  {
   "cell_type": "markdown",
   "metadata": {},
   "source": [
    "По метрике F1 с небольшим отрывом выигрывает логистическая регрессия. По скорости работы также выигрывает логистическая регрессия, в скорость работы входит кросс валидация. На втором месте по F1 метрике случайный лес. На втором месте по скорости работы XGB. Финальное значение F1 метрики которого удалось достичь при помощи логистической регрессии на тестовых данных составляет 0.9200. В итоге оптимальной моделью для классификации комментариев представляется логистическая регрессия."
   ]
  }
 ],
 "metadata": {
  "ExecuteTimeLog": [
   {
    "duration": 39,
    "start_time": "2023-10-31T12:43:27.848Z"
   },
   {
    "duration": 0,
    "start_time": "2023-10-31T12:43:27.889Z"
   },
   {
    "duration": 0,
    "start_time": "2023-10-31T12:43:27.890Z"
   },
   {
    "duration": 0,
    "start_time": "2023-10-31T12:43:27.892Z"
   },
   {
    "duration": 0,
    "start_time": "2023-10-31T12:43:27.893Z"
   },
   {
    "duration": 0,
    "start_time": "2023-10-31T12:43:27.894Z"
   },
   {
    "duration": 0,
    "start_time": "2023-10-31T12:43:27.895Z"
   },
   {
    "duration": 0,
    "start_time": "2023-10-31T12:43:27.896Z"
   },
   {
    "duration": 0,
    "start_time": "2023-10-31T12:43:27.898Z"
   },
   {
    "duration": 0,
    "start_time": "2023-10-31T12:43:27.899Z"
   },
   {
    "duration": 22,
    "start_time": "2023-10-31T12:43:27.952Z"
   },
   {
    "duration": 14570,
    "start_time": "2023-10-31T18:39:51.747Z"
   },
   {
    "duration": 4858,
    "start_time": "2023-10-31T18:40:06.319Z"
   },
   {
    "duration": 3826,
    "start_time": "2023-10-31T18:40:11.179Z"
   },
   {
    "duration": 322,
    "start_time": "2023-10-31T18:40:15.007Z"
   },
   {
    "duration": 7,
    "start_time": "2023-10-31T18:40:15.331Z"
   },
   {
    "duration": 11,
    "start_time": "2023-10-31T18:48:59.425Z"
   },
   {
    "duration": 757,
    "start_time": "2023-10-31T18:49:33.070Z"
   },
   {
    "duration": 872,
    "start_time": "2023-10-31T18:49:38.310Z"
   },
   {
    "duration": 145,
    "start_time": "2023-10-31T18:49:51.862Z"
   },
   {
    "duration": 11,
    "start_time": "2023-10-31T18:52:54.452Z"
   },
   {
    "duration": 690,
    "start_time": "2023-10-31T18:52:58.431Z"
   },
   {
    "duration": 150,
    "start_time": "2023-10-31T18:53:02.570Z"
   },
   {
    "duration": 986,
    "start_time": "2023-10-31T18:54:22.555Z"
   },
   {
    "duration": 12991,
    "start_time": "2023-10-31T18:54:44.410Z"
   },
   {
    "duration": 766,
    "start_time": "2023-10-31T18:55:08.237Z"
   },
   {
    "duration": 14092,
    "start_time": "2023-10-31T18:56:29.453Z"
   },
   {
    "duration": 78,
    "start_time": "2023-10-31T18:57:13.308Z"
   },
   {
    "duration": 22,
    "start_time": "2023-10-31T19:28:27.825Z"
   },
   {
    "duration": 223,
    "start_time": "2023-10-31T19:29:14.537Z"
   },
   {
    "duration": 203,
    "start_time": "2023-10-31T19:29:21.809Z"
   },
   {
    "duration": 17,
    "start_time": "2023-10-31T19:31:42.215Z"
   },
   {
    "duration": 5152,
    "start_time": "2023-10-31T19:31:51.243Z"
   },
   {
    "duration": 273,
    "start_time": "2023-10-31T19:32:02.186Z"
   },
   {
    "duration": 12540,
    "start_time": "2023-10-31T20:04:09.102Z"
   },
   {
    "duration": 4160,
    "start_time": "2023-10-31T20:04:21.644Z"
   },
   {
    "duration": 2118,
    "start_time": "2023-10-31T20:04:25.806Z"
   },
   {
    "duration": 297,
    "start_time": "2023-10-31T20:04:27.927Z"
   },
   {
    "duration": 7,
    "start_time": "2023-10-31T20:04:28.226Z"
   },
   {
    "duration": 12,
    "start_time": "2023-10-31T20:04:28.235Z"
   },
   {
    "duration": 488,
    "start_time": "2023-10-31T20:04:28.250Z"
   },
   {
    "duration": 128,
    "start_time": "2023-10-31T20:04:28.740Z"
   },
   {
    "duration": 12845,
    "start_time": "2023-10-31T20:04:28.869Z"
   },
   {
    "duration": 137,
    "start_time": "2023-10-31T20:04:41.717Z"
   },
   {
    "duration": 2634,
    "start_time": "2023-10-31T20:04:41.856Z"
   },
   {
    "duration": 144,
    "start_time": "2023-10-31T20:04:44.492Z"
   },
   {
    "duration": 43,
    "start_time": "2023-10-31T20:31:42.958Z"
   },
   {
    "duration": 12085,
    "start_time": "2023-10-31T20:31:59.578Z"
   },
   {
    "duration": 4069,
    "start_time": "2023-10-31T20:32:11.665Z"
   },
   {
    "duration": 1934,
    "start_time": "2023-10-31T20:32:15.736Z"
   },
   {
    "duration": 279,
    "start_time": "2023-10-31T20:32:17.672Z"
   },
   {
    "duration": 5,
    "start_time": "2023-10-31T20:32:17.953Z"
   },
   {
    "duration": 11,
    "start_time": "2023-10-31T20:32:17.960Z"
   },
   {
    "duration": 330,
    "start_time": "2023-10-31T20:32:17.972Z"
   },
   {
    "duration": 132,
    "start_time": "2023-10-31T20:32:18.304Z"
   },
   {
    "duration": 12378,
    "start_time": "2023-10-31T20:32:18.437Z"
   },
   {
    "duration": 53,
    "start_time": "2023-10-31T20:32:30.817Z"
   },
   {
    "duration": 1294,
    "start_time": "2023-10-31T20:32:30.872Z"
   },
   {
    "duration": 76,
    "start_time": "2023-10-31T20:32:32.167Z"
   },
   {
    "duration": 12770,
    "start_time": "2023-10-31T21:07:22.637Z"
   },
   {
    "duration": 4424,
    "start_time": "2023-10-31T21:07:35.409Z"
   },
   {
    "duration": 2067,
    "start_time": "2023-10-31T21:07:39.834Z"
   },
   {
    "duration": 274,
    "start_time": "2023-10-31T21:07:41.902Z"
   },
   {
    "duration": 6,
    "start_time": "2023-10-31T21:07:42.178Z"
   },
   {
    "duration": 17,
    "start_time": "2023-10-31T21:07:42.185Z"
   },
   {
    "duration": 327,
    "start_time": "2023-10-31T21:07:42.203Z"
   },
   {
    "duration": 127,
    "start_time": "2023-10-31T21:07:42.532Z"
   },
   {
    "duration": 12152,
    "start_time": "2023-10-31T21:07:42.662Z"
   },
   {
    "duration": 46,
    "start_time": "2023-10-31T21:07:54.816Z"
   },
   {
    "duration": 1156,
    "start_time": "2023-10-31T21:07:54.864Z"
   },
   {
    "duration": 61,
    "start_time": "2023-10-31T21:07:56.022Z"
   },
   {
    "duration": 12097,
    "start_time": "2023-10-31T21:42:36.278Z"
   },
   {
    "duration": 4138,
    "start_time": "2023-10-31T21:42:48.377Z"
   },
   {
    "duration": 2108,
    "start_time": "2023-10-31T21:42:52.517Z"
   },
   {
    "duration": 274,
    "start_time": "2023-10-31T21:42:54.627Z"
   },
   {
    "duration": 12,
    "start_time": "2023-10-31T21:42:54.903Z"
   },
   {
    "duration": 7,
    "start_time": "2023-10-31T21:42:54.916Z"
   },
   {
    "duration": 311,
    "start_time": "2023-10-31T21:42:54.925Z"
   },
   {
    "duration": 114,
    "start_time": "2023-10-31T21:42:55.237Z"
   },
   {
    "duration": 12363,
    "start_time": "2023-10-31T21:42:55.352Z"
   },
   {
    "duration": 47,
    "start_time": "2023-10-31T21:43:07.717Z"
   },
   {
    "duration": 1148,
    "start_time": "2023-10-31T21:43:07.765Z"
   },
   {
    "duration": 59,
    "start_time": "2023-10-31T21:43:08.914Z"
   },
   {
    "duration": 1806099,
    "start_time": "2023-10-31T21:47:43.743Z"
   },
   {
    "duration": 288,
    "start_time": "2023-10-31T22:19:56.083Z"
   },
   {
    "duration": 15,
    "start_time": "2023-10-31T22:20:03.617Z"
   },
   {
    "duration": 3,
    "start_time": "2023-10-31T22:20:35.646Z"
   },
   {
    "duration": 3,
    "start_time": "2023-10-31T22:20:44.814Z"
   },
   {
    "duration": 9,
    "start_time": "2023-10-31T22:21:10.906Z"
   },
   {
    "duration": 6,
    "start_time": "2023-10-31T22:21:16.423Z"
   },
   {
    "duration": 6,
    "start_time": "2023-10-31T22:22:31.902Z"
   },
   {
    "duration": 2,
    "start_time": "2023-10-31T22:23:16.185Z"
   },
   {
    "duration": 19,
    "start_time": "2023-10-31T22:26:38.355Z"
   },
   {
    "duration": 17,
    "start_time": "2023-10-31T22:26:58.045Z"
   },
   {
    "duration": 28,
    "start_time": "2023-10-31T22:27:07.929Z"
   },
   {
    "duration": 24,
    "start_time": "2023-10-31T22:27:25.428Z"
   },
   {
    "duration": 11,
    "start_time": "2023-10-31T22:27:36.622Z"
   },
   {
    "duration": 3,
    "start_time": "2023-10-31T22:35:11.084Z"
   },
   {
    "duration": 81835,
    "start_time": "2023-10-31T22:38:21.255Z"
   },
   {
    "duration": 643205,
    "start_time": "2023-10-31T22:48:21.302Z"
   },
   {
    "duration": 48,
    "start_time": "2023-10-31T23:02:56.141Z"
   },
   {
    "duration": 83800,
    "start_time": "2023-10-31T23:10:48.791Z"
   },
   {
    "duration": 161,
    "start_time": "2023-10-31T23:12:31.654Z"
   },
   {
    "duration": 100,
    "start_time": "2023-10-31T23:14:53.639Z"
   },
   {
    "duration": 2046128,
    "start_time": "2023-10-31T23:15:10.788Z"
   },
   {
    "duration": 3,
    "start_time": "2023-10-31T23:55:35.323Z"
   },
   {
    "duration": 14,
    "start_time": "2023-11-01T00:00:28.697Z"
   },
   {
    "duration": 81674,
    "start_time": "2023-11-01T00:12:36.361Z"
   }
  ],
  "kernelspec": {
   "display_name": "Python 3 (ipykernel)",
   "language": "python",
   "name": "python3"
  },
  "language_info": {
   "codemirror_mode": {
    "name": "ipython",
    "version": 3
   },
   "file_extension": ".py",
   "mimetype": "text/x-python",
   "name": "python",
   "nbconvert_exporter": "python",
   "pygments_lexer": "ipython3",
   "version": "3.9.5"
  },
  "toc": {
   "base_numbering": 1,
   "nav_menu": {},
   "number_sections": true,
   "sideBar": true,
   "skip_h1_title": true,
   "title_cell": "Содержание",
   "title_sidebar": "Contents",
   "toc_cell": true,
   "toc_position": {
    "height": "calc(100% - 180px)",
    "left": "10px",
    "top": "150px",
    "width": "194.391px"
   },
   "toc_section_display": true,
   "toc_window_display": true
  }
 },
 "nbformat": 4,
 "nbformat_minor": 4
}
